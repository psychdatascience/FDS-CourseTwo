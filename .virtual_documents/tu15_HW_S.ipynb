



































import pandas as pd











tiny = pd.DataFrame(dict(a = [1, 2, 3, 3, 4, 5, 5, 5, 6, 3],
                         b = ['a', 'b', 'c', 'c', 'd', 'e', 'e', 'f', 'g', 'c']))





# check our test data frame
tiny





# check .duplicated output
tiny.duplicated(keep=False)





























tiny.loc[2]





tiny.iloc[1,:]














# which things in the rows match?
tiny.loc[0] == tiny.loc[1] 





# which things in the rows match?
tiny.loc[2] == tiny.loc[3] 





# do all the columns match?
all(tiny.loc[2] == tiny.loc[3])

















# loop through the first few rows
for i in range(4) :
    print(tiny.loc[i])








# get the number of rows using shape
nrows = tiny.shape[0]


print(f"{nrows=}")


# loop through all the rows
for i in range(nrows) :
    print(tiny.loc[i])











# get the number of rows using shape
nrows = tiny.shape[0]





same_as_above = [] # list to hold row indexes for dropping





for i in range(1, nrows) :
    if all(tiny.loc[i] == tiny.loc[i-1]) :
        same_as_above.append(i)





same_as_above





new_tiny = tiny.drop(same_as_above)





new_tiny = new_tiny.reset_index(drop=True)





new_tiny

















sm_cancer_dat = pd.read_csv('./data/small_cancer_data.csv')





# get the number of rows using shape
nrows = sm_cancer_dat.shape[0]





same_as_above = [] # list to hold locations for nuking





for i in range(1, nrows) :
    if all(sm_cancer_dat.loc[i] == sm_cancer_dat.loc[i-1]) :
        same_as_above.append(i)





same_as_above





new_sm_cancer_dat = sm_cancer_dat.drop(same_as_above)





new_sm_cancer_dat = new_sm_cancer_dat.reset_index(drop=True)





new_sm_cancer_dat.shape











def trim_dup_entries(df) :
    f_nrows = df.shape[0]
    f_same_as_above = []
    
    for i in range(1, f_nrows) :
        if all(df.loc[i] == df.loc[i-1]) :
            f_same_as_above.append(i)
    
    f_temp = df.drop(f_same_as_above)
    f_sm_cancer_dat = f_temp.reset_index(drop=True)
    
    return f_sm_cancer_dat





newdat = trim_dup_entries(sm_cancer_dat)





newdat.shape



