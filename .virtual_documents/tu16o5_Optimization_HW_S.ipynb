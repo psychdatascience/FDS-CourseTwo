


import numpy as np

# Step 1: Define the quadratic function
def quadratic_function(x, a=1, b=-3, c=2):
    return a * x**2 + b * x + c

# Step 2: Create a range of x values to search
# More help: Generates 100 (is 100 enough or do you need a 1000?) points between 
# a negative value of your choice and another value of yoru choice, positive
x_values = np.linspace(-ADDvalue, ADDvalue, 100)  

# Step 3: Initialize variables to track the minimum value
min_x = None
min_f_x = float('inf')  # Start with a large number

# Step 4: Iterate over x_values and find the minimum function value
### IMPLEMENT YOUR SOLUTION HERE ###

# Step 5: Print the results
print(f"Optimal x: {min_x:.4f}, Minimum f(x): {min_f_x:.4f}")















