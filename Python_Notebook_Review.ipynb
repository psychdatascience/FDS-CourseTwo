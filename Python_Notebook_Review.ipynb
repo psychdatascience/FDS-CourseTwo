{
 "cells": [
  {
   "cell_type": "markdown",
   "id": "1ba09c6e",
   "metadata": {},
   "source": [
    "# FDS II Jupyter Notebook Review\n",
    "\n",
    "## Introduction\n",
    "One of the things that can confuse newcomers that wish to dabble in Python is the huge variety of options – not options for Python *per se*, but options for how to interact with Python. \n",
    "\n",
    "If you use R, then you almost certainly use RStudio as an IDE (Integrated Development Environment); it's pretty much the only game in town. If you use MATLAB, then you use the MATLAB IDE, full stop. \n",
    "\n",
    "With Python, by contrast, there are a dizzying array of options; you can program in Python using \n",
    "\n",
    "* Python in the terminal, \n",
    "* iPython in the terminal, \n",
    "* IDLE, \n",
    "* Thonny, \n",
    "* VS Code, \n",
    "* PyCharm, \n",
    "* Spyder, \n",
    "* etcetera, etcetera, etcetera...\n",
    "\n",
    "Which one should I choose?!?!\n",
    "\n",
    "In this class, we'll use Jupyter notebooks (though we will occasionally give you a glimpse of other options).\n",
    "\n",
    "## Why Jupyter Notebooks?\n",
    "\n",
    "Jupyter notebooks are a great option for a class like this for a couple of main reasons. First, the nature of Jupyter notebooks encourage short chunks of code (in code cells) interspersed with explanitory text (markdown cells). Moreover, when run, the code cells can produce output (such as data graphics) directly in the notebook. This makes Jupyter notebooks great for both teaching and learning coding, because both the code and the results can be presented and digested in small bites.\n",
    "\n",
    "Second, because \n",
    "\n",
    "* the markdown text and the code output are interweaved in a single document, and\n",
    "* this document can be output in a number of formats including pdf and html,\n",
    "\n",
    "Jupyter Notebooks have become a defacto standard tool for data scientists. For small to intermediate sized projects, everything can be done a notebook or a small number of notebooks. For larger projects involving lots of complicated code, the projects itself can be done in something like VS Code or PyCharm, and results and summary can still be presented in Jupyter Notebooks simply by reusing the plotting code from the main project.\n",
    "\n",
    "More minor reasons include the simple easy-to-master interface and ready availability of help due to its ubiquity.\n",
    "\n",
    "For these reasons, Jupyter notebooks provide us with an ideal jumping in point for learning Python and some fundementals of data science!"
   ]
  },
  {
   "cell_type": "markdown",
   "id": "bfe6e103",
   "metadata": {},
   "source": [
    "## Notebook Anatomy"
   ]
  },
  {
   "cell_type": "markdown",
   "id": "487900d5",
   "metadata": {},
   "source": [
    "Notebooks are composed of two things:\n",
    "\n",
    "* code cells - where you write and execute your code\n",
    "* markdown cells - where you write formatted text "
   ]
  },
  {
   "cell_type": "markdown",
   "id": "401f9fb2",
   "metadata": {},
   "source": [
    "### Markdown cells"
   ]
  },
  {
   "cell_type": "markdown",
   "id": "b976515b",
   "metadata": {},
   "source": [
    "Markdown cells hold text that can take advantage of the markdown formatting syntax. Everything so far in this notebook has been made of markdown cells that have \"run\". Just like running code generates output (or an error – haha), running a markdown cell converts the markdown formatting syntax into the desired formatted text."
   ]
  },
  {
   "cell_type": "markdown",
   "id": "0a5a2858",
   "metadata": {},
   "source": [
    "Markdown is also the usual way to make formatted documents on GitHub. And, if you took PSY420 here, I'll the lab materials were done in markdown."
   ]
  },
  {
   "cell_type": "markdown",
   "id": "388043b5",
   "metadata": {},
   "source": [
    "Some common things we use markdown formatting for are"
   ]
  },
  {
   "cell_type": "markdown",
   "id": "5ff218f1",
   "metadata": {},
   "source": [
    "### Headers  \n",
    "\n",
    "and  \n"
   ]
  },
  {
   "cell_type": "markdown",
   "id": "05985e7d",
   "metadata": {},
   "source": [
    "#### subheaders   \\\n",
    "\n",
    "of various sizes"
   ]
  },
  {
   "cell_type": "markdown",
   "id": "59628014",
   "metadata": {},
   "source": [
    "We also use markdown for \n",
    "\n",
    "* lists\n",
    "* that have\n",
    "* bullets\n",
    "\n",
    "and \n",
    "\n",
    "1. numbered\n",
    "2. lists\n",
    "3. too\n",
    "\n",
    "You can also specify *italic*, **bold**, or ***bold italic*** formatting.\n",
    "\n",
    "To make even fancier notebooks, you can add \n",
    "\n",
    "links to, for example [the class Canvas page](https://utexas.instructure.com/courses/1358864)\n",
    "\n",
    "or images, like a screenshot of this notebook:\n",
    "\n",
    "![Screenshot of this notebook](images/JupyterLabScrShootExamp.png))"
   ]
  },
  {
   "cell_type": "markdown",
   "id": "f46b2ad1",
   "metadata": {},
   "source": [
    "So, as you can see, markdown allows us to have a pretty, formatted document that, because it's in a Jupter notebook, allows our nice document to also contain Python code and its output in ***code cells***."
   ]
  },
  {
   "cell_type": "markdown",
   "id": "41f8644f",
   "metadata": {},
   "source": [
    "### Code cells"
   ]
  },
  {
   "cell_type": "markdown",
   "id": "9c726f9c",
   "metadata": {},
   "source": [
    "Code cells are the heart and soul of Jupyter notebooks. Below is a simple code cell to greet you:"
   ]
  },
  {
   "cell_type": "code",
   "execution_count": 1,
   "id": "6f4ad264",
   "metadata": {},
   "outputs": [
    {
     "name": "stdout",
     "output_type": "stream",
     "text": [
      "hello\n"
     ]
    }
   ],
   "source": [
    "print('hello')"
   ]
  },
  {
   "cell_type": "markdown",
   "id": "2fb17e03",
   "metadata": {},
   "source": [
    "Notice that you can indentify a code cell because it has a Python prompt to the left just like the prompt you would see running iPython in a terminal:\n",
    "\n",
    "![the iPython prompt](images/iPythonTerminalPrompt.png)"
   ]
  },
  {
   "cell_type": "markdown",
   "id": "6e87f1b9",
   "metadata": {},
   "source": [
    "Code cells can be as long as you want. If they wanted to, a graduate student could put the entirety of the code to analyze the data from their entire dissertation in one code cell, and it would run just fine. It would defeat the purpose of code cells – the whole point is to break up your code into smaller logical chunks interspersed with text that, in effect, becomes a narration of your analysis. This makes it easier on everybody – your dissertation advisor, your boss, whomever – including, importantly, future-you! "
   ]
  },
  {
   "cell_type": "markdown",
   "id": "7cb7e230",
   "metadata": {},
   "source": [
    "Each code cell is **not** a separate Python program! All the cells in a notebook make one single program. So any given cell is \"aware\" of anything that's happened in cells that have been already run. For example, let's assign a variable in one cell, and check the value and type in another:"
   ]
  },
  {
   "cell_type": "code",
   "execution_count": 1,
   "id": "a5ec56ff",
   "metadata": {},
   "outputs": [],
   "source": [
    "ans = 42"
   ]
  },
  {
   "cell_type": "markdown",
   "id": "f60f3910",
   "metadata": {},
   "source": [
    "Now we'll check its value in a separate cell:"
   ]
  },
  {
   "cell_type": "code",
   "execution_count": 2,
   "id": "22cfc877",
   "metadata": {},
   "outputs": [
    {
     "data": {
      "text/plain": [
       "42"
      ]
     },
     "execution_count": 2,
     "metadata": {},
     "output_type": "execute_result"
    }
   ],
   "source": [
    "ans"
   ]
  },
  {
   "cell_type": "markdown",
   "id": "5892ac54",
   "metadata": {},
   "source": [
    "And now we can check its type in yet another cell (what will that be?):"
   ]
  },
  {
   "cell_type": "code",
   "execution_count": 3,
   "id": "757c10fa",
   "metadata": {},
   "outputs": [
    {
     "data": {
      "text/plain": [
       "int"
      ]
     },
     "execution_count": 3,
     "metadata": {},
     "output_type": "execute_result"
    }
   ],
   "source": [
    "type(ans)"
   ]
  },
  {
   "cell_type": "markdown",
   "id": "e70926ec",
   "metadata": {},
   "source": [
    "Hope you guessed \"int\" :)"
   ]
  },
  {
   "cell_type": "markdown",
   "id": "53d4a18b",
   "metadata": {},
   "source": [
    "## Working With Notebooks"
   ]
  },
  {
   "cell_type": "markdown",
   "id": "ee1ae124",
   "metadata": {},
   "source": [
    "***First, start a notebook so you can play along!*** To start a new notebook, we fire up a terminal window first, navigate to the folder where you want the new notebook, and type \n",
    "\n",
    "`<jupyter notebook>`"
   ]
  },
  {
   "cell_type": "markdown",
   "id": "e45d04d0",
   "metadata": {},
   "source": [
    ">Pro tip for mac users: if you have the path bar visible in your finder windows, you can navigate to your folder of choice, right click (or two-finger click) on its icon in the path bar, and select \"services -> new terminal at folder\" to open a terminal there."
   ]
  },
  {
   "cell_type": "markdown",
   "id": "f35a5537",
   "metadata": {},
   "source": [
    "The notebook \"browser\" or whatever we want to call it should appear in your default web browser. Select \"New\" over from the right to start a new notebook:\n",
    "\n",
    "![New notebook](images/CreateNewNotebook.png)"
   ]
  },
  {
   "cell_type": "markdown",
   "id": "df26801e",
   "metadata": {},
   "source": [
    "This will open a new tab in your browser (or perhaps a new window) with your new notebook in it with one code cell ready to go for you!"
   ]
  },
  {
   "cell_type": "markdown",
   "id": "94121ee2",
   "metadata": {},
   "source": [
    "One potential source of confusion is Jupyter's use of the browser as the graphical interface. To new users, it can imply that we're doing something on the web. *We are not!* If you look at the address bar of your notebook (or of the Jupyter browser thingy), you can see that we are not at an `http://www` or `http://www` address, we are at a `localhost:`, which actually just refers to ***your computer***! We are using Python on your computer, and Jupyter is simply using your browser as a \"front end\" so that the Jupyter people didn't have to re-invent the wheel. "
   ]
  },
  {
   "cell_type": "markdown",
   "id": "6c66071b",
   "metadata": {},
   "source": [
    "### The `shift-enter` shortcut"
   ]
  },
  {
   "cell_type": "markdown",
   "id": "33df06ed",
   "metadata": {},
   "source": [
    "Back to our notebook! Put your cursor in the code cell and type some python! Once you've entered something, hit `shift-enter`. "
   ]
  },
  {
   "cell_type": "code",
   "execution_count": null,
   "id": "36d7eca5",
   "metadata": {},
   "outputs": [],
   "source": [
    "name = input(\"What's your name?\")\n",
    "print(\"Hi \" + name + \"!\")"
   ]
  },
  {
   "cell_type": "markdown",
   "id": "c256789b",
   "metadata": {},
   "source": [
    "`shift-enter` is a shortcut for the hitting the \"Run\" button in the toolbar, or picking \"Cell -> Run Cell and Select Below\" from the menu. We use `shift-enter` so often, that it's probably better to think of the other two as \"long cuts\" for it.\n",
    "\n",
    "Notice that `shift-enter` runs you code *and* selects the cell below it. If there is no cell below, it creates a new code cell below it. \n",
    "\n",
    "The `shift-enter` key combination also runs markdown cells, that is, it renders the markdown into pretty (hopefully) formated text. Let's try that.\n",
    "\n",
    "In your notebook, put your cursor in your code cell. Then, go to the pull-down menu in the toolbar that says \"Code\" and change it to \"Markdown\" (We'll learn a much less cumbersome shortcut for this in a minute).\n",
    "\n",
    "Enter some markdown formatted code in the cell, like this for example:"
   ]
  },
  {
   "cell_type": "markdown",
   "id": "9c02d353",
   "metadata": {},
   "source": [
    "---"
   ]
  },
  {
   "cell_type": "markdown",
   "id": "442562e2",
   "metadata": {},
   "source": [
    "```\n",
    "# Here's a header\n",
    "Here's some text with a word in **bold**\n",
    "## Here's a sub-header\n",
    "*Here's some italic text.*\n",
    "\n",
    "And here\n",
    "\n",
    "* is\n",
    "* a\n",
    "* bullet \n",
    "* list\n",
    "```"
   ]
  },
  {
   "cell_type": "markdown",
   "id": "a05a69c6",
   "metadata": {},
   "source": [
    "---"
   ]
  },
  {
   "cell_type": "markdown",
   "id": "7e544bb7",
   "metadata": {},
   "source": [
    "Beware that, like Python, markdown does care about spaces!"
   ]
  },
  {
   "cell_type": "markdown",
   "id": "7b640d86",
   "metadata": {},
   "source": [
    "There is a guide to markdown formatting (on GitHub) [here](https://docs.github.com/en/get-started/writing-on-github/getting-started-with-writing-and-formatting-on-github/basic-writing-and-formatting-syntax). There are also tons of cheat sheets available online, one of which is in the Canvas module."
   ]
  },
  {
   "cell_type": "markdown",
   "id": "5f60be72",
   "metadata": {},
   "source": [
    "Once you've entered some markdown code, hit `shift-enter`. This will render your markdown cell into nicely formatted text, create a new code cell below it, and make the new cell  your active cell. If the results aren't what you expect, go back and tinker with it. (Check the spaces - some marks require spaces after them, and some require no space be present!)"
   ]
  },
  {
   "cell_type": "markdown",
   "id": "72b607d7",
   "metadata": {},
   "source": [
    "### Telling code from markdown cells at-a-glance"
   ]
  },
  {
   "cell_type": "markdown",
   "id": "fced3e3b",
   "metadata": {},
   "source": [
    "When a markdown cell has been rendered (\"run\"), it looks like regular document text, so the difference between it a code cell is obvious. But when a markdown cell hasn't been run, it's just a gray box, much like a code cell. Here's an un-run markdown cell: "
   ]
  },
  {
   "cell_type": "markdown",
   "id": "51606243",
   "metadata": {},
   "source": []
  },
  {
   "cell_type": "markdown",
   "id": "166a38d1",
   "metadata": {},
   "source": [
    "And here's a code cell:"
   ]
  },
  {
   "cell_type": "code",
   "execution_count": null,
   "id": "7e728dd1",
   "metadata": {},
   "outputs": [],
   "source": []
  },
  {
   "cell_type": "markdown",
   "id": "8d9ee7d4",
   "metadata": {},
   "source": [
    "As we briefly noted above, code cells can. be spotted by the telltale `In []:` "
   ]
  },
  {
   "cell_type": "markdown",
   "id": "94801885",
   "metadata": {},
   "source": [
    "### Edit mode and Command mode"
   ]
  },
  {
   "cell_type": "markdown",
   "id": "8c4f92fb",
   "metadata": {},
   "source": [
    "When you click in the gray area of a code cell or an un-run markdown cell, you'll have an active cursor blinking inside it. This means you are in **Edit** mode, and are ready to enter text into the cell. "
   ]
  },
  {
   "cell_type": "markdown",
   "id": "1179217c",
   "metadata": {},
   "source": [
    "In your notebook, notice that when you click into a cell, the a green border will appear around, including a thick side to the far left. The green border tells you immediately that you are in **Edit** mode in your notebook."
   ]
  },
  {
   "cell_type": "markdown",
   "id": "0ac06ef0",
   "metadata": {},
   "source": [
    "If you now click on the left side of the cell, outside the gray box over by the thick border, the border turns blue. This indicates you are in **Command** mode.\n",
    "\n",
    "You can switch back and forth between the edit and command modes by using the `esc` key to switch to command mode, and the `return` (or `enter`) key to switch back to command mode."
   ]
  },
  {
   "cell_type": "markdown",
   "id": "c4fa5381",
   "metadata": {},
   "source": [
    "#### edit mode\n",
    "Edit mode is, obviously, the mode you need to be in to edit the text in your cells. To jump into edit mode for a markdown cell that's already been run, you can either\n",
    "\n",
    "* double click anywhere on the text, or\n",
    "* click once on the cell to select it in command mode, and then hit `return`\n",
    "\n",
    "Try this in your notebook! Enter edit mode for the markdown cell you ran above, make some changes, and re-run it."
   ]
  },
  {
   "cell_type": "markdown",
   "id": "e1725603",
   "metadata": {},
   "source": [
    "#### command mode"
   ]
  },
  {
   "cell_type": "markdown",
   "id": "bb9dc7ac",
   "metadata": {},
   "source": [
    "Mastering command mode is what really speeds you up in working with Jupyter notebooks! When in command mode, single keystrokes do useful things."
   ]
  },
  {
   "cell_type": "markdown",
   "id": "2c96463c",
   "metadata": {},
   "source": [
    "Like with code, it's often good to break long chunks of text into paragraphs or groups of paragraphs in separate cells in case you want to do some rearranging later on.\n",
    "\n",
    "It is thus really nice to be able to quickly\n",
    "\n",
    "* run a current markdown cell, \n",
    "* turn the new code cell that's automatically created into a markdown cell, and \n",
    "* jump into edit mode to start writing in the new markdown cell. \n",
    "\n",
    "Do do this via the menu is a bit cumbersome, but with command mode it's very fast with a little practice. After hitting `shift-enter` (which, remember, will create a new code cell and put you in edit mode), you can just hit:\n",
    "\n",
    "* `esc` to jump to command mode\n",
    "* `m` to convert the cell to a `m`arkdown cell, and\n",
    "* `enter` to jump back to edit mode.\n",
    "\n",
    "Same goes if you have just run a code cell and want the next cell to be a markdown cell. This is also common, as we often want to write about the results of code in a markdown cell just below the code output.\n",
    "\n",
    "Try this combo a few times in your notebook!"
   ]
  },
  {
   "cell_type": "markdown",
   "id": "43b3997a",
   "metadata": {},
   "source": [
    "Some useful command mode keyboard shortcuts (in no particular order) are:\n",
    "\n",
    "* `a` - insert new cell above\n",
    "* `b` - insert new cell about\n",
    "* `c` - copy cell\n",
    "* `x` - cut cell\n",
    "* `v` - paste cell below current cell\n",
    "* `V` (`shift V`) - paste cell above current cell\n",
    "* `d d` (double click the `d` key) - delete cell\n",
    "\n",
    "Try a few in your notebook!\n",
    "\n",
    "The shortcuts for menu items that have one are shown next to the items. You can view the full set and run any of them by hitting the little keyboard in the toolbar. Try a few of these.\n",
    "\n",
    "(You've no doubt already figured this out, but all the common keyboard shortcuts for your system work as usual when you are in edit mode.)"
   ]
  },
  {
   "cell_type": "markdown",
   "id": "426cd9c8",
   "metadata": {},
   "source": [
    "## Saving your notebook as a PDF file"
   ]
  },
  {
   "cell_type": "markdown",
   "id": "cbd69a86",
   "metadata": {},
   "source": [
    "There are three main ways to save your notebook as a pdf file, just in case your boss or teacher or whomever doesn't speak Jupyter notebook. These are to:\n",
    "\n",
    "* \"Print...\" from the web browser (e.g. Chrome) menu\n",
    "* \"Download as...\" from the notebook file menu\n",
    "* Use `nbconvert` from a terminal command line"
   ]
  },
  {
   "cell_type": "markdown",
   "id": "61356862",
   "metadata": {},
   "source": [
    "### Printing from the web browser"
   ]
  },
  {
   "cell_type": "markdown",
   "id": "77895858",
   "metadata": {},
   "source": [
    "This method is the easiest because it works \"out of the box\". Its only drawback is that it doesn't make the prettiest PDFs on the planet... It generally includes unwanted headers and footers in your document by default (you can change this). It also doesn't handle the placement of figures as well as the other methods."
   ]
  },
  {
   "cell_type": "markdown",
   "id": "772377ea",
   "metadata": {},
   "source": [
    "To export your notebook as a PDF this way is simple. Just\n",
    "\n",
    "* Select \"File -> Print...\" (or hit `command-p`)\n",
    "* Set \"Destination\" to \"Save as PDF\"\n",
    "* Hit \"More settings\"\n",
    "* Deselect \"Options: Headers and footers\" (you only have to do this once)\n",
    "* Hit \"Save\""
   ]
  },
  {
   "cell_type": "markdown",
   "id": "3bca109f",
   "metadata": {},
   "source": [
    "### \"Downloading as...\" or `nbconvert`"
   ]
  },
  {
   "cell_type": "markdown",
   "id": "24e6e1f6",
   "metadata": {},
   "source": [
    "Both of these methods require you to install other stuff to work. The both use Pandoc (the Swiss army knife of document format conversion). Pandoc, in turn, requires some form of LaTeX (which is the typesetting program most widely used in science and engineering)."
   ]
  },
  {
   "cell_type": "markdown",
   "id": "5bf848d3",
   "metadata": {},
   "source": [
    "---"
   ]
  },
  {
   "cell_type": "markdown",
   "id": "31244429",
   "metadata": {},
   "source": [
    "#### Installing nbconvert\n",
    "\n",
    "The instructions for installing nbconvert can be found [here](https://nbconvert.readthedocs.io/en/latest/install.html).\n",
    "\n",
    "Turns out it's very simple though; in a terminal, enter either:\n",
    "\n",
    "`pip install nbconvert`\n",
    "\n",
    "or:\n",
    "\n",
    "`conda install nbconvert`\n",
    "\n",
    "The nbconvert installation webpage also has directions for installing Pandoc and Tex, but it will take you to the same places as below. So you can follow it, or follow below."
   ]
  },
  {
   "cell_type": "markdown",
   "id": "6561b533",
   "metadata": {},
   "source": [
    "#### Installing Pandoc"
   ]
  },
  {
   "cell_type": "markdown",
   "id": "d110ef01",
   "metadata": {},
   "source": [
    "Go to the Pandoc page [here](https://pandoc.org/index.html). Or Google \"installing Pandoc\"\n",
    "\n",
    "Go to the \"Installing\" tab, download the installer for your system. Once the dowload has completed, launch the installer and follow your nose (by which I mean launch the installer and start clicking blue buttons... \"Install\", \"Okay\", \"I agree\", etc...).\n",
    "\n",
    "After the install, if you to a `which pandoc` in a terminal, you should see something like\n",
    "\n",
    "`/usr/local/bin/pandoc`"
   ]
  },
  {
   "cell_type": "markdown",
   "id": "558119d3",
   "metadata": {},
   "source": [
    "#### Installing LaTeX"
   ]
  },
  {
   "cell_type": "markdown",
   "id": "d083bb30",
   "metadata": {},
   "source": [
    "Go to the Tex distributions section of latex-project.org [here](https://www.latex-project.org/get/#tex-distributions) and select your platform. Close any annoying ad windows that pop up...\n",
    "\n",
    "Mac users: you can just go [here](https://tug.org/mactex/mactex-download.html) directly (which is where you'll end up anyway if you do the above). \n",
    "\n",
    "**Warning**: this is a big download; it takes a while, even over the relatively fast campus wifi. so bust out your knitting or play with some Python coding for a bit.\n",
    "\n",
    "Once the download has completed, take a moment to reminisce about how great life was when you were young and the download was just starting. Then, launch the install and start clicking buttons of affirmation... "
   ]
  },
  {
   "cell_type": "markdown",
   "id": "60d08407",
   "metadata": {},
   "source": [
    "---"
   ]
  },
  {
   "cell_type": "markdown",
   "id": "030d3a45",
   "metadata": {},
   "source": [
    "Okay!!! If our downloads and installs are complete, let's try our other methods!"
   ]
  },
  {
   "cell_type": "markdown",
   "id": "98f38bed",
   "metadata": {},
   "source": [
    "### Using Download as... from a notebook"
   ]
  },
  {
   "cell_type": "markdown",
   "id": "fba388ce",
   "metadata": {},
   "source": [
    "This is very straightforward. Just select File -> Download as... -> PDF via LaTeX (.pdf), like this:\n",
    "\n",
    "![Using Download as...](images/DownloadAs.png)"
   ]
  },
  {
   "cell_type": "markdown",
   "id": "59e00922",
   "metadata": {},
   "source": [
    "A new mysterious blank tab will open in your browser. It will say blank unless something goes awry. Stuff will happen in your terminal as well, hopefully culminating in a penultimate \"PDF successfully created\" message.\n",
    "\n",
    "Then, your new PDF file will appear in your Downloads folder (and probably in the Downloads bar at the bottom of your browser). Move it to your working folder and check it out!"
   ]
  },
  {
   "cell_type": "markdown",
   "id": "69efe6e2",
   "metadata": {},
   "source": [
    "### Using nbconvert from the terminal"
   ]
  },
  {
   "cell_type": "markdown",
   "id": "f6fcc580",
   "metadata": {},
   "source": [
    "Using `nbconvert` is also really easy. Let's say your notebook is called \"myAwesomeNotebook.ipynb\". Run this command in a terminal (whose current directory is the same directory that your notebook is in):"
   ]
  },
  {
   "cell_type": "markdown",
   "id": "cddfa0aa",
   "metadata": {},
   "source": [
    "`jupyter nbconvert --to pdf myAwesomeNotebook.ipynb`"
   ]
  },
  {
   "cell_type": "markdown",
   "id": "904a38de",
   "metadata": {},
   "source": [
    "Note that `nbconvert` is not actually a shell command, it is a subcommand of `jupyter` just like `notebook` is. So the whole command reads something like\n",
    "\n",
    "\"Hey Jupyter subcommand nbconvert, I want to convert a file to a pdf, and the file is myAswesomeNotebook.ipynb\""
   ]
  },
  {
   "cell_type": "markdown",
   "id": "5e43d210",
   "metadata": {},
   "source": [
    "The terminal will tell you stuff:\n",
    "\n",
    "![nbconbert terminal output](images/nbconvertTerminal.png)\n",
    "\n",
    "(This is actually me rendering the PDF you are reading right now.)"
   ]
  },
  {
   "cell_type": "markdown",
   "id": "36dc1275",
   "metadata": {},
   "source": [
    "And the new PDF file will appear in your folder as if by magic!"
   ]
  }
 ],
 "metadata": {
  "kernelspec": {
   "display_name": "Python 3 (ipykernel)",
   "language": "python",
   "name": "python3"
  },
  "language_info": {
   "codemirror_mode": {
    "name": "ipython",
    "version": 3
   },
   "file_extension": ".py",
   "mimetype": "text/x-python",
   "name": "python",
   "nbconvert_exporter": "python",
   "pygments_lexer": "ipython3",
   "version": "3.8.13"
  }
 },
 "nbformat": 4,
 "nbformat_minor": 5
}
