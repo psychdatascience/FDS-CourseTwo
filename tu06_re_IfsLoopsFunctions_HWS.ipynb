{
 "cells": [
  {
   "cell_type": "markdown",
   "id": "81d19d16",
   "metadata": {},
   "source": [
    "   # Ifs, loops, and function homework solutions"
   ]
  },
  {
   "cell_type": "markdown",
   "id": "bd745db6",
   "metadata": {},
   "source": [
    "write and test a function that reverses a string entered by a user. So this function will have one input value (a string) and one output value (also a string).\n",
    "\n",
    "Test you function on Napoleon's quote 'Able was i ere i saw elba'"
   ]
  },
  {
   "cell_type": "code",
   "execution_count": 9,
   "id": "551a9bcb",
   "metadata": {},
   "outputs": [
    {
     "name": "stdout",
     "output_type": "stream",
     "text": [
      "able was i ere i saw elba\n"
     ]
    }
   ],
   "source": [
    "nep_quote = 'able was i ere i saw elba'\n",
    "backwards_quote = []\n",
    "\n",
    "for i in reversed(nep_quote) :\n",
    "    backwards_quote.append(i)\n",
    "\n",
    "backwards_quote = ''.join(backwards_quote)\n",
    "print(backwards_quote)"
   ]
  },
  {
   "cell_type": "markdown",
   "id": "72bc6f2e",
   "metadata": {},
   "source": [
    "*Optional challenge*: run the above on \"race car\" and then fix the resulting string."
   ]
  },
  {
   "cell_type": "code",
   "execution_count": 11,
   "id": "7abd516b",
   "metadata": {},
   "outputs": [
    {
     "data": {
      "text/plain": [
       "<reversed at 0x7fa7b0a7e550>"
      ]
     },
     "execution_count": 11,
     "metadata": {},
     "output_type": "execute_result"
    }
   ],
   "source": [
    "def flipStr(input_str) :\n",
    "\n",
    "    nep_quote = 'able was i ere i saw elba'\n",
    "    backwards_quote = []\n",
    "\n",
    "    for i in reversed(nep_quote) :\n",
    "        backwards_quote.append(i)\n",
    "\n",
    "    backwards_quote = ''.join(backwards_quote)\n",
    "    print(backwards_quote)"
   ]
  },
  {
   "cell_type": "markdown",
   "id": "c1122241",
   "metadata": {},
   "source": [
    "## 2. Determine if a number is prime\n",
    "\n",
    "Write some code to test whether a number is prime or not, a prime number being an integer that is evenly divisible only by 1 and itself. \n",
    "\n",
    "Hint: another way to think about a prime number is that, if the smallest number (other than 1) that divides evenly into a number *is* that number, than the number is a prime.\n",
    "\n",
    "The easiest solution involves one `while` loop and one `if` test."
   ]
  },
  {
   "cell_type": "code",
   "execution_count": 3,
   "id": "205f52c3",
   "metadata": {},
   "outputs": [
    {
     "name": "stdout",
     "output_type": "stream",
     "text": [
      "8 is NOT prime!\n"
     ]
    }
   ],
   "source": [
    "test_num = input(\"What number would you like to test for primacy?\")\n",
    "test_num = int(test_num)\n",
    "\n",
    "denom = 3  # start testing at 3 \n",
    "\n",
    "while(test_num % denom > 0) : # will break out of while loop at smallest factor\n",
    "    denom += 1\n",
    "\n",
    "if(denom == test_num) :\n",
    "    print(f\"{test_num} is prime!\")\n",
    "else :\n",
    "    print(f\"{test_num} is NOT prime!\")"
   ]
  },
  {
   "cell_type": "markdown",
   "id": "97515edc",
   "metadata": {},
   "source": [
    "## 3. Find the first 10 primes"
   ]
  },
  {
   "cell_type": "code",
   "execution_count": 2,
   "id": "f518030e",
   "metadata": {},
   "outputs": [
    {
     "name": "stdout",
     "output_type": "stream",
     "text": [
      "[3, 5, 7, 11, 13, 17, 19, 23, 29, 31]\n"
     ]
    }
   ],
   "source": [
    "myPrimes = list()\n",
    "\n",
    "# making these here so we past the first test\n",
    "testNum = 3 \n",
    "\n",
    "while (len(myPrimes) < 10) : # loop to increment prime candidate\n",
    "    denom = 2 # start testing demoninators at 3\n",
    "    \n",
    "    while (testNum % denom > 0) : # loop to increment denominator\n",
    "        denom += 1\n",
    "\n",
    "    # end inner while loop\n",
    "\n",
    "    if (denom == testNum) :  \n",
    "        myPrimes.append(testNum)\n",
    "    \n",
    "    testNum += 1 # increment prime candidate\n",
    "\n",
    "# end outer while   \n",
    "        \n",
    "print(myPrimes)"
   ]
  },
  {
   "cell_type": "markdown",
   "id": "13c2c9d2",
   "metadata": {},
   "source": [
    "## make a function to compute the first n primes"
   ]
  },
  {
   "cell_type": "code",
   "execution_count": 7,
   "id": "2b2f95a0",
   "metadata": {},
   "outputs": [],
   "source": [
    "def findPrimes(n) :\n",
    "    \n",
    "    myPrimes = list()\n",
    "    \n",
    "    # making this here so we past the first test\n",
    "    testNum = 3 \n",
    "\n",
    "    while (len(myPrimes) < n) : # loop to increment prime candidate\n",
    "        denom = 2 # start testing demoninators at 3\n",
    "    \n",
    "        while (testNum % denom > 0) : # loop to increment denominator\n",
    "            denom += 1\n",
    "\n",
    "        # end inner while loop\n",
    "\n",
    "        if (denom == testNum) :  \n",
    "            myPrimes.append(testNum)\n",
    "    \n",
    "        testNum += 1 # increment prime candidate\n",
    "\n",
    "    # end outer while   \n",
    "        \n",
    "    return(myPrimes)\n",
    "    \n"
   ]
  },
  {
   "cell_type": "code",
   "execution_count": 8,
   "id": "ebab7833",
   "metadata": {},
   "outputs": [
    {
     "data": {
      "text/plain": [
       "[3, 5, 7, 11, 13, 17, 19, 23, 29, 31, 37, 41, 43]"
      ]
     },
     "execution_count": 8,
     "metadata": {},
     "output_type": "execute_result"
    }
   ],
   "source": [
    "findPrimes(13)"
   ]
  },
  {
   "cell_type": "code",
   "execution_count": null,
   "id": "da1dec92",
   "metadata": {},
   "outputs": [],
   "source": []
  }
 ],
 "metadata": {
  "kernelspec": {
   "display_name": "Python 3 (ipykernel)",
   "language": "python",
   "name": "python3"
  },
  "language_info": {
   "codemirror_mode": {
    "name": "ipython",
    "version": 3
   },
   "file_extension": ".py",
   "mimetype": "text/x-python",
   "name": "python",
   "nbconvert_exporter": "python",
   "pygments_lexer": "ipython3",
   "version": "3.8.18"
  }
 },
 "nbformat": 4,
 "nbformat_minor": 5
}
