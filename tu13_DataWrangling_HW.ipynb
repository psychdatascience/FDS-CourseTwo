{
 "cells": [
  {
   "cell_type": "markdown",
   "id": "f077469e",
   "metadata": {},
   "source": [
    "## Introduction to Data Wrangling in Python Using Pandas\n",
    "\n",
    "Data wrangling is a critical step in the data analysis process, especially in psychological research. Before drawing insights from data, researchers must clean, structure, and transform raw data into a usable format. In this tutorial, we will use Python's Pandas library to perform common data wrangling tasks on a simulated psychology dataset.\n",
    "\n",
    "We will cover:\n",
    "1. Loading and inspecting data\n",
    "2. Handling missing values\n",
    "3. Transforming and categorizing data\n",
    "4. Filtering and merging datasets\n",
    "\n",
    "Let's get started!\n"
   ]
  },
  {
   "cell_type": "code",
   "execution_count": null,
   "id": "2b43b6db",
   "metadata": {},
   "outputs": [],
   "source": [
    "# Import necessary libraries\n",
    "import pandas as pd\n",
    "import numpy as np"
   ]
  },
  {
   "cell_type": "code",
   "execution_count": null,
   "id": "9a944109",
   "metadata": {},
   "outputs": [],
   "source": [
    "# Simulating a psychology survey dataset\n",
    "np.random.seed(42)\n",
    "data = {\n",
    "    \"Participant_ID\": range(1, 11),\n",
    "    \"Age\": [23, 45, 34, np.nan, 29, 40, 36, 28, 33, np.nan],\n",
    "    \"Gender\": [\"F\", \"M\", \"M\", \"F\", \"F\", \"M\", \"F\", \"M\", \"M\", \"F\"],\n",
    "    \"Stress_Level\": [3, 7, 5, 6, 2, 8, 4, 5, np.nan, 6],\n",
    "    \"Anxiety_Score\": [np.nan, 12, 8, 15, 9, 14, 6, 7, 10, 11]\n",
    "}\n",
    "df = pd.DataFrame(data)"
   ]
  },
  {
   "cell_type": "code",
   "execution_count": null,
   "id": "9a2cea74",
   "metadata": {},
   "outputs": [],
   "source": [
    "# Display the first few rows\n",
    "print(\"Original Dataset:\")\n",
    "print(df)"
   ]
  },
  {
   "cell_type": "markdown",
   "id": "f60fab1e",
   "metadata": {},
   "source": [
    "### Example 1: Handling Missing Values"
   ]
  },
  {
   "cell_type": "code",
   "execution_count": null,
   "id": "9a5fe525",
   "metadata": {},
   "outputs": [],
   "source": [
    "# Checking for missing values\n",
    "def check_missing_values(df):\n",
    "    print(\"\\nMissing Values:\")\n",
    "    print(df.isnull().sum())\n",
    "\n",
    "check_missing_values(df)"
   ]
  },
  {
   "cell_type": "code",
   "execution_count": null,
   "id": "161dd286",
   "metadata": {},
   "outputs": [],
   "source": [
    "# Filling missing values in Age with the median\n",
    "# Filling missing values in Stress_Level and Anxiety_Score with the mean\n",
    "df[\"Age\"].fillna(df[\"Age\"].median(), inplace=True)\n",
    "df[\"Stress_Level\"].fillna(df[\"Stress_Level\"].mean(), inplace=True)\n",
    "df[\"Anxiety_Score\"].fillna(df[\"Anxiety_Score\"].mean(), inplace=True)\n",
    "\n",
    "print(\"\\nDataset after handling missing values:\")\n",
    "print(df)"
   ]
  },
  {
   "cell_type": "markdown",
   "id": "872ba8f4",
   "metadata": {},
   "source": [
    "### Example 2: Categorizing Psychological Data"
   ]
  },
  {
   "cell_type": "code",
   "execution_count": null,
   "id": "6106a83e",
   "metadata": {},
   "outputs": [],
   "source": [
    "# Creating a categorical variable based on Anxiety Score\n",
    "def categorize_anxiety(score):\n",
    "    if score < 8:\n",
    "        return \"Low\"\n",
    "    elif 8 <= score < 12:\n",
    "        return \"Moderate\"\n",
    "    else:\n",
    "        return \"High\"\n",
    "\n",
    "df[\"Anxiety_Category\"] = df[\"Anxiety_Score\"].apply(categorize_anxiety)\n",
    "\n",
    "print(\"\\nDataset with Anxiety Categories:\")\n",
    "print(df)"
   ]
  },
  {
   "cell_type": "markdown",
   "id": "c04b9c8f",
   "metadata": {},
   "source": [
    "### Example 3: Filtering Data"
   ]
  },
  {
   "cell_type": "code",
   "execution_count": null,
   "id": "0604d89c",
   "metadata": {},
   "outputs": [],
   "source": [
    "# Selecting participants with high stress levels (>=6)\n",
    "high_stress_df = df[df[\"Stress_Level\"] >= 6]\n",
    "\n",
    "print(\"\\nParticipants with High Stress Levels:\")\n",
    "print(high_stress_df)\n",
    "\n",
    "### Example 4: Merging Data\n",
    "\n",
    "# Creating a new dataset with additional participant information\n",
    "demographics_data = {\n",
    "    \"Participant_ID\": [1, 2, 3, 4, 5, 6, 7, 8, 9, 10],\n",
    "    \"Education_Level\": [\"Bachelor\", \"Master\", \"PhD\", \"Bachelor\", \"High School\", \"Master\", \"PhD\", \"Bachelor\", \"Master\", \"High School\"]\n",
    "}\n",
    "demographics_df = pd.DataFrame(demographics_data)\n",
    "\n",
    "# Merging datasets on Participant_ID\n",
    "df_merged = pd.merge(df, demographics_df, on=\"Participant_ID\")\n",
    "\n",
    "print(\"\\nMerged Dataset:\")\n",
    "print(df_merged)"
   ]
  },
  {
   "cell_type": "markdown",
   "id": "ebf68086",
   "metadata": {},
   "source": [
    "## Exercise\n",
    "\n",
    "Now it's your turn! Complete the following exercises to practice data wrangling on the psychology dataset.\n",
    "\n",
    "1. **Filtering**: Create a new DataFrame that includes only participants with a \"High\" Anxiety Category. Display the resulting DataFrame.\n",
    "2. **Data Transformation**: Add a new column called \"Mental_Wellbeing_Score\" by calculating the difference between Stress_Level and Anxiety_Score. Higher scores indicate better mental well-being. Display the updated dataset.\n",
    "\n",
    "Write your code below each question and run the cells to test your solution!\n"
   ]
  }
 ],
 "metadata": {
  "kernelspec": {
   "display_name": "Python 3 (ipykernel)",
   "language": "python",
   "name": "python3"
  },
  "language_info": {
   "codemirror_mode": {
    "name": "ipython",
    "version": 3
   },
   "file_extension": ".py",
   "mimetype": "text/x-python",
   "name": "python",
   "nbconvert_exporter": "python",
   "pygments_lexer": "ipython3",
   "version": "3.9.7"
  }
 },
 "nbformat": 4,
 "nbformat_minor": 5
}
