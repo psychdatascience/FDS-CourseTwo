{
 "cells": [
  {
   "cell_type": "markdown",
   "metadata": {},
   "source": [
    "\n",
    "### Tutorial: Accessing SQLite Databases and Using Pandas in a Jupyter Notebook\n",
    "\n",
    "#### 1. Introduction\n",
    "- Brief overview of the tools: `sqlite3` API for database interaction and Pandas for data manipulation.\n",
    "- Prerequisites: Basic knowledge of SQL queries, Python, and Jupyter Notebooks.\n"
   ]
  },
  {
   "cell_type": "markdown",
   "metadata": {},
   "source": [
    "\n",
    "#### 2. Setting Up Your Environment\n",
    "Installing Necessary Libraries**: Ensure Pandas and sqlite3 are installed. You can install them using pip if they're not already installed:\n"
   ]
  },
  {
   "cell_type": "code",
   "execution_count": null,
   "metadata": {
    "vscode": {
     "languageId": "shellscript"
    }
   },
   "outputs": [],
   "source": [
    "pip install pandas\n",
    "\n",
    "pip install ipython-sql  # Optional, for running SQL directly within cells"
   ]
  },
  {
   "cell_type": "markdown",
   "metadata": {},
   "source": [
    "\n",
    "#### 3. Connecting to an SQLite Database\n"
   ]
  },
  {
   "cell_type": "code",
   "execution_count": null,
   "metadata": {},
   "outputs": [],
   "source": [
    "import sqlite3"
   ]
  },
  {
   "cell_type": "markdown",
   "metadata": {},
   "source": [
    "**Using sqlite3 to Connect**:"
   ]
  },
  {
   "cell_type": "code",
   "execution_count": null,
   "metadata": {},
   "outputs": [],
   "source": [
    "\n",
    "# Establish a connection to the database.\n",
    "connection = sqlite3.connect('rexon_metals.db')"
   ]
  },
  {
   "cell_type": "markdown",
   "metadata": {},
   "source": [
    "\n",
    "**Creating a Cursor Object**:\n"
   ]
  },
  {
   "cell_type": "code",
   "execution_count": null,
   "metadata": {},
   "outputs": [],
   "source": [
    "# Create a cursor object using the connection\n",
    "cursor = connection.cursor()"
   ]
  },
  {
   "cell_type": "markdown",
   "metadata": {},
   "source": [
    "\n",
    "#### 4. Executing SQL Queries\n",
    "**Basic Query Execution**:\n"
   ]
  },
  {
   "cell_type": "code",
   "execution_count": null,
   "metadata": {},
   "outputs": [],
   "source": [
    "# This example retrieves all entries from the PRODUCT table\n",
    "cursor.execute(\"SELECT * FROM product\")\n",
    "results = cursor.fetchall()\n",
    "for row in results:\n",
    "    print(row)\n",
    "    "
   ]
  },
  {
   "cell_type": "markdown",
   "metadata": {},
   "source": [
    "\n",
    "**Using Parameters in Queries**:\n"
   ]
  },
  {
   "cell_type": "code",
   "execution_count": null,
   "metadata": {},
   "outputs": [],
   "source": [
    "\n",
    "# Using placeholder '?' to avoid SQL injection\n",
    "product_id = 101\n",
    "cursor.execute(\"SELECT * FROM product WHERE product_id = ?\", (product_id,))\n",
    "print(cursor.fetchone())"
   ]
  },
  {
   "cell_type": "markdown",
   "metadata": {},
   "source": [
    "\n",
    "#### 5. Using Pandas to Work with SQL Queries\n",
    "**Introduction to Pandas DataFrame**:"
   ]
  },
  {
   "cell_type": "code",
   "execution_count": null,
   "metadata": {},
   "outputs": [],
   "source": [
    "import pandas as pd"
   ]
  },
  {
   "cell_type": "markdown",
   "metadata": {},
   "source": [
    "**Fetching Data into DataFrame**:"
   ]
  },
  {
   "cell_type": "code",
   "execution_count": null,
   "metadata": {},
   "outputs": [],
   "source": [
    "# Querying data and loading directly into a DataFrame\n",
    "query = \"SELECT * FROM product\"\n",
    "df = pd.read_sql_query(query, connection)\n",
    "print(df.head())  # Display the first few rows of the DataFrame"
   ]
  },
  {
   "cell_type": "markdown",
   "metadata": {},
   "source": [
    "\n",
    "#### 6. Converting SQL Results into DataFrames\n",
    "**Detailed Example with Real Data**:"
   ]
  },
  {
   "cell_type": "code",
   "execution_count": null,
   "metadata": {},
   "outputs": [],
   "source": [
    "# Complex query example\n",
    "query = \"\"\"\n",
    "SELECT c.customer_name, co.order_qty * p.price AS total_price\n",
    "FROM customer_order co\n",
    "JOIN customer c ON co.customer_id = c.customer_id\n",
    "JOIN product p ON co.product_id = p.product_id;\n",
    "\"\"\"\n",
    "df = pd.read_sql_query(query, connection)\n",
    "print(df)"
   ]
  },
  {
   "cell_type": "markdown",
   "metadata": {},
   "source": [
    "\n",
    "**Exploring DataFrame Features**:\n",
    "\n",
    "    - `df.describe()` for basic statistics.  \n",
    "    - `df.sort_values(by='total_price', ascending=False)` to sort data.  \n",
    "    - `df.groupby('customer_name').sum()` for aggregating data.  "
   ]
  },
  {
   "cell_type": "markdown",
   "metadata": {},
   "source": [
    "\n",
    "#### 7. Closing the Connection\n",
    "**Important Cleanup Steps**:\n"
   ]
  },
  {
   "cell_type": "code",
   "execution_count": null,
   "metadata": {},
   "outputs": [],
   "source": [
    "cursor.close()\n",
    "connection.close()"
   ]
  },
  {
   "cell_type": "markdown",
   "metadata": {},
   "source": [
    "\n",
    "#### 8. Best Practices and Troubleshooting\n",
    "- Handle database connections with care to avoid locking issues.\n",
    "- Use context managers (`with` statement) to ensure that resources are managed properly.\n",
    "- Debugging tips for common issues such as data types and SQL syntax errors.\n",
    "\n"
   ]
  },
  {
   "cell_type": "markdown",
   "metadata": {},
   "source": [
    "#### 9. Conclusion\n",
    "- Recap of what was covered: connecting to databases, executing SQL, and utilizing Pandas for data analysis.\n",
    "- Encouragement to explore further with more complex SQL queries and Pandas operations.\n"
   ]
  },
  {
   "cell_type": "markdown",
   "metadata": {},
   "source": [
    "\n",
    "### Summary\n",
    "This tutorial is designed to be a practical guide for integrating SQLite database interaction with Python programming in a Jupyter Notebook, making use of Pandas for data manipulation. It builds on SQL knowledge by introducing programmatic ways to handle database data, enhancing both the scope and depth of analysis that students can perform."
   ]
  },
  {
   "cell_type": "markdown",
   "metadata": {},
   "source": []
  },
  {
   "cell_type": "markdown",
   "metadata": {},
   "source": []
  }
 ],
 "metadata": {
  "kernelspec": {
   "display_name": "base",
   "language": "python",
   "name": "python3"
  },
  "language_info": {
   "name": "python",
   "version": "3.11.8"
  }
 },
 "nbformat": 4,
 "nbformat_minor": 2
}
