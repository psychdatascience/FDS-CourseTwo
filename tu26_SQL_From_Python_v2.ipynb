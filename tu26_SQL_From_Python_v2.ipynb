{
 "cells": [
  {
   "cell_type": "markdown",
   "metadata": {},
   "source": [
    "\n",
    "### Tutorial: Accessing SQLite Databases and Using Pandas in a Jupyter Notebook\n",
    "\n",
    "#### 1. Introduction\n",
    "- Brief overview of the tools: `sqlite3` API for database interaction and Pandas for data manipulation.\n",
    "- Prerequisites: Basic knowledge of SQL queries, Python, and Jupyter Notebooks.\n"
   ]
  },
  {
   "cell_type": "markdown",
   "metadata": {},
   "source": [
    "\n",
    "#### 2. Setting Up Your Environment\n",
    "Installing Necessary Libraries**: Ensure Pandas and sqlite3 are installed. You can install them using pip if they're not already installed:\n"
   ]
  },
  {
   "cell_type": "code",
   "execution_count": null,
   "metadata": {
    "vscode": {
     "languageId": "shellscript"
    }
   },
   "outputs": [],
   "source": [
    "conda install ipython-sql  # Optional, for running SQL directly within cells"
   ]
  },
  {
   "cell_type": "markdown",
   "metadata": {},
   "source": [
    "\n",
    "#### 3. Connecting to an SQLite Database\n"
   ]
  },
  {
   "cell_type": "code",
   "execution_count": 3,
   "metadata": {},
   "outputs": [],
   "source": [
    "import sqlite3"
   ]
  },
  {
   "cell_type": "markdown",
   "metadata": {},
   "source": [
    "**Using sqlite3 to Connect**:"
   ]
  },
  {
   "cell_type": "code",
   "execution_count": 9,
   "metadata": {},
   "outputs": [],
   "source": [
    "\n",
    "# Establish a connection to the database.\n",
    "connection = sqlite3.connect('./data/rexon_metals.db')"
   ]
  },
  {
   "cell_type": "markdown",
   "metadata": {},
   "source": [
    "\n",
    "**Creating a Cursor Object**:\n"
   ]
  },
  {
   "cell_type": "code",
   "execution_count": 10,
   "metadata": {},
   "outputs": [],
   "source": [
    "# Create a cursor object using the connection\n",
    "cursor = connection.cursor()"
   ]
  },
  {
   "cell_type": "markdown",
   "metadata": {},
   "source": [
    "\n",
    "#### 4. Executing SQL Queries\n",
    "**Basic Query Execution**:\n"
   ]
  },
  {
   "cell_type": "code",
   "execution_count": 27,
   "metadata": {},
   "outputs": [
    {
     "name": "stdout",
     "output_type": "stream",
     "text": [
      "(1, 'Copper', 7.51)\n",
      "(2, 'Aluminum', 2.58)\n",
      "(3, 'Silver', 15)\n",
      "(4, 'Steel', 12.31)\n",
      "(5, 'Bronze', 4)\n",
      "(6, 'Duralumin', 7.6)\n",
      "(7, 'Solder', 14.16)\n",
      "(8, 'Stellite', 13.31)\n",
      "(9, 'Brass', 4.75)\n"
     ]
    }
   ],
   "source": [
    "# This example retrieves all entries from the PRODUCT table\n",
    "cursor.execute(\"SELECT * FROM PRODUCT\")\n",
    "results = cursor.fetchall()\n",
    "for row in results:\n",
    "    print(row)\n",
    "    "
   ]
  },
  {
   "cell_type": "code",
   "execution_count": 17,
   "metadata": {},
   "outputs": [
    {
     "data": {
      "text/plain": [
       "-1"
      ]
     },
     "execution_count": 17,
     "metadata": {},
     "output_type": "execute_result"
    }
   ],
   "source": [
    "cursor.rowcount"
   ]
  },
  {
   "cell_type": "markdown",
   "metadata": {},
   "source": [
    "\n",
    "**Using Parameters in Queries**:\n"
   ]
  },
  {
   "cell_type": "code",
   "execution_count": 19,
   "metadata": {},
   "outputs": [
    {
     "name": "stdout",
     "output_type": "stream",
     "text": [
      "(3, 'Silver', 15)\n"
     ]
    }
   ],
   "source": [
    "\n",
    "# Using placeholder '?' to avoid SQL injection\n",
    "product_id = 3\n",
    "cursor.execute(\"SELECT * FROM product WHERE product_id = ?\", (product_id,))\n",
    "print(cursor.fetchone())"
   ]
  },
  {
   "cell_type": "code",
   "execution_count": 21,
   "metadata": {},
   "outputs": [
    {
     "name": "stdout",
     "output_type": "stream",
     "text": [
      "(4, 'Steel', 12.31)\n",
      "(8, 'Stellite', 13.31)\n"
     ]
    }
   ],
   "source": [
    "# Define your query with placeholders\n",
    "query = \"SELECT * FROM product WHERE price BETWEEN ? AND ? AND description LIKE ?\"\n",
    "\n",
    "# Parameters for the placeholders\n",
    "min_price = 10\n",
    "max_price = 14\n",
    "description_pattern = 'S%'\n",
    "\n",
    "# Execute the query with the parameters\n",
    "cursor.execute(query, (min_price, max_price, description_pattern))\n",
    "\n",
    "# Fetch and print the results\n",
    "results = cursor.fetchall()\n",
    "for result in results:\n",
    "    print(result)\n"
   ]
  },
  {
   "cell_type": "markdown",
   "metadata": {},
   "source": [
    "\n",
    "#### 5. Using Pandas to Work with SQL Queries\n",
    "**Introduction to Pandas DataFrame**:"
   ]
  },
  {
   "cell_type": "code",
   "execution_count": 22,
   "metadata": {},
   "outputs": [],
   "source": [
    "import pandas as pd"
   ]
  },
  {
   "cell_type": "markdown",
   "metadata": {},
   "source": [
    "**Fetching Data into DataFrame**:"
   ]
  },
  {
   "cell_type": "code",
   "execution_count": 26,
   "metadata": {},
   "outputs": [
    {
     "name": "stdout",
     "output_type": "stream",
     "text": [
      "   PRODUCT_ID DESCRIPTION  PRICE\n",
      "0           1      Copper   7.51\n",
      "1           2    Aluminum   2.58\n",
      "2           3      Silver  15.00\n",
      "3           4       Steel  12.31\n",
      "4           5      Bronze   4.00\n"
     ]
    }
   ],
   "source": [
    "# Querying data and loading directly into a DataFrame\n",
    "query = \"SELECT * FROM product\"\n",
    "df = pd.read_sql_query(\"SELECT * FROM product\", connection)\n",
    "print(df.head())  # Display the first few rows of the DataFrame"
   ]
  },
  {
   "cell_type": "markdown",
   "metadata": {},
   "source": [
    "\n",
    "#### 6. Converting SQL Results into DataFrames\n",
    "**Detailed Example with Real Data**:"
   ]
  },
  {
   "cell_type": "code",
   "execution_count": 25,
   "metadata": {},
   "outputs": [
    {
     "name": "stdout",
     "output_type": "stream",
     "text": [
      "                     NAME  total_price\n",
      "0         LITE Industrial      3379.50\n",
      "1   Re-Barre Construction      1548.00\n",
      "2   Re-Barre Construction      1200.00\n",
      "3  Marsh Lane Metal Works      4616.25\n",
      "4   Re-Barre Construction      1290.00\n"
     ]
    }
   ],
   "source": [
    "# Complex query example\n",
    "query = \"\"\"\n",
    "SELECT c.name, co.order_qty * p.price AS total_price\n",
    "FROM customer_order co\n",
    "JOIN customer c ON co.customer_id = c.customer_id\n",
    "JOIN product p ON co.product_id = p.product_id;\n",
    "\"\"\"\n",
    "df = pd.read_sql_query(query, connection)\n",
    "print(df)"
   ]
  },
  {
   "cell_type": "markdown",
   "metadata": {},
   "source": [
    "\n",
    "**Exploring DataFrame Features**:\n",
    "\n",
    "    - `df.describe()` for basic statistics.  \n",
    "    - `df.sort_values(by='total_price', ascending=False)` to sort data.  \n",
    "    - `df.groupby('customer_name').sum()` for aggregating data.  "
   ]
  },
  {
   "cell_type": "markdown",
   "metadata": {},
   "source": [
    "\n",
    "#### 7. Closing the Connection\n",
    "**Important Cleanup Steps**:\n"
   ]
  },
  {
   "cell_type": "code",
   "execution_count": 8,
   "metadata": {},
   "outputs": [],
   "source": [
    "cursor.close()\n",
    "connection.close()"
   ]
  },
  {
   "cell_type": "markdown",
   "metadata": {},
   "source": [
    "\n",
    "#### 8. Best Practices and Troubleshooting\n",
    "- Handle database connections with care to avoid locking issues.\n",
    "- Use context managers (`with` statement) to ensure that resources are managed properly.\n",
    "- Debugging tips for common issues such as data types and SQL syntax errors.\n",
    "\n"
   ]
  },
  {
   "cell_type": "markdown",
   "metadata": {},
   "source": [
    "#### 9. Conclusion\n",
    "- Recap of what was covered: connecting to databases, executing SQL, and utilizing Pandas for data analysis.\n",
    "- Encouragement to explore further with more complex SQL queries and Pandas operations.\n"
   ]
  },
  {
   "cell_type": "markdown",
   "metadata": {},
   "source": [
    "\n",
    "### Summary\n",
    "This tutorial is designed to be a practical guide for integrating SQLite database interaction with Python programming in a Jupyter Notebook, making use of Pandas for data manipulation. It builds on SQL knowledge by introducing programmatic ways to handle database data, enhancing both the scope and depth of analysis that students can perform."
   ]
  },
  {
   "cell_type": "markdown",
   "metadata": {},
   "source": []
  },
  {
   "cell_type": "markdown",
   "metadata": {},
   "source": []
  }
 ],
 "metadata": {
  "kernelspec": {
   "display_name": "base",
   "language": "python",
   "name": "python3"
  },
  "language_info": {
   "codemirror_mode": {
    "name": "ipython",
    "version": 3
   },
   "file_extension": ".py",
   "mimetype": "text/x-python",
   "name": "python",
   "nbconvert_exporter": "python",
   "pygments_lexer": "ipython3",
   "version": "3.11.8"
  }
 },
 "nbformat": 4,
 "nbformat_minor": 2
}
