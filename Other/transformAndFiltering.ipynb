{
 "cells": [
  {
   "cell_type": "markdown",
   "id": "7c915198-6974-494a-a6ae-b8d19533e0fd",
   "metadata": {},
   "source": [
    "# Wrangling III "
   ]
  },
  {
   "cell_type": "markdown",
   "id": "6d77b21f-2e93-452f-a73a-e3f1f0c3855b",
   "metadata": {},
   "source": [
    "In this tutorial, we'll round out our focus on data wrangling by looking \n",
    "\n",
    "- handling duplicate values\n",
    "- data transformations\n",
    "- the `apply()` method\n",
    "- filtering data\n"
   ]
  },
  {
   "cell_type": "markdown",
   "id": "b0321172-6e5e-421c-8261-31cb40579803",
   "metadata": {},
   "source": [
    "## Preliminaries"
   ]
  },
  {
   "cell_type": "markdown",
   "id": "3a296fa2-f538-43b4-a9da-507ae0189122",
   "metadata": {},
   "source": [
    "As usual, we'll load some libraries we'll be likely to use."
   ]
  },
  {
   "cell_type": "code",
   "execution_count": 1,
   "id": "1e64392f-fab1-4a49-93a0-d0d1b06b92d8",
   "metadata": {},
   "outputs": [],
   "source": [
    "import numpy as np\n",
    "import pandas as pd\n",
    "import matplotlib.pyplot as plt\n",
    "import seaborn as sns"
   ]
  },
  {
   "cell_type": "markdown",
   "id": "05ac90f8-bb3b-4625-8a08-5bb029a03be8",
   "metadata": {},
   "source": [
    "Now we'll get set up to work by\n",
    "\n",
    "- loading the data and cleaning it up (as before)\n",
    "- trim out some columns so we can look at the data frame more easily\n",
    "- shorten up some of the column names to save ourselves some typing"
   ]
  },
  {
   "cell_type": "markdown",
   "id": "0fbd2e5c-23e4-4bd8-9fed-9a01beff7559",
   "metadata": {},
   "source": [
    "Use our function to do the loading and cleaning."
   ]
  },
  {
   "cell_type": "code",
   "execution_count": 2,
   "id": "b2dab376-bc16-42f7-a5b4-6c600c6370cc",
   "metadata": {},
   "outputs": [],
   "source": [
    "def bcd_load_clean():\n",
    "    bcd = pd.read_csv('./data/breast_cancer_data.csv')\n",
    "    bcd['patient_id'] = bcd['patient_id'].astype('string')\n",
    "    bcd['doctor_name'] = bcd['doctor_name'].str.split().str[1]\n",
    "    bcd['bare_nuclei'] = bcd['bare_nuclei'].replace('?', '')\n",
    "    bcd['bare_nuclei'] = pd.to_numeric(bcd['bare_nuclei'])\n",
    "    \n",
    "    return bcd"
   ]
  },
  {
   "cell_type": "code",
   "execution_count": 3,
   "id": "feab347b-2f1b-4553-b8f9-8ed95a6e5ab5",
   "metadata": {},
   "outputs": [],
   "source": [
    "bcd = bcd_load_clean()"
   ]
  },
  {
   "cell_type": "markdown",
   "id": "231327c8-4c7d-4ff8-bb21-72d3228fd45c",
   "metadata": {},
   "source": [
    "Make a little version with just two numeric columns to play with."
   ]
  },
  {
   "cell_type": "code",
   "execution_count": 4,
   "id": "6fec794d-d2a5-4851-a8d4-1a532a8895b4",
   "metadata": {},
   "outputs": [],
   "source": [
    "bcd2 = bcd[['patient_id', 'clump_thickness', 'bland_chromatin', 'class']].copy()"
   ]
  },
  {
   "cell_type": "markdown",
   "id": "d5c2983e-bdc8-4b4d-ba8c-cdd6c3ff9c2f",
   "metadata": {},
   "source": [
    "Let's give the columns shorter names to save some typing."
   ]
  },
  {
   "cell_type": "code",
   "execution_count": 5,
   "id": "03a65b40-4954-4b02-bcc0-f59a7f2fa93a",
   "metadata": {},
   "outputs": [],
   "source": [
    "bcd2 = bcd2.rename(columns={'clump_thickness': 'thick',\n",
    "                            'bland_chromatin': 'chrom',\n",
    "                            'patient_id': 'id'})"
   ]
  },
  {
   "cell_type": "markdown",
   "id": "b924f04e-c52e-4b3c-a911-0fc4dcb539e2",
   "metadata": {
    "tags": []
   },
   "source": [
    "## Duplicate entries"
   ]
  },
  {
   "cell_type": "markdown",
   "id": "5ee75c2e-dac0-4a78-8f02-a44d19f5d09b",
   "metadata": {},
   "source": [
    "As we have already seen, datasets can contain strange things that we have to overcome prior to analysis. One of the most common issues in a dataset are duplicate entries. These are common with large datasets that have been transcribed by humans at some point. Humands get bored, lose their place, etc."
   ]
  },
  {
   "cell_type": "markdown",
   "id": "cb217b03-f70f-419a-9932-ef9cb78da0ca",
   "metadata": {
    "tags": []
   },
   "source": [
    "---"
   ]
  },
  {
   "cell_type": "markdown",
   "id": "d0056bbe-f4c9-4e37-b341-71105729bf57",
   "metadata": {},
   "source": [
    "Let's look at the shape of our cancer data frame."
   ]
  },
  {
   "cell_type": "code",
   "execution_count": 6,
   "id": "c73b0ec4-c5ae-44d4-a9e7-bebcb64d924f",
   "metadata": {},
   "outputs": [
    {
     "data": {
      "text/plain": [
       "(699, 4)"
      ]
     },
     "execution_count": 6,
     "metadata": {},
     "output_type": "execute_result"
    }
   ],
   "source": [
    "bcd2.shape"
   ]
  },
  {
   "cell_type": "markdown",
   "id": "d2685d8c-7e7c-4c45-8335-3e9173a44fe5",
   "metadata": {
    "tags": []
   },
   "source": [
    "---"
   ]
  },
  {
   "cell_type": "markdown",
   "id": "134cd54b-e9b7-46fe-a2a2-37e83255b99a",
   "metadata": {},
   "source": [
    "Now let's look at the number of unique entries using the `nunique()` data frame method; this will the number of distinct values in each column."
   ]
  },
  {
   "cell_type": "code",
   "execution_count": 7,
   "id": "ae5b7d3c-30ec-43ca-860b-05c88d5dea30",
   "metadata": {
    "tags": []
   },
   "outputs": [
    {
     "data": {
      "text/plain": [
       "id       645\n",
       "thick     10\n",
       "chrom     10\n",
       "class      2\n",
       "dtype: int64"
      ]
     },
     "execution_count": 7,
     "metadata": {},
     "output_type": "execute_result"
    }
   ],
   "source": [
    "bcd2.nunique()"
   ]
  },
  {
   "cell_type": "markdown",
   "id": "d9355186-dc9d-48aa-b5a2-0fa670306bc1",
   "metadata": {
    "tags": []
   },
   "source": [
    "---"
   ]
  },
  {
   "cell_type": "markdown",
   "id": "c6299bb5-08a2-4e6e-984f-c07f95c9ebd4",
   "metadata": {},
   "source": [
    "So we can see that, while there are 699 observations in our data, there are only 645 unique patient ids. This tells us that several patients have multiple entries. This could be from patients making multiple visits to the doctor, or it could be a mistake."
   ]
  },
  {
   "cell_type": "markdown",
   "id": "aba6643b-02a5-4a1b-8266-cf3037b47ec5",
   "metadata": {},
   "source": [
    "We can find out which rows – which entire observations – are identical with the `duplicated()` method. "
   ]
  },
  {
   "cell_type": "code",
   "execution_count": 8,
   "id": "c8a4c4b1-e536-4355-893b-05e8dcb88a14",
   "metadata": {},
   "outputs": [
    {
     "data": {
      "text/plain": [
       "0      False\n",
       "1      False\n",
       "2      False\n",
       "3      False\n",
       "4      False\n",
       "       ...  \n",
       "694    False\n",
       "695    False\n",
       "696    False\n",
       "697    False\n",
       "698     True\n",
       "Length: 699, dtype: bool"
      ]
     },
     "execution_count": 8,
     "metadata": {},
     "output_type": "execute_result"
    }
   ],
   "source": [
    "bcd2.duplicated()"
   ]
  },
  {
   "cell_type": "markdown",
   "id": "956d6c72-9e09-4244-a7d7-c687fb1857b4",
   "metadata": {},
   "source": [
    "That's not terribly helpful by itself, but..."
   ]
  },
  {
   "cell_type": "markdown",
   "id": "2a50e70d-3620-4ce6-a8b1-ff214bde465c",
   "metadata": {},
   "source": [
    "---"
   ]
  },
  {
   "cell_type": "markdown",
   "id": "38f3da9e-551f-4ee6-8afe-d79dd171cf5c",
   "metadata": {},
   "source": [
    "In the cell below, count the number of duplicated rows (remember a True is a 1)."
   ]
  },
  {
   "cell_type": "code",
   "execution_count": 9,
   "id": "b4ceff04-e0ac-4092-aa71-c89739f737d0",
   "metadata": {},
   "outputs": [
    {
     "data": {
      "text/plain": [
       "12"
      ]
     },
     "execution_count": 9,
     "metadata": {},
     "output_type": "execute_result"
    }
   ],
   "source": [
    "bcd2.duplicated().sum()"
   ]
  },
  {
   "cell_type": "markdown",
   "id": "1d984504-e4c3-436d-b2bd-f0585632f24f",
   "metadata": {},
   "source": [
    "---"
   ]
  },
  {
   "cell_type": "markdown",
   "id": "84de93e0-64ac-4cf1-9956-8a7a0eaf89ce",
   "metadata": {},
   "source": [
    "Now we can use logical indexing to see the observations that have duplicates. Do that in the cell below."
   ]
  },
  {
   "cell_type": "code",
   "execution_count": 10,
   "id": "e1026b28-e140-41d3-9fe6-2fc8a5356f6c",
   "metadata": {},
   "outputs": [
    {
     "data": {
      "text/html": [
       "<div>\n",
       "<style scoped>\n",
       "    .dataframe tbody tr th:only-of-type {\n",
       "        vertical-align: middle;\n",
       "    }\n",
       "\n",
       "    .dataframe tbody tr th {\n",
       "        vertical-align: top;\n",
       "    }\n",
       "\n",
       "    .dataframe thead th {\n",
       "        text-align: right;\n",
       "    }\n",
       "</style>\n",
       "<table border=\"1\" class=\"dataframe\">\n",
       "  <thead>\n",
       "    <tr style=\"text-align: right;\">\n",
       "      <th></th>\n",
       "      <th>id</th>\n",
       "      <th>thick</th>\n",
       "      <th>chrom</th>\n",
       "      <th>class</th>\n",
       "    </tr>\n",
       "  </thead>\n",
       "  <tbody>\n",
       "    <tr>\n",
       "      <th>208</th>\n",
       "      <td>1218860</td>\n",
       "      <td>1.0</td>\n",
       "      <td>3.0</td>\n",
       "      <td>benign</td>\n",
       "    </tr>\n",
       "    <tr>\n",
       "      <th>253</th>\n",
       "      <td>1100524</td>\n",
       "      <td>6.0</td>\n",
       "      <td>7.0</td>\n",
       "      <td>malignant</td>\n",
       "    </tr>\n",
       "    <tr>\n",
       "      <th>254</th>\n",
       "      <td>1116116</td>\n",
       "      <td>9.0</td>\n",
       "      <td>3.0</td>\n",
       "      <td>malignant</td>\n",
       "    </tr>\n",
       "    <tr>\n",
       "      <th>258</th>\n",
       "      <td>1198641</td>\n",
       "      <td>3.0</td>\n",
       "      <td>3.0</td>\n",
       "      <td>benign</td>\n",
       "    </tr>\n",
       "    <tr>\n",
       "      <th>272</th>\n",
       "      <td>320675</td>\n",
       "      <td>3.0</td>\n",
       "      <td>7.0</td>\n",
       "      <td>malignant</td>\n",
       "    </tr>\n",
       "    <tr>\n",
       "      <th>322</th>\n",
       "      <td>733639</td>\n",
       "      <td>3.0</td>\n",
       "      <td>3.0</td>\n",
       "      <td>benign</td>\n",
       "    </tr>\n",
       "    <tr>\n",
       "      <th>338</th>\n",
       "      <td>704097</td>\n",
       "      <td>1.0</td>\n",
       "      <td>2.0</td>\n",
       "      <td>benign</td>\n",
       "    </tr>\n",
       "    <tr>\n",
       "      <th>443</th>\n",
       "      <td>734111</td>\n",
       "      <td>1.0</td>\n",
       "      <td>1.0</td>\n",
       "      <td>benign</td>\n",
       "    </tr>\n",
       "    <tr>\n",
       "      <th>561</th>\n",
       "      <td>1321942</td>\n",
       "      <td>5.0</td>\n",
       "      <td>3.0</td>\n",
       "      <td>benign</td>\n",
       "    </tr>\n",
       "    <tr>\n",
       "      <th>684</th>\n",
       "      <td>466906</td>\n",
       "      <td>1.0</td>\n",
       "      <td>1.0</td>\n",
       "      <td>benign</td>\n",
       "    </tr>\n",
       "    <tr>\n",
       "      <th>690</th>\n",
       "      <td>654546</td>\n",
       "      <td>1.0</td>\n",
       "      <td>1.0</td>\n",
       "      <td>benign</td>\n",
       "    </tr>\n",
       "    <tr>\n",
       "      <th>698</th>\n",
       "      <td>897471</td>\n",
       "      <td>4.0</td>\n",
       "      <td>10.0</td>\n",
       "      <td>malignant</td>\n",
       "    </tr>\n",
       "  </tbody>\n",
       "</table>\n",
       "</div>"
      ],
      "text/plain": [
       "          id  thick  chrom      class\n",
       "208  1218860    1.0    3.0     benign\n",
       "253  1100524    6.0    7.0  malignant\n",
       "254  1116116    9.0    3.0  malignant\n",
       "258  1198641    3.0    3.0     benign\n",
       "272   320675    3.0    7.0  malignant\n",
       "322   733639    3.0    3.0     benign\n",
       "338   704097    1.0    2.0     benign\n",
       "443   734111    1.0    1.0     benign\n",
       "561  1321942    5.0    3.0     benign\n",
       "684   466906    1.0    1.0     benign\n",
       "690   654546    1.0    1.0     benign\n",
       "698   897471    4.0   10.0  malignant"
      ]
     },
     "execution_count": 10,
     "metadata": {},
     "output_type": "execute_result"
    }
   ],
   "source": [
    "bcd2[bcd2.duplicated()]"
   ]
  },
  {
   "cell_type": "markdown",
   "id": "7f00afed-5f3e-4630-b839-5298c6eccf60",
   "metadata": {},
   "source": [
    "---"
   ]
  },
  {
   "cell_type": "markdown",
   "id": "5a15cd40-2f82-461d-9742-25344c5ecd90",
   "metadata": {},
   "source": [
    "This is promising but, if we look at what is listed, we don't actually see any duplicates. So what is `duplicates()` doing?"
   ]
  },
  {
   "cell_type": "markdown",
   "id": "57d704a6-d646-4bc5-b1ee-08a585661dc2",
   "metadata": {},
   "source": [
    "---"
   ]
  },
  {
   "cell_type": "markdown",
   "id": "acca2d05-25dd-4283-a004-810dad74379e",
   "metadata": {},
   "source": [
    "Use the cell below to get help on `duplicated()` using `help()` or `?`."
   ]
  },
  {
   "cell_type": "code",
   "execution_count": 11,
   "id": "fa7fa424-7a8b-494a-95f3-f18bb7f05e6d",
   "metadata": {},
   "outputs": [
    {
     "name": "stdout",
     "output_type": "stream",
     "text": [
      "Help on method duplicated in module pandas.core.frame:\n",
      "\n",
      "duplicated(subset: 'Hashable | Sequence[Hashable] | None' = None, keep: \"Literal[('first', 'last', False)]\" = 'first') -> 'Series' method of pandas.core.frame.DataFrame instance\n",
      "    Return boolean Series denoting duplicate rows.\n",
      "    \n",
      "    Considering certain columns is optional.\n",
      "    \n",
      "    Parameters\n",
      "    ----------\n",
      "    subset : column label or sequence of labels, optional\n",
      "        Only consider certain columns for identifying duplicates, by\n",
      "        default use all of the columns.\n",
      "    keep : {'first', 'last', False}, default 'first'\n",
      "        Determines which duplicates (if any) to mark.\n",
      "    \n",
      "        - ``first`` : Mark duplicates as ``True`` except for the first occurrence.\n",
      "        - ``last`` : Mark duplicates as ``True`` except for the last occurrence.\n",
      "        - False : Mark all duplicates as ``True``.\n",
      "    \n",
      "    Returns\n",
      "    -------\n",
      "    Series\n",
      "        Boolean series for each duplicated rows.\n",
      "    \n",
      "    See Also\n",
      "    --------\n",
      "    Index.duplicated : Equivalent method on index.\n",
      "    Series.duplicated : Equivalent method on Series.\n",
      "    Series.drop_duplicates : Remove duplicate values from Series.\n",
      "    DataFrame.drop_duplicates : Remove duplicate values from DataFrame.\n",
      "    \n",
      "    Examples\n",
      "    --------\n",
      "    Consider dataset containing ramen rating.\n",
      "    \n",
      "    >>> df = pd.DataFrame({\n",
      "    ...     'brand': ['Yum Yum', 'Yum Yum', 'Indomie', 'Indomie', 'Indomie'],\n",
      "    ...     'style': ['cup', 'cup', 'cup', 'pack', 'pack'],\n",
      "    ...     'rating': [4, 4, 3.5, 15, 5]\n",
      "    ... })\n",
      "    >>> df\n",
      "        brand style  rating\n",
      "    0  Yum Yum   cup     4.0\n",
      "    1  Yum Yum   cup     4.0\n",
      "    2  Indomie   cup     3.5\n",
      "    3  Indomie  pack    15.0\n",
      "    4  Indomie  pack     5.0\n",
      "    \n",
      "    By default, for each set of duplicated values, the first occurrence\n",
      "    is set on False and all others on True.\n",
      "    \n",
      "    >>> df.duplicated()\n",
      "    0    False\n",
      "    1     True\n",
      "    2    False\n",
      "    3    False\n",
      "    4    False\n",
      "    dtype: bool\n",
      "    \n",
      "    By using 'last', the last occurrence of each set of duplicated values\n",
      "    is set on False and all others on True.\n",
      "    \n",
      "    >>> df.duplicated(keep='last')\n",
      "    0     True\n",
      "    1    False\n",
      "    2    False\n",
      "    3    False\n",
      "    4    False\n",
      "    dtype: bool\n",
      "    \n",
      "    By setting ``keep`` on False, all duplicates are True.\n",
      "    \n",
      "    >>> df.duplicated(keep=False)\n",
      "    0     True\n",
      "    1     True\n",
      "    2    False\n",
      "    3    False\n",
      "    4    False\n",
      "    dtype: bool\n",
      "    \n",
      "    To find duplicates on specific column(s), use ``subset``.\n",
      "    \n",
      "    >>> df.duplicated(subset=['brand'])\n",
      "    0    False\n",
      "    1     True\n",
      "    2    False\n",
      "    3     True\n",
      "    4     True\n",
      "    dtype: bool\n",
      "\n"
     ]
    }
   ],
   "source": [
    "help(bcd2.duplicated)"
   ]
  },
  {
   "cell_type": "markdown",
   "id": "bde47681-0f32-4771-b777-3b97f2baf03e",
   "metadata": {},
   "source": [
    "---"
   ]
  },
  {
   "cell_type": "markdown",
   "id": "690decbc-8294-4495-9e12-bb21b66bb2d8",
   "metadata": {
    "tags": []
   },
   "source": [
    "... we can see that it has a \"keep\" argument. By default, `duplicated()` it gives us the *first* instance of any duplicated rows. We can make it show all the rows with `keep=False`."
   ]
  },
  {
   "cell_type": "markdown",
   "id": "b96988be-ca5c-4847-804f-b06e46cc6e10",
   "metadata": {},
   "source": [
    "Go ahead and do that in the cell below."
   ]
  },
  {
   "cell_type": "code",
   "execution_count": 12,
   "id": "fdf71048-5308-414b-be6f-2efb7f92d540",
   "metadata": {
    "tags": []
   },
   "outputs": [
    {
     "data": {
      "text/html": [
       "<div>\n",
       "<style scoped>\n",
       "    .dataframe tbody tr th:only-of-type {\n",
       "        vertical-align: middle;\n",
       "    }\n",
       "\n",
       "    .dataframe tbody tr th {\n",
       "        vertical-align: top;\n",
       "    }\n",
       "\n",
       "    .dataframe thead th {\n",
       "        text-align: right;\n",
       "    }\n",
       "</style>\n",
       "<table border=\"1\" class=\"dataframe\">\n",
       "  <thead>\n",
       "    <tr style=\"text-align: right;\">\n",
       "      <th></th>\n",
       "      <th>id</th>\n",
       "      <th>thick</th>\n",
       "      <th>chrom</th>\n",
       "      <th>class</th>\n",
       "    </tr>\n",
       "  </thead>\n",
       "  <tbody>\n",
       "    <tr>\n",
       "      <th>42</th>\n",
       "      <td>1100524</td>\n",
       "      <td>6.0</td>\n",
       "      <td>7.0</td>\n",
       "      <td>malignant</td>\n",
       "    </tr>\n",
       "    <tr>\n",
       "      <th>62</th>\n",
       "      <td>1116116</td>\n",
       "      <td>9.0</td>\n",
       "      <td>3.0</td>\n",
       "      <td>malignant</td>\n",
       "    </tr>\n",
       "    <tr>\n",
       "      <th>168</th>\n",
       "      <td>1198641</td>\n",
       "      <td>3.0</td>\n",
       "      <td>3.0</td>\n",
       "      <td>benign</td>\n",
       "    </tr>\n",
       "    <tr>\n",
       "      <th>207</th>\n",
       "      <td>1218860</td>\n",
       "      <td>1.0</td>\n",
       "      <td>3.0</td>\n",
       "      <td>benign</td>\n",
       "    </tr>\n",
       "    <tr>\n",
       "      <th>208</th>\n",
       "      <td>1218860</td>\n",
       "      <td>1.0</td>\n",
       "      <td>3.0</td>\n",
       "      <td>benign</td>\n",
       "    </tr>\n",
       "    <tr>\n",
       "      <th>253</th>\n",
       "      <td>1100524</td>\n",
       "      <td>6.0</td>\n",
       "      <td>7.0</td>\n",
       "      <td>malignant</td>\n",
       "    </tr>\n",
       "    <tr>\n",
       "      <th>254</th>\n",
       "      <td>1116116</td>\n",
       "      <td>9.0</td>\n",
       "      <td>3.0</td>\n",
       "      <td>malignant</td>\n",
       "    </tr>\n",
       "    <tr>\n",
       "      <th>258</th>\n",
       "      <td>1198641</td>\n",
       "      <td>3.0</td>\n",
       "      <td>3.0</td>\n",
       "      <td>benign</td>\n",
       "    </tr>\n",
       "    <tr>\n",
       "      <th>267</th>\n",
       "      <td>320675</td>\n",
       "      <td>3.0</td>\n",
       "      <td>7.0</td>\n",
       "      <td>malignant</td>\n",
       "    </tr>\n",
       "    <tr>\n",
       "      <th>272</th>\n",
       "      <td>320675</td>\n",
       "      <td>3.0</td>\n",
       "      <td>7.0</td>\n",
       "      <td>malignant</td>\n",
       "    </tr>\n",
       "    <tr>\n",
       "      <th>314</th>\n",
       "      <td>704097</td>\n",
       "      <td>1.0</td>\n",
       "      <td>2.0</td>\n",
       "      <td>benign</td>\n",
       "    </tr>\n",
       "    <tr>\n",
       "      <th>321</th>\n",
       "      <td>733639</td>\n",
       "      <td>3.0</td>\n",
       "      <td>3.0</td>\n",
       "      <td>benign</td>\n",
       "    </tr>\n",
       "    <tr>\n",
       "      <th>322</th>\n",
       "      <td>733639</td>\n",
       "      <td>3.0</td>\n",
       "      <td>3.0</td>\n",
       "      <td>benign</td>\n",
       "    </tr>\n",
       "    <tr>\n",
       "      <th>338</th>\n",
       "      <td>704097</td>\n",
       "      <td>1.0</td>\n",
       "      <td>2.0</td>\n",
       "      <td>benign</td>\n",
       "    </tr>\n",
       "    <tr>\n",
       "      <th>442</th>\n",
       "      <td>734111</td>\n",
       "      <td>1.0</td>\n",
       "      <td>1.0</td>\n",
       "      <td>benign</td>\n",
       "    </tr>\n",
       "    <tr>\n",
       "      <th>443</th>\n",
       "      <td>734111</td>\n",
       "      <td>1.0</td>\n",
       "      <td>1.0</td>\n",
       "      <td>benign</td>\n",
       "    </tr>\n",
       "    <tr>\n",
       "      <th>560</th>\n",
       "      <td>1321942</td>\n",
       "      <td>5.0</td>\n",
       "      <td>3.0</td>\n",
       "      <td>benign</td>\n",
       "    </tr>\n",
       "    <tr>\n",
       "      <th>561</th>\n",
       "      <td>1321942</td>\n",
       "      <td>5.0</td>\n",
       "      <td>3.0</td>\n",
       "      <td>benign</td>\n",
       "    </tr>\n",
       "    <tr>\n",
       "      <th>683</th>\n",
       "      <td>466906</td>\n",
       "      <td>1.0</td>\n",
       "      <td>1.0</td>\n",
       "      <td>benign</td>\n",
       "    </tr>\n",
       "    <tr>\n",
       "      <th>684</th>\n",
       "      <td>466906</td>\n",
       "      <td>1.0</td>\n",
       "      <td>1.0</td>\n",
       "      <td>benign</td>\n",
       "    </tr>\n",
       "    <tr>\n",
       "      <th>689</th>\n",
       "      <td>654546</td>\n",
       "      <td>1.0</td>\n",
       "      <td>1.0</td>\n",
       "      <td>benign</td>\n",
       "    </tr>\n",
       "    <tr>\n",
       "      <th>690</th>\n",
       "      <td>654546</td>\n",
       "      <td>1.0</td>\n",
       "      <td>1.0</td>\n",
       "      <td>benign</td>\n",
       "    </tr>\n",
       "    <tr>\n",
       "      <th>697</th>\n",
       "      <td>897471</td>\n",
       "      <td>4.0</td>\n",
       "      <td>10.0</td>\n",
       "      <td>malignant</td>\n",
       "    </tr>\n",
       "    <tr>\n",
       "      <th>698</th>\n",
       "      <td>897471</td>\n",
       "      <td>4.0</td>\n",
       "      <td>10.0</td>\n",
       "      <td>malignant</td>\n",
       "    </tr>\n",
       "  </tbody>\n",
       "</table>\n",
       "</div>"
      ],
      "text/plain": [
       "          id  thick  chrom      class\n",
       "42   1100524    6.0    7.0  malignant\n",
       "62   1116116    9.0    3.0  malignant\n",
       "168  1198641    3.0    3.0     benign\n",
       "207  1218860    1.0    3.0     benign\n",
       "208  1218860    1.0    3.0     benign\n",
       "253  1100524    6.0    7.0  malignant\n",
       "254  1116116    9.0    3.0  malignant\n",
       "258  1198641    3.0    3.0     benign\n",
       "267   320675    3.0    7.0  malignant\n",
       "272   320675    3.0    7.0  malignant\n",
       "314   704097    1.0    2.0     benign\n",
       "321   733639    3.0    3.0     benign\n",
       "322   733639    3.0    3.0     benign\n",
       "338   704097    1.0    2.0     benign\n",
       "442   734111    1.0    1.0     benign\n",
       "443   734111    1.0    1.0     benign\n",
       "560  1321942    5.0    3.0     benign\n",
       "561  1321942    5.0    3.0     benign\n",
       "683   466906    1.0    1.0     benign\n",
       "684   466906    1.0    1.0     benign\n",
       "689   654546    1.0    1.0     benign\n",
       "690   654546    1.0    1.0     benign\n",
       "697   897471    4.0   10.0  malignant\n",
       "698   897471    4.0   10.0  malignant"
      ]
     },
     "execution_count": 12,
     "metadata": {},
     "output_type": "execute_result"
    }
   ],
   "source": [
    "bcd2[bcd2.duplicated(keep=False)]"
   ]
  },
  {
   "cell_type": "markdown",
   "id": "48ceec6b-6856-4ef6-859e-297a18a7b85d",
   "metadata": {},
   "source": [
    "---"
   ]
  },
  {
   "cell_type": "markdown",
   "id": "6563ff66-ccef-4afc-af7c-2718e301c8ed",
   "metadata": {
    "tags": []
   },
   "source": [
    "Hm. That's somewhat helpful. If we look near the bottom, we see that the last 5 or so duplicates occur in successive rows, perhaps indicating a data entry mistake. Perhaps looking at the data sorted by patient ID would be more helpful."
   ]
  },
  {
   "cell_type": "markdown",
   "id": "3b89c036-48f5-49b2-bdd2-669758fa8cc8",
   "metadata": {},
   "source": [
    "---"
   ]
  },
  {
   "cell_type": "markdown",
   "id": "2fd9e12f-be0c-41f5-a5d6-f3f75cdb7fa1",
   "metadata": {},
   "source": [
    "In the cell below, use the the `.sort_values()` method to look at our duplicates sorted by ID."
   ]
  },
  {
   "cell_type": "code",
   "execution_count": 13,
   "id": "59966d9f-e452-45d1-90bf-1b887d53f9f3",
   "metadata": {},
   "outputs": [
    {
     "data": {
      "text/html": [
       "<div>\n",
       "<style scoped>\n",
       "    .dataframe tbody tr th:only-of-type {\n",
       "        vertical-align: middle;\n",
       "    }\n",
       "\n",
       "    .dataframe tbody tr th {\n",
       "        vertical-align: top;\n",
       "    }\n",
       "\n",
       "    .dataframe thead th {\n",
       "        text-align: right;\n",
       "    }\n",
       "</style>\n",
       "<table border=\"1\" class=\"dataframe\">\n",
       "  <thead>\n",
       "    <tr style=\"text-align: right;\">\n",
       "      <th></th>\n",
       "      <th>id</th>\n",
       "      <th>thick</th>\n",
       "      <th>chrom</th>\n",
       "      <th>class</th>\n",
       "    </tr>\n",
       "  </thead>\n",
       "  <tbody>\n",
       "    <tr>\n",
       "      <th>42</th>\n",
       "      <td>1100524</td>\n",
       "      <td>6.0</td>\n",
       "      <td>7.0</td>\n",
       "      <td>malignant</td>\n",
       "    </tr>\n",
       "    <tr>\n",
       "      <th>253</th>\n",
       "      <td>1100524</td>\n",
       "      <td>6.0</td>\n",
       "      <td>7.0</td>\n",
       "      <td>malignant</td>\n",
       "    </tr>\n",
       "    <tr>\n",
       "      <th>62</th>\n",
       "      <td>1116116</td>\n",
       "      <td>9.0</td>\n",
       "      <td>3.0</td>\n",
       "      <td>malignant</td>\n",
       "    </tr>\n",
       "    <tr>\n",
       "      <th>254</th>\n",
       "      <td>1116116</td>\n",
       "      <td>9.0</td>\n",
       "      <td>3.0</td>\n",
       "      <td>malignant</td>\n",
       "    </tr>\n",
       "    <tr>\n",
       "      <th>168</th>\n",
       "      <td>1198641</td>\n",
       "      <td>3.0</td>\n",
       "      <td>3.0</td>\n",
       "      <td>benign</td>\n",
       "    </tr>\n",
       "    <tr>\n",
       "      <th>258</th>\n",
       "      <td>1198641</td>\n",
       "      <td>3.0</td>\n",
       "      <td>3.0</td>\n",
       "      <td>benign</td>\n",
       "    </tr>\n",
       "    <tr>\n",
       "      <th>207</th>\n",
       "      <td>1218860</td>\n",
       "      <td>1.0</td>\n",
       "      <td>3.0</td>\n",
       "      <td>benign</td>\n",
       "    </tr>\n",
       "    <tr>\n",
       "      <th>208</th>\n",
       "      <td>1218860</td>\n",
       "      <td>1.0</td>\n",
       "      <td>3.0</td>\n",
       "      <td>benign</td>\n",
       "    </tr>\n",
       "    <tr>\n",
       "      <th>561</th>\n",
       "      <td>1321942</td>\n",
       "      <td>5.0</td>\n",
       "      <td>3.0</td>\n",
       "      <td>benign</td>\n",
       "    </tr>\n",
       "    <tr>\n",
       "      <th>560</th>\n",
       "      <td>1321942</td>\n",
       "      <td>5.0</td>\n",
       "      <td>3.0</td>\n",
       "      <td>benign</td>\n",
       "    </tr>\n",
       "    <tr>\n",
       "      <th>272</th>\n",
       "      <td>320675</td>\n",
       "      <td>3.0</td>\n",
       "      <td>7.0</td>\n",
       "      <td>malignant</td>\n",
       "    </tr>\n",
       "    <tr>\n",
       "      <th>267</th>\n",
       "      <td>320675</td>\n",
       "      <td>3.0</td>\n",
       "      <td>7.0</td>\n",
       "      <td>malignant</td>\n",
       "    </tr>\n",
       "    <tr>\n",
       "      <th>684</th>\n",
       "      <td>466906</td>\n",
       "      <td>1.0</td>\n",
       "      <td>1.0</td>\n",
       "      <td>benign</td>\n",
       "    </tr>\n",
       "    <tr>\n",
       "      <th>683</th>\n",
       "      <td>466906</td>\n",
       "      <td>1.0</td>\n",
       "      <td>1.0</td>\n",
       "      <td>benign</td>\n",
       "    </tr>\n",
       "    <tr>\n",
       "      <th>690</th>\n",
       "      <td>654546</td>\n",
       "      <td>1.0</td>\n",
       "      <td>1.0</td>\n",
       "      <td>benign</td>\n",
       "    </tr>\n",
       "    <tr>\n",
       "      <th>689</th>\n",
       "      <td>654546</td>\n",
       "      <td>1.0</td>\n",
       "      <td>1.0</td>\n",
       "      <td>benign</td>\n",
       "    </tr>\n",
       "    <tr>\n",
       "      <th>314</th>\n",
       "      <td>704097</td>\n",
       "      <td>1.0</td>\n",
       "      <td>2.0</td>\n",
       "      <td>benign</td>\n",
       "    </tr>\n",
       "    <tr>\n",
       "      <th>338</th>\n",
       "      <td>704097</td>\n",
       "      <td>1.0</td>\n",
       "      <td>2.0</td>\n",
       "      <td>benign</td>\n",
       "    </tr>\n",
       "    <tr>\n",
       "      <th>321</th>\n",
       "      <td>733639</td>\n",
       "      <td>3.0</td>\n",
       "      <td>3.0</td>\n",
       "      <td>benign</td>\n",
       "    </tr>\n",
       "    <tr>\n",
       "      <th>322</th>\n",
       "      <td>733639</td>\n",
       "      <td>3.0</td>\n",
       "      <td>3.0</td>\n",
       "      <td>benign</td>\n",
       "    </tr>\n",
       "    <tr>\n",
       "      <th>442</th>\n",
       "      <td>734111</td>\n",
       "      <td>1.0</td>\n",
       "      <td>1.0</td>\n",
       "      <td>benign</td>\n",
       "    </tr>\n",
       "    <tr>\n",
       "      <th>443</th>\n",
       "      <td>734111</td>\n",
       "      <td>1.0</td>\n",
       "      <td>1.0</td>\n",
       "      <td>benign</td>\n",
       "    </tr>\n",
       "    <tr>\n",
       "      <th>697</th>\n",
       "      <td>897471</td>\n",
       "      <td>4.0</td>\n",
       "      <td>10.0</td>\n",
       "      <td>malignant</td>\n",
       "    </tr>\n",
       "    <tr>\n",
       "      <th>698</th>\n",
       "      <td>897471</td>\n",
       "      <td>4.0</td>\n",
       "      <td>10.0</td>\n",
       "      <td>malignant</td>\n",
       "    </tr>\n",
       "  </tbody>\n",
       "</table>\n",
       "</div>"
      ],
      "text/plain": [
       "          id  thick  chrom      class\n",
       "42   1100524    6.0    7.0  malignant\n",
       "253  1100524    6.0    7.0  malignant\n",
       "62   1116116    9.0    3.0  malignant\n",
       "254  1116116    9.0    3.0  malignant\n",
       "168  1198641    3.0    3.0     benign\n",
       "258  1198641    3.0    3.0     benign\n",
       "207  1218860    1.0    3.0     benign\n",
       "208  1218860    1.0    3.0     benign\n",
       "561  1321942    5.0    3.0     benign\n",
       "560  1321942    5.0    3.0     benign\n",
       "272   320675    3.0    7.0  malignant\n",
       "267   320675    3.0    7.0  malignant\n",
       "684   466906    1.0    1.0     benign\n",
       "683   466906    1.0    1.0     benign\n",
       "690   654546    1.0    1.0     benign\n",
       "689   654546    1.0    1.0     benign\n",
       "314   704097    1.0    2.0     benign\n",
       "338   704097    1.0    2.0     benign\n",
       "321   733639    3.0    3.0     benign\n",
       "322   733639    3.0    3.0     benign\n",
       "442   734111    1.0    1.0     benign\n",
       "443   734111    1.0    1.0     benign\n",
       "697   897471    4.0   10.0  malignant\n",
       "698   897471    4.0   10.0  malignant"
      ]
     },
     "execution_count": 13,
     "metadata": {},
     "output_type": "execute_result"
    }
   ],
   "source": [
    "bcd2[bcd2.duplicated(keep=False)].sort_values('id')"
   ]
  },
  {
   "cell_type": "markdown",
   "id": "bde2a5db-c7ba-4e34-920a-db1634e2e277",
   "metadata": {},
   "source": [
    "So most of the duplicates occur in adjacent rows, but others do not. Perhaps we should check and see if the same patients occur multiple times with different measurements, indicating multiple visits to the doctor. "
   ]
  },
  {
   "cell_type": "markdown",
   "id": "bc91a175-eff0-470f-a58b-5c4d4771459e",
   "metadata": {},
   "source": [
    "---"
   ]
  },
  {
   "cell_type": "markdown",
   "id": "00c3eb83-e190-4932-ab4b-a1b1b6ce24ea",
   "metadata": {},
   "source": [
    "Use the cell below and the `subset` argument to `duplicated()` to look at multiple entries for any patients that have them."
   ]
  },
  {
   "cell_type": "code",
   "execution_count": 14,
   "id": "f53efac7-9ec0-4b58-abbc-75ecc6cb7d4d",
   "metadata": {},
   "outputs": [
    {
     "data": {
      "text/html": [
       "<div>\n",
       "<style scoped>\n",
       "    .dataframe tbody tr th:only-of-type {\n",
       "        vertical-align: middle;\n",
       "    }\n",
       "\n",
       "    .dataframe tbody tr th {\n",
       "        vertical-align: top;\n",
       "    }\n",
       "\n",
       "    .dataframe thead th {\n",
       "        text-align: right;\n",
       "    }\n",
       "</style>\n",
       "<table border=\"1\" class=\"dataframe\">\n",
       "  <thead>\n",
       "    <tr style=\"text-align: right;\">\n",
       "      <th></th>\n",
       "      <th>id</th>\n",
       "      <th>thick</th>\n",
       "      <th>chrom</th>\n",
       "      <th>class</th>\n",
       "    </tr>\n",
       "  </thead>\n",
       "  <tbody>\n",
       "    <tr>\n",
       "      <th>4</th>\n",
       "      <td>1017023</td>\n",
       "      <td>4.0</td>\n",
       "      <td>3.0</td>\n",
       "      <td>benign</td>\n",
       "    </tr>\n",
       "    <tr>\n",
       "      <th>8</th>\n",
       "      <td>1033078</td>\n",
       "      <td>2.0</td>\n",
       "      <td>1.0</td>\n",
       "      <td>benign</td>\n",
       "    </tr>\n",
       "    <tr>\n",
       "      <th>9</th>\n",
       "      <td>1033078</td>\n",
       "      <td>4.0</td>\n",
       "      <td>2.0</td>\n",
       "      <td>benign</td>\n",
       "    </tr>\n",
       "    <tr>\n",
       "      <th>29</th>\n",
       "      <td>1070935</td>\n",
       "      <td>1.0</td>\n",
       "      <td>1.0</td>\n",
       "      <td>benign</td>\n",
       "    </tr>\n",
       "    <tr>\n",
       "      <th>30</th>\n",
       "      <td>1070935</td>\n",
       "      <td>3.0</td>\n",
       "      <td>2.0</td>\n",
       "      <td>benign</td>\n",
       "    </tr>\n",
       "    <tr>\n",
       "      <th>...</th>\n",
       "      <td>...</td>\n",
       "      <td>...</td>\n",
       "      <td>...</td>\n",
       "      <td>...</td>\n",
       "    </tr>\n",
       "    <tr>\n",
       "      <th>689</th>\n",
       "      <td>654546</td>\n",
       "      <td>1.0</td>\n",
       "      <td>1.0</td>\n",
       "      <td>benign</td>\n",
       "    </tr>\n",
       "    <tr>\n",
       "      <th>690</th>\n",
       "      <td>654546</td>\n",
       "      <td>1.0</td>\n",
       "      <td>1.0</td>\n",
       "      <td>benign</td>\n",
       "    </tr>\n",
       "    <tr>\n",
       "      <th>691</th>\n",
       "      <td>695091</td>\n",
       "      <td>5.0</td>\n",
       "      <td>4.0</td>\n",
       "      <td>malignant</td>\n",
       "    </tr>\n",
       "    <tr>\n",
       "      <th>697</th>\n",
       "      <td>897471</td>\n",
       "      <td>4.0</td>\n",
       "      <td>10.0</td>\n",
       "      <td>malignant</td>\n",
       "    </tr>\n",
       "    <tr>\n",
       "      <th>698</th>\n",
       "      <td>897471</td>\n",
       "      <td>4.0</td>\n",
       "      <td>10.0</td>\n",
       "      <td>malignant</td>\n",
       "    </tr>\n",
       "  </tbody>\n",
       "</table>\n",
       "<p>100 rows × 4 columns</p>\n",
       "</div>"
      ],
      "text/plain": [
       "          id  thick  chrom      class\n",
       "4    1017023    4.0    3.0     benign\n",
       "8    1033078    2.0    1.0     benign\n",
       "9    1033078    4.0    2.0     benign\n",
       "29   1070935    1.0    1.0     benign\n",
       "30   1070935    3.0    2.0     benign\n",
       "..       ...    ...    ...        ...\n",
       "689   654546    1.0    1.0     benign\n",
       "690   654546    1.0    1.0     benign\n",
       "691   695091    5.0    4.0  malignant\n",
       "697   897471    4.0   10.0  malignant\n",
       "698   897471    4.0   10.0  malignant\n",
       "\n",
       "[100 rows x 4 columns]"
      ]
     },
     "execution_count": 14,
     "metadata": {},
     "output_type": "execute_result"
    }
   ],
   "source": [
    "bcd2[bcd2.duplicated(subset = 'id', keep=False)]"
   ]
  },
  {
   "cell_type": "markdown",
   "id": "29d9b2dc-97ac-4a40-8a0b-a9b2fc31b73b",
   "metadata": {},
   "source": [
    "---"
   ]
  },
  {
   "cell_type": "markdown",
   "id": "5616ea16-b64e-4069-885f-17b490632326",
   "metadata": {},
   "source": [
    "Now, in the cell below, do the same thing but sort the output by patient ID."
   ]
  },
  {
   "cell_type": "code",
   "execution_count": 15,
   "id": "bdd38328-8e77-4a40-b6ec-226f63d5d3c8",
   "metadata": {},
   "outputs": [
    {
     "data": {
      "text/html": [
       "<div>\n",
       "<style scoped>\n",
       "    .dataframe tbody tr th:only-of-type {\n",
       "        vertical-align: middle;\n",
       "    }\n",
       "\n",
       "    .dataframe tbody tr th {\n",
       "        vertical-align: top;\n",
       "    }\n",
       "\n",
       "    .dataframe thead th {\n",
       "        text-align: right;\n",
       "    }\n",
       "</style>\n",
       "<table border=\"1\" class=\"dataframe\">\n",
       "  <thead>\n",
       "    <tr style=\"text-align: right;\">\n",
       "      <th></th>\n",
       "      <th>id</th>\n",
       "      <th>thick</th>\n",
       "      <th>chrom</th>\n",
       "      <th>class</th>\n",
       "    </tr>\n",
       "  </thead>\n",
       "  <tbody>\n",
       "    <tr>\n",
       "      <th>4</th>\n",
       "      <td>1017023</td>\n",
       "      <td>4.0</td>\n",
       "      <td>3.0</td>\n",
       "      <td>benign</td>\n",
       "    </tr>\n",
       "    <tr>\n",
       "      <th>252</th>\n",
       "      <td>1017023</td>\n",
       "      <td>6.0</td>\n",
       "      <td>3.0</td>\n",
       "      <td>benign</td>\n",
       "    </tr>\n",
       "    <tr>\n",
       "      <th>8</th>\n",
       "      <td>1033078</td>\n",
       "      <td>2.0</td>\n",
       "      <td>1.0</td>\n",
       "      <td>benign</td>\n",
       "    </tr>\n",
       "    <tr>\n",
       "      <th>9</th>\n",
       "      <td>1033078</td>\n",
       "      <td>4.0</td>\n",
       "      <td>2.0</td>\n",
       "      <td>benign</td>\n",
       "    </tr>\n",
       "    <tr>\n",
       "      <th>618</th>\n",
       "      <td>1061990</td>\n",
       "      <td>4.0</td>\n",
       "      <td>2.0</td>\n",
       "      <td>benign</td>\n",
       "    </tr>\n",
       "    <tr>\n",
       "      <th>...</th>\n",
       "      <td>...</td>\n",
       "      <td>...</td>\n",
       "      <td>...</td>\n",
       "      <td>...</td>\n",
       "    </tr>\n",
       "    <tr>\n",
       "      <th>527</th>\n",
       "      <td>798429</td>\n",
       "      <td>4.0</td>\n",
       "      <td>3.0</td>\n",
       "      <td>benign</td>\n",
       "    </tr>\n",
       "    <tr>\n",
       "      <th>344</th>\n",
       "      <td>822829</td>\n",
       "      <td>7.0</td>\n",
       "      <td>9.0</td>\n",
       "      <td>malignant</td>\n",
       "    </tr>\n",
       "    <tr>\n",
       "      <th>612</th>\n",
       "      <td>822829</td>\n",
       "      <td>8.0</td>\n",
       "      <td>10.0</td>\n",
       "      <td>malignant</td>\n",
       "    </tr>\n",
       "    <tr>\n",
       "      <th>697</th>\n",
       "      <td>897471</td>\n",
       "      <td>4.0</td>\n",
       "      <td>10.0</td>\n",
       "      <td>malignant</td>\n",
       "    </tr>\n",
       "    <tr>\n",
       "      <th>698</th>\n",
       "      <td>897471</td>\n",
       "      <td>4.0</td>\n",
       "      <td>10.0</td>\n",
       "      <td>malignant</td>\n",
       "    </tr>\n",
       "  </tbody>\n",
       "</table>\n",
       "<p>100 rows × 4 columns</p>\n",
       "</div>"
      ],
      "text/plain": [
       "          id  thick  chrom      class\n",
       "4    1017023    4.0    3.0     benign\n",
       "252  1017023    6.0    3.0     benign\n",
       "8    1033078    2.0    1.0     benign\n",
       "9    1033078    4.0    2.0     benign\n",
       "618  1061990    4.0    2.0     benign\n",
       "..       ...    ...    ...        ...\n",
       "527   798429    4.0    3.0     benign\n",
       "344   822829    7.0    9.0  malignant\n",
       "612   822829    8.0   10.0  malignant\n",
       "697   897471    4.0   10.0  malignant\n",
       "698   897471    4.0   10.0  malignant\n",
       "\n",
       "[100 rows x 4 columns]"
      ]
     },
     "execution_count": 15,
     "metadata": {},
     "output_type": "execute_result"
    }
   ],
   "source": [
    "bcd2[bcd2.duplicated(subset = 'id', keep=False)].sort_values('id')"
   ]
  },
  {
   "cell_type": "markdown",
   "id": "f1febc84-ff00-45a7-8b0c-8355d9fdb512",
   "metadata": {},
   "source": [
    "---"
   ]
  },
  {
   "cell_type": "markdown",
   "id": "842e97e4-4123-495c-9ca2-82ed15afdf02",
   "metadata": {},
   "source": [
    "So it looks like patients do come in multiple times and the values can change between visits."
   ]
  },
  {
   "cell_type": "markdown",
   "id": "485ec067-9ee7-4483-8289-10fe578e8a80",
   "metadata": {},
   "source": [
    "We can look at repeat patient's number of visits directly if we want. We'll take advantage of the fact that the `.size` of a `groupby()` object returns the number of rows for each group."
   ]
  },
  {
   "cell_type": "code",
   "execution_count": 16,
   "id": "8a3c3e73-9112-4848-a066-c4b5c39c2c6a",
   "metadata": {},
   "outputs": [],
   "source": [
    "repeat_patients = bcd2.groupby('id').size().sort_values(ascending =False)"
   ]
  },
  {
   "cell_type": "code",
   "execution_count": 17,
   "id": "19833c2f-32b5-411a-883a-a57660f5ecbb",
   "metadata": {
    "tags": []
   },
   "outputs": [
    {
     "data": {
      "text/plain": [
       "id\n",
       "1182404    6\n",
       "1276091    5\n",
       "1198641    3\n",
       "1299596    2\n",
       "1158247    2\n",
       "          ..\n",
       "1200892    1\n",
       "1200952    1\n",
       "1201834    1\n",
       "1201870    1\n",
       "95719      1\n",
       "Length: 645, dtype: int64"
      ]
     },
     "execution_count": 17,
     "metadata": {},
     "output_type": "execute_result"
    }
   ],
   "source": [
    "repeat_patients"
   ]
  },
  {
   "cell_type": "markdown",
   "id": "8e4309e4-7ba6-43df-a67a-bdb8758470ba",
   "metadata": {},
   "source": [
    "So one patient came in 6 times."
   ]
  },
  {
   "cell_type": "markdown",
   "id": "24b8cdb6-4056-4f77-b68d-075c2f642c3c",
   "metadata": {},
   "source": [
    "---"
   ]
  },
  {
   "cell_type": "markdown",
   "id": "b604d72b-5ae1-4510-bec9-894de2ed778b",
   "metadata": {},
   "source": [
    "Use the cell below look at the data for the patient with 6 visits."
   ]
  },
  {
   "cell_type": "code",
   "execution_count": 18,
   "id": "a2afafb3-b5d3-49bd-b156-03713d2b3429",
   "metadata": {},
   "outputs": [
    {
     "data": {
      "text/html": [
       "<div>\n",
       "<style scoped>\n",
       "    .dataframe tbody tr th:only-of-type {\n",
       "        vertical-align: middle;\n",
       "    }\n",
       "\n",
       "    .dataframe tbody tr th {\n",
       "        vertical-align: top;\n",
       "    }\n",
       "\n",
       "    .dataframe thead th {\n",
       "        text-align: right;\n",
       "    }\n",
       "</style>\n",
       "<table border=\"1\" class=\"dataframe\">\n",
       "  <thead>\n",
       "    <tr style=\"text-align: right;\">\n",
       "      <th></th>\n",
       "      <th>id</th>\n",
       "      <th>thick</th>\n",
       "      <th>chrom</th>\n",
       "      <th>class</th>\n",
       "    </tr>\n",
       "  </thead>\n",
       "  <tbody>\n",
       "    <tr>\n",
       "      <th>136</th>\n",
       "      <td>1182404</td>\n",
       "      <td>4.0</td>\n",
       "      <td>2.0</td>\n",
       "      <td>benign</td>\n",
       "    </tr>\n",
       "    <tr>\n",
       "      <th>256</th>\n",
       "      <td>1182404</td>\n",
       "      <td>3.0</td>\n",
       "      <td>1.0</td>\n",
       "      <td>benign</td>\n",
       "    </tr>\n",
       "    <tr>\n",
       "      <th>257</th>\n",
       "      <td>1182404</td>\n",
       "      <td>3.0</td>\n",
       "      <td>2.0</td>\n",
       "      <td>benign</td>\n",
       "    </tr>\n",
       "    <tr>\n",
       "      <th>265</th>\n",
       "      <td>1182404</td>\n",
       "      <td>5.0</td>\n",
       "      <td>3.0</td>\n",
       "      <td>benign</td>\n",
       "    </tr>\n",
       "    <tr>\n",
       "      <th>448</th>\n",
       "      <td>1182404</td>\n",
       "      <td>1.0</td>\n",
       "      <td>1.0</td>\n",
       "      <td>benign</td>\n",
       "    </tr>\n",
       "    <tr>\n",
       "      <th>497</th>\n",
       "      <td>1182404</td>\n",
       "      <td>4.0</td>\n",
       "      <td>1.0</td>\n",
       "      <td>benign</td>\n",
       "    </tr>\n",
       "  </tbody>\n",
       "</table>\n",
       "</div>"
      ],
      "text/plain": [
       "          id  thick  chrom   class\n",
       "136  1182404    4.0    2.0  benign\n",
       "256  1182404    3.0    1.0  benign\n",
       "257  1182404    3.0    2.0  benign\n",
       "265  1182404    5.0    3.0  benign\n",
       "448  1182404    1.0    1.0  benign\n",
       "497  1182404    4.0    1.0  benign"
      ]
     },
     "execution_count": 18,
     "metadata": {},
     "output_type": "execute_result"
    }
   ],
   "source": [
    "bcd2[bcd2['id'] == '1182404']"
   ]
  },
  {
   "cell_type": "markdown",
   "id": "37fb8db9-f60d-452c-bdd1-bf52c16d64ce",
   "metadata": {},
   "source": [
    "So it appears that some patients have multiple legitimate entries in the data frame."
   ]
  },
  {
   "cell_type": "markdown",
   "id": "ecbaab56-a9fa-418b-8bdf-d1ba3d250a5b",
   "metadata": {},
   "source": [
    "---"
   ]
  },
  {
   "cell_type": "markdown",
   "id": "1bd253ce-10b8-448b-8a02-f9be5969ab90",
   "metadata": {},
   "source": [
    "What would you do with duplicate observations in this data frame, and why?"
   ]
  },
  {
   "cell_type": "markdown",
   "id": "2e26d989-e1ea-4682-80bb-ce5d9baa0793",
   "metadata": {},
   "source": []
  },
  {
   "cell_type": "markdown",
   "id": "12d24c44-ba06-4790-9feb-188ddcbe43a9",
   "metadata": {},
   "source": [
    "---"
   ]
  },
  {
   "cell_type": "markdown",
   "id": "2c3973fb-72df-48c1-afde-b63d96b5b0fd",
   "metadata": {},
   "source": [
    "## Transforming data"
   ]
  },
  {
   "cell_type": "markdown",
   "id": "cda43dfe-018e-43a9-ab8d-bad3da2d8983",
   "metadata": {},
   "source": [
    "Sometimes we wish to apply a transform to data by pushing each data value through some function. Common transformations are unit conversions (miles to kilometers, for example), log or power transformations, and normalizing data (for example, converting data to z-scores)."
   ]
  },
  {
   "cell_type": "markdown",
   "id": "fbcf312a-2cc7-4a1b-a803-fbc171f5b600",
   "metadata": {},
   "source": [
    "### Transforming data with a built-in function"
   ]
  },
  {
   "cell_type": "markdown",
   "id": "122c51a0-ba1d-4f4a-948c-4f8f55eb0fa1",
   "metadata": {},
   "source": [
    "Consider the following data..."
   ]
  },
  {
   "cell_type": "code",
   "execution_count": 19,
   "id": "274b22fa-f715-4c06-81a0-f5538afc1526",
   "metadata": {},
   "outputs": [],
   "source": [
    "df = pd.DataFrame({'x': range(6),\n",
    "                   'y': [0.1, 0.9, 4.2, 8.7, 15.9, 26]})"
   ]
  },
  {
   "cell_type": "code",
   "execution_count": 20,
   "id": "c9ae11a3-e8b4-4fc2-83fc-80b9830e37fa",
   "metadata": {},
   "outputs": [
    {
     "data": {
      "text/html": [
       "<div>\n",
       "<style scoped>\n",
       "    .dataframe tbody tr th:only-of-type {\n",
       "        vertical-align: middle;\n",
       "    }\n",
       "\n",
       "    .dataframe tbody tr th {\n",
       "        vertical-align: top;\n",
       "    }\n",
       "\n",
       "    .dataframe thead th {\n",
       "        text-align: right;\n",
       "    }\n",
       "</style>\n",
       "<table border=\"1\" class=\"dataframe\">\n",
       "  <thead>\n",
       "    <tr style=\"text-align: right;\">\n",
       "      <th></th>\n",
       "      <th>x</th>\n",
       "      <th>y</th>\n",
       "    </tr>\n",
       "  </thead>\n",
       "  <tbody>\n",
       "    <tr>\n",
       "      <th>0</th>\n",
       "      <td>0</td>\n",
       "      <td>0.1</td>\n",
       "    </tr>\n",
       "    <tr>\n",
       "      <th>1</th>\n",
       "      <td>1</td>\n",
       "      <td>0.9</td>\n",
       "    </tr>\n",
       "    <tr>\n",
       "      <th>2</th>\n",
       "      <td>2</td>\n",
       "      <td>4.2</td>\n",
       "    </tr>\n",
       "    <tr>\n",
       "      <th>3</th>\n",
       "      <td>3</td>\n",
       "      <td>8.7</td>\n",
       "    </tr>\n",
       "    <tr>\n",
       "      <th>4</th>\n",
       "      <td>4</td>\n",
       "      <td>15.9</td>\n",
       "    </tr>\n",
       "    <tr>\n",
       "      <th>5</th>\n",
       "      <td>5</td>\n",
       "      <td>26.0</td>\n",
       "    </tr>\n",
       "  </tbody>\n",
       "</table>\n",
       "</div>"
      ],
      "text/plain": [
       "   x     y\n",
       "0  0   0.1\n",
       "1  1   0.9\n",
       "2  2   4.2\n",
       "3  3   8.7\n",
       "4  4  15.9\n",
       "5  5  26.0"
      ]
     },
     "execution_count": 20,
     "metadata": {},
     "output_type": "execute_result"
    }
   ],
   "source": [
    "df"
   ]
  },
  {
   "cell_type": "markdown",
   "id": "c7f46273-7cfe-46ce-a891-6024e5bc7497",
   "metadata": {},
   "source": [
    "---"
   ]
  },
  {
   "cell_type": "markdown",
   "id": "73a88331-e074-486e-a99f-aa2f81da4256",
   "metadata": {},
   "source": [
    "Plot the data (y vs. x) (seaborn's `relplot()` is handy)."
   ]
  },
  {
   "cell_type": "code",
   "execution_count": 21,
   "id": "86da0ff1-e139-41db-b50e-2cedbd1a8759",
   "metadata": {},
   "outputs": [],
   "source": [
    "%matplotlib inline"
   ]
  },
  {
   "cell_type": "code",
   "execution_count": 22,
   "id": "02f26153-306e-4e54-a0e5-291bea987fc8",
   "metadata": {},
   "outputs": [
    {
     "data": {
      "text/plain": [
       "<seaborn.axisgrid.FacetGrid at 0x7faa905c81f0>"
      ]
     },
     "execution_count": 22,
     "metadata": {},
     "output_type": "execute_result"
    },
    {
     "data": {
      "image/png": "[encoded data removed]",
      "text/plain": [
       "<Figure size 500x500 with 1 Axes>"
      ]
     },
     "metadata": {},
     "output_type": "display_data"
    }
   ],
   "source": [
    "sns.relplot(data = df, x = 'x', y = 'y')\n",
    "#plt.show()"
   ]
  },
  {
   "cell_type": "markdown",
   "id": "6d649b03-1332-4e7f-aa8b-9eaab4036bef",
   "metadata": {},
   "source": [
    "---"
   ]
  },
  {
   "cell_type": "markdown",
   "id": "51e43c18-6bee-4d81-a551-0b36b791ca1d",
   "metadata": {},
   "source": [
    "These data look non-linear, like they are following a power law. If that's true, we should get a straight line if we plot the log of the values against one another. Let's see."
   ]
  },
  {
   "cell_type": "code",
   "execution_count": 23,
   "id": "71ae16d2-c5ca-4b76-b795-40e862339001",
   "metadata": {},
   "outputs": [],
   "source": [
    "df_trans = df.copy()\n",
    "df_trans['y'] = df['y'].transform(np.log10)\n",
    "df_trans['x'] = df['x'].transform(np.log10)"
   ]
  },
  {
   "cell_type": "code",
   "execution_count": 24,
   "id": "99ac1cea-1729-4baa-9d61-2acee70f995a",
   "metadata": {
    "tags": []
   },
   "outputs": [
    {
     "data": {
      "text/plain": [
       "<seaborn.axisgrid.FacetGrid at 0x7faab0221d90>"
      ]
     },
     "execution_count": 24,
     "metadata": {},
     "output_type": "execute_result"
    },
    {
     "data": {
      "image/png": "[encoded data removed]",
      "text/plain": [
       "<Figure size 500x500 with 1 Axes>"
      ]
     },
     "metadata": {},
     "output_type": "display_data"
    }
   ],
   "source": [
    "sns.relplot(data = df_trans, x = 'x', y = 'y')\n",
    "#plt.show()"
   ]
  },
  {
   "cell_type": "markdown",
   "id": "65df28b3-b9e5-4da8-bfee-0346b364aa3e",
   "metadata": {},
   "source": [
    "Sure enough. The slope of the line should tell us the exponent of the power law, and it looks to be about 2. If that's the case, then transforming the original y-values with a square-root function should also produce a straight line."
   ]
  },
  {
   "cell_type": "code",
   "execution_count": 25,
   "id": "3c85d7d8-85df-40a4-884c-63446a12d8df",
   "metadata": {},
   "outputs": [],
   "source": [
    "df_trans = df.copy()\n",
    "df_trans['y'] = df['y'].transform(np.sqrt)"
   ]
  },
  {
   "cell_type": "code",
   "execution_count": 26,
   "id": "8893b763-e7fe-4fb8-bc7a-dde9f65c84a0",
   "metadata": {
    "tags": []
   },
   "outputs": [
    {
     "data": {
      "text/plain": [
       "<seaborn.axisgrid.FacetGrid at 0x7faa804a3ee0>"
      ]
     },
     "execution_count": 26,
     "metadata": {},
     "output_type": "execute_result"
    },
    {
     "data": {
      "image/png": "[encoded data removed]",
      "text/plain": [
       "<Figure size 500x500 with 1 Axes>"
      ]
     },
     "metadata": {},
     "output_type": "display_data"
    }
   ],
   "source": [
    "sns.relplot(data = df_trans, x = 'x', y = 'y')\n",
    "#plt.show()"
   ]
  },
  {
   "cell_type": "markdown",
   "id": "f93abe4a-5fd7-4015-8667-62d685dc9529",
   "metadata": {},
   "source": [
    "---"
   ]
  },
  {
   "cell_type": "markdown",
   "id": "c013098f-837c-4973-bbd0-c1d1d03a49d5",
   "metadata": {},
   "source": [
    "We could also transform our cancer data. In the cell below, create a new data frame in which the numeric values are the natural log of the original values."
   ]
  },
  {
   "cell_type": "code",
   "execution_count": 28,
   "id": "92d1f75f-091f-47c3-a19f-1ea2a9a70733",
   "metadata": {},
   "outputs": [],
   "source": [
    "bc_logvals = bcd2.copy()\n",
    "bc_logvals[['thick', 'chrom']] = bcd2[['thick', 'chrom']].transform(np.log)"
   ]
  },
  {
   "cell_type": "code",
   "execution_count": 29,
   "id": "fbfa6a64-a84b-4a8d-9a03-fbad380519f7",
   "metadata": {},
   "outputs": [
    {
     "data": {
      "text/html": [
       "<div>\n",
       "<style scoped>\n",
       "    .dataframe tbody tr th:only-of-type {\n",
       "        vertical-align: middle;\n",
       "    }\n",
       "\n",
       "    .dataframe tbody tr th {\n",
       "        vertical-align: top;\n",
       "    }\n",
       "\n",
       "    .dataframe thead th {\n",
       "        text-align: right;\n",
       "    }\n",
       "</style>\n",
       "<table border=\"1\" class=\"dataframe\">\n",
       "  <thead>\n",
       "    <tr style=\"text-align: right;\">\n",
       "      <th></th>\n",
       "      <th>id</th>\n",
       "      <th>thick</th>\n",
       "      <th>chrom</th>\n",
       "      <th>class</th>\n",
       "    </tr>\n",
       "  </thead>\n",
       "  <tbody>\n",
       "    <tr>\n",
       "      <th>0</th>\n",
       "      <td>1000025</td>\n",
       "      <td>1.609438</td>\n",
       "      <td>1.098612</td>\n",
       "      <td>benign</td>\n",
       "    </tr>\n",
       "    <tr>\n",
       "      <th>1</th>\n",
       "      <td>1002945</td>\n",
       "      <td>1.609438</td>\n",
       "      <td>1.098612</td>\n",
       "      <td>benign</td>\n",
       "    </tr>\n",
       "    <tr>\n",
       "      <th>2</th>\n",
       "      <td>1015425</td>\n",
       "      <td>1.098612</td>\n",
       "      <td>1.098612</td>\n",
       "      <td>benign</td>\n",
       "    </tr>\n",
       "    <tr>\n",
       "      <th>3</th>\n",
       "      <td>1016277</td>\n",
       "      <td>1.791759</td>\n",
       "      <td>1.098612</td>\n",
       "      <td>benign</td>\n",
       "    </tr>\n",
       "    <tr>\n",
       "      <th>4</th>\n",
       "      <td>1017023</td>\n",
       "      <td>1.386294</td>\n",
       "      <td>1.098612</td>\n",
       "      <td>benign</td>\n",
       "    </tr>\n",
       "    <tr>\n",
       "      <th>...</th>\n",
       "      <td>...</td>\n",
       "      <td>...</td>\n",
       "      <td>...</td>\n",
       "      <td>...</td>\n",
       "    </tr>\n",
       "    <tr>\n",
       "      <th>694</th>\n",
       "      <td>776715</td>\n",
       "      <td>1.098612</td>\n",
       "      <td>0.000000</td>\n",
       "      <td>benign</td>\n",
       "    </tr>\n",
       "    <tr>\n",
       "      <th>695</th>\n",
       "      <td>841769</td>\n",
       "      <td>0.693147</td>\n",
       "      <td>0.000000</td>\n",
       "      <td>benign</td>\n",
       "    </tr>\n",
       "    <tr>\n",
       "      <th>696</th>\n",
       "      <td>888820</td>\n",
       "      <td>1.609438</td>\n",
       "      <td>2.079442</td>\n",
       "      <td>malignant</td>\n",
       "    </tr>\n",
       "    <tr>\n",
       "      <th>697</th>\n",
       "      <td>897471</td>\n",
       "      <td>1.386294</td>\n",
       "      <td>2.302585</td>\n",
       "      <td>malignant</td>\n",
       "    </tr>\n",
       "    <tr>\n",
       "      <th>698</th>\n",
       "      <td>897471</td>\n",
       "      <td>1.386294</td>\n",
       "      <td>2.302585</td>\n",
       "      <td>malignant</td>\n",
       "    </tr>\n",
       "  </tbody>\n",
       "</table>\n",
       "<p>699 rows × 4 columns</p>\n",
       "</div>"
      ],
      "text/plain": [
       "          id     thick     chrom      class\n",
       "0    1000025  1.609438  1.098612     benign\n",
       "1    1002945  1.609438  1.098612     benign\n",
       "2    1015425  1.098612  1.098612     benign\n",
       "3    1016277  1.791759  1.098612     benign\n",
       "4    1017023  1.386294  1.098612     benign\n",
       "..       ...       ...       ...        ...\n",
       "694   776715  1.098612  0.000000     benign\n",
       "695   841769  0.693147  0.000000     benign\n",
       "696   888820  1.609438  2.079442  malignant\n",
       "697   897471  1.386294  2.302585  malignant\n",
       "698   897471  1.386294  2.302585  malignant\n",
       "\n",
       "[699 rows x 4 columns]"
      ]
     },
     "execution_count": 29,
     "metadata": {},
     "output_type": "execute_result"
    }
   ],
   "source": [
    "bc_logvals"
   ]
  },
  {
   "cell_type": "markdown",
   "id": "4d62ddaa-ab4d-4f2b-997a-b8feed18a53e",
   "metadata": {},
   "source": [
    "---"
   ]
  },
  {
   "cell_type": "markdown",
   "id": "f2ebc900-9365-4284-a5bf-dbab314485be",
   "metadata": {},
   "source": [
    "### Applying a custom function to data"
   ]
  },
  {
   "cell_type": "markdown",
   "id": "446f74ff-6440-491a-bd8e-ccd9d3c29437",
   "metadata": {},
   "source": [
    "A great thing about `filter()` (and some other data frame methods) is you can use your own fuctions, not just built in ones.\n",
    "\n",
    "For `filter()`, the only requirement is that your function\n",
    "\n",
    "- be able to take a data frame as input\n",
    "- produce output the same size as the input, or\n",
    "- produce a single value"
   ]
  },
  {
   "cell_type": "markdown",
   "id": "aebf4ee0-6f60-4221-bd2e-f707af98aa06",
   "metadata": {},
   "source": [
    "Here's a function to \"center\" data by subtracting the mean from each value. "
   ]
  },
  {
   "cell_type": "code",
   "execution_count": 35,
   "id": "17212f04-9a90-4d4b-bad4-fa707796bfc0",
   "metadata": {},
   "outputs": [],
   "source": [
    "def center_data(grp):\n",
    "    grp_mean = grp.mean(numeric_only = True)\n",
    "    \n",
    "    grp = (grp - grp_mean)\n",
    "    \n",
    "    return grp"
   ]
  },
  {
   "cell_type": "markdown",
   "id": "4966115f-10c2-4ffa-a003-feddbf622ac4",
   "metadata": {},
   "source": [
    "---"
   ]
  },
  {
   "cell_type": "markdown",
   "id": "425495f2-396f-4df5-ac6e-9094210c0020",
   "metadata": {},
   "source": [
    "In the cell below, use our new function to create new version of our data frame with the mean removed from each group of data. The `.transform()` method works column-by-column, so you don't need to worry about grouping the data."
   ]
  },
  {
   "cell_type": "code",
   "execution_count": 36,
   "id": "88ddf2bc-b931-4ca5-b849-9c10b044ddb4",
   "metadata": {
    "tags": []
   },
   "outputs": [],
   "source": [
    "trans_data = bcd2[['thick', 'chrom']].transform(center_data)"
   ]
  },
  {
   "cell_type": "markdown",
   "id": "1f41d28a-b3e1-49e4-b7e8-2b72d46a5375",
   "metadata": {},
   "source": [
    "---"
   ]
  },
  {
   "cell_type": "markdown",
   "id": "94e169b9-e965-4bfc-a4f1-9abe63069e74",
   "metadata": {},
   "source": [
    "Confirm this worked by computing the mean for each column of your transformed data."
   ]
  },
  {
   "cell_type": "code",
   "execution_count": 37,
   "id": "b4570829-4c49-4a77-80c6-fc2c55c096bd",
   "metadata": {},
   "outputs": [
    {
     "data": {
      "text/plain": [
       "thick    4.071878e-17\n",
       "chrom    0.000000e+00\n",
       "dtype: float64"
      ]
     },
     "execution_count": 37,
     "metadata": {},
     "output_type": "execute_result"
    }
   ],
   "source": [
    "trans_data.mean(numeric_only = True)"
   ]
  },
  {
   "cell_type": "markdown",
   "id": "f912e204-ffbc-441e-a112-b784a0ee4d03",
   "metadata": {},
   "source": [
    "---"
   ]
  },
  {
   "cell_type": "markdown",
   "id": "847ed963-3beb-49ca-91d4-410553bb2a82",
   "metadata": {},
   "source": [
    "In the cells below, write a function to convert data to z-scores, and use your new function to convert the numeric columns of our cancer data frame."
   ]
  },
  {
   "cell_type": "code",
   "execution_count": 39,
   "id": "40b4461f-2134-4525-8329-dcb3fd947f21",
   "metadata": {},
   "outputs": [],
   "source": [
    "# my z-score function!\n",
    "def zed(grp):\n",
    "    grp_mean = grp.mean(numeric_only = True)\n",
    "    grp_std = grp.std()\n",
    "    \n",
    "    grp = (grp - grp_mean)/grp_std\n",
    "    \n",
    "    return grp"
   ]
  },
  {
   "cell_type": "code",
   "execution_count": 40,
   "id": "8cad2e41-4041-4f7c-90cb-f0cd860246f8",
   "metadata": {
    "tags": []
   },
   "outputs": [],
   "source": [
    "# run transform() with my function\n",
    "trans_data = bcd2[['thick', 'chrom']].transform(zed)"
   ]
  },
  {
   "cell_type": "code",
   "execution_count": 41,
   "id": "d5144639-9c8b-4297-9253-f35c243370e3",
   "metadata": {},
   "outputs": [
    {
     "data": {
      "text/html": [
       "<div>\n",
       "<style scoped>\n",
       "    .dataframe tbody tr th:only-of-type {\n",
       "        vertical-align: middle;\n",
       "    }\n",
       "\n",
       "    .dataframe tbody tr th {\n",
       "        vertical-align: top;\n",
       "    }\n",
       "\n",
       "    .dataframe thead th {\n",
       "        text-align: right;\n",
       "    }\n",
       "</style>\n",
       "<table border=\"1\" class=\"dataframe\">\n",
       "  <thead>\n",
       "    <tr style=\"text-align: right;\">\n",
       "      <th></th>\n",
       "      <th>thick</th>\n",
       "      <th>chrom</th>\n",
       "    </tr>\n",
       "  </thead>\n",
       "  <tbody>\n",
       "    <tr>\n",
       "      <th>0</th>\n",
       "      <td>0.206942</td>\n",
       "      <td>-0.183305</td>\n",
       "    </tr>\n",
       "    <tr>\n",
       "      <th>1</th>\n",
       "      <td>0.206942</td>\n",
       "      <td>-0.183305</td>\n",
       "    </tr>\n",
       "    <tr>\n",
       "      <th>2</th>\n",
       "      <td>-0.502864</td>\n",
       "      <td>-0.183305</td>\n",
       "    </tr>\n",
       "    <tr>\n",
       "      <th>3</th>\n",
       "      <td>0.561845</td>\n",
       "      <td>-0.183305</td>\n",
       "    </tr>\n",
       "    <tr>\n",
       "      <th>4</th>\n",
       "      <td>-0.147961</td>\n",
       "      <td>-0.183305</td>\n",
       "    </tr>\n",
       "    <tr>\n",
       "      <th>...</th>\n",
       "      <td>...</td>\n",
       "      <td>...</td>\n",
       "    </tr>\n",
       "    <tr>\n",
       "      <th>694</th>\n",
       "      <td>-0.502864</td>\n",
       "      <td>-1.002577</td>\n",
       "    </tr>\n",
       "    <tr>\n",
       "      <th>695</th>\n",
       "      <td>-0.857766</td>\n",
       "      <td>-1.002577</td>\n",
       "    </tr>\n",
       "    <tr>\n",
       "      <th>696</th>\n",
       "      <td>0.206942</td>\n",
       "      <td>1.864876</td>\n",
       "    </tr>\n",
       "    <tr>\n",
       "      <th>697</th>\n",
       "      <td>-0.147961</td>\n",
       "      <td>2.684148</td>\n",
       "    </tr>\n",
       "    <tr>\n",
       "      <th>698</th>\n",
       "      <td>-0.147961</td>\n",
       "      <td>2.684148</td>\n",
       "    </tr>\n",
       "  </tbody>\n",
       "</table>\n",
       "<p>699 rows × 2 columns</p>\n",
       "</div>"
      ],
      "text/plain": [
       "        thick     chrom\n",
       "0    0.206942 -0.183305\n",
       "1    0.206942 -0.183305\n",
       "2   -0.502864 -0.183305\n",
       "3    0.561845 -0.183305\n",
       "4   -0.147961 -0.183305\n",
       "..        ...       ...\n",
       "694 -0.502864 -1.002577\n",
       "695 -0.857766 -1.002577\n",
       "696  0.206942  1.864876\n",
       "697 -0.147961  2.684148\n",
       "698 -0.147961  2.684148\n",
       "\n",
       "[699 rows x 2 columns]"
      ]
     },
     "execution_count": 41,
     "metadata": {},
     "output_type": "execute_result"
    }
   ],
   "source": [
    "# look at the transformed data\n",
    "trans_data"
   ]
  },
  {
   "cell_type": "code",
   "execution_count": 42,
   "id": "32bfb0ee-7509-42b8-ae5b-a95601620446",
   "metadata": {},
   "outputs": [
    {
     "data": {
      "text/plain": [
       "thick    3.053909e-17\n",
       "chrom    6.134182e-17\n",
       "dtype: float64"
      ]
     },
     "execution_count": 42,
     "metadata": {},
     "output_type": "execute_result"
    }
   ],
   "source": [
    "# see what the means are\n",
    "trans_data.mean(numeric_only = True)"
   ]
  },
  {
   "cell_type": "code",
   "execution_count": 43,
   "id": "efb11f20-7078-4e0f-9a7a-0f73b75ebebf",
   "metadata": {},
   "outputs": [
    {
     "data": {
      "text/plain": [
       "thick    1.0\n",
       "chrom    1.0\n",
       "dtype: float64"
      ]
     },
     "execution_count": 43,
     "metadata": {},
     "output_type": "execute_result"
    }
   ],
   "source": [
    "# see what the ... are\n",
    "trans_data.std()"
   ]
  },
  {
   "cell_type": "markdown",
   "id": "b90d7899-e279-41df-837e-46ba73081aed",
   "metadata": {},
   "source": [
    "---"
   ]
  },
  {
   "cell_type": "markdown",
   "id": "e3b4804e-cd6d-4040-966f-25d547fab831",
   "metadata": {},
   "source": [
    "#### lambda functions"
   ]
  },
  {
   "cell_type": "code",
   "execution_count": null,
   "id": "d106b446-4e32-490a-a07e-2dcccf6025d2",
   "metadata": {},
   "outputs": [],
   "source": []
  },
  {
   "cell_type": "markdown",
   "id": "243ff9e5-35be-4a40-8f62-db42a65321ef",
   "metadata": {},
   "source": [
    "We can also create transformed copies of the data, where we apply the transformation on a per group basis."
   ]
  },
  {
   "cell_type": "code",
   "execution_count": null,
   "id": "a7abaf50-5ebd-4f68-b05e-b8263462627f",
   "metadata": {},
   "outputs": [],
   "source": []
  },
  {
   "cell_type": "code",
   "execution_count": null,
   "id": "6ca445dc-77c1-4e96-9cce-2d54b6a75fe8",
   "metadata": {
    "tags": []
   },
   "outputs": [],
   "source": []
  },
  {
   "cell_type": "code",
   "execution_count": null,
   "id": "32636b62-c674-4dba-a870-a5f48f6aa503",
   "metadata": {
    "tags": []
   },
   "outputs": [],
   "source": [
    "trans_data = grpd[['thick', 'chrom']].transform(\n",
    "    lambda col_vals: (col_vals - col_vals.mean()) / col_vals.std()\n",
    ")"
   ]
  },
  {
   "cell_type": "code",
   "execution_count": null,
   "id": "4f39fc63-d2de-4501-b233-7f7b3190d92c",
   "metadata": {},
   "outputs": [],
   "source": [
    "trans_data.mean()"
   ]
  },
  {
   "cell_type": "code",
   "execution_count": null,
   "id": "3c948c17-68c6-42da-9b8d-b87f527a28cd",
   "metadata": {},
   "outputs": [],
   "source": [
    "trans_data.std()"
   ]
  },
  {
   "cell_type": "code",
   "execution_count": null,
   "id": "17c6e117-43e6-44ad-8daf-ba206a550ced",
   "metadata": {
    "tags": []
   },
   "outputs": [],
   "source": [
    "bcd['class'].value_counts()"
   ]
  },
  {
   "cell_type": "markdown",
   "id": "9fbfe455-1fc3-4299-a335-f71d8c1f9a51",
   "metadata": {},
   "source": [
    "### The `apply()` method"
   ]
  },
  {
   "cell_type": "code",
   "execution_count": null,
   "id": "103938a2-a852-4bbd-becf-b9d5f65d9e0c",
   "metadata": {},
   "outputs": [],
   "source": []
  },
  {
   "cell_type": "markdown",
   "id": "c52a2da7-a0bf-49ef-93bd-d282d87a7c26",
   "metadata": {},
   "source": [
    "### filtering data with `filter()`"
   ]
  },
  {
   "cell_type": "code",
   "execution_count": null,
   "id": "987f9570-bdfd-4752-b1da-d6e0bdb70962",
   "metadata": {},
   "outputs": [],
   "source": []
  },
  {
   "cell_type": "markdown",
   "id": "b0e370e2-c644-4f06-a65f-905fc0546383",
   "metadata": {},
   "source": [
    "### Combining multiple files"
   ]
  },
  {
   "cell_type": "code",
   "execution_count": null,
   "id": "97735eef-1a66-4938-84fd-ec144085063b",
   "metadata": {},
   "outputs": [],
   "source": []
  },
  {
   "cell_type": "markdown",
   "id": "49439424-d8d2-4124-ac9d-f0b02a903aaf",
   "metadata": {
    "tags": []
   },
   "source": [
    "### Duplicate entries # Move to Wrangling II"
   ]
  },
  {
   "cell_type": "code",
   "execution_count": null,
   "id": "692cf467-10ed-4005-988a-146588aa8819",
   "metadata": {
    "tags": []
   },
   "outputs": [],
   "source": [
    "bcd.nunique()"
   ]
  },
  {
   "cell_type": "code",
   "execution_count": null,
   "id": "fc25601c-c4fe-4291-a487-d71d88528a8c",
   "metadata": {},
   "outputs": [],
   "source": [
    "df[df.duplicated(subset = 'patient_id', keep =False)].sort_values('patient_id')"
   ]
  },
  {
   "cell_type": "code",
   "execution_count": null,
   "id": "5db7a3d9-0460-4f29-983c-9f3e0a40d28f",
   "metadata": {},
   "outputs": [],
   "source": [
    "repeat_patients = df.groupby(by = 'patient_id').size().sort_values(ascending =False)"
   ]
  }
 ],
 "metadata": {
  "kernelspec": {
   "display_name": "Python 3 (ipykernel)",
   "language": "python",
   "name": "python3"
  },
  "language_info": {
   "codemirror_mode": {
    "name": "ipython",
    "version": 3
   },
   "file_extension": ".py",
   "mimetype": "text/x-python",
   "name": "python",
   "nbconvert_exporter": "python",
   "pygments_lexer": "ipython3",
   "version": "3.8.13"
  }
 },
 "nbformat": 4,
 "nbformat_minor": 5
}
