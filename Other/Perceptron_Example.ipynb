{
 "cells": [
  {
   "cell_type": "markdown",
   "id": "c2233784-3619-4ee0-adb6-05f2cbf528a2",
   "metadata": {},
   "source": [
    "Perceptron example."
   ]
  },
  {
   "cell_type": "code",
   "execution_count": null,
   "id": "8274a015-5ef8-4a47-a227-a5e0e4f261fb",
   "metadata": {},
   "outputs": [],
   "source": [
    "import numpy as np\n",
    "\n",
    "class Perceptron:\n",
    "    def __init__(self, learning_rate=0.01, n_iterations=1000):\n",
    "        self.learning_rate = learning_rate\n",
    "        self.n_iterations = n_iterations\n",
    "\n",
    "    def fit(self, X, y):\n",
    "        n_samples, n_features = X.shape\n",
    "\n",
    "        # Initialize weights and bias\n",
    "        self.weights = np.zeros(n_features)\n",
    "        self.bias = 0\n",
    "\n",
    "        # Ensure labels are either -1 or 1\n",
    "        y_ = np.array([1 if i > 0 else -1 for i in y])\n",
    "\n",
    "        for _ in range(self.n_iterations):\n",
    "            for idx, x_i in enumerate(X):\n",
    "                condition = y_[idx] * (np.dot(x_i, self.weights) + self.bias)\n",
    "                if condition <= 0:\n",
    "                    self.weights += self.learning_rate * y_[idx] * x_i\n",
    "                    self.bias += self.learning_rate * y_[idx]\n",
    "\n",
    "    def predict(self, X):\n",
    "        linear_output = np.dot(X, self.weights) + self.bias\n",
    "        return np.sign(linear_output)\n",
    "\n",
    "\n",
    "# Generate linearly separable data\n",
    "X = np.array([[2, 3],\n",
    "              [3, 4],\n",
    "              [4, 5],\n",
    "              [5, 7],\n",
    "              [1, 1],\n",
    "              [2, 1],\n",
    "              [4, 2],\n",
    "              [5, 3]])\n",
    "\n",
    "y = np.array([1, 1, 1, 1, -1, -1, -1, -1])\n",
    "\n",
    "# Train the perceptron\n",
    "perceptron = Perceptron(learning_rate=0.01, n_iterations=1000)\n",
    "perceptron.fit(X, y)\n",
    "\n",
    "# Make predictions\n",
    "predictions = perceptron.predict(X)\n",
    "print(\"Predictions:\", predictions)\n"
   ]
  }
 ],
 "metadata": {
  "kernelspec": {
   "display_name": "Python 3 (ipykernel)",
   "language": "python",
   "name": "python3"
  },
  "language_info": {
   "codemirror_mode": {
    "name": "ipython",
    "version": 3
   },
   "file_extension": ".py",
   "mimetype": "text/x-python",
   "name": "python",
   "nbconvert_exporter": "python",
   "pygments_lexer": "ipython3",
   "version": "3.8.13"
  }
 },
 "nbformat": 4,
 "nbformat_minor": 5
}
