{
 "cells": [
  {
   "cell_type": "code",
   "execution_count": 1,
   "id": "e667a3ff-ba31-47d4-820c-3b9e67cb8057",
   "metadata": {},
   "outputs": [],
   "source": [
    "class Player() :\n",
    "    pass\n",
    "\n",
    "player1 = Player()"
   ]
  },
  {
   "cell_type": "code",
   "execution_count": 2,
   "id": "9b4be336-f228-4dbe-ad2e-394b3d04d785",
   "metadata": {},
   "outputs": [
    {
     "data": {
      "text/plain": [
       "<__main__.Player at 0x7fea583540a0>"
      ]
     },
     "execution_count": 2,
     "metadata": {},
     "output_type": "execute_result"
    }
   ],
   "source": [
    "player1"
   ]
  },
  {
   "cell_type": "code",
   "execution_count": 3,
   "id": "212d7559-ee2a-4c4e-9200-4cb1bc03d599",
   "metadata": {},
   "outputs": [],
   "source": [
    "player1.status = 'ready'\n",
    "player1.ppg = 1.34"
   ]
  },
  {
   "cell_type": "code",
   "execution_count": 5,
   "id": "e8d99c53-9f48-46c0-ae8c-b6717a2ef4a0",
   "metadata": {},
   "outputs": [
    {
     "data": {
      "text/plain": [
       "'ready'"
      ]
     },
     "execution_count": 5,
     "metadata": {},
     "output_type": "execute_result"
    }
   ],
   "source": [
    "player1.status"
   ]
  },
  {
   "cell_type": "code",
   "execution_count": 6,
   "id": "3aa6759a-080a-4bbb-9c4e-5e89a32c7386",
   "metadata": {},
   "outputs": [],
   "source": [
    "player2 = Player()\n",
    "player2.status = 'ready'\n",
    "player2.ppg = 1.25\n",
    "player2.opponent = player1"
   ]
  },
  {
   "cell_type": "code",
   "execution_count": 7,
   "id": "fd67e3c8-71b2-469c-b9bd-c153fa3f639b",
   "metadata": {},
   "outputs": [
    {
     "data": {
      "text/plain": [
       "1.34"
      ]
     },
     "execution_count": 7,
     "metadata": {},
     "output_type": "execute_result"
    }
   ],
   "source": [
    "player2.opponent.ppg"
   ]
  },
  {
   "cell_type": "code",
   "execution_count": 8,
   "id": "225ce4c9-a989-48ac-880b-af25b2c70380",
   "metadata": {},
   "outputs": [],
   "source": [
    "player1.opponent = player2"
   ]
  },
  {
   "cell_type": "code",
   "execution_count": 13,
   "id": "8b33cae3-36cb-40b5-bb58-aa6318b33dee",
   "metadata": {},
   "outputs": [],
   "source": [
    "player1.name = \"Barney\"\n",
    "player1.opponent.name = 'Fred'"
   ]
  },
  {
   "cell_type": "code",
   "execution_count": 14,
   "id": "98be7391-3de6-487c-9200-76cdae316761",
   "metadata": {},
   "outputs": [
    {
     "data": {
      "text/plain": [
       "'Fred'"
      ]
     },
     "execution_count": 14,
     "metadata": {},
     "output_type": "execute_result"
    }
   ],
   "source": [
    "player2.name"
   ]
  },
  {
   "cell_type": "markdown",
   "id": "8287082e-88af-4dee-86c6-cb4a9096cada",
   "metadata": {},
   "source": [
    "---"
   ]
  },
  {
   "cell_type": "code",
   "execution_count": 16,
   "id": "7028b0f5-0d52-4633-8a79-c5843b98ae8b",
   "metadata": {},
   "outputs": [],
   "source": [
    "import random as rnd"
   ]
  },
  {
   "cell_type": "code",
   "execution_count": 46,
   "id": "130838f4-8f14-4f0a-88e3-3445639d50ab",
   "metadata": {},
   "outputs": [],
   "source": [
    "class Player() :\n",
    "    def __init__(self, name, ppg) :\n",
    "        self.name = name\n",
    "        self.ppg = ppg\n",
    "        \n",
    "    def score(self) :\n",
    "        return rnd.randint(0, self.ppg+1)\n",
    "        \n",
    "    "
   ]
  },
  {
   "cell_type": "code",
   "execution_count": 47,
   "id": "310e2b10-24b0-4ac2-a295-82dd60c5c2e0",
   "metadata": {},
   "outputs": [
    {
     "data": {
      "text/plain": [
       "1"
      ]
     },
     "execution_count": 47,
     "metadata": {},
     "output_type": "execute_result"
    }
   ],
   "source": [
    "rnd.randint(0, round(3.5))"
   ]
  },
  {
   "cell_type": "code",
   "execution_count": 48,
   "id": "4985bf28-9c33-4f64-9cad-60e75bf54a3d",
   "metadata": {},
   "outputs": [],
   "source": [
    "p_Fred = Player('Fred', 2)"
   ]
  },
  {
   "cell_type": "code",
   "execution_count": 61,
   "id": "ec0c05a6-e137-4fda-8127-3be4fa6903e5",
   "metadata": {},
   "outputs": [
    {
     "data": {
      "text/plain": [
       "2"
      ]
     },
     "execution_count": 61,
     "metadata": {},
     "output_type": "execute_result"
    }
   ],
   "source": [
    "p_Fred.score()"
   ]
  },
  {
   "cell_type": "code",
   "execution_count": null,
   "id": "94272c65-949c-4206-b295-cd55012077ce",
   "metadata": {},
   "outputs": [],
   "source": []
  }
 ],
 "metadata": {
  "kernelspec": {
   "display_name": "Python 3 (ipykernel)",
   "language": "python",
   "name": "python3"
  },
  "language_info": {
   "codemirror_mode": {
    "name": "ipython",
    "version": 3
   },
   "file_extension": ".py",
   "mimetype": "text/x-python",
   "name": "python",
   "nbconvert_exporter": "python",
   "pygments_lexer": "ipython3",
   "version": "3.8.13"
  }
 },
 "nbformat": 4,
 "nbformat_minor": 5
}
