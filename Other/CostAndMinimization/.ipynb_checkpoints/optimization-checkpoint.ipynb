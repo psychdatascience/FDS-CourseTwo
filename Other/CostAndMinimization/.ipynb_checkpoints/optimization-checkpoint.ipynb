{
 "cells": [
  {
   "cell_type": "markdown",
   "id": "0417cec4-0aad-4258-9b73-945df37451d5",
   "metadata": {},
   "source": [
    "# Optimization"
   ]
  },
  {
   "cell_type": "markdown",
   "id": "e26c5b42-14d6-4314-af1e-6b428e19fcba",
   "metadata": {},
   "source": [
    "As we get into machine learning, we are going to run into some (perhaps) unfamiliar terms such as \n",
    "- \"optimization\" (which is pretty much what it sounds like),\n",
    "-  \"error\" (sort of what it sounds like),\n",
    "-   and \"cost\" (what it sounds like if you stretch your imagination).\n",
    "\n",
    "Fear not! Here, we shall unpack these terms so you have both a conceptual and working knowledge of what these concepts are. Then you can either \n",
    "- use algorithms you trust that use these terms,\n",
    "- or you can dig into the details of algorithms that use these terms and see what *you* think."
   ]
  },
  {
   "cell_type": "markdown",
   "id": "75aa2705-077a-4188-93a5-129cd453c3b1",
   "metadata": {},
   "source": [
    "The term \"optimization\", as we just said, is almost what is sounds like: we're trying to make something (a machine learning algorithm) the very best that it can be! We want our \"model\" or our \"algorithm\" to be the greatest!"
   ]
  },
  {
   "cell_type": "markdown",
   "id": "67f3dce4-b3df-4f61-b166-e56c7c7dcaf9",
   "metadata": {},
   "source": [
    "But wait! How do we actually define \"optimum\"? Well, because we (literally, you and me) don't know *everything* there is to know about our data, then whatever we decide is \"optimum\" is going to be based on *intuition*, which we then turn into math (or Python functions... same thing -- sorry mathematicians).  "
   ]
  },
  {
   "cell_type": "markdown",
   "id": "9cbecce5-2f4e-4c80-b166-7a5901797bcc",
   "metadata": {},
   "source": [
    "## A simple and familiar example of optimization"
   ]
  },
  {
   "cell_type": "markdown",
   "id": "ca9eacbd-2dd0-4e9b-8145-646fad88e699",
   "metadata": {},
   "source": [
    "Let's get the intuition for optimization by looking at a machine learning algorithm that you probably didn't even know was a machine learning algorithm: good ol' linear regression!  \n",
    "You might be wondering \"How is linear regression a machine learning?\" Good question! You might think of machine learning algorithms as, for example, classifying pictures of your face from all the other pictues you have. The key is that the machine learning algorithm is *predicting* which faces should be your face, and *predicting* that the other photos aren't. In other words, it is looking at all the values of the pixels in the images, and predicting whether those pixel values - the **data** - are correspond to your face or some other face. Well, this is pretty much what a regression does. A regression takes input data (the x values) and then, for any x we can think of, it makes a *prediction* of what the corresponding y value should be! For example, if we know that average happiness in a country is related to the health of the economy in that country as measured by gross domestic prodect (GDP), then we can predict the average happiness in *any* country, even those countries whose data weren't in the initial regression line."
   ]
  },
  {
   "cell_type": "markdown",
   "id": "4af0c997-dca5-4c42-8498-5454555418c8",
   "metadata": {},
   "source": [
    "## Optimization in regression"
   ]
  },
  {
   "cell_type": "markdown",
   "id": "047a8044-ee61-464e-ad95-192cea2dafbb",
   "metadata": {},
   "source": [
    "Let's look at a simple example using made-up (but realistic) data showing how happiness increases with increasing GDP. First, we'll import a couple libraries:"
   ]
  },
  {
   "cell_type": "code",
   "execution_count": 2,
   "id": "c5e756fc-175c-4f9f-8e8c-0b49e0fce294",
   "metadata": {},
   "outputs": [],
   "source": [
    "import numpy as np\n",
    "import matplotlib.pyplot as plt"
   ]
  },
  {
   "cell_type": "markdown",
   "id": "4604926f-65d6-4435-b49f-d04eee1eb718",
   "metadata": {},
   "source": [
    "Now let's make up some data:"
   ]
  },
  {
   "cell_type": "code",
   "execution_count": 3,
   "id": "ed0f3f3f-6db3-499e-bc42-75a66fa509ab",
   "metadata": {},
   "outputs": [],
   "source": [
    "# Make data\n",
    "x = np.array([2, 4, 6, 8, 10])                  # GDP values\n",
    "data = np.array([1.8, 3.3, 3.7, 4.6, 6.7])      # happiness values"
   ]
  },
  {
   "cell_type": "markdown",
   "id": "5997ac19-a435-4858-95a7-e5bae438505c",
   "metadata": {},
   "source": [
    "... and take a look at them:"
   ]
  },
  {
   "cell_type": "code",
   "execution_count": 9,
   "id": "2874e474-bfe3-404e-9e5d-a2e65174d81b",
   "metadata": {},
   "outputs": [
    {
     "data": {
      "image/png": "[encoded data removed]",
      "text/plain": [
       "<Figure size 640x480 with 1 Axes>"
      ]
     },
     "metadata": {},
     "output_type": "display_data"
    }
   ],
   "source": [
    "# plot the data values\n",
    "plt.plot(x, data, 'ro')\n",
    "plt.plot(x, data, 'ro')\n",
    "plt.xlabel('Nation\\'s GDP')\n",
    "plt.ylabel('Nation\\'s Happiness')\n",
    "plt.title('Nation\\'s Happiness vs GDP')\n",
    "plt.show()"
   ]
  },
  {
   "cell_type": "markdown",
   "id": "8d11daf5-1d10-45e0-8c2f-35910fa7b638",
   "metadata": {},
   "source": [
    "We can see that happiness does seem to increase with GDP. But can we come up with a good mathematical description of how happiness changes with GDP? If so, then we can use this description – this equation – to predict the overall happiness in any country we want? This is where intuition, thought, and maybe some trial and error come in!"
   ]
  },
  {
   "cell_type": "markdown",
   "id": "5550d099-9c01-4150-8720-90d31c72da7d",
   "metadata": {},
   "source": [
    "Looking at the data, I'd guess that a straight line with some positive slope might do a decent job of describing these data, so let's try it!"
   ]
  },
  {
   "cell_type": "markdown",
   "id": "0410ffe0-1a60-4822-a066-a7ce1fc5ad95",
   "metadata": {},
   "source": [
    "### Note: This is only a guess!  \n",
    "I don't have any theoretical reason for believing there is a straight-line relationship here; I'm just making a guess based on how the data look to me! I could have chosen any function, but a straight line is one of the simplest functions there is - *y* =  and we all learned it primary school anyway, so let's go with [Occam's razor](https://en.wikipedia.org/wiki/Occam%27s_razor)."
   ]
  },
  {
   "cell_type": "markdown",
   "id": "12562b22-0317-432b-b85d-82d6d8d840d8",
   "metadata": {},
   "source": [
    "So let's make a straight line  and plot it along with the data. First, we'll make an empty array to hold the predictions of our model.\n"
   ]
  },
  {
   "cell_type": "code",
   "execution_count": 10,
   "id": "147cbab2-8f89-4031-bc13-a9ba50795ae2",
   "metadata": {},
   "outputs": [],
   "source": [
    "modeldata = np.zeros(data.shape)                # array to hold model data values"
   ]
  },
  {
   "cell_type": "markdown",
   "id": "e74b434d-6e2e-4047-8169-532e2bf557f8",
   "metadata": {},
   "source": [
    "Now let's make some guesses for what the slope and y-intercept might be. Note I don't have any secret knowledge about what these values might be (do you?); I'm just making a guess by looking at the data – y seems to increase by about 1 unit when x changes from 2 to 4, for example. So that would be a rise of 1 for a run of 2, corresponding to a slope of rise/run = 1/2 or 0.5."
   ]
  },
  {
   "cell_type": "code",
   "execution_count": 29,
   "id": "65fed1f0-efee-43f1-8dbc-52ded55ab131",
   "metadata": {},
   "outputs": [],
   "source": [
    "# Model parameters/coefficients\n",
    "intercept = 0\n",
    "slope = 0.5"
   ]
  },
  {
   "cell_type": "markdown",
   "id": "aea352ae-2feb-4b5e-a00d-a5660ff0f161",
   "metadata": {},
   "source": [
    "And now we can make our predicted values:"
   ]
  },
  {
   "cell_type": "code",
   "execution_count": 30,
   "id": "d7a0dcd0-e22e-4282-9871-0be17a9f5b13",
   "metadata": {},
   "outputs": [],
   "source": [
    "# Compute model values\n",
    "for index, x_in in enumerate(x) :\n",
    "    y_out = intercept + slope*x_in # compute y value for this x\n",
    "    modeldata[index] = y_out       # and store in our array"
   ]
  },
  {
   "cell_type": "markdown",
   "id": "16dd7708-668f-4cfd-b8ef-511f83caae56",
   "metadata": {},
   "source": [
    "And plot them with the data!"
   ]
  },
  {
   "cell_type": "code",
   "execution_count": 32,
   "id": "71c5827b-2cb4-41ae-884d-e857e2ea2c01",
   "metadata": {},
   "outputs": [
    {
     "data": {
      "image/png": "[encoded data removed]",
      "text/plain": [
       "<Figure size 640x480 with 1 Axes>"
      ]
     },
     "metadata": {},
     "output_type": "display_data"
    }
   ],
   "source": [
    "# plot the model values on the same plot as the data\n",
    "plt.plot(x, data, 'ro')         # data\n",
    "plt.plot(x, modeldata, 'g-')    # model\n",
    "plt.show()"
   ]
  },
  {
   "cell_type": "markdown",
   "id": "b7a3870f-f39a-4b0f-b650-dc4c82141fb3",
   "metadata": {},
   "source": [
    "What do you think? How should we change the line in order to \"optimize\" it as a description of the data? Take a moment to ponder that question!"
   ]
  },
  {
   "cell_type": "code",
   "execution_count": 22,
   "id": "03b49c81-811f-45f8-953f-5895046e6c67",
   "metadata": {},
   "outputs": [
    {
     "name": "stdout",
     "output_type": "stream",
     "text": [
      "pondering...\n",
      "pondering...\n",
      "pondering...\n",
      "pondering...\n",
      "pondering...\n",
      "Done pondering!\n",
      "The slope looks decent, but the y-intercept needs to be bigger to move the line up towards the data!\n"
     ]
    }
   ],
   "source": [
    "import time as t\n",
    "a_moment = 5\n",
    "for i in range(a_moment) :\n",
    "    print('pondering...')\n",
    "    t.sleep(1)\n",
    "print('Done pondering!')\n",
    "print('The slope looks decent, but the y-intercept needs to be bigger to move the line up towards the data!')"
   ]
  },
  {
   "cell_type": "markdown",
   "id": "7607c3b5-fd20-4928-b97b-d969a41945b6",
   "metadata": {},
   "source": [
    "Hopefully you agree!  \n",
    "My thought process, and probably yours, went something like this:\n",
    "- The line is lower than *all* of the data points by similar amounts\n",
    "- If I imagine the same line higher up, it would pass through the data rather then being below them\n",
    "- As a result, all of the predicted values of the new model would be closer to the actual data than the current one"
   ]
  },
  {
   "cell_type": "markdown",
   "id": "b484e6b4-f3dd-4bb0-8eb7-160efe01dcb5",
   "metadata": {},
   "source": [
    "Based on that reasoning, let's change the y-intercept to something bigger:"
   ]
  },
  {
   "cell_type": "code",
   "execution_count": 33,
   "id": "3552081b-04c4-4d50-a78b-0a6815a16b1f",
   "metadata": {},
   "outputs": [],
   "source": [
    "intercept = 1"
   ]
  },
  {
   "cell_type": "markdown",
   "id": "8d9b00e4-bc5d-46ed-b353-68506e32f955",
   "metadata": {},
   "source": [
    "Recompute the model values:"
   ]
  },
  {
   "cell_type": "code",
   "execution_count": 34,
   "id": "2ea6a98c-0c92-42e6-bee2-8218ca88db54",
   "metadata": {},
   "outputs": [],
   "source": [
    "# Compute model values\n",
    "for index, x_in in enumerate(x) :\n",
    "    y_out = intercept + slope*x_in # compute y value for this x\n",
    "    modeldata[index] = y_out       # and store in our array"
   ]
  },
  {
   "cell_type": "markdown",
   "id": "ce75eec2-343e-4780-b00a-96e09b64fbee",
   "metadata": {},
   "source": [
    "And plot the new model with the data!"
   ]
  },
  {
   "cell_type": "code",
   "execution_count": 35,
   "id": "735cc7a3-be64-467b-b6d0-90880dea8ecd",
   "metadata": {},
   "outputs": [
    {
     "data": {
      "image/png": "[encoded data removed]",
      "text/plain": [
       "<Figure size 640x480 with 1 Axes>"
      ]
     },
     "metadata": {},
     "output_type": "display_data"
    }
   ],
   "source": [
    "# plot the model values on the same plot as the data\n",
    "plt.plot(x, data, 'ro')         # data\n",
    "plt.plot(x, modeldata, 'b-')    # model\n",
    "plt.show()"
   ]
  },
  {
   "cell_type": "markdown",
   "id": "9fe94ca4-75fa-46f9-aead-f8634c6b4c65",
   "metadata": {},
   "source": [
    "Not bad! Take another moment to marvel at our work! I think we can all agree that the new line with the larger y-intercept does a better job of \"fitting\" the data than the first one. It seems to pass through the data more closely, and it doesn't miss the data points systematically like the first one did, undershooting everything."
   ]
  },
  {
   "cell_type": "markdown",
   "id": "51754418-549c-44ed-9eaa-6acf3f3e30af",
   "metadata": {},
   "source": [
    "But – and here's a big \"but\" – how good is good enough? Could we change the y-intercept a little and do a little better? Would a slightly higher y-intercept be even more \"optimal\"? In order to settle this fight, we need to agree on what we mean by an algorithm being \"optimal\". Once we agree on this definition, we will all arrive at the exact same answer!"
   ]
  },
  {
   "cell_type": "markdown",
   "id": "48ee5deb-b981-42d4-894f-8593507241dc",
   "metadata": {},
   "source": []
  }
 ],
 "metadata": {
  "kernelspec": {
   "display_name": "Python 3 (ipykernel)",
   "language": "python",
   "name": "python3"
  },
  "language_info": {
   "codemirror_mode": {
    "name": "ipython",
    "version": 3
   },
   "file_extension": ".py",
   "mimetype": "text/x-python",
   "name": "python",
   "nbconvert_exporter": "python",
   "pygments_lexer": "ipython3",
   "version": "3.11.8"
  }
 },
 "nbformat": 4,
 "nbformat_minor": 5
}
