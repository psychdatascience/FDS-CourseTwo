























import numpy as np
import matplotlib.pyplot as plt





# Make data
x = np.array([2, 4, 6, 8, 10])                  # GDP values
data = np.array([1.8, 3.3, 3.7, 4.6, 6.7])      # happiness values





# plot the data values
plt.plot(x, data, 'ro')
plt.plot(x, data, 'ro')
plt.xlabel('Nation\'s GDP')
plt.ylabel('Nation\'s Happiness')
plt.title('Nation\'s Happiness vs GDP')
plt.show()














modeldata = np.zeros(data.shape)                # array to hold model data values





# Model parameters/coefficients
intercept = 0    # our guess for y-intercept
slope = 0.5      # our guess for slope





# Compute model values
for index, x_in in enumerate(x) :
    y_out = intercept + slope*x_in # compute y value for this x
    modeldata[index] = y_out       # and store in our array





# plot the model values on the same plot as the data
plt.plot(x, data, 'ro')         # data
plt.plot(x, modeldata, 'g-')    # model
plt.xlabel('Nation\'s GDP')
plt.ylabel('Nation\'s Happiness')
plt.title('Nation\'s Happiness vs GDP')
plt.legend(['data', 'model'])

plt.show()





import time as t
a_moment = 5
for i in range(a_moment) :
    print('pondering...')
    t.sleep(1)
print('Done pondering!')
print('The slope looks decent, but the y-intercept needs to be bigger to move the line up towards the data!')








intercept = 1





# Compute model values
for index, x_in in enumerate(x) :
    y_out = intercept + slope*x_in # compute y value for this x
    modeldata[index] = y_out       # and store in our array





# plot the model values on the same plot as the data
plt.plot(x, data, 'ro')         # data
plt.plot(x, modeldata, 'b-')    # model
plt.xlabel('Nation\'s GDP')
plt.ylabel('Nation\'s Happiness')
plt.title('Nation\'s Happiness vs GDP')
plt.legend(['data', 'model with better intercept'])

plt.show()


























intercept = 0    # set our intercept


for index, x_in in enumerate(x) :    # recompute our model values
    y_out = intercept + slope*x_in
    modeldata[index] = y_out


# plot the data values
plt.plot(x, data, 'ro')
plt.xlabel('Nation\'s GDP')
plt.ylabel('Nation\'s Happiness')
plt.title('Nation\'s Happiness vs GDP')

# plot the model values and errors on the same plot as the data
plt.plot(x, data, 'ro')         # data
plt.plot(x, modeldata, 'g-')    # model

# Add vertical lines to represent errors - this is the only new code!
for i in range(len(x)):
    plt.vlines(x[i], modeldata[i], data[i], colors='g', linestyles='dashed')

plt.show()






errors = data - modeldata





plt.plot(x, errors, 'go-')
plt.ylim([0, 2])
plt.ylabel('prediction error')
plt.xlabel('GDP')
plt.show()





intercept = 1    # our new, improved y intercept

# Compute model values
for index, x_in in enumerate(x) :
    y_out = intercept + slope*x_in
    modeldata[index] = y_out

better_errors = data - modeldata   # compute the new errors

# plot everybody
plt.plot(x, errors, 'go-')
plt.plot(x, better_errors, 'bo-')
plt.ylabel('prediction error')
plt.xlabel('GDP')
plt.legend(['original line', 'line with better intercept'])
plt.ylim([-2, 2])
plt.axhline(y=0, color='k', linestyle='--')    # reference line at error = 0
plt.show()


















'''
Compute the cost for various y-intercepts and plot the cost vs. y-intercept result
'''

# Make data
x = np.array([2, 4, 6, 8, 10])                  # x values
data = np.array([1.8, 3.3, 3.7, 4.6, 6.7])      # data values

# number of intercepts to try
num_intercepts = 100
int_range = [0, 2]

# Model parameters/coefficients
slope = 0.5                                                           # slope is constant - we're assuming we have it right
intercepts = np.linspace(int_range[0], int_range[1], num_intercepts)  # make num_intercepts y-intercepts

costs = []    # empty array to hold the costs

# Loop over intercepts and compute cost
for intercept in intercepts:             # loop through the candidate intercepts
    modeldata = intercept + slope * x    # compute the model predictions
    errors = data - modeldata            # ... and the errors
    cost = np.sum(errors**2)             # compute cost as SSE
    costs.append(cost)                   # store the cost for this y-intercept

# Plot cost vs. y-intercept
plt.plot(intercepts, costs, 'b-o', alpha = 0.3)
plt.xlabel('Y-Intercept')
plt.ylabel('Cost')
plt.title('Cost vs. Y-Intercept')
plt.show()








print(f'the minimum cost is {np.min(costs)}')





min_cost_idx = np.argmin(costs)    # this could all be a one-liner inside print...
min_yint = intercepts[min_cost_idx]
print(f'the y-intercept for the minimum cost is {min_yint}')














from mpl_toolkits.mplot3d import Axes3D

# Make data
x = np.array([2, 4, 6, 8, 10])                  # our GDP values
data = np.array([1.8, 3.3, 3.7, 4.6, 6.7])      # happiness values

# Model parameters/coefficients
intercepts = np.linspace(0, 2, 100)  # y-intercepts ranging from 0 to 2
slopes = np.linspace(0.25, 0.75, 100)  # slopes ranging from 1/4 to 3/4

# Create a meshgrid for intercepts and slopes
intercepts_grid, slopes_grid = np.meshgrid(intercepts, slopes)

# Initialize an array to hold the costs
costs = np.zeros(intercepts_grid.shape)

# Loop over intercepts and slopes and compute cost
for i in range(intercepts_grid.shape[0]):
    for j in range(intercepts_grid.shape[1]):
        intercept = intercepts_grid[i, j]
        slope = slopes_grid[i, j]
        modeldata = intercept + slope * x
        errors = data - modeldata
        cost = np.sum(errors**2)
        costs[i, j] = cost

# Plot cost vs. y-intercept and slope
fig1 = plt.figure()
ax1 = fig1.add_subplot(111, projection='3d')
ax1.plot_surface(intercepts_grid, slopes_grid, costs, cmap='viridis')
ax1.view_init(elev=10, azim=100) # set the view angle
ax1.set_xlabel('Y-Intercept')
ax1.set_ylabel('Slope')
ax1.set_zlabel('Cost')
ax1.set_title('Cost vs. Y-Intercept and Slope')

plt.show()











# Plot log cost vs. y-intercept and slope
fig2 = plt.figure()
ax2 = fig2.add_subplot(111, projection='3d')
log_costs = np.log(costs)
ax2.plot_surface(intercepts_grid, slopes_grid, log_costs, cmap='viridis')
ax2.view_init(elev=10, azim=100) # set the view angle
ax2.set_xlabel('Y-Intercept')
ax2.set_ylabel('Slope')
ax2.set_zlabel('Log(Cost)')
ax2.set_title('Log(Cost) vs. Y-Intercept and Slope')

plt.show()








# Find the index of the minimum cost
min_cost_index = np.argmin(costs)
min_cost_intercept = intercepts_grid.flatten()[min_cost_index]
min_cost_slope = slopes_grid.flatten()[min_cost_index]
min_cost = costs.flatten()[min_cost_index]

print(f"The minimum cost is {min_cost}")
print(f"The y-intercept for the minimum cost is {min_cost_intercept}")
print(f"The slope for the minimum cost is {min_cost_slope}")












