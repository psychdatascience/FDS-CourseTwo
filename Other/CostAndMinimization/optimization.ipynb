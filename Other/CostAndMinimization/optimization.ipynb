{
 "cells": [
  {
   "cell_type": "markdown",
   "id": "0417cec4-0aad-4258-9b73-945df37451d5",
   "metadata": {},
   "source": [
    "# Optimization"
   ]
  },
  {
   "cell_type": "markdown",
   "id": "e26c5b42-14d6-4314-af1e-6b428e19fcba",
   "metadata": {},
   "source": [
    "As we get into machine learning, we are going to run into some (perhaps) unfamiliar terms such as \n",
    "- \"optimization\" (which is pretty much what it sounds like),\n",
    "-  \"error\" (sort of what it sounds like),\n",
    "-   and \"cost\" (what it sounds like if you stretch your imagination).\n",
    "\n",
    "Fear not! Here, we shall unpack these terms so you have both a conceptual and working knowledge of what these concepts are. Then you can either \n",
    "- use algorithms you trust that use these terms,\n",
    "- or you can dig into the details of algorithms that use these terms and see what *you* think."
   ]
  },
  {
   "cell_type": "markdown",
   "id": "75aa2705-077a-4188-93a5-129cd453c3b1",
   "metadata": {},
   "source": [
    "The term \"optimization\", as we just said, is almost what is sounds like: we're trying to make something (a machine learning algorithm) the very best that it can be! We want our \"model\" or our \"algorithm\" to be the greatest!"
   ]
  },
  {
   "cell_type": "markdown",
   "id": "67f3dce4-b3df-4f61-b166-e56c7c7dcaf9",
   "metadata": {},
   "source": [
    "But wait! How do we actually define \"optimum\"? Well, because we (literally, you and me) don't know *everything* there is to know about our data, then whatever we decide is \"optimum\" is going to be based on *intuition*, which we then turn into math (or Python functions... same thing -- sorry mathematicians).  "
   ]
  },
  {
   "cell_type": "markdown",
   "id": "9cbecce5-2f4e-4c80-b166-7a5901797bcc",
   "metadata": {},
   "source": [
    "## A simple and familiar example of optimization"
   ]
  },
  {
   "cell_type": "markdown",
   "id": "ca9eacbd-2dd0-4e9b-8145-646fad88e699",
   "metadata": {},
   "source": [
    "Let's get the intuition for optimization by looking at a machine learning algorithm that you probably didn't even know was a machine learning algorithm: good ol' linear regression!  \n",
    "You might be wondering \"How is linear regression a machine learning?\" Good question! You might think of machine learning algorithms as, for example, classifying pictures of your face from all the other pictues you have. The key is that the machine learning algorithm is *predicting* which faces should be your face, and *predicting* that the other photos aren't. In other words, it is looking at all the values of the pixels in the images, and predicting whether those pixel values - the **data** - are correspond to your face or some other face. Well, this is pretty much what a regression does. A regression takes input data (the x values) and then, for any x we can think of, it makes a *prediction* of what the corresponding y value should be! For example, if we know that average happiness in a country is related to the health of the economy in that country as measured by gross domestic prodect (GDP), then we can predict the average happiness in *any* country, even those countries whose data weren't in the initial regression line."
   ]
  },
  {
   "cell_type": "code",
   "execution_count": null,
   "id": "532870cf-fb87-4acb-b1a4-10085a806011",
   "metadata": {},
   "outputs": [],
   "source": []
  }
 ],
 "metadata": {
  "kernelspec": {
   "display_name": "Python 3 (ipykernel)",
   "language": "python",
   "name": "python3"
  },
  "language_info": {
   "codemirror_mode": {
    "name": "ipython",
    "version": 3
   },
   "file_extension": ".py",
   "mimetype": "text/x-python",
   "name": "python",
   "nbconvert_exporter": "python",
   "pygments_lexer": "ipython3",
   "version": "3.12.7"
  }
 },
 "nbformat": 4,
 "nbformat_minor": 5
}
