{
 "cells": [
  {
   "cell_type": "markdown",
   "id": "a0ef0dd2-d776-4ef4-881d-fa4aa6a57bad",
   "metadata": {},
   "source": [
    "# The very confusing Confusion Matrix"
   ]
  },
  {
   "cell_type": "markdown",
   "id": "b8ca9d0a-9dea-4abb-ab92-61f2848f4407",
   "metadata": {},
   "source": [
    "Hi! If you are super confused by the \"confusion matrix\" in machine learning, you're not alone! What we are going to do is hit the reset button, start over with useful trip to the past, and actually understand this silly little 2x2 matrix!"
   ]
  },
  {
   "cell_type": "markdown",
   "id": "62072d22-284d-4661-8659-3241c58a4285",
   "metadata": {},
   "source": [
    "## The Response Matrix"
   ]
  },
  {
   "cell_type": "markdown",
   "id": "b891b065-e5d4-45c2-bc03-d94feca8b58b",
   "metadata": {},
   "source": [
    "Let's imagine that you are trying to prove to some website that you are not a robot. You know what I'm talking about. Sometimes you get lucky and just have to check a box. Unfortunately, sometimes you get a bunch of images and you have to pick the ones with chimneys in them or something."
   ]
  },
  {
   "cell_type": "markdown",
   "id": "133452be-93a6-4fb9-ac8c-c726229f55be",
   "metadata": {},
   "source": [
    "Like this:  \n",
    "![failed to load](images/chimneys.jpeg \"chimneys test\")"
   ]
  },
  {
   "cell_type": "markdown",
   "id": "735a7359-be8c-4908-931a-2064944cb2f3",
   "metadata": {},
   "source": [
    "Let's think about what you have to do... You have to  \n",
    "1) PICK all of the images that DO have a chimney, and  \n",
    "2) NOT PICK any of the images that DON'T have a chimney.\n",
    "  \n",
    "Let's think about your possible answers, whether they will by correct or incorrect and, *in what way will they be correct or incorrect*. "
   ]
  },
  {
   "cell_type": "markdown",
   "id": "f707ff78-8594-4ae3-8008-6845787090d1",
   "metadata": {},
   "source": [
    "If the last bit of that sentence (technically, the final clause, since we're all LAMbs here) doesn't make sense to you, just hang on! "
   ]
  },
  {
   "cell_type": "markdown",
   "id": "d9c483e0-7e0e-4dc9-b772-5e3c0b523406",
   "metadata": {},
   "source": [
    "Let's consider the possible responses you might make, in light of whether there was actually a chimney in the  image. You can say:  \n",
    "    - \"yes, there *is* a chimney\", and there actually is – let's call this a \"hit\"  \n",
    "    - \"no, there *isn't* a chimney\", and there actually is none - call this a \"correct rejection\"  \n",
    "    - \"yes, there *is* a chimney\", but there isn't – you got fooled by a tower or something – we'll call this a \"false alarm\"  \n",
    "    - \"no, there *isn't* a chimney\", but in fact there is – call this a \"miss\"!  "
   ]
  },
  {
   "cell_type": "markdown",
   "id": "30d2f268-00c6-48dd-8dd7-53d5916080a2",
   "metadata": {},
   "source": [
    "Let's think about this. We have 2 possible states of the world for each image (chimney or no chimney), and 2 possible responses from you (\"yes, chimney\" or \"nope, no chimney\". We can represent this as a 2x2 matrix like so:"
   ]
  },
  {
   "cell_type": "markdown",
   "id": "3e9c1d31",
   "metadata": {},
   "source": [
    "Like this:  \n",
    "![failed to load](images/resp_matrix.jpg \"response matrix\")"
   ]
  },
  {
   "cell_type": "markdown",
   "id": "ee4980b2-2cc5-46ef-9269-785426477008",
   "metadata": {},
   "source": [
    "So, if you think about this for a minute, hopefully you can see that all the responses for a challenge like this can be sorted into this matrix, and the way they sort will tell you how good the person is from telling apart images with a chimney from those without.  \n",
    "For the reCaptcha image above, I might say that the 3 images in the leftmost row all have chimneys, as does the top-right one. I'd say all the other 5 do not. So my response matrix would look like this:"
   ]
  },
  {
   "cell_type": "markdown",
   "id": "d481e908",
   "metadata": {},
   "source": [
    "|             | Present | Absent |\n",
    "|-------------|-------------------|------------------|\n",
    "|\"Chimney\"    | 4                 | 0                |\n",
    "|\"No Chimney\" | 0                 | 5                |"
   ]
  },
  {
   "cell_type": "markdown",
   "id": "8fbe52ad",
   "metadata": {},
   "source": [
    "In this case, all 9 of my responses sort into cells on the \"correct\" diagonal, and no responses went into cells on the \"wrong\" diagonal. So I'm human after all!"
   ]
  },
  {
   "cell_type": "markdown",
   "id": "c69874fc",
   "metadata": {},
   "source": [
    "---"
   ]
  },
  {
   "cell_type": "markdown",
   "id": "ead9cfc8",
   "metadata": {},
   "source": [
    "Note that solving problems such as this is a *major* area of interest in AI and machine learning. One of the things we hope computers or robots can do for us is to spot stuff (anything from ripe cherries to enemy missiles) better than we can (robots don't get tired after all). Just like with Chess and Go, machines will probably get as good or better at these kinds of tasks then we are. Right now, however, this is an interesting problem because it's one that we do well using our own eyes, but not quite as well when we try to make a machine to do it!  \n",
    "  *This is why you will run into \"response\" matrixes a lot in machine learning. they  just go by another name; they're called **confusion matrixes**!*"
   ]
  },
  {
   "cell_type": "markdown",
   "id": "b74765cb",
   "metadata": {},
   "source": [
    "---\n",
    "\n"
   ]
  },
  {
   "cell_type": "markdown",
   "id": "5fcb4545",
   "metadata": {},
   "source": [
    "A child, a person from a place with no chimneys, or a machine learning algorithm might not do so well! A little kid could mistake the traffic light for a chimney in the middle image, and mistakenly think that the thing in the upper left image was a tower of some sort.  \n",
    "In this case, their response matrix would look like this:"
   ]
  },
  {
   "cell_type": "markdown",
   "id": "08c44be7",
   "metadata": {},
   "source": [
    "|             | Present | Absent |\n",
    "|-------------|-------------------|------------------|\n",
    "|\"Chimney\"    | 3                 | 1                |\n",
    "|\"No Chimney\" | 1                 | 4                |"
   ]
  },
  {
   "cell_type": "markdown",
   "id": "c8ef0e5c",
   "metadata": {},
   "source": [
    "This clearly represents worse performance than in the prior case, because instead of having all 9 responses on the \"correct\" diagonal, we now have just 7, and we have 2 responses on the \"incorrect\" diagonal. But can we summarize the performance with a number? Yes, we can! In fact, we can come up with several different summaries, depending on what we want to emphasize. For example, we could compute the overall performance by looking at the ratio of **correct** responses to **all** responses, and we could call it \"accuracy\":  \n",
    "  \n",
    "``` accuracy = (hits + correct_rejections)/total_responses ```  "
   ]
  },
  {
   "cell_type": "markdown",
   "id": "40b2c7dd",
   "metadata": {},
   "source": [
    "In the first case, that's just 9/9 or 1.0 (go me!). In the second case, we have 7/9 which is... hang on, let me get my calculator... about 0.78 – this represents the decreases accuracy from making 2 mistakes, one a false alarm (FA) and one a miss."
   ]
  },
  {
   "cell_type": "markdown",
   "id": "042e68fd",
   "metadata": {},
   "source": [
    "---"
   ]
  },
  {
   "cell_type": "markdown",
   "id": "5a10179d",
   "metadata": {},
   "source": [
    "Before we delve any deeper, let's paint a little statistical picture of what's going on in your head, or in the workings of a machine learning algorithm when doing this object identification task. You look at each image and have to decide whether there is a chimney or not. If the image is \"chimneyish\" enough, you say \"yes, there's a chimney.\" Otherwise, you say \"no, no chimney.\" So there is some part of your brain that is analyzing the *evidence* or *signal strength* for a chimney, and deciding whether the evidence is strong enough – whether there is enough *signal* to say \"chimney\"."
   ]
  },
  {
   "cell_type": "markdown",
   "id": "7dd10185",
   "metadata": {},
   "source": [
    "So, on each trial, we could graph how much *signal* there was like this:"
   ]
  },
  {
   "cell_type": "code",
   "execution_count": 4,
   "id": "673291ac",
   "metadata": {},
   "outputs": [
    {
     "data": {
      "image/png": "[encoded data removed]",
      "text/plain": [
       "<Figure size 640x480 with 1 Axes>"
      ]
     },
     "metadata": {},
     "output_type": "display_data"
    }
   ],
   "source": [
    "# Data for the bar graph\n",
    "signal_strength = [0.5]  # Single bar with a value of 1\n",
    "\n",
    "# Create the bar graph\n",
    "fig, ax = plt.subplots()\n",
    "ax.barh([0], signal_strength, color='blue', height=0.1)  # Horizontal bar with reduced height\n",
    "\n",
    "\n",
    "# Customize the axes\n",
    "ax.set_yticks([])  # Remove y-axis tick labels\n",
    "ax.set_xlabel(\"signal strength\")  # Label for x-axis\n",
    "ax.set_xticks([])  # Remove x-axis tick labels\n",
    "ax.set_xlim(0, 1)  # Set x-axis limits\n",
    "ax.set_ylim(-0.5, 0.5)  # Set y-axis limits\n",
    "\n",
    "# Display the plot\n",
    "plt.show()"
   ]
  },
  {
   "cell_type": "markdown",
   "id": "ea781c16",
   "metadata": {},
   "source": [
    "So, what do you say? Is that a chimney or not? Is there enough signal? How do you decide?  \n",
    "To give your decision some context, let's look at several trials, some containing a chimney, and some not:"
   ]
  },
  {
   "cell_type": "code",
   "execution_count": 5,
   "id": "a954cdcf",
   "metadata": {},
   "outputs": [
    {
     "data": {
      "image/png": "[encoded data removed]",
      "text/plain": [
       "<Figure size 640x480 with 1 Axes>"
      ]
     },
     "metadata": {},
     "output_type": "display_data"
    }
   ],
   "source": [
    "import numpy as np\n",
    "\n",
    "import matplotlib.pyplot as plt\n",
    "\n",
    "# Generate random samples\n",
    "np.random.seed(42)  # For reproducibility\n",
    "noise = np.random.normal(0.5, 0.1, 5)  # 5 samples from noise distribution\n",
    "signal_plus_noise = np.random.normal(0.6, 0.1, 4)  # 4 samples from signal + noise distribution\n",
    "\n",
    "# Combine the samples\n",
    "observations = np.concatenate([noise, signal_plus_noise])\n",
    "\n",
    "# Create the bar graph\n",
    "fig, ax = plt.subplots()\n",
    "ax.barh(range(len(observations)), observations, color='blue', height=0.1)\n",
    "\n",
    "# Customize the axes\n",
    "ax.set_yticks(range(len(observations)))\n",
    "ax.set_yticklabels([f\"Obs {i+1}\" for i in range(len(observations))])\n",
    "ax.set_xlabel(\"signal strength\")\n",
    "ax.set_xlim(0, 1)\n",
    "\n",
    "# Display the plot\n",
    "plt.show()"
   ]
  },
  {
   "cell_type": "code",
   "execution_count": null,
   "id": "c2a46787",
   "metadata": {
    "vscode": {
     "languageId": "r"
    }
   },
   "outputs": [],
   "source": [
    "# Plot the probability distributions\n",
    "fig, ax = plt.subplots()\n",
    "\n",
    "# Plot noise distribution\n",
    "# ax.hist(noise, bins=10, density=True, alpha=0.5, label='Noise', color='blue')\n",
    "\n",
    "# Plot signal + noise distribution\n",
    "# ax.hist(signal_plus_noise, bins=10, density=True, alpha=0.5, label='Signal + Noise', color='orange')\n",
    "\n",
    "# Set the x-axis limits\n",
    "ax.hist(noise, bins=10, density=True, alpha=0.5, label='Noise', color='blue', range=(0, 1))\n",
    "ax.hist(signal_plus_noise, bins=10, density=True, alpha=0.5, label='Signal + Noise', color='orange', range=(0, 1))\n",
    "ax.set_xlim(0, 1)\n",
    "\n",
    "# Add labels and legend\n",
    "ax.set_xlabel('Signal Strength')\n",
    "ax.set_ylabel('Probability Density')\n",
    "ax.legend()\n",
    "\n",
    "# Display the plot\n",
    "plt.show()"
   ]
  },
  {
   "cell_type": "code",
   "execution_count": 8,
   "id": "0a3c917c",
   "metadata": {},
   "outputs": [
    {
     "data": {
      "image/png": "[encoded data removed]",
      "text/plain": [
       "<Figure size 640x480 with 1 Axes>"
      ]
     },
     "metadata": {},
     "output_type": "display_data"
    }
   ],
   "source": [
    "from scipy.stats import norm\n",
    "import numpy as np\n",
    "\n",
    "# Define the x-axis range\n",
    "x = np.linspace(0, 1, 500)\n",
    "\n",
    "# Calculate the mean and standard deviation for noise and signal + noise\n",
    "mean_noise, std_noise = np.mean(noise), np.std(noise)\n",
    "mean_signal_plus_noise, std_signal_plus_noise = np.mean(signal_plus_noise), np.std(signal_plus_noise)\n",
    "\n",
    "# Compute the PDFs\n",
    "pdf_noise = norm.pdf(x, mean_noise, std_noise)\n",
    "pdf_signal_plus_noise = norm.pdf(x, mean_signal_plus_noise, std_signal_plus_noise)\n",
    "\n",
    "# Plot the smooth distributions\n",
    "fig, ax = plt.subplots()\n",
    "ax.plot(x, pdf_noise, label='Noise', color='blue')\n",
    "ax.plot(x, pdf_signal_plus_noise, label='Signal + Noise', color='orange')\n",
    "\n",
    "# Add labels, legend, and title\n",
    "ax.set_xlabel('Signal Strength')\n",
    "ax.set_ylabel('Probability Density')\n",
    "ax.legend()\n",
    "\n",
    "# Display the plot\n",
    "plt.show()"
   ]
  },
  {
   "cell_type": "code",
   "execution_count": null,
   "id": "f69efa14",
   "metadata": {},
   "outputs": [],
   "source": []
  }
 ],
 "metadata": {
  "kernelspec": {
   "display_name": "base",
   "language": "python",
   "name": "python3"
  },
  "language_info": {
   "codemirror_mode": {
    "name": "ipython",
    "version": 3
   },
   "file_extension": ".py",
   "mimetype": "text/x-python",
   "name": "python",
   "nbconvert_exporter": "python",
   "pygments_lexer": "ipython3",
   "version": "3.11.8"
  }
 },
 "nbformat": 4,
 "nbformat_minor": 5
}
