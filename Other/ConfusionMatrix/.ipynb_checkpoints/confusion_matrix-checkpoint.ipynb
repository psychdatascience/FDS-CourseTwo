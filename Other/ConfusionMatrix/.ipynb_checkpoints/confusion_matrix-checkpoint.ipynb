{
 "cells": [
  {
   "cell_type": "markdown",
   "id": "a0ef0dd2-d776-4ef4-881d-fa4aa6a57bad",
   "metadata": {},
   "source": [
    "# The very confusing Confusion Matrix"
   ]
  },
  {
   "cell_type": "markdown",
   "id": "b8ca9d0a-9dea-4abb-ab92-61f2848f4407",
   "metadata": {},
   "source": [
    "Hi! If you are super confused by the \"confusion matrix\" in machine learning, you're not alone! What we are going to do is hit the reset button, start over with useful trip to the past, and actually understand this silly little 2x2 matrix!"
   ]
  },
  {
   "cell_type": "markdown",
   "id": "62072d22-284d-4661-8659-3241c58a4285",
   "metadata": {},
   "source": [
    "## The Response Matrix"
   ]
  },
  {
   "cell_type": "markdown",
   "id": "b891b065-e5d4-45c2-bc03-d94feca8b58b",
   "metadata": {},
   "source": [
    "Let's imagine that you are trying to prove to some website that you are not a robot. You know what I'm talking about. Sometimes you get lucky and just have to check a box. Unfortunately, sometimes you get a bunch of images and you have to pick the ones with chimneys in them or something."
   ]
  },
  {
   "cell_type": "markdown",
   "id": "133452be-93a6-4fb9-ac8c-c726229f55be",
   "metadata": {},
   "source": [
    "Like this:\n",
    "![failed to load](images/chimneys.jpeg \"chimneys test\")"
   ]
  },
  {
   "cell_type": "markdown",
   "id": "735a7359-be8c-4908-931a-2064944cb2f3",
   "metadata": {},
   "source": [
    "Let's think about what you have to do! You have to  \n",
    "1) PICK all of the images that DO have a chimney, and  \n",
    "2) NOT PICK any of the images that DON'T have a chimney.\n",
    "  \n",
    "Let's think about your possible answers, whether they will by correct or incorrect and, *in what way will they be correct or incorrect*. "
   ]
  },
  {
   "cell_type": "markdown",
   "id": "f707ff78-8594-4ae3-8008-6845787090d1",
   "metadata": {},
   "source": [
    "If the last bit of that sentence (technically, the final clause, since we're all LAMbs here) doesn't make sense to you, just hang on! "
   ]
  },
  {
   "cell_type": "markdown",
   "id": "d9c483e0-7e0e-4dc9-b772-5e3c0b523406",
   "metadata": {},
   "source": [
    "Let's consider the possible responses you might make, in light of whether there were actually enemy planes in the radar image. You can say:  \n",
    "    - yes, there *are* enemy planes, and there actually are – let's call this a \"hit\"  \n",
    "    - no, there *aren't* enemy planes, and there actually are none - call this a \"correct rejection\"  \n",
    "    - yes, there *are* enemy planes, but you said \"nope, don't see any\" – a \"miss\"  \n",
    "    - no, there *aren't* enemy planes, but you said \"I see enemy planes – a \"false alarm\"!  \n",
    "\n"
   ]
  },
  {
   "cell_type": "markdown",
   "id": "30d2f268-00c6-48dd-8dd7-53d5916080a2",
   "metadata": {},
   "source": [
    "Let's think about this. We have 2 possible states of the world (enemy planes or not), and 2 possible responses from you (\"enemy planes\" or \"no enemy planes\". We can represent this as a 2x2 matrix like so:"
   ]
  },
  {
   "cell_type": "code",
   "execution_count": null,
   "id": "ee4980b2-2cc5-46ef-9269-785426477008",
   "metadata": {},
   "outputs": [],
   "source": []
  }
 ],
 "metadata": {
  "kernelspec": {
   "display_name": "Python 3 (ipykernel)",
   "language": "python",
   "name": "python3"
  },
  "language_info": {
   "codemirror_mode": {
    "name": "ipython",
    "version": 3
   },
   "file_extension": ".py",
   "mimetype": "text/x-python",
   "name": "python",
   "nbconvert_exporter": "python",
   "pygments_lexer": "ipython3",
   "version": "3.11.8"
  }
 },
 "nbformat": 4,
 "nbformat_minor": 5
}
