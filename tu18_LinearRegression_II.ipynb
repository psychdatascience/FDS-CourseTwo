{
 "cells": [
  {
   "cell_type": "code",
   "execution_count": null,
   "id": "230374c9",
   "metadata": {},
   "outputs": [],
   "source": [
    "def myR2(y,y_hat):\n",
    "    # Calculate R-squared\n",
    "    residuals = y - y_hat\n",
    "\n",
    "    ss_res = np.sum(residuals**2)\n",
    "    ss_tot = np.sum((y - np.mean(y))**2)\n",
    "    r_squared = 1 - (ss_res / ss_tot)\n",
    "    print(r_squared)\n",
    "    \n",
    "    return r_squared"
   ]
  },
  {
   "cell_type": "code",
   "execution_count": null,
   "id": "a34bf080",
   "metadata": {},
   "outputs": [],
   "source": [
    "r2 = myR2(y,y_hat)"
   ]
  },
  {
   "cell_type": "markdown",
   "id": "61503c43",
   "metadata": {},
   "source": [
    "In the code above, we first generate some random data and fit a linear regression model to it using polyfit from NumPy.\n",
    "\n",
    "We then calculate the residuals of the model, the sum of squares of the residuals (ss_res), and the total sum of squares (ss_tot) of the data.\n",
    "\n",
    "Finally, we calculate the R-squared (R²) value using the formula 1 - (ss_res / ss_tot).\n",
    "\n",
    "R-squared (R²) is a statistical measure that represents the proportion of variance in the dependent variable (y) that is explained by the independent variable(s) (x) in a linear regression model. In other words, it measures how well the observed data points fit the regression line.\n",
    "\n",
    "R-squared values range from 0 to 1, where a value of 0 indicates that the model does not explain any of the variation in the dependent variable and a value of 1 indicates that the model explains all of the variation in the dependent variable.\n",
    "\n",
    "An R-squared value of 0.8, for example, indicates that 80% of the variation in the dependent variable is explained by the independent variable(s) in the model. R-squared is commonly used as a goodness-of-fit measure to evaluate how well a linear regression model fits the data.\n",
    "\n",
    "Our R-squared (R²) was OK in this case not too good not too bad. We will discuss more about R², sum of squares, etc.\n",
    "\n",
    "Before we do that, let's think about good and bad models."
   ]
  }
 ],
 "metadata": {
  "kernelspec": {
   "display_name": "Python 3 (ipykernel)",
   "language": "python",
   "name": "python3"
  },
  "language_info": {
   "codemirror_mode": {
    "name": "ipython",
    "version": 3
   },
   "file_extension": ".py",
   "mimetype": "text/x-python",
   "name": "python",
   "nbconvert_exporter": "python",
   "pygments_lexer": "ipython3",
   "version": "3.9.7"
  }
 },
 "nbformat": 4,
 "nbformat_minor": 5
}
