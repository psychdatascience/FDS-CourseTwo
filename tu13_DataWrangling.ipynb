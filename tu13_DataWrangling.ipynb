{
 "cells": [
  {
   "cell_type": "markdown",
   "id": "dce81b46-5074-470b-ba38-a0dbe7610863",
   "metadata": {},
   "source": [
    "# Data Wrangling "
   ]
  },
  {
   "cell_type": "markdown",
   "id": "ce281705-dab5-475a-b916-131df6fa4a12",
   "metadata": {},
   "source": [
    "Data wrangling generally refers to the process of getting a data set ready for analysis. Why would we need to do that?\n",
    "\n",
    "Real-world data can be messy. Data sets are recorded and assembled by humans, and humans make mistakes. A single data set might created and updated by multiple people who may decide to do things in slightly different ways. On a spreadsheet, one person might might decide to leave cells with missing data blank, another might enter \"NaN\", while a third may enter \"missing\". If the data has many many rows, one person might decide to repeat the column headers partway down so they don't have to scroll up to see them. Any of these things mean that the data set cannot be analyzed \"as is\" and wrangling will be required.\n",
    "\n",
    "Even in a tightly controlled laboratory setting in which data are collected via computer and automatically written out to data files, some data wrangling might be required. There might be a separate data file for each subject or experimental session, meaning that these separate files will have to be combined into a single data set before analysis. "
   ]
  },
  {
   "cell_type": "markdown",
   "id": "2d342334-28b2-4eaa-bc80-b6d00f70f06a",
   "metadata": {},
   "source": [
    "Our main wrangling tool is pandas, so we can go ahead and import it."
   ]
  },
  {
   "cell_type": "code",
   "execution_count": null,
   "id": "30d130e4-34c2-474d-8f8b-020b8f162c12",
   "metadata": {},
   "outputs": [],
   "source": [
    "import pandas as pd"
   ]
  },
  {
   "cell_type": "markdown",
   "id": "e989857b-9797-4674-8a98-53673bd84bf2",
   "metadata": {},
   "source": [
    "## Loading"
   ]
  },
  {
   "cell_type": "markdown",
   "id": "71fb57fa-e3b5-44fb-9eb3-b99048f1c803",
   "metadata": {},
   "source": [
    "For our wrangling practice today, we'll look at a data set containing various measurements on breast cancer patients. The file is called `breast_cancer_data.csv`, and you should place it in the \"data\" folder you should already have in the same directory as this notebook.\n",
    "\n",
    "Let's import it as a pandas dataframe."
   ]
  },
  {
   "cell_type": "code",
   "execution_count": null,
   "id": "eafb8a59-e66e-4ac0-8c37-a145723690e8",
   "metadata": {},
   "outputs": [],
   "source": [
    "bcd = pd.read_csv('./data/breast_cancer_data.csv')\n",
    "bcd"
   ]
  },
  {
   "cell_type": "markdown",
   "id": "e6712f8b-aa5a-449e-a5b7-32d1070c5f41",
   "metadata": {},
   "source": [
    "Before we do any actual wrangling, let's get familiar with the data frame in its current form."
   ]
  },
  {
   "cell_type": "markdown",
   "id": "0a1f4e61-57bb-4a98-a096-89a407cea6f2",
   "metadata": {},
   "source": [
    "## Exploring the Data Frame"
   ]
  },
  {
   "cell_type": "markdown",
   "id": "1a47e896-c279-47ac-a981-7769cf5e0441",
   "metadata": {},
   "source": [
    "We can explore the data frame by looking at it's attributes, such as its shape, column names, and data types:"
   ]
  },
  {
   "cell_type": "code",
   "execution_count": null,
   "id": "a7a44481-085b-471b-b2a6-620cb4d89b3e",
   "metadata": {},
   "outputs": [],
   "source": [
    "bcd.columns"
   ]
  },
  {
   "cell_type": "markdown",
   "id": "f7d0038d-6147-4db2-9ca0-31987c5d8476",
   "metadata": {},
   "source": [
    "---"
   ]
  },
  {
   "cell_type": "markdown",
   "id": "f0fd0007-5d92-4142-a5ba-2d17c3c6add1",
   "metadata": {},
   "source": [
    "Use the cells below to get the shape and data types (`dtypes`) of our data frame."
   ]
  },
  {
   "cell_type": "code",
   "execution_count": null,
   "id": "8c5121b5-70ca-4a3d-a6f8-b07108040d03",
   "metadata": {},
   "outputs": [],
   "source": [
    "bcd.shape"
   ]
  },
  {
   "cell_type": "code",
   "execution_count": null,
   "id": "8330ce10-0856-43ae-b213-ecd13f88cdb2",
   "metadata": {},
   "outputs": [],
   "source": [
    "bcd.dtypes"
   ]
  },
  {
   "cell_type": "markdown",
   "id": "5ec837c3-7f65-46fa-8d9d-e15bf2b2491f",
   "metadata": {},
   "source": [
    "---"
   ]
  },
  {
   "cell_type": "markdown",
   "id": "f8a8f7e1-c817-417b-805b-87571037fe27",
   "metadata": {},
   "source": [
    "In the cell below, use the `describe()` method to get a summary of the numerical columns."
   ]
  },
  {
   "cell_type": "code",
   "execution_count": null,
   "id": "55c26b54-fd65-49f7-b152-0d668ddb02aa",
   "metadata": {
    "tags": []
   },
   "outputs": [],
   "source": []
  },
  {
   "cell_type": "markdown",
   "id": "6b450d36-007d-430d-952c-32685171870c",
   "metadata": {},
   "source": [
    "---"
   ]
  },
  {
   "cell_type": "markdown",
   "id": "b63ccb44-5162-4358-ab62-544579877584",
   "metadata": {},
   "source": [
    "## Modifying a text column"
   ]
  },
  {
   "cell_type": "markdown",
   "id": "ed3f7944-c124-4285-b69f-d821c56b3112",
   "metadata": {},
   "source": [
    "We'll often want to \"tune up\" columns that contain text. We might encounter, for example, a column containing full names that we need to break up into separate columns for the first and last names."
   ]
  },
  {
   "cell_type": "markdown",
   "id": "3a0cb836-0a92-4faa-80f7-10a2a13f2313",
   "metadata": {},
   "source": [
    "---"
   ]
  },
  {
   "cell_type": "markdown",
   "id": "21836f17-de4f-4af5-8933-9105a72f82b0",
   "metadata": {},
   "source": [
    "Let's look at the column for the doctors' names. Use the cell below to take a peek."
   ]
  },
  {
   "cell_type": "code",
   "execution_count": null,
   "id": "7df9df58-61f7-4d19-8bd6-1767fb592e62",
   "metadata": {},
   "outputs": [],
   "source": []
  },
  {
   "cell_type": "markdown",
   "id": "0ce5d667-1012-4aca-96a4-7714feeb7610",
   "metadata": {},
   "source": [
    "---"
   ]
  },
  {
   "cell_type": "markdown",
   "id": "e88d3fda-163b-4e78-a898-38de8062374f",
   "metadata": {},
   "source": [
    "The doctors' name data are redundant; each one has a \"Dr. \" in front of the actual name, but we already know these are doctors by the column name. Further, the entries have white space in them, which can cause us problems down the road. So let's modify this column so it only contains the surnames of the doctors."
   ]
  },
  {
   "cell_type": "markdown",
   "id": "c86246d5-3092-48bc-a37e-bfbf1a72de13",
   "metadata": {},
   "source": [
    "One great thing about pandas is that it has versions of many of Python's string methods that operate *element-wise on an entire column of strings*. Here, we want to separate the \"Dr. \" from the actual name, which is exactly what Python's `str.split()` function does. So chances are, pandas has a version of this function that operates element-wise on data frames."
   ]
  },
  {
   "cell_type": "markdown",
   "id": "3f5778c1-e7bd-4f05-ae53-30337556e05a",
   "metadata": {},
   "source": [
    "---"
   ]
  },
  {
   "cell_type": "markdown",
   "id": "f33f10d9-efb4-413d-a659-72526993f052",
   "metadata": {},
   "source": [
    "#### String Splitting Review:"
   ]
  },
  {
   "cell_type": "markdown",
   "id": "44175e12-1395-461e-9a80-09642db4a190",
   "metadata": {},
   "source": [
    "Let's briefly remind ourselves of splitting up Python strings and extracting bits of them."
   ]
  },
  {
   "cell_type": "code",
   "execution_count": null,
   "id": "5b890c45-6df6-4b07-98c2-ae8c6acb04c3",
   "metadata": {},
   "outputs": [],
   "source": [
    "# Here's a string of the form: surname, first initial.\n",
    "myStr = 'SirString, A.'\n",
    "print(myStr)"
   ]
  },
  {
   "cell_type": "markdown",
   "id": "46d79476-2a1e-47a6-aa8d-763c6adf7fa5",
   "metadata": {},
   "source": [
    "Let's say we wanted to get the surname. We could split this string into a Python list at the white space like this:"
   ]
  },
  {
   "cell_type": "code",
   "execution_count": null,
   "id": "eb51a5cc-03a6-4740-bfa7-ecd50fcff2cc",
   "metadata": {},
   "outputs": [],
   "source": [
    "spltStr = myStr.split()    # split() defaults to splitting at white space\n",
    "print(spltStr)"
   ]
  },
  {
   "cell_type": "markdown",
   "id": "4f98b3b6-eccc-48c1-9ff8-6a69a932e899",
   "metadata": {},
   "source": [
    "We now have a list in which the items contain the text on either side of the split. This is close to what we want: the first entry in the list has the surname, but it also has an unwanted comma. \n",
    "\n",
    "Let's split the string at the comma instead:"
   ]
  },
  {
   "cell_type": "code",
   "execution_count": null,
   "id": "92097baa-1bea-40fc-a479-97f1ad558920",
   "metadata": {},
   "outputs": [],
   "source": [
    "spltStr = myStr.split(',')   # tell Python to split at commas\n",
    "print(spltStr)"
   ]
  },
  {
   "cell_type": "markdown",
   "id": "bd38842c-f2d7-4db6-9eeb-5dc2c2579eca",
   "metadata": {},
   "source": [
    "Now we have isolated the last name, and we can fetch it by indexing:"
   ]
  },
  {
   "cell_type": "code",
   "execution_count": null,
   "id": "bb6c55a2-9714-4ef0-8ffa-b4c43c861bb3",
   "metadata": {},
   "outputs": [],
   "source": [
    "surname = spltStr[0]\n",
    "print(surname)"
   ]
  },
  {
   "cell_type": "markdown",
   "id": "9d281d1f-0939-430c-a2f5-63cf9d74e08b",
   "metadata": {},
   "source": [
    "---"
   ]
  },
  {
   "cell_type": "markdown",
   "id": "f127ac99-c2e7-442a-8576-1e7fef859336",
   "metadata": {},
   "source": [
    "In the cell below, see if you can extract the surname from `myStr` in one line of code:"
   ]
  },
  {
   "cell_type": "code",
   "execution_count": null,
   "id": "94ec378a-ca0d-4772-b197-06653d503bb0",
   "metadata": {},
   "outputs": [],
   "source": []
  },
  {
   "cell_type": "markdown",
   "id": "63f6b393-4151-4cab-abb0-df2258fbff96",
   "metadata": {},
   "source": [
    "---"
   ]
  },
  {
   "cell_type": "markdown",
   "id": "9502f9d3-0a30-4fb0-b924-48aeb0fa955b",
   "metadata": {},
   "source": [
    "Alright, time to replace the `bcd['doctor_name']` column values with just the doctors' last names. \n",
    "\n",
    "We could do this in one step, but let's break it out for clarity. First, let's copy the name column out into a new series."
   ]
  },
  {
   "cell_type": "code",
   "execution_count": null,
   "id": "caaafffc-83b6-4431-9154-12a730eda973",
   "metadata": {},
   "outputs": [],
   "source": [
    "dr_names = bcd['doctor_name']\n",
    "dr_names"
   ]
  },
  {
   "cell_type": "markdown",
   "id": "36d9c524-537f-477e-b0b6-c7064dbd23ae",
   "metadata": {},
   "source": [
    "---"
   ]
  },
  {
   "cell_type": "markdown",
   "id": "a522fd66-f050-4d4b-a292-3c3841e1e8b1",
   "metadata": {},
   "source": [
    "***Note***: pandas objects behave like ordinary Python objects. So, strictly speaking, we have not created a new object (pandas Series), rather, *we have created a new label that refers to the \"doctor_name\" column of `bcd`.*"
   ]
  },
  {
   "cell_type": "markdown",
   "id": "41be32fa-a5c8-4088-adeb-18ebcb8d3317",
   "metadata": {},
   "source": [
    "In the cell below, use the `id()` function to compare the object IDs of `dr_names` and the corresponding column of `bcd`."
   ]
  },
  {
   "cell_type": "code",
   "execution_count": null,
   "id": "907e00fe-0815-4c70-993f-2e403d610fe4",
   "metadata": {},
   "outputs": [],
   "source": []
  },
  {
   "cell_type": "markdown",
   "id": "2e96a388-4d74-4fd6-a520-051f524fdc38",
   "metadata": {},
   "source": [
    "---"
   ]
  },
  {
   "cell_type": "markdown",
   "id": "91f85870-e63f-461e-9e38-a0d9c1dc2ef4",
   "metadata": {},
   "source": [
    "Now let's split all the names in the `doctor_name` column at the whitespace by using pandas `DataFrame.str.split()` function."
   ]
  },
  {
   "cell_type": "code",
   "execution_count": null,
   "id": "1f6cf57c-d41f-446c-9943-c078584e2725",
   "metadata": {},
   "outputs": [],
   "source": [
    "split_dr_names = dr_names.str.split()\n",
    "split_dr_names"
   ]
  },
  {
   "cell_type": "markdown",
   "id": "eaee4a5c-77c1-4e87-84ed-7831f9e4b89d",
   "metadata": {},
   "source": [
    "`DataFrame.str.split()`, however, *does* create a new object."
   ]
  },
  {
   "cell_type": "markdown",
   "id": "b4b919d3-1dc6-4f87-b677-52db606002cc",
   "metadata": {},
   "source": [
    "---"
   ]
  },
  {
   "cell_type": "markdown",
   "id": "b4ca87ac-62ed-469a-a557-4986283a87fb",
   "metadata": {},
   "source": [
    "Use the cell below to confirm that the `split()` spawed a new object."
   ]
  },
  {
   "cell_type": "code",
   "execution_count": null,
   "id": "14ec641f-42ec-40f8-b42c-aa9050727e38",
   "metadata": {},
   "outputs": [],
   "source": []
  },
  {
   "cell_type": "markdown",
   "id": "9b499e7d-5fe1-43d4-8f45-6d6616350398",
   "metadata": {},
   "source": [
    "---"
   ]
  },
  {
   "cell_type": "markdown",
   "id": "e6271c00-8800-49df-9a4f-94860fb68ea7",
   "metadata": {
    "tags": []
   },
   "source": [
    "Now we have a column of lists, each with two elements. The first element of each list is the \"Dr. \" bit, and the second consists of the surnames we want. \n",
    "\n",
    "We can get these by using pandas string indexing, `Series.str[index]`. "
   ]
  },
  {
   "cell_type": "code",
   "execution_count": null,
   "id": "36149555-560c-4d50-873a-8972aa931bab",
   "metadata": {},
   "outputs": [],
   "source": [
    "surnames = split_dr_names.str[1]\n",
    "surnames"
   ]
  },
  {
   "cell_type": "markdown",
   "id": "7eb9bf77-14d7-49ae-9ee0-c2dece4a4cb6",
   "metadata": {},
   "source": [
    "Note that, like the splitting, the string indexing worked on the entire `Series` automatically."
   ]
  },
  {
   "cell_type": "markdown",
   "id": "78047fdd-3e5f-4040-b837-696f76c68a99",
   "metadata": {},
   "source": [
    "Now we can change the column in our main data frame, `bcd`."
   ]
  },
  {
   "cell_type": "code",
   "execution_count": null,
   "id": "5ecb1934-5c05-46ab-ad23-e6433b0c3260",
   "metadata": {},
   "outputs": [],
   "source": [
    "bcd['doctor_name'] = surnames"
   ]
  },
  {
   "cell_type": "code",
   "execution_count": null,
   "id": "b716f1bb-c600-4523-acda-5edbcd08f810",
   "metadata": {},
   "outputs": [],
   "source": [
    "bcd['doctor_name']"
   ]
  },
  {
   "cell_type": "markdown",
   "id": "d5951905-3c19-4662-b718-575095a575d8",
   "metadata": {},
   "source": [
    "Success!"
   ]
  },
  {
   "cell_type": "markdown",
   "id": "456112ba-9c0e-48e8-a7ba-1c61a50e6331",
   "metadata": {},
   "source": [
    "## Converting a column type (and other aggravations)"
   ]
  },
  {
   "cell_type": "markdown",
   "id": "da3916f3-e326-4e16-96b2-0237774ee790",
   "metadata": {},
   "source": [
    "Let's look at those data types again."
   ]
  },
  {
   "cell_type": "code",
   "execution_count": null,
   "id": "51626d51-6f6e-4b10-99bd-7f39bf6adcef",
   "metadata": {},
   "outputs": [],
   "source": [
    "bcd.dtypes"
   ]
  },
  {
   "cell_type": "markdown",
   "id": "5407e575-e574-4896-ac62-6c07b4e37515",
   "metadata": {},
   "source": [
    "Notice that \"class\" and \"doctor_name\" are of dtype \"object\", which refers to a general purpose column type, and is how pandas imports text columns by default. Most of the others are numeric (integers or floats), except for \"bare_nuclei\"."
   ]
  },
  {
   "cell_type": "markdown",
   "id": "630ddfa3-418b-47fe-916b-14d7e4104e6d",
   "metadata": {},
   "source": [
    "---"
   ]
  },
  {
   "cell_type": "markdown",
   "id": "5b6db6ef-b042-441a-ab5f-204bf98d68bd",
   "metadata": {},
   "source": [
    "In the cell below, take a quick glance at 'bcd' again, and see if the \"bare_nuclei\" column should be a different data type that, say \"marginal_adhesion\"."
   ]
  },
  {
   "cell_type": "code",
   "execution_count": null,
   "id": "4e3ed968-3e21-47e2-acb2-b82c13b2b200",
   "metadata": {},
   "outputs": [],
   "source": []
  },
  {
   "cell_type": "markdown",
   "id": "32572b20-acbc-40da-8ad6-b32c6ce2f6bc",
   "metadata": {},
   "source": [
    "---"
   ]
  },
  {
   "cell_type": "markdown",
   "id": "361857e6-9c3d-4d57-8454-8f22feb52eeb",
   "metadata": {},
   "source": [
    "It looks like \"bare_nuclei\" was intended to be a numeric column, so let's try and convert it using the `DataFrame.astype()` converter method."
   ]
  },
  {
   "cell_type": "code",
   "execution_count": null,
   "id": "f3004382-cb50-4ab0-8811-74cc6da0fb3f",
   "metadata": {},
   "outputs": [],
   "source": [
    "bcd['bare_nuclei'] = bcd['bare_nuclei'].astype('int64')"
   ]
  },
  {
   "cell_type": "markdown",
   "id": "438b4326-338c-4562-b6b9-0015435a3e52",
   "metadata": {},
   "source": [
    "And, argh, we get an error! If we look at the bottom of the error message, it seems that the error involves question marks (\"?\") in the data, which would also explain why this column imported as text rather than numbers in the first place.\n",
    "\n",
    "Let's check."
   ]
  },
  {
   "cell_type": "markdown",
   "id": "40ee8308-17b6-495e-95a3-b3e65d5b944e",
   "metadata": {},
   "source": [
    "---"
   ]
  },
  {
   "cell_type": "markdown",
   "id": "09dc4db1-f212-4980-ae45-c161dea1be3a",
   "metadata": {},
   "source": [
    "In the cell below, use logical indexing to show the rows of `bcd` in which `bcd[bare_nuclei]` contains a question mark."
   ]
  },
  {
   "cell_type": "code",
   "execution_count": null,
   "id": "6b02f293-e697-4365-b2d3-858230542985",
   "metadata": {},
   "outputs": [],
   "source": []
  },
  {
   "cell_type": "markdown",
   "id": "154ee1e1-eb4f-4ae5-a0a1-c59f97386a6c",
   "metadata": {},
   "source": [
    "---"
   ]
  },
  {
   "cell_type": "markdown",
   "id": "bb41e3bd-d57b-45d3-b0bc-b915f8352d34",
   "metadata": {},
   "source": [
    "Sure enough. Rather than leaving the cells of missing values empty, somebody has made the poor decision to enter question marks instead.\n",
    "\n",
    "When you are dealing with other peoples' data, you'll find that this sort of the happens a LOT. It can be very aggravating, so we need to learn to treat these things as challenging puzzles instead of hassles!"
   ]
  },
  {
   "cell_type": "markdown",
   "id": "61e54236-c29f-46d3-9c3d-34a6653be90a",
   "metadata": {},
   "source": [
    "Let's replace the question marks with nothing, so that this column becomes consistent with the rest. Fortunately, `DataFrame` (and `Series`) objects have a `replace()` function built in, so let's use that."
   ]
  },
  {
   "cell_type": "code",
   "execution_count": null,
   "id": "9b42b13f-4de9-4445-9521-5f148ea48c4d",
   "metadata": {
    "tags": []
   },
   "outputs": [],
   "source": [
    "bcd['bare_nuclei'] = bcd['bare_nuclei'].replace('?', '')"
   ]
  },
  {
   "cell_type": "markdown",
   "id": "0d000171-2cd0-422c-aa83-b58b8d56db86",
   "metadata": {},
   "source": [
    "---"
   ]
  },
  {
   "cell_type": "markdown",
   "id": "6578e134-a1bc-4cfa-9c67-e59cb3bf7ff3",
   "metadata": {},
   "source": [
    "In the cell below, confirm that we no longer have question marks in our \"bare_nuclei\" column."
   ]
  },
  {
   "cell_type": "code",
   "execution_count": null,
   "id": "508a2cb7-afb3-4036-92b1-01fb8b537020",
   "metadata": {},
   "outputs": [],
   "source": []
  },
  {
   "cell_type": "markdown",
   "id": "6502e97a-e962-44e4-8891-639bddfe8edd",
   "metadata": {},
   "source": [
    "---"
   ]
  },
  {
   "cell_type": "markdown",
   "id": "64eacb66-c113-4ce7-aa3d-3c8b36c9548d",
   "metadata": {},
   "source": [
    "**Note**: As mentioned above, extracting columns or other subsets of data from a pandas `DataFrame` or `Series` does not create a new object but rather a new label to the existing object.\n",
    "\n",
    "So, for example, `the_IDs = bcd['patient_id']` does not make a new object, but rather creates a second label referring to the original object (consistent with the behavior of base Python).\n",
    "\n",
    "In general, however, pandas methods (functions) *do* create new objects. Thus, the step of assigning the output of `.replace()` back to the original data frame column is necessary."
   ]
  },
  {
   "cell_type": "markdown",
   "id": "a24f0f39-be0b-4ab0-8a66-a37050dd0d98",
   "metadata": {},
   "source": [
    "---"
   ]
  },
  {
   "cell_type": "markdown",
   "id": "07bebab1-c7ed-41de-8364-491a4d7c26f9",
   "metadata": {},
   "source": [
    "In the cell below, confirm that the output of `.replace()` and `bcd['bare_nuclei']` have different IDs."
   ]
  },
  {
   "cell_type": "code",
   "execution_count": null,
   "id": "b5502996-508c-41e3-b54a-2f1233fb0ccc",
   "metadata": {},
   "outputs": [],
   "source": []
  },
  {
   "cell_type": "markdown",
   "id": "27a9060d-0b0f-4232-aa45-dc39cc314d4b",
   "metadata": {},
   "source": [
    "---"
   ]
  },
  {
   "cell_type": "markdown",
   "id": "126e124e-467d-402f-baab-d4f7f9b804ad",
   "metadata": {},
   "source": [
    "And now we can convert the column to numeric values."
   ]
  },
  {
   "cell_type": "code",
   "execution_count": null,
   "id": "455ff29a-ea4d-4fa9-ba7f-b1f70221603b",
   "metadata": {},
   "outputs": [],
   "source": [
    "bcd['bare_nuclei'] = pd.to_numeric(bcd['bare_nuclei'])"
   ]
  },
  {
   "cell_type": "markdown",
   "id": "10168d42-3178-4ef5-b89e-1714057092f7",
   "metadata": {},
   "source": [
    "---"
   ]
  },
  {
   "cell_type": "markdown",
   "id": "2ae357c3-3af5-405e-ba22-fe755be76202",
   "metadata": {},
   "source": [
    "In the cell below, check the data types of columns in `bcd`."
   ]
  },
  {
   "cell_type": "code",
   "execution_count": null,
   "id": "dd040c4f-3024-4b36-a604-f216845b4482",
   "metadata": {
    "tags": []
   },
   "outputs": [],
   "source": []
  },
  {
   "cell_type": "markdown",
   "id": "bb772184-8c46-473a-b159-a715d3aa1c12",
   "metadata": {},
   "source": [
    "---"
   ]
  },
  {
   "cell_type": "markdown",
   "id": "0f7995b9-7825-432e-bc82-4884eb613495",
   "metadata": {},
   "source": [
    "Okay! We have now have gotten our data somewhat into shape, meaning:\n",
    "\n",
    "- missing data are actually missing\n",
    "- columns of numeric data are numeric in type\n",
    "- the column of doctor names contains only last names\n",
    "\n",
    "So now we can explore some ways to deal with missing values."
   ]
  },
  {
   "cell_type": "markdown",
   "id": "bc063a37-3262-4d75-adf4-4059c3f5cb1b",
   "metadata": {},
   "source": [
    "## Dealing with missing data"
   ]
  },
  {
   "cell_type": "markdown",
   "id": "ed62fcfe-57b6-4bff-b905-989a75557963",
   "metadata": {},
   "source": [
    "### Finding missing values"
   ]
  },
  {
   "cell_type": "markdown",
   "id": "5a8b9519-8cae-4b3a-a43a-2087bd3d74ad",
   "metadata": {},
   "source": [
    "Even though this dataset isn't all that large:"
   ]
  },
  {
   "cell_type": "code",
   "execution_count": null,
   "id": "fd2db256-6b4e-46df-a303-3b6ab093db6d",
   "metadata": {},
   "outputs": [],
   "source": [
    "bcd.shape"
   ]
  },
  {
   "cell_type": "markdown",
   "id": "3f861b2b-2b62-4d46-9e62-3a64cdf95079",
   "metadata": {},
   "source": [
    "699 rows is lot to look through \"by hand\" in order to find missing values. "
   ]
  },
  {
   "cell_type": "markdown",
   "id": "3bf946db-5f5a-4b66-acef-4c1d6dd71b16",
   "metadata": {},
   "source": [
    "We can test for missing values using the `DataFrame.isna()` method. "
   ]
  },
  {
   "cell_type": "code",
   "execution_count": null,
   "id": "1a3e78f1-9525-427b-b80b-e19732bd4f2e",
   "metadata": {},
   "outputs": [],
   "source": [
    "bcd.isna()"
   ]
  },
  {
   "cell_type": "markdown",
   "id": "3552fad4-7bae-43fa-b570-9fd907dded99",
   "metadata": {},
   "source": [
    "By itself, that doesn't help us much. But if we combine it with summation (remember that `True` values count as 1 and `False` counts as zero):"
   ]
  },
  {
   "cell_type": "code",
   "execution_count": null,
   "id": "90cb8212-0cd9-4f64-aa30-58401ab7578c",
   "metadata": {},
   "outputs": [],
   "source": [
    "bcd.isna().sum()"
   ]
  },
  {
   "cell_type": "markdown",
   "id": "286b7ce1-afe9-45d7-90a3-12df5d4114cb",
   "metadata": {},
   "source": [
    "Now we have the counts by variable, and can easly see that there are missing values for a few of the variables."
   ]
  },
  {
   "cell_type": "markdown",
   "id": "4cb6b246-6c10-4d01-a83b-3d287503ab47",
   "metadata": {},
   "source": [
    "The \"bare_nuclei\" variable we dealt with earlier has the most missing values, with \"bland_chromatin\" coming in a distant second. \n",
    "\n",
    "Let's check some of the rows with missing values and make sure everything else looks normal in those rows. Notice above that the output of `.isna()` is Boolean, so we can use it to do logical indexing."
   ]
  },
  {
   "cell_type": "code",
   "execution_count": null,
   "id": "2e36591e-8545-46d2-8181-9e27778317e6",
   "metadata": {},
   "outputs": [],
   "source": [
    "bcd[bcd['bland_chromatin'].isna()]"
   ]
  },
  {
   "cell_type": "markdown",
   "id": "1fdc9727-80f0-46d2-835c-211e1a9a7235",
   "metadata": {},
   "source": [
    "---"
   ]
  },
  {
   "cell_type": "markdown",
   "id": "640a0e96-17fa-49e5-ac98-1ebd68aa3ea9",
   "metadata": {},
   "source": [
    "In the cell below, check the rows that have missing values for either clump thickness or cell size uniformity. Do this in one go rather than separately (remember about the element-wise or operator, \"|\"."
   ]
  },
  {
   "cell_type": "code",
   "execution_count": null,
   "id": "2d0b3fd0-2014-4218-a4ed-5c64e848109b",
   "metadata": {},
   "outputs": [],
   "source": []
  },
  {
   "cell_type": "markdown",
   "id": "66d8f26b-4979-4d61-ad95-2a47f24951dc",
   "metadata": {},
   "source": [
    "---"
   ]
  },
  {
   "cell_type": "markdown",
   "id": "39c63d87-0736-41da-b461-a1bf58196dd1",
   "metadata": {},
   "source": [
    "So far so good. It looks like the rows that have missing values just have one missing value, and everything else seems fine. But let's do check that no rows have more than one missing value.\n",
    "\n",
    "To do this, we can sum the number of missing values across the columns (i.e. within each row), and then see what the maximum number of missing values within a row is."
   ]
  },
  {
   "cell_type": "code",
   "execution_count": null,
   "id": "2bc0a305-47f2-4c59-af87-73452ab8d3c9",
   "metadata": {},
   "outputs": [],
   "source": [
    "row_na_totals = bcd.isna().sum(axis = 1)\n",
    "row_na_totals.max()"
   ]
  },
  {
   "cell_type": "markdown",
   "id": "b7bb0b8d-5117-44af-b98c-bfbffc351688",
   "metadata": {},
   "source": [
    "So we see that no row has more than one missing value."
   ]
  },
  {
   "cell_type": "markdown",
   "id": "c6a8f9f5-974f-459a-a885-52ae8c9dfea6",
   "metadata": {},
   "source": [
    "---"
   ]
  },
  {
   "cell_type": "markdown",
   "id": "1193b427-0678-4fed-ab51-4398c65f19d3",
   "metadata": {},
   "source": [
    "In the cell below, do the above calculation in one line."
   ]
  },
  {
   "cell_type": "code",
   "execution_count": null,
   "id": "ae5b3a50-f648-4f51-8b43-3cd4f4fb529e",
   "metadata": {},
   "outputs": [],
   "source": []
  },
  {
   "cell_type": "markdown",
   "id": "a35e325e-1332-4594-99ab-c836dc298e8a",
   "metadata": {},
   "source": [
    "---"
   ]
  },
  {
   "cell_type": "markdown",
   "id": "cecf947c-3e51-4779-9aa8-a40befee7540",
   "metadata": {},
   "source": [
    "### Dealing with missing values"
   ]
  },
  {
   "cell_type": "markdown",
   "id": "e59a0d98-eae4-4c1b-abbc-7d86bef73b06",
   "metadata": {},
   "source": [
    "Now that we have determined that there are missing values, we have to determine how to deal with them. "
   ]
  },
  {
   "cell_type": "markdown",
   "id": "40da19ec-42f6-49df-8305-aa2c1ed2e51f",
   "metadata": {},
   "source": [
    "#### Ignoring missing values elementwise"
   ]
  },
  {
   "cell_type": "markdown",
   "id": "2e6f267b-8338-49ca-ad48-39b1b03b750d",
   "metadata": {},
   "source": [
    "One way to handle missing values is just to ignore them. Most of the standard math and statisitical functions will do that by default.\n",
    "\n",
    "So this:"
   ]
  },
  {
   "cell_type": "code",
   "execution_count": null,
   "id": "c81f5eec-11d2-4040-ab41-530ec04b5a9e",
   "metadata": {
    "tags": []
   },
   "outputs": [],
   "source": [
    "bcd['clump_thickness'].mean()  "
   ]
  },
  {
   "cell_type": "markdown",
   "id": "363008bb-d9a6-4380-a62c-c1c705c94d28",
   "metadata": {},
   "source": [
    "Computes the mean clump thickness ignoring the one missing value."
   ]
  },
  {
   "cell_type": "markdown",
   "id": "d566a148-f59e-40a3-a259-11217d4bc709",
   "metadata": {},
   "source": [
    "We can compute the mean (again ignoring missing values) for all the numeric columns like this:"
   ]
  },
  {
   "cell_type": "code",
   "execution_count": null,
   "id": "e8582f63-014a-44d5-aa15-645fa4ac3a72",
   "metadata": {},
   "outputs": [],
   "source": [
    "bcd.mean(numeric_only = True)  # the numeric_only refers to columns, not missing values"
   ]
  },
  {
   "cell_type": "markdown",
   "id": "b6f0f8cc-8b41-459b-ad62-995171c4d70d",
   "metadata": {},
   "source": [
    "That worked, but the output is a little awkward because the patient ID is being treated as a numeric variable. We can fix that by converting the patient ID variable to a string variable."
   ]
  },
  {
   "cell_type": "code",
   "execution_count": null,
   "id": "943e1d78-6df6-4f7c-ac22-43c1d65371bc",
   "metadata": {
    "tags": []
   },
   "outputs": [],
   "source": [
    "bcd['patient_id'] = bcd['patient_id'].astype('string')"
   ]
  },
  {
   "cell_type": "markdown",
   "id": "e53aac91-3c6b-44f7-b0d9-22036e2f97d0",
   "metadata": {},
   "source": [
    "And now the means should look a little better because we won't have the mean for the ID column in the millions>"
   ]
  },
  {
   "cell_type": "markdown",
   "id": "fbe926a8-0f90-4af0-800a-6b064912ceb2",
   "metadata": {},
   "source": [
    "---"
   ]
  },
  {
   "cell_type": "markdown",
   "id": "2db551f1-ff6e-496d-a3c2-fcd4bec95c99",
   "metadata": {},
   "source": [
    "Recompute the mean for the numeric columns in the cell below."
   ]
  },
  {
   "cell_type": "code",
   "execution_count": null,
   "id": "cfd5b79c-f9d0-4e43-841a-be6030f50544",
   "metadata": {},
   "outputs": [],
   "source": []
  },
  {
   "cell_type": "markdown",
   "id": "1ee62019-8af1-4610-a2a5-722aa8953303",
   "metadata": {},
   "source": [
    "---"
   ]
  },
  {
   "cell_type": "markdown",
   "id": "9b571cdb-8f35-4cb0-9118-60772e15d7d6",
   "metadata": {
    "tags": []
   },
   "source": [
    "#### Removing missing values"
   ]
  },
  {
   "cell_type": "markdown",
   "id": "11337c51-d25b-423f-9faf-20530380b1c1",
   "metadata": {},
   "source": [
    "We are about to start learning how to remove missing values from our data frame, *however...*"
   ]
  },
  {
   "cell_type": "markdown",
   "id": "b4ab879c-fea3-41eb-9fd7-570553afd3e8",
   "metadata": {},
   "source": [
    "Before we start messing around too much with the values in our data frame, let's make sure we can easily \"hit the reset button\" and get back to a nice starting point. To do this, we'll want to\n",
    "\n",
    "- reload the data\n",
    "- modify the column of Dr. names\n",
    "- set the patient ID to type str \n",
    "- remove the question marks from the bare nuclei column\n",
    "- set the bare nuclei column to numeric\n",
    "\n",
    "This is a perfect job for a function!\n"
   ]
  },
  {
   "cell_type": "markdown",
   "id": "50687ad8-86af-4040-bc27-0c5b9efdd1d3",
   "metadata": {},
   "source": [
    "---"
   ]
  },
  {
   "cell_type": "markdown",
   "id": "473efdd3-45fd-4c37-9f81-7ead83267cc6",
   "metadata": {},
   "source": [
    "In the cell below, finish writing the function to reset our data frame to the desired starting point."
   ]
  },
  {
   "cell_type": "code",
   "execution_count": null,
   "id": "8d7c9c4b-07fa-4025-b37a-a88afc3657ed",
   "metadata": {},
   "outputs": [],
   "source": [
    "def hit_reset():\n",
    "    bcd = pd.read_csv('./data/breast_cancer_data.csv')\n",
    "    bcd['patient_id'] = ...\n",
    "    ...\n",
    "    \n",
    "    return bcd"
   ]
  },
  {
   "cell_type": "markdown",
   "id": "f32a3d11-564f-40eb-992c-2000862851b3",
   "metadata": {},
   "source": [
    "---"
   ]
  },
  {
   "cell_type": "markdown",
   "id": "813ff535-3149-4bd7-8b78-fd2a3d7aef2a",
   "metadata": {
    "tags": []
   },
   "source": [
    "##### *Removing rows with missing values*"
   ]
  },
  {
   "cell_type": "markdown",
   "id": "d4cab3a0-b292-4dea-9edd-723cb7fddf81",
   "metadata": {},
   "source": [
    "Obviously, rows in which all values are missing won't do us any good, so we can drop them with:"
   ]
  },
  {
   "cell_type": "code",
   "execution_count": null,
   "id": "1493c21d-b3e0-4639-a899-138b6db0eaf9",
   "metadata": {},
   "outputs": [],
   "source": [
    "bcd = bcd.dropna(how = 'all')"
   ]
  },
  {
   "cell_type": "markdown",
   "id": "dc41a254-90b6-4bce-b66c-87fa078d2105",
   "metadata": {},
   "source": [
    "This drops rows in which *all* of the values are missing. This code ran without error, but we know it also didn't do anything in this case because we don't have any rows in which all the values are missing!"
   ]
  },
  {
   "cell_type": "markdown",
   "id": "7b9346a5-8d30-4817-9984-8e9863cd2bc3",
   "metadata": {},
   "source": [
    "Sometimes a case can be made for throwing out all observations (rows) that are incomplete, that is, if they contain *any* missing values."
   ]
  },
  {
   "cell_type": "code",
   "execution_count": null,
   "id": "77dc1bf1-cd21-4b15-ae9a-7ab5cfebf161",
   "metadata": {},
   "outputs": [],
   "source": [
    "bcd = bcd.dropna(how = 'any')"
   ]
  },
  {
   "cell_type": "markdown",
   "id": "cca5f34a-af52-40d7-9d59-40d0786e6414",
   "metadata": {},
   "source": [
    "---"
   ]
  },
  {
   "cell_type": "markdown",
   "id": "1644562b-eaa8-48c0-9ef0-684b39331705",
   "metadata": {},
   "source": [
    "In the cell below, check the (new) shape of `bcd`."
   ]
  },
  {
   "cell_type": "code",
   "execution_count": null,
   "id": "178298ec-20ef-47cd-aee5-e06023b2ca56",
   "metadata": {},
   "outputs": [],
   "source": []
  },
  {
   "cell_type": "markdown",
   "id": "fb4ee441-89ca-4bb4-bafb-0945d1f041ca",
   "metadata": {},
   "source": [
    "It should have fewer rows now."
   ]
  },
  {
   "cell_type": "markdown",
   "id": "26911666-bfa2-4d08-a983-1fa1d6026c63",
   "metadata": {},
   "source": [
    "---"
   ]
  },
  {
   "cell_type": "markdown",
   "id": "fef5fbbd-e188-44a5-b58b-c39b72d46238",
   "metadata": {},
   "source": [
    "And now is a perfect time to test our function! In the cell below, hit the reset button on bcd."
   ]
  },
  {
   "cell_type": "code",
   "execution_count": null,
   "id": "7d300b45-251f-4047-b030-a8fda1910dde",
   "metadata": {},
   "outputs": [],
   "source": []
  },
  {
   "cell_type": "markdown",
   "id": "8e170786-0c81-46ac-963a-8f454928c2e6",
   "metadata": {},
   "source": [
    "Check the shape."
   ]
  },
  {
   "cell_type": "code",
   "execution_count": null,
   "id": "0700b9ad-4227-4fdc-bb72-ee160faf029e",
   "metadata": {},
   "outputs": [],
   "source": []
  },
  {
   "cell_type": "markdown",
   "id": "6363e8de-d7e4-4544-a337-f1a8dc5519c9",
   "metadata": {},
   "source": [
    "Check the data types of the columns."
   ]
  },
  {
   "cell_type": "code",
   "execution_count": null,
   "id": "6e49526f-5c6b-4cf7-9823-b3f2c76b4a90",
   "metadata": {},
   "outputs": [],
   "source": []
  },
  {
   "cell_type": "markdown",
   "id": "2eb32fde-73ae-47ee-9d8a-ddff5f6be7f9",
   "metadata": {},
   "source": [
    "Check the doctor name column."
   ]
  },
  {
   "cell_type": "code",
   "execution_count": null,
   "id": "4831e33e-50c8-4cbb-b005-8868108dcf64",
   "metadata": {},
   "outputs": [],
   "source": []
  },
  {
   "cell_type": "markdown",
   "id": "8571a7a5-d44c-4101-b9a5-4ed1f1bb7320",
   "metadata": {},
   "source": [
    "---"
   ]
  },
  {
   "cell_type": "markdown",
   "id": "0c61f92f-9dfd-4912-83d6-dbb2d03c48a9",
   "metadata": {},
   "source": [
    "##### *Removing columns with missing values*"
   ]
  },
  {
   "cell_type": "markdown",
   "id": "b1727ea9-d205-4b81-ad57-e4ad80db98b1",
   "metadata": {},
   "source": [
    "And we could do the same for columns if we wished, though this is less frequently done. We just need to change the axis (direction) over which `DataFrame.dropna()` works."
   ]
  },
  {
   "cell_type": "code",
   "execution_count": null,
   "id": "30df660b-a2e5-49a4-80f8-93121491a8ab",
   "metadata": {},
   "outputs": [],
   "source": [
    "bcd = bcd.dropna(axis = 1, how = 'any') # drop columns rather than rows"
   ]
  },
  {
   "cell_type": "markdown",
   "id": "93c28b71-80be-4dae-8437-edd714390b67",
   "metadata": {},
   "source": [
    "This leaves us with only the complete columns."
   ]
  },
  {
   "cell_type": "code",
   "execution_count": null,
   "id": "4032b2fa-26c7-4187-aefa-22e9331bc093",
   "metadata": {
    "tags": []
   },
   "outputs": [],
   "source": [
    "bcd.shape"
   ]
  },
  {
   "cell_type": "markdown",
   "id": "b2a5ee9e-8c37-456e-a447-475d690b65a0",
   "metadata": {},
   "source": [
    "Let's see which they are."
   ]
  },
  {
   "cell_type": "code",
   "execution_count": null,
   "id": "1901b3ad-2068-46e2-86a0-079dbaad1649",
   "metadata": {},
   "outputs": [],
   "source": [
    "bcd.columns"
   ]
  },
  {
   "cell_type": "markdown",
   "id": "2ebe7ca9-7c73-4334-879f-76f3be75dec0",
   "metadata": {},
   "source": [
    "#### Filling in missing values"
   ]
  },
  {
   "cell_type": "markdown",
   "id": "105fb04a-3a39-4c1a-b239-76426d5f49d4",
   "metadata": {},
   "source": [
    "Occasionally, we may want to fill in missing values. This isn't very common, but might be useful if some other function you are using doesn't handle missing values gracefully."
   ]
  },
  {
   "cell_type": "markdown",
   "id": "47d718d8-6435-480f-9126-fdef459e6125",
   "metadata": {},
   "source": [
    "Before filling in missing values, we need to restore our data frame so it actually has missing values. Good thing we wrote that function!"
   ]
  },
  {
   "cell_type": "code",
   "execution_count": null,
   "id": "0ae78d3d-e209-40a1-b29b-82b123e39edf",
   "metadata": {},
   "outputs": [],
   "source": [
    "bcd = hit_reset()"
   ]
  },
  {
   "cell_type": "markdown",
   "id": "c819a077-28be-4d1d-801c-40ffd51656e8",
   "metadata": {},
   "source": [
    "We can fill in missing values with any single value we want, such as a zero."
   ]
  },
  {
   "cell_type": "code",
   "execution_count": null,
   "id": "d3da77ff-bdeb-4c90-b81a-fa9c911108c6",
   "metadata": {},
   "outputs": [],
   "source": [
    "bcd = bcd.fillna(0)"
   ]
  },
  {
   "cell_type": "markdown",
   "id": "1df295df-c025-4bd9-9300-7a9fe4d8430b",
   "metadata": {},
   "source": [
    "---"
   ]
  },
  {
   "cell_type": "markdown",
   "id": "f9398b16-52fb-4149-8374-9a84b984d495",
   "metadata": {},
   "source": [
    "In the cell below, check to see that we no longer have missing values."
   ]
  },
  {
   "cell_type": "code",
   "execution_count": null,
   "id": "3ad2a6c1-d6c9-4a75-9475-713545b16de7",
   "metadata": {},
   "outputs": [],
   "source": []
  },
  {
   "cell_type": "markdown",
   "id": "21b618a3-363d-4048-8e64-5be3190293cb",
   "metadata": {},
   "source": [
    "In the cell below, reset the data and verify that the missing data are back."
   ]
  },
  {
   "cell_type": "code",
   "execution_count": null,
   "id": "9175c52d-d17d-4c5a-944b-2652451b0e56",
   "metadata": {},
   "outputs": [],
   "source": [
    "\n"
   ]
  },
  {
   "cell_type": "markdown",
   "id": "cf15f4a5-ef96-43c4-93a5-5d2cf779b6e8",
   "metadata": {},
   "source": [
    "---"
   ]
  },
  {
   "cell_type": "markdown",
   "id": "4e0bc9ba-8c26-4e7a-b984-9f685ce9e184",
   "metadata": {
    "tags": []
   },
   "source": [
    "In the cell below, fill the missing values in each column with the column mean. (Hint: this is pandas, so this is actually easy!)"
   ]
  },
  {
   "cell_type": "code",
   "execution_count": null,
   "id": "26324782-3aac-4a34-af47-afd412ae94a4",
   "metadata": {},
   "outputs": [],
   "source": []
  },
  {
   "cell_type": "markdown",
   "id": "77fae2f9-1e7f-46c9-8db6-14deafeef627",
   "metadata": {},
   "source": [
    "And now verify that there are no more missing values."
   ]
  },
  {
   "cell_type": "code",
   "execution_count": null,
   "id": "12fe9d03-e344-43d3-9f92-5f5caebc08b5",
   "metadata": {},
   "outputs": [],
   "source": []
  },
  {
   "cell_type": "markdown",
   "id": "dc420ab5-b9dd-4271-a94f-582f2e87aa03",
   "metadata": {},
   "source": [
    "---"
   ]
  },
  {
   "cell_type": "markdown",
   "id": "2cafeba2-c8ec-459b-b3eb-e062b35769e8",
   "metadata": {},
   "source": [
    "## Summary"
   ]
  },
  {
   "cell_type": "markdown",
   "id": "db348c89-e5fa-438e-b008-d4f7d521caff",
   "metadata": {},
   "source": [
    "In this tutorial, we learned or remembered how to do some of the foundational data wrangling tasks. These are:\n",
    "\n",
    "- importing data into pandas from a data file\n",
    "- cleaning up the data in the columns\n",
    "- converting columns to the appropriate type\n",
    "- removing or filling in missing values"
   ]
  }
 ],
 "metadata": {
  "kernelspec": {
   "display_name": "Python 3 (ipykernel)",
   "language": "python",
   "name": "python3"
  },
  "language_info": {
   "codemirror_mode": {
    "name": "ipython",
    "version": 3
   },
   "file_extension": ".py",
   "mimetype": "text/x-python",
   "name": "python",
   "nbconvert_exporter": "python",
   "pygments_lexer": "ipython3",
   "version": "3.8.12"
  }
 },
 "nbformat": 4,
 "nbformat_minor": 5
}
