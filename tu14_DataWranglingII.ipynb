{
 "cells": [
  {
   "cell_type": "code",
   "execution_count": null,
   "id": "16d99e60-98ff-4299-a55b-23a65a1c0f79",
   "metadata": {},
   "outputs": [],
   "source": []
  },
  {
   "cell_type": "markdown",
   "id": "5b31c0f8-0601-430e-967e-cc592d02e0cd",
   "metadata": {},
   "source": [
    "### Duplicate entries"
   ]
  },
  {
   "cell_type": "code",
   "execution_count": null,
   "id": "1d3b4c32-d019-47c6-a0d3-24468f4e2d39",
   "metadata": {},
   "outputs": [],
   "source": [
    "bcd.nunique()"
   ]
  },
  {
   "cell_type": "markdown",
   "id": "917763ac-a3d8-4dac-9b66-1dc8598891bb",
   "metadata": {},
   "source": [
    "### Combining multiple files"
   ]
  },
  {
   "cell_type": "code",
   "execution_count": 4,
   "id": "068bfdf2-d17a-410b-af51-dd2c3c9aa284",
   "metadata": {},
   "outputs": [
    {
     "name": "stdout",
     "output_type": "stream",
     "text": [
      "LICENSE                               tu05_re_Python_Variable_Review.ipynb\n",
      "README.md                             tu06_re_IfsLoopsFunctions.ipynb\n",
      "RMSTit.xlsx                           tu06_re_IfsLoopsFunctions_HW.ipynb\n",
      "TutorialList.md                       tu06_re_IfsLoopsFunctions_HWS.ipynb\n",
      "backup.txt                            tu07_re_BasicNumpy.ipynb\n",
      "\u001b[34mdata\u001b[m\u001b[m/                                 tu07_re_BasicNumpy_HW.ipynb\n",
      "\u001b[34mimages\u001b[m\u001b[m/                               tu07_re_BasicNumpy_HWS.ipynb\n",
      "long2wide.ipynb                       tu08_re_MatPlotLib.ipynb\n",
      "pdfConvertTest.ipynb                  tu08_re_MatPlotLib_HW.ipynb\n",
      "pdfConvertTest_ChromePrint.pdf        tu08_re_MatPlotLib_HWS.ipynb\n",
      "pdfConvertTest_DownloadAs.pdf         tu09_multiAxesFigs.ipynb\n",
      "pdfConvertTest_nbconvert.pdf          tu09_multiAxisFigs_HW.ipynb\n",
      "titanic.xlsx                          tu09_multiAxisFigs_S.ipynb\n",
      "tu00_GitHub_Desktop_intro.md          tu10_multiAxesFigs_2.ipynb\n",
      "tu01_re_terminalExercise.ipynb        tu10_multiAxesFigs_2_HWS.ipynb\n",
      "tu02_re_GitGitHubExercise.md          tu10_multiAxisFigs_2_HW.ipynb\n",
      "tu02_re_gitCommandsRef.md             tu11_re_PandasReview.ipynb\n",
      "tu02_re_gitCommandsRef.pdf            tu11_re_PandasReview_HW.ipynb\n",
      "tu02_re_gitGitHubExercise.pdf         tu11_re_PandasReview_HWS.ipynb\n",
      "tu02_re_gitGlossary.md                tu11_re_PandasReview_S.ipynb\n",
      "tu02_re_gitGlossary.pdf               tu12_SeabornReview.ipynb\n",
      "tu03_re_gitBranchCommandsRef.md       tu12_SeabornReview_HW.ipynb\n",
      "tu03_re_gitBranchingExercise.md       tu12_SeabornReview_S.ipynb\n",
      "tu03_re_gitBranchingExercise.pdf      tu13_DataWrangling.ipynb\n",
      "tu04_re_Python_Notebook_Review.ipynb  tu14_DataWranglingII.ipynb\n",
      "tu04_re_Python_Notebook_Review.pdf    zzUntitled.ipynb\n",
      "tu05_re_Python_Variable_HW.ipynb\n"
     ]
    }
   ],
   "source": [
    "ls"
   ]
  },
  {
   "cell_type": "code",
   "execution_count": null,
   "id": "1a4e3116-965a-452b-a860-5a7b236ecb83",
   "metadata": {},
   "outputs": [],
   "source": []
  }
 ],
 "metadata": {
  "kernelspec": {
   "display_name": "Python 3 (ipykernel)",
   "language": "python",
   "name": "python3"
  },
  "language_info": {
   "codemirror_mode": {
    "name": "ipython",
    "version": 3
   },
   "file_extension": ".py",
   "mimetype": "text/x-python",
   "name": "python",
   "nbconvert_exporter": "python",
   "pygments_lexer": "ipython3",
   "version": "3.8.12"
  }
 },
 "nbformat": 4,
 "nbformat_minor": 5
}
