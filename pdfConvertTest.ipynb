{
 "cells": [
  {
   "cell_type": "markdown",
   "id": "7464c308",
   "metadata": {},
   "source": [
    "# I'm a notebook!"
   ]
  },
  {
   "cell_type": "markdown",
   "id": "733bdb05",
   "metadata": {},
   "source": [
    "I was born a notebook."
   ]
  },
  {
   "cell_type": "code",
   "execution_count": 1,
   "id": "38bbd933",
   "metadata": {},
   "outputs": [
    {
     "name": "stdout",
     "output_type": "stream",
     "text": [
      "this means I can run code and stuff\n"
     ]
    }
   ],
   "source": [
    "print(\"this means I can run code and stuff\")"
   ]
  },
  {
   "cell_type": "code",
   "execution_count": 2,
   "id": "81b0d066",
   "metadata": {},
   "outputs": [
    {
     "name": "stdout",
     "output_type": "stream",
     "text": [
      "The answer is... 42!!!\n"
     ]
    }
   ],
   "source": [
    "ans = 42\n",
    "print(f\"The answer is... {ans}!!!\")"
   ]
  },
  {
   "cell_type": "code",
   "execution_count": 5,
   "id": "8ee59bf7",
   "metadata": {},
   "outputs": [
    {
     "name": "stdout",
     "output_type": "stream",
     "text": [
      "The answer is 42\n"
     ]
    }
   ],
   "source": [
    "mystr = f\"The answer is {ans}\"\n",
    "print(mystr)"
   ]
  },
  {
   "cell_type": "markdown",
   "id": "b8a892da",
   "metadata": {},
   "source": [
    "### But..."
   ]
  },
  {
   "cell_type": "markdown",
   "id": "8bc2ae6c",
   "metadata": {},
   "source": [
    "I identfy as a pdf... "
   ]
  },
  {
   "cell_type": "code",
   "execution_count": null,
   "id": "50f45b70",
   "metadata": {},
   "outputs": [],
   "source": []
  }
 ],
 "metadata": {
  "kernelspec": {
   "display_name": "Python 3 (ipykernel)",
   "language": "python",
   "name": "python3"
  },
  "language_info": {
   "codemirror_mode": {
    "name": "ipython",
    "version": 3
   },
   "file_extension": ".py",
   "mimetype": "text/x-python",
   "name": "python",
   "nbconvert_exporter": "python",
   "pygments_lexer": "ipython3",
   "version": "3.8.12"
  }
 },
 "nbformat": 4,
 "nbformat_minor": 5
}
