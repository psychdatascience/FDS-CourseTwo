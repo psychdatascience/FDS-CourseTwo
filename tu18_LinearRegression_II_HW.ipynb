{
 "cells": [
  {
   "cell_type": "markdown",
   "id": "72f10106",
   "metadata": {},
   "source": [
    "# Linear Regression II: Homework"
   ]
  },
  {
   "cell_type": "markdown",
   "id": "80682d15",
   "metadata": {},
   "source": [
    "### Question 1:\n",
    "\n",
    "* Load the Boston Housing Dataset\n",
    "* Find the feature with highest correlation with the Median House Value\n",
    "* Predict the Median House Value with the highest correlated feature\n",
    "* How does the prediction of the this model (R2) compare with the prediction of the model used in the exercise in class that used all the features instead of just the most correlated feature?"
   ]
  },
  {
   "cell_type": "markdown",
   "id": "f6976ad0",
   "metadata": {},
   "source": [
    "### Question 2:\n",
    "\n",
    "* Load the Boston Housing Dataset\n",
    "* Find the feature with lowest correlation with the Median House Value\n",
    "* Predict the Median House Value with all the features except the one with lowet correlation\n",
    "* How does the prediction of the this model (R2) compare with the prediction of the full model model used in the exercise in class?"
   ]
  },
  {
   "cell_type": "code",
   "execution_count": null,
   "id": "1a77aa57",
   "metadata": {},
   "outputs": [],
   "source": []
  }
 ],
 "metadata": {
  "kernelspec": {
   "display_name": "Python 3 (ipykernel)",
   "language": "python",
   "name": "python3"
  },
  "language_info": {
   "codemirror_mode": {
    "name": "ipython",
    "version": 3
   },
   "file_extension": ".py",
   "mimetype": "text/x-python",
   "name": "python",
   "nbconvert_exporter": "python",
   "pygments_lexer": "ipython3",
   "version": "3.9.7"
  }
 },
 "nbformat": 4,
 "nbformat_minor": 5
}
