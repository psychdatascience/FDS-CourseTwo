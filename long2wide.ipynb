{
 "cells": [
  {
   "cell_type": "code",
   "execution_count": null,
   "id": "88d19f63-8161-4b42-b2bc-31fc4368f6ee",
   "metadata": {},
   "outputs": [],
   "source": [
    "import pandas as pd\n",
    "\n",
    "# Create a sample dataset\n",
    "df = pd.DataFrame({'id': ['A', 'B', 'C'],\n",
    "                   'var1': [1, 2, 3],\n",
    "                   'var2': [4, 5, 6],\n",
    "                   'var3': [7, 8, 9]})\n",
    "\n",
    "# Convert from wide to long format using melt function\n",
    "df_long = pd.melt(df, id_vars=['id'], \n",
    "                  var_name='variable', \n",
    "                  value_name='value')\n",
    "\n",
    "# Print the long format dataset\n",
    "print(df_long)\n"
   ]
  }
 ],
 "metadata": {
  "kernelspec": {
   "display_name": "Python 3 (ipykernel)",
   "language": "python",
   "name": "python3"
  },
  "language_info": {
   "codemirror_mode": {
    "name": "ipython",
    "version": 3
   },
   "file_extension": ".py",
   "mimetype": "text/x-python",
   "name": "python",
   "nbconvert_exporter": "python",
   "pygments_lexer": "ipython3",
   "version": "3.8.12"
  }
 },
 "nbformat": 4,
 "nbformat_minor": 5
}
