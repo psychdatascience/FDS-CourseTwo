{
 "cells": [
  {
   "cell_type": "markdown",
   "id": "554e23f6",
   "metadata": {},
   "source": [
    "# Python Variable Review"
   ]
  },
  {
   "cell_type": "markdown",
   "id": "d19cc3db",
   "metadata": {},
   "source": [
    "In this notebook, some of the code cells are blank and are for you to enter code. Others already have code in them. Make sure you run these as you go, even if it doesn't explicitly say to do so."
   ]
  },
  {
   "cell_type": "markdown",
   "id": "c05f3087",
   "metadata": {},
   "source": [
    "## Everything is an object"
   ]
  },
  {
   "cell_type": "markdown",
   "id": "22d7ce46",
   "metadata": {},
   "source": [
    "### Objects in Python"
   ]
  },
  {
   "cell_type": "markdown",
   "id": "28e62b19",
   "metadata": {},
   "source": [
    "In Python, everything is an object. An object is a single unique unit of information that occupies a chunk of computer memory (the amount of memory depends on the object). \n",
    "\n",
    "Objects are generally created by assigning them a name. Like this:"
   ]
  },
  {
   "cell_type": "code",
   "execution_count": null,
   "id": "93a7ee0b",
   "metadata": {},
   "outputs": [],
   "source": [
    "anObject = 42"
   ]
  },
  {
   "cell_type": "markdown",
   "id": "e1be4c86",
   "metadata": {},
   "source": [
    "After you run this cell (run it now!), there is an object in memory that has the name `anOject` assigned to it and the object's value 42.\n",
    "\n",
    "Objects are like fancy museum display cases. Think about the display case of, for example, the U.S. Declaration of Independence. It has the area beneath clear glass that displays the document itself, but there are also all kinds of fancy bits to it, like lights and sensors and stuff.\n",
    "\n",
    "Our object's value, 42, is the thing (the noun) that is \"on display\", which we can see by typing a name currently assigned to it. Type `anObject` in the cell below and run the cell."
   ]
  },
  {
   "cell_type": "code",
   "execution_count": null,
   "id": "1a0928b1",
   "metadata": {},
   "outputs": [],
   "source": []
  },
  {
   "cell_type": "markdown",
   "id": "c5e83879",
   "metadata": {},
   "source": [
    "The object comes with other built-in nouns and even some verbs too. One of the most fundamental *properties* (nouns) of an object is its *type*. We can get the the type with the `type()` function, which takes one argument, the name of the object. Use the `type()` to get the type of our object in the cell below."
   ]
  },
  {
   "cell_type": "code",
   "execution_count": null,
   "id": "36dff63c",
   "metadata": {},
   "outputs": [],
   "source": []
  },
  {
   "cell_type": "markdown",
   "id": "b875bcae",
   "metadata": {},
   "source": [
    "The verbs are accessed by using a period (`.`) after the objects current name and then typing the verb. One of the verbs is getting the bit length – how many \"bits\" (a contraction of BInary digITS coined by John Tukey) it takes to represent the value in binary notation. Lets, see, for 42... 2, 4, 8, 16, 32, 64, and done! So it should take 6 bits to represent 42 in binary. Let's see using the *method* (verb) `bit_length()`:"
   ]
  },
  {
   "cell_type": "code",
   "execution_count": null,
   "id": "f0fe74d1",
   "metadata": {},
   "outputs": [],
   "source": [
    "anObject.bit_length()"
   ]
  },
  {
   "cell_type": "markdown",
   "id": "d5b668d5",
   "metadata": {},
   "source": [
    "Were we right? Try some other numbers!"
   ]
  },
  {
   "cell_type": "markdown",
   "id": "098fecb3",
   "metadata": {},
   "source": [
    "### Objects and Names"
   ]
  },
  {
   "cell_type": "markdown",
   "id": "4d087bf6",
   "metadata": {},
   "source": [
    "Objects and their names are not the same! Notice that above we said \"... *a* name currently assigned...\" and \"... the object's current name...\" A single object can have more than one name."
   ]
  },
  {
   "cell_type": "code",
   "execution_count": null,
   "id": "be6a6827",
   "metadata": {},
   "outputs": [],
   "source": [
    "notAnotherObject = 42"
   ]
  },
  {
   "cell_type": "markdown",
   "id": "5683d151",
   "metadata": {},
   "source": [
    "Running that cell does *not* create a second object containing 42. Rather, the \"42\" object that already exists in memory is simply assigned a second name! \n",
    "\n",
    "Another *property* (noun) that all objects have is a unique identification number. The ID number is independent of any names that may be assigned to the object! \n",
    "\n",
    "Python has an `id()` function that we can use this to see what names are referring to what objects. Like `type()`, it takes one argument, a name of an object. Try it to get the id number of `anObject`."
   ]
  },
  {
   "cell_type": "code",
   "execution_count": null,
   "id": "c2b2d5c2",
   "metadata": {},
   "outputs": [],
   "source": [
    "id(anObject)"
   ]
  },
  {
   "cell_type": "markdown",
   "id": "26ef4485",
   "metadata": {},
   "source": [
    "Now use it get the id number of `notAnotherObject`."
   ]
  },
  {
   "cell_type": "code",
   "execution_count": null,
   "id": "c11e05c7",
   "metadata": {},
   "outputs": [],
   "source": [
    "id(notAnotherObject)"
   ]
  },
  {
   "cell_type": "markdown",
   "id": "bfebb09b",
   "metadata": {},
   "source": [
    "See? The two names refer to the same object, which saves on memory!"
   ]
  },
  {
   "cell_type": "markdown",
   "id": "8f77389c",
   "metadata": {},
   "source": [
    "If we do something like this:"
   ]
  },
  {
   "cell_type": "code",
   "execution_count": null,
   "id": "6f1583a0",
   "metadata": {},
   "outputs": [],
   "source": [
    "anObject = 11"
   ]
  },
  {
   "cell_type": "markdown",
   "id": "2fefa424",
   "metadata": {},
   "source": [
    "Now an new object storing the value 11 *has* been created, and the name \"anObject\" now goes to 11. Let's check the id numbers of our two names now, and warm up our `print()` muscles while doing so!"
   ]
  },
  {
   "cell_type": "code",
   "execution_count": null,
   "id": "f8fcc770",
   "metadata": {},
   "outputs": [],
   "source": [
    "print(f\"The ids are {id(anObject)} for anObject \\\n",
    "and {id(notAnotherObject)} for notAnotherObject\")"
   ]
  },
  {
   "cell_type": "markdown",
   "id": "d5e11148",
   "metadata": {},
   "source": [
    "---"
   ]
  },
  {
   "cell_type": "markdown",
   "id": "127b1949",
   "metadata": {},
   "source": [
    "#### Aside"
   ]
  },
  {
   "cell_type": "markdown",
   "id": "2397ee88",
   "metadata": {},
   "source": [
    "`print()` is awesome - it is useful for quick & dirty debugging"
   ]
  },
  {
   "cell_type": "markdown",
   "id": "0c067cb8",
   "metadata": {},
   "source": [
    "\"f-strings\" are also awesome, and relatively new to Python. You make an f-string just like a string, except you put an \"f\" in front of the opening quote mark.\n",
    "\n",
    "An f-string lets you directly enclose an expression (like `id(anObject`) in the string enclosed in curly braces, and python will compute the expression, convert it to a string, and pop it right into the f-string!\n",
    "\n",
    "The backslash (\"\\\"), called the \"line continuation character\" in this context, tells Python that you want to continue the current line on the next line. You generally do *not* need to use it inside `lists` and such, but you do need it above.\n",
    "\n",
    "Try running the `print()` above without the `\\`."
   ]
  },
  {
   "cell_type": "markdown",
   "id": "65ed15d7",
   "metadata": {},
   "source": [
    "Now lets make a list (see below), but with each list element on a new line:"
   ]
  },
  {
   "cell_type": "code",
   "execution_count": null,
   "id": "85ecfe21",
   "metadata": {},
   "outputs": [],
   "source": [
    "aList = [1,\n",
    "        3, \n",
    "        5]\n",
    "aList"
   ]
  },
  {
   "cell_type": "markdown",
   "id": "6f195176",
   "metadata": {},
   "source": [
    "No \"\\\" needed!"
   ]
  },
  {
   "cell_type": "markdown",
   "id": "66371c16",
   "metadata": {},
   "source": [
    "---"
   ]
  },
  {
   "cell_type": "markdown",
   "id": "13a0223f",
   "metadata": {},
   "source": [
    "Let's make a new variable \"eleven\" holding the value 11:"
   ]
  },
  {
   "cell_type": "code",
   "execution_count": null,
   "id": "bfcbec6e",
   "metadata": {},
   "outputs": [],
   "source": [
    "eleven = 11"
   ]
  },
  {
   "cell_type": "code",
   "execution_count": null,
   "id": "924ca092",
   "metadata": {},
   "outputs": [],
   "source": [
    "whos"
   ]
  },
  {
   "cell_type": "markdown",
   "id": "70aabe1a",
   "metadata": {},
   "source": [
    "We have now created a few variables in this Python session, so...\n",
    "**Quick quiz!**\n",
    "\n",
    "How many names do we currently have?\n",
    "\n",
    "How many unique objects do we currently have?"
   ]
  },
  {
   "cell_type": "markdown",
   "id": "f368aa43",
   "metadata": {},
   "source": [
    "## Data Types"
   ]
  },
  {
   "cell_type": "markdown",
   "id": "7fbaab9c",
   "metadata": {},
   "source": [
    "As we've seen objects in Python have a type (that describes themselves, not the kind of other objects they are attracted to). Later on, we'll learn that we can create our very own custom types but, for now, let's take a look at the common built-in data types.\n",
    "\n",
    "Remember that all objects you create by naming them will have both *attributes* or *properties* (their nouns) and *methods* (their verbs), but the particular nouns and verbs they have will depend on their type.\n",
    "\n",
    "Obviously, one thing that varies with type is literally type.\n",
    "\n",
    "There is a function corresponding to each data type that converts its argument to that data type. The function name is the same as the type as returned by `type()`. Thus, from the \"int\" from above tells us that there is a function `int()` that will convert things to integers if it can."
   ]
  },
  {
   "cell_type": "markdown",
   "id": "756ec323",
   "metadata": {},
   "source": [
    "### Booleans (bool)"
   ]
  },
  {
   "cell_type": "markdown",
   "id": "735614be",
   "metadata": {},
   "source": [
    "A Boolean variable (named for the mathematician and logician George Boole) can only have the values True and False. "
   ]
  },
  {
   "cell_type": "code",
   "execution_count": null,
   "id": "f34acb26",
   "metadata": {},
   "outputs": [],
   "source": [
    "aBool = True"
   ]
  },
  {
   "cell_type": "code",
   "execution_count": null,
   "id": "02f8f043",
   "metadata": {},
   "outputs": [],
   "source": [
    "anotherBool = False"
   ]
  },
  {
   "cell_type": "markdown",
   "id": "fde7d5ac",
   "metadata": {},
   "source": [
    "Check the type of these variables."
   ]
  },
  {
   "cell_type": "code",
   "execution_count": null,
   "id": "1438b6d6",
   "metadata": {},
   "outputs": [],
   "source": []
  },
  {
   "cell_type": "markdown",
   "id": "9a6da1d7",
   "metadata": {},
   "source": [
    "Note that this also tells us that there is a `bool()` function that will convert things to Boolean."
   ]
  },
  {
   "cell_type": "markdown",
   "id": "1bc76c1d",
   "metadata": {},
   "source": [
    "In the cell below, create several Boolean variable, some True, some False."
   ]
  },
  {
   "cell_type": "code",
   "execution_count": null,
   "id": "487ef3aa",
   "metadata": {},
   "outputs": [],
   "source": []
  },
  {
   "cell_type": "markdown",
   "id": "2d9b7b0d",
   "metadata": {},
   "source": [
    "Now, in the next code cell, examine the id numbers of the objects corresponding to your names."
   ]
  },
  {
   "cell_type": "code",
   "execution_count": null,
   "id": "303c20c1",
   "metadata": {},
   "outputs": [],
   "source": []
  },
  {
   "cell_type": "markdown",
   "id": "54244fcb",
   "metadata": {},
   "source": []
  },
  {
   "cell_type": "markdown",
   "id": "881acd2c",
   "metadata": {},
   "source": [
    " *In this markdown cell , describe what's going on here in your own words. What's going on with your Boolean variables/objects?*"
   ]
  },
  {
   "cell_type": "markdown",
   "id": "5c8497f9",
   "metadata": {},
   "source": [
    "Booleans values map to the values of other variables and vice versa. Let's explore this with the two conversion function `int()` and `bool()`.\n",
    "\n",
    "In the cell below, convert to two possible Boolean values to integers, and convert both zero and some positive and negative non-zero values to Boolean."
   ]
  },
  {
   "cell_type": "code",
   "execution_count": null,
   "id": "969f80ef",
   "metadata": {},
   "outputs": [],
   "source": []
  },
  {
   "cell_type": "markdown",
   "id": "5110a482",
   "metadata": {},
   "source": [
    "*In this cell, describe the mapping of Booleans to integers and vice versa.*"
   ]
  },
  {
   "cell_type": "markdown",
   "id": "6d0e2f0d",
   "metadata": {},
   "source": [
    "We actually use Boolean values and Boolean logic quite a bit in programming. And, of course, all information on computers is ultimately in the form of bits, so all computers are ultimately Boolean processing machines."
   ]
  },
  {
   "cell_type": "markdown",
   "id": "885e0c96",
   "metadata": {},
   "source": [
    "### Integers (int)"
   ]
  },
  {
   "cell_type": "markdown",
   "id": "078ca7e7",
   "metadata": {},
   "source": [
    "Integers are all the numbers without a fractional component which, in practice, means all numbers without a decimal point. As we saw above, creating a variable using an integer automatically creates an object of type `int`."
   ]
  },
  {
   "cell_type": "markdown",
   "id": "afa77014",
   "metadata": {},
   "source": [
    "Create another integer variable now in the cell below and check it's type."
   ]
  },
  {
   "cell_type": "code",
   "execution_count": null,
   "id": "9bf728e3",
   "metadata": {},
   "outputs": [],
   "source": []
  },
  {
   "cell_type": "markdown",
   "id": "9127f0ec",
   "metadata": {},
   "source": [
    "Now create another variable with the same value, except put a \".00\" after it. So if you integer above was 3, make this new variable equal to 3.00."
   ]
  },
  {
   "cell_type": "code",
   "execution_count": null,
   "id": "90d20e6b",
   "metadata": {},
   "outputs": [],
   "source": []
  },
  {
   "cell_type": "markdown",
   "id": "172c00af",
   "metadata": {},
   "source": [
    "Now check the type of your new variable:"
   ]
  },
  {
   "cell_type": "code",
   "execution_count": null,
   "id": "36066fcd",
   "metadata": {},
   "outputs": [],
   "source": []
  },
  {
   "cell_type": "markdown",
   "id": "631722b7",
   "metadata": {},
   "source": [
    "### Floating Point Numbers (float)"
   ]
  },
  {
   "cell_type": "markdown",
   "id": "a15032b2",
   "metadata": {},
   "source": [
    "Floating point numbers are the computer implementation of the real numbers (remember the good ol' number line from school?). They are so named because, unlike a fixed point number, the decimal place is allowed be anywhere in the number, or \"float\". For example, 1.234, 12.34, and 123.4 are allowed floating point number but, in a fixed point system, only 12.34 would be allowed. In some applications, fixed point numbers have advantages, but we don't have to worry about them, it's just good to know where the name comes from!"
   ]
  },
  {
   "cell_type": "markdown",
   "id": "e4ef794d",
   "metadata": {},
   "source": [
    "Floating point values always have at least 1 digit on either side of the decimal point. Going in other direction, the largest or smallest number you can represent with a `float` (or the largest `int` you can have) is determined by your computer's hardware and operating system."
   ]
  },
  {
   "cell_type": "markdown",
   "id": "8a63520c",
   "metadata": {},
   "source": [
    "### Character Strings (str)"
   ]
  },
  {
   "cell_type": "markdown",
   "id": "bf3bf8c6",
   "metadata": {},
   "source": [
    "Character strings (or just \"strings\") contain \"characters\", which are basically the things that you could possible create with your keyboard. \n",
    "\n",
    "Strings are enclosed in quotes. Run the code cell below, and this notebook will say hello to you."
   ]
  },
  {
   "cell_type": "code",
   "execution_count": null,
   "id": "3cdaf9c6",
   "metadata": {},
   "outputs": [],
   "source": [
    "aStr = \"Hello!\"\n",
    "aStr"
   ]
  },
  {
   "cell_type": "markdown",
   "id": "9d06cd9c",
   "metadata": {},
   "source": [
    "Anything enclosed in quotes is a string, even numbers and operators (like \"+\").\n",
    "\n",
    "Make a variable containing a number (e.g. `e_num = 2.7182`), and make another using the same number in quotation marks (e.g. `e_str = '2.7182'`), and check their types:"
   ]
  },
  {
   "cell_type": "code",
   "execution_count": null,
   "id": "276c9eaa",
   "metadata": {},
   "outputs": [],
   "source": []
  },
  {
   "cell_type": "markdown",
   "id": "c1d711a4",
   "metadata": {},
   "source": [
    "Python is string-friendly. Multiple strings can be concatenated just by using the plus sign (\"+\"). "
   ]
  },
  {
   "cell_type": "markdown",
   "id": "baf89349",
   "metadata": {},
   "source": [
    "Add the string to itself (e.g. `e_str + e_str`):"
   ]
  },
  {
   "cell_type": "code",
   "execution_count": null,
   "id": "32fe357c",
   "metadata": {},
   "outputs": [],
   "source": []
  },
  {
   "cell_type": "markdown",
   "id": "0f0ba986",
   "metadata": {},
   "source": [
    "Add the number to itself:"
   ]
  },
  {
   "cell_type": "code",
   "execution_count": null,
   "id": "ae81dd78",
   "metadata": {},
   "outputs": [],
   "source": []
  },
  {
   "cell_type": "markdown",
   "id": "d898991c",
   "metadata": {},
   "source": [
    "Now try adding the string to the number and vice versa:"
   ]
  },
  {
   "cell_type": "code",
   "execution_count": null,
   "id": "692dac33",
   "metadata": {},
   "outputs": [],
   "source": []
  },
  {
   "cell_type": "markdown",
   "id": "cf0fadd5",
   "metadata": {},
   "source": [
    "(Note that the errors differ.)"
   ]
  },
  {
   "cell_type": "markdown",
   "id": "a94db163",
   "metadata": {},
   "source": [
    "A string is actually the first object we're talking about here that is actually a collection of other things. This means we can get the individual things via *indexing* using square brackets:"
   ]
  },
  {
   "cell_type": "code",
   "execution_count": null,
   "id": "92aa597a",
   "metadata": {},
   "outputs": [],
   "source": [
    "aStr[0]"
   ]
  },
  {
   "cell_type": "markdown",
   "id": "0feb5fe5",
   "metadata": {},
   "source": [
    "But what are the things? That is, what are the elements of a string in Python? In the code cell below, see what type the `aStr[0]` (the \"H\" in \"Hello!\" is."
   ]
  },
  {
   "cell_type": "code",
   "execution_count": null,
   "id": "e9432b4e",
   "metadata": {},
   "outputs": [],
   "source": []
  },
  {
   "cell_type": "markdown",
   "id": "67b4201a",
   "metadata": {},
   "source": [
    "*Use this cell to explain what this tells you about what multi-element strings are.*"
   ]
  },
  {
   "cell_type": "markdown",
   "id": "ce50b005",
   "metadata": {},
   "source": [
    "### Tuples (tuple)"
   ]
  },
  {
   "cell_type": "markdown",
   "id": "ebf81a43",
   "metadata": {},
   "source": [
    "Tuples are a collection of objects assigned to a single name. Like this:"
   ]
  },
  {
   "cell_type": "code",
   "execution_count": null,
   "id": "d27b17e1",
   "metadata": {},
   "outputs": [],
   "source": [
    "myTup = (9, 8, 7)\n",
    "myTup"
   ]
  },
  {
   "cell_type": "markdown",
   "id": "4665ccfe",
   "metadata": {},
   "source": [
    "You create it with parentheses (that's what tells Python that you are making a tuple)."
   ]
  },
  {
   "cell_type": "markdown",
   "id": "498b5774",
   "metadata": {},
   "source": [
    "In Python, we access the individual items of all multi-element objects using square brackets. Like this:"
   ]
  },
  {
   "cell_type": "code",
   "execution_count": null,
   "id": "a32f9c6e",
   "metadata": {},
   "outputs": [],
   "source": [
    "myTup[0]"
   ]
  },
  {
   "cell_type": "markdown",
   "id": "419b6ded",
   "metadata": {},
   "source": [
    "Recall that we can get multiple things using the colon:"
   ]
  },
  {
   "cell_type": "code",
   "execution_count": null,
   "id": "335b55c6",
   "metadata": {},
   "outputs": [],
   "source": [
    "myTup[0:2]"
   ]
  },
  {
   "cell_type": "markdown",
   "id": "f69342ee",
   "metadata": {},
   "source": [
    "Tuples can contain objects of different types. Python doesn't care:"
   ]
  },
  {
   "cell_type": "code",
   "execution_count": null,
   "id": "41cc382c",
   "metadata": {},
   "outputs": [],
   "source": [
    "myTup = (3, '4', 'five', True)\n",
    "myTup"
   ]
  },
  {
   "cell_type": "markdown",
   "id": "43cbe45c",
   "metadata": {},
   "source": [
    "One thing you *can't* do is mess with a tuple. Try changing the 3rd value ('five') to 5:"
   ]
  },
  {
   "cell_type": "code",
   "execution_count": null,
   "id": "fd3e7f76",
   "metadata": {},
   "outputs": [],
   "source": []
  },
  {
   "cell_type": "markdown",
   "id": "40c76143",
   "metadata": {},
   "source": [
    "Why would you want to use a tuple if you can't change the values? If you are working with actual data, for example, you *never* want *anyone* changing the values, so perhaps a tuple is in order.\n",
    "\n",
    "Also, for large \"hungry\" applications, tuple are faster and more memory-efficient than lists."
   ]
  },
  {
   "cell_type": "markdown",
   "id": "7ef7b676",
   "metadata": {},
   "source": [
    "### Lists (list)"
   ]
  },
  {
   "cell_type": "markdown",
   "id": "9722eda8",
   "metadata": {},
   "source": [
    "Lists are much like tuples except that we can change the individual elements after the list has been created (as much as we want). Lists are created with square brackets. Like this:"
   ]
  },
  {
   "cell_type": "code",
   "execution_count": null,
   "id": "c6f2fc72",
   "metadata": {},
   "outputs": [],
   "source": [
    "myList = [True, 'Hey', 7, 4.5]\n",
    "myList"
   ]
  },
  {
   "cell_type": "markdown",
   "id": "087e6089",
   "metadata": {},
   "source": [
    "Try changing one of these values in the cell below:"
   ]
  },
  {
   "cell_type": "code",
   "execution_count": null,
   "id": "abee9809",
   "metadata": {},
   "outputs": [],
   "source": []
  },
  {
   "cell_type": "markdown",
   "id": "bfaab6fa",
   "metadata": {},
   "source": [
    "### Dictionaries (dict)"
   ]
  },
  {
   "cell_type": "markdown",
   "id": "50a09721",
   "metadata": {},
   "source": [
    "The most complicated (in some sense) type in Python is the dictionary.\n",
    "\n",
    "Dictionaries are perhaps poorly named, but they are incredibly useful. A real world dictionary is pretty specific; it yields definitions of words and that's it.\n",
    "\n",
    "Python dictionaries are much more general and flexible. They allow you to store many elements of any type of data and let you access the data by name. If you've programmed in another language, dictionaries are essentially the same as structs (structures).\n",
    "\n",
    "Here's a dictionary; notice the curly braces."
   ]
  },
  {
   "cell_type": "code",
   "execution_count": null,
   "id": "9eb439b8",
   "metadata": {},
   "outputs": [],
   "source": [
    "myDict = {'name': 'Mary',\n",
    "         'age': 21,\n",
    "         'school': 'UT_Austin',\n",
    "         'gpa': 3.89}\n",
    "\n",
    "myDict"
   ]
  },
  {
   "cell_type": "markdown",
   "id": "a349fb13",
   "metadata": {},
   "source": [
    "Dicts are a nice way to store a variety of information about a single logical entity, in this case a hypothetical student named \"Mary\".\n",
    "\n",
    "Each entry in the dict is a key:value pair. The keys are strings, and the values can be anything.\n",
    "\n",
    "We retrieve the information using the keys. Like this:"
   ]
  },
  {
   "cell_type": "code",
   "execution_count": null,
   "id": "983c36d8",
   "metadata": {},
   "outputs": [],
   "source": [
    "myDict['name']"
   ]
  },
  {
   "cell_type": "markdown",
   "id": "02d58f8c",
   "metadata": {},
   "source": [
    "Here's a dict to store hypothetical data from an experiment along with \"metadata\" about the experiment:"
   ]
  },
  {
   "cell_type": "code",
   "execution_count": null,
   "id": "5214ddf3",
   "metadata": {},
   "outputs": [],
   "source": [
    "expDict = {'date': '10July2023', \n",
    "          'time': '1620CST',\n",
    "          'experimenter': 'FGauss',\n",
    "          'data': [245.3, 232.9, 238.6, 222.2, 250.1]}"
   ]
  },
  {
   "cell_type": "markdown",
   "id": "4ae3e3e7",
   "metadata": {},
   "source": [
    "Notice that one of the elements in the dict is a list! If we grab it, it's just a list like any other:"
   ]
  },
  {
   "cell_type": "code",
   "execution_count": null,
   "id": "adf58fb1",
   "metadata": {},
   "outputs": [],
   "source": [
    "just_a_list = expDict['data']\n",
    "just_a_list"
   ]
  },
  {
   "cell_type": "markdown",
   "id": "1d8c4cda",
   "metadata": {},
   "source": [
    "The more you hang around Python, the more you realize how useful dicts are. "
   ]
  },
  {
   "cell_type": "markdown",
   "id": "5fc9351e",
   "metadata": {},
   "source": [
    "## Mutability"
   ]
  },
  {
   "cell_type": "markdown",
   "id": "f30adbb2",
   "metadata": {},
   "source": [
    "Each type of Python object can either be mutable, meaning that the object itself can be modified, or immutable, meaning that, once created, the object cannot be changed in any way."
   ]
  },
  {
   "cell_type": "markdown",
   "id": "87185fe7",
   "metadata": {},
   "source": [
    "### Immutable object types"
   ]
  },
  {
   "cell_type": "markdown",
   "id": "14e6537d",
   "metadata": {},
   "source": [
    "The common immutable object types are\n",
    "\n",
    "* bool\n",
    "* int\n",
    "* float\n",
    "* str\n",
    "* tupple"
   ]
  },
  {
   "cell_type": "markdown",
   "id": "73cdbbb2",
   "metadata": {},
   "source": [
    "If you create an immutable object, like a `str`, by running the cell below..."
   ]
  },
  {
   "cell_type": "code",
   "execution_count": null,
   "id": "820e8485",
   "metadata": {},
   "outputs": [],
   "source": [
    "immStr = 'You cannot change me!'\n",
    "immStr"
   ]
  },
  {
   "cell_type": "markdown",
   "id": "8d023abe",
   "metadata": {},
   "source": [
    "You can't change it. Try changing the 3rd element (the element at index 2) to an 'o' to spell 'You' as 'Yoo'."
   ]
  },
  {
   "cell_type": "code",
   "execution_count": null,
   "id": "17d16c6c",
   "metadata": {},
   "outputs": [],
   "source": []
  },
  {
   "cell_type": "markdown",
   "id": "28836588",
   "metadata": {},
   "source": [
    "Consider the following (run the cells in turn):"
   ]
  },
  {
   "cell_type": "code",
   "execution_count": null,
   "id": "6ce24b22",
   "metadata": {},
   "outputs": [],
   "source": [
    "immStrCopy = immStr"
   ]
  },
  {
   "cell_type": "markdown",
   "id": "040d49d9",
   "metadata": {},
   "source": [
    "`immStrCopy` and `immStr` both now refer to the same object."
   ]
  },
  {
   "cell_type": "code",
   "execution_count": null,
   "id": "f83c9fc5",
   "metadata": {},
   "outputs": [],
   "source": [
    "immStr = 'You cannot change me either!'"
   ]
  },
  {
   "cell_type": "markdown",
   "id": "6a6db404",
   "metadata": {},
   "source": [
    "`immStr` now refers to a newly created object; `immStrCopy` still points to the original unchanged string."
   ]
  },
  {
   "cell_type": "markdown",
   "id": "57c9b626",
   "metadata": {},
   "source": [
    "Verify this in the code cell below using the values and ID numbers of the two strings."
   ]
  },
  {
   "cell_type": "code",
   "execution_count": null,
   "id": "91421449",
   "metadata": {},
   "outputs": [],
   "source": []
  },
  {
   "cell_type": "markdown",
   "id": "e14c8a88",
   "metadata": {},
   "source": [
    "### Mutable objects"
   ]
  },
  {
   "cell_type": "markdown",
   "id": "defa57f9",
   "metadata": {},
   "source": [
    "Mutable objects *can* be changed. This can produce surprising results if you don't appreciate the distinction between mutable and immutable objects.\n",
    "\n",
    "Common mutable objects are lists and dictionaries."
   ]
  },
  {
   "cell_type": "markdown",
   "id": "e3a54490",
   "metadata": {},
   "source": [
    "Consider the following in contrast to the immutable example using strings above."
   ]
  },
  {
   "cell_type": "code",
   "execution_count": null,
   "id": "6028db0b",
   "metadata": {},
   "outputs": [],
   "source": [
    "mList = ['you', 'can', 'change', 'me']\n",
    "mListCopy = mList"
   ]
  },
  {
   "cell_type": "markdown",
   "id": "a5f0489d",
   "metadata": {},
   "source": [
    "Now change the first (zero index) value of `mList` to 'anyone'. "
   ]
  },
  {
   "cell_type": "code",
   "execution_count": null,
   "id": "d80d9d6b",
   "metadata": {},
   "outputs": [],
   "source": [
    "mList[0] = 'anyone'"
   ]
  },
  {
   "cell_type": "markdown",
   "id": "8d017d13",
   "metadata": {},
   "source": [
    "Use the code cell below to check the values and ID numbers of `mList` and `mListCopy`"
   ]
  },
  {
   "cell_type": "code",
   "execution_count": null,
   "id": "4b608e7c",
   "metadata": {},
   "outputs": [],
   "source": []
  },
  {
   "cell_type": "markdown",
   "id": "f2059de6",
   "metadata": {},
   "source": [
    "*Use this cell to explain how this behavior differs from that of immutable objects.*"
   ]
  },
  {
   "cell_type": "markdown",
   "id": "26a3f0ff",
   "metadata": {},
   "source": [
    "## Inquiring minds want to know"
   ]
  },
  {
   "cell_type": "markdown",
   "id": "52337a2d",
   "metadata": {},
   "source": [
    "There are some functions that allow us to get information about our objects."
   ]
  },
  {
   "cell_type": "markdown",
   "id": "c3107cd2",
   "metadata": {},
   "source": [
    "### dir()"
   ]
  },
  {
   "cell_type": "markdown",
   "id": "917f66cc",
   "metadata": {},
   "source": [
    "The `dir()` (for directory) function give us all the verbs for an object."
   ]
  },
  {
   "cell_type": "markdown",
   "id": "630faf3b",
   "metadata": {},
   "source": [
    "In the code cell below, make a sting variable containing your name in all lowercase. Then 'dir' it (e.g. `dir(yourNameVar)`)."
   ]
  },
  {
   "cell_type": "code",
   "execution_count": null,
   "id": "7eaaf3ec",
   "metadata": {},
   "outputs": [],
   "source": []
  },
  {
   "cell_type": "markdown",
   "id": "ad6870b8",
   "metadata": {},
   "source": [
    "Scroll down past all the stuff with double underscores, like `__add__`. The first thing after these should be `capitalize`. Try using this verb using the the dot notation (`object.verb()`)."
   ]
  },
  {
   "cell_type": "code",
   "execution_count": null,
   "id": "08995946",
   "metadata": {},
   "outputs": [],
   "source": []
  },
  {
   "cell_type": "markdown",
   "id": "d3b53fbd",
   "metadata": {},
   "source": [
    "### %who"
   ]
  },
  {
   "cell_type": "markdown",
   "id": "eceef7f0",
   "metadata": {},
   "source": [
    "Type `who` in the code cell below and run it. (if it doesn't work, try `%who`) "
   ]
  },
  {
   "cell_type": "code",
   "execution_count": null,
   "id": "71d92d7b",
   "metadata": {},
   "outputs": [],
   "source": []
  },
  {
   "cell_type": "markdown",
   "id": "18104f5e",
   "metadata": {},
   "source": [
    "*Use this cell to say what `who` does*"
   ]
  },
  {
   "cell_type": "markdown",
   "id": "646a84bc",
   "metadata": {},
   "source": [
    "### %whos"
   ]
  },
  {
   "cell_type": "markdown",
   "id": "d821e1fe",
   "metadata": {},
   "source": [
    "Now try `whos`."
   ]
  },
  {
   "cell_type": "code",
   "execution_count": null,
   "id": "d064f1c9",
   "metadata": {},
   "outputs": [],
   "source": []
  },
  {
   "cell_type": "markdown",
   "id": "43b6fd15",
   "metadata": {},
   "source": [
    "*What does `whos` do?*"
   ]
  },
  {
   "cell_type": "markdown",
   "id": "0fa6f683",
   "metadata": {},
   "source": [
    "Note: who and whos are \"magic commands\" commands available in iPython (and therefore in Jupyter Notebooks) but are not part of Python *per se*. "
   ]
  },
  {
   "cell_type": "code",
   "execution_count": null,
   "id": "28889144",
   "metadata": {},
   "outputs": [],
   "source": []
  }
 ],
 "metadata": {
  "kernelspec": {
   "display_name": "Python 3 (ipykernel)",
   "language": "python",
   "name": "python3"
  },
  "language_info": {
   "codemirror_mode": {
    "name": "ipython",
    "version": 3
   },
   "file_extension": ".py",
   "mimetype": "text/x-python",
   "name": "python",
   "nbconvert_exporter": "python",
   "pygments_lexer": "ipython3",
   "version": "3.8.13"
  }
 },
 "nbformat": 4,
 "nbformat_minor": 5
}
