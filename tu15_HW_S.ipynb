{
 "cells": [
  {
   "cell_type": "markdown",
   "id": "7c915198-6974-494a-a6ae-b8d19533e0fd",
   "metadata": {},
   "source": [
    "# Wrangling III homework"
   ]
  },
  {
   "cell_type": "markdown",
   "id": "b0321172-6e5e-421c-8261-31cb40579803",
   "metadata": {},
   "source": [
    "## Preliminaries"
   ]
  },
  {
   "cell_type": "markdown",
   "id": "3a296fa2-f538-43b4-a9da-507ae0189122",
   "metadata": {},
   "source": [
    "As usual, we'll load some libraries we'll be likely to use."
   ]
  },
  {
   "cell_type": "code",
   "execution_count": 1,
   "id": "1e64392f-fab1-4a49-93a0-d0d1b06b92d8",
   "metadata": {},
   "outputs": [],
   "source": [
    "import numpy as np\n",
    "import pandas as pd\n",
    "import matplotlib.pyplot as plt\n",
    "import seaborn as sns"
   ]
  },
  {
   "cell_type": "markdown",
   "id": "05ac90f8-bb3b-4625-8a08-5bb029a03be8",
   "metadata": {},
   "source": [
    "Now we'll get set up to work by\n",
    "\n",
    "- loading the cancer data and cleaning it up (as before)\n",
    "- trim out some columns so we can look at the data frame more easily\n",
    "- shorten up some of the column names to save ourselves some typing"
   ]
  },
  {
   "cell_type": "markdown",
   "id": "0fbd2e5c-23e4-4bd8-9fed-9a01beff7559",
   "metadata": {},
   "source": [
    "Let's reuse our function to do the loading and cleaning."
   ]
  },
  {
   "cell_type": "code",
   "execution_count": 2,
   "id": "b2dab376-bc16-42f7-a5b4-6c600c6370cc",
   "metadata": {},
   "outputs": [],
   "source": [
    "def bcd_load_clean():\n",
    "    bcd = pd.read_csv('./data/breast_cancer_data.csv')\n",
    "    bcd['patient_id'] = bcd['patient_id'].astype('string')\n",
    "    bcd['doctor_name'] = bcd['doctor_name'].str.split().str[1]\n",
    "    bcd['bare_nuclei'] = bcd['bare_nuclei'].replace('?', '')\n",
    "    bcd['bare_nuclei'] = pd.to_numeric(bcd['bare_nuclei'])\n",
    "    \n",
    "    return bcd"
   ]
  },
  {
   "cell_type": "code",
   "execution_count": 3,
   "id": "feab347b-2f1b-4553-b8f9-8ed95a6e5ab5",
   "metadata": {},
   "outputs": [],
   "source": [
    "bcd = bcd_load_clean()"
   ]
  },
  {
   "cell_type": "markdown",
   "id": "231327c8-4c7d-4ff8-bb21-72d3228fd45c",
   "metadata": {},
   "source": [
    "Make a little version with just two numeric columns to play with."
   ]
  },
  {
   "cell_type": "code",
   "execution_count": 4,
   "id": "6fec794d-d2a5-4851-a8d4-1a532a8895b4",
   "metadata": {},
   "outputs": [],
   "source": [
    "bcd2 = bcd[['patient_id', 'clump_thickness', 'bland_chromatin', 'class']].copy()"
   ]
  },
  {
   "cell_type": "markdown",
   "id": "d5c2983e-bdc8-4b4d-ba8c-cdd6c3ff9c2f",
   "metadata": {},
   "source": [
    "Let's give the columns shorter names to save some typing."
   ]
  },
  {
   "cell_type": "code",
   "execution_count": 5,
   "id": "03a65b40-4954-4b02-bcc0-f59a7f2fa93a",
   "metadata": {},
   "outputs": [],
   "source": [
    "bcd2 = bcd2.rename(columns={'clump_thickness': 'thick',\n",
    "                            'bland_chromatin': 'chrom',\n",
    "                            'patient_id': 'id'})"
   ]
  },
  {
   "cell_type": "markdown",
   "id": "b924f04e-c52e-4b3c-a911-0fc4dcb539e2",
   "metadata": {
    "tags": []
   },
   "source": [
    "## Duplicate entries"
   ]
  },
  {
   "cell_type": "markdown",
   "id": "5ee75c2e-dac0-4a78-8f02-a44d19f5d09b",
   "metadata": {},
   "source": [
    "As we have already seen, datasets can contain strange things that we have to overcome prior to analysis. One of the most common issues in a dataset are duplicate entries. These are common with large datasets that have been transcribed by humans at some point. Humands get bored, lose their place, etc."
   ]
  },
  {
   "cell_type": "markdown",
   "id": "cb217b03-f70f-419a-9932-ef9cb78da0ca",
   "metadata": {
    "tags": []
   },
   "source": [
    "---"
   ]
  },
  {
   "cell_type": "markdown",
   "id": "d0056bbe-f4c9-4e37-b341-71105729bf57",
   "metadata": {},
   "source": [
    "Let's look at the shape of our cancer data frame (remember data frames have a `shape` attribute)."
   ]
  },
  {
   "cell_type": "code",
   "execution_count": null,
   "id": "c73b0ec4-c5ae-44d4-a9e7-bebcb64d924f",
   "metadata": {},
   "outputs": [],
   "source": []
  },
  {
   "cell_type": "markdown",
   "id": "d2685d8c-7e7c-4c45-8335-3e9173a44fe5",
   "metadata": {
    "tags": []
   },
   "source": [
    "---"
   ]
  },
  {
   "cell_type": "markdown",
   "id": "134cd54b-e9b7-46fe-a2a2-37e83255b99a",
   "metadata": {},
   "source": [
    "Now let's look at the number of unique entries using the `nunique()` data frame method; this will return the number of distinct values in each column."
   ]
  },
  {
   "cell_type": "code",
   "execution_count": null,
   "id": "ae5b7d3c-30ec-43ca-860b-05c88d5dea30",
   "metadata": {
    "tags": []
   },
   "outputs": [],
   "source": []
  },
  {
   "cell_type": "markdown",
   "id": "d9355186-dc9d-48aa-b5a2-0fa670306bc1",
   "metadata": {
    "tags": []
   },
   "source": [
    "---"
   ]
  },
  {
   "cell_type": "markdown",
   "id": "c6299bb5-08a2-4e6e-984f-c07f95c9ebd4",
   "metadata": {},
   "source": [
    "So we can see that, while there are 699 observations in our data, there are only 645 unique patient ids. This tells us that several patients have multiple entries. These could be from patients making multiple visits to the doctor, or they could be a mistakes, or some combination thereof."
   ]
  },
  {
   "cell_type": "markdown",
   "id": "aba6643b-02a5-4a1b-8266-cf3037b47ec5",
   "metadata": {},
   "source": [
    "We can find out which rows – which entire observations – are identical with the `duplicated()` method. "
   ]
  },
  {
   "cell_type": "code",
   "execution_count": null,
   "id": "c8a4c4b1-e536-4355-893b-05e8dcb88a14",
   "metadata": {},
   "outputs": [],
   "source": [
    "bcd2.duplicated()"
   ]
  },
  {
   "cell_type": "markdown",
   "id": "956d6c72-9e09-4244-a7d7-c687fb1857b4",
   "metadata": {},
   "source": [
    "That's not terribly helpful by itself, but..."
   ]
  },
  {
   "cell_type": "markdown",
   "id": "2a50e70d-3620-4ce6-a8b1-ff214bde465c",
   "metadata": {},
   "source": [
    "---"
   ]
  },
  {
   "cell_type": "markdown",
   "id": "38f3da9e-551f-4ee6-8afe-d79dd171cf5c",
   "metadata": {},
   "source": [
    "In the cell below, count the number of duplicated rows (remember a True is a 1)."
   ]
  },
  {
   "cell_type": "code",
   "execution_count": null,
   "id": "b4ceff04-e0ac-4092-aa71-c89739f737d0",
   "metadata": {},
   "outputs": [],
   "source": []
  },
  {
   "cell_type": "markdown",
   "id": "1d984504-e4c3-436d-b2bd-f0585632f24f",
   "metadata": {},
   "source": [
    "---"
   ]
  },
  {
   "cell_type": "markdown",
   "id": "84de93e0-64ac-4cf1-9956-8a7a0eaf89ce",
   "metadata": {},
   "source": [
    "We can also use the output of `.duplicated()` to do logical indexing to see the observations that have duplicates. Do that in the cell below."
   ]
  },
  {
   "cell_type": "code",
   "execution_count": null,
   "id": "e1026b28-e140-41d3-9fe6-2fc8a5356f6c",
   "metadata": {},
   "outputs": [],
   "source": []
  },
  {
   "cell_type": "markdown",
   "id": "7f00afed-5f3e-4630-b839-5298c6eccf60",
   "metadata": {},
   "source": [
    "---"
   ]
  },
  {
   "cell_type": "markdown",
   "id": "5a15cd40-2f82-461d-9742-25344c5ecd90",
   "metadata": {},
   "source": [
    "This is promising but, if we look at what is listed, we don't actually see any duplicates. So what is `duplicates()` doing?"
   ]
  },
  {
   "cell_type": "markdown",
   "id": "57d704a6-d646-4bc5-b1ee-08a585661dc2",
   "metadata": {},
   "source": [
    "---"
   ]
  },
  {
   "cell_type": "markdown",
   "id": "acca2d05-25dd-4283-a004-810dad74379e",
   "metadata": {},
   "source": [
    "Use the cell below to get help on `duplicated()` using `help()` or `?`."
   ]
  },
  {
   "cell_type": "code",
   "execution_count": null,
   "id": "fa7fa424-7a8b-494a-95f3-f18bb7f05e6d",
   "metadata": {},
   "outputs": [],
   "source": []
  },
  {
   "cell_type": "markdown",
   "id": "bde47681-0f32-4771-b777-3b97f2baf03e",
   "metadata": {},
   "source": [
    "---"
   ]
  },
  {
   "cell_type": "markdown",
   "id": "690decbc-8294-4495-9e12-bb21b66bb2d8",
   "metadata": {
    "tags": []
   },
   "source": [
    "... we can see that it has a \"keep\" argument. By default, `duplicated()` it gives us the *first* instance of any duplicated rows. We can make it show all the rows with `keep=False`."
   ]
  },
  {
   "cell_type": "markdown",
   "id": "b96988be-ca5c-4847-804f-b06e46cc6e10",
   "metadata": {},
   "source": [
    "Go ahead and do that in the cell below."
   ]
  },
  {
   "cell_type": "code",
   "execution_count": null,
   "id": "fdf71048-5308-414b-be6f-2efb7f92d540",
   "metadata": {
    "tags": []
   },
   "outputs": [],
   "source": []
  },
  {
   "cell_type": "markdown",
   "id": "48ceec6b-6856-4ef6-859e-297a18a7b85d",
   "metadata": {},
   "source": [
    "---"
   ]
  },
  {
   "cell_type": "markdown",
   "id": "6563ff66-ccef-4afc-af7c-2718e301c8ed",
   "metadata": {
    "tags": []
   },
   "source": [
    "Hm. That's somewhat helpful. If we look near the bottom, we see that the last 5 or so duplicates occur in successive rows, perhaps indicating a data entry mistake. Perhaps looking at the data sorted by patient ID would be more helpful."
   ]
  },
  {
   "cell_type": "markdown",
   "id": "3b89c036-48f5-49b2-bdd2-669758fa8cc8",
   "metadata": {},
   "source": [
    "---"
   ]
  },
  {
   "cell_type": "markdown",
   "id": "2fd9e12f-be0c-41f5-a5d6-f3f75cdb7fa1",
   "metadata": {},
   "source": [
    "In the cell below, use the the `.sort_values()` method to look at our duplicates sorted by ID."
   ]
  },
  {
   "cell_type": "code",
   "execution_count": null,
   "id": "59966d9f-e452-45d1-90bf-1b887d53f9f3",
   "metadata": {},
   "outputs": [],
   "source": []
  },
  {
   "cell_type": "markdown",
   "id": "bde2a5db-c7ba-4e34-920a-db1634e2e277",
   "metadata": {},
   "source": [
    "So most of the duplicates occur in adjacent rows, but others do not. Perhaps we should check and see if the same patients occur multiple times with different measurements, indicating multiple visits to the doctor. "
   ]
  },
  {
   "cell_type": "markdown",
   "id": "bc91a175-eff0-470f-a58b-5c4d4771459e",
   "metadata": {},
   "source": [
    "---"
   ]
  },
  {
   "cell_type": "markdown",
   "id": "00c3eb83-e190-4932-ab4b-a1b1b6ce24ea",
   "metadata": {},
   "source": [
    "Use the cell below and the `subset` argument to `duplicated()` to look at multiple entries for any patients that have them."
   ]
  },
  {
   "cell_type": "code",
   "execution_count": null,
   "id": "f53efac7-9ec0-4b58-abbc-75ecc6cb7d4d",
   "metadata": {},
   "outputs": [],
   "source": []
  },
  {
   "cell_type": "markdown",
   "id": "29d9b2dc-97ac-4a40-8a0b-a9b2fc31b73b",
   "metadata": {},
   "source": [
    "---"
   ]
  },
  {
   "cell_type": "markdown",
   "id": "5616ea16-b64e-4069-885f-17b490632326",
   "metadata": {},
   "source": [
    "Now, in the cell below, do the same thing but sort the output by patient ID."
   ]
  },
  {
   "cell_type": "code",
   "execution_count": null,
   "id": "bdd38328-8e77-4a40-b6ec-226f63d5d3c8",
   "metadata": {},
   "outputs": [],
   "source": []
  },
  {
   "cell_type": "markdown",
   "id": "f1febc84-ff00-45a7-8b0c-8355d9fdb512",
   "metadata": {},
   "source": [
    "---"
   ]
  },
  {
   "cell_type": "markdown",
   "id": "842e97e4-4123-495c-9ca2-82ed15afdf02",
   "metadata": {},
   "source": [
    "So it looks like patients do come in multiple times and the values can change between visits."
   ]
  },
  {
   "cell_type": "markdown",
   "id": "485ec067-9ee7-4483-8289-10fe578e8a80",
   "metadata": {},
   "source": [
    "We can look at repeat patient's number of visits directly if we want. We'll take advantage of the fact that the `.size` of a `groupby()` object returns the number of rows for each group."
   ]
  },
  {
   "cell_type": "code",
   "execution_count": 18,
   "id": "8a3c3e73-9112-4848-a066-c4b5c39c2c6a",
   "metadata": {},
   "outputs": [],
   "source": [
    "repeat_patients = bcd2.groupby('id').size().sort_values(ascending =False)"
   ]
  },
  {
   "cell_type": "code",
   "execution_count": 6,
   "id": "19833c2f-32b5-411a-883a-a57660f5ecbb",
   "metadata": {
    "tags": []
   },
   "outputs": [],
   "source": [
    "repeat_patients"
   ]
  },
  {
   "cell_type": "markdown",
   "id": "1dc981e1-3bb7-4315-bce4-0ab6757dcae6",
   "metadata": {},
   "source": [
    "---"
   ]
  },
  {
   "cell_type": "markdown",
   "id": "8e4309e4-7ba6-43df-a67a-bdb8758470ba",
   "metadata": {},
   "source": [
    "So one patient came in 6 times."
   ]
  },
  {
   "cell_type": "markdown",
   "id": "24b8cdb6-4056-4f77-b68d-075c2f642c3c",
   "metadata": {},
   "source": [
    "---"
   ]
  },
  {
   "cell_type": "markdown",
   "id": "b604d72b-5ae1-4510-bec9-894de2ed778b",
   "metadata": {},
   "source": [
    "Use the cell below look at the data for the patient with 6 visits."
   ]
  },
  {
   "cell_type": "code",
   "execution_count": 20,
   "id": "a2afafb3-b5d3-49bd-b156-03713d2b3429",
   "metadata": {},
   "outputs": [
    {
     "data": {
      "text/html": [
       "<div>\n",
       "<style scoped>\n",
       "    .dataframe tbody tr th:only-of-type {\n",
       "        vertical-align: middle;\n",
       "    }\n",
       "\n",
       "    .dataframe tbody tr th {\n",
       "        vertical-align: top;\n",
       "    }\n",
       "\n",
       "    .dataframe thead th {\n",
       "        text-align: right;\n",
       "    }\n",
       "</style>\n",
       "<table border=\"1\" class=\"dataframe\">\n",
       "  <thead>\n",
       "    <tr style=\"text-align: right;\">\n",
       "      <th></th>\n",
       "      <th>id</th>\n",
       "      <th>thick</th>\n",
       "      <th>chrom</th>\n",
       "      <th>class</th>\n",
       "    </tr>\n",
       "  </thead>\n",
       "  <tbody>\n",
       "    <tr>\n",
       "      <th>136</th>\n",
       "      <td>1182404</td>\n",
       "      <td>4.0</td>\n",
       "      <td>2.0</td>\n",
       "      <td>benign</td>\n",
       "    </tr>\n",
       "    <tr>\n",
       "      <th>256</th>\n",
       "      <td>1182404</td>\n",
       "      <td>3.0</td>\n",
       "      <td>1.0</td>\n",
       "      <td>benign</td>\n",
       "    </tr>\n",
       "    <tr>\n",
       "      <th>257</th>\n",
       "      <td>1182404</td>\n",
       "      <td>3.0</td>\n",
       "      <td>2.0</td>\n",
       "      <td>benign</td>\n",
       "    </tr>\n",
       "    <tr>\n",
       "      <th>265</th>\n",
       "      <td>1182404</td>\n",
       "      <td>5.0</td>\n",
       "      <td>3.0</td>\n",
       "      <td>benign</td>\n",
       "    </tr>\n",
       "    <tr>\n",
       "      <th>448</th>\n",
       "      <td>1182404</td>\n",
       "      <td>1.0</td>\n",
       "      <td>1.0</td>\n",
       "      <td>benign</td>\n",
       "    </tr>\n",
       "    <tr>\n",
       "      <th>497</th>\n",
       "      <td>1182404</td>\n",
       "      <td>4.0</td>\n",
       "      <td>1.0</td>\n",
       "      <td>benign</td>\n",
       "    </tr>\n",
       "  </tbody>\n",
       "</table>\n",
       "</div>"
      ],
      "text/plain": [
       "          id  thick  chrom   class\n",
       "136  1182404    4.0    2.0  benign\n",
       "256  1182404    3.0    1.0  benign\n",
       "257  1182404    3.0    2.0  benign\n",
       "265  1182404    5.0    3.0  benign\n",
       "448  1182404    1.0    1.0  benign\n",
       "497  1182404    4.0    1.0  benign"
      ]
     },
     "execution_count": 20,
     "metadata": {},
     "output_type": "execute_result"
    }
   ],
   "source": [
    "bcd2[bcd2['id'] == '1182404']"
   ]
  },
  {
   "cell_type": "markdown",
   "id": "d3cca8fd-f257-4111-be35-cad30ce4a36b",
   "metadata": {},
   "source": [
    "---"
   ]
  },
  {
   "cell_type": "markdown",
   "id": "37fb8db9-f60d-452c-bdd1-bf52c16d64ce",
   "metadata": {},
   "source": [
    "So it appears that some patients have multiple legitimate entries in the data frame."
   ]
  },
  {
   "cell_type": "markdown",
   "id": "ecbaab56-a9fa-418b-8bdf-d1ba3d250a5b",
   "metadata": {},
   "source": [
    "---"
   ]
  },
  {
   "cell_type": "markdown",
   "id": "1bd253ce-10b8-448b-8a02-f9be5969ab90",
   "metadata": {},
   "source": [
    "If you were put in charge of analyzing these data, what would you do with duplicate observations in this data frame, and why?"
   ]
  },
  {
   "cell_type": "markdown",
   "id": "2e26d989-e1ea-4682-80bb-ce5d9baa0793",
   "metadata": {},
   "source": []
  },
  {
   "cell_type": "markdown",
   "id": "12d24c44-ba06-4790-9feb-188ddcbe43a9",
   "metadata": {},
   "source": [
    "---"
   ]
  }
 ],
 "metadata": {
  "kernelspec": {
   "display_name": "Python 3 (ipykernel)",
   "language": "python",
   "name": "python3"
  },
  "language_info": {
   "codemirror_mode": {
    "name": "ipython",
    "version": 3
   },
   "file_extension": ".py",
   "mimetype": "text/x-python",
   "name": "python",
   "nbconvert_exporter": "python",
   "pygments_lexer": "ipython3",
   "version": "3.8.13"
  }
 },
 "nbformat": 4,
 "nbformat_minor": 5
}
