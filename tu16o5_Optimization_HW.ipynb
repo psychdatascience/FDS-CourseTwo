{
 "cells": [
  {
   "cell_type": "markdown",
   "id": "7b0f7b89",
   "metadata": {},
   "source": [
    "## Find the Minimum of a Quadratic Function\n",
    "\n",
    "Consider the quadratic function:\n",
    "\n",
    "𝑓(𝑥)=𝑎𝑥2+𝑏𝑥+𝑐\n",
    "\n",
    "Your task is to write a Python program that finds the value of 𝑥 that minimizes 𝑓(𝑥) using a brute-force approach (by evaluating different values of 𝑥 and selecting the smallest function value).\n",
    "\n",
    "#### Instructions:\n",
    "Define a quadratic function 𝑓(𝑥) where 𝑎=1, 𝑏=−3, 𝑐=2.\n",
    "\n",
    "Search for the minimum value of 𝑓(𝑥) over a range of 𝑥 values (e.g., between -10 and 10).\n",
    "Store and update the lowest function value found and the corresponding 𝑥.\n",
    "Print the optimal 𝑥 and the minimum function value.\n",
    "\n",
    "##### Hints:\n",
    "- Use `numpy.linspace()` to generate a list of candidate 𝑥 values.\n",
    "- Iterate over these values and compute  𝑓(𝑥)\n",
    "- Keep track of the smallest  𝑓(𝑥) value you encounter.\n",
    "\n",
    "### Starter Code:"
   ]
  },
  {
   "cell_type": "code",
   "execution_count": null,
   "id": "e5a9f5f7",
   "metadata": {},
   "outputs": [],
   "source": [
    "import numpy as np\n",
    "\n",
    "# Step 1: Define the quadratic function\n",
    "def quadratic_function(x, a=1, b=-3, c=2):\n",
    "    return a * x**2 + b * x + c\n",
    "\n",
    "# Step 2: Create a range of x values to search\n",
    "# More help: Generates 100 (is 100 enough or do you need a 1000?) points between \n",
    "# a negative value of your choice and another value of yoru choice, positive\n",
    "x_values = np.linspace(-ADDvalue, ADDvalue, 100)  \n",
    "\n",
    "# Step 3: Initialize variables to track the minimum value\n",
    "min_x = None\n",
    "min_f_x = float('inf')  # Start with a large number\n",
    "\n",
    "# Step 4: Iterate over x_values and find the minimum function value\n",
    "### IMPLEMENT YOUR SOLUTION HERE ###\n",
    "\n",
    "# Step 5: Print the results\n",
    "print(f\"Optimal x: {min_x:.4f}, Minimum f(x): {min_f_x:.4f}\")"
   ]
  },
  {
   "cell_type": "markdown",
   "id": "dc190d1e",
   "metadata": {},
   "source": [
    "#### Answer below using your own words the following questions:\n",
    "- What happens if you change the values of 𝑎, 𝑏, and 𝑐?\n",
    "- Can you modify your code to find the maximum instead of the minimum?\n",
    "- If you had a very large range of 𝑥, would brute force still be efficient? How could you improve it?"
   ]
  },
  {
   "cell_type": "code",
   "execution_count": null,
   "id": "c83db5bf",
   "metadata": {},
   "outputs": [],
   "source": []
  }
 ],
 "metadata": {
  "kernelspec": {
   "display_name": "Python 3 (ipykernel)",
   "language": "python",
   "name": "python3"
  },
  "language_info": {
   "codemirror_mode": {
    "name": "ipython",
    "version": 3
   },
   "file_extension": ".py",
   "mimetype": "text/x-python",
   "name": "python",
   "nbconvert_exporter": "python",
   "pygments_lexer": "ipython3",
   "version": "3.9.7"
  }
 },
 "nbformat": 4,
 "nbformat_minor": 5
}
