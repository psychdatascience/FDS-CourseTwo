{
 "cells": [
  {
   "cell_type": "markdown",
   "id": "a08df273",
   "metadata": {},
   "source": [
    "## Optimization hackathon"
   ]
  },
  {
   "cell_type": "markdown",
   "id": "15c13c28",
   "metadata": {},
   "source": [
    "Let's do some optimization! As we know, optimization generally involves finding the smallest overall error, or **cost**, for some range of parameter values (like slope, e.g.). This involves evaluating the cost at each of several candidate parameter values, and picking the one that yields the lowest, or `min()` cost.  \n",
    "\n",
    "In the first of two puzzles, we are given a cost function, and we have to find its minimum value.  \n",
    "\n",
    "In the second puzzle, we'll examine a new data set and find the slope of a straight line that best fits the data by minimizing the cost. In machine learing terms, we will *train* our straight line model to have the slope that best fits the training data. In an actual application, we would then use this straight line to predict values of y for new values of x."
   ]
  },
  {
   "cell_type": "markdown",
   "id": "7b0f7b89",
   "metadata": {},
   "source": [
    "### Find the Minimum of a Quadratic Function\n",
    "\n",
    "Consider the quadratic function:\n",
    "\n",
    "𝑓(𝑥)=𝑎𝑥2+𝑏𝑥+𝑐\n",
    "\n",
    "Your task is to write a Python program that finds the value of 𝑥 that minimizes 𝑓(𝑥) using a brute-force approach (by evaluating different values of 𝑥 and selecting the smallest function value).\n",
    "\n",
    "#### Instructions:\n",
    "Define a quadratic function 𝑓(𝑥) where 𝑎=1, 𝑏=−3, 𝑐=2.\n",
    "\n",
    "Search for the minimum value of 𝑓(𝑥) over a range of 𝑥 values (e.g., between -10 and 10).\n",
    "Store and update the lowest function value found and the corresponding 𝑥.\n",
    "Print the optimal 𝑥 and the minimum function value.\n",
    "\n",
    "##### Hints:\n",
    "- Use `numpy.linspace()` to generate a list of candidate 𝑥 values.\n",
    "- Iterate over these values and compute  𝑓(𝑥)\n",
    "- Keep track of the smallest  𝑓(𝑥) value you encounter.\n",
    "\n",
    "### Starter Code:"
   ]
  },
  {
   "cell_type": "code",
   "execution_count": null,
   "id": "e5a9f5f7",
   "metadata": {},
   "outputs": [],
   "source": [
    "import numpy as np\n",
    "\n",
    "ADDvalue = 10\n",
    "\n",
    "# Step 1: Define the quadratic function\n",
    "def quadratic_function(x, a=1, b=-3, c=2):\n",
    "    return a * x**2 + b * x + c\n",
    "\n",
    "# Step 2: Create a range of x values to search\n",
    "# More help: Generates 100 (is 100 enough or do you need a 1000?) points between \n",
    "# a negative value of your choice and another value of yoru choice, positive\n",
    "x_values = np.linspace(-ADDvalue, ADDvalue, 100)  \n",
    "\n",
    "# Step 3: Initialize variables to track the minimum value\n",
    "min_x = None\n",
    "min_f_x = float('inf')  # Start with a large number\n",
    "\n",
    "# Step 4: Iterate over x_values and find the minimum function value\n",
    "### IMPLEMENT YOUR SOLUTION HERE ###\n",
    "\n",
    "\n",
    "# Step 5: Print the results\n",
    "print(f\"Optimal x: {min_x:.4f}, Minimum f(x): {min_f_x:.4f}\")"
   ]
  },
  {
   "cell_type": "markdown",
   "id": "dc190d1e",
   "metadata": {},
   "source": [
    "#### Answer below using your own words the following questions:\n",
    "- What happens if you change the values of 𝑎, 𝑏, and 𝑐?\n",
    "  \n",
    "- Can you modify your code to find the maximum instead of the minimum?\n",
    "  \n",
    "- If you had a very large range of 𝑥, would brute force still be efficient? How could you improve it?\n",
    "  "
   ]
  },
  {
   "cell_type": "markdown",
   "id": "2593c70c-fc49-4a07-afb3-7d66d28f49d1",
   "metadata": {},
   "source": [
    "---"
   ]
  },
  {
   "cell_type": "markdown",
   "id": "c73cc106",
   "metadata": {},
   "source": [
    "## Find the best slope for a line given some training data."
   ]
  },
  {
   "cell_type": "markdown",
   "id": "49ca1e81",
   "metadata": {},
   "source": [
    "First, let's import some needed libraries:"
   ]
  },
  {
   "cell_type": "code",
   "execution_count": 4,
   "id": "d0d6c5a9",
   "metadata": {},
   "outputs": [],
   "source": [
    "import pandas as pd\n",
    "import numpy as np\n",
    "import matplotlib.pyplot as plt \n"
   ]
  },
  {
   "cell_type": "markdown",
   "id": "05b2c709",
   "metadata": {},
   "source": [
    "Now, get the file \"tu16o5_HW_data.csv\" from Canvas, and put it in your 'Data' folder (this should be a subdirectory of the location of this notebook). Load it into a data frame (pandas.read_csav())"
   ]
  },
  {
   "cell_type": "code",
   "execution_count": null,
   "id": "d7669b2a",
   "metadata": {},
   "outputs": [],
   "source": [
    "# Load the CSV file into a DataFrame\n"
   ]
  },
  {
   "cell_type": "markdown",
   "id": "217e9089",
   "metadata": {},
   "source": [
    "Graph the data with some candidate straight lines until you get a decent visual fit to the data. You can use `Seaborn` if you wish, or you can pull out the x and y columns from the `Pandas` data frame into `NumPy` series, and then use the code from the tutorial."
   ]
  },
  {
   "cell_type": "code",
   "execution_count": null,
   "id": "bebc7197",
   "metadata": {},
   "outputs": [],
   "source": [
    "# Extract x and y values from the DataFrame\n",
    "\n",
    "\n",
    "# Create a scatter plot like plt.scatter(x_values, y_values, label='Data points')\n",
    "\n",
    "\n",
    "# Add a line with y-intercept of 0 and slope of 1\n",
    "\n",
    "\n",
    "# Add labels and legend\n",
    "plt.xlabel('x')\n",
    "plt.ylabel('y')\n",
    "plt.legend()\n",
    "plt.title('Scatter plot with line y = x')\n",
    "plt.show()"
   ]
  },
  {
   "cell_type": "markdown",
   "id": "21eb71db",
   "metadata": {},
   "source": [
    "Once you have a (roughly) satisfying slope, examine a number of nearby slopes and find the \"optimal\" one, using the ideas (and code, if you want) from the tutorial. Please include a plot of cost vs. candidate slope that supports your answer for the optimal one."
   ]
  },
  {
   "cell_type": "code",
   "execution_count": null,
   "id": "d446c66e",
   "metadata": {},
   "outputs": [],
   "source": []
  },
  {
   "cell_type": "markdown",
   "id": "9ad3a6f8",
   "metadata": {},
   "source": [
    "But wait! Your jerk office-mate just screamed that they got a lower cost value than you, and therefore claims that they have a better estimate of the slope, saving the company ca$h!  \n",
    "\n",
    "*Add a second pass to your estimate of the slope*. In other words, use the slope you just estimated as a new starting point, and have your code \"zoom in\" on the slopes immediately to see if you can find the spot that's the lowest of the low in the cost function."
   ]
  },
  {
   "cell_type": "code",
   "execution_count": null,
   "id": "f4105134",
   "metadata": {},
   "outputs": [],
   "source": []
  },
  {
   "cell_type": "markdown",
   "id": "7bb877c5",
   "metadata": {},
   "source": [
    "A question to ponder: how could you terminate you search for the minimum in some justifiable way? How close is close enough? Could you use some relative improvement measure to determine how close is close enough? In other words, can you think of some reasonable way to terminate a search for a \"best\" parameter value?"
   ]
  },
  {
   "cell_type": "code",
   "execution_count": null,
   "id": "a94313ea",
   "metadata": {},
   "outputs": [],
   "source": []
  },
  {
   "cell_type": "markdown",
   "id": "ad243da3",
   "metadata": {},
   "source": []
  }
 ],
 "metadata": {
  "kernelspec": {
   "display_name": "base",
   "language": "python",
   "name": "python3"
  },
  "language_info": {
   "codemirror_mode": {
    "name": "ipython",
    "version": 3
   },
   "file_extension": ".py",
   "mimetype": "text/x-python",
   "name": "python",
   "nbconvert_exporter": "python",
   "pygments_lexer": "ipython3",
   "version": "3.11.8"
  }
 },
 "nbformat": 4,
 "nbformat_minor": 5
}
