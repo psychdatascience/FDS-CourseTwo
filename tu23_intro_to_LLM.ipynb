{
 "cells": [
  {
   "cell_type": "code",
   "execution_count": null,
   "id": "50b0ede5",
   "metadata": {},
   "outputs": [],
   "source": [
    "# Install required modules and set required tokens\n",
    "!pip install openai python-dotenv\n",
    "\n",
    "# Load the .env file in a Jupyter notebook:\n",
    "%load_ext dotenv\n",
    "%dotenv"
   ]
  },
  {
   "cell_type": "code",
   "execution_count": null,
   "id": "563d3dc1",
   "metadata": {},
   "outputs": [],
   "source": [
    "OPENAI_ORG_ID=your-epic-org-id\n",
    "OPENAI_API_KEY=your-string-de-jibberish"
   ]
  }
 ],
 "metadata": {
  "kernelspec": {
   "display_name": "Python 3 (ipykernel)",
   "language": "python",
   "name": "python3"
  },
  "language_info": {
   "codemirror_mode": {
    "name": "ipython",
    "version": 3
   },
   "file_extension": ".py",
   "mimetype": "text/x-python",
   "name": "python",
   "nbconvert_exporter": "python",
   "pygments_lexer": "ipython3",
   "version": "3.9.7"
  }
 },
 "nbformat": 4,
 "nbformat_minor": 5
}
