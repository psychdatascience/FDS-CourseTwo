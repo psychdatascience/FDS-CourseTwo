{
 "cells": [
  {
   "cell_type": "markdown",
   "id": "492bac87",
   "metadata": {},
   "source": [
    "# Multi-axis figure homework"
   ]
  },
  {
   "cell_type": "markdown",
   "id": "ec0f5bd0",
   "metadata": {},
   "source": [
    "In this homework, you'll make a simulated data set with a relationship between x and y, then make a \"correlation plot\" of the data.\n",
    "\n",
    "A correlation plot of data values is a matrix of subplots with one row and one column corresponding to each variable. The main diagonal has histograms of the variable corresponding to that row and column. In one type of correlation plot, the lower triangle of the matrix has plots of the variables against one another, and the upper triangles shows the correlations between the variables."
   ]
  },
  {
   "cell_type": "markdown",
   "id": "93f38af7",
   "metadata": {},
   "source": [
    "Like in the image in corrPlot.png ![corr plot](./images/corrPlot.png), which shows an example."
   ]
  },
  {
   "cell_type": "markdown",
   "id": "089d8917",
   "metadata": {},
   "source": [
    "## Make your data"
   ]
  },
  {
   "cell_type": "markdown",
   "id": "de2843bc",
   "metadata": {},
   "source": [
    "Make some y vs. x data like in the last homework. It can be straight line based (like y = m*x * b * random noise), or it can be something more exotic (like y = x^3 + random noise). \n",
    "\n",
    "Play around with the amount of noise, the number of data points, etc., plotting as you go until you have data that you are happy with.\n",
    "\n",
    "Numpy has a handy function to compute the ***corr***elation ***coef***icient."
   ]
  },
  {
   "cell_type": "code",
   "execution_count": null,
   "id": "a7d9bbbe",
   "metadata": {},
   "outputs": [],
   "source": []
  },
  {
   "cell_type": "markdown",
   "id": "b173f81c",
   "metadata": {},
   "source": [
    "## Make your figure\n",
    "\n",
    "Because you have 2 variables, your figure will be a 2x2 matrix of subplots, with two histograms down the main diagonal, a scatterplot in the lower left, and a correlation value in the plot in the upper right.\n",
    "\n",
    "But feel free to make it your own. For example, the upper right cell could have a faint re-plot of the data with the correlation value shown on top of it."
   ]
  },
  {
   "cell_type": "code",
   "execution_count": null,
   "id": "14e306dc",
   "metadata": {},
   "outputs": [],
   "source": []
  }
 ],
 "metadata": {
  "kernelspec": {
   "display_name": "Python 3 (ipykernel)",
   "language": "python",
   "name": "python3"
  },
  "language_info": {
   "codemirror_mode": {
    "name": "ipython",
    "version": 3
   },
   "file_extension": ".py",
   "mimetype": "text/x-python",
   "name": "python",
   "nbconvert_exporter": "python",
   "pygments_lexer": "ipython3",
   "version": "3.8.13"
  }
 },
 "nbformat": 4,
 "nbformat_minor": 5
}
