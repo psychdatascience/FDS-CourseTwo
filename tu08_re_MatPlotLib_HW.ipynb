{
 "cells": [
  {
   "cell_type": "markdown",
   "id": "a22fa658",
   "metadata": {},
   "source": [
    "# matplotlib homework"
   ]
  },
  {
   "cell_type": "markdown",
   "id": "b5dc8b99",
   "metadata": {},
   "source": [
    "1. Make a plot of a straight line. Use `linspace()` to create the x values and y = a + b*x to create the y values (use an a and b of your choosing)."
   ]
  },
  {
   "cell_type": "code",
   "execution_count": null,
   "id": "eea89c66",
   "metadata": {},
   "outputs": [],
   "source": []
  },
  {
   "cell_type": "markdown",
   "id": "941d3e54",
   "metadata": {},
   "source": [
    "2. Make some data that are straight line values from the same relationship as in 1. plus random noise. Plot these data."
   ]
  },
  {
   "cell_type": "code",
   "execution_count": null,
   "id": "7d136e81",
   "metadata": {},
   "outputs": [],
   "source": []
  },
  {
   "cell_type": "markdown",
   "id": "7cba8ac3",
   "metadata": {},
   "source": [
    "3. Plot the straight line from 1. and the data from 2. on the same graph. Make sure to add a legend."
   ]
  }
 ],
 "metadata": {
  "kernelspec": {
   "display_name": "Python 3 (ipykernel)",
   "language": "python",
   "name": "python3"
  },
  "language_info": {
   "codemirror_mode": {
    "name": "ipython",
    "version": 3
   },
   "file_extension": ".py",
   "mimetype": "text/x-python",
   "name": "python",
   "nbconvert_exporter": "python",
   "pygments_lexer": "ipython3",
   "version": "3.8.13"
  }
 },
 "nbformat": 4,
 "nbformat_minor": 5
}
