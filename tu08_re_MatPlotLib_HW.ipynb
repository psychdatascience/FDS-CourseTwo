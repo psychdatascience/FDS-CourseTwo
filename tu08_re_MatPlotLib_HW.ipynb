{
 "cells": [
  {
   "cell_type": "markdown",
   "id": "a22fa658",
   "metadata": {},
   "source": [
    "# matplotlib homework"
   ]
  },
  {
   "cell_type": "markdown",
   "id": "b5dc8b99",
   "metadata": {},
   "source": [
    "1. Make a plot of a straight line. Use `linspace()` to create the *x* values and the formula of a straight line, *y = a + b*x*, to create the *y* values (use an *a* and *b* of your choosing). You can pretend x and y are anything you like (x = time, y = international piracy or whatever)."
   ]
  },
  {
   "cell_type": "code",
   "execution_count": null,
   "id": "eea89c66",
   "metadata": {},
   "outputs": [],
   "source": []
  },
  {
   "cell_type": "markdown",
   "id": "941d3e54",
   "metadata": {},
   "source": [
    "2. Make some data that are straight line values from the same straight line relationship as in 1. plus random noise. Plot these data."
   ]
  },
  {
   "cell_type": "code",
   "execution_count": null,
   "id": "7d136e81",
   "metadata": {},
   "outputs": [],
   "source": []
  },
  {
   "cell_type": "markdown",
   "id": "7cba8ac3",
   "metadata": {},
   "source": [
    "3. Plot the straight line from 1. and the data from 2. on the same graph. Make sure to add the standard annotations, including a legend."
   ]
  },
  {
   "cell_type": "code",
   "execution_count": null,
   "id": "02405f4c",
   "metadata": {},
   "outputs": [],
   "source": []
  },
  {
   "cell_type": "markdown",
   "id": "9ba3cb6d",
   "metadata": {},
   "source": [
    "4. Tinker around with your plot (colors, symbols, marker sizes, etc.) until you have a plot you would be happy to use in a presentation. "
   ]
  },
  {
   "cell_type": "code",
   "execution_count": null,
   "id": "4f20f4fc",
   "metadata": {},
   "outputs": [],
   "source": []
  },
  {
   "cell_type": "markdown",
   "id": "4d85d41c",
   "metadata": {},
   "source": [
    "5. Make 500 ***normally*** distributed random numbers and make a histogram of them."
   ]
  },
  {
   "cell_type": "code",
   "execution_count": null,
   "id": "253dd962",
   "metadata": {},
   "outputs": [],
   "source": []
  },
  {
   "cell_type": "markdown",
   "id": "004b867c",
   "metadata": {},
   "source": [
    "6. Make 500 ***uniformly*** distributed random numbers (use `...rand()` instead of `...randn()`) and make a histogram of them."
   ]
  },
  {
   "cell_type": "code",
   "execution_count": null,
   "id": "abf45f42",
   "metadata": {},
   "outputs": [],
   "source": []
  },
  {
   "cell_type": "markdown",
   "id": "37cae691",
   "metadata": {},
   "source": [
    "7. Plot the histograms from 5. and 6. in the same axes to compare the two distributions. Tinker around with the `color = ` and `alpha = ` arguments to `plt.hist()` until you're happy with your figure. Don't forget the axis labels and a legend! "
   ]
  },
  {
   "cell_type": "code",
   "execution_count": null,
   "id": "01fe1ee1",
   "metadata": {},
   "outputs": [],
   "source": []
  },
  {
   "cell_type": "markdown",
   "id": "1d49d6a2",
   "metadata": {},
   "source": [
    "8. Make a figure with 3 subplots, the first containing the plot of the data with a straight line (from 3.), and the second and third containing each of the 2 histograms created in 5. and 6. Try a 3x1 and  1x3 layout and show your favorite."
   ]
  },
  {
   "cell_type": "code",
   "execution_count": null,
   "id": "05757ad7",
   "metadata": {},
   "outputs": [],
   "source": []
  }
 ],
 "metadata": {
  "kernelspec": {
   "display_name": "Python 3 (ipykernel)",
   "language": "python",
   "name": "python3"
  },
  "language_info": {
   "codemirror_mode": {
    "name": "ipython",
    "version": 3
   },
   "file_extension": ".py",
   "mimetype": "text/x-python",
   "name": "python",
   "nbconvert_exporter": "python",
   "pygments_lexer": "ipython3",
   "version": "3.8.13"
  }
 },
 "nbformat": 4,
 "nbformat_minor": 5
}
