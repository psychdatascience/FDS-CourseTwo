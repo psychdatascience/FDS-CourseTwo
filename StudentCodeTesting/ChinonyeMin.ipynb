{
 "cells": [
  {
   "cell_type": "code",
   "execution_count": 1,
   "metadata": {},
   "outputs": [],
   "source": [
    "import numpy as np\n",
    "import matplotlib.pyplot as plt\n",
    "\n",
    "ADDvalue = 10\n",
    "\n",
    "data = np.linspace(-ADDvalue, ADDvalue, 100)\n"
   ]
  },
  {
   "cell_type": "code",
   "execution_count": null,
   "metadata": {},
   "outputs": [],
   "source": [
    "\n",
    "# Step 1: Define the quadratic function\n",
    "def quadratic_function(x, a=1, b=-3, c=2):\n",
    "    return a * x**2 + b * x + c\n"
   ]
  },
  {
   "cell_type": "code",
   "execution_count": null,
   "metadata": {},
   "outputs": [],
   "source": [
    "\n",
    "# Step 2: Create a range of x values to search\n",
    "# More help: Generates 100 (is 100 enough or do you need a 1000?) points between\n",
    "# a negative value of your choice and another value of yoru choice, positive\n",
    "x_values = np.linspace(-ADDvalue, ADDvalue, 100)  \n"
   ]
  },
  {
   "cell_type": "code",
   "execution_count": null,
   "metadata": {},
   "outputs": [],
   "source": [
    "\n",
    "# Step 3: Initialize variables to track the minimum value\n",
    "min_x = None            # The x value of the minimum point\n",
    "min_f_x = float('inf')  # Current minimum value - start with a large number\n"
   ]
  },
  {
   "cell_type": "code",
   "execution_count": null,
   "metadata": {},
   "outputs": [],
   "source": [
    "\n",
    "# Step 4: Iterate over x_values and find the minimum function value\n",
    "### IMPLEMENT YOUR SOLUTION HERE ###\n",
    "modeldata = np.zeros(x_values.shape)\n",
    "y_outs = []\n",
    "costs = []\n",
    "\n",
    "for index, x_in in enumerate(x_values):\n",
    "    y_out = quadratic_function(x_in)\n",
    "    y_outs.append(y_out)\n",
    "   \n",
    "    modeldata[index] = y_out\n",
    "    errors = data - modeldata\n",
    "    cost = np.sum(errors**2)\n",
    "    costs.append(cost)\n",
    "\n",
    "min_f_x = np.min(costs)\n",
    "min_f_x_indx = np.argmin(costs)\n",
    "min_x = x_values[min_f_x_indx]\n",
    "   \n"
   ]
  },
  {
   "cell_type": "code",
   "execution_count": null,
   "metadata": {},
   "outputs": [],
   "source": [
    "\n",
    "# Step 5: Print the results\n",
    "print(f\"Optimal x: {min_x:.4f}, Minimum f(x): {min_f_x:.4f}\")\n",
    "\n",
    "plt.plot(x_values, costs)\n",
    "\n",
    "import numpy as np\n",
    "import matplotlib.pyplot as plt\n",
    "\n",
    "ADDvalue = 10\n",
    "\n",
    "data = np.linspace(-ADDvalue, ADDvalue, 100)\n"
   ]
  },
  {
   "cell_type": "code",
   "execution_count": null,
   "metadata": {},
   "outputs": [],
   "source": [
    "\n",
    "# Step 1: Define the quadratic function\n",
    "def quadratic_function(x, a=1, b=-3, c=2):\n",
    "    return a * x**2 + b * x + c\n"
   ]
  },
  {
   "cell_type": "code",
   "execution_count": null,
   "metadata": {},
   "outputs": [],
   "source": [
    "\n",
    "# Step 2: Create a range of x values to search\n",
    "# More help: Generates 100 (is 100 enough or do you need a 1000?) points between\n",
    "# a negative value of your choice and another value of yoru choice, positive\n",
    "x_values = np.linspace(-ADDvalue, ADDvalue, 100)  \n"
   ]
  },
  {
   "cell_type": "code",
   "execution_count": null,
   "metadata": {},
   "outputs": [],
   "source": [
    "\n",
    "# Step 3: Initialize variables to track the minimum value\n",
    "min_x = None\n",
    "min_f_x = float('inf')  # Start with a large number\n"
   ]
  },
  {
   "cell_type": "code",
   "execution_count": null,
   "metadata": {},
   "outputs": [],
   "source": [
    "\n",
    "# Step 4: Iterate over x_values and find the minimum function value\n",
    "### IMPLEMENT YOUR SOLUTION HERE ###\n",
    "modeldata = np.zeros(x_values.shape)\n",
    "y_outs = []\n",
    "costs = []\n",
    "\n",
    "for index, x_in in enumerate(x_values):\n",
    "    y_out = quadratic_function(x_in)\n",
    "    y_outs.append(y_out)\n",
    "   \n",
    "    modeldata[index] = y_out\n",
    "    errors = data - modeldata\n",
    "    cost = np.sum(errors**2)\n",
    "    costs.append(cost)\n",
    "\n",
    "min_f_x = np.min(costs)\n",
    "min_f_x_indx = np.argmin(costs)\n",
    "min_x = x_values[min_f_x_indx]\n",
    "   \n"
   ]
  },
  {
   "cell_type": "code",
   "execution_count": null,
   "metadata": {},
   "outputs": [],
   "source": [
    "\n",
    "# Step 5: Print the results\n",
    "print(f\"Optimal x: {min_x:.4f}, Minimum f(x): {min_f_x:.4f}\")\n",
    "\n",
    "plt.plot(x_values, costs)\n",
    "import numpy as np\n",
    "import matplotlib.pyplot as plt\n",
    "\n",
    "ADDvalue = 10\n",
    "\n",
    "data = np.linspace(-ADDvalue, ADDvalue, 100)\n"
   ]
  }
 ],
 "metadata": {
  "kernelspec": {
   "display_name": "base",
   "language": "python",
   "name": "python3"
  },
  "language_info": {
   "codemirror_mode": {
    "name": "ipython",
    "version": 3
   },
   "file_extension": ".py",
   "mimetype": "text/x-python",
   "name": "python",
   "nbconvert_exporter": "python",
   "pygments_lexer": "ipython3",
   "version": "3.11.8"
  }
 },
 "nbformat": 4,
 "nbformat_minor": 2
}
