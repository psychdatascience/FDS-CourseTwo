{
 "cells": [
  {
   "cell_type": "markdown",
   "id": "4be0a554",
   "metadata": {},
   "source": [
    "## File System Exploration and Easter Egg Hunt"
   ]
  },
  {
   "cell_type": "markdown",
   "id": "20024e75",
   "metadata": {},
   "source": [
    "Open a terminal (Mac, Linux) or a terminal or powershell (Windows). Note for Windows users, make sure you are using Terminal or Powershell, not the older Console so that the commands are all the same as for Linux.\n",
    "\n",
    "Verify that you're in your home directory with `pwd` (Print Working Directory).\n",
    "\n",
    "If you're not, magically transport yourself there with `cd ~` (Change Directory to home).\n",
    "\n",
    "Look at the files and folders in your home directory using `ls`. Also look using `ls -p`, which will put a `/` after anything that is a directory.\n",
    "\n",
    "The purpose of most of the folders in your home directory will be clear (e.g. \"Pictures\" or \"Downloads\"), but some may not be (e.g. \"Library\"). Explore any and all of these mystery directories and see if you can figure out what they are for."
   ]
  },
  {
   "cell_type": "markdown",
   "id": "5f22d228",
   "metadata": {},
   "source": [
    "---\n",
    "Once you've explored your home directory, pop up to the root level (`cd /`). Explore these directories a little bit. Are there any directories that have the same names as directories in your home folder? If so, why might that be?"
   ]
  },
  {
   "cell_type": "markdown",
   "id": "ab4501e4",
   "metadata": {},
   "source": [
    "Show Larry or Franco any interesting things you find along the way."
   ]
  },
  {
   "cell_type": "markdown",
   "id": "6d08c1d0",
   "metadata": {},
   "source": [
    "---\n",
    "Type `date` into the terminal.   \n",
    "This is a \"command\" and, as such, it has to be instantiated in code somewhere. See if you can find it in your filesystem!  \n",
    "Here are a couple hints: 1) `date` is available to all potential users of your computer, not just you. 2) it is compiled code, and therefore a \"binary\".  \n",
    "Feel free to explore \"by hand\" using `cd` and `ls`.  \n",
    "You can also experiment with the `find` command.  \n",
    "The `find` command takes the form `find <path> -name \"wantedfile\".` "
   ]
  },
  {
   "cell_type": "markdown",
   "id": "1f614869",
   "metadata": {},
   "source": [
    "Here are two examples of the find command used from my home folder:  \n",
    "This finds anything named (exactly) \"PythonTesting\" in my Documents folder:\n",
    "![Simple find](images/Find.png)\n",
    "And this finds anything whose name starts with \"Python\" in my Documents folder:\n",
    "![Simple find](images/FindWildcard.png)"
   ]
  },
  {
   "cell_type": "markdown",
   "id": "74960011",
   "metadata": {},
   "source": [
    "The splat (\"\\*\") is a wildcard, meaning than anything will match it. It can go at the beginning or in the middle also, and you can use more than one (so, e.g., `*.*` would match any filename with an extension)."
   ]
  },
  {
   "cell_type": "markdown",
   "id": "63a80ca5",
   "metadata": {},
   "source": [
    "Once you've found date, try typing `cal` into your terminal. Assuming you have it, try finding it!  \n",
    "(If you can't find it and are getting frustrated, ask for help.)"
   ]
  },
  {
   "cell_type": "markdown",
   "id": "c629959a",
   "metadata": {},
   "source": [
    "---\n",
    "As our last easter egg hunt, consider that Python itself is also just launchable code. So let's try and find Python! (There actually might be multiple installations of Python on your computer.) Specifically, let's try and find iPython, which is a cool version of Python to run at the command line and is also what Jupyter Notebooks run under the hood.  \n",
    "Wherever it lurks, the actual file will be called \"ipython\".  \n",
    "Once you've found it, run it at the command line and do some Pythony things!!!"
   ]
  }
 ],
 "metadata": {
  "kernelspec": {
   "display_name": "Python 3 (ipykernel)",
   "language": "python",
   "name": "python3"
  },
  "language_info": {
   "codemirror_mode": {
    "name": "ipython",
    "version": 3
   },
   "file_extension": ".py",
   "mimetype": "text/x-python",
   "name": "python",
   "nbconvert_exporter": "python",
   "pygments_lexer": "ipython3",
   "version": "3.8.12"
  }
 },
 "nbformat": 4,
 "nbformat_minor": 5
}
