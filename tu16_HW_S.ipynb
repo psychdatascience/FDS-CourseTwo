{
 "cells": [
  {
   "cell_type": "markdown",
   "id": "1e738885-ca06-452d-8d0b-5e2721e22c7a",
   "metadata": {},
   "source": [
    "# Simulations Homework"
   ]
  },
  {
   "cell_type": "markdown",
   "id": "0138d47d-ae26-4215-a6bf-51bf35bc8aef",
   "metadata": {},
   "source": [
    "verify that \n",
    "\n",
    "- the same seed always yields the same sequence\n",
    "- different seeds yield different sequences\n",
    "\n"
   ]
  },
  {
   "cell_type": "code",
   "execution_count": null,
   "id": "783af54d-5114-4789-a792-3fd48fa362ce",
   "metadata": {},
   "outputs": [],
   "source": []
  },
  {
   "cell_type": "markdown",
   "id": "3b23da61-41c3-4d6a-a744-ff9a626069c1",
   "metadata": {},
   "source": [
    "---"
   ]
  },
  {
   "cell_type": "markdown",
   "id": "28f2cf31-7b22-4ee8-ba3f-c9b7ae70c14a",
   "metadata": {},
   "source": [
    "Compute the actual probability of getting n heads in a simulation. "
   ]
  },
  {
   "cell_type": "code",
   "execution_count": null,
   "id": "e54d2b90-dc11-4a96-b7b0-3acc02671f53",
   "metadata": {},
   "outputs": [],
   "source": [
    "sum(n_heads[n_heads == 0])"
   ]
  },
  {
   "cell_type": "markdown",
   "id": "8db36c23-6ebe-4eea-8dd6-1730b5b35273",
   "metadata": {},
   "source": [
    "Ditto n heads >= some number"
   ]
  },
  {
   "cell_type": "code",
   "execution_count": null,
   "id": "55375983-9ec5-4bfe-b132-63369da6c8e2",
   "metadata": {},
   "outputs": [],
   "source": [
    "sum(n_heads[n_heads >= 9])"
   ]
  },
  {
   "cell_type": "markdown",
   "id": "b06daa4e-0de7-4f18-9a14-1a59c4bc9664",
   "metadata": {},
   "source": [
    "---"
   ]
  },
  {
   "cell_type": "markdown",
   "id": "7129bfbd-bb0f-411e-a164-fce080b0cf4a",
   "metadata": {},
   "source": [
    "Make a biased coin without using `rng.binom()`"
   ]
  },
  {
   "cell_type": "code",
   "execution_count": null,
   "id": "8f62835a-24df-462c-89d8-c8926917e91a",
   "metadata": {},
   "outputs": [],
   "source": [
    "rng = np.random.default_rng()\n",
    "rng.random()"
   ]
  }
 ],
 "metadata": {
  "kernelspec": {
   "display_name": "Python 3 (ipykernel)",
   "language": "python",
   "name": "python3"
  },
  "language_info": {
   "codemirror_mode": {
    "name": "ipython",
    "version": 3
   },
   "file_extension": ".py",
   "mimetype": "text/x-python",
   "name": "python",
   "nbconvert_exporter": "python",
   "pygments_lexer": "ipython3",
   "version": "3.8.13"
  }
 },
 "nbformat": 4,
 "nbformat_minor": 5
}
