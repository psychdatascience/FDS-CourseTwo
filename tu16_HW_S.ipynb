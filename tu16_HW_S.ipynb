{
 "cells": [
  {
   "cell_type": "markdown",
   "id": "1e738885-ca06-452d-8d0b-5e2721e22c7a",
   "metadata": {},
   "source": [
    "# Simulations Homework"
   ]
  },
  {
   "cell_type": "code",
   "execution_count": 2,
   "id": "f34a5b63-af93-4e46-98c1-2dce26f8ca4d",
   "metadata": {},
   "outputs": [],
   "source": [
    "import numpy as np\n",
    "import seaborn as sns\n",
    "%matplotlib inline"
   ]
  },
  {
   "cell_type": "markdown",
   "id": "0138d47d-ae26-4215-a6bf-51bf35bc8aef",
   "metadata": {},
   "source": [
    "verify that \n",
    "\n",
    "- the same seed always yields the same sequence\n",
    "- different seeds yield different sequences\n",
    "\n"
   ]
  },
  {
   "cell_type": "code",
   "execution_count": null,
   "id": "783af54d-5114-4789-a792-3fd48fa362ce",
   "metadata": {},
   "outputs": [],
   "source": []
  },
  {
   "cell_type": "markdown",
   "id": "3b23da61-41c3-4d6a-a744-ff9a626069c1",
   "metadata": {},
   "source": [
    "---"
   ]
  },
  {
   "cell_type": "markdown",
   "id": "28f2cf31-7b22-4ee8-ba3f-c9b7ae70c14a",
   "metadata": {},
   "source": [
    "Compute the actual probability of getting n heads in a simulation. "
   ]
  },
  {
   "cell_type": "code",
   "execution_count": null,
   "id": "e54d2b90-dc11-4a96-b7b0-3acc02671f53",
   "metadata": {},
   "outputs": [],
   "source": [
    "sum(n_heads[n_heads == 0])"
   ]
  },
  {
   "cell_type": "markdown",
   "id": "8db36c23-6ebe-4eea-8dd6-1730b5b35273",
   "metadata": {},
   "source": [
    "Ditto n heads >= some number"
   ]
  },
  {
   "cell_type": "code",
   "execution_count": null,
   "id": "55375983-9ec5-4bfe-b132-63369da6c8e2",
   "metadata": {},
   "outputs": [],
   "source": [
    "sum(n_heads[n_heads >= 9])"
   ]
  },
  {
   "cell_type": "markdown",
   "id": "b06daa4e-0de7-4f18-9a14-1a59c4bc9664",
   "metadata": {},
   "source": [
    "---"
   ]
  },
  {
   "cell_type": "markdown",
   "id": "7129bfbd-bb0f-411e-a164-fce080b0cf4a",
   "metadata": {},
   "source": [
    "Make a biased coin without using `rng.binom()`"
   ]
  },
  {
   "cell_type": "code",
   "execution_count": null,
   "id": "8f62835a-24df-462c-89d8-c8926917e91a",
   "metadata": {},
   "outputs": [],
   "source": [
    "rng = np.random.default_rng()\n",
    "rng.random()"
   ]
  },
  {
   "cell_type": "markdown",
   "id": "4df13455-708a-4d87-8f5a-208e6decc580",
   "metadata": {},
   "source": [
    "---"
   ]
  },
  {
   "cell_type": "markdown",
   "id": "fc87017c-ffbf-408f-ae02-21ed695307de",
   "metadata": {},
   "source": [
    "Check the binomial approximation for the election simulations from the in-class notebook for the cases in which we did and didn't account for the poll-to-poll variability."
   ]
  },
  {
   "cell_type": "code",
   "execution_count": 58,
   "id": "97620e0c-8b48-4f41-a531-65b4ba96180b",
   "metadata": {},
   "outputs": [
    {
     "data": {
      "text/plain": [
       "158.11388300841898"
      ]
     },
     "execution_count": 58,
     "metadata": {},
     "output_type": "execute_result"
    }
   ],
   "source": [
    "np.sqrt(n_voters*p*(1-p))"
   ]
  },
  {
   "cell_type": "code",
   "execution_count": 59,
   "id": "71f95652-b207-4517-8e2f-e7ac0bd12d90",
   "metadata": {},
   "outputs": [
    {
     "data": {
      "text/plain": [
       "1134.0874522917356"
      ]
     },
     "execution_count": 59,
     "metadata": {},
     "output_type": "execute_result"
    }
   ],
   "source": [
    "np.std(elec_results)"
   ]
  },
  {
   "cell_type": "markdown",
   "id": "51ecbf00-1175-4fee-ae75-76441e3d28d7",
   "metadata": {},
   "source": [
    "---"
   ]
  },
  {
   "cell_type": "markdown",
   "id": "f188922e-6f5f-44cd-b380-e2e6d63598a8",
   "metadata": {},
   "source": [
    "Run election simulations for differently sized polls"
   ]
  },
  {
   "cell_type": "code",
   "execution_count": null,
   "id": "494cbe17-6eca-4d86-ae2d-6893da1490a2",
   "metadata": {
    "tags": []
   },
   "outputs": [],
   "source": []
  },
  {
   "cell_type": "markdown",
   "id": "8227f5e6-c746-4ef8-b817-28cf4870a58e",
   "metadata": {},
   "source": [
    "---"
   ]
  },
  {
   "cell_type": "markdown",
   "id": "e0c9647c-d50d-43a8-93f4-dd332fadb3fb",
   "metadata": {},
   "source": [
    "Re-write multi-poll code "
   ]
  },
  {
   "cell_type": "code",
   "execution_count": null,
   "id": "94d56328-e667-4389-989c-fc35688c7bda",
   "metadata": {},
   "outputs": [],
   "source": [
    "weights = np.array([0.5, 0.25, 0.25])\n",
    "grades = np.array([95, 85, 100])\n",
    "final_grade = sum(weights * grades)\n",
    "final_grade"
   ]
  },
  {
   "cell_type": "code",
   "execution_count": 4,
   "id": "38378cf4-c766-4baa-8cda-bba133e9e2ad",
   "metadata": {},
   "outputs": [],
   "source": [
    "ps = np.zeros((2, 3))"
   ]
  },
  {
   "cell_type": "code",
   "execution_count": 5,
   "id": "9199297e-9a78-4bec-a937-b6aa5e132d01",
   "metadata": {},
   "outputs": [
    {
     "data": {
      "text/plain": [
       "array([[0., 0., 0.],\n",
       "       [0., 0., 0.]])"
      ]
     },
     "execution_count": 5,
     "metadata": {},
     "output_type": "execute_result"
    }
   ],
   "source": [
    "ps"
   ]
  },
  {
   "cell_type": "markdown",
   "id": "9ec6a4ce-eb9c-46d0-bbaa-b62b7c431ce9",
   "metadata": {},
   "source": [
    "---"
   ]
  },
  {
   "cell_type": "markdown",
   "id": "89d80d36-5741-4534-89ca-e5c01480efb0",
   "metadata": {},
   "source": [
    "Weight polls by sample size"
   ]
  },
  {
   "cell_type": "code",
   "execution_count": null,
   "id": "19cad17b-ca5c-45c8-9e40-a4f68674abaf",
   "metadata": {},
   "outputs": [],
   "source": []
  }
 ],
 "metadata": {
  "kernelspec": {
   "display_name": "Python 3 (ipykernel)",
   "language": "python",
   "name": "python3"
  },
  "language_info": {
   "codemirror_mode": {
    "name": "ipython",
    "version": 3
   },
   "file_extension": ".py",
   "mimetype": "text/x-python",
   "name": "python",
   "nbconvert_exporter": "python",
   "pygments_lexer": "ipython3",
   "version": "3.8.13"
  }
 },
 "nbformat": 4,
 "nbformat_minor": 5
}
