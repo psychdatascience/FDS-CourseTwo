{
 "cells": [
  {
   "cell_type": "markdown",
   "id": "3d47b801",
   "metadata": {},
   "source": [
    "# Multi-axis figures: advanced methods "
   ]
  },
  {
   "cell_type": "markdown",
   "id": "12751b74",
   "metadata": {},
   "source": [
    "The `plt.plot()` way of making multi-panel (`axes`) figures is great for simple figures, consisting of anything from 1 panel figures to a 2x2 panel figure or so, where each panel is the same size.\n",
    "\n",
    "For more complicated figures, however, there are a few other ways to add multiple subplots to our figures that allow us more flexibility in terms of the sizes and layout of our subplots.\n",
    "\n",
    "In this tutorial, we will cover two of primary methods, which are using\n",
    "\n",
    "- `plt.subplots()` (note the 's' - `plt.subplots()` is different than `plt.subplot()`!), \n",
    "- a sub-plot mosaic (`subplot_mosaic()`), \n",
    "\n",
    "We'll also briefly describe the low-level method of using a \"grid specification\" (optional)"
   ]
  },
  {
   "cell_type": "markdown",
   "id": "21c5df72",
   "metadata": {},
   "source": [
    "### as always, let's import our libraries"
   ]
  },
  {
   "cell_type": "code",
   "execution_count": 1,
   "id": "68b7e408",
   "metadata": {},
   "outputs": [],
   "source": [
    "import numpy as np\n",
    "import matplotlib.pyplot as plt"
   ]
  },
  {
   "cell_type": "markdown",
   "id": "fe9cac5e",
   "metadata": {},
   "source": [
    "## Adding subplots with `subplots()`"
   ]
  },
  {
   "cell_type": "markdown",
   "id": "7f498da0",
   "metadata": {},
   "source": [
    "The \"go to\" alternative to `plt.subplot()` for figures with a simple grid of sub-plots with same size is `plt.subplots()`. This makes all of our subplots in one command, and gives us `axes` objects that we can use to do our plotting.\n",
    "\n",
    "Run the following code:"
   ]
  },
  {
   "cell_type": "code",
   "execution_count": null,
   "id": "2efd0728",
   "metadata": {
    "scrolled": false
   },
   "outputs": [],
   "source": [
    "fig, axs = plt.subplots(ncols=2, nrows=2)"
   ]
  },
  {
   "cell_type": "markdown",
   "id": "ff882442",
   "metadata": {},
   "source": [
    "What has it done?\n",
    "\n",
    "Notice that, in addition to making a 2x2 grid of axes, its return values have been assigned to `fig` and `axs` - let's look at these.\n",
    "\n",
    "The first, `fig`, refers to the entire figure, and we can use it to do figure level stuff, like set the overall background color.\n",
    "\n",
    "Now let's look at `axs`:"
   ]
  },
  {
   "cell_type": "code",
   "execution_count": null,
   "id": "5120101d",
   "metadata": {},
   "outputs": [],
   "source": [
    "axs"
   ]
  },
  {
   "cell_type": "markdown",
   "id": "96799f5e",
   "metadata": {},
   "source": [
    "Interesting, `axs` is an array! Like any other array, it has cells but, in this case, the cells contain the names of our `axes` objects. So if we wanted to do some plotting in the upper left cell, we would do `axs[0,0].plot(...)`, etc."
   ]
  },
  {
   "cell_type": "markdown",
   "id": "9b0cb0ee",
   "metadata": {},
   "source": [
    "##### Note: \n",
    "`fig` and `axs` are just variable names, and you can use whatever names you wish. Just like with `np` and `plt`, however, coders generally use `\"fig\"` for the figure, `\"ax\"` for a single `axes`, and `\"axs\"` for multiple `axes` objects."
   ]
  },
  {
   "cell_type": "markdown",
   "id": "a6909d20",
   "metadata": {},
   "source": [
    "Let's make some stuff to plot:"
   ]
  },
  {
   "cell_type": "code",
   "execution_count": 3,
   "id": "1490c5cc",
   "metadata": {},
   "outputs": [],
   "source": [
    "x = np.linspace(-10, 10, 10)\n",
    "y1 = x\n",
    "y2 = x**2\n",
    "y3 = x**3\n",
    "y4 = x**4"
   ]
  },
  {
   "cell_type": "markdown",
   "id": "28120cba",
   "metadata": {},
   "source": [
    "And plot:"
   ]
  },
  {
   "cell_type": "code",
   "execution_count": null,
   "id": "fc717ed0",
   "metadata": {},
   "outputs": [],
   "source": [
    "fig, axs = plt.subplots(ncols=2, nrows=2)\n",
    "\n",
    "axs[0, 0].plot(x, y1);\n",
    "axs[0, 1].plot(x, y2);\n",
    "axs[1, 0].plot(x, y3);\n",
    "axs[1, 1].plot(x, y4);"
   ]
  },
  {
   "cell_type": "markdown",
   "id": "c6c37552",
   "metadata": {},
   "source": [
    "So what advantages does this have over using `plt.subplot()`? We can see two right now. \n",
    "\n",
    "First, we don't have to re-specify the same grid every time we plot. \n",
    "\n",
    "Second, and more importantly, *we address the `axes` exactly as they are laid out in the figure* - we refer to each individual `axes` by it's location in the figure.\n",
    "\n",
    "A little pair of `for` loops will illustrate this nicely. We'll loop through the rows and columns, and put an annotation on each `axes` labeling it. Run the code below, and then *make sure you understand how the indexing is working before moving on*."
   ]
  },
  {
   "cell_type": "code",
   "execution_count": null,
   "id": "b4a3e6c8",
   "metadata": {
    "scrolled": false
   },
   "outputs": [],
   "source": [
    "fig, axs = plt.subplots(ncols=2, nrows=2)\n",
    "\n",
    "for row in range(2):\n",
    "    for col in range(2):\n",
    "        axs[row, col].text(0.3, 0.5, f'Hi! I\\'m axs[{row}, {col}]')\n",
    "\n",
    "fig.suptitle('subplots()!');"
   ]
  },
  {
   "cell_type": "markdown",
   "id": "51eeb6c3",
   "metadata": {},
   "source": [
    "Notice that we also used `fig` to put a title on the whole figure."
   ]
  },
  {
   "cell_type": "markdown",
   "id": "140bdc04",
   "metadata": {},
   "source": [
    "But wait! There's more! If we can easily address our plots with `for` loops, why not automatically grab and plot our data using the `for` loops as well? To do this, we'll just put our data in a nested Python list that has exactly the same 2x2 structure as our figure."
   ]
  },
  {
   "cell_type": "code",
   "execution_count": 4,
   "id": "265d0b67",
   "metadata": {},
   "outputs": [],
   "source": [
    "y = [[y1, y2],\n",
    "    [y3, y4]]"
   ]
  },
  {
   "cell_type": "markdown",
   "id": "16a45872",
   "metadata": {},
   "source": [
    "And now we add our plotting into in the inner `for` loop, grabbing the data with `y[row][column]` as we go."
   ]
  },
  {
   "cell_type": "code",
   "execution_count": null,
   "id": "564b9efe",
   "metadata": {},
   "outputs": [],
   "source": [
    "fig, axs = plt.subplots(ncols=2, nrows=2)\n",
    "\n",
    "for row in range(2):\n",
    "    for col in range(2):\n",
    "        axs[row, col].plot(x, y[row][col])\n",
    "        axs[row, col].text(0.5, 0.5, f'Hi! I\\'m axs[{row}, {col}]')\n",
    "\n",
    "fig.suptitle('grapping data in the loop(s)');"
   ]
  },
  {
   "cell_type": "markdown",
   "id": "3bbe3ee1",
   "metadata": {},
   "source": [
    "Now that we have all our plotting and annotating in one place, we can add or change things that will automatically affect all the plots. No need to copy and paste!\n",
    "\n",
    "For example, you may have noticed above that the positions of our annotations got messed up. This is because the positions were set assuming that the x and y axes both went from 0 to 1, which is no longer true. But we can tell our annotation to use the zero-to-one coordinate system instead of using data coordinates by using the `transform` property that `artists` have.\n",
    "\n",
    "We can also make all our plots light blue, just for the heck of it."
   ]
  },
  {
   "cell_type": "code",
   "execution_count": null,
   "id": "e2da678a",
   "metadata": {},
   "outputs": [],
   "source": [
    "fig, axs = plt.subplots(ncols=2, nrows=2)\n",
    "\n",
    "for row in range(2):\n",
    "    for col in range(2):\n",
    "        axs[row, col].plot(x, y[row][col])\n",
    "        axs[row, col].text(0.3, 0.5, f'Hi! I\\'m axs[{row}, {col}]', \n",
    "                           transform=axs[row, col].transAxes)        # tell the text to use 0-1 coords\n",
    "        axs[row, col].set_facecolor('lightblue')\n",
    "        \n",
    "fig.suptitle('adding simple stuff in the loop(s)');"
   ]
  },
  {
   "cell_type": "markdown",
   "id": "b749ec43",
   "metadata": {},
   "source": [
    "We can get even fancier by storing plot customizations like lines, markers, font sizes, etc. so that we can access them with our loop(s)."
   ]
  },
  {
   "cell_type": "code",
   "execution_count": 6,
   "id": "8d76e147",
   "metadata": {},
   "outputs": [],
   "source": [
    "lspec = [['r:', 'b-o'], ['k--d', 'gs']]"
   ]
  },
  {
   "cell_type": "code",
   "execution_count": null,
   "id": "423197f5",
   "metadata": {},
   "outputs": [],
   "source": [
    "fig, axs = plt.subplots(ncols=2, nrows=2)\n",
    "\n",
    "for row in range(2):\n",
    "    for col in range(2):\n",
    "        axs[row, col].plot(x, y[row][col], lspec[row][col])\n",
    "        axs[row, col].text(0.3, 0.5, f'Hi! I\\'m axs[{row}, {col}]', \n",
    "                           transform=axs[row, col].transAxes)\n",
    "                           \n",
    "fig.suptitle('axes customization');"
   ]
  },
  {
   "cell_type": "markdown",
   "id": "3d2e97f9",
   "metadata": {},
   "source": [
    "---"
   ]
  },
  {
   "cell_type": "markdown",
   "id": "80371803",
   "metadata": {},
   "source": [
    "In the code cell below, make something about the text (e.g. font size, color) different for each plot. Don't cheat: do it inside the for loops!"
   ]
  },
  {
   "cell_type": "code",
   "execution_count": null,
   "id": "42c364e1",
   "metadata": {},
   "outputs": [],
   "source": []
  },
  {
   "cell_type": "markdown",
   "id": "ca908302",
   "metadata": {},
   "source": [
    "---"
   ]
  },
  {
   "cell_type": "markdown",
   "id": "bbc8b7f8",
   "metadata": {},
   "source": [
    "#### Making room for annotations"
   ]
  },
  {
   "cell_type": "markdown",
   "id": "7eddcc23",
   "metadata": {},
   "source": [
    "You can specify the overall size of the figure. We often want to make it larger than the default in order to make room for axis labels and suchlike.\n",
    "\n",
    "There is also an option to set the layout of the figure to be \"constrained\" – this tries to adjust things so that everything fits in the figure without overlapping.\n",
    "\n",
    "Here, we'll bump the figure size up and set the layout to \"constrained\" and take a look."
   ]
  },
  {
   "cell_type": "code",
   "execution_count": 8,
   "id": "a3fc3cf7",
   "metadata": {
    "scrolled": false
   },
   "outputs": [
    {
     "data": {
      "image/png": "[encoded data removed]",
      "text/plain": [
       "<Figure size 550x350 with 4 Axes>"
      ]
     },
     "metadata": {},
     "output_type": "display_data"
    }
   ],
   "source": [
    "lspec = [['r:', 'b-o'], ['k--d', 'gs']]\n",
    "fsizes = [[10, 12], [14, 16]]\n",
    "\n",
    "fig, axs = plt.subplots(ncols=2, nrows=2, figsize=(5.5, 3.5),\n",
    "                        layout=\"constrained\")\n",
    "# add an artist, in this case a nice label in the middle...\n",
    "for row in range(2):\n",
    "    for col in range(2):\n",
    "        axs[row, col].plot(x, y[row][col], lspec[row][col])\n",
    "        axs[row, col].text(0.1, 0.8, f'Hi! I\\'m axs[{row}, {col}]', \n",
    "                           transform=axs[row, col].transAxes,\n",
    "                           fontsize = fsizes[row][col])\n",
    "\n",
    "fig.suptitle('bigger with constrained layout');"
   ]
  },
  {
   "cell_type": "markdown",
   "id": "b73bf944",
   "metadata": {},
   "source": [
    "#### Setting the aspect ratio of plots (and flat iteration)"
   ]
  },
  {
   "cell_type": "markdown",
   "id": "973fdf67",
   "metadata": {},
   "source": [
    "Sometimes we want to set the aspect ratio (height/width) of plots ourselves. We might want the plots to be square, for example, so that the unit circle looks like a circle and not an ellipse.\n",
    "\n",
    "Below, we'll set all the `axes` to have an aspect ratio of 1.0. Because we want to do exactly the same thing to every plot, we don't need to keep track of which row or column we are in, we just need to step through the plots. For these situations, the `axs` array created by `sub_plots()` can generate an iterator, `axs.flat`, that we can use with a single `loop` to go through our plots."
   ]
  },
  {
   "cell_type": "code",
   "execution_count": null,
   "id": "b0b45873",
   "metadata": {},
   "outputs": [],
   "source": [
    "fig, axs = plt.subplots(2, 2, layout=\"constrained\", figsize=(5.5, 3.5))\n",
    "\n",
    "for ax in axs.flat:\n",
    "    ax.set_aspect(1)\n",
    "\n",
    "fig.suptitle('Fixed aspect ratio Axes');"
   ]
  },
  {
   "cell_type": "markdown",
   "id": "a5372de0",
   "metadata": {},
   "source": [
    "#### Tightening up the layout"
   ]
  },
  {
   "cell_type": "markdown",
   "id": "14ace114",
   "metadata": {},
   "source": [
    "We can play around with the figure size to clean things up. In the code cell below, play around with the figure size to make a plot layout that has room, but not too much room, for annotations."
   ]
  },
  {
   "cell_type": "code",
   "execution_count": null,
   "id": "b4754c15",
   "metadata": {
    "scrolled": false
   },
   "outputs": [],
   "source": [
    "fig, axs = plt.subplots(2, 2, layout=\"constrained\", figsize=(6, 3))\n",
    "\n",
    "for ax in axs.flat:\n",
    "    ax.set_aspect(1)\n",
    "\n",
    "fig.suptitle('better fixed aspect ratio plot');"
   ]
  },
  {
   "cell_type": "markdown",
   "id": "e2690ab9",
   "metadata": {},
   "source": [
    "#### Setting a panel to blank"
   ]
  },
  {
   "cell_type": "markdown",
   "id": "c0f351bd",
   "metadata": {},
   "source": [
    "Sometimes we might not need one of our subplots. For example, what if want to show a scatter plot along with histograms of the x and y values? In this case, we can just turn of the `axis` objects for that `axes`:"
   ]
  },
  {
   "cell_type": "code",
   "execution_count": null,
   "id": "594e9f48",
   "metadata": {},
   "outputs": [],
   "source": [
    "fig, axs = plt.subplots(2, 2, layout=\"constrained\", figsize=(4.5, 4.0))\n",
    "\n",
    "for ax in axs.flat:\n",
    "    ax.set_aspect(1)\n",
    "\n",
    "axs[1,1].axis('off')\n",
    "fig.suptitle('a blank sub-panel');"
   ]
  },
  {
   "cell_type": "markdown",
   "id": "9cfe961f",
   "metadata": {},
   "source": [
    "---"
   ]
  },
  {
   "cell_type": "markdown",
   "id": "f4720927",
   "metadata": {},
   "source": [
    "### making a complete figure"
   ]
  },
  {
   "cell_type": "markdown",
   "id": "1ba9221c",
   "metadata": {},
   "source": [
    "Recycling some of the code from above, make a nice plot that shows the first four polynomials in four subplots. The figure should include x- and y-axis labels, titles for the subplots, etc. Tinker with it until looks nice and isn't cluttered. (Remember, you don't necessarily need axis labels for every subplot if some of them are redundant."
   ]
  },
  {
   "cell_type": "code",
   "execution_count": null,
   "id": "ba7322c3",
   "metadata": {},
   "outputs": [],
   "source": []
  },
  {
   "cell_type": "markdown",
   "id": "851dc212",
   "metadata": {},
   "source": [
    "---"
   ]
  },
  {
   "cell_type": "markdown",
   "id": "8c44c23e",
   "metadata": {},
   "source": [
    "## Adding subplots with `subplot_mosaic()`"
   ]
  },
  {
   "cell_type": "markdown",
   "id": "8f655e61",
   "metadata": {},
   "source": [
    "While `subplots()` returns an array of `axes` objects that we address by indexing, `subplot_mosaic()` offers us an alternative that returns a Python *dict* that we address by its keys. \n",
    "\n",
    "We provide the dict keys we want to `subplot_mosaic()` in a Python list that specifies the plot layout we want.\n",
    "\n",
    "Like this."
   ]
  },
  {
   "cell_type": "code",
   "execution_count": null,
   "id": "2163b54e",
   "metadata": {},
   "outputs": [],
   "source": [
    "fig, axd = plt.subplot_mosaic([['line', 'parabola'],\n",
    "                               ['cubic', 'quartic']],\n",
    "                              figsize=(5.5, 3.5), layout=\"constrained\")\n",
    "\n",
    "axd['parabola'].plot(x, y2)\n",
    "    \n",
    "fig.suptitle('subplot_mosaic()!');"
   ]
  },
  {
   "cell_type": "markdown",
   "id": "e60c2783",
   "metadata": {},
   "source": [
    "Note that here we named our dictionary of `axes` objects \"`axd`\". Let's look at it."
   ]
  },
  {
   "cell_type": "code",
   "execution_count": null,
   "id": "e95dda04",
   "metadata": {},
   "outputs": [],
   "source": [
    "axd"
   ]
  },
  {
   "cell_type": "markdown",
   "id": "d3d28a4e",
   "metadata": {},
   "source": [
    "So it contains the same sort of `axes` objects (the \"AxesSubplot\" things), but just in a dictionary instead of an array."
   ]
  },
  {
   "cell_type": "markdown",
   "id": "c7499ede",
   "metadata": {},
   "source": [
    "We can still loop through our plots to do stuff, but because the plots are addressed by name (key) instead of position (row and column), we can do it with a single loop."
   ]
  },
  {
   "cell_type": "code",
   "execution_count": null,
   "id": "6bf99ff5",
   "metadata": {},
   "outputs": [],
   "source": [
    "fig, axd = plt.subplot_mosaic([['upper left', 'upper right'],\n",
    "                               ['lower left', 'lower right']],\n",
    "                              figsize=(5.5, 3.5), layout=\"constrained\")\n",
    "for k in axd:\n",
    "    axd[k].text(0.2, 0.5, f'Hi! I\\'m axd[{k}]')\n",
    "    \n",
    "fig.suptitle('subplot_mosaic() loop');"
   ]
  },
  {
   "cell_type": "markdown",
   "id": "1a51c68f",
   "metadata": {},
   "source": [
    "---"
   ]
  },
  {
   "cell_type": "markdown",
   "id": "444d3cf8",
   "metadata": {},
   "source": [
    "In the code cell below, use `subplot_mosaic` and a `for` loop to make a figure with four plots (line through quartic), like the ones we made with `subplots()` above. "
   ]
  },
  {
   "cell_type": "code",
   "execution_count": null,
   "id": "e945c92a",
   "metadata": {},
   "outputs": [],
   "source": []
  },
  {
   "cell_type": "markdown",
   "id": "e5741bf2",
   "metadata": {},
   "source": [
    "(hint: you'll need to change the way the data are stored)"
   ]
  },
  {
   "cell_type": "markdown",
   "id": "2b1d0e8f",
   "metadata": {},
   "source": [
    "---"
   ]
  },
  {
   "cell_type": "markdown",
   "id": "3e4d7c6f",
   "metadata": {},
   "source": [
    "### Making fancier layouts with `subplot_mosaic`"
   ]
  },
  {
   "cell_type": "markdown",
   "id": "072984fb",
   "metadata": {},
   "source": [
    "A really great thing about using `subplot_mosaic()` is that we can have a single subplot span multiple rows or columns of the figure just by naming them accordingly:"
   ]
  },
  {
   "cell_type": "code",
   "execution_count": null,
   "id": "afa17bc6",
   "metadata": {},
   "outputs": [],
   "source": [
    "datad = {'line': y1, 'parabola': y2, 'cubic': y3}        # dictionary for accessing data\n",
    "\n",
    "fig, axd = plt.subplot_mosaic([['line', 'cubic'],        # make 'cubic' span rows of right column\n",
    "                               ['parabola', 'cubic']],\n",
    "                              figsize=(5.5, 3.5), layout=\"constrained\")\n",
    "for k in axd:\n",
    "    axd[k].plot(x, datad[k])\n",
    "\n",
    "fig.suptitle('oh, fancy!');"
   ]
  },
  {
   "cell_type": "markdown",
   "id": "12d643ce",
   "metadata": {},
   "source": [
    "### Finer control with a grid specification (gridspec)"
   ]
  },
  {
   "cell_type": "markdown",
   "id": "3b533a50",
   "metadata": {},
   "source": [
    "We can have finer control over our rows and columns using a \"grid specification\". Using `subplot_mosaic()`, we can specify some details of the figure layout using the optional `gridspec_kw` argument. This argument takes a dictionary that allows us to specify the relative sizes of the rows and columns and the spacing between them.\n",
    "\n",
    "In the example below, we'll make left column and the top row relatively small:"
   ]
  },
  {
   "cell_type": "code",
   "execution_count": null,
   "id": "ef655e6a",
   "metadata": {},
   "outputs": [],
   "source": [
    "datad = {'line': y1, 'parabola': y2, 'cubic': y3}\n",
    "\n",
    "gs_kw = dict(width_ratios=[1, 1.5], height_ratios=[1, 2]) # dict to set relative sizes of cols and rows\n",
    "\n",
    "fig, axd = plt.subplot_mosaic([['line', 'cubic'],\n",
    "                               ['parabola', 'cubic']],\n",
    "                              gridspec_kw=gs_kw,         # passing the dict to subplot_mosaic\n",
    "                              figsize=(5.5, 3.5), \n",
    "                              layout=\"constrained\")\n",
    "\n",
    "for k in axd:\n",
    "    axd[k].plot(x, datad[k])\n",
    "\n",
    "fig.suptitle('mulitple size plots');"
   ]
  },
  {
   "cell_type": "markdown",
   "id": "580f54a6",
   "metadata": {},
   "source": [
    "Each number in the xxx_ratios entry is the size of a row or column relative to the total height or width of the figure. So, in the example above, the top row is 1/3 of the figure and the bottom row is 2/3."
   ]
  },
  {
   "cell_type": "markdown",
   "id": "ee35c6f9",
   "metadata": {},
   "source": [
    "Crucially, we can also specify the amount of spacing between the rows and columns (to make room for labels, etc.)."
   ]
  },
  {
   "cell_type": "code",
   "execution_count": null,
   "id": "c462464c",
   "metadata": {},
   "outputs": [],
   "source": [
    "datad = {'line': y1, 'parabola': y2, 'cubic': y3}\n",
    "\n",
    "gs_kw = dict(width_ratios=[1.4, 1], \n",
    "             height_ratios=[1, 2],\n",
    "             wspace=0.1, hspace=0.1)                   # spacing between the rows and cols\n",
    "\n",
    "fig, axd = plt.subplot_mosaic([['line', 'cubic'],\n",
    "                               ['parabola', 'cubic']],\n",
    "                              gridspec_kw=gs_kw, \n",
    "                              figsize=(5.5, 3.5), \n",
    "                              layout=\"constrained\")\n",
    "\n",
    "for k in axd:\n",
    "    axd[k].plot(x, datad[k])\n",
    "    \n",
    "\n",
    "fig.suptitle('space: the final frontier');"
   ]
  },
  {
   "cell_type": "markdown",
   "id": "7a658f52",
   "metadata": {},
   "source": [
    "---"
   ]
  },
  {
   "cell_type": "markdown",
   "id": "bac0c863",
   "metadata": {},
   "source": [
    "In the cell below, improve the figure above with annotations (axis labels, etc.)"
   ]
  },
  {
   "cell_type": "code",
   "execution_count": null,
   "id": "afce3d0f",
   "metadata": {},
   "outputs": [],
   "source": []
  },
  {
   "cell_type": "markdown",
   "id": "4d86cf5c",
   "metadata": {},
   "source": [
    "---"
   ]
  },
  {
   "cell_type": "markdown",
   "id": "48acf198",
   "metadata": {},
   "source": [
    "### Adding individual subplots with a gridspec (optional)"
   ]
  },
  {
   "cell_type": "markdown",
   "id": "32d355b8",
   "metadata": {},
   "source": [
    "Finally, we can add subfigures manually by \n",
    "\n",
    "* making a figure\n",
    "* adding a gridspec to the figure\n",
    "* adding plots by specifying their locations on the gridspec using numpy indexing\n",
    "\n",
    "This \"low level\" method is actually what happens behind the curtain when we specify a `gridspec_kw` argument as we did above.\n",
    "\n",
    "Here's an example:"
   ]
  },
  {
   "cell_type": "code",
   "execution_count": null,
   "id": "fcc00d17",
   "metadata": {},
   "outputs": [],
   "source": [
    "fig = plt.figure(figsize=(5.5, 3.5), layout=\"constrained\")  # make a figure\n",
    "spec = fig.add_gridspec(2, 2)                               # specify the grid of subplots\n",
    "\n",
    "ax0 = fig.add_subplot(spec[0, :])                           # a subplot spanning the whole first row\n",
    "ax0.text(0.2, 0.5, \"a whole row!\")\n",
    "\n",
    "ax10 = fig.add_subplot(spec[1, 0])\n",
    "ax10.text(0.2, 0.5, \"lower left\")\n",
    "\n",
    "ax11 = fig.add_subplot(spec[1, 1])\n",
    "ax11.text(0.2, 0.5, \"lower right\")\n",
    "\n",
    "fig.suptitle('Manually added subplots, one spanning all columns');"
   ]
  },
  {
   "cell_type": "markdown",
   "id": "8669e76c",
   "metadata": {},
   "source": [
    "We can also specify the heights, widths, spacing, etc. in the call to `fig.add_gridspec()`. "
   ]
  }
 ],
 "metadata": {
  "kernelspec": {
   "display_name": "Python 3 (ipykernel)",
   "language": "python",
   "name": "python3"
  },
  "language_info": {
   "codemirror_mode": {
    "name": "ipython",
    "version": 3
   },
   "file_extension": ".py",
   "mimetype": "text/x-python",
   "name": "python",
   "nbconvert_exporter": "python",
   "pygments_lexer": "ipython3",
   "version": "3.8.13"
  }
 },
 "nbformat": 4,
 "nbformat_minor": 5
}
