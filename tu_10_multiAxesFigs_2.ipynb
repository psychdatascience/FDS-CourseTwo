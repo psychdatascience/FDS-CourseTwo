{
 "cells": [
  {
   "cell_type": "markdown",
   "id": "fe9cac5e",
   "metadata": {},
   "source": [
    "### adding subplots with `subplots()`"
   ]
  },
  {
   "cell_type": "code",
   "execution_count": 1,
   "id": "3c4fdb53",
   "metadata": {},
   "outputs": [
    {
     "ename": "NameError",
     "evalue": "name 'plt' is not defined",
     "output_type": "error",
     "traceback": [
      "\u001b[0;31m---------------------------------------------------------------------------\u001b[0m",
      "\u001b[0;31mNameError\u001b[0m                                 Traceback (most recent call last)",
      "Cell \u001b[0;32mIn[1], line 1\u001b[0m\n\u001b[0;32m----> 1\u001b[0m fig, axs \u001b[38;5;241m=\u001b[39m \u001b[43mplt\u001b[49m\u001b[38;5;241m.\u001b[39msubplots(ncols\u001b[38;5;241m=\u001b[39m\u001b[38;5;241m2\u001b[39m, nrows\u001b[38;5;241m=\u001b[39m\u001b[38;5;241m2\u001b[39m, figsize\u001b[38;5;241m=\u001b[39m(\u001b[38;5;241m5.5\u001b[39m, \u001b[38;5;241m3.5\u001b[39m),\n\u001b[1;32m      2\u001b[0m                         layout\u001b[38;5;241m=\u001b[39m\u001b[38;5;124m\"\u001b[39m\u001b[38;5;124mconstrained\u001b[39m\u001b[38;5;124m\"\u001b[39m)\n\u001b[1;32m      3\u001b[0m \u001b[38;5;66;03m# add an artist, in this case a nice label in the middle...\u001b[39;00m\n\u001b[1;32m      4\u001b[0m \u001b[38;5;28;01mfor\u001b[39;00m row \u001b[38;5;129;01min\u001b[39;00m \u001b[38;5;28mrange\u001b[39m(\u001b[38;5;241m2\u001b[39m):\n",
      "\u001b[0;31mNameError\u001b[0m: name 'plt' is not defined"
     ]
    }
   ],
   "source": [
    "fig, axs = plt.subplots(ncols=2, nrows=2, figsize=(5.5, 3.5),\n",
    "                        layout=\"constrained\")\n",
    "# add an artist, in this case a nice label in the middle...\n",
    "for row in range(2):\n",
    "    for col in range(2):\n",
    "        axs[row, col].annotate(f'axs[{row}, {col}]', (0.5, 0.5),\n",
    "                               transform=axs[row, col].transAxes,\n",
    "                               ha='center', va='center', fontsize=18,\n",
    "                               color='darkgrey')\n",
    "fig.suptitle('plt.subplots()')"
   ]
  },
  {
   "cell_type": "markdown",
   "id": "48acf198",
   "metadata": {},
   "source": [
    "### adding subplots with a gridspec\n"
   ]
  },
  {
   "cell_type": "code",
   "execution_count": null,
   "id": "dfd01564",
   "metadata": {},
   "outputs": [],
   "source": [
    "# Start with a square Figure.\n",
    "fig = plt.figure(figsize=(6, 6))\n",
    "# Add a gridspec with two rows and two columns and a ratio of 1 to 4 between\n",
    "# the size of the marginal axes and the main axes in both directions.\n",
    "# Also adjust the subplot parameters for a square plot.\n",
    "gs = fig.add_gridspec(2, 2,  width_ratios=(4, 1), height_ratios=(1, 4),\n",
    "                      left=0.1, right=0.9, bottom=0.1, top=0.9,\n",
    "                      wspace=0.05, hspace=0.05)\n",
    "# Create the Axes.\n",
    "ax = fig.add_subplot(gs[1, 0])\n",
    "ax_histx = fig.add_subplot(gs[0, 0], sharex=ax)\n",
    "ax_histy = fig.add_subplot(gs[1, 1], sharey=ax)\n",
    "\n",
    "\n",
    "# no labels\n",
    "ax_histx.tick_params(axis=\"x\", labelbottom=False)\n",
    "ax_histy.tick_params(axis=\"y\", labelleft=False)\n",
    "\n",
    "# the scatter plot:\n",
    "ax.scatter(x, y);\n",
    "\n",
    "# now determine nice limits by hand:\n",
    "#binwidth = 0.25\n",
    "#xymax = max(np.max(np.abs(x)), np.max(np.abs(y)))\n",
    "#lim = (int(xymax/binwidth) + 1) * binwidth\n",
    "#bins = np.arange(-lim, lim + binwidth, binwidth)\n",
    "\n",
    "ax_histx.hist(x);\n",
    "ax_histy.hist(y, orientation='horizontal');"
   ]
  }
 ],
 "metadata": {
  "kernelspec": {
   "display_name": "Python 3 (ipykernel)",
   "language": "python",
   "name": "python3"
  },
  "language_info": {
   "codemirror_mode": {
    "name": "ipython",
    "version": 3
   },
   "file_extension": ".py",
   "mimetype": "text/x-python",
   "name": "python",
   "nbconvert_exporter": "python",
   "pygments_lexer": "ipython3",
   "version": "3.8.13"
  }
 },
 "nbformat": 4,
 "nbformat_minor": 5
}
