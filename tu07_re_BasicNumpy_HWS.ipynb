{
 "cells": [
  {
   "cell_type": "markdown",
   "id": "1f1534b9",
   "metadata": {},
   "source": [
    "# Numpy review homework"
   ]
  },
  {
   "cell_type": "markdown",
   "id": "4db19bcf",
   "metadata": {},
   "source": [
    "1. Make a numpy matrix from a Python list of lists..."
   ]
  },
  {
   "cell_type": "code",
   "execution_count": 3,
   "id": "6b140a06",
   "metadata": {},
   "outputs": [
    {
     "name": "stdout",
     "output_type": "stream",
     "text": [
      "[[1 2 3 4]\n",
      " [3 1 4 1]]\n"
     ]
    }
   ],
   "source": [
    "import numpy as np\n",
    "\n",
    "lol = [[1, 2, 3, 4], [3, 1, 4, 1]]\n",
    "lolarr = np.array(lol)\n",
    "print(lolarr)"
   ]
  },
  {
   "cell_type": "markdown",
   "id": "dd6e8ffb",
   "metadata": {},
   "source": [
    "2. Make a 3D numpy matrix from a Python list of lists of lists!"
   ]
  },
  {
   "cell_type": "code",
   "execution_count": 4,
   "id": "c977766b",
   "metadata": {},
   "outputs": [
    {
     "name": "stdout",
     "output_type": "stream",
     "text": [
      "[[[1 2 3 4]\n",
      "  [3 1 4 1]]\n",
      "\n",
      " [[1 2 3 4]\n",
      "  [3 1 4 1]]]\n"
     ]
    }
   ],
   "source": [
    "lol3D = [[[1, 2, 3, 4], [3, 1, 4, 1]], [[1, 2, 3, 4], [3, 1, 4, 1]]]\n",
    "lol3Darr = np.array(lol3D)\n",
    "print(lol3Darr)"
   ]
  },
  {
   "cell_type": "code",
   "execution_count": 5,
   "id": "0a62a37e",
   "metadata": {},
   "outputs": [
    {
     "data": {
      "text/plain": [
       "4"
      ]
     },
     "execution_count": 5,
     "metadata": {},
     "output_type": "execute_result"
    }
   ],
   "source": [
    "lol3Darr[0, 1, 2]"
   ]
  },
  {
   "cell_type": "markdown",
   "id": "f7e1fd59",
   "metadata": {},
   "source": [
    "3. Make a numpy sequence that has the even numbers from 2 up to (and including) 20."
   ]
  },
  {
   "cell_type": "code",
   "execution_count": 9,
   "id": "7ff0eb71",
   "metadata": {},
   "outputs": [
    {
     "name": "stdout",
     "output_type": "stream",
     "text": [
      "[ 2  4  6  8 10 12 14 16 18 20]\n"
     ]
    }
   ],
   "source": [
    "eves = np.arange(2, 21, 2)\n",
    "print(eves)"
   ]
  },
  {
   "cell_type": "markdown",
   "id": "8ad64691",
   "metadata": {},
   "source": [
    "4. Create a 5x3 array of Gaussian random numbers. "
   ]
  },
  {
   "cell_type": "code",
   "execution_count": 6,
   "id": "5f280edc",
   "metadata": {},
   "outputs": [
    {
     "name": "stdout",
     "output_type": "stream",
     "text": [
      "[[-0.537148    0.27059534 -1.04978958]\n",
      " [-0.50737581  0.39716231  0.09287207]\n",
      " [ 1.59060407  0.73625461  0.85962696]\n",
      " [-0.92079572  0.61942878 -1.63923231]\n",
      " [ 1.05082532  0.02460737  0.38334018]]\n"
     ]
    }
   ],
   "source": [
    "grn = np.random.randn(5, 3)\n",
    "print(grn)"
   ]
  },
  {
   "cell_type": "markdown",
   "id": "d129639e",
   "metadata": {},
   "source": [
    "5. Write a script to go through the array created in 3. and announce (print) the value and its row and column indexes.\n",
    "\n",
    "Hint: Use nested `for` loops - one to loop through the rows and one to loop through the columns."
   ]
  },
  {
   "cell_type": "code",
   "execution_count": 7,
   "id": "3a8e281b",
   "metadata": {},
   "outputs": [
    {
     "name": "stdout",
     "output_type": "stream",
     "text": [
      "The value at 0, 0 is -0.537147995893178\n",
      "The value at 0, 1 is 0.27059534357463577\n",
      "The value at 0, 2 is -1.0497895780309727\n",
      "The value at 1, 0 is -0.5073758139431729\n",
      "The value at 1, 1 is 0.3971623123047189\n",
      "The value at 1, 2 is 0.09287207112917639\n",
      "The value at 2, 0 is 1.5906040692073813\n",
      "The value at 2, 1 is 0.7362546111248193\n",
      "The value at 2, 2 is 0.8596269633730244\n",
      "The value at 3, 0 is -0.9207957220205448\n",
      "The value at 3, 1 is 0.6194287812211252\n",
      "The value at 3, 2 is -1.6392323072832282\n",
      "The value at 4, 0 is 1.050825319648806\n",
      "The value at 4, 1 is 0.024607374370306433\n",
      "The value at 4, 2 is 0.38334018447741497\n"
     ]
    }
   ],
   "source": [
    "for i in range(5):\n",
    "    for j in range(3):\n",
    "        print(f\"The value at {i}, {j} is {grn[i, j]}\")"
   ]
  },
  {
   "cell_type": "markdown",
   "id": "2f6c8094",
   "metadata": {},
   "source": [
    "6. Make an new array out of your random numbers such that the mean is 10 and the standard deviation is 3."
   ]
  },
  {
   "cell_type": "code",
   "execution_count": 10,
   "id": "b8cfc374",
   "metadata": {},
   "outputs": [
    {
     "name": "stdout",
     "output_type": "stream",
     "text": [
      "[[ 8.38855601 10.81178603  6.85063127]\n",
      " [ 8.47787256 11.19148694 10.27861621]\n",
      " [14.77181221 12.20876383 12.57888089]\n",
      " [ 7.23761283 11.85828634  5.08230308]\n",
      " [13.15247596 10.07382212 11.15002055]]\n"
     ]
    }
   ],
   "source": [
    "mymean, mysd = 10, 3\n",
    "new_grn = mysd*grn + mymean\n",
    "print(new_grn)"
   ]
  },
  {
   "cell_type": "markdown",
   "id": "431e4556",
   "metadata": {},
   "source": [
    "7. Count the number of values in your new array that are below 7."
   ]
  },
  {
   "cell_type": "code",
   "execution_count": 13,
   "id": "80cb12c5",
   "metadata": {},
   "outputs": [
    {
     "name": "stdout",
     "output_type": "stream",
     "text": [
      "ouput of logical test is [[False False  True]\n",
      " [False False False]\n",
      " [False False False]\n",
      " [False False  True]\n",
      " [False False False]]\n",
      "sum of the columns are [0 0 2]\n",
      "total numbers less than 7 is 2\n"
     ]
    }
   ],
   "source": [
    "# short way: \n",
    "# sum(sum(new_grn < 7))\n",
    "\n",
    "# beginner friendly way:\n",
    "less_than_7 = new_grn < 7\n",
    "print(f\"output of logical test is {less_than_7}\")\n",
    "col_sum = sum(less_than_7)\n",
    "print(f\"sum of the columns are {col_sum}\")\n",
    "total_sum = sum(col_sum)\n",
    "print(f\"total numbers less than 7 is {total_sum}\")"
   ]
  },
  {
   "cell_type": "markdown",
   "id": "f8daaeb0",
   "metadata": {},
   "source": [
    "8. Get the second and third rows of your array created in #4."
   ]
  },
  {
   "cell_type": "code",
   "execution_count": 16,
   "id": "37f3b877",
   "metadata": {},
   "outputs": [
    {
     "name": "stdout",
     "output_type": "stream",
     "text": [
      "[[-0.50737581  0.39716231  0.09287207]\n",
      " [ 1.59060407  0.73625461  0.85962696]]\n"
     ]
    }
   ],
   "source": [
    "myslice = grn[1:3,]\n",
    "print(myslice)"
   ]
  },
  {
   "cell_type": "markdown",
   "id": "b054f43f",
   "metadata": {},
   "source": [
    "9. Compute the overall mean of your array created in #4 and compare it to that from the modified version computed in #6. Does your mean-shifting seem to have worked?"
   ]
  },
  {
   "cell_type": "code",
   "execution_count": 17,
   "id": "ee06461f",
   "metadata": {},
   "outputs": [
    {
     "name": "stdout",
     "output_type": "stream",
     "text": [
      "0.09139837421735415 10.274195122652063\n"
     ]
    }
   ],
   "source": [
    "org_mean = np.mean(grn)\n",
    "new_mean = np.mean(new_grn)\n",
    "print(org_mean, new_mean)"
   ]
  },
  {
   "cell_type": "markdown",
   "id": "d26044ca",
   "metadata": {},
   "source": [
    "10. Compute the standard deviation of the columns of your array created in #4 and compare them to those from the modified version computed in #6. Does your scaling seem to have worked?"
   ]
  },
  {
   "cell_type": "code",
   "execution_count": 18,
   "id": "d9e8a2df",
   "metadata": {},
   "outputs": [
    {
     "name": "stdout",
     "output_type": "stream",
     "text": [
      "0.8463165462064172 2.538949638619252\n"
     ]
    }
   ],
   "source": [
    "org_std = np.std(grn)\n",
    "new_std = np.std(new_grn)\n",
    "print(org_std, new_std)"
   ]
  }
 ],
 "metadata": {
  "kernelspec": {
   "display_name": "Python 3 (ipykernel)",
   "language": "python",
   "name": "python3"
  },
  "language_info": {
   "codemirror_mode": {
    "name": "ipython",
    "version": 3
   },
   "file_extension": ".py",
   "mimetype": "text/x-python",
   "name": "python",
   "nbconvert_exporter": "python",
   "pygments_lexer": "ipython3",
   "version": "3.11.5"
  }
 },
 "nbformat": 4,
 "nbformat_minor": 5
}
