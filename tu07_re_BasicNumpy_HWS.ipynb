{
 "cells": [
  {
   "cell_type": "markdown",
   "id": "1f1534b9",
   "metadata": {},
   "source": [
    "# Numpy review homework solutions"
   ]
  },
  {
   "cell_type": "code",
   "execution_count": 5,
   "id": "b1dcf2e4",
   "metadata": {},
   "outputs": [
    {
     "name": "stdout",
     "output_type": "stream",
     "text": [
      "Intel MKL WARNING: Support of Intel(R) Streaming SIMD Extensions 4.2 (Intel(R) SSE4.2) enabled only processors has been deprecated. Intel oneAPI Math Kernel Library 2025.0 will require Intel(R) Advanced Vector Extensions (Intel(R) AVX) instructions.\n",
      "Intel MKL WARNING: Support of Intel(R) Streaming SIMD Extensions 4.2 (Intel(R) SSE4.2) enabled only processors has been deprecated. Intel oneAPI Math Kernel Library 2025.0 will require Intel(R) Advanced Vector Extensions (Intel(R) AVX) instructions.\n"
     ]
    }
   ],
   "source": [
    "import numpy as np"
   ]
  },
  {
   "cell_type": "markdown",
   "id": "b6ab98ce",
   "metadata": {},
   "source": [
    "1. Make a numpy matrix from a Python list of lists..."
   ]
  },
  {
   "cell_type": "code",
   "execution_count": 2,
   "id": "c9f55a40",
   "metadata": {},
   "outputs": [
    {
     "data": {
      "text/plain": [
       "[[2, 4, 4], [3, -1, 8], [-2, 1, 2]]"
      ]
     },
     "execution_count": 2,
     "metadata": {},
     "output_type": "execute_result"
    }
   ],
   "source": [
    "a_nested_list = [[2, 4, 4], [3, -1, 8], [-2, 1, 2]]\n",
    "a_nested_list"
   ]
  },
  {
   "cell_type": "markdown",
   "id": "32c8b656",
   "metadata": {},
   "source": [
    "2. Make a 3D numpy matrix from a Python list of lists of lists!"
   ]
  },
  {
   "cell_type": "code",
   "execution_count": 26,
   "id": "e1f598df",
   "metadata": {},
   "outputs": [
    {
     "name": "stdout",
     "output_type": "stream",
     "text": [
      "[[[1, 2, 3], [4, 5, 6]], [[7, 8, 9], [10, 11, 12]]]\n"
     ]
    }
   ],
   "source": [
    "a = [[[1, 2, 3],[4,5,6]],[[7,8,9],[10,11,12]]] # a list of lists of lists!\n",
    "print(a)"
   ]
  },
  {
   "cell_type": "code",
   "execution_count": 6,
   "id": "c1a80265",
   "metadata": {},
   "outputs": [
    {
     "name": "stdout",
     "output_type": "stream",
     "text": [
      "[[[ 1  2  3]\n",
      "  [ 4  5  6]]\n",
      "\n",
      " [[ 7  8  9]\n",
      "  [10 11 12]]]\n"
     ]
    }
   ],
   "source": [
    "aa = np.array(a)\n",
    "print(aa)"
   ]
  },
  {
   "cell_type": "markdown",
   "id": "cb5eba78",
   "metadata": {},
   "source": [
    "3. Create a 5x3 array of Gaussian random numbers. "
   ]
  },
  {
   "cell_type": "code",
   "execution_count": 7,
   "id": "cd5d15fe",
   "metadata": {},
   "outputs": [
    {
     "data": {
      "text/plain": [
       "array([[-2.19328834,  0.97110121,  0.50205128],\n",
       "       [ 0.08412925, -0.89284095,  0.59561328],\n",
       "       [ 0.1518208 ,  0.23454632,  1.03127088],\n",
       "       [ 0.27117308,  0.4916854 , -1.2629042 ],\n",
       "       [-2.01671248,  0.83066255,  0.29098483]])"
      ]
     },
     "execution_count": 7,
     "metadata": {},
     "output_type": "execute_result"
    }
   ],
   "source": [
    "my_rands = np.random.randn(5, 3)\n",
    "my_rands"
   ]
  },
  {
   "cell_type": "markdown",
   "id": "3f7ca669",
   "metadata": {},
   "source": [
    "4. Write a script to go through the array created in 3. and announce (print) the value and its row and column indexes.\n",
    "\n",
    "Hint: Use nested `for` loops - one to loop through the rows and one to loop through the columns."
   ]
  },
  {
   "cell_type": "code",
   "execution_count": 25,
   "id": "8a5b31ff",
   "metadata": {},
   "outputs": [
    {
     "name": "stdout",
     "output_type": "stream",
     "text": [
      "the value at 0, 0 is -2.1932883391392304\n",
      "the value at 0, 1 is 0.9711012118919445\n",
      "the value at 0, 2 is 0.502051277801671\n",
      "the value at 1, 0 is 0.0841292484111004\n",
      "the value at 1, 1 is -0.8928409506917592\n",
      "the value at 1, 2 is 0.5956132794900405\n",
      "the value at 2, 0 is 0.15182080448195387\n",
      "the value at 2, 1 is 0.23454632449646046\n",
      "the value at 2, 2 is 1.0312708812855367\n",
      "the value at 3, 0 is 0.2711730802856585\n",
      "the value at 3, 1 is 0.4916854026338551\n",
      "the value at 3, 2 is -1.2629041960415504\n",
      "the value at 4, 0 is -2.016712478446415\n",
      "the value at 4, 1 is 0.8306625511718604\n",
      "the value at 4, 2 is 0.29098483243230583\n"
     ]
    }
   ],
   "source": [
    "# go through the cols for each row, use f-string to announce values\n",
    "for i in range(5) :\n",
    "    for j in range(3) :\n",
    "        print(f\"the value at {i}, {j} is {my_rands[i,j]}\")\n",
    "        "
   ]
  },
  {
   "cell_type": "markdown",
   "id": "544a72ce",
   "metadata": {},
   "source": [
    "5. Make an new array out of your random numbers such that the mean is 10 and the standard deviation is 3."
   ]
  },
  {
   "cell_type": "code",
   "execution_count": 24,
   "id": "ab49b92b",
   "metadata": {},
   "outputs": [
    {
     "data": {
      "text/plain": [
       "array([[ 3.42013498, 12.91330364, 11.50615383],\n",
       "       [10.25238775,  7.32147715, 11.78683984],\n",
       "       [10.45546241, 10.70363897, 13.09381264],\n",
       "       [10.81351924, 11.47505621,  6.21128741],\n",
       "       [ 3.94986256, 12.49198765, 10.8729545 ]])"
      ]
     },
     "execution_count": 24,
     "metadata": {},
     "output_type": "execute_result"
    }
   ],
   "source": [
    "my_new = my_rands*3 + 10  # scale by the sd and then add on the mean\n",
    "my_new"
   ]
  },
  {
   "cell_type": "markdown",
   "id": "9720db83",
   "metadata": {},
   "source": [
    "6. Count the number of values in your new array that are below 7."
   ]
  },
  {
   "cell_type": "code",
   "execution_count": 12,
   "id": "00d468dd",
   "metadata": {},
   "outputs": [
    {
     "name": "stdout",
     "output_type": "stream",
     "text": [
      "3\n"
     ]
    }
   ],
   "source": [
    "print(sum(sum(my_new < 7))) # logical indexing + sum down the cols + sum"
   ]
  },
  {
   "cell_type": "markdown",
   "id": "79697551",
   "metadata": {},
   "source": [
    "7. Make a numpy sequence that has the even numbers from 2 up to (and including) 20."
   ]
  },
  {
   "cell_type": "code",
   "execution_count": 15,
   "id": "052c92eb",
   "metadata": {},
   "outputs": [
    {
     "data": {
      "text/plain": [
       "array([ 2,  4,  6,  8, 10, 12, 14, 16, 18, 20])"
      ]
     },
     "execution_count": 15,
     "metadata": {},
     "output_type": "execute_result"
    }
   ],
   "source": [
    "my_seq = np.arange(2, 21, 2)  # start (incl), stop (excl), step\n",
    "my_seq"
   ]
  },
  {
   "cell_type": "markdown",
   "id": "bae6ba30",
   "metadata": {},
   "source": [
    "8. Get the second and third rows of your array created in #5."
   ]
  },
  {
   "cell_type": "code",
   "execution_count": 19,
   "id": "157c8e90",
   "metadata": {},
   "outputs": [
    {
     "name": "stdout",
     "output_type": "stream",
     "text": [
      "[[10.25238775  7.32147715 11.78683984]\n",
      " [10.45546241 10.70363897 13.09381264]]\n"
     ]
    }
   ],
   "source": [
    "print(my_new[1:3,:])"
   ]
  },
  {
   "cell_type": "markdown",
   "id": "fd167104",
   "metadata": {},
   "source": [
    "9. Compute the mean of the columns of your array created in #5."
   ]
  },
  {
   "cell_type": "code",
   "execution_count": 23,
   "id": "2067562e",
   "metadata": {},
   "outputs": [
    {
     "data": {
      "text/plain": [
       "array([ 7.77827339, 10.98109272, 10.69420964])"
      ]
     },
     "execution_count": 23,
     "metadata": {},
     "output_type": "execute_result"
    }
   ],
   "source": [
    "my_new.mean(axis=0) # mean down the rows"
   ]
  }
 ],
 "metadata": {
  "kernelspec": {
   "display_name": "Python 3 (ipykernel)",
   "language": "python",
   "name": "python3"
  },
  "language_info": {
   "codemirror_mode": {
    "name": "ipython",
    "version": 3
   },
   "file_extension": ".py",
   "mimetype": "text/x-python",
   "name": "python",
   "nbconvert_exporter": "python",
   "pygments_lexer": "ipython3",
   "version": "3.8.18"
  }
 },
 "nbformat": 4,
 "nbformat_minor": 5
}
