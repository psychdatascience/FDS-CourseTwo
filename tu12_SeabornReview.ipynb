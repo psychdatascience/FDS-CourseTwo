{
 "cells": [
  {
   "cell_type": "markdown",
   "id": "1e6ca3f6",
   "metadata": {},
   "source": [
    "# Seaborn Review"
   ]
  },
  {
   "cell_type": "markdown",
   "id": "8c228366",
   "metadata": {},
   "source": [
    "Seaborn is a really great package for quickly producing nice plots. It's basic structure looks like this"
   ]
  },
  {
   "cell_type": "markdown",
   "id": "03f775d6",
   "metadata": {},
   "source": [
    "![seaborn anatomy](images/seabornOverview.png)"
   ]
  },
  {
   "cell_type": "markdown",
   "id": "fe71f652",
   "metadata": {},
   "source": [
    "The top row (the larger boxes) are figure-level plots. They handle much of the busywork of making a nice figure for you, and also allow you to select which underlying plot type to use (e.g. lineplot vs scatterplot). The underlying plots are axes-level plots. If you call them directly, they will return a matplotlib `axes` object, which you can then use to customize the plot. The topmost underlying plots are the default plot types for the figure-level plots.\n",
    "\n",
    "\n",
    "There are also a couple functions, `pairplot()` and `jointplot()` that produce some common figures using a mix of plot types. We've made examples of both of these \"by hand\" already in this course."
   ]
  },
  {
   "cell_type": "markdown",
   "id": "e43afbe4",
   "metadata": {},
   "source": [
    "Seaborn is built on top of matplotlib so, ultimately, everything in a seaborn figure is an `axes` or other matplotlib `artist`. This means that you can always use matplotlib methods if you need to do some low level customization of your figures."
   ]
  },
  {
   "cell_type": "markdown",
   "id": "3797e0ca",
   "metadata": {},
   "source": [
    "## Preliminaries"
   ]
  },
  {
   "cell_type": "markdown",
   "id": "ffe6c8da",
   "metadata": {},
   "source": [
    "First, let's import what we'll need:"
   ]
  },
  {
   "cell_type": "code",
   "execution_count": 1,
   "id": "4fa6c370",
   "metadata": {},
   "outputs": [
    {
     "name": "stderr",
     "output_type": "stream",
     "text": [
      "/Users/fp4834/opt/anaconda3/lib/python3.9/site-packages/pandas/core/computation/expressions.py:21: UserWarning: Pandas requires version '2.8.0' or newer of 'numexpr' (version '2.7.3' currently installed).\n",
      "  from pandas.core.computation.check import NUMEXPR_INSTALLED\n",
      "/Users/fp4834/opt/anaconda3/lib/python3.9/site-packages/pandas/core/arrays/masked.py:62: UserWarning: Pandas requires version '1.3.4' or newer of 'bottleneck' (version '1.3.2' currently installed).\n",
      "  from pandas.core import (\n"
     ]
    }
   ],
   "source": [
    "# This is all we should need in theory\n",
    "import seaborn as sns\n",
    "\n",
    "# But I had to do this to get plots to show for some random reason\n",
    "import matplotlib.pyplot as plt\n",
    "%matplotlib inline "
   ]
  },
  {
   "cell_type": "markdown",
   "id": "c83ad95d",
   "metadata": {},
   "source": [
    "## Figure level plots"
   ]
  },
  {
   "cell_type": "markdown",
   "id": "137b9026",
   "metadata": {},
   "source": [
    " We'll start with some figure level plots."
   ]
  },
  {
   "cell_type": "markdown",
   "id": "2c09ecee",
   "metadata": {},
   "source": [
    "### Relational plots"
   ]
  },
  {
   "cell_type": "markdown",
   "id": "bcbe9474",
   "metadata": {},
   "source": [
    "Several example data sets come with seaborn. Here's one about tipping:"
   ]
  },
  {
   "cell_type": "code",
   "execution_count": 2,
   "id": "3cbf9dc3",
   "metadata": {},
   "outputs": [],
   "source": [
    "tips = sns.load_dataset(\"tips\")"
   ]
  },
  {
   "cell_type": "markdown",
   "id": "1054ca30",
   "metadata": {},
   "source": [
    "Let's peek at the data set after loading (always!):"
   ]
  },
  {
   "cell_type": "code",
   "execution_count": 3,
   "id": "c4d65a17",
   "metadata": {},
   "outputs": [
    {
     "data": {
      "text/html": [
       "<div>\n",
       "<style scoped>\n",
       "    .dataframe tbody tr th:only-of-type {\n",
       "        vertical-align: middle;\n",
       "    }\n",
       "\n",
       "    .dataframe tbody tr th {\n",
       "        vertical-align: top;\n",
       "    }\n",
       "\n",
       "    .dataframe thead th {\n",
       "        text-align: right;\n",
       "    }\n",
       "</style>\n",
       "<table border=\"1\" class=\"dataframe\">\n",
       "  <thead>\n",
       "    <tr style=\"text-align: right;\">\n",
       "      <th></th>\n",
       "      <th>total_bill</th>\n",
       "      <th>tip</th>\n",
       "      <th>sex</th>\n",
       "      <th>smoker</th>\n",
       "      <th>day</th>\n",
       "      <th>time</th>\n",
       "      <th>size</th>\n",
       "    </tr>\n",
       "  </thead>\n",
       "  <tbody>\n",
       "    <tr>\n",
       "      <th>0</th>\n",
       "      <td>16.99</td>\n",
       "      <td>1.01</td>\n",
       "      <td>Female</td>\n",
       "      <td>No</td>\n",
       "      <td>Sun</td>\n",
       "      <td>Dinner</td>\n",
       "      <td>2</td>\n",
       "    </tr>\n",
       "    <tr>\n",
       "      <th>1</th>\n",
       "      <td>10.34</td>\n",
       "      <td>1.66</td>\n",
       "      <td>Male</td>\n",
       "      <td>No</td>\n",
       "      <td>Sun</td>\n",
       "      <td>Dinner</td>\n",
       "      <td>3</td>\n",
       "    </tr>\n",
       "    <tr>\n",
       "      <th>2</th>\n",
       "      <td>21.01</td>\n",
       "      <td>3.50</td>\n",
       "      <td>Male</td>\n",
       "      <td>No</td>\n",
       "      <td>Sun</td>\n",
       "      <td>Dinner</td>\n",
       "      <td>3</td>\n",
       "    </tr>\n",
       "    <tr>\n",
       "      <th>3</th>\n",
       "      <td>23.68</td>\n",
       "      <td>3.31</td>\n",
       "      <td>Male</td>\n",
       "      <td>No</td>\n",
       "      <td>Sun</td>\n",
       "      <td>Dinner</td>\n",
       "      <td>2</td>\n",
       "    </tr>\n",
       "    <tr>\n",
       "      <th>4</th>\n",
       "      <td>24.59</td>\n",
       "      <td>3.61</td>\n",
       "      <td>Female</td>\n",
       "      <td>No</td>\n",
       "      <td>Sun</td>\n",
       "      <td>Dinner</td>\n",
       "      <td>4</td>\n",
       "    </tr>\n",
       "    <tr>\n",
       "      <th>...</th>\n",
       "      <td>...</td>\n",
       "      <td>...</td>\n",
       "      <td>...</td>\n",
       "      <td>...</td>\n",
       "      <td>...</td>\n",
       "      <td>...</td>\n",
       "      <td>...</td>\n",
       "    </tr>\n",
       "    <tr>\n",
       "      <th>239</th>\n",
       "      <td>29.03</td>\n",
       "      <td>5.92</td>\n",
       "      <td>Male</td>\n",
       "      <td>No</td>\n",
       "      <td>Sat</td>\n",
       "      <td>Dinner</td>\n",
       "      <td>3</td>\n",
       "    </tr>\n",
       "    <tr>\n",
       "      <th>240</th>\n",
       "      <td>27.18</td>\n",
       "      <td>2.00</td>\n",
       "      <td>Female</td>\n",
       "      <td>Yes</td>\n",
       "      <td>Sat</td>\n",
       "      <td>Dinner</td>\n",
       "      <td>2</td>\n",
       "    </tr>\n",
       "    <tr>\n",
       "      <th>241</th>\n",
       "      <td>22.67</td>\n",
       "      <td>2.00</td>\n",
       "      <td>Male</td>\n",
       "      <td>Yes</td>\n",
       "      <td>Sat</td>\n",
       "      <td>Dinner</td>\n",
       "      <td>2</td>\n",
       "    </tr>\n",
       "    <tr>\n",
       "      <th>242</th>\n",
       "      <td>17.82</td>\n",
       "      <td>1.75</td>\n",
       "      <td>Male</td>\n",
       "      <td>No</td>\n",
       "      <td>Sat</td>\n",
       "      <td>Dinner</td>\n",
       "      <td>2</td>\n",
       "    </tr>\n",
       "    <tr>\n",
       "      <th>243</th>\n",
       "      <td>18.78</td>\n",
       "      <td>3.00</td>\n",
       "      <td>Female</td>\n",
       "      <td>No</td>\n",
       "      <td>Thur</td>\n",
       "      <td>Dinner</td>\n",
       "      <td>2</td>\n",
       "    </tr>\n",
       "  </tbody>\n",
       "</table>\n",
       "<p>244 rows × 7 columns</p>\n",
       "</div>"
      ],
      "text/plain": [
       "     total_bill   tip     sex smoker   day    time  size\n",
       "0         16.99  1.01  Female     No   Sun  Dinner     2\n",
       "1         10.34  1.66    Male     No   Sun  Dinner     3\n",
       "2         21.01  3.50    Male     No   Sun  Dinner     3\n",
       "3         23.68  3.31    Male     No   Sun  Dinner     2\n",
       "4         24.59  3.61  Female     No   Sun  Dinner     4\n",
       "..          ...   ...     ...    ...   ...     ...   ...\n",
       "239       29.03  5.92    Male     No   Sat  Dinner     3\n",
       "240       27.18  2.00  Female    Yes   Sat  Dinner     2\n",
       "241       22.67  2.00    Male    Yes   Sat  Dinner     2\n",
       "242       17.82  1.75    Male     No   Sat  Dinner     2\n",
       "243       18.78  3.00  Female     No  Thur  Dinner     2\n",
       "\n",
       "[244 rows x 7 columns]"
      ]
     },
     "execution_count": 3,
     "metadata": {},
     "output_type": "execute_result"
    }
   ],
   "source": [
    "tips"
   ]
  },
  {
   "cell_type": "markdown",
   "id": "5d6302a0",
   "metadata": {},
   "source": [
    "---"
   ]
  },
  {
   "cell_type": "markdown",
   "id": "48aa5025",
   "metadata": {},
   "source": [
    "Use the cell below to `describe` the numerical data in `tips`:"
   ]
  },
  {
   "cell_type": "code",
   "execution_count": 4,
   "id": "906f30ef",
   "metadata": {},
   "outputs": [
    {
     "data": {
      "text/html": [
       "<div>\n",
       "<style scoped>\n",
       "    .dataframe tbody tr th:only-of-type {\n",
       "        vertical-align: middle;\n",
       "    }\n",
       "\n",
       "    .dataframe tbody tr th {\n",
       "        vertical-align: top;\n",
       "    }\n",
       "\n",
       "    .dataframe thead th {\n",
       "        text-align: right;\n",
       "    }\n",
       "</style>\n",
       "<table border=\"1\" class=\"dataframe\">\n",
       "  <thead>\n",
       "    <tr style=\"text-align: right;\">\n",
       "      <th></th>\n",
       "      <th>total_bill</th>\n",
       "      <th>tip</th>\n",
       "      <th>size</th>\n",
       "    </tr>\n",
       "  </thead>\n",
       "  <tbody>\n",
       "    <tr>\n",
       "      <th>count</th>\n",
       "      <td>244.000000</td>\n",
       "      <td>244.000000</td>\n",
       "      <td>244.000000</td>\n",
       "    </tr>\n",
       "    <tr>\n",
       "      <th>mean</th>\n",
       "      <td>19.785943</td>\n",
       "      <td>2.998279</td>\n",
       "      <td>2.569672</td>\n",
       "    </tr>\n",
       "    <tr>\n",
       "      <th>std</th>\n",
       "      <td>8.902412</td>\n",
       "      <td>1.383638</td>\n",
       "      <td>0.951100</td>\n",
       "    </tr>\n",
       "    <tr>\n",
       "      <th>min</th>\n",
       "      <td>3.070000</td>\n",
       "      <td>1.000000</td>\n",
       "      <td>1.000000</td>\n",
       "    </tr>\n",
       "    <tr>\n",
       "      <th>25%</th>\n",
       "      <td>13.347500</td>\n",
       "      <td>2.000000</td>\n",
       "      <td>2.000000</td>\n",
       "    </tr>\n",
       "    <tr>\n",
       "      <th>50%</th>\n",
       "      <td>17.795000</td>\n",
       "      <td>2.900000</td>\n",
       "      <td>2.000000</td>\n",
       "    </tr>\n",
       "    <tr>\n",
       "      <th>75%</th>\n",
       "      <td>24.127500</td>\n",
       "      <td>3.562500</td>\n",
       "      <td>3.000000</td>\n",
       "    </tr>\n",
       "    <tr>\n",
       "      <th>max</th>\n",
       "      <td>50.810000</td>\n",
       "      <td>10.000000</td>\n",
       "      <td>6.000000</td>\n",
       "    </tr>\n",
       "  </tbody>\n",
       "</table>\n",
       "</div>"
      ],
      "text/plain": [
       "       total_bill         tip        size\n",
       "count  244.000000  244.000000  244.000000\n",
       "mean    19.785943    2.998279    2.569672\n",
       "std      8.902412    1.383638    0.951100\n",
       "min      3.070000    1.000000    1.000000\n",
       "25%     13.347500    2.000000    2.000000\n",
       "50%     17.795000    2.900000    2.000000\n",
       "75%     24.127500    3.562500    3.000000\n",
       "max     50.810000   10.000000    6.000000"
      ]
     },
     "execution_count": 4,
     "metadata": {},
     "output_type": "execute_result"
    }
   ],
   "source": [
    "tips.describe()"
   ]
  },
  {
   "cell_type": "markdown",
   "id": "c42f30e2",
   "metadata": {},
   "source": [
    "Based on this summary of the numerical data in `tips`, do you think this is a recent US data set?"
   ]
  },
  {
   "cell_type": "markdown",
   "id": "a0ca20b2",
   "metadata": {},
   "source": [
    "---"
   ]
  },
  {
   "cell_type": "markdown",
   "id": "5b515e99",
   "metadata": {},
   "source": [
    "Count the number of smokers in `tips`."
   ]
  },
  {
   "cell_type": "code",
   "execution_count": null,
   "id": "b425ac6b",
   "metadata": {},
   "outputs": [],
   "source": []
  },
  {
   "cell_type": "markdown",
   "id": "c98e2d68",
   "metadata": {},
   "source": [
    "Does this confirm or refute your guess about the origin of the data made on the numerical summary?"
   ]
  },
  {
   "cell_type": "markdown",
   "id": "7eed7205",
   "metadata": {},
   "source": [
    "---"
   ]
  },
  {
   "cell_type": "markdown",
   "id": "6f01fe1b",
   "metadata": {},
   "source": [
    "#### scatter plots"
   ]
  },
  {
   "cell_type": "markdown",
   "id": "c03c9525",
   "metadata": {},
   "source": [
    "Let's make a call to `relplot`:"
   ]
  },
  {
   "cell_type": "code",
   "execution_count": 5,
   "id": "6b4301d3",
   "metadata": {},
   "outputs": [
    {
     "name": "stderr",
     "output_type": "stream",
     "text": [
      "/Users/fp4834/opt/anaconda3/lib/python3.9/site-packages/seaborn/_core.py:1225: FutureWarning: is_categorical_dtype is deprecated and will be removed in a future version. Use isinstance(dtype, CategoricalDtype) instead\n",
      "  if pd.api.types.is_categorical_dtype(vector):\n",
      "/Users/fp4834/opt/anaconda3/lib/python3.9/site-packages/seaborn/_core.py:1225: FutureWarning: is_categorical_dtype is deprecated and will be removed in a future version. Use isinstance(dtype, CategoricalDtype) instead\n",
      "  if pd.api.types.is_categorical_dtype(vector):\n",
      "/Users/fp4834/opt/anaconda3/lib/python3.9/site-packages/seaborn/_core.py:1225: FutureWarning: is_categorical_dtype is deprecated and will be removed in a future version. Use isinstance(dtype, CategoricalDtype) instead\n",
      "  if pd.api.types.is_categorical_dtype(vector):\n",
      "/Users/fp4834/opt/anaconda3/lib/python3.9/site-packages/seaborn/_core.py:1225: FutureWarning: is_categorical_dtype is deprecated and will be removed in a future version. Use isinstance(dtype, CategoricalDtype) instead\n",
      "  if pd.api.types.is_categorical_dtype(vector):\n",
      "/Users/fp4834/opt/anaconda3/lib/python3.9/site-packages/seaborn/_core.py:1225: FutureWarning: is_categorical_dtype is deprecated and will be removed in a future version. Use isinstance(dtype, CategoricalDtype) instead\n",
      "  if pd.api.types.is_categorical_dtype(vector):\n",
      "/Users/fp4834/opt/anaconda3/lib/python3.9/site-packages/seaborn/_core.py:1225: FutureWarning: is_categorical_dtype is deprecated and will be removed in a future version. Use isinstance(dtype, CategoricalDtype) instead\n",
      "  if pd.api.types.is_categorical_dtype(vector):\n"
     ]
    },
    {
     "data": {
      "text/plain": [
       "<seaborn.axisgrid.FacetGrid at 0x7fbb10e50cd0>"
      ]
     },
     "execution_count": 5,
     "metadata": {},
     "output_type": "execute_result"
    },
    {
     "data": {
      "image/png": "[encoded data removed]",
      "text/plain": [
       "<Figure size 360x360 with 1 Axes>"
      ]
     },
     "metadata": {
      "needs_background": "light"
     },
     "output_type": "display_data"
    }
   ],
   "source": [
    "sns.relplot(data=tips, x=\"total_bill\", y=\"tip\")"
   ]
  },
  {
   "cell_type": "markdown",
   "id": "a8161fa8",
   "metadata": {},
   "source": [
    "We can see that the vast majority of tips fall below a 20% line, so it probably is an old data set (assuming its from the US).\n",
    "\n",
    "In terms of the plot *per se* though... so far, not a huge jump up from `matplotlib`..."
   ]
  },
  {
   "cell_type": "markdown",
   "id": "08d43187",
   "metadata": {},
   "source": [
    "Seaborn has five built in themes: `darkgrid` (the default), `whitegrid`, `dark`, `white`, and `ticks`. Let's set the default theme and replot."
   ]
  },
  {
   "cell_type": "code",
   "execution_count": 6,
   "id": "7a346744",
   "metadata": {},
   "outputs": [],
   "source": [
    "sns.set_theme()"
   ]
  },
  {
   "cell_type": "code",
   "execution_count": 7,
   "id": "0d48e526",
   "metadata": {},
   "outputs": [
    {
     "name": "stderr",
     "output_type": "stream",
     "text": [
      "/Users/fp4834/opt/anaconda3/lib/python3.9/site-packages/seaborn/_core.py:1225: FutureWarning: is_categorical_dtype is deprecated and will be removed in a future version. Use isinstance(dtype, CategoricalDtype) instead\n",
      "  if pd.api.types.is_categorical_dtype(vector):\n",
      "/Users/fp4834/opt/anaconda3/lib/python3.9/site-packages/seaborn/_core.py:1225: FutureWarning: is_categorical_dtype is deprecated and will be removed in a future version. Use isinstance(dtype, CategoricalDtype) instead\n",
      "  if pd.api.types.is_categorical_dtype(vector):\n",
      "/Users/fp4834/opt/anaconda3/lib/python3.9/site-packages/seaborn/_core.py:1225: FutureWarning: is_categorical_dtype is deprecated and will be removed in a future version. Use isinstance(dtype, CategoricalDtype) instead\n",
      "  if pd.api.types.is_categorical_dtype(vector):\n",
      "/Users/fp4834/opt/anaconda3/lib/python3.9/site-packages/seaborn/_core.py:1225: FutureWarning: is_categorical_dtype is deprecated and will be removed in a future version. Use isinstance(dtype, CategoricalDtype) instead\n",
      "  if pd.api.types.is_categorical_dtype(vector):\n",
      "/Users/fp4834/opt/anaconda3/lib/python3.9/site-packages/seaborn/_core.py:1225: FutureWarning: is_categorical_dtype is deprecated and will be removed in a future version. Use isinstance(dtype, CategoricalDtype) instead\n",
      "  if pd.api.types.is_categorical_dtype(vector):\n",
      "/Users/fp4834/opt/anaconda3/lib/python3.9/site-packages/seaborn/_core.py:1225: FutureWarning: is_categorical_dtype is deprecated and will be removed in a future version. Use isinstance(dtype, CategoricalDtype) instead\n",
      "  if pd.api.types.is_categorical_dtype(vector):\n"
     ]
    },
    {
     "data": {
      "text/plain": [
       "<seaborn.axisgrid.FacetGrid at 0x7fbae2c44490>"
      ]
     },
     "execution_count": 7,
     "metadata": {},
     "output_type": "execute_result"
    },
    {
     "data": {
      "image/png": "[encoded data removed]",
      "text/plain": [
       "<Figure size 360x360 with 1 Axes>"
      ]
     },
     "metadata": {},
     "output_type": "display_data"
    }
   ],
   "source": [
    "sns.relplot(data=tips, x=\"total_bill\", y=\"tip\")"
   ]
  },
  {
   "cell_type": "markdown",
   "id": "46ab5a92",
   "metadata": {},
   "source": [
    "That's better, and not unlike ggplot2's default theme in R!"
   ]
  },
  {
   "cell_type": "markdown",
   "id": "78496e0e",
   "metadata": {},
   "source": [
    "Now, let's look at how easy it is to make a fancy plot by assigning other variables to plot aesthetic properties."
   ]
  },
  {
   "cell_type": "code",
   "execution_count": 8,
   "id": "dd1e546f",
   "metadata": {},
   "outputs": [
    {
     "name": "stderr",
     "output_type": "stream",
     "text": [
      "/Users/fp4834/opt/anaconda3/lib/python3.9/site-packages/seaborn/_core.py:1225: FutureWarning: is_categorical_dtype is deprecated and will be removed in a future version. Use isinstance(dtype, CategoricalDtype) instead\n",
      "  if pd.api.types.is_categorical_dtype(vector):\n",
      "/Users/fp4834/opt/anaconda3/lib/python3.9/site-packages/seaborn/_core.py:1225: FutureWarning: is_categorical_dtype is deprecated and will be removed in a future version. Use isinstance(dtype, CategoricalDtype) instead\n",
      "  if pd.api.types.is_categorical_dtype(vector):\n",
      "/Users/fp4834/opt/anaconda3/lib/python3.9/site-packages/seaborn/_core.py:1225: FutureWarning: is_categorical_dtype is deprecated and will be removed in a future version. Use isinstance(dtype, CategoricalDtype) instead\n",
      "  if pd.api.types.is_categorical_dtype(vector):\n",
      "/Users/fp4834/opt/anaconda3/lib/python3.9/site-packages/seaborn/_core.py:1225: FutureWarning: is_categorical_dtype is deprecated and will be removed in a future version. Use isinstance(dtype, CategoricalDtype) instead\n",
      "  if pd.api.types.is_categorical_dtype(vector):\n",
      "/Users/fp4834/opt/anaconda3/lib/python3.9/site-packages/seaborn/_core.py:1225: FutureWarning: is_categorical_dtype is deprecated and will be removed in a future version. Use isinstance(dtype, CategoricalDtype) instead\n",
      "  if pd.api.types.is_categorical_dtype(vector):\n",
      "/Users/fp4834/opt/anaconda3/lib/python3.9/site-packages/seaborn/_core.py:1225: FutureWarning: is_categorical_dtype is deprecated and will be removed in a future version. Use isinstance(dtype, CategoricalDtype) instead\n",
      "  if pd.api.types.is_categorical_dtype(vector):\n",
      "/Users/fp4834/opt/anaconda3/lib/python3.9/site-packages/seaborn/_core.py:1225: FutureWarning: is_categorical_dtype is deprecated and will be removed in a future version. Use isinstance(dtype, CategoricalDtype) instead\n",
      "  if pd.api.types.is_categorical_dtype(vector):\n",
      "/Users/fp4834/opt/anaconda3/lib/python3.9/site-packages/seaborn/_core.py:1225: FutureWarning: is_categorical_dtype is deprecated and will be removed in a future version. Use isinstance(dtype, CategoricalDtype) instead\n",
      "  if pd.api.types.is_categorical_dtype(vector):\n",
      "/Users/fp4834/opt/anaconda3/lib/python3.9/site-packages/seaborn/_core.py:1225: FutureWarning: is_categorical_dtype is deprecated and will be removed in a future version. Use isinstance(dtype, CategoricalDtype) instead\n",
      "  if pd.api.types.is_categorical_dtype(vector):\n",
      "/Users/fp4834/opt/anaconda3/lib/python3.9/site-packages/seaborn/_core.py:1225: FutureWarning: is_categorical_dtype is deprecated and will be removed in a future version. Use isinstance(dtype, CategoricalDtype) instead\n",
      "  if pd.api.types.is_categorical_dtype(vector):\n",
      "/Users/fp4834/opt/anaconda3/lib/python3.9/site-packages/seaborn/_core.py:1225: FutureWarning: is_categorical_dtype is deprecated and will be removed in a future version. Use isinstance(dtype, CategoricalDtype) instead\n",
      "  if pd.api.types.is_categorical_dtype(vector):\n",
      "/Users/fp4834/opt/anaconda3/lib/python3.9/site-packages/seaborn/_core.py:1225: FutureWarning: is_categorical_dtype is deprecated and will be removed in a future version. Use isinstance(dtype, CategoricalDtype) instead\n",
      "  if pd.api.types.is_categorical_dtype(vector):\n",
      "/Users/fp4834/opt/anaconda3/lib/python3.9/site-packages/seaborn/_core.py:1225: FutureWarning: is_categorical_dtype is deprecated and will be removed in a future version. Use isinstance(dtype, CategoricalDtype) instead\n",
      "  if pd.api.types.is_categorical_dtype(vector):\n",
      "/Users/fp4834/opt/anaconda3/lib/python3.9/site-packages/seaborn/_core.py:1225: FutureWarning: is_categorical_dtype is deprecated and will be removed in a future version. Use isinstance(dtype, CategoricalDtype) instead\n",
      "  if pd.api.types.is_categorical_dtype(vector):\n",
      "/Users/fp4834/opt/anaconda3/lib/python3.9/site-packages/seaborn/_core.py:1225: FutureWarning: is_categorical_dtype is deprecated and will be removed in a future version. Use isinstance(dtype, CategoricalDtype) instead\n",
      "  if pd.api.types.is_categorical_dtype(vector):\n",
      "/Users/fp4834/opt/anaconda3/lib/python3.9/site-packages/seaborn/_core.py:1225: FutureWarning: is_categorical_dtype is deprecated and will be removed in a future version. Use isinstance(dtype, CategoricalDtype) instead\n",
      "  if pd.api.types.is_categorical_dtype(vector):\n",
      "/Users/fp4834/opt/anaconda3/lib/python3.9/site-packages/seaborn/_core.py:1225: FutureWarning: is_categorical_dtype is deprecated and will be removed in a future version. Use isinstance(dtype, CategoricalDtype) instead\n",
      "  if pd.api.types.is_categorical_dtype(vector):\n",
      "/Users/fp4834/opt/anaconda3/lib/python3.9/site-packages/seaborn/_core.py:1225: FutureWarning: is_categorical_dtype is deprecated and will be removed in a future version. Use isinstance(dtype, CategoricalDtype) instead\n",
      "  if pd.api.types.is_categorical_dtype(vector):\n",
      "/Users/fp4834/opt/anaconda3/lib/python3.9/site-packages/seaborn/_core.py:1225: FutureWarning: is_categorical_dtype is deprecated and will be removed in a future version. Use isinstance(dtype, CategoricalDtype) instead\n",
      "  if pd.api.types.is_categorical_dtype(vector):\n"
     ]
    },
    {
     "data": {
      "text/plain": [
       "<seaborn.axisgrid.FacetGrid at 0x7fbae3c23160>"
      ]
     },
     "execution_count": 8,
     "metadata": {},
     "output_type": "execute_result"
    },
    {
     "data": {
      "image/png": "[encoded data removed]",
      "text/plain": [
       "<Figure size 777.475x360 with 2 Axes>"
      ]
     },
     "metadata": {},
     "output_type": "display_data"
    }
   ],
   "source": [
    "sns.relplot(\n",
    "    data=tips,\n",
    "    x=\"total_bill\", y=\"tip\", col=\"time\",\n",
    "    hue=\"smoker\", style=\"smoker\", size=\"size\",\n",
    ")"
   ]
  },
  {
   "cell_type": "markdown",
   "id": "fad2f958",
   "metadata": {},
   "source": [
    "Now that's a lot of plot for very little effort!"
   ]
  },
  {
   "cell_type": "markdown",
   "id": "dd81e3e3",
   "metadata": {},
   "source": [
    "#### scatter plot with regression"
   ]
  },
  {
   "cell_type": "markdown",
   "id": "963f5173",
   "metadata": {},
   "source": [
    "Let's look at the tipping rate for females vs. males."
   ]
  },
  {
   "cell_type": "code",
   "execution_count": null,
   "id": "c8198b32",
   "metadata": {},
   "outputs": [],
   "source": [
    "sns.lmplot(data=tips, x=\"total_bill\", y=\"tip\", col=\"time\", hue=\"sex\")"
   ]
  },
  {
   "cell_type": "markdown",
   "id": "10676b64",
   "metadata": {},
   "source": [
    "Those look identical, so there is (was) gender equality in tipping at least. "
   ]
  },
  {
   "cell_type": "markdown",
   "id": "71f95745",
   "metadata": {},
   "source": [
    "But let's do take a moment at what seaborn has done under the hood for us here. It has:\n",
    "\n",
    "- run a linear regression on tip vs. bill separately for each group that we defined with our column and color specification\n",
    "- plotted the regression lines\n",
    "- computed 95% CIs on the fits, and plotted those as shaded areas.\n",
    "\n",
    "Impressive. For those of you coming from R/tidyverse land, this is probably reminding you of ggplot() in more ways than the appearance of the background."
   ]
  },
  {
   "cell_type": "markdown",
   "id": "9c7efe54",
   "metadata": {},
   "source": [
    "You might be wondering where we got `lmplot()`, as it's not one of the plots listed in the seaborn diagram above. Seaborn does have some \"hidden gems\" like `lmplot()` and `jointplot()` that you'll only discover by looking at the seaborn documentation.\n",
    "\n",
    "Pro tip: There are two *really* useful places in the seaborn documentation to look for stuff:\n",
    "\n",
    "- the [function interface reference](https://seaborn.pydata.org/api.html#function-interface)\n",
    "- the [gallery](https://seaborn.pydata.org/examples/index.html)\n",
    "\n",
    "In the [gallery](https://seaborn.pydata.org/examples/index.html), you can browse plot types by appearance; the mouse-over text will tell you the function used to make the plot, and clicking on the plot will take you to the example code! "
   ]
  },
  {
   "cell_type": "markdown",
   "id": "696bd5d4",
   "metadata": {},
   "source": [
    "Now let's look at the tipping rate for smokers vs. non-smokers."
   ]
  },
  {
   "cell_type": "code",
   "execution_count": null,
   "id": "84ce66b6",
   "metadata": {},
   "outputs": [],
   "source": [
    "sns.lmplot(data=tips, x=\"total_bill\", y=\"tip\", col=\"time\", hue=\"smoker\")"
   ]
  },
  {
   "cell_type": "markdown",
   "id": "1cf52e1b",
   "metadata": {},
   "source": [
    "Hm. It looks like, at dinner at least, smokers may tip less (although the uncertainty on the fits is too high to be completely sure)."
   ]
  },
  {
   "cell_type": "markdown",
   "id": "d5d1b22b",
   "metadata": {},
   "source": [
    "#### line plots"
   ]
  },
  {
   "cell_type": "markdown",
   "id": "a6fff032",
   "metadata": {},
   "source": [
    "Scatter plots are usefully for pairwise data in which the pairs themselves are independent of one another. \n",
    "\n",
    "In other cases, the data are ordered by the x values. Often this is due to the y values unfolding over time. "
   ]
  },
  {
   "cell_type": "markdown",
   "id": "f834283a",
   "metadata": {},
   "source": [
    "Let's load another data set to look at this."
   ]
  },
  {
   "cell_type": "code",
   "execution_count": null,
   "id": "21955fbe",
   "metadata": {},
   "outputs": [],
   "source": [
    "dots = sns.load_dataset(\"dots\")"
   ]
  },
  {
   "cell_type": "code",
   "execution_count": null,
   "id": "da2dddc2",
   "metadata": {},
   "outputs": [],
   "source": [
    "# take a peek as always\n"
   ]
  },
  {
   "cell_type": "markdown",
   "id": "8bceae71",
   "metadata": {},
   "source": [
    "The main data here are the firing rate of a neuron in the superior colliculus (a brain area crucial for moving the eyes) as a function of time. In the experiment, moving stimuli of various strengths ('coherence') appear on the screen, and the subject has to decide which way they moved (left or right, say). Later, the stimuli disappear and are replaced by two targets. The subject has to indicate their choice by moving their eyes to the appropriate target (left or right). Sometimes, the target corresponding to the subject's choice was within the neurons \"area of responsibility\" in the visual field (`choice` = `T1`), and sometimes without (`choice` = `T2`)\n",
    "\n",
    "The neural recordings can either be aligned in time to the moment the stimuli appeared (`align` = `dots`) or to the precise moment the eye movement (a saccade) began (`align` = `sacc`)\n",
    "\n",
    "Let's plot!"
   ]
  },
  {
   "cell_type": "code",
   "execution_count": null,
   "id": "7bbf9820",
   "metadata": {},
   "outputs": [],
   "source": [
    "sns.relplot(\n",
    "    data=dots, kind=\"line\",\n",
    "    x=\"time\", y=\"firing_rate\", col=\"align\",\n",
    "    hue=\"choice\", size=\"coherence\", style=\"choice\",\n",
    "    facet_kws=dict(sharex=False),\n",
    ")"
   ]
  },
  {
   "cell_type": "markdown",
   "id": "8ef21552",
   "metadata": {},
   "source": [
    "Even if we knew nothing about the experiment, we could see that there is cool stuff going on. The plot makes it very clear that there is a huge effect of choice (eye movement direction), there is differential build-up of activity starting about 200 msec after the stimulus comes on, and that this neuron is almost certain involved in driving the eye movement in the T1 direction.\n",
    "\n",
    "That's a lot of plot for very little effort. Notice that we didn't even have to remember to use different arguments for `size` and `style` when we switched from scatter to line plots – we used the same arguments and seaborn interpreted them as \"line size\" or \"marker size\", etc., as appropriate."
   ]
  },
  {
   "cell_type": "markdown",
   "id": "2244f4dd",
   "metadata": {},
   "source": [
    "---"
   ]
  },
  {
   "cell_type": "markdown",
   "id": "9d3f5d51",
   "metadata": {},
   "source": [
    "Re-make the above plot so that color codes stimulus strength and size codes choice."
   ]
  },
  {
   "cell_type": "code",
   "execution_count": null,
   "id": "ce46c5cb",
   "metadata": {},
   "outputs": [],
   "source": []
  },
  {
   "cell_type": "markdown",
   "id": "9a5681ea",
   "metadata": {},
   "source": [
    "Whether that made the plot better or worse is debatable, but the point is that we could so easily change it and see!"
   ]
  },
  {
   "cell_type": "markdown",
   "id": "c8a0019c",
   "metadata": {},
   "source": [
    "---"
   ]
  },
  {
   "cell_type": "markdown",
   "id": "5129053b",
   "metadata": {},
   "source": [
    "#### Automagic uncertainties (graphical stats)"
   ]
  },
  {
   "cell_type": "markdown",
   "id": "fa11e372",
   "metadata": {},
   "source": [
    "Let's load another data set. This data set is from a functional MRI experiment."
   ]
  },
  {
   "cell_type": "code",
   "execution_count": null,
   "id": "2b840bb9",
   "metadata": {},
   "outputs": [],
   "source": [
    "fmri = sns.load_dataset(\"fmri\")"
   ]
  },
  {
   "cell_type": "code",
   "execution_count": null,
   "id": "e49df7a2",
   "metadata": {},
   "outputs": [],
   "source": [
    "# peek at the data\n",
    "fmri"
   ]
  },
  {
   "cell_type": "markdown",
   "id": "3dda2a19",
   "metadata": {},
   "source": [
    "So we have a fairly large data set consisting of 5 variables:\n",
    "\n",
    "- an fMRI signal\n",
    "- time\n",
    "- brain area\n",
    "- type of event\n",
    "- person"
   ]
  },
  {
   "cell_type": "markdown",
   "id": "186bfb19",
   "metadata": {},
   "source": [
    "We can assign all 5 variables to aesthetic elements of a figure:"
   ]
  },
  {
   "cell_type": "code",
   "execution_count": null,
   "id": "1bc11e61",
   "metadata": {},
   "outputs": [],
   "source": [
    "sns.relplot(\n",
    "    data=fmri, kind=\"line\",\n",
    "    x=\"timepoint\", y=\"signal\", col=\"region\",\n",
    "    hue=\"subject\", style=\"event\",\n",
    ")"
   ]
  },
  {
   "cell_type": "markdown",
   "id": "74708c5f",
   "metadata": {},
   "source": [
    "That worked, and an aficionado might be able to see what's going on. But the plot might be easier to interpret if we took the mean across subjects and just plot that (which was probably the whole point of running multiple subjects in this experiment).\n",
    "\n",
    "Let's see what happens if we leave subject out of our aesthetic specification..."
   ]
  },
  {
   "cell_type": "code",
   "execution_count": null,
   "id": "32a0a1a5",
   "metadata": {},
   "outputs": [],
   "source": [
    "sns.relplot(\n",
    "    data=fmri, kind=\"line\",\n",
    "    x=\"timepoint\", y=\"signal\", col=\"region\",\n",
    "    hue=\"event\", style=\"event\",\n",
    ")"
   ]
  },
  {
   "cell_type": "markdown",
   "id": "d5a47a3e",
   "metadata": {},
   "source": [
    "Nice! The `relplot()` function figured out that, if we didn't a given variable explicitly coded in our plot, then we probably wanted to average across it. \n",
    "\n",
    "And because seaborn was written by an actual scientist, `lineplot()` (which we called above via the `kind` argument) also included 95% CIs on the mean computed by bootstrapping."
   ]
  },
  {
   "cell_type": "markdown",
   "id": "67673ea9",
   "metadata": {},
   "source": [
    "---"
   ]
  },
  {
   "cell_type": "markdown",
   "id": "068ac90b",
   "metadata": {},
   "source": [
    "In the above plot, it looks like the standard deviation of activation might be proportional to mean activation. \n",
    "\n",
    "Check this quickly by just re-making the above plot, but having seaborn compute the standard deviation instead of the mean for us.\n",
    "\n",
    "The doc page for `lineplot()` is [here](https://seaborn.pydata.org/generated/seaborn.lineplot.html#seaborn.lineplot)."
   ]
  },
  {
   "cell_type": "code",
   "execution_count": null,
   "id": "0de3bb66",
   "metadata": {},
   "outputs": [],
   "source": []
  },
  {
   "cell_type": "markdown",
   "id": "89873684",
   "metadata": {},
   "source": [
    "Sure enough!"
   ]
  },
  {
   "cell_type": "markdown",
   "id": "9bcc67a6",
   "metadata": {},
   "source": [
    "---"
   ]
  },
  {
   "cell_type": "markdown",
   "id": "1270964c",
   "metadata": {},
   "source": [
    "### Distribution plots"
   ]
  },
  {
   "cell_type": "markdown",
   "id": "7ed73ed5",
   "metadata": {},
   "source": [
    "Seaborn makes it very easy to plot data distributions. Here's one for our fMRI data. The `kde` argument is going to add a 'kernel density estimate' (a best guess as to what the smooth version of the distribution looks like) for us."
   ]
  },
  {
   "cell_type": "code",
   "execution_count": null,
   "id": "61f36dc5",
   "metadata": {},
   "outputs": [],
   "source": [
    "sns.displot(data=fmri, x=\"signal\", col=\"event\", kde=True)"
   ]
  },
  {
   "cell_type": "markdown",
   "id": "c4240e37",
   "metadata": {},
   "source": [
    "That was easy but it's a little hard to compare these two distributions as is. Is overall activation higher for stimuli vs. cue? Or is overall activation the thing that matters?"
   ]
  },
  {
   "cell_type": "markdown",
   "id": "e4f94053",
   "metadata": {},
   "source": [
    "---"
   ]
  },
  {
   "cell_type": "markdown",
   "id": "4b18bb60",
   "metadata": {},
   "source": [
    "Re-make the figure above so that visually comparing this distributions is easier. Hint: change the aesthetic property that 'event' maps to."
   ]
  },
  {
   "cell_type": "code",
   "execution_count": null,
   "id": "95a63bdd",
   "metadata": {},
   "outputs": [],
   "source": []
  },
  {
   "cell_type": "markdown",
   "id": "e04ec47e",
   "metadata": {},
   "source": [
    "---"
   ]
  },
  {
   "cell_type": "markdown",
   "id": "723dab1b",
   "metadata": {},
   "source": [
    "### Categorical plots"
   ]
  },
  {
   "cell_type": "markdown",
   "id": "8ee45ee3",
   "metadata": {},
   "source": [
    "Let's try playing with `catplot()`"
   ]
  },
  {
   "cell_type": "code",
   "execution_count": null,
   "id": "e7ffac58",
   "metadata": {},
   "outputs": [],
   "source": [
    "sns.catplot(data=tips, x=\"day\", y=\"total_bill\", hue=\"smoker\", alpha = 0.7)"
   ]
  },
  {
   "cell_type": "markdown",
   "id": "bbececa9",
   "metadata": {},
   "source": [
    "A `stripplot` is the default axes-level plot for `catplot()` (and notice that the default axes-level plots are the first ones listed under their corresponding figure-level counterparts. But we can have it call `boxplot()` for us by telling it that we want `kind=\"box\"`."
   ]
  },
  {
   "cell_type": "code",
   "execution_count": null,
   "id": "62fe1e12",
   "metadata": {},
   "outputs": [],
   "source": [
    "sns.catplot(data=tips, kind=\"box\", x=\"day\", y=\"total_bill\", hue=\"smoker\")"
   ]
  },
  {
   "cell_type": "markdown",
   "id": "ba5f26f7",
   "metadata": {},
   "source": [
    "If we request a bar plot, notice that seaborn computes and plots the means and also displays confidence intervals – another indication that seaborn was written by a scientist, not a programmer."
   ]
  },
  {
   "cell_type": "code",
   "execution_count": null,
   "id": "0e0ebeff",
   "metadata": {},
   "outputs": [],
   "source": [
    "sns.catplot(data=tips, kind=\"bar\", x=\"day\", y=\"total_bill\", hue=\"smoker\")"
   ]
  },
  {
   "cell_type": "markdown",
   "id": "63886d7a",
   "metadata": {},
   "source": [
    "---"
   ]
  },
  {
   "cell_type": "markdown",
   "id": "7d305334",
   "metadata": {},
   "source": [
    "Make a violin plot showing signal (y axis) broken out by brain region and event type."
   ]
  },
  {
   "cell_type": "code",
   "execution_count": null,
   "id": "d656e65e",
   "metadata": {},
   "outputs": [],
   "source": []
  },
  {
   "cell_type": "markdown",
   "id": "0dc2702c",
   "metadata": {},
   "source": [
    "---"
   ]
  },
  {
   "cell_type": "markdown",
   "id": "d5fe88a3",
   "metadata": {},
   "source": [
    "### Useful built in plots"
   ]
  },
  {
   "cell_type": "markdown",
   "id": "b8149a64",
   "metadata": {},
   "source": [
    "Let's remake a plot similar to one we've made before."
   ]
  },
  {
   "cell_type": "markdown",
   "id": "2dba3a9c",
   "metadata": {},
   "source": [
    "First, we'll import numpy and pandas so we can make and store some data."
   ]
  },
  {
   "cell_type": "code",
   "execution_count": null,
   "id": "c012ce2d",
   "metadata": {},
   "outputs": [],
   "source": [
    "import numpy as np\n",
    "import pandas as pd"
   ]
  },
  {
   "cell_type": "markdown",
   "id": "91ca8724",
   "metadata": {},
   "source": [
    "Then make some data like we did when reviewing matplotlib, but we'll convert to a pandas `DataFrame` at the end."
   ]
  },
  {
   "cell_type": "code",
   "execution_count": null,
   "id": "4f8adac2",
   "metadata": {},
   "outputs": [],
   "source": [
    "### make some data to play with\n",
    "my_means = [0, 0]\n",
    "my_cov = [[2, -1.9], [-1.9, 3]]\n",
    "my_n = 5000\n",
    "\n",
    "my_rng = np.random.default_rng(42)\n",
    "x, y = my_rng.multivariate_normal(my_means, my_cov, my_n).T\n",
    "\n",
    "df = pd.DataFrame(dict(x=x, y=y))"
   ]
  },
  {
   "cell_type": "markdown",
   "id": "50446bc4",
   "metadata": {},
   "source": [
    "And then we'll call the seaborn function `jointplot()` to make a \"joint distribution plot\"."
   ]
  },
  {
   "cell_type": "code",
   "execution_count": null,
   "id": "bd933d99",
   "metadata": {},
   "outputs": [],
   "source": [
    "sns.jointplot(data=df, x='x', y='y', alpha = 0.2)"
   ]
  },
  {
   "cell_type": "markdown",
   "id": "f3f42f69",
   "metadata": {},
   "source": [
    "That was easy!"
   ]
  },
  {
   "cell_type": "markdown",
   "id": "4ffbb089",
   "metadata": {},
   "source": [
    "In order to really flex seaborn's muscles, though, let's load the built-in \"penguins\" data set."
   ]
  },
  {
   "cell_type": "code",
   "execution_count": null,
   "id": "94fc8a7f",
   "metadata": {},
   "outputs": [],
   "source": [
    "penguins = sns.load_dataset(\"penguins\")"
   ]
  },
  {
   "cell_type": "code",
   "execution_count": null,
   "id": "f5337e3e",
   "metadata": {},
   "outputs": [],
   "source": [
    "penguins"
   ]
  },
  {
   "cell_type": "markdown",
   "id": "dcbe0fdf",
   "metadata": {},
   "source": [
    "So it looks like we have four measurements taken on penguins of different species, etc. Let's make a joint plot of some of these data."
   ]
  },
  {
   "cell_type": "code",
   "execution_count": null,
   "id": "49c1b95c",
   "metadata": {
    "scrolled": false
   },
   "outputs": [],
   "source": [
    "sns.jointplot(data=penguins, x=\"flipper_length_mm\", y=\"body_mass_g\", hue=\"species\")"
   ]
  },
  {
   "cell_type": "markdown",
   "id": "22cd5c92",
   "metadata": {},
   "source": [
    "Ah, that's nice! We can see that body weight and flipper length are about as correlated as any biological measurement can get. Moreover, Gentoos are clearly biggest of the three types of dinosaur."
   ]
  },
  {
   "cell_type": "markdown",
   "id": "accb77e2",
   "metadata": {},
   "source": [
    "---"
   ]
  },
  {
   "cell_type": "markdown",
   "id": "60c95922",
   "metadata": {},
   "source": [
    "Re-make the above plot using bill length instead of body mass on the y axis."
   ]
  },
  {
   "cell_type": "code",
   "execution_count": null,
   "id": "ee75ba2f",
   "metadata": {
    "scrolled": false
   },
   "outputs": [],
   "source": []
  },
  {
   "cell_type": "markdown",
   "id": "c2f20fc0",
   "metadata": {},
   "source": [
    "What does this plot tell you? Could you discriminate amongst the species using either one of the variables alone? How about using both variables?"
   ]
  },
  {
   "cell_type": "markdown",
   "id": "3cda1956",
   "metadata": {},
   "source": []
  },
  {
   "cell_type": "markdown",
   "id": "82ff7259",
   "metadata": {},
   "source": [
    "---"
   ]
  },
  {
   "cell_type": "markdown",
   "id": "6553f2c7",
   "metadata": {},
   "source": [
    "Make a `pairplot()` of the penguin data, using species to set the color."
   ]
  },
  {
   "cell_type": "code",
   "execution_count": null,
   "id": "7e2b35bd",
   "metadata": {},
   "outputs": [],
   "source": [
    "sns.pairplot(data=penguins, hue=\"species\")"
   ]
  },
  {
   "cell_type": "markdown",
   "id": "c76b274a",
   "metadata": {},
   "source": [
    "What combinations of variables would allow you to do a decent job of categorizing the species? Could you do it just based on bill measurements?"
   ]
  },
  {
   "cell_type": "markdown",
   "id": "4533c06a",
   "metadata": {},
   "source": []
  },
  {
   "cell_type": "markdown",
   "id": "2be400c8",
   "metadata": {},
   "source": [
    "---"
   ]
  },
  {
   "cell_type": "markdown",
   "id": "0b7d7e61",
   "metadata": {},
   "source": [
    "### matplotlib style customization"
   ]
  },
  {
   "cell_type": "markdown",
   "id": "3c147c56",
   "metadata": {},
   "source": [
    "The axes-level functions return a matplotlib axes object. "
   ]
  },
  {
   "cell_type": "code",
   "execution_count": null,
   "id": "614fff1e",
   "metadata": {},
   "outputs": [],
   "source": [
    "ax = sns.scatterplot(data=df, x='x', y='y', alpha = 0.2)"
   ]
  },
  {
   "cell_type": "markdown",
   "id": "533af25c",
   "metadata": {},
   "source": [
    "We can verify this by checking its type."
   ]
  },
  {
   "cell_type": "code",
   "execution_count": null,
   "id": "03d79563",
   "metadata": {},
   "outputs": [],
   "source": [
    "type(ax)"
   ]
  },
  {
   "cell_type": "markdown",
   "id": "3aee3976",
   "metadata": {},
   "source": [
    "You can use this to customize your plot using the matplotlib axes methods, like `set_label()`, etc., just as though you had created the plot directly in matplotlib."
   ]
  },
  {
   "cell_type": "code",
   "execution_count": null,
   "id": "75a8ae49",
   "metadata": {},
   "outputs": [],
   "source": [
    "ax = sns.scatterplot(data=df, x='x', y='y', alpha = 0.2)\n",
    "ax.set_xlabel(\"Ex\")\n",
    "ax.set_ylabel(\"Why?\")\n",
    "ax.set_title('Why vs. Ex')"
   ]
  },
  {
   "cell_type": "markdown",
   "id": "f9d827bd",
   "metadata": {},
   "source": [
    "If we use one of the higher level plotting functions, we get back something called a FacetGrid that seaborn has created. "
   ]
  },
  {
   "cell_type": "code",
   "execution_count": null,
   "id": "e22745a3",
   "metadata": {},
   "outputs": [],
   "source": [
    "fg = sns.relplot(\n",
    "    data=fmri, kind=\"line\",\n",
    "    x=\"timepoint\", y=\"signal\", col=\"region\",\n",
    "    hue=\"event\", style=\"event\",\n",
    ")"
   ]
  },
  {
   "cell_type": "code",
   "execution_count": null,
   "id": "9ada5091",
   "metadata": {},
   "outputs": [],
   "source": [
    "type(fg)"
   ]
  },
  {
   "cell_type": "markdown",
   "id": "690239c4",
   "metadata": {},
   "source": [
    "If we type \"fg.\" and hit \\<TAB\\>, we can see that it has a lot of methods we can put to work for us."
   ]
  },
  {
   "cell_type": "code",
   "execution_count": null,
   "id": "14518f7a",
   "metadata": {},
   "outputs": [],
   "source": [
    "fg."
   ]
  },
  {
   "cell_type": "markdown",
   "id": "f5036af8",
   "metadata": {},
   "source": [
    "It also gives us access to the matplotlib figure via `fg.fig`, so we can set figure level properties."
   ]
  },
  {
   "cell_type": "markdown",
   "id": "1a32f93d",
   "metadata": {},
   "source": [
    "---"
   ]
  },
  {
   "cell_type": "markdown",
   "id": "f8f1f391",
   "metadata": {},
   "source": [
    "In the cell below, add a line at the bottom to set the figure's background to a different color."
   ]
  },
  {
   "cell_type": "code",
   "execution_count": null,
   "id": "991f3f0f",
   "metadata": {},
   "outputs": [],
   "source": [
    "fg = sns.relplot(\n",
    "    data=fmri, kind=\"line\",\n",
    "    x=\"timepoint\", y=\"signal\", col=\"region\",\n",
    "    hue=\"event\", style=\"event\",\n",
    ")\n",
    "\n",
    "# set background to a different color\n",
    "\n"
   ]
  },
  {
   "cell_type": "markdown",
   "id": "4a298e48",
   "metadata": {},
   "source": [
    "---"
   ]
  },
  {
   "cell_type": "markdown",
   "id": "0416c468",
   "metadata": {},
   "source": [
    "Here's a fancy example."
   ]
  },
  {
   "cell_type": "code",
   "execution_count": null,
   "id": "94560a1b",
   "metadata": {},
   "outputs": [],
   "source": [
    "sns.set_theme(style=\"whitegrid\", font_scale=1.25)\n",
    "fg = sns.relplot(\n",
    "    data=penguins,\n",
    "    x=\"bill_length_mm\", y=\"bill_depth_mm\", hue=\"body_mass_g\",\n",
    "    marker=\"o\", s=100, alpha = 0.4\n",
    ")\n",
    "fg.set_axis_labels(\"Bill length (mm)\", \"Bill depth (mm)\", labelpad=10)\n",
    "fg.legend.set_title(\"Body mass (g)\")\n",
    "fg.figure.set_size_inches(6.5, 4.5)\n",
    "fg.ax.margins(.15)\n",
    "fg.despine(trim=True)"
   ]
  },
  {
   "cell_type": "markdown",
   "id": "115fb8a8",
   "metadata": {},
   "source": [
    "---"
   ]
  },
  {
   "cell_type": "markdown",
   "id": "1792affe",
   "metadata": {},
   "source": [
    "## Conclusion\n",
    "Seaborn is a very powerful plotting package. It gives us both high-level easy plotting combined with the ability to do low-level customization if we wish. For custom figure layouts, matplotlib might be required. But for many plotting tasks, seaborn makes nice looking plots and can be a huge time saver!"
   ]
  },
  {
   "cell_type": "code",
   "execution_count": null,
   "id": "474552d5",
   "metadata": {},
   "outputs": [],
   "source": []
  }
 ],
 "metadata": {
  "kernelspec": {
   "display_name": "Python 3 (ipykernel)",
   "language": "python",
   "name": "python3"
  },
  "language_info": {
   "codemirror_mode": {
    "name": "ipython",
    "version": 3
   },
   "file_extension": ".py",
   "mimetype": "text/x-python",
   "name": "python",
   "nbconvert_exporter": "python",
   "pygments_lexer": "ipython3",
   "version": "3.9.7"
  }
 },
 "nbformat": 4,
 "nbformat_minor": 5
}
