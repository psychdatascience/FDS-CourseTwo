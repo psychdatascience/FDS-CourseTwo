{
 "cells": [
  {
   "cell_type": "markdown",
   "id": "dc657869",
   "metadata": {},
   "source": [
    "# Pandas Review"
   ]
  },
  {
   "cell_type": "markdown",
   "id": "d4847168",
   "metadata": {},
   "source": [
    "Pandas is a Python package for organizing and analyzing data. In one sense, it is a generalization of NumPy, on which it is based.\n",
    "\n",
    "NumPy is fantastic for working with numerical data that are \"well behaved\". For example, if you are analyzing data from a tightly controlled laboratory experiment, then NumPy might be perfect.\n",
    "\n",
    "In the broader world of behavioral data science, however, data can be complicated. Variables can be of multiple types, values can be missing, etc. Pandas was developed to make it easier for us to work with data sets in general, not just numerical arrays.\n",
    "\n",
    "If you have experience in R then, in a nutshell, pandas gives you an equivalent to R in Python (some data scientists use both, picking one or the other depending on the project, but most people prefer sticking with one language if they can)."
   ]
  },
  {
   "cell_type": "markdown",
   "id": "e790fc88",
   "metadata": {},
   "source": [
    "## Pandas Data"
   ]
  },
  {
   "cell_type": "markdown",
   "id": "4a3d4589",
   "metadata": {},
   "source": [
    "The main data object in pandas is the `DataFrame`. It is a table of data in which each column has a name, generally corresponding to a specific real-world variable. \n",
    "\n",
    "Just as we can think about a NumPy array as a spatial layout of a Python list of lists, we can think of a pandas `DataFrame` as a spatial layout of a Python dictionary."
   ]
  },
  {
   "cell_type": "markdown",
   "id": "c95be220",
   "metadata": {},
   "source": [
    "Consider the following Python dictionary:"
   ]
  },
  {
   "cell_type": "code",
   "execution_count": 146,
   "id": "4e59faa0",
   "metadata": {},
   "outputs": [],
   "source": [
    "dis_chars = {'name': ['Mickey', 'Minnie', 'Pluto'],\n",
    "             'gender': ['m', 'f', 'n'],\n",
    "             'age': [95, 95, 93],}"
   ]
  },
  {
   "cell_type": "code",
   "execution_count": 147,
   "id": "296de877",
   "metadata": {},
   "outputs": [
    {
     "data": {
      "text/plain": [
       "{'name': ['Mickey', 'Minnie', 'Pluto'],\n",
       " 'gender': ['m', 'f', 'n'],\n",
       " 'age': [95, 95, 93]}"
      ]
     },
     "execution_count": 147,
     "metadata": {},
     "output_type": "execute_result"
    }
   ],
   "source": [
    "dis_chars"
   ]
  },
  {
   "cell_type": "markdown",
   "id": "07b57269",
   "metadata": {},
   "source": [
    "On the one hand, this is a nice organized *container* of data. But on the other hand, it is not much else. If we wanted to compute anything, like the mean age of all non-male characters, we'd have to start writing code from scratch."
   ]
  },
  {
   "cell_type": "markdown",
   "id": "994b273a",
   "metadata": {},
   "source": [
    "Let's make our dictionary into a `DataFrame`. First, we'll import pandas."
   ]
  },
  {
   "cell_type": "code",
   "execution_count": null,
   "id": "6a505c88",
   "metadata": {},
   "outputs": [],
   "source": [
    "import pandas as pd"
   ]
  },
  {
   "cell_type": "markdown",
   "id": "662631cd",
   "metadata": {},
   "source": [
    "Importing pandas as `pd` is conventional, like importing numpy as `np`, so there's no reason to do anything else.\n",
    "\n",
    "Now we can convert our data to a `DataFrame` using `pd.DataFrame()`."
   ]
  },
  {
   "cell_type": "code",
   "execution_count": null,
   "id": "1ea35b3c",
   "metadata": {},
   "outputs": [],
   "source": [
    "dis_df = pd.DataFrame(dis_chars)"
   ]
  },
  {
   "cell_type": "markdown",
   "id": "5826ecae",
   "metadata": {},
   "source": [
    "And let's look at our new creation!"
   ]
  },
  {
   "cell_type": "code",
   "execution_count": null,
   "id": "4890c8e7",
   "metadata": {},
   "outputs": [],
   "source": [
    "dis_df"
   ]
  },
  {
   "cell_type": "markdown",
   "id": "8709c3ed",
   "metadata": {},
   "source": [
    "Now we have a nice organized table of data, in which each column corresponds to a variable, and can be referred to by name. "
   ]
  },
  {
   "cell_type": "code",
   "execution_count": null,
   "id": "a86f67f1",
   "metadata": {},
   "outputs": [],
   "source": [
    "dis_df['name']"
   ]
  },
  {
   "cell_type": "markdown",
   "id": "e8917201",
   "metadata": {},
   "source": [
    "Further, it makes it relatively easy for us to do lots of analyses \"out of the box\". For example:"
   ]
  },
  {
   "cell_type": "code",
   "execution_count": null,
   "id": "8ca65cdd",
   "metadata": {},
   "outputs": [],
   "source": [
    "dis_df['age'].mean()"
   ]
  },
  {
   "cell_type": "markdown",
   "id": "6fdc2071",
   "metadata": {},
   "source": [
    "Here, we just grabbed a column of data by name (`dis_df['age']`), and then computed its mean with the built-in `mean()` method."
   ]
  },
  {
   "cell_type": "markdown",
   "id": "3ca075d0",
   "metadata": {},
   "source": [
    "The `DataFrame` isn't the only type of object in pandas, but it's the biggie. If you have experience in R, then you'll be in familiar territory, because the `DataFrame` in Python is modeled after the data frame (or tibble) in R."
   ]
  },
  {
   "cell_type": "code",
   "execution_count": null,
   "id": "a8ac4dc9",
   "metadata": {},
   "outputs": [],
   "source": [
    "type(dis_df)"
   ]
  },
  {
   "cell_type": "markdown",
   "id": "9e8257a0",
   "metadata": {},
   "source": [
    "Each column of a `DataFrame` is a pandas `Series`."
   ]
  },
  {
   "cell_type": "code",
   "execution_count": null,
   "id": "54f9a43f",
   "metadata": {},
   "outputs": [],
   "source": [
    "dis_age_s = dis_df['age']\n",
    "dis_age_s"
   ]
  },
  {
   "cell_type": "code",
   "execution_count": null,
   "id": "adf38adf",
   "metadata": {},
   "outputs": [],
   "source": [
    "type(dis_age_s)"
   ]
  },
  {
   "cell_type": "markdown",
   "id": "bd58427e",
   "metadata": {},
   "source": [
    "And each series is a collection of more fundamental objects. So if we look at the last age in our series..."
   ]
  },
  {
   "cell_type": "code",
   "execution_count": null,
   "id": "6d7634fd",
   "metadata": {},
   "outputs": [],
   "source": [
    "a = dis_age_s[2]\n",
    "a"
   ]
  },
  {
   "cell_type": "markdown",
   "id": "390b37c7",
   "metadata": {},
   "source": [
    "And check the type..."
   ]
  },
  {
   "cell_type": "code",
   "execution_count": null,
   "id": "62bb0969",
   "metadata": {},
   "outputs": [],
   "source": [
    "type(a)"
   ]
  },
  {
   "cell_type": "markdown",
   "id": "4bc102f9",
   "metadata": {},
   "source": [
    "We see that it is a numpy integer; a hint that pandas is indeed built from NumPy!"
   ]
  },
  {
   "cell_type": "markdown",
   "id": "1d851c34",
   "metadata": {},
   "source": [
    "If we check the type of one of the other values:"
   ]
  },
  {
   "cell_type": "code",
   "execution_count": null,
   "id": "044e1af8",
   "metadata": {},
   "outputs": [],
   "source": [
    "type(dis_df['gender'][2])"
   ]
  },
  {
   "cell_type": "markdown",
   "id": "0a938e97",
   "metadata": {},
   "source": [
    "We see that it is a Python string object. (Take a moment to dissect that line of code, and see how it is doing exactly the same thing as we did to get the type of an age value, just in one go.)"
   ]
  },
  {
   "cell_type": "markdown",
   "id": "8c912ee2",
   "metadata": {},
   "source": [
    "---"
   ]
  },
  {
   "cell_type": "markdown",
   "id": "8ad6accf",
   "metadata": {},
   "source": [
    "In the code cell below, get the very first name in our Disney `DataFrame`."
   ]
  },
  {
   "cell_type": "code",
   "execution_count": null,
   "id": "3144a59d",
   "metadata": {},
   "outputs": [],
   "source": [
    "# At first, Mickey's name was going to be Mortimer Mouse. I know, right?\n"
   ]
  },
  {
   "cell_type": "markdown",
   "id": "ba976337",
   "metadata": {},
   "source": [
    "---"
   ]
  },
  {
   "cell_type": "markdown",
   "id": "f0cf1135",
   "metadata": {},
   "source": [
    "One great thing about pandas is that, if we want to add a column, we just act like it already exists and assign values to it. Like this:"
   ]
  },
  {
   "cell_type": "code",
   "execution_count": null,
   "id": "5f87d9ab",
   "metadata": {},
   "outputs": [],
   "source": [
    "dis_df['wearsBow'] = [False, True, False]\n",
    "dis_df"
   ]
  },
  {
   "cell_type": "markdown",
   "id": "3bea13cb",
   "metadata": {},
   "source": [
    "Notice that we are addressing a 'wearsBow' column just like we would an existing column such as 'name'. Pandas, rather than complain and be annoying, just creates the column for us!"
   ]
  },
  {
   "cell_type": "markdown",
   "id": "d036383e",
   "metadata": {},
   "source": [
    "## Data i/o (Input and Output)"
   ]
  },
  {
   "cell_type": "markdown",
   "id": "2114519e",
   "metadata": {},
   "source": [
    "One of the really great things about pandas is that it makes reading, inspecting, and writing data files in common formats very easy. "
   ]
  },
  {
   "cell_type": "markdown",
   "id": "f4464588",
   "metadata": {},
   "source": [
    "### Importing (input)"
   ]
  },
  {
   "cell_type": "markdown",
   "id": "2edd4bf6",
   "metadata": {},
   "source": [
    "Following the pandas documentation, let's look at some data about the passengers on the RMS Titanic. \n",
    "\n",
    "Download the titanic.csv and place in folder named 'data' that is in the same folder as you have this notebook.\n",
    "\n",
    "Now, loading it is as easy as calling `pd.read_csv()`:"
   ]
  },
  {
   "cell_type": "code",
   "execution_count": null,
   "id": "763fa66b",
   "metadata": {},
   "outputs": [],
   "source": [
    "In [2]: titanic = pd.read_csv(\"data/titanic.csv\")"
   ]
  },
  {
   "cell_type": "markdown",
   "id": "33ae287c",
   "metadata": {},
   "source": [
    "There are lots of other formats that pandas can read, including excel and html. \n",
    "\n",
    "It can even read data from the clipboard! Try it! Go to the [Wikepedia page for Austin](https://en.wikipedia.org/wiki/Austin,_Texas), scroll to the demographics section, and select the three columns (including the headers) down to 2020, and copy them to your clipboard.\n",
    "\n",
    "Now run the code below."
   ]
  },
  {
   "cell_type": "code",
   "execution_count": 151,
   "id": "64ff5860",
   "metadata": {},
   "outputs": [],
   "source": [
    "atx_pop = pd.read_clipboard()"
   ]
  },
  {
   "cell_type": "code",
   "execution_count": null,
   "id": "caafbfac",
   "metadata": {},
   "outputs": [],
   "source": [
    "atx_pop"
   ]
  },
  {
   "cell_type": "markdown",
   "id": "233023b9",
   "metadata": {},
   "source": [
    "### Inspecting"
   ]
  },
  {
   "cell_type": "markdown",
   "id": "838b6d0a",
   "metadata": {},
   "source": [
    "It's important to peek at any imported data to make sure nothing looks funny (like we just did with the Austin population data). So let's peek at the RMS Titanic data."
   ]
  },
  {
   "cell_type": "code",
   "execution_count": null,
   "id": "9024159b",
   "metadata": {},
   "outputs": [],
   "source": [
    "titanic"
   ]
  },
  {
   "cell_type": "markdown",
   "id": "c3da4895",
   "metadata": {},
   "source": [
    "A nice thing about pandas `DataFrames` is that, by default, they show you their first and last 5 rows (their head and tail), and then tell you how big they are (891x12 in this case)."
   ]
  },
  {
   "cell_type": "markdown",
   "id": "3a0df3fa",
   "metadata": {},
   "source": [
    "We can look at as much of the head or tail as we want with the `head()` and `tail()` methods."
   ]
  },
  {
   "cell_type": "code",
   "execution_count": null,
   "id": "1d8bc54e",
   "metadata": {
    "scrolled": false
   },
   "outputs": [],
   "source": [
    "titanic.tail(9)"
   ]
  },
  {
   "cell_type": "markdown",
   "id": "a6d73808",
   "metadata": {},
   "source": [
    "---"
   ]
  },
  {
   "cell_type": "markdown",
   "id": "4ed26d09",
   "metadata": {},
   "source": [
    "Use the cell below to display the first 11 rows of the titanic data."
   ]
  },
  {
   "cell_type": "code",
   "execution_count": null,
   "id": "c639fda4",
   "metadata": {},
   "outputs": [],
   "source": [
    "# but these rows go to 11...\n"
   ]
  },
  {
   "cell_type": "markdown",
   "id": "f4b36cc7",
   "metadata": {},
   "source": [
    "---"
   ]
  },
  {
   "cell_type": "markdown",
   "id": "dd59c8bb",
   "metadata": {},
   "source": [
    "We can also look at the data types:"
   ]
  },
  {
   "cell_type": "code",
   "execution_count": null,
   "id": "a10f4c1f",
   "metadata": {
    "scrolled": false
   },
   "outputs": [],
   "source": [
    "titanic.dtypes"
   ]
  },
  {
   "cell_type": "markdown",
   "id": "f77eb074",
   "metadata": {},
   "source": [
    "(the columns listed as \"object\" seem to be strings)"
   ]
  },
  {
   "cell_type": "markdown",
   "id": "76105b67",
   "metadata": {},
   "source": [
    "We can also get more detailed information using the `info()` method:"
   ]
  },
  {
   "cell_type": "code",
   "execution_count": null,
   "id": "da04973c",
   "metadata": {},
   "outputs": [],
   "source": [
    "titanic.info()"
   ]
  },
  {
   "cell_type": "markdown",
   "id": "0b0336ef",
   "metadata": {},
   "source": [
    "This gives us a nice summary of the types of data in the columns and, in particular, how many valid (non-missing) values are in each. We can see that \"Cabin\", for example, has many missing values."
   ]
  },
  {
   "cell_type": "markdown",
   "id": "bfa25c15",
   "metadata": {},
   "source": [
    "### Exporting (output)"
   ]
  },
  {
   "cell_type": "markdown",
   "id": "70da12f9",
   "metadata": {},
   "source": [
    "The `to_` methods, such as `to_csv()`, `to_excel()`, etc., allow us to export data in many ways. As an example, let's export the titanic data as a Microsoft Excel file."
   ]
  },
  {
   "cell_type": "markdown",
   "id": "d4941f19",
   "metadata": {},
   "source": [
    "---"
   ]
  },
  {
   "cell_type": "markdown",
   "id": "3de197f4",
   "metadata": {},
   "source": [
    "In the cell below, use `titanic.to_excel(...)` to export the data to an Excel spreadsheet."
   ]
  },
  {
   "cell_type": "code",
   "execution_count": null,
   "id": "f407dc37",
   "metadata": {},
   "outputs": [],
   "source": [
    "# exporting an Excel file!\n"
   ]
  },
  {
   "cell_type": "markdown",
   "id": "ce3149e3",
   "metadata": {},
   "source": [
    "Open the file in Excel to verify that the export worked."
   ]
  },
  {
   "cell_type": "markdown",
   "id": "72418d62",
   "metadata": {},
   "source": [
    "---"
   ]
  },
  {
   "cell_type": "markdown",
   "id": "3ed07ae1",
   "metadata": {},
   "source": [
    "## Selecting Data"
   ]
  },
  {
   "cell_type": "markdown",
   "id": "2bced9e5",
   "metadata": {},
   "source": [
    "In numpy, we select data by primarily by row and column indexes. In pandas, we generally address columns (corresponding to real world variables) by *name* and rows by one or more *criteria*."
   ]
  },
  {
   "cell_type": "markdown",
   "id": "4254cc6e",
   "metadata": {},
   "source": [
    "### Getting columns"
   ]
  },
  {
   "cell_type": "markdown",
   "id": "b16860b0",
   "metadata": {},
   "source": [
    "As we did above with our little toy Disney data, we can compute the mean age of the passengers by grabbing that column of data by name, and then computing the mean of it."
   ]
  },
  {
   "cell_type": "code",
   "execution_count": null,
   "id": "5137b07f",
   "metadata": {},
   "outputs": [],
   "source": [
    "ages = titanic['Age']\n",
    "ages.mean()"
   ]
  },
  {
   "cell_type": "markdown",
   "id": "3a9064d8",
   "metadata": {},
   "source": [
    "---"
   ]
  },
  {
   "cell_type": "markdown",
   "id": "2dc33340",
   "metadata": {},
   "source": [
    "In the cell below, compute the mean age in one line of code (i.e., not creating the temporary 'age' object)."
   ]
  },
  {
   "cell_type": "code",
   "execution_count": null,
   "id": "1dc2be55",
   "metadata": {},
   "outputs": [],
   "source": [
    "# average age of passengers on the RMS Titanic\n"
   ]
  },
  {
   "cell_type": "markdown",
   "id": "0d37b7d6",
   "metadata": {},
   "source": [
    "---"
   ]
  },
  {
   "cell_type": "markdown",
   "id": "3f3470f0",
   "metadata": {},
   "source": [
    "We can get multiple columns by indexing our `DataFrame` with a Python list of column names. We can do this in two lines for readability."
   ]
  },
  {
   "cell_type": "code",
   "execution_count": null,
   "id": "525b6f85",
   "metadata": {},
   "outputs": [],
   "source": [
    "wanted_cols = ['Fare', 'Survived']\n",
    "fare_surv = titanic[wanted_cols]"
   ]
  },
  {
   "cell_type": "code",
   "execution_count": null,
   "id": "d925119c",
   "metadata": {},
   "outputs": [],
   "source": [
    "fare_surv"
   ]
  },
  {
   "cell_type": "markdown",
   "id": "340194cc",
   "metadata": {},
   "source": [
    "But more commonly we do it in a single line."
   ]
  },
  {
   "cell_type": "code",
   "execution_count": null,
   "id": "3ab7d83d",
   "metadata": {},
   "outputs": [],
   "source": [
    "fare_surv = titanic[['Fare', 'Survived']]"
   ]
  },
  {
   "cell_type": "markdown",
   "id": "4c34d7a3",
   "metadata": {},
   "source": [
    "Your initial reaction might be \"Why the double brackets? Why not single brackets?\", and the reason should be clear if we look back at the two line example: the `DataFrame` expects a Python list, not separate strings. So the outer set of brackets are indexing brackets, and the inner set defines a Python list."
   ]
  },
  {
   "cell_type": "markdown",
   "id": "5730c0cf",
   "metadata": {},
   "source": [
    "### Getting rows"
   ]
  },
  {
   "cell_type": "markdown",
   "id": "84e7d753",
   "metadata": {},
   "source": [
    "We generally extract rows of interest by placing one or more criterea on a particular column. "
   ]
  },
  {
   "cell_type": "code",
   "execution_count": null,
   "id": "55ddc809",
   "metadata": {},
   "outputs": [],
   "source": [
    "my_critereon = fare_surv['Fare'] > 20\n",
    "rich = fare_surv[my_critereon]"
   ]
  },
  {
   "cell_type": "markdown",
   "id": "c6081cbb",
   "metadata": {},
   "source": [
    "What is actually happening here is that the logical test `fare_surv['Fare'] > 20` is creating a pandas series that is `True` for the rows in which the fare paid was greater than 20 pounds sterling, and `False` otherwise. \n",
    "\n",
    "Let's look at `my_critereon`:"
   ]
  },
  {
   "cell_type": "code",
   "execution_count": null,
   "id": "1b7f4ff7",
   "metadata": {},
   "outputs": [],
   "source": [
    "my_critereon"
   ]
  },
  {
   "cell_type": "markdown",
   "id": "8cc5d987",
   "metadata": {},
   "source": [
    "This series is then used to get all the rows of `fare_surv` that correspond to the `True` values, and these are placed in `rich`.\n",
    "\n",
    "This is known as ***logical indexing***, and is widely used in data analysis!"
   ]
  },
  {
   "cell_type": "markdown",
   "id": "8af28b07",
   "metadata": {},
   "source": [
    "As with fetching columns, we can do this one line instead of two."
   ]
  },
  {
   "cell_type": "code",
   "execution_count": null,
   "id": "d17ba64c",
   "metadata": {},
   "outputs": [],
   "source": [
    "rich = fare_surv[fare_surv['Fare'] > 20]"
   ]
  },
  {
   "cell_type": "markdown",
   "id": "bedfbe50",
   "metadata": {},
   "source": [
    "Whether you make a separate indexing series like `my_critereon` or put the test inside the indexing brackets is up to you. For simple tests, putting the test inside the brackets doesn't hurt the readability of the code at all. For more complicated tests – if you wanted all the cases of female passengers that paid between 20 and 50 lbs. for their fare, and had no siblings and two parents aboard, say – then you might want to make the test series first, and then do the indexing. "
   ]
  },
  {
   "cell_type": "markdown",
   "id": "8afd5de8",
   "metadata": {},
   "source": [
    "---"
   ]
  },
  {
   "cell_type": "markdown",
   "id": "01ca0131",
   "metadata": {},
   "source": [
    "In the cell below, get the passenger class (`Pclass`) and survival status of passengers that paid more than 20 pounds for their voyage."
   ]
  },
  {
   "cell_type": "code",
   "execution_count": null,
   "id": "1e30f9d5",
   "metadata": {},
   "outputs": [],
   "source": [
    "# passenger class and survival of high fares\n"
   ]
  },
  {
   "cell_type": "markdown",
   "id": "0ce2826b",
   "metadata": {},
   "source": [
    "Now fetch the same for passengers that paid 20 pounds or less for their voyage."
   ]
  },
  {
   "cell_type": "code",
   "execution_count": 153,
   "id": "21d3a700",
   "metadata": {
    "scrolled": false
   },
   "outputs": [],
   "source": [
    "# passenger class and survival of low fares\n"
   ]
  },
  {
   "cell_type": "markdown",
   "id": "6dddbae0",
   "metadata": {},
   "source": [
    "Finally, get the class and survival status for passengers that paid either less than 10 lbs. **or** more than 50 lbs. for their fare. "
   ]
  },
  {
   "cell_type": "code",
   "execution_count": 154,
   "id": "f5998d53",
   "metadata": {},
   "outputs": [],
   "source": [
    "# ppl paying a little *or* a lot\n"
   ]
  },
  {
   "cell_type": "markdown",
   "id": "e55616ec",
   "metadata": {},
   "source": [
    "If you did the above in two steps, see if you can do it in one go instead! There are hints just above."
   ]
  },
  {
   "cell_type": "markdown",
   "id": "5a3fc296",
   "metadata": {},
   "source": [
    "---"
   ]
  },
  {
   "cell_type": "markdown",
   "id": "92ca99af",
   "metadata": {},
   "source": [
    "## Basic Plotting"
   ]
  },
  {
   "cell_type": "markdown",
   "id": "45196c12",
   "metadata": {},
   "source": [
    "`DataFrame` objects know how to plot themselves! Or, more precisely, `DataFrame` objects have methods for plotting. Let's try!"
   ]
  },
  {
   "cell_type": "code",
   "execution_count": null,
   "id": "a073294a",
   "metadata": {},
   "outputs": [],
   "source": [
    "import matplotlib as plt\n",
    "fare_surv.plot()"
   ]
  },
  {
   "cell_type": "markdown",
   "id": "64897999",
   "metadata": {},
   "source": [
    "As a graph, this one isn't very informative, but it does show us what the default `DataFrame.plot()` method does: it plots (numerical) data by row index. This could be quite useful if a data frame were sorted on a particular variable..."
   ]
  },
  {
   "cell_type": "markdown",
   "id": "3d1ef0c2",
   "metadata": {},
   "source": [
    "Other type of plots are reached through plot, like `fare_surv.plot.scatter()` or similar. We can see what methods are available by hitting the \\<TAB\\> key after `DataFrame.plot.`\n",
    "    \n",
    "Do this below;"
   ]
  },
  {
   "cell_type": "code",
   "execution_count": null,
   "id": "548cd9f4",
   "metadata": {},
   "outputs": [],
   "source": [
    "fare_surv.plot."
   ]
  },
  {
   "cell_type": "markdown",
   "id": "0663ebde",
   "metadata": {},
   "source": [
    "So there *is* a `scatter()` available, along with many of our other `matplotlib` friends. \n",
    "\n",
    "Let's try a scatter plot Fare vs. Survival."
   ]
  },
  {
   "cell_type": "code",
   "execution_count": null,
   "id": "ec733fc4",
   "metadata": {},
   "outputs": [],
   "source": [
    "fare_surv.plot.scatter(x=\"Survived\", y=\"Fare\", alpha = 0.1)"
   ]
  },
  {
   "cell_type": "markdown",
   "id": "166ea5ff",
   "metadata": {},
   "source": [
    "Looks like those 500 lb. fares were worth it."
   ]
  },
  {
   "cell_type": "markdown",
   "id": "b9093951",
   "metadata": {},
   "source": [
    "---"
   ]
  },
  {
   "cell_type": "markdown",
   "id": "f4d79241",
   "metadata": {},
   "source": [
    "Use the cell below to make a box plot of the ***column*** `Fare` ***by*** the variable `Survived`."
   ]
  },
  {
   "cell_type": "code",
   "execution_count": null,
   "id": "021dd943",
   "metadata": {},
   "outputs": [],
   "source": [
    "# boxplot of Fare paid by Survival status\n"
   ]
  },
  {
   "cell_type": "markdown",
   "id": "09e9985f",
   "metadata": {},
   "source": [
    "---"
   ]
  },
  {
   "cell_type": "markdown",
   "id": "fd1a4161",
   "metadata": {},
   "source": [
    "## Calculating New Columns"
   ]
  },
  {
   "cell_type": "markdown",
   "id": "855d5ead",
   "metadata": {},
   "source": [
    "We often want to compute new columns based on existing ones. Pandas makes this really easy!"
   ]
  },
  {
   "cell_type": "markdown",
   "id": "8915d1df",
   "metadata": {},
   "source": [
    "Let's use numpy to make a toy data set of annual wages and income-from-interest for 10 people."
   ]
  },
  {
   "cell_type": "code",
   "execution_count": null,
   "id": "8fced435",
   "metadata": {},
   "outputs": [],
   "source": [
    "import numpy as np"
   ]
  },
  {
   "cell_type": "markdown",
   "id": "fda77deb",
   "metadata": {},
   "source": [
    "In following code, you should be able to understand the numpy bit up top. The pandas bit further down should sort of make sense, but don't worry if you don't fully understand it. You can come back and look at it again after you've finished this tutorial."
   ]
  },
  {
   "cell_type": "code",
   "execution_count": null,
   "id": "5f4a42ed",
   "metadata": {},
   "outputs": [],
   "source": [
    "# make some incomes in thousands of US dollars\n",
    "rng = np.random.default_rng(seed=42)\n",
    "raw_dat = rng.integers(0,100,size=(10, 2))\n",
    "raw_dat[:,0] = raw_dat[:,0] + 100\n",
    "raw_dat[4,1] = raw_dat[4,1] + 200 \n",
    "\n",
    "# make initial column names\n",
    "col_names = ['wage', 'interest'] \n",
    "\n",
    "# make the initial pandas data frame\n",
    "incomes = pd.DataFrame(raw_dat, columns = col_names) \n",
    "\n",
    "# add a gender column \n",
    "gender = ['f', 'm', 'n', 'f', 'f', 'n', 'm', 'm', 'f', 'f']\n",
    "incomes['gender'] = gender\n",
    "\n",
    "# look at our new data frame\n",
    "incomes"
   ]
  },
  {
   "cell_type": "markdown",
   "id": "5ab790f0",
   "metadata": {},
   "source": [
    "One obvious thing to look at from a behavioral science perspective would be total income. After all, money is money..."
   ]
  },
  {
   "cell_type": "markdown",
   "id": "9d9c3133",
   "metadata": {},
   "source": [
    "So we'll make a new column for total income, and set it to the sum of the wage and interest columns. To do this, we address our desired column as though it already exists, and make it equal to what we want (the sum of wage and interest income, in this case)."
   ]
  },
  {
   "cell_type": "code",
   "execution_count": null,
   "id": "01515d9e",
   "metadata": {},
   "outputs": [],
   "source": [
    "incomes['total'] = incomes['wage'] + incomes['interest']\n",
    "incomes"
   ]
  },
  {
   "cell_type": "markdown",
   "id": "7f6a5456",
   "metadata": {},
   "source": [
    "*All of the **arithmetic** and **logical** operators can be used to create new columns based on existing ones.*"
   ]
  },
  {
   "cell_type": "markdown",
   "id": "3ccba50f",
   "metadata": {},
   "source": [
    "We can also use scaler multipliers or addends, etc. (like we did when we created the raw data with numpy just above). The scaler will be \"broadcast\" to each element of the column.\n",
    "\n",
    "For example, if we wanted to know the total income in Euros, we could do this:"
   ]
  },
  {
   "cell_type": "code",
   "execution_count": null,
   "id": "fc3fc54f",
   "metadata": {},
   "outputs": [],
   "source": [
    "dol2eu = 0.94 # 0.94 euros per US dollar (early 2023)\n",
    "incomes['total_eu'] = dol2eu * incomes['total']\n",
    "incomes"
   ]
  },
  {
   "cell_type": "markdown",
   "id": "bb0cf63c",
   "metadata": {},
   "source": [
    "---"
   ]
  },
  {
   "cell_type": "markdown",
   "id": "0dd412eb",
   "metadata": {},
   "source": [
    "In the cell below, add a Boolean (True/False) column that shows if each person's wages exceeds their income from interest."
   ]
  },
  {
   "cell_type": "code",
   "execution_count": null,
   "id": "30ec841c",
   "metadata": {},
   "outputs": [],
   "source": [
    "# adding a wages vs incomes comparison column\n"
   ]
  },
  {
   "cell_type": "markdown",
   "id": "23be05aa",
   "metadata": {},
   "source": [
    "---"
   ]
  },
  {
   "cell_type": "markdown",
   "id": "8f922339",
   "metadata": {},
   "source": [
    "## Summary Statistics"
   ]
  },
  {
   "cell_type": "markdown",
   "id": "dad36b43",
   "metadata": {},
   "source": [
    "Getting summary statistics is also something that pandas makes really easy. "
   ]
  },
  {
   "cell_type": "markdown",
   "id": "30f64c14",
   "metadata": {},
   "source": [
    "### Simple descriptive statistics"
   ]
  },
  {
   "cell_type": "markdown",
   "id": "e7c262ec",
   "metadata": {},
   "source": [
    "We can get a quick look an entire `DataFrame` with its `describe()` method (similar to `summary()` in R)."
   ]
  },
  {
   "cell_type": "code",
   "execution_count": null,
   "id": "1025c7c7",
   "metadata": {},
   "outputs": [],
   "source": [
    "incomes.describe()"
   ]
  },
  {
   "cell_type": "markdown",
   "id": "8c5f989f",
   "metadata": {},
   "source": [
    "Notice that `describe()` handled the presence of a string column gracefully by ignoring it rather than producing an error."
   ]
  },
  {
   "cell_type": "markdown",
   "id": "99abeab0",
   "metadata": {},
   "source": [
    "If we hit the \\<TAB\\> key after `incomes.`, we'll see that `DataFrame` objects have a LOT of methods!"
   ]
  },
  {
   "cell_type": "code",
   "execution_count": null,
   "id": "ac35838d",
   "metadata": {},
   "outputs": [],
   "source": [
    "incomes."
   ]
  },
  {
   "cell_type": "markdown",
   "id": "5c5cbae1",
   "metadata": {},
   "source": [
    "If we browse around a little, we see that all the common summary statistics like mean, median, standard deviation, etc. are there, and they all have reasonable names. Let's compute the mean"
   ]
  },
  {
   "cell_type": "code",
   "execution_count": null,
   "id": "c7ff223c",
   "metadata": {},
   "outputs": [],
   "source": [
    "incomes.mean()"
   ]
  },
  {
   "cell_type": "markdown",
   "id": "6913836a",
   "metadata": {},
   "source": [
    "That worked, but it complained (at least my version of pandas did). It wants us to pick only valid (numeric) columns over which to compute the mean. Okay."
   ]
  },
  {
   "cell_type": "code",
   "execution_count": null,
   "id": "5f7ff4de",
   "metadata": {},
   "outputs": [],
   "source": [
    "incomes[['wage', 'interest']].mean()"
   ]
  },
  {
   "cell_type": "markdown",
   "id": "ad12439e",
   "metadata": {},
   "source": [
    "---"
   ]
  },
  {
   "cell_type": "markdown",
   "id": "a353f1f9",
   "metadata": {},
   "source": [
    "Compute the standard deviation of total income (in Euros, if you prefer)"
   ]
  },
  {
   "cell_type": "code",
   "execution_count": null,
   "id": "0b7dfa3a",
   "metadata": {},
   "outputs": [],
   "source": [
    "# deviation of total income\n"
   ]
  },
  {
   "cell_type": "markdown",
   "id": "20db0140",
   "metadata": {},
   "source": [
    "---"
   ]
  },
  {
   "cell_type": "markdown",
   "id": "1ef1ad4b",
   "metadata": {},
   "source": [
    "Pro tip: if you *do* want to compute a statistic on *all* the numeric columns on large data frame, you can save typing with `DataFrame.mean(numeric_only = True)`. Try it!"
   ]
  },
  {
   "cell_type": "code",
   "execution_count": null,
   "id": "82ef1258",
   "metadata": {},
   "outputs": [],
   "source": []
  },
  {
   "cell_type": "markdown",
   "id": "2d1679f2",
   "metadata": {},
   "source": [
    "### Computing statistics by group"
   ]
  },
  {
   "cell_type": "markdown",
   "id": "2cf1b091",
   "metadata": {},
   "source": [
    "We can also easily compute statistics separately based on a grouping variable, like 'gender' for the incomes data.\n",
    "\n",
    "Here's our grouping variable:"
   ]
  },
  {
   "cell_type": "code",
   "execution_count": null,
   "id": "7a7d6b30",
   "metadata": {},
   "outputs": [],
   "source": [
    "incomes['gender']"
   ]
  },
  {
   "cell_type": "markdown",
   "id": "846ba610",
   "metadata": {},
   "source": [
    "And now we'll use it in our data frame's `groupby()` method. Like this."
   ]
  },
  {
   "cell_type": "code",
   "execution_count": null,
   "id": "8e20f30e",
   "metadata": {},
   "outputs": [],
   "source": [
    "incomes[['total', 'gender']].groupby('gender').mean()"
   ]
  },
  {
   "cell_type": "markdown",
   "id": "63137ce0",
   "metadata": {},
   "source": [
    "If you are coming from the R/tidyverse world (e.g. if you took PSY420 recently), you'll recognize this command as similar to using the pipe (`%>%`).\n",
    "\n",
    "What's happening is that \n",
    "\n",
    "- `incomes[['total', 'gender']]` creates a data frame\n",
    "- `groupby('gender')` creates another data frame grouped by gender\n",
    "- `mean()` computes the mean on the grouped data frame"
   ]
  },
  {
   "cell_type": "markdown",
   "id": "a5597fbb",
   "metadata": {},
   "source": [
    "So we could (almost) turn this directly into R code that uses the pipe:\n",
    "```\n",
    "incomes[['total', 'gender']] %>%\n",
    "groupby('gender') %>%\n",
    "mean()\n",
    "```"
   ]
  },
  {
   "cell_type": "markdown",
   "id": "f6fe4d9f",
   "metadata": {},
   "source": [
    "How many people were in each group? Just use the `value_counts()` method!"
   ]
  },
  {
   "cell_type": "code",
   "execution_count": null,
   "id": "77ce9511",
   "metadata": {},
   "outputs": [],
   "source": [
    "incomes['gender'].value_counts()"
   ]
  },
  {
   "cell_type": "markdown",
   "id": "e88572ed",
   "metadata": {},
   "source": [
    "---"
   ]
  },
  {
   "cell_type": "markdown",
   "id": "3667aa4c",
   "metadata": {},
   "source": [
    "In the cell below, compute the survival rate for passengers on the RMS Titanic grouped by passenger class. \n",
    "\n",
    "(*hint* - having the Survived variable coded as 0 or 1 works to your advantage)"
   ]
  },
  {
   "cell_type": "code",
   "execution_count": null,
   "id": "b00cbee8",
   "metadata": {},
   "outputs": [],
   "source": []
  },
  {
   "cell_type": "markdown",
   "id": "ef84e7c4",
   "metadata": {},
   "source": [
    "---"
   ]
  },
  {
   "cell_type": "markdown",
   "id": "7aae5fcf",
   "metadata": {},
   "source": [
    "### Multiple statistics using aggregation"
   ]
  },
  {
   "cell_type": "markdown",
   "id": "fd06c406",
   "metadata": {},
   "source": [
    "We can compute many things at once using the `agg()` (aggregate) method. To use this method, we pass it a dictionary in which the keys are column names and the values are lists of valid statistics (i.e. methods that `DataFrames` know about). Like this."
   ]
  },
  {
   "cell_type": "code",
   "execution_count": null,
   "id": "6079509f",
   "metadata": {},
   "outputs": [],
   "source": [
    "my_stats_dict = {\n",
    "         \"wage\": [\"mean\", \"std\"],\n",
    "         \"interest\": [\"mean\", \"std\"],\n",
    "         \"total\": [\"mean\", \"std\"]\n",
    "     }\n",
    "\n",
    "incomes.agg(my_stats_dict)\n"
   ]
  },
  {
   "cell_type": "markdown",
   "id": "d870323e",
   "metadata": {},
   "source": [
    "You can do the above in one go (rather than defining a separate `my_stats_dict` object), but it looks a bit messy in our opinion."
   ]
  }
 ],
 "metadata": {
  "kernelspec": {
   "display_name": "Python 3 (ipykernel)",
   "language": "python",
   "name": "python3"
  },
  "language_info": {
   "codemirror_mode": {
    "name": "ipython",
    "version": 3
   },
   "file_extension": ".py",
   "mimetype": "text/x-python",
   "name": "python",
   "nbconvert_exporter": "python",
   "pygments_lexer": "ipython3",
   "version": "3.8.13"
  }
 },
 "nbformat": 4,
 "nbformat_minor": 5
}
