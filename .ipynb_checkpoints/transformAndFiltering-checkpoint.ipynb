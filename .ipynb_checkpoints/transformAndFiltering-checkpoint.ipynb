{
 "cells": [
  {
   "cell_type": "markdown",
   "id": "7c915198-6974-494a-a6ae-b8d19533e0fd",
   "metadata": {},
   "source": [
    "# Wrangling III "
   ]
  },
  {
   "cell_type": "code",
   "execution_count": 2,
   "id": "1e64392f-fab1-4a49-93a0-d0d1b06b92d8",
   "metadata": {},
   "outputs": [],
   "source": [
    "import numpy as np\n",
    "import pandas as pd"
   ]
  },
  {
   "cell_type": "code",
   "execution_count": 3,
   "id": "b2dab376-bc16-42f7-a5b4-6c600c6370cc",
   "metadata": {},
   "outputs": [],
   "source": [
    "def bcd_load_clean():\n",
    "    bcd = pd.read_csv('./data/breast_cancer_data.csv')\n",
    "    bcd['patient_id'] = bcd['patient_id'].astype('string')\n",
    "    bcd['doctor_name'] = bcd['doctor_name'].str.split().str[1]\n",
    "    bcd['bare_nuclei'] = bcd['bare_nuclei'].replace('?', '')\n",
    "    bcd['bare_nuclei'] = pd.to_numeric(bcd['bare_nuclei'])\n",
    "    \n",
    "    return bcd"
   ]
  },
  {
   "cell_type": "code",
   "execution_count": 4,
   "id": "feab347b-2f1b-4553-b8f9-8ed95a6e5ab5",
   "metadata": {},
   "outputs": [],
   "source": [
    "bcd = bcd_load_clean()"
   ]
  },
  {
   "cell_type": "markdown",
   "id": "231327c8-4c7d-4ff8-bb21-72d3228fd45c",
   "metadata": {},
   "source": [
    "Make a little version with just two numeric columns to play with."
   ]
  },
  {
   "cell_type": "code",
   "execution_count": 18,
   "id": "6fec794d-d2a5-4851-a8d4-1a532a8895b4",
   "metadata": {},
   "outputs": [],
   "source": [
    "bcd2 = bcd[['clump_thickness', 'bland_chromatin', 'class']].copy()"
   ]
  },
  {
   "cell_type": "markdown",
   "id": "8d4dd9ff-dff3-40ef-a554-4ed937485523",
   "metadata": {},
   "source": [
    "Group it. Group it good."
   ]
  },
  {
   "cell_type": "code",
   "execution_count": 19,
   "id": "553e26ea-08ca-490e-8877-98d80104b127",
   "metadata": {},
   "outputs": [],
   "source": [
    "grpd = bcd2.groupby('class')"
   ]
  },
  {
   "cell_type": "code",
   "execution_count": null,
   "id": "d6262b53-da6a-4e8c-8b9c-5166c511bb72",
   "metadata": {},
   "outputs": [],
   "source": [
    "grpd."
   ]
  },
  {
   "cell_type": "code",
   "execution_count": 27,
   "id": "a69a43e4-770c-4cfc-9577-25a254ee19f5",
   "metadata": {},
   "outputs": [
    {
     "data": {
      "text/html": [
       "<div>\n",
       "<style scoped>\n",
       "    .dataframe tbody tr th:only-of-type {\n",
       "        vertical-align: middle;\n",
       "    }\n",
       "\n",
       "    .dataframe tbody tr th {\n",
       "        vertical-align: top;\n",
       "    }\n",
       "\n",
       "    .dataframe thead th {\n",
       "        text-align: right;\n",
       "    }\n",
       "</style>\n",
       "<table border=\"1\" class=\"dataframe\">\n",
       "  <thead>\n",
       "    <tr style=\"text-align: right;\">\n",
       "      <th></th>\n",
       "      <th>clump_thickness</th>\n",
       "      <th>bland_chromatin</th>\n",
       "      <th>class</th>\n",
       "    </tr>\n",
       "  </thead>\n",
       "  <tbody>\n",
       "    <tr>\n",
       "      <th>0</th>\n",
       "      <td>5.0</td>\n",
       "      <td>3.0</td>\n",
       "      <td>benign</td>\n",
       "    </tr>\n",
       "    <tr>\n",
       "      <th>1</th>\n",
       "      <td>5.0</td>\n",
       "      <td>3.0</td>\n",
       "      <td>benign</td>\n",
       "    </tr>\n",
       "    <tr>\n",
       "      <th>2</th>\n",
       "      <td>3.0</td>\n",
       "      <td>3.0</td>\n",
       "      <td>benign</td>\n",
       "    </tr>\n",
       "    <tr>\n",
       "      <th>3</th>\n",
       "      <td>6.0</td>\n",
       "      <td>3.0</td>\n",
       "      <td>benign</td>\n",
       "    </tr>\n",
       "    <tr>\n",
       "      <th>4</th>\n",
       "      <td>4.0</td>\n",
       "      <td>3.0</td>\n",
       "      <td>benign</td>\n",
       "    </tr>\n",
       "    <tr>\n",
       "      <th>...</th>\n",
       "      <td>...</td>\n",
       "      <td>...</td>\n",
       "      <td>...</td>\n",
       "    </tr>\n",
       "    <tr>\n",
       "      <th>690</th>\n",
       "      <td>1.0</td>\n",
       "      <td>1.0</td>\n",
       "      <td>benign</td>\n",
       "    </tr>\n",
       "    <tr>\n",
       "      <th>692</th>\n",
       "      <td>3.0</td>\n",
       "      <td>1.0</td>\n",
       "      <td>benign</td>\n",
       "    </tr>\n",
       "    <tr>\n",
       "      <th>693</th>\n",
       "      <td>3.0</td>\n",
       "      <td>2.0</td>\n",
       "      <td>benign</td>\n",
       "    </tr>\n",
       "    <tr>\n",
       "      <th>694</th>\n",
       "      <td>3.0</td>\n",
       "      <td>1.0</td>\n",
       "      <td>benign</td>\n",
       "    </tr>\n",
       "    <tr>\n",
       "      <th>695</th>\n",
       "      <td>2.0</td>\n",
       "      <td>1.0</td>\n",
       "      <td>benign</td>\n",
       "    </tr>\n",
       "  </tbody>\n",
       "</table>\n",
       "<p>458 rows × 3 columns</p>\n",
       "</div>"
      ],
      "text/plain": [
       "     clump_thickness  bland_chromatin   class\n",
       "0                5.0              3.0  benign\n",
       "1                5.0              3.0  benign\n",
       "2                3.0              3.0  benign\n",
       "3                6.0              3.0  benign\n",
       "4                4.0              3.0  benign\n",
       "..               ...              ...     ...\n",
       "690              1.0              1.0  benign\n",
       "692              3.0              1.0  benign\n",
       "693              3.0              2.0  benign\n",
       "694              3.0              1.0  benign\n",
       "695              2.0              1.0  benign\n",
       "\n",
       "[458 rows x 3 columns]"
      ]
     },
     "execution_count": 27,
     "metadata": {},
     "output_type": "execute_result"
    }
   ],
   "source": [
    "grpd.get_group('benign')"
   ]
  },
  {
   "cell_type": "markdown",
   "id": "f2ebc900-9365-4284-a5bf-dbab314485be",
   "metadata": {},
   "source": [
    "### Applying a custom function to data"
   ]
  },
  {
   "cell_type": "markdown",
   "id": "40c0bee8-debb-4c66-9441-2e291879527f",
   "metadata": {},
   "source": [
    "#### regular functions"
   ]
  },
  {
   "cell_type": "code",
   "execution_count": 28,
   "id": "17212f04-9a90-4d4b-bad4-fa707796bfc0",
   "metadata": {},
   "outputs": [],
   "source": [
    "def zed(grp):\n",
    "    grp_mean = grp.mean(numeric_only = True)\n",
    "    grp_std = grp.std()\n",
    "    \n",
    "    grp = (grp - grp_mean)/grp_std\n",
    "    \n",
    "    return grp"
   ]
  },
  {
   "cell_type": "code",
   "execution_count": 30,
   "id": "8cad2e41-4041-4f7c-90cb-f0cd860246f8",
   "metadata": {
    "tags": []
   },
   "outputs": [],
   "source": [
    "trans_data = grpd[['clump_thickness', 'bland_chromatin']].transform(zed)"
   ]
  },
  {
   "cell_type": "code",
   "execution_count": 31,
   "id": "d5144639-9c8b-4297-9253-f35c243370e3",
   "metadata": {},
   "outputs": [
    {
     "data": {
      "text/html": [
       "<div>\n",
       "<style scoped>\n",
       "    .dataframe tbody tr th:only-of-type {\n",
       "        vertical-align: middle;\n",
       "    }\n",
       "\n",
       "    .dataframe tbody tr th {\n",
       "        vertical-align: top;\n",
       "    }\n",
       "\n",
       "    .dataframe thead th {\n",
       "        text-align: right;\n",
       "    }\n",
       "</style>\n",
       "<table border=\"1\" class=\"dataframe\">\n",
       "  <thead>\n",
       "    <tr style=\"text-align: right;\">\n",
       "      <th></th>\n",
       "      <th>clump_thickness</th>\n",
       "      <th>bland_chromatin</th>\n",
       "    </tr>\n",
       "  </thead>\n",
       "  <tbody>\n",
       "    <tr>\n",
       "      <th>0</th>\n",
       "      <td>1.220597</td>\n",
       "      <td>0.827160</td>\n",
       "    </tr>\n",
       "    <tr>\n",
       "      <th>1</th>\n",
       "      <td>1.220597</td>\n",
       "      <td>0.827160</td>\n",
       "    </tr>\n",
       "    <tr>\n",
       "      <th>2</th>\n",
       "      <td>0.026081</td>\n",
       "      <td>0.827160</td>\n",
       "    </tr>\n",
       "    <tr>\n",
       "      <th>3</th>\n",
       "      <td>1.817856</td>\n",
       "      <td>0.827160</td>\n",
       "    </tr>\n",
       "    <tr>\n",
       "      <th>4</th>\n",
       "      <td>0.623339</td>\n",
       "      <td>0.827160</td>\n",
       "    </tr>\n",
       "    <tr>\n",
       "      <th>...</th>\n",
       "      <td>...</td>\n",
       "      <td>...</td>\n",
       "    </tr>\n",
       "    <tr>\n",
       "      <th>694</th>\n",
       "      <td>0.026081</td>\n",
       "      <td>-1.022265</td>\n",
       "    </tr>\n",
       "    <tr>\n",
       "      <th>695</th>\n",
       "      <td>-0.571177</td>\n",
       "      <td>-1.022265</td>\n",
       "    </tr>\n",
       "    <tr>\n",
       "      <th>696</th>\n",
       "      <td>-0.907153</td>\n",
       "      <td>0.884570</td>\n",
       "    </tr>\n",
       "    <tr>\n",
       "      <th>697</th>\n",
       "      <td>-1.318716</td>\n",
       "      <td>1.765470</td>\n",
       "    </tr>\n",
       "    <tr>\n",
       "      <th>698</th>\n",
       "      <td>-1.318716</td>\n",
       "      <td>1.765470</td>\n",
       "    </tr>\n",
       "  </tbody>\n",
       "</table>\n",
       "<p>699 rows × 2 columns</p>\n",
       "</div>"
      ],
      "text/plain": [
       "     clump_thickness  bland_chromatin\n",
       "0           1.220597         0.827160\n",
       "1           1.220597         0.827160\n",
       "2           0.026081         0.827160\n",
       "3           1.817856         0.827160\n",
       "4           0.623339         0.827160\n",
       "..               ...              ...\n",
       "694         0.026081        -1.022265\n",
       "695        -0.571177        -1.022265\n",
       "696        -0.907153         0.884570\n",
       "697        -1.318716         1.765470\n",
       "698        -1.318716         1.765470\n",
       "\n",
       "[699 rows x 2 columns]"
      ]
     },
     "execution_count": 31,
     "metadata": {},
     "output_type": "execute_result"
    }
   ],
   "source": [
    "trans_data"
   ]
  },
  {
   "cell_type": "code",
   "execution_count": null,
   "id": "efb11f20-7078-4e0f-9a7a-0f73b75ebebf",
   "metadata": {},
   "outputs": [],
   "source": []
  },
  {
   "cell_type": "markdown",
   "id": "e3b4804e-cd6d-4040-966f-25d547fab831",
   "metadata": {},
   "source": [
    "#### lambda functions"
   ]
  },
  {
   "cell_type": "code",
   "execution_count": null,
   "id": "d106b446-4e32-490a-a07e-2dcccf6025d2",
   "metadata": {},
   "outputs": [],
   "source": []
  },
  {
   "cell_type": "markdown",
   "id": "2c3973fb-72df-48c1-afde-b63d96b5b0fd",
   "metadata": {},
   "source": [
    "### Transforming data"
   ]
  },
  {
   "cell_type": "markdown",
   "id": "243ff9e5-35be-4a40-8f62-db42a65321ef",
   "metadata": {},
   "source": [
    "We can also create transformed copies of the data, where we apply the transformation on a per group basis."
   ]
  },
  {
   "cell_type": "code",
   "execution_count": 166,
   "id": "a7abaf50-5ebd-4f68-b05e-b8263462627f",
   "metadata": {},
   "outputs": [],
   "source": []
  },
  {
   "cell_type": "code",
   "execution_count": null,
   "id": "6ca445dc-77c1-4e96-9cce-2d54b6a75fe8",
   "metadata": {
    "tags": []
   },
   "outputs": [],
   "source": []
  },
  {
   "cell_type": "code",
   "execution_count": 9,
   "id": "32636b62-c674-4dba-a870-a5f48f6aa503",
   "metadata": {
    "tags": []
   },
   "outputs": [],
   "source": [
    "trans_data = grpd[['clump_thickness', 'bland_chromatin']].transform(\n",
    "    lambda col_vals: (col_vals - col_vals.mean()) / col_vals.std()\n",
    ")"
   ]
  },
  {
   "cell_type": "code",
   "execution_count": 11,
   "id": "4f39fc63-d2de-4501-b233-7f7b3190d92c",
   "metadata": {},
   "outputs": [
    {
     "data": {
      "text/plain": [
       "clump_thickness   -2.544924e-17\n",
       "bland_chromatin    4.089455e-17\n",
       "dtype: float64"
      ]
     },
     "execution_count": 11,
     "metadata": {},
     "output_type": "execute_result"
    }
   ],
   "source": [
    "trans_data.mean()"
   ]
  },
  {
   "cell_type": "code",
   "execution_count": 12,
   "id": "3c948c17-68c6-42da-9b8d-b87f527a28cd",
   "metadata": {},
   "outputs": [
    {
     "data": {
      "text/plain": [
       "clump_thickness    0.999282\n",
       "bland_chromatin    0.999279\n",
       "dtype: float64"
      ]
     },
     "execution_count": 12,
     "metadata": {},
     "output_type": "execute_result"
    }
   ],
   "source": [
    "trans_data.std()"
   ]
  },
  {
   "cell_type": "code",
   "execution_count": 7,
   "id": "17c6e117-43e6-44ad-8daf-ba206a550ced",
   "metadata": {
    "collapsed": true,
    "jupyter": {
     "outputs_hidden": true
    },
    "tags": []
   },
   "outputs": [
    {
     "data": {
      "text/plain": [
       "benign       458\n",
       "malignant    241\n",
       "Name: class, dtype: int64"
      ]
     },
     "execution_count": 7,
     "metadata": {},
     "output_type": "execute_result"
    }
   ],
   "source": [
    "bcd['class'].value_counts()"
   ]
  },
  {
   "cell_type": "markdown",
   "id": "b0e370e2-c644-4f06-a65f-905fc0546383",
   "metadata": {},
   "source": [
    "### Combining multiple files"
   ]
  },
  {
   "cell_type": "code",
   "execution_count": null,
   "id": "97735eef-1a66-4938-84fd-ec144085063b",
   "metadata": {},
   "outputs": [],
   "source": []
  },
  {
   "cell_type": "markdown",
   "id": "49439424-d8d2-4124-ac9d-f0b02a903aaf",
   "metadata": {
    "tags": []
   },
   "source": [
    "### Duplicate entries # Move to Wrangling II"
   ]
  },
  {
   "cell_type": "code",
   "execution_count": 16,
   "id": "692cf467-10ed-4005-988a-146588aa8819",
   "metadata": {
    "collapsed": true,
    "jupyter": {
     "outputs_hidden": true
    },
    "tags": []
   },
   "outputs": [
    {
     "data": {
      "text/plain": [
       "patient_id               645\n",
       "clump_thickness           10\n",
       "cell_size_uniformity      10\n",
       "cell_shape_uniformity     10\n",
       "marginal_adhesion         10\n",
       "single_ep_cell_size       10\n",
       "bare_nuclei               10\n",
       "bland_chromatin           10\n",
       "normal_nucleoli           10\n",
       "mitoses                    9\n",
       "class                      2\n",
       "doctor_name                4\n",
       "dtype: int64"
      ]
     },
     "execution_count": 16,
     "metadata": {},
     "output_type": "execute_result"
    }
   ],
   "source": [
    "bcd.nunique()"
   ]
  },
  {
   "cell_type": "code",
   "execution_count": null,
   "id": "fc25601c-c4fe-4291-a487-d71d88528a8c",
   "metadata": {},
   "outputs": [],
   "source": [
    "df[df.duplicated(subset = 'patient_id', keep =False)].sort_values('patient_id')"
   ]
  },
  {
   "cell_type": "code",
   "execution_count": null,
   "id": "5db7a3d9-0460-4f29-983c-9f3e0a40d28f",
   "metadata": {},
   "outputs": [],
   "source": [
    "repeat_patients = df.groupby(by = 'patient_id').size().sort_values(ascending =False)"
   ]
  }
 ],
 "metadata": {
  "kernelspec": {
   "display_name": "Python 3 (ipykernel)",
   "language": "python",
   "name": "python3"
  },
  "language_info": {
   "codemirror_mode": {
    "name": "ipython",
    "version": 3
   },
   "file_extension": ".py",
   "mimetype": "text/x-python",
   "name": "python",
   "nbconvert_exporter": "python",
   "pygments_lexer": "ipython3",
   "version": "3.8.13"
  }
 },
 "nbformat": 4,
 "nbformat_minor": 5
}
