{
 "cells": [
  {
   "cell_type": "code",
   "execution_count": null,
   "id": "dd75a79c-c9a3-4523-ac01-f5b0e5d924fe",
   "metadata": {},
   "outputs": [],
   "source": []
  },
  {
   "cell_type": "markdown",
   "id": "91668db2-3cd7-4fe1-b573-ea9625729636",
   "metadata": {},
   "source": [
    "### Duplicate entries"
   ]
  },
  {
   "cell_type": "code",
   "execution_count": 16,
   "id": "692cf467-10ed-4005-988a-146588aa8819",
   "metadata": {},
   "outputs": [
    {
     "data": {
      "text/plain": [
       "patient_id               645\n",
       "clump_thickness           10\n",
       "cell_size_uniformity      10\n",
       "cell_shape_uniformity     10\n",
       "marginal_adhesion         10\n",
       "single_ep_cell_size       10\n",
       "bare_nuclei               10\n",
       "bland_chromatin           10\n",
       "normal_nucleoli           10\n",
       "mitoses                    9\n",
       "class                      2\n",
       "doctor_name                4\n",
       "dtype: int64"
      ]
     },
     "execution_count": 16,
     "metadata": {},
     "output_type": "execute_result"
    }
   ],
   "source": [
    "bcd.nunique()"
   ]
  },
  {
   "cell_type": "code",
   "execution_count": null,
   "id": "fc25601c-c4fe-4291-a487-d71d88528a8c",
   "metadata": {},
   "outputs": [],
   "source": [
    "df[df.duplicated(subset = 'patient_id', keep =False)].sort_values('patient_id')\n"
   ]
  },
  {
   "cell_type": "code",
   "execution_count": null,
   "id": "5db7a3d9-0460-4f29-983c-9f3e0a40d28f",
   "metadata": {},
   "outputs": [],
   "source": [
    "repeat_patients = df.groupby(by = 'patient_id').size().sort_values(ascending =False)"
   ]
  },
  {
   "cell_type": "code",
   "execution_count": null,
   "id": "553e26ea-08ca-490e-8877-98d80104b127",
   "metadata": {},
   "outputs": [],
   "source": []
  },
  {
   "cell_type": "markdown",
   "id": "8ca37453-821d-4014-9575-33b99c1ff8a0",
   "metadata": {},
   "source": [
    "### Combining multiple files"
   ]
  },
  {
   "cell_type": "markdown",
   "id": "2c3973fb-72df-48c1-afde-b63d96b5b0fd",
   "metadata": {},
   "source": [
    "#### Transforming data"
   ]
  },
  {
   "cell_type": "markdown",
   "id": "243ff9e5-35be-4a40-8f62-db42a65321ef",
   "metadata": {},
   "source": [
    "We can also create transformed copies of the data, where we apply the transformation on a per group basis."
   ]
  },
  {
   "cell_type": "code",
   "execution_count": 166,
   "id": "a7abaf50-5ebd-4f68-b05e-b8263462627f",
   "metadata": {},
   "outputs": [],
   "source": []
  },
  {
   "cell_type": "code",
   "execution_count": null,
   "id": "6ca445dc-77c1-4e96-9cce-2d54b6a75fe8",
   "metadata": {
    "tags": []
   },
   "outputs": [],
   "source": []
  },
  {
   "cell_type": "code",
   "execution_count": 165,
   "id": "32636b62-c674-4dba-a870-a5f48f6aa503",
   "metadata": {
    "tags": []
   },
   "outputs": [],
   "source": [
    "trans_data = grpd[['clump_thickness', 'bland_chromatin']].transform(\n",
    "    lambda col_vals: (col_vals - col_vals.mean()) / col_vals.std()\n",
    ")"
   ]
  },
  {
   "cell_type": "code",
   "execution_count": 160,
   "id": "4f39fc63-d2de-4501-b233-7f7b3190d92c",
   "metadata": {},
   "outputs": [
    {
     "data": {
      "text/plain": [
       "clump_thickness   -2.544924e-17\n",
       "bland_chromatin    4.089455e-17\n",
       "dtype: float64"
      ]
     },
     "execution_count": 160,
     "metadata": {},
     "output_type": "execute_result"
    }
   ],
   "source": [
    "transformed.mean()"
   ]
  },
  {
   "cell_type": "code",
   "execution_count": 161,
   "id": "3c948c17-68c6-42da-9b8d-b87f527a28cd",
   "metadata": {},
   "outputs": [
    {
     "data": {
      "text/plain": [
       "clump_thickness    0.999282\n",
       "bland_chromatin    0.999279\n",
       "dtype: float64"
      ]
     },
     "execution_count": 161,
     "metadata": {},
     "output_type": "execute_result"
    }
   ],
   "source": [
    "transformed.std()"
   ]
  },
  {
   "cell_type": "code",
   "execution_count": 7,
   "id": "17c6e117-43e6-44ad-8daf-ba206a550ced",
   "metadata": {
    "collapsed": true,
    "jupyter": {
     "outputs_hidden": true
    },
    "tags": []
   },
   "outputs": [
    {
     "data": {
      "text/plain": [
       "benign       458\n",
       "malignant    241\n",
       "Name: class, dtype: int64"
      ]
     },
     "execution_count": 7,
     "metadata": {},
     "output_type": "execute_result"
    }
   ],
   "source": [
    "bcd['class'].value_counts()"
   ]
  }
 ],
 "metadata": {
  "kernelspec": {
   "display_name": "Python 3 (ipykernel)",
   "language": "python",
   "name": "python3"
  },
  "language_info": {
   "codemirror_mode": {
    "name": "ipython",
    "version": 3
   },
   "file_extension": ".py",
   "mimetype": "text/x-python",
   "name": "python",
   "nbconvert_exporter": "python",
   "pygments_lexer": "ipython3",
   "version": "3.8.13"
  }
 },
 "nbformat": 4,
 "nbformat_minor": 5
}
