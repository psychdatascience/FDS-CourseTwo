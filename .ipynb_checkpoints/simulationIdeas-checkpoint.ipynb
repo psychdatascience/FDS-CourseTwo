{
 "cells": [
  {
   "cell_type": "markdown",
   "id": "6da1bdf8-0752-44d8-b371-e261262337a9",
   "metadata": {},
   "source": [
    "Laying down some simulation ideas"
   ]
  },
  {
   "cell_type": "code",
   "execution_count": 2,
   "id": "099f64eb-76ad-4a32-b826-69cbfee9605d",
   "metadata": {},
   "outputs": [],
   "source": [
    "import numpy as np"
   ]
  },
  {
   "cell_type": "code",
   "execution_count": 5,
   "id": "03a3a680-3697-4fb2-aed1-4e667d72a2a5",
   "metadata": {},
   "outputs": [],
   "source": [
    "# make a random number generator\n",
    "my_rng = np.random.default_rng(42)"
   ]
  },
  {
   "cell_type": "markdown",
   "id": "fc8f8522-e97a-4d20-aca6-91d7cca53249",
   "metadata": {},
   "source": [
    "---"
   ]
  },
  {
   "cell_type": "markdown",
   "id": "284a7fd6-94f7-419b-9aaf-63c862d16dff",
   "metadata": {},
   "source": [
    "EPL average is 2.65 goals per game \n",
    "\n",
    "- simulate a normal random draw at 2.65/2 goals per team\n",
    "- highest score wins"
   ]
  },
  {
   "cell_type": "code",
   "execution_count": 8,
   "id": "c2c2ddbd-267b-46a1-943a-c4dd3b5d7bb8",
   "metadata": {},
   "outputs": [
    {
     "name": "stdout",
     "output_type": "stream",
     "text": [
      "Liverpool 2.265564716391214 : -0.6260351886538364 Manchester United - Liverpool wins!\n"
     ]
    }
   ],
   "source": [
    "lvpool = my_rng.normal(1.325)\n",
    "man_u = my_rng.normal(1.325)\n",
    "\n",
    "if lvpool > man_u :\n",
    "    print(f'Liverpool {lvpool} : {man_u} Manchester United - Liverpool wins!')\n",
    "else :\n",
    "    print(f'Liverpool {lvpool} : {man_u} Manchester United - Manchester United wins!')"
   ]
  },
  {
   "cell_type": "markdown",
   "id": "a0d42d21-1ffc-437b-947f-65d1a66ddf0c",
   "metadata": {},
   "source": [
    "What's wrong, and how can we improve?"
   ]
  },
  {
   "cell_type": "code",
   "execution_count": 10,
   "id": "fa4b2c99-a0fa-4756-a90c-17b00045e6db",
   "metadata": {},
   "outputs": [
    {
     "name": "stdout",
     "output_type": "stream",
     "text": [
      "Liverpool 1.0 : 1.0 Manchester United - Manchester United wins!\n"
     ]
    }
   ],
   "source": [
    "lvpool = my_rng.normal(1.325)\n",
    "man_u = my_rng.normal(1.325)\n",
    "\n",
    "# round\n",
    "lvpool = np.round(lvpool)\n",
    "man_u = np.round(man_u)\n",
    "\n",
    "if lvpool > man_u :\n",
    "    print(f'Liverpool {lvpool} : {man_u} Manchester United - Liverpool wins!')\n",
    "else :\n",
    "    print(f'Liverpool {lvpool} : {man_u} Manchester United - Manchester United wins!')"
   ]
  },
  {
   "cell_type": "markdown",
   "id": "2b3dd79d-354c-43c9-9c5a-4442b789275a",
   "metadata": {},
   "source": [
    "Now there are ties."
   ]
  },
  {
   "cell_type": "code",
   "execution_count": 43,
   "id": "d592070a-968b-435f-8063-2c2facffe3ba",
   "metadata": {},
   "outputs": [
    {
     "name": "stdout",
     "output_type": "stream",
     "text": [
      "It's a 0.0 : 0.0 tie!\n"
     ]
    }
   ],
   "source": [
    "lvpool = my_rng.normal(1.325)\n",
    "man_u = my_rng.normal(1.325)\n",
    "\n",
    "# round\n",
    "lvpool = np.round(lvpool)\n",
    "man_u = np.round(man_u)\n",
    "\n",
    "if lvpool > man_u :\n",
    "    print(f'Liverpool {lvpool} : {man_u} Manchester United - Liverpool wins!')\n",
    "elif man_u > lvpool :\n",
    "    print(f'Liverpool {lvpool} : {man_u} Manchester United - Manchester United wins!')\n",
    "else :\n",
    "    print(f'It\\'s a {lvpool} : {man_u} tie!')"
   ]
  },
  {
   "cell_type": "code",
   "execution_count": 45,
   "id": "cbaf9b8e-6027-4cb0-a6b0-b437186d5172",
   "metadata": {},
   "outputs": [
    {
     "data": {
      "text/plain": [
       "-0.0"
      ]
     },
     "execution_count": 45,
     "metadata": {},
     "output_type": "execute_result"
    }
   ],
   "source": [
    "np.round(-0.3)"
   ]
  },
  {
   "cell_type": "markdown",
   "id": "89d3447a-c98b-4e70-ab60-a039264b07d9",
   "metadata": {
    "tags": []
   },
   "source": [
    "But wait, in a particular year, man_u might have been better: man_u 83/38, liv 77/38"
   ]
  },
  {
   "cell_type": "code",
   "execution_count": 58,
   "id": "4ee78a0d-bcbf-4967-adb7-7530022fd505",
   "metadata": {},
   "outputs": [
    {
     "name": "stdout",
     "output_type": "stream",
     "text": [
      "Liverpool 1.0 : 3.0 Manchester United - Manchester United wins!\n"
     ]
    }
   ],
   "source": [
    "lvpool = my_rng.normal(77/38)\n",
    "man_u = my_rng.normal(83/38)\n",
    "\n",
    "# round\n",
    "lvpool = np.round(lvpool)\n",
    "man_u = np.round(man_u)\n",
    "\n",
    "if lvpool > man_u :\n",
    "    print(f'Liverpool {lvpool} : {man_u} Manchester United - Liverpool wins!')\n",
    "elif man_u > lvpool :\n",
    "    print(f'Liverpool {lvpool} : {man_u} Manchester United - Manchester United wins!')\n",
    "else :\n",
    "    print(f'It\\'s a {lvpool} : {man_u} tie!')"
   ]
  },
  {
   "cell_type": "code",
   "execution_count": null,
   "id": "27e4d1b2-599b-49f1-8806-d3e1b539fb91",
   "metadata": {},
   "outputs": [],
   "source": []
  },
  {
   "cell_type": "markdown",
   "id": "b2f4fb95-9fdd-4918-87f6-9e806f0ab1ea",
   "metadata": {},
   "source": []
  },
  {
   "cell_type": "markdown",
   "id": "54e631cd-37e3-49fc-b254-6b4e31131aa4",
   "metadata": {},
   "source": []
  },
  {
   "cell_type": "markdown",
   "id": "573e3f0a-b0d0-47bf-a317-e33b5dd07256",
   "metadata": {},
   "source": []
  },
  {
   "cell_type": "markdown",
   "id": "2e02e27b-a6cd-4a98-a117-d2523160f8f0",
   "metadata": {},
   "source": []
  }
 ],
 "metadata": {
  "kernelspec": {
   "display_name": "Python 3 (ipykernel)",
   "language": "python",
   "name": "python3"
  },
  "language_info": {
   "codemirror_mode": {
    "name": "ipython",
    "version": 3
   },
   "file_extension": ".py",
   "mimetype": "text/x-python",
   "name": "python",
   "nbconvert_exporter": "python",
   "pygments_lexer": "ipython3",
   "version": "3.8.13"
  }
 },
 "nbformat": 4,
 "nbformat_minor": 5
}
