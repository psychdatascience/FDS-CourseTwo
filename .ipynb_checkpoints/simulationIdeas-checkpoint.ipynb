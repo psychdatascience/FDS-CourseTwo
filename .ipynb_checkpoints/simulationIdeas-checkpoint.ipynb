{
 "cells": [
  {
   "cell_type": "markdown",
   "id": "6da1bdf8-0752-44d8-b371-e261262337a9",
   "metadata": {},
   "source": [
    "# Laying down some simulation ideas"
   ]
  },
  {
   "cell_type": "code",
   "execution_count": 33,
   "id": "099f64eb-76ad-4a32-b826-69cbfee9605d",
   "metadata": {},
   "outputs": [],
   "source": [
    "import numpy as np\n",
    "import seaborn as sns\n",
    "%matplotlib inline"
   ]
  },
  {
   "cell_type": "code",
   "execution_count": 16,
   "id": "03a3a680-3697-4fb2-aed1-4e667d72a2a5",
   "metadata": {},
   "outputs": [],
   "source": [
    "# make a random number generator\n",
    "my_rng = np.random.default_rng(42)"
   ]
  },
  {
   "cell_type": "markdown",
   "id": "fc8f8522-e97a-4d20-aca6-91d7cca53249",
   "metadata": {},
   "source": [
    "---"
   ]
  },
  {
   "cell_type": "markdown",
   "id": "f4e35b54-f12e-4833-97bf-ebad987b09e6",
   "metadata": {},
   "source": [
    "## Simulating a soccer game"
   ]
  },
  {
   "cell_type": "markdown",
   "id": "39a5e846-acb6-41bc-b2df-fd7815590d41",
   "metadata": {},
   "source": [
    "## Simulating games at the team level"
   ]
  },
  {
   "cell_type": "markdown",
   "id": "284a7fd6-94f7-419b-9aaf-63c862d16dff",
   "metadata": {},
   "source": [
    "EPL average is 2.65 goals per game \n",
    "\n",
    "- simulate a normal random draw at 2.65/2 goals per team\n",
    "- highest score wins"
   ]
  },
  {
   "cell_type": "code",
   "execution_count": 8,
   "id": "c2c2ddbd-267b-46a1-943a-c4dd3b5d7bb8",
   "metadata": {},
   "outputs": [
    {
     "name": "stdout",
     "output_type": "stream",
     "text": [
      "Liverpool 2.265564716391214 : -0.6260351886538364 Manchester United - Liverpool wins!\n"
     ]
    }
   ],
   "source": [
    "lvpool = my_rng.normal(1.325)\n",
    "man_u = my_rng.normal(1.325)\n",
    "\n",
    "if lvpool > man_u :\n",
    "    print(f'Liverpool {lvpool} : {man_u} Manchester United - Liverpool wins!')\n",
    "else :\n",
    "    print(f'Liverpool {lvpool} : {man_u} Manchester United - Manchester United wins!')"
   ]
  },
  {
   "cell_type": "markdown",
   "id": "a0d42d21-1ffc-437b-947f-65d1a66ddf0c",
   "metadata": {},
   "source": [
    "What's wrong, and how can we improve?"
   ]
  },
  {
   "cell_type": "code",
   "execution_count": 10,
   "id": "fa4b2c99-a0fa-4756-a90c-17b00045e6db",
   "metadata": {},
   "outputs": [
    {
     "name": "stdout",
     "output_type": "stream",
     "text": [
      "Liverpool 1.0 : 1.0 Manchester United - Manchester United wins!\n"
     ]
    }
   ],
   "source": [
    "lvpool = my_rng.normal(1.325)\n",
    "man_u = my_rng.normal(1.325)\n",
    "\n",
    "# round\n",
    "lvpool = np.round(lvpool)\n",
    "man_u = np.round(man_u)\n",
    "\n",
    "if lvpool > man_u :\n",
    "    print(f'Liverpool {lvpool} : {man_u} Manchester United - Liverpool wins!')\n",
    "else :\n",
    "    print(f'Liverpool {lvpool} : {man_u} Manchester United - Manchester United wins!')"
   ]
  },
  {
   "cell_type": "markdown",
   "id": "2b3dd79d-354c-43c9-9c5a-4442b789275a",
   "metadata": {},
   "source": [
    "Now there are ties."
   ]
  },
  {
   "cell_type": "code",
   "execution_count": 43,
   "id": "d592070a-968b-435f-8063-2c2facffe3ba",
   "metadata": {},
   "outputs": [
    {
     "name": "stdout",
     "output_type": "stream",
     "text": [
      "It's a 0.0 : 0.0 tie!\n"
     ]
    }
   ],
   "source": [
    "lvpool = my_rng.normal(1.325)\n",
    "man_u = my_rng.normal(1.325)\n",
    "\n",
    "# round\n",
    "lvpool = np.round(lvpool)\n",
    "man_u = np.round(man_u)\n",
    "\n",
    "if lvpool > man_u :\n",
    "    print(f'Liverpool {lvpool} : {man_u} Manchester United - Liverpool wins!')\n",
    "elif man_u > lvpool :\n",
    "    print(f'Liverpool {lvpool} : {man_u} Manchester United - Manchester United wins!')\n",
    "else :\n",
    "    print(f'It\\'s a {lvpool} : {man_u} tie!')"
   ]
  },
  {
   "cell_type": "code",
   "execution_count": 45,
   "id": "cbaf9b8e-6027-4cb0-a6b0-b437186d5172",
   "metadata": {},
   "outputs": [
    {
     "data": {
      "text/plain": [
       "-0.0"
      ]
     },
     "execution_count": 45,
     "metadata": {},
     "output_type": "execute_result"
    }
   ],
   "source": [
    "np.round(-0.3)"
   ]
  },
  {
   "cell_type": "markdown",
   "id": "89d3447a-c98b-4e70-ab60-a039264b07d9",
   "metadata": {
    "tags": []
   },
   "source": [
    "But wait, in a particular year, man_u might have been better: man_u 83/38, liv 77/38"
   ]
  },
  {
   "cell_type": "code",
   "execution_count": 58,
   "id": "4ee78a0d-bcbf-4967-adb7-7530022fd505",
   "metadata": {},
   "outputs": [
    {
     "name": "stdout",
     "output_type": "stream",
     "text": [
      "Liverpool 1.0 : 3.0 Manchester United - Manchester United wins!\n"
     ]
    }
   ],
   "source": [
    "lvpool = my_rng.normal(77/38)\n",
    "man_u = my_rng.normal(83/38)\n",
    "\n",
    "# round\n",
    "lvpool = np.round(lvpool)\n",
    "man_u = np.round(man_u)\n",
    "\n",
    "if lvpool > man_u :\n",
    "    print(f'Liverpool {lvpool} : {man_u} Manchester United - Liverpool wins!')\n",
    "elif man_u > lvpool :\n",
    "    print(f'Liverpool {lvpool} : {man_u} Manchester United - Manchester United wins!')\n",
    "else :\n",
    "    print(f'It\\'s a {lvpool} : {man_u} tie!')"
   ]
  },
  {
   "cell_type": "code",
   "execution_count": null,
   "id": "27e4d1b2-599b-49f1-8806-d3e1b539fb91",
   "metadata": {},
   "outputs": [],
   "source": []
  },
  {
   "cell_type": "markdown",
   "id": "b2f4fb95-9fdd-4918-87f6-9e806f0ab1ea",
   "metadata": {},
   "source": [
    "## Simulating games at the player lever"
   ]
  },
  {
   "cell_type": "markdown",
   "id": "54e631cd-37e3-49fc-b254-6b4e31131aa4",
   "metadata": {},
   "source": []
  },
  {
   "cell_type": "markdown",
   "id": "573e3f0a-b0d0-47bf-a317-e33b5dd07256",
   "metadata": {},
   "source": []
  },
  {
   "cell_type": "markdown",
   "id": "2e02e27b-a6cd-4a98-a117-d2523160f8f0",
   "metadata": {},
   "source": [
    "OOP - simulating using players as objects"
   ]
  },
  {
   "cell_type": "code",
   "execution_count": 1,
   "id": "d33d7067-c7f7-4a26-8654-bbccb2728c81",
   "metadata": {},
   "outputs": [],
   "source": [
    "import random as rnd"
   ]
  },
  {
   "cell_type": "code",
   "execution_count": 2,
   "id": "2b72c372-af54-43ea-9a49-24e2d75f3ddc",
   "metadata": {},
   "outputs": [
    {
     "name": "stdout",
     "output_type": "stream",
     "text": [
      "Help on built-in function random:\n",
      "\n",
      "random() method of random.Random instance\n",
      "    random() -> x in the interval [0, 1).\n",
      "\n"
     ]
    }
   ],
   "source": [
    "help(rnd.random)"
   ]
  },
  {
   "cell_type": "markdown",
   "id": "fc9d916b-72ee-443a-ad24-1e04b6e74e5f",
   "metadata": {},
   "source": [
    "OOP - team objects containing players? game objects?"
   ]
  },
  {
   "cell_type": "code",
   "execution_count": null,
   "id": "7b51229b-0726-4a81-988c-cd29ac420797",
   "metadata": {},
   "outputs": [],
   "source": [
    "import random\n",
    "\n",
    "class Player:\n",
    "    def __init__(self, name, position, skill):\n",
    "        self.name = name\n",
    "        self.position = position\n",
    "        self.skill = skill\n",
    "\n",
    "class Team:\n",
    "    def __init__(self, name, players):\n",
    "        self.name = name\n",
    "        self.players = players\n",
    "\n",
    "    def __str__(self):\n",
    "        return self.name\n",
    "\n",
    "class Game:\n",
    "    def __init__(self, home_team, away_team):\n",
    "        self.home_team = home_team\n",
    "        self.away_team = away_team\n",
    "        self.home_goals = 0\n",
    "        self.away_goals = 0\n",
    "\n",
    "    def play(self):\n",
    "        for i in range(90):\n",
    "            if random.random() < 0.5:\n",
    "                scoring_team = self.home_team\n",
    "                conceding_team = self.away_team\n",
    "            else:\n",
    "                scoring_team = self.away_team\n",
    "                conceding_team = self.home_team\n",
    "\n",
    "            scorer = random.choice(scoring_team.players)\n",
    "            scorer.skill += random.randint(1, 3)\n",
    "            conceder = random.choice(conceding_team.players)\n",
    "            conceder.skill -= random.randint(1, 3)\n",
    "\n",
    "            if random.random() < scorer.skill / 100:\n",
    "                scoring_team_scored = True\n",
    "                scoring_team_score = 1\n",
    "                conceding_team_score = 0\n",
    "            else:\n",
    "                scoring_team_scored = False\n",
    "                scoring_team_score = 0\n",
    "                conceding_team_score = 1\n",
    "\n",
    "            if scoring_team == self.home_team:\n",
    "                self.home_goals += scoring_team_score\n",
    "                self.away_goals += conceding_team_score\n",
    "            else:\n",
    "                self.away_goals += scoring_team_score\n",
    "                self.home_goals += conceding_team_score\n",
    "\n",
    "        # end for    \n",
    "        \n",
    "        #print(\"Final score: {} {} - {} {}\".format(self.home_team, self.home_goals, \n",
    "        #                                          self.away_goals, self.away_team))\n",
    "        \n",
    "        print(f\"Final score: {self.home_team} {self.home_goals} - {self.away_goals} { self.away_team}\")\n",
    "        \n",
    "\n",
    "    # end play method\n",
    "    \n",
    "# Example usage:\n",
    "player1 = Player(\"John\", \"Forward\", 80)\n",
    "player2 = Player(\"Paul\", \"Midfielder\", 75)\n",
    "player3 = Player(\"George\", \"Defender\", 70)\n",
    "player4 = Player(\"Ringo\", \"Goalkeeper\", 60)\n",
    "\n",
    "team1 = Team(\"Reds\", [player1, player2, player3, player4])\n",
    "\n",
    "player5 = Player(\"Lennon\", \"Forward\", 85)\n",
    "player6 = Player(\"Harrison\", \"Midfielder\", 75)\n",
    "player7 = Player(\"McCartney\", \"Defender\", 70)\n",
    "player8 = Player(\"Starr\", \"Goalkeeper\", 65)\n",
    "\n",
    "team2 = Team(\"Blues\", [player5, player6, player7, player8])\n",
    "\n",
    "game = Game(team1, team2)\n",
    "game.play()\n"
   ]
  },
  {
   "cell_type": "markdown",
   "id": "17dae899-e8d1-4b6a-b923-a1bf68ba5b90",
   "metadata": {},
   "source": []
  },
  {
   "cell_type": "markdown",
   "id": "f3df00f9-aca8-4f59-8c5d-0ab1159a3d46",
   "metadata": {},
   "source": [
    "## Simulating an election"
   ]
  },
  {
   "cell_type": "markdown",
   "id": "b41ebdf9-2c20-4732-9cbd-c661da160e2b",
   "metadata": {},
   "source": [
    "### Simulating based on a single poll"
   ]
  },
  {
   "cell_type": "markdown",
   "id": "78701dde-233c-4a38-94bb-3d44a4206c46",
   "metadata": {},
   "source": [
    "#### *single poll, many elections*"
   ]
  },
  {
   "cell_type": "code",
   "execution_count": null,
   "id": "665b021f-4135-4adc-9f2d-d4ad843f561a",
   "metadata": {},
   "outputs": [],
   "source": [
    "samp_sz = 2000"
   ]
  },
  {
   "cell_type": "code",
   "execution_count": 36,
   "id": "1525b0ad-dc8f-4812-a057-22d67c43160d",
   "metadata": {},
   "outputs": [],
   "source": [
    "poll_ps = np.array([52, 48])\n",
    "poll_ps = poll_ps / 100"
   ]
  },
  {
   "cell_type": "code",
   "execution_count": 37,
   "id": "b45b7acb-c2f9-4cab-adb3-53e1a3c96492",
   "metadata": {},
   "outputs": [
    {
     "data": {
      "text/plain": [
       "array([0.52, 0.48])"
      ]
     },
     "execution_count": 37,
     "metadata": {},
     "output_type": "execute_result"
    }
   ],
   "source": [
    "poll_ps"
   ]
  },
  {
   "cell_type": "code",
   "execution_count": 30,
   "id": "fe6d6fed-f495-4597-a0ab-519a4da2066d",
   "metadata": {},
   "outputs": [],
   "source": [
    "n_voters = 10000 # smallish city - expect around 10k voter turnout\n",
    "n_sims = 20000   # number of simulations to run"
   ]
  },
  {
   "cell_type": "code",
   "execution_count": 38,
   "id": "ce205e80-e8b2-4410-b64e-5d081b2a0f9b",
   "metadata": {},
   "outputs": [],
   "source": [
    "elec_results = my_rng.binomial(n_voters, poll_ps[0], n_sims)"
   ]
  },
  {
   "cell_type": "code",
   "execution_count": 39,
   "id": "044c41b0-a34f-472e-a712-2e798abec4a2",
   "metadata": {},
   "outputs": [
    {
     "data": {
      "text/plain": [
       "array([5171, 5251, 5184, 5236, 5190, 5201, 5295, 5178, 5254, 5296])"
      ]
     },
     "execution_count": 39,
     "metadata": {},
     "output_type": "execute_result"
    }
   ],
   "source": [
    "elec_results[0:10]"
   ]
  },
  {
   "cell_type": "code",
   "execution_count": 40,
   "id": "1197033f-4d00-4d9f-a830-a80b1e2728b5",
   "metadata": {},
   "outputs": [
    {
     "data": {
      "text/plain": [
       "<seaborn.axisgrid.FacetGrid at 0x7f89e222a430>"
      ]
     },
     "execution_count": 40,
     "metadata": {},
     "output_type": "execute_result"
    },
    {
     "data": {
      "image/png": "[encoded data removed]",
      "text/plain": [
       "<Figure size 500x500 with 1 Axes>"
      ]
     },
     "metadata": {},
     "output_type": "display_data"
    }
   ],
   "source": [
    "sns.displot(elec_results)"
   ]
  },
  {
   "cell_type": "markdown",
   "id": "0ec9a042-c403-4e96-9afe-9c4f376aa8b0",
   "metadata": {},
   "source": [
    "#### *simulate poll -> election cycle*"
   ]
  },
  {
   "cell_type": "markdown",
   "id": "1c5d44a3-16c0-4a31-94ba-c5c55bece9f6",
   "metadata": {},
   "source": [
    "Notice that we did not encorporate the sample size of the poll and the potential poll-to-poll variability..."
   ]
  },
  {
   "cell_type": "code",
   "execution_count": 42,
   "id": "ff6287f4-dfc8-4d85-a059-557e20f149ee",
   "metadata": {},
   "outputs": [],
   "source": [
    "samp_sz = 2000\n",
    "poll_results = my_rng.binomial(samp_sz, poll_ps[0], n_sims)\n",
    "multi_poll_ps = poll_results/samp_sz\n",
    "\n",
    "elec_results = my_rng.binomial(n_voters, multi_poll_ps, n_sims)\n"
   ]
  },
  {
   "cell_type": "code",
   "execution_count": 43,
   "id": "03b07541-7ba0-4180-ad46-6ac087fa325e",
   "metadata": {},
   "outputs": [
    {
     "data": {
      "text/plain": [
       "<seaborn.axisgrid.FacetGrid at 0x7f89d1046490>"
      ]
     },
     "execution_count": 43,
     "metadata": {},
     "output_type": "execute_result"
    },
    {
     "data": {
      "image/png": "[encoded data removed]",
      "text/plain": [
       "<Figure size 500x500 with 1 Axes>"
      ]
     },
     "metadata": {},
     "output_type": "display_data"
    }
   ],
   "source": [
    "sns.displot(elec_results)"
   ]
  },
  {
   "cell_type": "code",
   "execution_count": null,
   "id": "e11e32a1-3539-4c04-b399-d317c99acd2e",
   "metadata": {},
   "outputs": [],
   "source": []
  }
 ],
 "metadata": {
  "kernelspec": {
   "display_name": "Python 3 (ipykernel)",
   "language": "python",
   "name": "python3"
  },
  "language_info": {
   "codemirror_mode": {
    "name": "ipython",
    "version": 3
   },
   "file_extension": ".py",
   "mimetype": "text/x-python",
   "name": "python",
   "nbconvert_exporter": "python",
   "pygments_lexer": "ipython3",
   "version": "3.8.13"
  }
 },
 "nbformat": 4,
 "nbformat_minor": 5
}
