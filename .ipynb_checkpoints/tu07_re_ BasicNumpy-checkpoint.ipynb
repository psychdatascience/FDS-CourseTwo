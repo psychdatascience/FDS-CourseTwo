{
 "cells": [
  {
   "cell_type": "markdown",
   "id": "4349780e",
   "metadata": {},
   "source": [
    "# Numpy Review"
   ]
  },
  {
   "cell_type": "markdown",
   "id": "f5f4cf59",
   "metadata": {},
   "source": [
    "In this review, we are going to refresh our memories about the Numpy package. Numpy (numerical Python) is the basic engine that turns Python into a tool for data analysis. Anything \"data sciency\" that you do in Python will rely on Numpy at some point, either explicitly (when calling Numpy fuctions directly), or implicitly (when, e.g., using Pandas).\n",
    "\n",
    "The point of Numpy is do make working with data in Python easier and faster. Here, we going to remind ourselves of basic Numpy functionality."
   ]
  },
  {
   "cell_type": "markdown",
   "id": "3f8d3585",
   "metadata": {},
   "source": [
    "## Python lists"
   ]
  },
  {
   "cell_type": "markdown",
   "id": "d98f4acc",
   "metadata": {},
   "source": [
    "First, let's look at a basic Python list:"
   ]
  },
  {
   "cell_type": "code",
   "execution_count": 32,
   "id": "db5e5766",
   "metadata": {},
   "outputs": [],
   "source": [
    "a_list = [2, 4, 6, 8]"
   ]
  },
  {
   "cell_type": "markdown",
   "id": "73b9531e",
   "metadata": {},
   "source": [
    "Just to warm up, let's get some items from our list via *indexing*:"
   ]
  },
  {
   "cell_type": "markdown",
   "id": "5f57b345",
   "metadata": {},
   "source": [
    "Get the first number from the list (the \"zeroith\" number in Pythonese):"
   ]
  },
  {
   "cell_type": "code",
   "execution_count": null,
   "id": "5e0674a3",
   "metadata": {},
   "outputs": [],
   "source": []
  },
  {
   "cell_type": "markdown",
   "id": "4bcfd50b",
   "metadata": {},
   "source": [
    "Get the last two numbers:"
   ]
  },
  {
   "cell_type": "code",
   "execution_count": null,
   "id": "d653b707",
   "metadata": {},
   "outputs": [],
   "source": []
  },
  {
   "cell_type": "markdown",
   "id": "99bdfdef",
   "metadata": {},
   "source": [
    "Now let's make a *nested* Python list:"
   ]
  },
  {
   "cell_type": "code",
   "execution_count": 43,
   "id": "65824b24",
   "metadata": {},
   "outputs": [],
   "source": [
    "a_nested_list = [[2, 4], [3, -1], [-2, 1]]"
   ]
  },
  {
   "cell_type": "markdown",
   "id": "bc726125",
   "metadata": {},
   "source": [
    "Remember that a Python list can hold data of different types, lengths, etc., but this list is special; it is a *list of lists* all of the same length.\n",
    "\n",
    "Let's have a look:"
   ]
  },
  {
   "cell_type": "code",
   "execution_count": 39,
   "id": "5aacb94d",
   "metadata": {},
   "outputs": [
    {
     "name": "stdout",
     "output_type": "stream",
     "text": [
      "[[2, 4], [3, -1], [-2, 1]]\n"
     ]
    }
   ],
   "source": [
    "print(a_nested_list)"
   ]
  },
  {
   "cell_type": "markdown",
   "id": "f8744914",
   "metadata": {},
   "source": [
    "How would we get the first entry in the second list? \n",
    "\n",
    "We could do it in two steps... first, get the second list:"
   ]
  },
  {
   "cell_type": "code",
   "execution_count": 40,
   "id": "1a50d0f7",
   "metadata": {},
   "outputs": [],
   "source": [
    "sec_list = a_nested_list[1]"
   ]
  },
  {
   "cell_type": "markdown",
   "id": "c05c7497",
   "metadata": {},
   "source": [
    "And then get the first entry:"
   ]
  },
  {
   "cell_type": "code",
   "execution_count": 41,
   "id": "2ff86c10",
   "metadata": {},
   "outputs": [
    {
     "name": "stdout",
     "output_type": "stream",
     "text": [
      "3\n"
     ]
    }
   ],
   "source": [
    "my_num = sec_list[0]\n",
    "print(my_num)"
   ]
  },
  {
   "cell_type": "markdown",
   "id": "1eef7b4d",
   "metadata": {},
   "source": [
    "Conveniently, we can just do this in one go:"
   ]
  },
  {
   "cell_type": "code",
   "execution_count": 42,
   "id": "4be53d3a",
   "metadata": {},
   "outputs": [
    {
     "name": "stdout",
     "output_type": "stream",
     "text": [
      "3\n"
     ]
    }
   ],
   "source": [
    "my_num = a_nested_list[1][0]\n",
    "print(my_num)"
   ]
  },
  {
   "cell_type": "markdown",
   "id": "5dc51f5f",
   "metadata": {},
   "source": [
    "This does the same thing without having to invoke the intermediate variable `sec_list`. \n",
    "\n",
    "While this list-of-lists construct might seem a little abstract, there is actually a nice what to wrap our heads around it, which is to think of it as a *matrix*."
   ]
  },
  {
   "cell_type": "markdown",
   "id": "7e3a5099",
   "metadata": {},
   "source": [
    "> Unfortunately, no one can be told what the Matrix is. You have to see it for yourself. *- Morpheus*"
   ]
  },
  {
   "cell_type": "markdown",
   "id": "9f6ffdf8",
   "metadata": {},
   "source": [
    "Here is an example of a matrix:\n",
    "\n",
    "![A matrix](./images/mailboxes.png)"
   ]
  },
  {
   "cell_type": "markdown",
   "id": "5894e653",
   "metadata": {},
   "source": [
    "A ***matrix*** is a 2 dimensional (2D) arrangement of things and, for our purposes, the things are data of one form or another (numbers, strings, timestamps, etc.).\n",
    "\n",
    "These mailboxes are numbered sequentially, because there are other mailboxes in other matrices and that's just how the USPS rolls. But, notice that, for *this* matrix of mailboxes, there is another way in which we could uniquely refer to each mailbox. Specifically, we could uniquely specify each mailbox by the *row* it is in and the *column* it is in.\n",
    "\n",
    "For example, the open mailbox with the key in the door is in the 2nd row and the 4th column or, in terms of Python indexes, the mailbox is at location [1, 3]. "
   ]
  },
  {
   "cell_type": "markdown",
   "id": "4037e1d4",
   "metadata": {},
   "source": [
    "So, we can think of matrix as an arrangement of data that has a built in ***spatial coordinate system*** used to refer to the items of data."
   ]
  },
  {
   "cell_type": "markdown",
   "id": "bee60ec3",
   "metadata": {},
   "source": [
    "Here's another Python list of lists:"
   ]
  },
  {
   "cell_type": "code",
   "execution_count": 46,
   "id": "7723fd1a",
   "metadata": {},
   "outputs": [],
   "source": [
    "another_nested_list = [[3.3, 2.3, 2.2], [1.2, 7.8, 8.7], [4.8, 2.2, 6.5],\n",
    "                       [1.5, 7.5, 9.5], [5.9, 1.6, 7.7]]"
   ]
  },
  {
   "cell_type": "markdown",
   "id": "072cfd88",
   "metadata": {},
   "source": [
    "As far as Python is concerned, this is just a list that happens to contain 5 lists, each of length 3:"
   ]
  },
  {
   "cell_type": "code",
   "execution_count": 48,
   "id": "9b0a20eb",
   "metadata": {},
   "outputs": [
    {
     "name": "stdout",
     "output_type": "stream",
     "text": [
      "Another nested Python list: [[3.3, 2.3, 2.2], [1.2, 7.8, 8.7], [4.8, 2.2, 6.5], [1.5, 7.5, 9.5], [5.9, 1.6, 7.7]]\n"
     ]
    }
   ],
   "source": [
    "print(f'Another nested Python list: {another_nested_list}')"
   ]
  },
  {
   "cell_type": "markdown",
   "id": "9a347388",
   "metadata": {},
   "source": [
    "But it makes sense for our human brains to think about it as a 2D arrangement of data, like this: "
   ]
  },
  {
   "cell_type": "markdown",
   "id": "297d7076",
   "metadata": {},
   "source": [
    "| row # | Col # | | | | |\n",
    "| ---- | ---- | ---- | ---- | ---- | ---- |\n",
    "|   | 0 | 1 | 2 | 3 |  4 | 5 |\n",
    "| 0 | 3.3 | 1.2 | 4.8 | 1.5 |  5.9 | 9.0 |\n",
    "| 1 | 2.3 | 7.8 | 2.2 | 7.5 |  1.6 | 8.1 |\n",
    "| 2 | 2.2 | 8.7 | 6.5 | 9.5 |  7.7 | 5.2 |"
   ]
  },
  {
   "cell_type": "markdown",
   "id": "d7384bea",
   "metadata": {},
   "source": [
    "Now we can think of the Python indexes used to access the data as spatial ***row*** and ***column*** coordinates. For example:"
   ]
  },
  {
   "cell_type": "code",
   "execution_count": 49,
   "id": "8fc01995",
   "metadata": {},
   "outputs": [
    {
     "data": {
      "text/plain": [
       "2.2"
      ]
     },
     "execution_count": 49,
     "metadata": {},
     "output_type": "execute_result"
    }
   ],
   "source": [
    "another_nested_list[2][1]"
   ]
  },
  {
   "cell_type": "markdown",
   "id": "cbbc2dfd",
   "metadata": {},
   "source": [
    "fetches the data value in the second row (row index 1) and the third column (column index 2). \n",
    "\n",
    "Even though, in Python terms, `another_nested_list` is just a list of lists that all happen to be of the same length, it's very helpful for us to map data like this onto a matrix and think of the indexes as coordinates."
   ]
  },
  {
   "cell_type": "markdown",
   "id": "e68956ab",
   "metadata": {},
   "source": [
    "## Numpy"
   ]
  },
  {
   "cell_type": "markdown",
   "id": "f321e93b",
   "metadata": {},
   "source": [
    "Numpy is a big and powerful package, but you can think of it's most basic function as making this matrix-like way of thinking about data explicit, as opposed to just a cute way of thinking about lists of lists."
   ]
  },
  {
   "cell_type": "markdown",
   "id": "22893ffa",
   "metadata": {},
   "source": [
    "To use numpy, we first import it. Traditionally, it is imported under the name \"`np`\"."
   ]
  },
  {
   "cell_type": "code",
   "execution_count": 6,
   "id": "93cf85bc",
   "metadata": {},
   "outputs": [],
   "source": [
    "import numpy as np"
   ]
  },
  {
   "cell_type": "markdown",
   "id": "36eee03f",
   "metadata": {},
   "source": [
    "Now we can convert our latest nested list into a numpy matrix using numpy's `array()` function:"
   ]
  },
  {
   "cell_type": "code",
   "execution_count": 51,
   "id": "65926fce",
   "metadata": {},
   "outputs": [],
   "source": [
    "our_numpy_matrix = np.array(another_nested_list)"
   ]
  },
  {
   "cell_type": "markdown",
   "id": "a26ba1a6",
   "metadata": {},
   "source": [
    "Let's look at our new matrix!"
   ]
  },
  {
   "cell_type": "code",
   "execution_count": 55,
   "id": "bc7c1011",
   "metadata": {},
   "outputs": [
    {
     "name": "stdout",
     "output_type": "stream",
     "text": [
      "[[3.3 2.3 2.2]\n",
      " [1.2 7.8 8.7]\n",
      " [4.8 2.2 6.5]\n",
      " [1.5 7.5 9.5]\n",
      " [5.9 1.6 7.7]]\n"
     ]
    }
   ],
   "source": [
    "print(our_numpy_matrix)"
   ]
  },
  {
   "cell_type": "markdown",
   "id": "b0d8f730",
   "metadata": {},
   "source": [
    "And compare it to the Python list from which we created it."
   ]
  },
  {
   "cell_type": "code",
   "execution_count": 62,
   "id": "aab47ca6",
   "metadata": {},
   "outputs": [
    {
     "name": "stdout",
     "output_type": "stream",
     "text": [
      "[[3.3, 2.3, 2.2], [1.2, 7.8, 8.7], [4.8, 2.2, 6.5], [1.5, 7.5, 9.5], [5.9, 1.6, 7.7]]\n"
     ]
    }
   ],
   "source": [
    "print(another_nested_list)"
   ]
  },
  {
   "cell_type": "markdown",
   "id": "9a7e3ea0",
   "metadata": {},
   "source": [
    "We can see that the numpy version has made the spatial row x column arrangement explicit.\n",
    "\n",
    "Now, getting data values is easy peasy, we just index into our new matrix with row and column coordinates of a desired value:"
   ]
  },
  {
   "cell_type": "code",
   "execution_count": 63,
   "id": "c8f82135",
   "metadata": {},
   "outputs": [
    {
     "data": {
      "text/plain": [
       "4.8"
      ]
     },
     "execution_count": 63,
     "metadata": {},
     "output_type": "execute_result"
    }
   ],
   "source": [
    "our_numpy_matrix[2,0] # get the data at the third row and first column"
   ]
  },
  {
   "cell_type": "markdown",
   "id": "f90e8f3b",
   "metadata": {},
   "source": [
    "Let's see what data type our new matrix is, according to Python:"
   ]
  },
  {
   "cell_type": "code",
   "execution_count": 64,
   "id": "d6d282d5",
   "metadata": {},
   "outputs": [
    {
     "data": {
      "text/plain": [
       "numpy.ndarray"
      ]
     },
     "execution_count": 64,
     "metadata": {},
     "output_type": "execute_result"
    }
   ],
   "source": [
    "type(our_numpy_matrix)"
   ]
  },
  {
   "cell_type": "markdown",
   "id": "1fde21bd",
   "metadata": {},
   "source": [
    "So our new matrix is a Python object made by numpy of type \"ndarray\", which is short for \"N-dimesional array\" – we'll unpack this in a bit.\n",
    "\n",
    "But our object contains other objects (in that Pythonic way), so let's see what they are:"
   ]
  },
  {
   "cell_type": "code",
   "execution_count": 65,
   "id": "2a02fd4b",
   "metadata": {},
   "outputs": [
    {
     "data": {
      "text/plain": [
       "numpy.float64"
      ]
     },
     "execution_count": 65,
     "metadata": {},
     "output_type": "execute_result"
    }
   ],
   "source": [
    "type(our_numpy_matrix[2,0])"
   ]
  },
  {
   "cell_type": "markdown",
   "id": "49a25d0a",
   "metadata": {},
   "source": [
    "So they are floating point numbers, also defined in numpy, that presumably have a few more bells and whistles that regular Python floats (the 64 at the end means that 64 bits are used to store each number; this is the number's *precision*."
   ]
  },
  {
   "cell_type": "markdown",
   "id": "49999ac2",
   "metadata": {},
   "source": [
    "You may have noticed that our new matrix is a little different than the way we laid out our numbers in the table above. There, we made each sub-list into a column, whereas the `array` function seems to have made each list into a row.\n",
    "\n",
    "Fear not! Numpy objects, like all Python objects \"know\" how to do things; they have *methods*. The need to turn the rows into columns and vice versa is very common – it is called *transposing* a matrix – so numpy arrays have a *transpose* method `T`."
   ]
  },
  {
   "cell_type": "code",
   "execution_count": 61,
   "id": "48b50c85",
   "metadata": {},
   "outputs": [
    {
     "name": "stdout",
     "output_type": "stream",
     "text": [
      "[[3.3 1.2 4.8 1.5 5.9]\n",
      " [2.3 7.8 2.2 7.5 1.6]\n",
      " [2.2 8.7 6.5 9.5 7.7]]\n"
     ]
    }
   ],
   "source": [
    "transposed_matrix = our_numpy_matrix.T\n",
    "print(transposed_matrix)"
   ]
  },
  {
   "cell_type": "markdown",
   "id": "ec948ca7",
   "metadata": {},
   "source": [
    "Notice that the value 4.8 used to be in the third row of the first column, but now it's coordinates have been flipped:"
   ]
  },
  {
   "cell_type": "code",
   "execution_count": 66,
   "id": "7ac6a782",
   "metadata": {},
   "outputs": [
    {
     "data": {
      "text/plain": [
       "4.8"
      ]
     },
     "execution_count": 66,
     "metadata": {},
     "output_type": "execute_result"
    }
   ],
   "source": [
    "transposed_matrix[0,2] # new location of 4.8"
   ]
  },
  {
   "cell_type": "code",
   "execution_count": 67,
   "id": "7a8b30cf",
   "metadata": {},
   "outputs": [
    {
     "data": {
      "text/plain": [
       "2.2"
      ]
     },
     "execution_count": 67,
     "metadata": {},
     "output_type": "execute_result"
    }
   ],
   "source": [
    "transposed_matrix[2,0] # value at the old location"
   ]
  },
  {
   "cell_type": "markdown",
   "id": "40017987",
   "metadata": {},
   "source": [
    "In the code cell below, make a Python list of lists, create a numpy matrix from it, transpose it, and access 3 of it's values."
   ]
  },
  {
   "cell_type": "code",
   "execution_count": null,
   "id": "cc96f33c",
   "metadata": {},
   "outputs": [],
   "source": []
  },
  {
   "cell_type": "markdown",
   "id": "fdbad0f3",
   "metadata": {},
   "source": [
    "### Numpy arrays "
   ]
  },
  {
   "cell_type": "markdown",
   "id": "e686b730",
   "metadata": {},
   "source": [
    "So far, we've been talking about our data above as a \"matrix\", yet we used the `array()` function to make it, and Python tells us that our matrix is an `ndarray` – what's going on?"
   ]
  },
  {
   "cell_type": "markdown",
   "id": "f29bc274",
   "metadata": {},
   "source": [
    "#### Types of arrays"
   ]
  },
  {
   "cell_type": "markdown",
   "id": "4cc35fb5",
   "metadata": {},
   "source": [
    "\"Array\" is a general term for a structured collection of data, and can have any number of dimensions (hence \"ndarray\" for \"N-dimensional array\"). Here's an (empty) 3 dimensional array:"
   ]
  },
  {
   "cell_type": "markdown",
   "id": "e4f23a96",
   "metadata": {},
   "source": [
    "![A 3D array](images/array.png)"
   ]
  },
  {
   "cell_type": "markdown",
   "id": "36ac194f",
   "metadata": {},
   "source": [
    "If this array were named \"phred\", we would index it just like above, but with an extra index – the coordinate specifying the location along the third dimension. So `phred[5, 5, 3]` would specify the bottom right location just peeking out on the fourth – what? – \"page\" of the array."
   ]
  },
  {
   "cell_type": "markdown",
   "id": "52c2de18",
   "metadata": {},
   "source": [
    "Though arrays can have any number of dimensions, lower-dimensional arrays are common and get their own special names.\n",
    "\n",
    "A \"matrix\" is an array of 2 dimensions. As you already know, a matrix is a universal format for data and is preferably in \"tidy\" format, where each row is an observation and each column is a variable.\n",
    "\n",
    "A \"vector\" "
   ]
  },
  {
   "cell_type": "markdown",
   "id": "9153d117",
   "metadata": {},
   "source": [
    "#### Making numpy arrays "
   ]
  },
  {
   "cell_type": "markdown",
   "id": "527a8a06",
   "metadata": {},
   "source": []
  },
  {
   "cell_type": "code",
   "execution_count": 17,
   "id": "b1920380",
   "metadata": {},
   "outputs": [
    {
     "name": "stdout",
     "output_type": "stream",
     "text": [
      "A python list: [2, 4, 6, 8]\n",
      "A numpy thing: [2 4 6 8]\n"
     ]
    }
   ],
   "source": [
    "print(f'A python list: {a_list}')\n",
    "\n",
    "a_numpy_thing = np.array((a_list))\n",
    "\n",
    "print(f'A numpy thing: {a_numpy_thing}')"
   ]
  },
  {
   "cell_type": "code",
   "execution_count": 25,
   "id": "2c3b2282",
   "metadata": {
    "scrolled": true
   },
   "outputs": [
    {
     "data": {
      "text/plain": [
       "array([[1, 2, 3],\n",
       "       [4, 5, 6]])"
      ]
     },
     "execution_count": 25,
     "metadata": {},
     "output_type": "execute_result"
    }
   ],
   "source": [
    "a = np.array([[1, 2, 3], [4, 5, 6]])\n",
    "a"
   ]
  },
  {
   "cell_type": "code",
   "execution_count": null,
   "id": "ed2afdac",
   "metadata": {},
   "outputs": [],
   "source": []
  },
  {
   "cell_type": "code",
   "execution_count": 21,
   "id": "9868f0ba",
   "metadata": {},
   "outputs": [
    {
     "data": {
      "text/plain": [
       "array([[1.],\n",
       "       [1.]])"
      ]
     },
     "execution_count": 21,
     "metadata": {},
     "output_type": "execute_result"
    }
   ],
   "source": [
    "a_vec = np.ones((2,1))\n",
    "\n",
    "a_vec"
   ]
  },
  {
   "cell_type": "code",
   "execution_count": 23,
   "id": "22f8a344",
   "metadata": {},
   "outputs": [
    {
     "data": {
      "text/plain": [
       "(2, 1)"
      ]
     },
     "execution_count": 23,
     "metadata": {},
     "output_type": "execute_result"
    }
   ],
   "source": [
    "a_vec.shape"
   ]
  },
  {
   "cell_type": "code",
   "execution_count": 31,
   "id": "09a9adaa",
   "metadata": {},
   "outputs": [
    {
     "data": {
      "text/plain": [
       "(3,)"
      ]
     },
     "execution_count": 31,
     "metadata": {},
     "output_type": "execute_result"
    }
   ],
   "source": [
    "a_vec = np.array([1, 3, 5])\n",
    "a_vec.shape"
   ]
  },
  {
   "cell_type": "code",
   "execution_count": 29,
   "id": "25494059",
   "metadata": {},
   "outputs": [
    {
     "data": {
      "text/plain": [
       "array([[1],\n",
       "       [3],\n",
       "       [5]])"
      ]
     },
     "execution_count": 29,
     "metadata": {},
     "output_type": "execute_result"
    }
   ],
   "source": [
    "a_vec = a_vec[:, np.newaxis]\n",
    "a_vec"
   ]
  },
  {
   "cell_type": "markdown",
   "id": "8d09dd9a",
   "metadata": {},
   "source": [
    "#### \"vectorized\" operations "
   ]
  },
  {
   "cell_type": "code",
   "execution_count": null,
   "id": "2895f344",
   "metadata": {},
   "outputs": [],
   "source": []
  },
  {
   "cell_type": "markdown",
   "id": "eb652ebb",
   "metadata": {},
   "source": [
    "#### Indexing cells "
   ]
  },
  {
   "cell_type": "code",
   "execution_count": null,
   "id": "35d0fefd",
   "metadata": {},
   "outputs": [],
   "source": []
  },
  {
   "cell_type": "markdown",
   "id": "cfd38fb6",
   "metadata": {},
   "source": [
    "#### Indexing rows and columns"
   ]
  },
  {
   "cell_type": "code",
   "execution_count": null,
   "id": "11b2b332",
   "metadata": {},
   "outputs": [],
   "source": []
  },
  {
   "cell_type": "markdown",
   "id": "5c36a10f",
   "metadata": {},
   "source": [
    "#### Indexing subsets (\"slicing\")"
   ]
  },
  {
   "cell_type": "code",
   "execution_count": null,
   "id": "6191f106",
   "metadata": {},
   "outputs": [],
   "source": []
  }
 ],
 "metadata": {
  "kernelspec": {
   "display_name": "Python 3 (ipykernel)",
   "language": "python",
   "name": "python3"
  },
  "language_info": {
   "codemirror_mode": {
    "name": "ipython",
    "version": 3
   },
   "file_extension": ".py",
   "mimetype": "text/x-python",
   "name": "python",
   "nbconvert_exporter": "python",
   "pygments_lexer": "ipython3",
   "version": "3.8.13"
  }
 },
 "nbformat": 4,
 "nbformat_minor": 5
}
