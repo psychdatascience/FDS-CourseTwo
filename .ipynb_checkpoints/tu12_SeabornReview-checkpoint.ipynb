{
 "cells": [
  {
   "cell_type": "markdown",
   "id": "1e6ca3f6",
   "metadata": {},
   "source": [
    "# Seaborn Review"
   ]
  },
  {
   "cell_type": "markdown",
   "id": "c259cb5a",
   "metadata": {},
   "source": [
    "Seaborn is a really great package for quickly producing nice plots. It's basic structure looks like this"
   ]
  },
  {
   "cell_type": "markdown",
   "id": "22e60fa4",
   "metadata": {},
   "source": [
    "![seaborn anatomy](images/seabornOverview.png)"
   ]
  },
  {
   "cell_type": "markdown",
   "id": "ce24ef83",
   "metadata": {},
   "source": [
    "The top row (the larger boxes) are figure-level plots. The handle much of the busywork of making a nice figure for you, and also allow you to select which underlying plot type to use (e.g. lineplot vs scatterplot).\n",
    "\n",
    "\n",
    "There are also a couple functions, `pairplot()` and `jointplot()` that produce some common figures using a mix of plot types. We've made examples of both of these \"by hand\" already in this course."
   ]
  },
  {
   "cell_type": "markdown",
   "id": "a2db9649",
   "metadata": {},
   "source": [
    "Seaborn is built on top of matplotlib so, ultimately, everything in a seaborn figure is an `axes` or other matplotlib `artist`. This means that you can always use matplotlib methods if you need to do some low level customization of your figures."
   ]
  },
  {
   "cell_type": "markdown",
   "id": "3797e0ca",
   "metadata": {},
   "source": [
    "### Preliminaries"
   ]
  },
  {
   "cell_type": "markdown",
   "id": "ffe6c8da",
   "metadata": {},
   "source": [
    "First, let's import what we'll need:"
   ]
  },
  {
   "cell_type": "code",
   "execution_count": 2,
   "id": "4fa6c370",
   "metadata": {},
   "outputs": [],
   "source": [
    "import pandas as pd\n",
    "import seaborn as sns"
   ]
  },
  {
   "cell_type": "markdown",
   "id": "c83ad95d",
   "metadata": {},
   "source": [
    "## Figure level plots"
   ]
  },
  {
   "cell_type": "markdown",
   "id": "137b9026",
   "metadata": {},
   "source": [
    " We'll start with some figure level plots."
   ]
  },
  {
   "cell_type": "markdown",
   "id": "2c09ecee",
   "metadata": {},
   "source": [
    "### Relational plots"
   ]
  },
  {
   "cell_type": "markdown",
   "id": "2b319571",
   "metadata": {},
   "source": [
    "Several example data sets come with seaborn. Here's one about tipping:"
   ]
  },
  {
   "cell_type": "code",
   "execution_count": 3,
   "id": "8e2dc76d",
   "metadata": {},
   "outputs": [],
   "source": [
    "tips = sns.load_dataset(\"tips\")"
   ]
  },
  {
   "cell_type": "code",
   "execution_count": null,
   "id": "c1c29724",
   "metadata": {},
   "outputs": [],
   "source": []
  },
  {
   "cell_type": "markdown",
   "id": "18912a29",
   "metadata": {},
   "source": [
    "### Distribution plots"
   ]
  },
  {
   "cell_type": "markdown",
   "id": "93aaa872",
   "metadata": {},
   "source": [
    "$\\color{blue}{\\text{Complete the following exercise.}}$\n",
    "\n",
    " - Use the cell below to report one parameters that can be passed to `sns`. Explain what the parameter does using your own words."
   ]
  },
  {
   "cell_type": "markdown",
   "id": "a44d1066",
   "metadata": {},
   "source": []
  },
  {
   "cell_type": "markdown",
   "id": "5f899a9d",
   "metadata": {},
   "source": [
    " - Use the cell below to show an example application of the paramter use described above. Use `data` to shwo the example (Please, pick a parameter that is not the one used in the next example!):"
   ]
  },
  {
   "cell_type": "code",
   "execution_count": null,
   "id": "2f9ac1c3",
   "metadata": {},
   "outputs": [],
   "source": []
  },
  {
   "cell_type": "markdown",
   "id": "72b55ab2",
   "metadata": {},
   "source": [
    "#### Creating a multi-axes figure with a figure level seaborn function"
   ]
  },
  {
   "cell_type": "markdown",
   "id": "9a8e5841",
   "metadata": {},
   "source": [
    "---"
   ]
  },
  {
   "cell_type": "code",
   "execution_count": null,
   "id": "7f24cee9",
   "metadata": {},
   "outputs": [],
   "source": []
  },
  {
   "cell_type": "markdown",
   "id": "f1be656b",
   "metadata": {},
   "source": [
    "---"
   ]
  },
  {
   "cell_type": "code",
   "execution_count": null,
   "id": "aac35a24",
   "metadata": {},
   "outputs": [],
   "source": []
  },
  {
   "cell_type": "markdown",
   "id": "b17e8eb3",
   "metadata": {},
   "source": [
    "---"
   ]
  },
  {
   "cell_type": "markdown",
   "id": "723dab1b",
   "metadata": {},
   "source": [
    "### Categorical plots"
   ]
  },
  {
   "cell_type": "markdown",
   "id": "8ee45ee3",
   "metadata": {},
   "source": [
    "Let's try playing with `catplot()`"
   ]
  },
  {
   "cell_type": "markdown",
   "id": "bbececa9",
   "metadata": {},
   "source": [
    "So a `stripplot` is the default axes-level plot (and notice that the default axes-level plots are the first ones listed under their corresponding figure-level counterparts. But we can have it call `boxplot()` for us by telling it that we want `kind=\"box\"`."
   ]
  },
  {
   "cell_type": "markdown",
   "id": "0b7d7e61",
   "metadata": {},
   "source": [
    "### Axis level plots"
   ]
  },
  {
   "cell_type": "markdown",
   "id": "454e57d5",
   "metadata": {},
   "source": [
    "Notice that we've assigned the output of `sns.boxplot()` to `ax`. So we have an `axes` object (named `ax`), and thus have access to all the things an `axes` knows how to do. So if we type \"ax.\" and a tab, we'll see something like this:\n",
    "    \n",
    "---\n",
    "    \n",
    "![seaborn_overview](./assets/jpnb20/axesMethods.png)\n",
    "    \n",
    "---"
   ]
  },
  {
   "cell_type": "markdown",
   "id": "881cd01e",
   "metadata": {},
   "source": [
    "So let's do that:"
   ]
  },
  {
   "cell_type": "code",
   "execution_count": null,
   "id": "7eea0f46",
   "metadata": {},
   "outputs": [],
   "source": [
    "ax."
   ]
  },
  {
   "cell_type": "markdown",
   "id": "c612ac84",
   "metadata": {},
   "source": [
    "and now we can scroll around to find useful things. "
   ]
  },
  {
   "cell_type": "markdown",
   "id": "00906779",
   "metadata": {},
   "source": [
    "Let's try inverting the y axis so that faster times plot visually higher!"
   ]
  },
  {
   "cell_type": "markdown",
   "id": "038ae729",
   "metadata": {},
   "source": [
    "And we can see a lot of useful stuff by typing `ax.set` and a tab. Among those is `ax.set_title` which we can use to... wait for it... add a title!"
   ]
  },
  {
   "cell_type": "markdown",
   "id": "5904e596",
   "metadata": {},
   "source": [
    "### Summary\n",
    "So `seaborn` is a nice way to make plots of data from `pandas` data frames. Its default values make good looking plots. It has two main kinds of plotting functions:\n",
    "\n",
    "* figure level functions that are handy for making multi axes panel figures\n",
    "* axes level functions that return an axes object handle to you, allowing for fine control over the plot's appearance\n",
    "\n"
   ]
  },
  {
   "cell_type": "markdown",
   "id": "115fb8a8",
   "metadata": {},
   "source": [
    "---"
   ]
  },
  {
   "cell_type": "markdown",
   "id": "7340104e",
   "metadata": {},
   "source": [
    "$\\color{blue}{\\text{Complete the following exercise.}}$"
   ]
  },
  {
   "cell_type": "markdown",
   "id": "a279fdca",
   "metadata": {},
   "source": [
    "Write your function here:"
   ]
  },
  {
   "cell_type": "code",
   "execution_count": null,
   "id": "e5a4b6b1",
   "metadata": {},
   "outputs": [],
   "source": []
  },
  {
   "cell_type": "markdown",
   "id": "325a6c68",
   "metadata": {},
   "source": [
    "Now get help on it:"
   ]
  },
  {
   "cell_type": "code",
   "execution_count": null,
   "id": "4734c4eb",
   "metadata": {},
   "outputs": [],
   "source": []
  },
  {
   "cell_type": "markdown",
   "id": "807ee07e",
   "metadata": {},
   "source": [
    "And show that it works with an example call and a plot!"
   ]
  },
  {
   "cell_type": "code",
   "execution_count": null,
   "id": "33f15c00",
   "metadata": {},
   "outputs": [],
   "source": []
  }
 ],
 "metadata": {
  "kernelspec": {
   "display_name": "Python 3 (ipykernel)",
   "language": "python",
   "name": "python3"
  },
  "language_info": {
   "codemirror_mode": {
    "name": "ipython",
    "version": 3
   },
   "file_extension": ".py",
   "mimetype": "text/x-python",
   "name": "python",
   "nbconvert_exporter": "python",
   "pygments_lexer": "ipython3",
   "version": "3.8.13"
  }
 },
 "nbformat": 4,
 "nbformat_minor": 5
}
