{
 "cells": [
  {
   "cell_type": "markdown",
   "id": "81d19d16",
   "metadata": {},
   "source": [
    "   # loops and if HW solution"
   ]
  },
  {
   "cell_type": "markdown",
   "id": "bd745db6",
   "metadata": {},
   "source": [
    "Using a `for` loop, reverse the quote (from Napolean, but without capitalization) \"*able was i ere i saw elba*\"."
   ]
  },
  {
   "cell_type": "code",
   "execution_count": 1,
   "id": "551a9bcb",
   "metadata": {},
   "outputs": [
    {
     "name": "stdout",
     "output_type": "stream",
     "text": [
      "able was i ere i saw elba\n"
     ]
    }
   ],
   "source": [
    "nep_quote = 'able was i ere i saw elba'\n",
    "backwards_quote = []\n",
    "\n",
    "for i in reversed(nep_quote) :\n",
    "    backwards_quote.append(i)\n",
    "\n",
    "backwards_quote = ''.join(backwards_quote)\n",
    "print(backwards_quote)"
   ]
  },
  {
   "cell_type": "markdown",
   "id": "72bc6f2e",
   "metadata": {},
   "source": [
    "*Optional challenge*: run the above on \"race car\" and then fix the resulting string."
   ]
  },
  {
   "cell_type": "code",
   "execution_count": null,
   "id": "7abd516b",
   "metadata": {},
   "outputs": [],
   "source": []
  },
  {
   "cell_type": "markdown",
   "id": "97515edc",
   "metadata": {},
   "source": [
    "## Find the first 10 primes"
   ]
  },
  {
   "cell_type": "code",
   "execution_count": 1,
   "id": "f518030e",
   "metadata": {},
   "outputs": [
    {
     "name": "stdout",
     "output_type": "stream",
     "text": [
      "[3, 5, 7, 11, 13, 17, 19, 23, 29, 31]\n"
     ]
    }
   ],
   "source": [
    "myPrimes = list()\n",
    "\n",
    "# making these here so we past the first test\n",
    "testNum = 3 \n",
    "\n",
    "while (len(myPrimes) < 10) : # loop to increment prime candidate\n",
    "    denom = 2 # start testing demoninators at 3\n",
    "    \n",
    "    while (testNum % denom > 0) : # loop to increment denominator\n",
    "        denom += 1\n",
    "\n",
    "    # end inner while loop\n",
    "\n",
    "    if (denom == testNum) :  \n",
    "        myPrimes.append(testNum)\n",
    "    \n",
    "    testNum += 1 # increment prime candidate\n",
    "\n",
    "# end outer while   \n",
    "        \n",
    "print(myPrimes)"
   ]
  },
  {
   "cell_type": "markdown",
   "id": "13c2c9d2",
   "metadata": {},
   "source": [
    "## make a function to compute the first n primes"
   ]
  },
  {
   "cell_type": "code",
   "execution_count": null,
   "id": "2b2f95a0",
   "metadata": {},
   "outputs": [],
   "source": [
    "def findPrimes(n) :\n",
    "    \n"
   ]
  },
  {
   "cell_type": "code",
   "execution_count": null,
   "id": "643c4dd1",
   "metadata": {},
   "outputs": [],
   "source": [
    "myPrimes.append(1)\n",
    "myPrimes"
   ]
  }
 ],
 "metadata": {
  "kernelspec": {
   "display_name": "Python 3 (ipykernel)",
   "language": "python",
   "name": "python3"
  },
  "language_info": {
   "codemirror_mode": {
    "name": "ipython",
    "version": 3
   },
   "file_extension": ".py",
   "mimetype": "text/x-python",
   "name": "python",
   "nbconvert_exporter": "python",
   "pygments_lexer": "ipython3",
   "version": "3.8.12"
  }
 },
 "nbformat": 4,
 "nbformat_minor": 5
}
