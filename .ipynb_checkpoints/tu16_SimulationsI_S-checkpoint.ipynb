{
 "cells": [
  {
   "cell_type": "markdown",
   "id": "be32c40e-4486-44e3-9e5e-73fa21dda655",
   "metadata": {},
   "source": [
    "# Computer Simulations"
   ]
  },
  {
   "cell_type": "markdown",
   "id": "13236d88-bfc6-4219-8248-1b34ea31b0e2",
   "metadata": {},
   "source": [
    "Computer simulations, also known as Monte Carlo simulations, are incredibly powerful. They allow us to compute the likely outcomes of situations or events when it would be difficult, expensive, or impossible to recreate the situations or events in the real world many times over."
   ]
  },
  {
   "cell_type": "markdown",
   "id": "0a2d36cf-c931-4ab8-8278-0fc8a13e09ac",
   "metadata": {},
   "source": [
    "As a simple example, if NASA were working on a new two-stage rocket, they would need to know, for a given launch site, where the first stage is likely to land once it detaches and falls to earth. That information would be crucial, and no launch would be allowed without it. Of course, equations using Newtonian physics and aerodynamics can be used to predict an expected spot for impact. But, obviously, the discarded stage won't hit in that exact spot every time. So, what we really want is a *distribution*, like a 2D histogram, of likely landing spots. In other words, a map of the danger zone. To construct a map of the danger zone, we could:\n",
    "\n",
    "- Build a bunch of rockets and test-fire them into space, recording the impact coordinates of the fallen stage each time.\n",
    "\n",
    "or\n",
    "\n",
    "- Tinker with the constants in the equations (such as wind speed and direction at various altitudes) by hand, recording the impact coordinates predicted by the equations each time.\n",
    "\n",
    "The second option would be incredibly tedious and would be subject to bias  (how would the exact wind directions be chosen?). The first option would expensive, time-consuming and, of course, incredibly dangerous. \n",
    "\n",
    "As a second example, consider forcasting the landfall of hurricanes. Here, it's obviously impossible to \"test fire\" a bunch of hurricanes and, even if we could, doing so would defeat the very purpose of forcasting the landfall! Very elaborate sets of equations can predict *a* landfall for a particular set of constants (ocean temperatures, prevailing winds, etc.) but, again, what we want is a *distribution* of likely locations for landfall – a map of the danger zone.\n",
    "\n",
    "In each of these situations, the solution is to run the equations on a computer – that is, to do a simulations – many many times over and, each time, having the computer select probable values for the constants (air temperature etc.) *at random*. Having the values for the constants be set to new random values each time will make the final outcome – impact site, landfall location, etc. – also vary, and the final distribution of these outcomes will give us the information we want. "
   ]
  },
  {
   "cell_type": "markdown",
   "id": "d76fa666-dbad-45a5-a275-fd1cfb3d42b0",
   "metadata": {},
   "source": [
    "Simulations are now ubiquitous in data science. They are, in fact, used in hurricane forcasting as well as in any other area in which people make predictions, such as sports, politics, and warfare (the first use of computer simulations was to help develop the first nuclear weapon). The key to doing computer simulations, however, is to be able to pump realistic *random* values into the equations on each simulation, so that the variability in these values plays out as realistic variability in the final outcome. So where do we get these random numbers?"
   ]
  },
  {
   "cell_type": "markdown",
   "id": "9c152f88-000a-44c9-b314-5241bd935778",
   "metadata": {},
   "source": [
    "## Pseudorandom Numbers"
   ]
  },
  {
   "cell_type": "markdown",
   "id": "50d2ffad-0fe6-49da-bbee-0a018ec6ab9d",
   "metadata": {},
   "source": [
    "A computer is a deterministic machine meaning that, in any given state, it will always produce the same output for a given input. So how can a computer possibly produce random numbers? It can't. But it can produce ***pseudorandom numbers***, which are sequences of numbers that are random *for all practical intents and purposes*."
   ]
  },
  {
   "cell_type": "markdown",
   "id": "ecc121a7-5c4e-4783-bc5e-8aec27d06a1a",
   "metadata": {},
   "source": [
    "Pseudorandom numbers are so widely used and so good (that is, statistically indistinguishable from true random numbers) that most books and articles nowadays just refer to them as \"random numbers\". Similarly, the algorithms and programs used to generate them are called \"random number generators\" rather than \"pseudorandom number generators\"."
   ]
  },
  {
   "cell_type": "markdown",
   "id": "fff5d856-1e3c-44d1-8aa6-6d122a53c977",
   "metadata": {},
   "source": [
    "The way computers make random numbers is conceptually quite simple. A starting value – a \"seed\" – is passed through an algorithm that produces a single output value, the first \"random\" number. This output is passed back though the algorithm to produce the second random number, and so on. The trick is to design an algorithm that makes it almost impossible to guess the input value from the output value. In other words, the numbers should appear to be unrelated or *independent*, and therefore random."
   ]
  },
  {
   "cell_type": "markdown",
   "id": "b82ff2c9-f3b2-4d56-ab07-52d8aae0dc3e",
   "metadata": {},
   "source": [
    "Here is a very simple algorithm for a (pseudo) random number generator. It takes three numbers:\n",
    "\n",
    "- a number, *s*, the \"seed\"\n",
    "- a number, *a*, called the \"multiplier\"\n",
    "- and a number, *m*, called the \"modulus\"\n",
    "\n",
    "It then computes the remainder – the modulus – of: $(seed * a) / m$\n",
    "\n",
    "That equation yields our first random number. To get the second number, we feed the first output back into the equation in place of the seed. To get the third, we feed in the second and so on."
   ]
  },
  {
   "cell_type": "markdown",
   "id": "81c19f38-adae-4d40-a274-5bf541ef3523",
   "metadata": {},
   "source": [
    "Here is code to implement the above algorithm – an actual (psuedo) random number generator!"
   ]
  },
  {
   "cell_type": "code",
   "execution_count": 2,
   "id": "428db015-008f-4f65-9772-904f9cd3ba45",
   "metadata": {},
   "outputs": [
    {
     "data": {
      "text/plain": [
       "[10, 8, 11, 18, 19, 6, 14, 2, 20, 16, 22, 13, 15, 12, 5, 4, 17, 9, 21, 3]"
      ]
     },
     "execution_count": 2,
     "metadata": {},
     "output_type": "execute_result"
    }
   ],
   "source": [
    "s, a, m = 1, 10, 23  # seed, multiplier, modulus\n",
    "ps_rands = []         # empty list to hold our numbers\n",
    "\n",
    "for i in range(20) :\n",
    "    if i > 0 :\n",
    "        x = (ps_rands[i-1]*a)%m\n",
    "        ps_rands.append(x)\n",
    "    else :\n",
    "        x = (s*a)%m\n",
    "        ps_rands.append(x)\n",
    "        \n",
    "ps_rands"
   ]
  },
  {
   "cell_type": "markdown",
   "id": "39ff5f33-c92a-443a-bac9-5cad8a19ba36",
   "metadata": {},
   "source": [
    "Run the code and see if you can find a pattern in these numbers! If you can't, then they pass at least one informal test of randomness – the test of you!"
   ]
  },
  {
   "cell_type": "markdown",
   "id": "74d15e0b-eb5d-4239-aaa1-aeb3c58b7641",
   "metadata": {},
   "source": [
    "---"
   ]
  },
  {
   "cell_type": "markdown",
   "id": "2aaae5ce-cb27-46c2-88e5-f5dfd76ff1dc",
   "metadata": {},
   "source": [
    "Re-run the above code with various values for the seed. What happens?"
   ]
  },
  {
   "cell_type": "markdown",
   "id": "44b6fbe3-473e-4dbe-8d33-58dc7f5b4f92",
   "metadata": {},
   "source": []
  },
  {
   "cell_type": "markdown",
   "id": "6d0c79a8-4fdb-4d8a-b47f-86ff2591c2ec",
   "metadata": {},
   "source": [
    "---"
   ]
  },
  {
   "cell_type": "markdown",
   "id": "94e055ac-6720-4dee-b802-7c8cafe750ca",
   "metadata": {},
   "source": [
    "Playing with the above code hopefully made you realize that this simple random number generator is actually not a good one. But it's also quite simple, so we got what we paid for!\n",
    "\n",
    "A moment's thought should convince us that, if a random number generator outputs a number, say a 5, that it has already generated, then the sequence between the first and second 5 will just keep repeating. It has to, because the algorithm will always generate the same output for a given input! And sequences of numbers that repeat are not random! So one of the keys to good random number generators is to have them yield number sequences that go on for a very very very long while before they start repeating.\n",
    "\n",
    "Modern random number generators are quite good; we don't need to worry about them, we just need to use them. Importantly, however, they are still algorithms, which means that given the same starting point – the seed – they will always produce the same sequence of numbers. This is a feature not a bug! It means that as long as we know our seed, we can always reproduce our analyses!"
   ]
  },
  {
   "cell_type": "markdown",
   "id": "811a5e41-d02b-45de-8057-18f5de443395",
   "metadata": {},
   "source": [
    "> Note: Modern computer operating systems are gathering true random numbers all the time, like the timing between your keyboard strokes, mouse movements, communications between the CPU and hard disk, and even the small fluctuations in noise around the computer! It uses these random numbers to encrypt your data and communications. \n",
    "\n",
    "> If you use numpy to generate random numbers without specifing a seed, numpy will dip into the random numbers used by your computer's OS. But then, of course, you won't know what your seed was and won't be able to reproduce your analysis!"
   ]
  },
  {
   "cell_type": "markdown",
   "id": "e8d565d2-cca8-491d-81bd-f9b1819d491b",
   "metadata": {},
   "source": [
    "## Preliminaries"
   ]
  },
  {
   "cell_type": "markdown",
   "id": "320071e2-7d1b-4042-9a54-681a374e5617",
   "metadata": {},
   "source": [
    "In order to actually do simulations, we are going to be using the random number generating capabilities of numpy, so let's import it as usual. We're also going to want to make some histograms, so let's import Seaborn as well."
   ]
  },
  {
   "cell_type": "code",
   "execution_count": 3,
   "id": "60decaa2-194e-4071-a7a3-4fedf64da87b",
   "metadata": {},
   "outputs": [],
   "source": [
    "import numpy as np\n",
    "import seaborn as sns"
   ]
  },
  {
   "cell_type": "markdown",
   "id": "eda35c44-7190-478c-a1d5-accef58ebe73",
   "metadata": {},
   "source": [
    "And run this command to make sure our plots show up."
   ]
  },
  {
   "cell_type": "code",
   "execution_count": 4,
   "id": "e162f2aa-07c2-41c4-8265-b11e818f7188",
   "metadata": {},
   "outputs": [],
   "source": [
    "%matplotlib inline    "
   ]
  },
  {
   "cell_type": "markdown",
   "id": "9fdca23b-2188-4197-af9d-9ab4aca3e22a",
   "metadata": {},
   "source": [
    "## Using numpy's random number generator"
   ]
  },
  {
   "cell_type": "markdown",
   "id": "c3345d57-db08-43a3-a40e-ec9d568f9176",
   "metadata": {},
   "source": [
    "The prefered method for getting random numbers using numpy is a two-step process. The process is:\n",
    "\n",
    "1. Create a random number generator object at the start of a script or simulation\n",
    "2. Use that random number generator to draw samples from you desired distribution"
   ]
  },
  {
   "cell_type": "markdown",
   "id": "35aa3ef6-1101-4fb7-b305-1ca8a05c22fc",
   "metadata": {},
   "source": [
    "Here's how we create a random number generator with a seed of 42:"
   ]
  },
  {
   "cell_type": "code",
   "execution_count": 5,
   "id": "c6088ce1-f8e2-4f6d-8062-4a7d538005c4",
   "metadata": {},
   "outputs": [],
   "source": [
    "rng = np.random.default_rng(42) # seed with the answer to the ultimate question"
   ]
  },
  {
   "cell_type": "markdown",
   "id": "57693355-252c-4e2f-a53a-756884b9fca7",
   "metadata": {},
   "source": [
    "We're allowed to name our generator whatever we want, but it's convention to name these generators \"rng\" unless there is a good reason to do otherwise. "
   ]
  },
  {
   "cell_type": "markdown",
   "id": "85854d97-83e3-4e1a-89e8-98aa926463a2",
   "metadata": {},
   "source": [
    "We can now use this generator throughout a given project or project phase. If we wanted a number from a normal distribution, for example, we would call the `rng.normal()` method."
   ]
  },
  {
   "cell_type": "markdown",
   "id": "b91adff1-9cd3-4267-8df5-1d5d9d270cf6",
   "metadata": {},
   "source": [
    "---"
   ]
  },
  {
   "cell_type": "markdown",
   "id": "5a74c96a-d631-4caf-b222-812a0c275665",
   "metadata": {},
   "source": [
    "In the cell below, call `rng.normal()` 10 or so times, and see what you get."
   ]
  },
  {
   "cell_type": "code",
   "execution_count": 6,
   "id": "c5294ed1-25a3-4342-bb5d-08741ee81544",
   "metadata": {},
   "outputs": [
    {
     "data": {
      "text/plain": [
       "0.30471707975443135"
      ]
     },
     "execution_count": 6,
     "metadata": {},
     "output_type": "execute_result"
    }
   ],
   "source": [
    "rng.normal()"
   ]
  },
  {
   "cell_type": "markdown",
   "id": "42ad5249-b2cd-47d4-ab91-62ae7821625e",
   "metadata": {},
   "source": [
    "Is that about what you would expect? Why?"
   ]
  },
  {
   "cell_type": "markdown",
   "id": "3b1f1327-3bb6-40c0-afea-3be90bdce761",
   "metadata": {},
   "source": [
    "---"
   ]
  },
  {
   "cell_type": "markdown",
   "id": "0cd72307-15a6-4a6c-890a-707c23c959aa",
   "metadata": {},
   "source": [
    "As always, we can use `rng.<tab>` to see what methods (statistical distributions in this case) are available. We can then use the help (e.g. `help(rng.normal`) to get help for that particular method."
   ]
  },
  {
   "cell_type": "markdown",
   "id": "3c0dc9f8-0590-46b2-8282-9cebc6787dad",
   "metadata": {},
   "source": [
    "---"
   ]
  },
  {
   "cell_type": "markdown",
   "id": "b4c5a5fb-14dd-4a41-8328-959b2a6c005b",
   "metadata": {},
   "source": [
    "In the cell below, get 100 samples from the Student's *t* distribution with 41 degrees of freedom, and plot (e.g. histogram) the resulting distribution."
   ]
  },
  {
   "cell_type": "code",
   "execution_count": 12,
   "id": "80397a3e-347f-4bb3-9b14-02d0689183ae",
   "metadata": {},
   "outputs": [
    {
     "data": {
      "text/plain": [
       "<seaborn.axisgrid.FacetGrid at 0x7f82586f0940>"
      ]
     },
     "execution_count": 12,
     "metadata": {},
     "output_type": "execute_result"
    },
    {
     "data": {
      "image/png": "[encoded data removed]",
      "text/plain": [
       "<Figure size 360x360 with 1 Axes>"
      ]
     },
     "metadata": {
      "needs_background": "light"
     },
     "output_type": "display_data"
    }
   ],
   "source": [
    "sns.displot(rng.standard_t(41, 100))"
   ]
  },
  {
   "cell_type": "markdown",
   "id": "523c2d06-0c98-4b2c-93e1-66301b031cfe",
   "metadata": {},
   "source": [
    "Re-run the above a few times. Do the distributions look reasonable for a *t* distribution with *df* > 30?"
   ]
  },
  {
   "cell_type": "markdown",
   "id": "497e7ab4-2474-4738-ac41-e1b76f82e015",
   "metadata": {},
   "source": []
  },
  {
   "cell_type": "markdown",
   "id": "309b1792-2606-46ae-9bdf-db7a25644129",
   "metadata": {},
   "source": [
    "---"
   ]
  },
  {
   "cell_type": "markdown",
   "id": "b9806853-c1c5-4a7b-a53e-931c40ddd5f1",
   "metadata": {},
   "source": [
    "## Simple simulations"
   ]
  },
  {
   "cell_type": "markdown",
   "id": "980f6042-6db3-43dc-9a56-e240f00457f1",
   "metadata": {},
   "source": [
    "The very idea of simulating something complicated can seem daunting if not impossible at first. How would we simulate something as complicated as a soccer game or traffic on a social media platform? Where would we even start? To get the idea of simulations, let's start by simulating a couple of very simple situations, coin flips and rolls of the dice."
   ]
  },
  {
   "cell_type": "markdown",
   "id": "644c742e-bef0-4215-9368-ca325ba4e246",
   "metadata": {},
   "source": [
    "### Coin Flips"
   ]
  },
  {
   "cell_type": "markdown",
   "id": "e9a93aec-b2f5-4055-af43-d348fdeb3413",
   "metadata": {},
   "source": [
    "A coin flip is probably the simplest physical situation we could simulate, so that's a great place to start. Any event that has to have one of two outcomes is known as a \"Bernoulli trial\" (after a famous mathematicion Daniel Bernoulli). This includes coin flips, answers to yes/no questions, consumer \"to buy or not to buy\" decisions, voting behavior, etc. "
   ]
  },
  {
   "cell_type": "markdown",
   "id": "1981e5b9-937b-4f4c-abd2-18d7b163f67c",
   "metadata": {},
   "source": [
    "Generally, we are interested in the sum of the results of many Bernoulli trials – for example, it is the total number of people that voted for canditate A (vs. candidate B) that determines the winner of an election.  A single set of Bernolli trials is called an \"experiment\". The outcome of such experiments, the sum of some number of Bernolli trials, has a *binomial* distribution. Thus, such simulations are done using the `rng.binomial()` method.\n",
    "\n",
    "The binomial distribution has two parameters, \n",
    "\n",
    "- the number of trials (e.g. the number of people voting in an election), and \n",
    "- the probability of one of the outcomes occuring on a single trial.\n",
    "\n",
    "(note that only one probability is needed, because the probability of the second is 1 minus the probability of the first) \n",
    "\n",
    "In terms of a coin, this translates to the number of times we flip a coin, and the probability that our coin comes up \"heads\" on any one trial."
   ]
  },
  {
   "cell_type": "markdown",
   "id": "27be5897-c30d-4616-8288-ac8a47e58e9b",
   "metadata": {},
   "source": [
    "#### A Fair Coin"
   ]
  },
  {
   "cell_type": "markdown",
   "id": "88a1c2dc-2653-4459-85fe-a3633e8e4269",
   "metadata": {},
   "source": [
    "First, let's reset our random number generator, `rng`, with a seed of 42 so everybody gets the same output."
   ]
  },
  {
   "cell_type": "markdown",
   "id": "3c9afc83-c3d4-4d4e-b4f1-b27a6a7dcce9",
   "metadata": {},
   "source": [
    "---"
   ]
  },
  {
   "cell_type": "markdown",
   "id": "12066c4c-12f4-47b6-a3ad-6a6ef17d8177",
   "metadata": {},
   "source": [
    "Reset `rng` with a seed of 42 below:"
   ]
  },
  {
   "cell_type": "code",
   "execution_count": 13,
   "id": "f8156136-5320-4c6f-82cb-33c8a46cc3aa",
   "metadata": {
    "tags": []
   },
   "outputs": [],
   "source": [
    "rng = np.random.default_rng(42)"
   ]
  },
  {
   "cell_type": "markdown",
   "id": "5efe79eb-c854-4ce4-bbc9-3933a0898448",
   "metadata": {},
   "source": [
    "---"
   ]
  },
  {
   "cell_type": "markdown",
   "id": "9b395d7d-58c5-4d9b-ae76-81ac31bb7607",
   "metadata": {},
   "source": [
    "And now let's simulate a fair coin or, more precisely, an experiment on a fair coin."
   ]
  },
  {
   "cell_type": "markdown",
   "id": "526c6513-09e1-4c01-8a9a-3c7b58e493c3",
   "metadata": {},
   "source": [
    "---"
   ]
  },
  {
   "cell_type": "markdown",
   "id": "d3a9eff7-7415-4b62-a8c6-279a463da675",
   "metadata": {},
   "source": [
    "In the cell below, use `rng.binomial()` to do a simulation giving the number of heads resulting from a fair coin being flipped 10 times:"
   ]
  },
  {
   "cell_type": "code",
   "execution_count": 18,
   "id": "a4372148-3055-457b-8d6d-1c8f210be399",
   "metadata": {},
   "outputs": [
    {
     "data": {
      "text/plain": [
       "3"
      ]
     },
     "execution_count": 18,
     "metadata": {},
     "output_type": "execute_result"
    }
   ],
   "source": [
    "rng.binomial(10, 0.5)"
   ]
  },
  {
   "cell_type": "markdown",
   "id": "b22d1d2b-b433-4291-8969-fc1ddcde9bf6",
   "metadata": {},
   "source": [
    "Because we reset our random number generator, you should have gotten a 6. Run the above code a few more times, noting the numbers."
   ]
  },
  {
   "cell_type": "markdown",
   "id": "43ddd6eb-f39c-4774-90f9-dc0a5d0cee5c",
   "metadata": {},
   "source": [
    "Now reset the generator to a seed of 42 again:"
   ]
  },
  {
   "cell_type": "code",
   "execution_count": 5,
   "id": "7c351cbd-8a02-474c-b5c2-a5321c43c0c6",
   "metadata": {},
   "outputs": [],
   "source": [
    "rng = np.random.default_rng(42)"
   ]
  },
  {
   "cell_type": "markdown",
   "id": "78986fb2-884e-4cd6-8f24-4989638b627d",
   "metadata": {},
   "source": [
    "And get a new sequence of number-of-heads for 10 flips of a fair coin to confirm you get the same sequence. "
   ]
  },
  {
   "cell_type": "code",
   "execution_count": null,
   "id": "bbdcdfc6-b648-4e7c-95fc-d70132ccd4e9",
   "metadata": {},
   "outputs": [],
   "source": []
  },
  {
   "cell_type": "markdown",
   "id": "03c8d5ac-4125-4bdb-8796-f050205b7de4",
   "metadata": {},
   "source": [
    "Now reset the seed to something else, and run a few more binomial experiments."
   ]
  },
  {
   "cell_type": "code",
   "execution_count": null,
   "id": "c9e8fe54-978d-4f25-9bb7-eeb7b2c3f99d",
   "metadata": {},
   "outputs": [],
   "source": []
  },
  {
   "cell_type": "markdown",
   "id": "f4b394cd-00ab-4e35-a9f9-a138908b0374",
   "metadata": {},
   "source": [
    "You should see a different sequence of numbers because you used a different seed."
   ]
  },
  {
   "cell_type": "markdown",
   "id": "e863f60d-41e6-4ed2-91df-7d257924c61f",
   "metadata": {},
   "source": [
    "---"
   ]
  },
  {
   "cell_type": "markdown",
   "id": "dadd6eda-41be-46ff-ac58-1db922a5aa77",
   "metadata": {},
   "source": [
    "##### *Simulating Many Experiments*"
   ]
  },
  {
   "cell_type": "markdown",
   "id": "03f3fecc-461d-4630-810a-7a3a8cb42d6f",
   "metadata": {},
   "source": [
    "Simulating one experiment or event isn't very helpful in and of itself. Just because a single simulation said we'll get 6 out 10 heads doesn't mean we'll get that if we really do the coin flips!\n",
    "\n",
    "The advantage of computer simulations is that they let us easily and rapidly compute the outcome of thousands or even millions of experiments in order to compute the *distribution* of likely outcomes – the \"danger zone\" in the rocket and hurricane examples."
   ]
  },
  {
   "cell_type": "markdown",
   "id": "1fece1c4-417d-48ef-bb4d-8c9a947682b2",
   "metadata": {},
   "source": [
    "You might be thinking \"time for a `for` loop!\" right now. Great! The `for` loop is used quite a bit in doing simulations! In this case, however, the `rng.binomial()` method takes an optional 3rd argument, which is the number of experiments to run. (The fact that it has this third argument is a clue that was written with simulations in mind!)"
   ]
  },
  {
   "cell_type": "markdown",
   "id": "19cffc62-045b-47fb-9915-504891fbfae5",
   "metadata": {},
   "source": [
    "---"
   ]
  },
  {
   "cell_type": "markdown",
   "id": "28e005b5-9b05-4b9a-8e99-cd54aacb09e1",
   "metadata": {},
   "source": [
    "In the cell below, take advatage of of this third argument to simulate 100000 experiments, each consisting of 10 flips of a fair coin. Assign the output to the name `n_heads` (i.e. `n_heads = rng.binomial...`)."
   ]
  },
  {
   "cell_type": "code",
   "execution_count": 22,
   "id": "666aca84-67a7-436a-8920-e2c7596257b5",
   "metadata": {},
   "outputs": [],
   "source": [
    "rng = np.random.default_rng(42) # reset the genny\n",
    "n, p = 10, .5  # number of trials, probability of a head on each trial\n",
    "n_exp = 100000   # number of experiments to simulate"
   ]
  },
  {
   "cell_type": "code",
   "execution_count": 23,
   "id": "63acb1b1-a93d-48c8-8d19-9a78052b9474",
   "metadata": {},
   "outputs": [],
   "source": [
    "n_heads = rng.binomial(n, p, n_exp)"
   ]
  },
  {
   "cell_type": "markdown",
   "id": "6890d679-0d90-4567-8dce-d90328b8e16c",
   "metadata": {},
   "source": [
    "---"
   ]
  },
  {
   "cell_type": "markdown",
   "id": "890bd102-bfb8-4631-b596-87820d71ceb8",
   "metadata": {},
   "source": [
    "In the cell below, make a histogram of the outcomes, `n_heads`, from our 100000 experiments. For best results, set the binwidth to 1 and make the x-axis go from 0 to 10."
   ]
  },
  {
   "cell_type": "code",
   "execution_count": 24,
   "id": "822a7975-11e9-429f-a846-564d9968d168",
   "metadata": {},
   "outputs": [
    {
     "data": {
      "text/plain": [
       "<seaborn.axisgrid.FacetGrid at 0x7f82984b12b0>"
      ]
     },
     "execution_count": 24,
     "metadata": {},
     "output_type": "execute_result"
    },
    {
     "data": {
      "image/png": "[encoded data removed]",
      "text/plain": [
       "<Figure size 360x360 with 1 Axes>"
      ]
     },
     "metadata": {
      "needs_background": "light"
     },
     "output_type": "display_data"
    }
   ],
   "source": [
    "my_hist = sns.displot(n_heads, kind = 'hist', binwidth = 1, binrange = (-0.5,10.5))\n",
    "my_hist.set(xlim = (-0.5,11))"
   ]
  },
  {
   "cell_type": "markdown",
   "id": "f9897f00-d170-4eca-bd86-ea767ff87391",
   "metadata": {},
   "source": [
    "Based upon this histogram, if somebody flipped a coin 10 times and came up with 2 heads, would you suspect that person of cheating? Why or why not?"
   ]
  },
  {
   "cell_type": "markdown",
   "id": "573f69d3-3914-4d27-9bc6-aef76830cfb1",
   "metadata": {},
   "source": []
  },
  {
   "cell_type": "markdown",
   "id": "4f98ae06-dc7c-4bbc-9760-b8b2f730813c",
   "metadata": {},
   "source": [
    "What about 10 heads?"
   ]
  },
  {
   "cell_type": "markdown",
   "id": "598da9a0-1c3d-45a5-8325-b13dadb6d3f7",
   "metadata": {},
   "source": []
  },
  {
   "cell_type": "markdown",
   "id": "51f9dec5-fbeb-4ae4-a630-443e9860d5f2",
   "metadata": {},
   "source": [
    "---"
   ]
  },
  {
   "cell_type": "markdown",
   "id": "e130c08f-d2ed-457e-acd3-ace57a43b618",
   "metadata": {},
   "source": [
    "#### An Unfair Coin"
   ]
  },
  {
   "cell_type": "markdown",
   "id": "c44639c6-8ea4-4ef7-a8a1-d22c68cbdd67",
   "metadata": {},
   "source": [
    "Perhaps surprisingly, it's almost impossible to make a biased coin because they are so thin relative to the size of their sides. However, we *can* easily simulate a biased coin so we would know what to look for if anyone did figure out how to make one."
   ]
  },
  {
   "cell_type": "markdown",
   "id": "3d5ab473-d6c6-4d7b-ba49-21fc16e41bb5",
   "metadata": {},
   "source": [
    "---"
   ]
  },
  {
   "cell_type": "markdown",
   "id": "44be871f-9ee8-48a1-9069-f94d4e415792",
   "metadata": {},
   "source": [
    "Use the cell below to simulate the same experiment as above, but using a coin that lands on heads 75% of the time on average."
   ]
  },
  {
   "cell_type": "code",
   "execution_count": 25,
   "id": "2933df5a-d5a9-4c54-a597-a29b32cc4b87",
   "metadata": {},
   "outputs": [],
   "source": [
    "p = 0.75\n",
    "n_heads = rng.binomial(n, p, n_exp)"
   ]
  },
  {
   "cell_type": "markdown",
   "id": "4ca26b81-05d0-4334-82ce-60f2f1faecfa",
   "metadata": {},
   "source": [
    "Now make a histogram of the outcomes (for the rest of the notebook, we'll just take it for granted that we'll be making histograms of our outputs)."
   ]
  },
  {
   "cell_type": "code",
   "execution_count": 26,
   "id": "1cfb2264-dbd1-49f3-a821-e89011c57226",
   "metadata": {},
   "outputs": [
    {
     "data": {
      "text/plain": [
       "<seaborn.axisgrid.FacetGrid at 0x7f82585ce250>"
      ]
     },
     "execution_count": 26,
     "metadata": {},
     "output_type": "execute_result"
    },
    {
     "data": {
      "image/png": "[encoded data removed]",
      "text/plain": [
       "<Figure size 360x360 with 1 Axes>"
      ]
     },
     "metadata": {
      "needs_background": "light"
     },
     "output_type": "display_data"
    }
   ],
   "source": [
    "my_hist = sns.displot(n_heads, kind = 'hist', binwidth = 1, binrange = (-0.5,10.5))\n",
    "my_hist.set(xlim = (-0.5,11))"
   ]
  },
  {
   "cell_type": "markdown",
   "id": "8c41aa5e-ede8-402f-8b3b-6cae386aa645",
   "metadata": {},
   "source": [
    "How did it change the distribution? Did the mean shift? Did the shape change?"
   ]
  },
  {
   "cell_type": "markdown",
   "id": "2323f67a-c457-4e85-9f8b-eb32b629a7bd",
   "metadata": {},
   "source": []
  },
  {
   "cell_type": "markdown",
   "id": "07e47c35-c5ba-401e-804a-674eb1d9340c",
   "metadata": {},
   "source": [
    "---"
   ]
  },
  {
   "cell_type": "markdown",
   "id": "ff7f5922-53f9-4a27-b9c1-f19dfcd8ab34",
   "metadata": {},
   "source": [
    "## Simulating Elections"
   ]
  },
  {
   "cell_type": "markdown",
   "id": "1615be32-b122-4054-9140-39c8e42a0885",
   "metadata": {},
   "source": [
    "Armed with nothing more than our ability to model coinflips, we can also simulate a surprising amount of other things, such as elections. Literally anything that can be reduced to a series to two-alternitave choices can be simulated using the binomial distribution."
   ]
  },
  {
   "cell_type": "markdown",
   "id": "a1aa7c80-342d-489f-b7a4-767da47ce4a0",
   "metadata": {},
   "source": [
    "Let's say there is an upcoming election in which one million people were expected to vote, and candidate \"A\" is leading in the polls at 52% vs. 48%. Here is a simple simulation of this election – the number of votes for candidate A – assuming the polling is accurate."
   ]
  },
  {
   "cell_type": "code",
   "execution_count": 33,
   "id": "d89ed4bc-7726-426e-ac46-73a924948c5a",
   "metadata": {
    "tags": []
   },
   "outputs": [
    {
     "data": {
      "text/plain": [
       "520470"
      ]
     },
     "execution_count": 33,
     "metadata": {},
     "output_type": "execute_result"
    }
   ],
   "source": [
    "rng.binomial(1000001, .52)"
   ]
  },
  {
   "cell_type": "markdown",
   "id": "3a8850da-87e6-4da0-8cc7-6e1bccfb4a7e",
   "metadata": {},
   "source": [
    "---"
   ]
  },
  {
   "cell_type": "markdown",
   "id": "5881979a-5273-4441-bd14-512fb93495da",
   "metadata": {},
   "source": [
    "Re-run the above simulation until you think you have a good idea of how often the underdog – poor candidate B – is likely to win."
   ]
  },
  {
   "cell_type": "markdown",
   "id": "63b64ea7-b201-43e0-b1c2-2218b4da81f7",
   "metadata": {},
   "source": [
    "Now, in the cell below, change the simulation so that there are only 11 voters – like perhaps a soccer team is chosing between two potential captains, and only the starters get to vote. Run the simulation until you get again get a feel for how often the underdog prevails."
   ]
  },
  {
   "cell_type": "code",
   "execution_count": 36,
   "id": "e89d4948-5baf-44d1-93a3-ce03bf704aef",
   "metadata": {
    "tags": []
   },
   "outputs": [
    {
     "data": {
      "text/plain": [
       "5"
      ]
     },
     "execution_count": 36,
     "metadata": {},
     "output_type": "execute_result"
    }
   ],
   "source": [
    "rng.binomial(11, .52)"
   ]
  },
  {
   "cell_type": "markdown",
   "id": "2e6df0f6-bda6-4fe6-8dba-49ea02cd0dc1",
   "metadata": {},
   "source": [
    "In the cell below, offer an explanation of why, with the same p = 0.52, the underdog prevails more in once case than another."
   ]
  },
  {
   "cell_type": "markdown",
   "id": "14742c41-f9c1-4caa-afc8-933c51972941",
   "metadata": {},
   "source": []
  },
  {
   "cell_type": "markdown",
   "id": "325d2094-0c28-4319-97b1-42a562528e2a",
   "metadata": {},
   "source": [
    "---"
   ]
  },
  {
   "cell_type": "markdown",
   "id": "aab030ce-164f-4ea2-aefb-1325698c5c6a",
   "metadata": {},
   "source": [
    "### Simulating election results based on a single poll"
   ]
  },
  {
   "cell_type": "markdown",
   "id": "48f06a3b-7382-416e-b9fe-97b4491f481b",
   "metadata": {},
   "source": [
    "Above, we simulated one election at a time but, as with the coins, we really want to do many many experiments so that we can see the distribution of likely election outcomes."
   ]
  },
  {
   "cell_type": "markdown",
   "id": "233c86c5-0172-437a-9c80-ccfc335f9670",
   "metadata": {},
   "source": [
    "#### *single poll, many elections*"
   ]
  },
  {
   "cell_type": "code",
   "execution_count": 38,
   "id": "1525b0ad-dc8f-4812-a057-22d67c43160d",
   "metadata": {},
   "outputs": [],
   "source": [
    "poll_ps = np.array([52, 48])\n",
    "poll_ps = poll_ps / 100"
   ]
  },
  {
   "cell_type": "code",
   "execution_count": 37,
   "id": "b45b7acb-c2f9-4cab-adb3-53e1a3c96492",
   "metadata": {},
   "outputs": [
    {
     "data": {
      "text/plain": [
       "array([0.52, 0.48])"
      ]
     },
     "execution_count": 37,
     "metadata": {},
     "output_type": "execute_result"
    }
   ],
   "source": [
    "poll_ps"
   ]
  },
  {
   "cell_type": "code",
   "execution_count": 30,
   "id": "fe6d6fed-f495-4597-a0ab-519a4da2066d",
   "metadata": {},
   "outputs": [],
   "source": [
    "n_voters = 10000 # smallish city - expect around 10k voter turnout\n",
    "n_sims = 20000   # number of simulations to run"
   ]
  },
  {
   "cell_type": "code",
   "execution_count": 38,
   "id": "ce205e80-e8b2-4410-b64e-5d081b2a0f9b",
   "metadata": {},
   "outputs": [],
   "source": [
    "elec_results = my_rng.binomial(n_voters, poll_ps[0], n_sims)"
   ]
  },
  {
   "cell_type": "code",
   "execution_count": 39,
   "id": "044c41b0-a34f-472e-a712-2e798abec4a2",
   "metadata": {},
   "outputs": [
    {
     "data": {
      "text/plain": [
       "array([5171, 5251, 5184, 5236, 5190, 5201, 5295, 5178, 5254, 5296])"
      ]
     },
     "execution_count": 39,
     "metadata": {},
     "output_type": "execute_result"
    }
   ],
   "source": [
    "elec_results[0:10]"
   ]
  },
  {
   "cell_type": "code",
   "execution_count": null,
   "id": "1197033f-4d00-4d9f-a830-a80b1e2728b5",
   "metadata": {},
   "outputs": [],
   "source": [
    "sns.displot(elec_results)"
   ]
  },
  {
   "cell_type": "markdown",
   "id": "34e2375d-f990-47ca-95f7-ec8233a240ea",
   "metadata": {},
   "source": [
    "#### *simulate poll -> simulate election*"
   ]
  },
  {
   "cell_type": "markdown",
   "id": "8ce21ffb-019a-49df-999d-3987cbe8003c",
   "metadata": {},
   "source": [
    "Notice that we did not incorporate the sample size of the poll and the potential poll-to-poll variability..."
   ]
  },
  {
   "cell_type": "code",
   "execution_count": 42,
   "id": "ff6287f4-dfc8-4d85-a059-557e20f149ee",
   "metadata": {},
   "outputs": [],
   "source": [
    "samp_sz = 2000\n",
    "poll_results = rng.binomial(samp_sz, poll_ps[0], n_sims)\n",
    "multi_poll_ps = poll_results/samp_sz\n",
    "\n",
    "elec_results = rng.binomial(n_voters, multi_poll_ps, n_sims)\n"
   ]
  },
  {
   "cell_type": "code",
   "execution_count": null,
   "id": "03b07541-7ba0-4180-ad46-6ac087fa325e",
   "metadata": {},
   "outputs": [],
   "source": [
    "sns.displot(elec_results)"
   ]
  }
 ],
 "metadata": {
  "kernelspec": {
   "display_name": "Python 3 (ipykernel)",
   "language": "python",
   "name": "python3"
  },
  "language_info": {
   "codemirror_mode": {
    "name": "ipython",
    "version": 3
   },
   "file_extension": ".py",
   "mimetype": "text/x-python",
   "name": "python",
   "nbconvert_exporter": "python",
   "pygments_lexer": "ipython3",
   "version": "3.8.12"
  }
 },
 "nbformat": 4,
 "nbformat_minor": 5
}
