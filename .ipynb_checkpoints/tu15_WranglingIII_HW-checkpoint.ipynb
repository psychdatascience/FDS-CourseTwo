{
 "cells": [
  {
   "cell_type": "markdown",
   "id": "7c915198-6974-494a-a6ae-b8d19533e0fd",
   "metadata": {},
   "source": [
    "# Wrangling III homework"
   ]
  },
  {
   "cell_type": "markdown",
   "id": "522fafeb-d42c-45a0-9267-bf67c4bdbc9a",
   "metadata": {},
   "source": [
    "## Deleting invalid rows from the cancer data"
   ]
  },
  {
   "cell_type": "markdown",
   "id": "17e3cbaa-e93c-4f41-b492-7d2792c30385",
   "metadata": {},
   "source": [
    "It's been decided by committee that duplicate data in the (smaller version of) the cancer data set is going to go as follows. If a row is identical to the one immediately above it, we'll consider it an accidental entry due to fatigue or whatever. But a row that is *not* identical to the one above it will be considered valid, even it has a duplicate somewhere else in the data set; we'll assume such duplicates represent separate visits."
   ]
  },
  {
   "cell_type": "markdown",
   "id": "5cc0c07e-b2b2-472d-837e-93902093445c",
   "metadata": {},
   "source": [
    "So our rule is: **if a row is identical to the one above it, we drop it**."
   ]
  },
  {
   "cell_type": "markdown",
   "id": "c4f81557-91f1-491a-a4f4-399ab213ce0c",
   "metadata": {},
   "source": [
    "A small pre-cleaned version of the data with only 4 columns is in **small_cancer_data.csv**, so you can read it in directly without having to clean it up."
   ]
  },
  {
   "cell_type": "markdown",
   "id": "b7a722e2-1b85-45ea-99d5-4ea8e7eb21f2",
   "metadata": {},
   "source": [
    "Spend a minute or two thinking about how you would approach this problem."
   ]
  },
  {
   "cell_type": "markdown",
   "id": "a4e3622f-5e73-4d98-ab31-15b38737aaa2",
   "metadata": {},
   "source": [
    "If you are ready to go on your own, then go!"
   ]
  },
  {
   "cell_type": "markdown",
   "id": "6d02d899-9051-408b-90ce-af368a55ff53",
   "metadata": {},
   "source": [
    "Once you have working code – once you can take **small_cancer_data.csv** and trim out the unwanted rows – then wrap your code into a function, so all you have to do drop unwanted rows is call your function!"
   ]
  },
  {
   "cell_type": "markdown",
   "id": "1becc292-79a9-4e69-a789-6872786c5252",
   "metadata": {
    "tags": []
   },
   "source": [
    "---"
   ]
  },
  {
   "cell_type": "markdown",
   "id": "98671cac-3b61-41d3-ba7a-3b314ade5b9a",
   "metadata": {},
   "source": [
    "Spend some time thinking about and working on the problem. If you get to an impass and you'd like some hints, read on."
   ]
  },
  {
   "cell_type": "markdown",
   "id": "813a70d9-1871-4240-9dd0-e0554c192477",
   "metadata": {
    "tags": []
   },
   "source": [
    "---"
   ]
  },
  {
   "cell_type": "markdown",
   "id": "b0321172-6e5e-421c-8261-31cb40579803",
   "metadata": {},
   "source": [
    "## Preliminaries"
   ]
  },
  {
   "cell_type": "markdown",
   "id": "3a296fa2-f538-43b4-a9da-507ae0189122",
   "metadata": {},
   "source": [
    "As usual, we'll load some libraries we'll be likely to use."
   ]
  },
  {
   "cell_type": "code",
   "execution_count": 2,
   "id": "1e64392f-fab1-4a49-93a0-d0d1b06b92d8",
   "metadata": {},
   "outputs": [],
   "source": [
    "import pandas as pd"
   ]
  },
  {
   "cell_type": "markdown",
   "id": "0086f275-2324-44d8-9f9f-dc5c54fde771",
   "metadata": {
    "tags": []
   },
   "source": [
    "---"
   ]
  },
  {
   "cell_type": "markdown",
   "id": "9abac6c3-1f2d-4402-a20a-6f6b00fb75da",
   "metadata": {},
   "source": [
    "## Make a mini data set for testing"
   ]
  },
  {
   "cell_type": "markdown",
   "id": "7697192e-d5e1-48c5-aee9-1aaf1549bfe9",
   "metadata": {},
   "source": [
    "Rather than taking a crack at the whole set, make a small data frame named `tiny` with 10 rows and two columns. Put successive repeated rows in two places (like rows 2 and 3 could repeat, as could rows 6 and 7). Put an additional repeated row on it's own."
   ]
  },
  {
   "cell_type": "markdown",
   "id": "b504e2bf-ad35-4d51-96c5-52667381194d",
   "metadata": {},
   "source": [
    "Something like this:"
   ]
  },
  {
   "cell_type": "code",
   "execution_count": 3,
   "id": "fdaf41d9-6508-49cb-968f-792a9ff343ec",
   "metadata": {},
   "outputs": [],
   "source": [
    "tiny = pd.DataFrame(dict(a = [1, 2, 3, 3, 4, 5, 5, 5, 6, 3],\n",
    "                         b = ['a', 'b', 'c', 'c', 'd', 'e', 'e', 'f', 'g', 'c']))"
   ]
  },
  {
   "cell_type": "markdown",
   "id": "73da327f-9ffc-4a00-8e82-6c4a39101082",
   "metadata": {},
   "source": [
    "Check our tiny data frame."
   ]
  },
  {
   "cell_type": "code",
   "execution_count": null,
   "id": "e4c0233e-33ed-482f-8694-8c4468bf2b07",
   "metadata": {},
   "outputs": [],
   "source": [
    "# check your test data frame\n"
   ]
  },
  {
   "cell_type": "markdown",
   "id": "5d94ac99-260a-47cf-aa66-f7b81f35e1a7",
   "metadata": {},
   "source": [
    "There should be two rows that need to be dropped, and one (the last) that should be kept even though it's a duplicate."
   ]
  },
  {
   "cell_type": "markdown",
   "id": "bc068ab9-389c-46f0-af18-c958acd2ec9b",
   "metadata": {},
   "source": [
    "Just to be sure, check the output of `.duplicated(keep=False)` – it should show back-to-back `True` values in 2 places, and one solo `True` at the end."
   ]
  },
  {
   "cell_type": "code",
   "execution_count": null,
   "id": "7f157e61-84d4-452c-b144-442d14289a9d",
   "metadata": {},
   "outputs": [],
   "source": [
    "# check .duplicated output\n"
   ]
  },
  {
   "cell_type": "markdown",
   "id": "8184b77e-5940-41ba-bb7f-68633cbeef49",
   "metadata": {
    "tags": []
   },
   "source": [
    "---"
   ]
  },
  {
   "cell_type": "markdown",
   "id": "07ba3410-0849-444a-993a-3e192b2f462f",
   "metadata": {
    "tags": []
   },
   "source": [
    "## Make a plan"
   ]
  },
  {
   "cell_type": "markdown",
   "id": "6f2d9af8-a454-4400-a278-18fa095aa58e",
   "metadata": {},
   "source": [
    "There are probably 100 ways to solve this problem. Many are probably very clever and involve using fancy pandas functions.\n",
    "\n",
    "A straightforward plan using things we already know about might be something like\n",
    "\n",
    "- go through the rows of the data frame with a `for` loop, starting with the second row\n",
    "- at each row, compare the current row with the previous one\n",
    "- if they're the same, save the index of the current row\n",
    "- after the `for` loop, delete the unwanted rows using the saved indexes"
   ]
  },
  {
   "cell_type": "markdown",
   "id": "6a39c8e4-5839-4f1e-a2d7-1545a09b72c6",
   "metadata": {
    "tags": []
   },
   "source": [
    "---"
   ]
  },
  {
   "cell_type": "markdown",
   "id": "a468ff6b-d0f3-4c18-a746-16a4b4bbc98b",
   "metadata": {},
   "source": [
    "## Test the parts of the plan"
   ]
  },
  {
   "cell_type": "markdown",
   "id": "3574a8e2-1b58-4050-bab6-6ec10b66275e",
   "metadata": {},
   "source": [
    "Now that we've got a plan, let's get the pieces of the plan to work before putting the whold plan together."
   ]
  },
  {
   "cell_type": "markdown",
   "id": "6bb1a32a-1c69-4794-9b09-9be051b8bffd",
   "metadata": {},
   "source": [
    "### Make sure we can get rows"
   ]
  },
  {
   "cell_type": "markdown",
   "id": "df48a31c-5bfd-4dfd-9743-121f169af3c0",
   "metadata": {},
   "source": [
    "We should be able to get rows of a data frame in a couple of ways. These are\n",
    "\n",
    "- using `.loc[]` with the value of rows index (it's name)\n",
    "- using `.iloc[]` and indexing into the data like it were a numpy array"
   ]
  },
  {
   "cell_type": "markdown",
   "id": "cdbcc4a8-355c-40e2-91a9-79a00d3f8162",
   "metadata": {},
   "source": [
    "Let's try the `.loc[]` way."
   ]
  },
  {
   "cell_type": "code",
   "execution_count": null,
   "id": "7c98b787-e20b-4c8f-bdb7-ce3eb3c43d6a",
   "metadata": {},
   "outputs": [],
   "source": []
  },
  {
   "cell_type": "markdown",
   "id": "f4019229-fc88-4e0a-a2cd-56630ae62086",
   "metadata": {},
   "source": [
    "And let's try the `.iloc[]` method."
   ]
  },
  {
   "cell_type": "code",
   "execution_count": null,
   "id": "1fb0367a-16a6-457b-b35a-d674e9527104",
   "metadata": {
    "tags": []
   },
   "outputs": [],
   "source": []
  },
  {
   "cell_type": "markdown",
   "id": "f551cfee-fa30-4ecb-8ee0-26c1e2853a8f",
   "metadata": {},
   "source": [
    "Look's like either will work!"
   ]
  },
  {
   "cell_type": "markdown",
   "id": "d25a5023-eb5b-4c42-98c3-284fd68405a3",
   "metadata": {},
   "source": [
    "### Figure out how to compare rows"
   ]
  },
  {
   "cell_type": "markdown",
   "id": "7a9d794b-09e9-4f39-9f37-91eb09c0f5b7",
   "metadata": {},
   "source": [
    "We are going to need to compare rows. Let's see how that is going to work."
   ]
  },
  {
   "cell_type": "markdown",
   "id": "89ff0e47-d486-442b-9c2a-b23a9de1cef2",
   "metadata": {
    "tags": []
   },
   "source": [
    "#### compare the first and second rows - these *should* ***not*** match"
   ]
  },
  {
   "cell_type": "code",
   "execution_count": null,
   "id": "866c0997-6dc1-4173-8602-7883b06c2386",
   "metadata": {},
   "outputs": [],
   "source": [
    "# which things in the rows match?\n"
   ]
  },
  {
   "cell_type": "markdown",
   "id": "707c71e3-2fea-4c19-812f-1b7a87107d5a",
   "metadata": {
    "tags": []
   },
   "source": [
    "#### compare the third and fourth rows - these *should*  match"
   ]
  },
  {
   "cell_type": "code",
   "execution_count": null,
   "id": "e48738d2-0d4d-4804-b917-7123b0a7ad7a",
   "metadata": {},
   "outputs": [],
   "source": [
    "# which things in the rows match?\n"
   ]
  },
  {
   "cell_type": "markdown",
   "id": "bcb5379f-1147-4f23-90ad-a0afa24bfceb",
   "metadata": {},
   "source": [
    "The rows only match if ***all*** the columns match, so we can see if this is the case with the `all()` function."
   ]
  },
  {
   "cell_type": "code",
   "execution_count": null,
   "id": "32534976-18d5-4a6b-9a1f-41bfa7108076",
   "metadata": {},
   "outputs": [],
   "source": [
    "# do all the column match?\n"
   ]
  },
  {
   "cell_type": "markdown",
   "id": "854e8f4e-6848-45b4-ae64-13b58a0eb6b4",
   "metadata": {},
   "source": [
    "Now we have a way to compare rows and get a single `True` if the rows are identical, and a `False` if they're not."
   ]
  },
  {
   "cell_type": "markdown",
   "id": "08227170-8c66-4970-81c5-a07c5b27da1f",
   "metadata": {},
   "source": [
    "And now that we know how to do the row comparison, let's get a `for` loop working."
   ]
  },
  {
   "cell_type": "markdown",
   "id": "ca146d72-72de-4a5b-950c-3b5eedfec98d",
   "metadata": {},
   "source": [
    "### Confirm we can get rows with a `for` loop"
   ]
  },
  {
   "cell_type": "markdown",
   "id": "425aff03-d443-4741-bcdc-8e6728ab542f",
   "metadata": {},
   "source": [
    "##### *Loop through the first few rows*"
   ]
  },
  {
   "cell_type": "markdown",
   "id": "9f170a10-f9a5-48f6-8043-d0530db93452",
   "metadata": {},
   "source": [
    "Let's make sure we can index into rows with a for loop. Let's try to get the first few using `.loc[]` and print them. Like\n",
    "```\n",
    "for ... :\n",
    "    print(...)\n",
    "```"
   ]
  },
  {
   "cell_type": "code",
   "execution_count": null,
   "id": "75e3f688-ce66-4009-8632-db895c6a8dc3",
   "metadata": {},
   "outputs": [],
   "source": [
    "# loop through the first few rows\n"
   ]
  },
  {
   "cell_type": "markdown",
   "id": "8f37bc8d-626d-49a9-980c-8b1c51eee586",
   "metadata": {},
   "source": [
    "##### *Loop through the **all** rows*"
   ]
  },
  {
   "cell_type": "markdown",
   "id": "ab023b8d-7120-4fed-b4c1-3a8431c66bd5",
   "metadata": {},
   "source": [
    "To loop through all the rows, we first need to get the number of rows. We can do this using the `shape` attribute."
   ]
  },
  {
   "cell_type": "code",
   "execution_count": 41,
   "id": "d9842188-0326-4997-a7cb-b0411dbfcb35",
   "metadata": {},
   "outputs": [],
   "source": [
    "# get the number of rows using shape\n"
   ]
  },
  {
   "cell_type": "code",
   "execution_count": null,
   "id": "b5d081f4-4ff2-4982-a389-5bf3bfd07382",
   "metadata": {},
   "outputs": [],
   "source": [
    "# loop through all the rows\n"
   ]
  },
  {
   "cell_type": "markdown",
   "id": "4be26ce2-31c1-48a3-b04f-7ea04dd6946c",
   "metadata": {
    "tags": []
   },
   "source": [
    "---"
   ]
  },
  {
   "cell_type": "markdown",
   "id": "37f46980-c061-4d30-967f-96c28e0a90bd",
   "metadata": {},
   "source": [
    "## Putting it all together"
   ]
  },
  {
   "cell_type": "markdown",
   "id": "aaaf8aef-f6e5-498a-8ac7-c41f52988a81",
   "metadata": {},
   "source": [
    "Get the number of rows"
   ]
  },
  {
   "cell_type": "code",
   "execution_count": 97,
   "id": "c971e4bd-eec3-4e43-b7ea-bf7b5e12dae1",
   "metadata": {},
   "outputs": [],
   "source": [
    "# get the number of rows using shape\n"
   ]
  },
  {
   "cell_type": "markdown",
   "id": "82fe8631-3bfb-4acb-bf4a-2665fda55613",
   "metadata": {},
   "source": [
    "Make an empty list to hold the indexes of the columns we're going to drop"
   ]
  },
  {
   "cell_type": "code",
   "execution_count": 98,
   "id": "263f2971-e9a9-4692-95c3-456f190674f6",
   "metadata": {},
   "outputs": [],
   "source": []
  },
  {
   "cell_type": "markdown",
   "id": "221e1cc4-3b97-4788-a3b8-434f680b0ef1",
   "metadata": {},
   "source": [
    "Make a `for` loop that \n",
    "\n",
    "- goes from 1 (i.e. the second row) to the end\n",
    "- tests the current row against previous\n",
    "- stores index for dropping"
   ]
  },
  {
   "cell_type": "code",
   "execution_count": 99,
   "id": "bd0561e3-cff0-46d2-9a83-40031df7bb01",
   "metadata": {},
   "outputs": [],
   "source": []
  },
  {
   "cell_type": "markdown",
   "id": "78438792-86ac-4e13-be58-537b7097a142",
   "metadata": {},
   "source": [
    "Check that we got the correct indexes."
   ]
  },
  {
   "cell_type": "code",
   "execution_count": null,
   "id": "9f2b6cde-6109-4935-9c66-c962b541f9dc",
   "metadata": {},
   "outputs": [],
   "source": []
  },
  {
   "cell_type": "markdown",
   "id": "d906e9ec-04ed-490f-b180-d4ffc06bb292",
   "metadata": {},
   "source": [
    "Make a new data frame with the unwanted rows `.drop`ped."
   ]
  },
  {
   "cell_type": "code",
   "execution_count": 107,
   "id": "4bd26081-6e0c-46a2-90da-8a96f454d873",
   "metadata": {},
   "outputs": [],
   "source": []
  },
  {
   "cell_type": "markdown",
   "id": "fe0897c7-51ca-43fb-b3ee-7981a6d03c2e",
   "metadata": {},
   "source": [
    "Use `.reset_index()` to make a new sequental index for our data frame."
   ]
  },
  {
   "cell_type": "code",
   "execution_count": 108,
   "id": "e0224ae8-2ed2-4776-a913-e8808ccf18d4",
   "metadata": {},
   "outputs": [],
   "source": []
  },
  {
   "cell_type": "markdown",
   "id": "8b83c984-7409-41cc-b407-0f7f8f25f628",
   "metadata": {},
   "source": [
    "Marvel at your work!"
   ]
  },
  {
   "cell_type": "code",
   "execution_count": null,
   "id": "e8a2915f-b86f-4e5e-bfed-00bbe620e79b",
   "metadata": {},
   "outputs": [],
   "source": []
  },
  {
   "cell_type": "markdown",
   "id": "d7c84e86-c0c3-44e5-87d6-cf747e6726f4",
   "metadata": {},
   "source": [
    "If you don't like the \"index\" column with old indexes (sometimes it's useful to have the old indexes – here it's just annoying), you can set `drop=True` when you call `.reset_index()` above."
   ]
  },
  {
   "cell_type": "markdown",
   "id": "b00053c7-d302-443f-987d-e4137ef7ae13",
   "metadata": {
    "tags": []
   },
   "source": [
    "---"
   ]
  },
  {
   "cell_type": "markdown",
   "id": "e9261551-99cf-439e-9984-ae613f36ef5e",
   "metadata": {},
   "source": [
    "## Run your code on the cancer data"
   ]
  },
  {
   "cell_type": "markdown",
   "id": "881fcae5-70c7-4bc8-91d9-5ef8fbce0db8",
   "metadata": {},
   "source": [
    "Try our code on the (small version of the) cancer data!"
   ]
  },
  {
   "cell_type": "markdown",
   "id": "c5458d0b-84c5-4ae7-9bf9-96bb0344bc2a",
   "metadata": {},
   "source": [
    "### Load the data"
   ]
  },
  {
   "cell_type": "code",
   "execution_count": 114,
   "id": "1316ae55-5e82-4acd-897a-6b7bdbfc4e1e",
   "metadata": {},
   "outputs": [],
   "source": []
  },
  {
   "cell_type": "markdown",
   "id": "788e9080-e4c4-477d-91d9-061b47c088e4",
   "metadata": {},
   "source": [
    "### Get the number of rows"
   ]
  },
  {
   "cell_type": "code",
   "execution_count": 115,
   "id": "b89122d2-5bd6-41ed-a766-9e660a337bbb",
   "metadata": {},
   "outputs": [],
   "source": [
    "# get the number of rows using shape\n"
   ]
  },
  {
   "cell_type": "markdown",
   "id": "9ed2634a-4293-4a0c-8525-f3a8cee2aa2c",
   "metadata": {},
   "source": [
    "### Make an empty list for indexes"
   ]
  },
  {
   "cell_type": "code",
   "execution_count": 116,
   "id": "00a701c2-cd89-48d9-93bb-4df640531a01",
   "metadata": {},
   "outputs": [],
   "source": []
  },
  {
   "cell_type": "markdown",
   "id": "6190e080-d4c9-4f9a-9878-5cc2395844a2",
   "metadata": {},
   "source": [
    "### Run your `for` loop!"
   ]
  },
  {
   "cell_type": "code",
   "execution_count": 117,
   "id": "2f08aac5-3504-4d4a-bb3b-943cd9858081",
   "metadata": {},
   "outputs": [],
   "source": [
    "\n",
    "\n"
   ]
  },
  {
   "cell_type": "markdown",
   "id": "c161c4ec-3e92-4330-a0a9-69e5ba96aff5",
   "metadata": {},
   "source": [
    "### Check the indexes you found"
   ]
  },
  {
   "cell_type": "code",
   "execution_count": null,
   "id": "0b48c3d2-79bf-47f0-a792-a8c0ca5e3f64",
   "metadata": {},
   "outputs": [],
   "source": []
  },
  {
   "cell_type": "markdown",
   "id": "127d6714-8bd3-42d0-8681-683801c53124",
   "metadata": {},
   "source": [
    "### Drop the unwanted rows"
   ]
  },
  {
   "cell_type": "code",
   "execution_count": 119,
   "id": "c7e0b682-08f8-497f-bd25-010327e634c3",
   "metadata": {},
   "outputs": [],
   "source": []
  },
  {
   "cell_type": "markdown",
   "id": "763337e0-d8fb-43dd-92b3-41828aaa966a",
   "metadata": {},
   "source": [
    "### Reset the row indexes"
   ]
  },
  {
   "cell_type": "code",
   "execution_count": 120,
   "id": "5c1c5062-a9f6-4e4d-8676-f19b49a1d2f0",
   "metadata": {},
   "outputs": [],
   "source": []
  },
  {
   "cell_type": "markdown",
   "id": "9e285991-a59f-4b3d-9c8a-d879062b6934",
   "metadata": {},
   "source": [
    "### Check the shape to confirm the rows were dropped!"
   ]
  },
  {
   "cell_type": "code",
   "execution_count": null,
   "id": "3f118183-8b54-401f-8bb2-8e2b726354e8",
   "metadata": {},
   "outputs": [],
   "source": []
  },
  {
   "cell_type": "markdown",
   "id": "75c741e0-3866-4cbf-b9f6-c63557e86503",
   "metadata": {
    "tags": []
   },
   "source": [
    "---"
   ]
  },
  {
   "cell_type": "markdown",
   "id": "4050bb4e-dcd8-43ed-bfc1-5813ca316f90",
   "metadata": {},
   "source": [
    "## Wrapping it all in a function"
   ]
  },
  {
   "cell_type": "markdown",
   "id": "f8d96baf-0003-4a6f-a249-be0fa4eb574d",
   "metadata": {},
   "source": [
    "Once you've got your code running, put it all in a function so it's reusable!"
   ]
  },
  {
   "cell_type": "code",
   "execution_count": 88,
   "id": "ebd3a40a-3a2f-463b-86ea-166734340ea1",
   "metadata": {},
   "outputs": [],
   "source": [
    "def...\n",
    "\n"
   ]
  },
  {
   "cell_type": "markdown",
   "id": "a9d83870-fbd9-4378-9b45-7313e54b1b93",
   "metadata": {},
   "source": [
    "Run your function!"
   ]
  },
  {
   "cell_type": "code",
   "execution_count": 89,
   "id": "57d2bae1-79e0-4f37-b44d-25a749a6ec27",
   "metadata": {},
   "outputs": [],
   "source": []
  },
  {
   "cell_type": "markdown",
   "id": "153c0710-a8a4-4203-94c8-b963b580f933",
   "metadata": {},
   "source": [
    "Check the shape to confirm your function worked!"
   ]
  },
  {
   "cell_type": "code",
   "execution_count": null,
   "id": "78477514-33e6-43c5-a6d0-13655fd592a8",
   "metadata": {},
   "outputs": [],
   "source": []
  },
  {
   "cell_type": "markdown",
   "id": "5f30a839-9ff8-484d-9589-e87e6ed50fb3",
   "metadata": {},
   "source": [
    "### High-five the person closest to you!"
   ]
  },
  {
   "cell_type": "markdown",
   "id": "bea87ce8-5465-4dac-a538-66d3cc33b11f",
   "metadata": {},
   "source": [
    "Because you deserve a high-five right now."
   ]
  },
  {
   "cell_type": "markdown",
   "id": "b2d13e8f-6a91-4e8e-921a-e1dcbeaeca31",
   "metadata": {
    "tags": []
   },
   "source": [
    "---"
   ]
  }
 ],
 "metadata": {
  "kernelspec": {
   "display_name": "Python 3 (ipykernel)",
   "language": "python",
   "name": "python3"
  },
  "language_info": {
   "codemirror_mode": {
    "name": "ipython",
    "version": 3
   },
   "file_extension": ".py",
   "mimetype": "text/x-python",
   "name": "python",
   "nbconvert_exporter": "python",
   "pygments_lexer": "ipython3",
   "version": "3.8.13"
  }
 },
 "nbformat": 4,
 "nbformat_minor": 5
}
