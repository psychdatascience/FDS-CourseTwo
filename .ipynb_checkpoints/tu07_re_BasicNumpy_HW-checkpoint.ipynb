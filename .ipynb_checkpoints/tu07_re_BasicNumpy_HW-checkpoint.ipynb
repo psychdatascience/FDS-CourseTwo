{
 "cells": [
  {
   "cell_type": "markdown",
   "id": "1f1534b9",
   "metadata": {},
   "source": [
    "# Numpy review homework"
   ]
  },
  {
   "cell_type": "markdown",
   "id": "4db19bcf",
   "metadata": {},
   "source": [
    "1. Make a numpy matrix from a Python list of lists..."
   ]
  },
  {
   "cell_type": "code",
   "execution_count": null,
   "id": "6b140a06",
   "metadata": {},
   "outputs": [],
   "source": []
  },
  {
   "cell_type": "markdown",
   "id": "dd6e8ffb",
   "metadata": {},
   "source": [
    "2. Make a 3D numpy matrix from a Python list of lists of lists!"
   ]
  },
  {
   "cell_type": "code",
   "execution_count": null,
   "id": "c977766b",
   "metadata": {},
   "outputs": [],
   "source": []
  },
  {
   "cell_type": "markdown",
   "id": "8ad64691",
   "metadata": {},
   "source": [
    "3. Create a 5x3 array of Gaussian random numbers. "
   ]
  },
  {
   "cell_type": "code",
   "execution_count": null,
   "id": "5f280edc",
   "metadata": {},
   "outputs": [],
   "source": []
  },
  {
   "cell_type": "markdown",
   "id": "d129639e",
   "metadata": {},
   "source": [
    "4. Write a script to go through the array created in 3. and announce (print) the value and its row and column indexes.\n",
    "\n",
    "Hint: Use nested `for` loops - one to loop through the rows and one to loop through the columns."
   ]
  },
  {
   "cell_type": "markdown",
   "id": "2f6c8094",
   "metadata": {},
   "source": [
    "5. Make an new array out of your random numbers such that the mean is 10 and the standard deviation is 3."
   ]
  },
  {
   "cell_type": "code",
   "execution_count": null,
   "id": "b8cfc374",
   "metadata": {},
   "outputs": [],
   "source": []
  },
  {
   "cell_type": "markdown",
   "id": "431e4556",
   "metadata": {},
   "source": [
    "6. Count the number of values in your new array that are below 7."
   ]
  },
  {
   "cell_type": "code",
   "execution_count": null,
   "id": "80cb12c5",
   "metadata": {},
   "outputs": [],
   "source": []
  },
  {
   "cell_type": "markdown",
   "id": "f7191a90",
   "metadata": {},
   "source": [
    "7. Make a numpy sequence that has the even numbers from 2 up to (and including) 20."
   ]
  },
  {
   "cell_type": "code",
   "execution_count": null,
   "id": "23277d0c",
   "metadata": {},
   "outputs": [],
   "source": []
  },
  {
   "cell_type": "markdown",
   "id": "40bd499e",
   "metadata": {},
   "source": [
    "8. Get the second and third rows of your array."
   ]
  },
  {
   "cell_type": "code",
   "execution_count": null,
   "id": "1abb0c7b",
   "metadata": {},
   "outputs": [],
   "source": []
  },
  {
   "cell_type": "markdown",
   "id": "1c3779c3",
   "metadata": {},
   "source": [
    "9. Compute the mean of the columns of your array."
   ]
  },
  {
   "cell_type": "code",
   "execution_count": null,
   "id": "4e166283",
   "metadata": {},
   "outputs": [],
   "source": []
  }
 ],
 "metadata": {
  "kernelspec": {
   "display_name": "Python 3 (ipykernel)",
   "language": "python",
   "name": "python3"
  },
  "language_info": {
   "codemirror_mode": {
    "name": "ipython",
    "version": 3
   },
   "file_extension": ".py",
   "mimetype": "text/x-python",
   "name": "python",
   "nbconvert_exporter": "python",
   "pygments_lexer": "ipython3",
   "version": "3.8.13"
  }
 },
 "nbformat": 4,
 "nbformat_minor": 5
}
