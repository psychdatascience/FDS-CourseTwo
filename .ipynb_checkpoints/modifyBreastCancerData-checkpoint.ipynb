{
 "cells": [
  {
   "cell_type": "markdown",
   "id": "e167ab3f-2d1f-4d14-82a1-180226c778af",
   "metadata": {},
   "source": [
    "## Add noise and a Dr. specific offset to the breast cancer data"
   ]
  },
  {
   "cell_type": "markdown",
   "id": "6a71d9b4-5352-4a7d-b544-e472a8f6e2e7",
   "metadata": {},
   "source": [
    "### Prelims"
   ]
  },
  {
   "cell_type": "code",
   "execution_count": 1,
   "id": "a90d6c48-13cd-4d0c-9ddc-5267ea65911d",
   "metadata": {},
   "outputs": [],
   "source": [
    "import numpy as np\n",
    "import pandas as pd\n",
    "import seaborn as sns"
   ]
  },
  {
   "cell_type": "markdown",
   "id": "4a00cebb-ca99-43f1-a579-adb99b1cf681",
   "metadata": {},
   "source": [
    "Load and clean data"
   ]
  },
  {
   "cell_type": "code",
   "execution_count": null,
   "id": "01e9ee1c-a0f0-402c-9943-6a6d3e7578a7",
   "metadata": {},
   "outputs": [],
   "source": []
  },
  {
   "cell_type": "markdown",
   "id": "7c860d25-b833-4472-88c2-e963ba1bf0aa",
   "metadata": {},
   "source": []
  },
  {
   "cell_type": "code",
   "execution_count": 6,
   "id": "c8a89b1f-342a-468f-9cf4-b01ef3186df4",
   "metadata": {},
   "outputs": [],
   "source": [
    "df = pd.DataFrame({'Doc': 2*['Doe', 'Rea',\n",
    "                              'Mi', 'Pha'],\n",
    "                   'Measurement': [5, 6, 3, 4, 6, 7, 4, 5]})"
   ]
  },
  {
   "cell_type": "code",
   "execution_count": 7,
   "id": "2be97a0f-6281-4ce1-bb74-208ceca2890c",
   "metadata": {},
   "outputs": [
    {
     "data": {
      "text/html": [
       "<div>\n",
       "<style scoped>\n",
       "    .dataframe tbody tr th:only-of-type {\n",
       "        vertical-align: middle;\n",
       "    }\n",
       "\n",
       "    .dataframe tbody tr th {\n",
       "        vertical-align: top;\n",
       "    }\n",
       "\n",
       "    .dataframe thead th {\n",
       "        text-align: right;\n",
       "    }\n",
       "</style>\n",
       "<table border=\"1\" class=\"dataframe\">\n",
       "  <thead>\n",
       "    <tr style=\"text-align: right;\">\n",
       "      <th></th>\n",
       "      <th>Doc</th>\n",
       "      <th>Measurement</th>\n",
       "    </tr>\n",
       "  </thead>\n",
       "  <tbody>\n",
       "    <tr>\n",
       "      <th>0</th>\n",
       "      <td>Doe</td>\n",
       "      <td>5</td>\n",
       "    </tr>\n",
       "    <tr>\n",
       "      <th>1</th>\n",
       "      <td>Rea</td>\n",
       "      <td>6</td>\n",
       "    </tr>\n",
       "    <tr>\n",
       "      <th>2</th>\n",
       "      <td>Mi</td>\n",
       "      <td>3</td>\n",
       "    </tr>\n",
       "    <tr>\n",
       "      <th>3</th>\n",
       "      <td>Pha</td>\n",
       "      <td>4</td>\n",
       "    </tr>\n",
       "    <tr>\n",
       "      <th>4</th>\n",
       "      <td>Doe</td>\n",
       "      <td>6</td>\n",
       "    </tr>\n",
       "    <tr>\n",
       "      <th>5</th>\n",
       "      <td>Rea</td>\n",
       "      <td>7</td>\n",
       "    </tr>\n",
       "    <tr>\n",
       "      <th>6</th>\n",
       "      <td>Mi</td>\n",
       "      <td>4</td>\n",
       "    </tr>\n",
       "    <tr>\n",
       "      <th>7</th>\n",
       "      <td>Pha</td>\n",
       "      <td>5</td>\n",
       "    </tr>\n",
       "  </tbody>\n",
       "</table>\n",
       "</div>"
      ],
      "text/plain": [
       "   Doc  Measurement\n",
       "0  Doe            5\n",
       "1  Rea            6\n",
       "2   Mi            3\n",
       "3  Pha            4\n",
       "4  Doe            6\n",
       "5  Rea            7\n",
       "6   Mi            4\n",
       "7  Pha            5"
      ]
     },
     "execution_count": 7,
     "metadata": {},
     "output_type": "execute_result"
    }
   ],
   "source": [
    "df"
   ]
  },
  {
   "cell_type": "code",
   "execution_count": 15,
   "id": "8746eb5f-234d-4534-a1e7-8f059d3bccef",
   "metadata": {},
   "outputs": [],
   "source": [
    "my_rng = np.random.default_rng(42)\n",
    "rnums = my_rng.normal(size = (8,))"
   ]
  },
  {
   "cell_type": "code",
   "execution_count": 16,
   "id": "faefbf29-fbf3-4989-9b84-baf6e94fbea3",
   "metadata": {},
   "outputs": [],
   "source": [
    "rnums = pd.Series(rnums)"
   ]
  },
  {
   "cell_type": "code",
   "execution_count": 17,
   "id": "15c44337-cbe4-4d92-b1c0-ea5b4b29fc37",
   "metadata": {},
   "outputs": [],
   "source": [
    "df['Measurement'] = df['Measurement'] + rnums"
   ]
  },
  {
   "cell_type": "code",
   "execution_count": 18,
   "id": "f3b3b2f1-59f0-4f59-8964-cc0913f457a8",
   "metadata": {},
   "outputs": [
    {
     "data": {
      "text/html": [
       "<div>\n",
       "<style scoped>\n",
       "    .dataframe tbody tr th:only-of-type {\n",
       "        vertical-align: middle;\n",
       "    }\n",
       "\n",
       "    .dataframe tbody tr th {\n",
       "        vertical-align: top;\n",
       "    }\n",
       "\n",
       "    .dataframe thead th {\n",
       "        text-align: right;\n",
       "    }\n",
       "</style>\n",
       "<table border=\"1\" class=\"dataframe\">\n",
       "  <thead>\n",
       "    <tr style=\"text-align: right;\">\n",
       "      <th></th>\n",
       "      <th>Doc</th>\n",
       "      <th>Measurement</th>\n",
       "    </tr>\n",
       "  </thead>\n",
       "  <tbody>\n",
       "    <tr>\n",
       "      <th>0</th>\n",
       "      <td>Doe</td>\n",
       "      <td>5.304717</td>\n",
       "    </tr>\n",
       "    <tr>\n",
       "      <th>1</th>\n",
       "      <td>Rea</td>\n",
       "      <td>4.960016</td>\n",
       "    </tr>\n",
       "    <tr>\n",
       "      <th>2</th>\n",
       "      <td>Mi</td>\n",
       "      <td>3.750451</td>\n",
       "    </tr>\n",
       "    <tr>\n",
       "      <th>3</th>\n",
       "      <td>Pha</td>\n",
       "      <td>4.940565</td>\n",
       "    </tr>\n",
       "    <tr>\n",
       "      <th>4</th>\n",
       "      <td>Doe</td>\n",
       "      <td>4.048965</td>\n",
       "    </tr>\n",
       "    <tr>\n",
       "      <th>5</th>\n",
       "      <td>Rea</td>\n",
       "      <td>5.697820</td>\n",
       "    </tr>\n",
       "    <tr>\n",
       "      <th>6</th>\n",
       "      <td>Mi</td>\n",
       "      <td>4.127840</td>\n",
       "    </tr>\n",
       "    <tr>\n",
       "      <th>7</th>\n",
       "      <td>Pha</td>\n",
       "      <td>4.683757</td>\n",
       "    </tr>\n",
       "  </tbody>\n",
       "</table>\n",
       "</div>"
      ],
      "text/plain": [
       "   Doc  Measurement\n",
       "0  Doe     5.304717\n",
       "1  Rea     4.960016\n",
       "2   Mi     3.750451\n",
       "3  Pha     4.940565\n",
       "4  Doe     4.048965\n",
       "5  Rea     5.697820\n",
       "6   Mi     4.127840\n",
       "7  Pha     4.683757"
      ]
     },
     "execution_count": 18,
     "metadata": {},
     "output_type": "execute_result"
    }
   ],
   "source": [
    "df"
   ]
  },
  {
   "cell_type": "code",
   "execution_count": 27,
   "id": "4468a6e6-a06d-4650-8c92-efadbbcc7a03",
   "metadata": {},
   "outputs": [
    {
     "data": {
      "text/plain": [
       "0     True\n",
       "1    False\n",
       "2    False\n",
       "3    False\n",
       "4     True\n",
       "5    False\n",
       "6    False\n",
       "7    False\n",
       "Name: Doc, dtype: bool"
      ]
     },
     "execution_count": 27,
     "metadata": {},
     "output_type": "execute_result"
    }
   ],
   "source": [
    "df['Doc'] == 'Doe'"
   ]
  },
  {
   "cell_type": "code",
   "execution_count": null,
   "id": "487a54ca-250e-4683-8824-e9e8fab4e61c",
   "metadata": {},
   "outputs": [],
   "source": []
  }
 ],
 "metadata": {
  "kernelspec": {
   "display_name": "Python 3 (ipykernel)",
   "language": "python",
   "name": "python3"
  },
  "language_info": {
   "codemirror_mode": {
    "name": "ipython",
    "version": 3
   },
   "file_extension": ".py",
   "mimetype": "text/x-python",
   "name": "python",
   "nbconvert_exporter": "python",
   "pygments_lexer": "ipython3",
   "version": "3.8.13"
  }
 },
 "nbformat": 4,
 "nbformat_minor": 5
}
