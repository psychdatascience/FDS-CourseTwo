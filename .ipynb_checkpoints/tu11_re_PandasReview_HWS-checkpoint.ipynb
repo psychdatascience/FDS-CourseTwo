{
 "cells": [
  {
   "cell_type": "markdown",
   "id": "65820f5f",
   "metadata": {},
   "source": [
    "# Pandas Review Homework"
   ]
  },
  {
   "cell_type": "markdown",
   "id": "0a5c9d9d",
   "metadata": {},
   "source": [
    "Import pandas"
   ]
  },
  {
   "cell_type": "code",
   "execution_count": null,
   "id": "176e37c6",
   "metadata": {},
   "outputs": [],
   "source": [
    "import pandas as pd"
   ]
  },
  {
   "cell_type": "markdown",
   "id": "af9b2d32",
   "metadata": {},
   "source": [
    "## 1. Make a data frame from a Python dictionary."
   ]
  },
  {
   "cell_type": "markdown",
   "id": "ff292f35",
   "metadata": {},
   "source": [
    "Create a Python dictionary containing\n",
    "\n",
    "- the names of four of your friends (real or imaginary)\n",
    "- their ages\n",
    "- the year they started college\n",
    "- their majors"
   ]
  },
  {
   "cell_type": "code",
   "execution_count": null,
   "id": "ac0c2756",
   "metadata": {},
   "outputs": [],
   "source": []
  },
  {
   "cell_type": "markdown",
   "id": "88822222",
   "metadata": {},
   "source": [
    "Make a pandas data frame from your dictionary."
   ]
  },
  {
   "cell_type": "code",
   "execution_count": null,
   "id": "a2bc385c",
   "metadata": {},
   "outputs": [],
   "source": []
  },
  {
   "cell_type": "markdown",
   "id": "66a96dd3",
   "metadata": {},
   "source": [
    "Show your new data frame."
   ]
  },
  {
   "cell_type": "code",
   "execution_count": null,
   "id": "c5d84f02",
   "metadata": {},
   "outputs": [],
   "source": []
  },
  {
   "cell_type": "markdown",
   "id": "affeda48",
   "metadata": {},
   "source": [
    "Fetch the ages of all your friends."
   ]
  },
  {
   "cell_type": "code",
   "execution_count": null,
   "id": "76248af7",
   "metadata": {},
   "outputs": [],
   "source": []
  },
  {
   "cell_type": "markdown",
   "id": "34982420",
   "metadata": {},
   "source": [
    "Fetch the name of your fourth friend."
   ]
  },
  {
   "cell_type": "code",
   "execution_count": null,
   "id": "f32a9713",
   "metadata": {},
   "outputs": [],
   "source": []
  },
  {
   "cell_type": "markdown",
   "id": "c22ab6f9",
   "metadata": {},
   "source": [
    "Fetch the age of your third friend."
   ]
  },
  {
   "cell_type": "code",
   "execution_count": null,
   "id": "6fcff570",
   "metadata": {},
   "outputs": [],
   "source": []
  },
  {
   "cell_type": "markdown",
   "id": "beed85f6",
   "metadata": {},
   "source": [
    "Compute and show the average age of your friends."
   ]
  },
  {
   "cell_type": "code",
   "execution_count": null,
   "id": "3f86e76f",
   "metadata": {},
   "outputs": [],
   "source": []
  },
  {
   "cell_type": "markdown",
   "id": "b53eff80",
   "metadata": {},
   "source": [
    "## 2. Find a table of data on Wikipedia and import it."
   ]
  },
  {
   "cell_type": "markdown",
   "id": "2f172dba",
   "metadata": {},
   "source": [
    "Go to Widepedia and find a table of data."
   ]
  },
  {
   "cell_type": "markdown",
   "id": "d01188c9",
   "metadata": {},
   "source": [
    "In the cell below, import the data and display it (first and last five rows)."
   ]
  },
  {
   "cell_type": "code",
   "execution_count": null,
   "id": "7ec937c9",
   "metadata": {},
   "outputs": [],
   "source": []
  },
  {
   "cell_type": "markdown",
   "id": "967484c9",
   "metadata": {},
   "source": [
    "## 3. Load the RMS titanic data and export a subset of columns"
   ]
  },
  {
   "cell_type": "markdown",
   "id": "f860f1da",
   "metadata": {},
   "source": [
    "Load the titanic data, make a `DataFrame` of the fare paid and the survival columns, and export it as a `.csv` file."
   ]
  },
  {
   "cell_type": "code",
   "execution_count": null,
   "id": "de580fcd",
   "metadata": {},
   "outputs": [],
   "source": []
  },
  {
   "cell_type": "markdown",
   "id": "fe2e589b",
   "metadata": {},
   "source": [
    "Import your new `.csv` file into a new `DataFrame` and show it (first and last five rows)."
   ]
  },
  {
   "cell_type": "code",
   "execution_count": null,
   "id": "019b1e07",
   "metadata": {},
   "outputs": [],
   "source": []
  },
  {
   "cell_type": "markdown",
   "id": "31e2d7f5",
   "metadata": {},
   "source": [
    "## 4. Fetch specific rows of data of the titanic data"
   ]
  },
  {
   "cell_type": "markdown",
   "id": "67e2c8e4",
   "metadata": {},
   "source": [
    "Fetch all the second class passengers and put them in a new `DataFrame` and show it."
   ]
  },
  {
   "cell_type": "code",
   "execution_count": null,
   "id": "e667b5c0",
   "metadata": {},
   "outputs": [],
   "source": []
  },
  {
   "cell_type": "markdown",
   "id": "6825e5e2",
   "metadata": {},
   "source": [
    "Fetch all the first and third class passengers, put them in a new `DataFrame`, and show it."
   ]
  },
  {
   "cell_type": "code",
   "execution_count": null,
   "id": "92555c46",
   "metadata": {},
   "outputs": [],
   "source": []
  },
  {
   "cell_type": "markdown",
   "id": "5aee8285",
   "metadata": {},
   "source": [
    "## 5. Plot some Titanic data"
   ]
  },
  {
   "cell_type": "markdown",
   "id": "ec7e32bd",
   "metadata": {},
   "source": [
    "### 5.a - Scatter plot"
   ]
  },
  {
   "cell_type": "markdown",
   "id": "1526e8d1",
   "metadata": {},
   "source": [
    "Make a scatter plot of survival status vs. cabin class"
   ]
  },
  {
   "cell_type": "code",
   "execution_count": null,
   "id": "d0b446ab",
   "metadata": {},
   "outputs": [],
   "source": []
  },
  {
   "cell_type": "markdown",
   "id": "41c4bf30",
   "metadata": {},
   "source": [
    "### 5.b - Box plot"
   ]
  },
  {
   "cell_type": "markdown",
   "id": "6f954b24",
   "metadata": {},
   "source": [
    "Make a box plot of survival status **by** cabin class."
   ]
  },
  {
   "cell_type": "code",
   "execution_count": null,
   "id": "5a1d3ece",
   "metadata": {},
   "outputs": [],
   "source": []
  },
  {
   "cell_type": "markdown",
   "id": "e0594ff6",
   "metadata": {},
   "source": [
    "## 6. Calculate new columns"
   ]
  },
  {
   "cell_type": "markdown",
   "id": "2beb8560",
   "metadata": {},
   "source": [
    "### 6.a - Create a new column in your titanic `DataFrame` quantifying the total number of relative on board (siblings + parents)."
   ]
  },
  {
   "cell_type": "code",
   "execution_count": null,
   "id": "769ee950",
   "metadata": {},
   "outputs": [],
   "source": []
  },
  {
   "cell_type": "markdown",
   "id": "db0c2d05",
   "metadata": {},
   "source": [
    "### 6.b - Add another column – a Boolean column – indicating whether each person had any relatives on board."
   ]
  },
  {
   "cell_type": "code",
   "execution_count": null,
   "id": "a6c852ed",
   "metadata": {},
   "outputs": [],
   "source": []
  },
  {
   "cell_type": "code",
   "execution_count": null,
   "id": "3409c32a",
   "metadata": {},
   "outputs": [],
   "source": []
  }
 ],
 "metadata": {
  "kernelspec": {
   "display_name": "Python 3 (ipykernel)",
   "language": "python",
   "name": "python3"
  },
  "language_info": {
   "codemirror_mode": {
    "name": "ipython",
    "version": 3
   },
   "file_extension": ".py",
   "mimetype": "text/x-python",
   "name": "python",
   "nbconvert_exporter": "python",
   "pygments_lexer": "ipython3",
   "version": "3.8.13"
  }
 },
 "nbformat": 4,
 "nbformat_minor": 5
}
