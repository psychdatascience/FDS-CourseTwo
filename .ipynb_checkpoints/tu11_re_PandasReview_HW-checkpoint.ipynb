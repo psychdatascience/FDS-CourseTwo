{
 "cells": [
  {
   "cell_type": "markdown",
   "id": "de2732a8",
   "metadata": {},
   "source": [
    "# Pandas Review Homework"
   ]
  },
  {
   "cell_type": "markdown",
   "id": "6f58b3f9",
   "metadata": {},
   "source": [
    "Import pandas"
   ]
  },
  {
   "cell_type": "code",
   "execution_count": null,
   "id": "6ad6daf5",
   "metadata": {},
   "outputs": [],
   "source": []
  },
  {
   "cell_type": "markdown",
   "id": "996f63da",
   "metadata": {},
   "source": [
    "## 1. Make a data frame from a Python dictionary."
   ]
  },
  {
   "cell_type": "markdown",
   "id": "3c670000",
   "metadata": {},
   "source": [
    "Create a Python dictionary containing\n",
    "\n",
    "- the names of four of your friends (real or imaginary)\n",
    "- their ages\n",
    "- the year they started college\n",
    "- their majors"
   ]
  },
  {
   "cell_type": "code",
   "execution_count": null,
   "id": "a518a189",
   "metadata": {},
   "outputs": [],
   "source": []
  },
  {
   "cell_type": "markdown",
   "id": "45395707",
   "metadata": {},
   "source": [
    "Make a pandas data frame from your dictionary."
   ]
  },
  {
   "cell_type": "code",
   "execution_count": null,
   "id": "110e6284",
   "metadata": {},
   "outputs": [],
   "source": []
  },
  {
   "cell_type": "markdown",
   "id": "15521bdf",
   "metadata": {},
   "source": [
    "Show your new data frame."
   ]
  },
  {
   "cell_type": "code",
   "execution_count": null,
   "id": "05eafe2a",
   "metadata": {},
   "outputs": [],
   "source": []
  },
  {
   "cell_type": "markdown",
   "id": "57023558",
   "metadata": {},
   "source": [
    "Fetch the ages of all your friends."
   ]
  },
  {
   "cell_type": "code",
   "execution_count": null,
   "id": "37004c4f",
   "metadata": {},
   "outputs": [],
   "source": []
  },
  {
   "cell_type": "markdown",
   "id": "4ebe222a",
   "metadata": {},
   "source": [
    "Fetch the name of your fourth friend."
   ]
  },
  {
   "cell_type": "code",
   "execution_count": null,
   "id": "41127a08",
   "metadata": {},
   "outputs": [],
   "source": []
  },
  {
   "cell_type": "markdown",
   "id": "3ee0c0ed",
   "metadata": {},
   "source": [
    "Fetch the age of your third friend."
   ]
  },
  {
   "cell_type": "code",
   "execution_count": null,
   "id": "402a915a",
   "metadata": {},
   "outputs": [],
   "source": []
  },
  {
   "cell_type": "markdown",
   "id": "b58f9442",
   "metadata": {},
   "source": [
    "Compute and show the average age of your friends."
   ]
  },
  {
   "cell_type": "code",
   "execution_count": null,
   "id": "9ac6007e",
   "metadata": {},
   "outputs": [],
   "source": []
  },
  {
   "cell_type": "markdown",
   "id": "abef7324",
   "metadata": {},
   "source": [
    "## 2. Find a table of data on Wikipedia and import it."
   ]
  },
  {
   "cell_type": "markdown",
   "id": "4783ca5b",
   "metadata": {},
   "source": [
    "Go to Widepedia and find a table of data. It can be anything you want."
   ]
  },
  {
   "cell_type": "markdown",
   "id": "6acd3dd5",
   "metadata": {},
   "source": [
    "In the cell below, import the data and display it (first and last five rows)."
   ]
  },
  {
   "cell_type": "code",
   "execution_count": null,
   "id": "830c1621",
   "metadata": {},
   "outputs": [],
   "source": []
  },
  {
   "cell_type": "markdown",
   "id": "78248a20",
   "metadata": {},
   "source": [
    "## 3. Load the RMS titanic data and export a subset of columns"
   ]
  },
  {
   "cell_type": "markdown",
   "id": "3a6e1cb5",
   "metadata": {},
   "source": [
    "Load the titanic data, make a new `DataFrame` of the fare paid and the survival columns, and export it as a `.csv` file."
   ]
  },
  {
   "cell_type": "code",
   "execution_count": null,
   "id": "8fefdc40",
   "metadata": {},
   "outputs": [],
   "source": [
    "    "
   ]
  },
  {
   "cell_type": "markdown",
   "id": "ccdc08a0",
   "metadata": {},
   "source": [
    "Import your new `.csv` file into a new `DataFrame` and show it (first and last five rows)."
   ]
  },
  {
   "cell_type": "code",
   "execution_count": null,
   "id": "7cfc953f",
   "metadata": {},
   "outputs": [],
   "source": []
  },
  {
   "cell_type": "markdown",
   "id": "28654e4d",
   "metadata": {},
   "source": [
    "## 4. Fetch specific rows of data of the titanic data"
   ]
  },
  {
   "cell_type": "markdown",
   "id": "0a54dd6a",
   "metadata": {},
   "source": [
    "Fetch all the second class passengers of the titanic data and put them in a new `DataFrame` and show it."
   ]
  },
  {
   "cell_type": "code",
   "execution_count": null,
   "id": "2eff6a4d",
   "metadata": {},
   "outputs": [],
   "source": []
  },
  {
   "cell_type": "markdown",
   "id": "51af1e75",
   "metadata": {},
   "source": [
    "Fetch all the first and third class passengers, put them in a new `DataFrame`, and show it."
   ]
  },
  {
   "cell_type": "code",
   "execution_count": null,
   "id": "da260409",
   "metadata": {},
   "outputs": [],
   "source": []
  },
  {
   "cell_type": "markdown",
   "id": "bc3ef464",
   "metadata": {},
   "source": [
    "## 5. Plot some Titanic data"
   ]
  },
  {
   "cell_type": "markdown",
   "id": "a2cd750a",
   "metadata": {},
   "source": [
    "First, import `matplotlib`"
   ]
  },
  {
   "cell_type": "code",
   "execution_count": null,
   "id": "f767ec25",
   "metadata": {},
   "outputs": [],
   "source": []
  },
  {
   "cell_type": "markdown",
   "id": "31912be2",
   "metadata": {},
   "source": [
    "### 5.a - Scatter plot"
   ]
  },
  {
   "cell_type": "markdown",
   "id": "697afd9f",
   "metadata": {},
   "source": [
    "Make a scatter plot of fare vs. cabin class (seems like these should be perfectly related)."
   ]
  },
  {
   "cell_type": "code",
   "execution_count": null,
   "id": "ab891032",
   "metadata": {},
   "outputs": [],
   "source": []
  },
  {
   "cell_type": "markdown",
   "id": "d64c8a3f",
   "metadata": {},
   "source": [
    "### 5.b - Distribution plot (challenging!)"
   ]
  },
  {
   "cell_type": "markdown",
   "id": "f811eec3",
   "metadata": {},
   "source": [
    "Plot the distributions of fare paid for survivors and deceased in a way that makes for a good visual comparison."
   ]
  },
  {
   "cell_type": "code",
   "execution_count": null,
   "id": "55d09645",
   "metadata": {},
   "outputs": [],
   "source": []
  },
  {
   "cell_type": "markdown",
   "id": "896fe452",
   "metadata": {},
   "source": [
    "## 6. Calculate new columns"
   ]
  },
  {
   "cell_type": "markdown",
   "id": "647dc422",
   "metadata": {},
   "source": [
    "### 6.a - Compute total number of relatives\n",
    "Create a new column in your titanic `DataFrame` quantifying the total number of relatives on board (siblings + parents – the number of siblings are in `SibSp` and the number of parents are in `Parch`)."
   ]
  },
  {
   "cell_type": "code",
   "execution_count": null,
   "id": "0bb2026f",
   "metadata": {},
   "outputs": [],
   "source": []
  },
  {
   "cell_type": "markdown",
   "id": "4d85393d",
   "metadata": {},
   "source": [
    "### 6.b - Did a person have any relatives on board?\n",
    "Add another column – a Boolean column – indicating whether each person had any relatives on board."
   ]
  },
  {
   "cell_type": "code",
   "execution_count": null,
   "id": "f1bb62eb",
   "metadata": {},
   "outputs": [],
   "source": []
  },
  {
   "cell_type": "markdown",
   "id": "3dfa0128",
   "metadata": {},
   "source": [
    "## 7. Computing descriptive statistics"
   ]
  },
  {
   "cell_type": "markdown",
   "id": "05d9f327",
   "metadata": {},
   "source": [
    "### 7.a - Compute a mean for a column"
   ]
  },
  {
   "cell_type": "markdown",
   "id": "ccc6315f",
   "metadata": {},
   "source": [
    "Compute the proportion of survivors of the RMS Titanic. **Hint**: the coding of `Survival` as 0 or 1 really works to our advantage here: the proportion of survivors in any group is easily computed using a common statistical function. The 7.a section header should also give you a big clue!"
   ]
  },
  {
   "cell_type": "code",
   "execution_count": null,
   "id": "5eaa9d5e",
   "metadata": {},
   "outputs": [],
   "source": []
  },
  {
   "cell_type": "markdown",
   "id": "b5f53834",
   "metadata": {},
   "source": [
    "### 7.a - Compute a mean for a subset of data"
   ]
  },
  {
   "cell_type": "markdown",
   "id": "051c3650",
   "metadata": {},
   "source": [
    "Compute the proportion of survivors for the females on the RMS Titanic (you can do this in one go, or two steps, using an intermediate object containing just the female data)."
   ]
  },
  {
   "cell_type": "code",
   "execution_count": null,
   "id": "b3d73f60",
   "metadata": {},
   "outputs": [],
   "source": []
  },
  {
   "cell_type": "markdown",
   "id": "4eba5379",
   "metadata": {},
   "source": [
    "### 7.b - Compute statistics by group"
   ]
  },
  {
   "cell_type": "markdown",
   "id": "ab025703",
   "metadata": {},
   "source": [
    "Compute the proportion of female vs. male survivors of the RMS Titanic."
   ]
  },
  {
   "cell_type": "code",
   "execution_count": null,
   "id": "6c34b2a0",
   "metadata": {},
   "outputs": [],
   "source": []
  },
  {
   "cell_type": "markdown",
   "id": "9b49f9c7",
   "metadata": {},
   "source": [
    "Now compute the proportion of female vs. male survivors of the RMS Titanic, *along with the **s**tandard **e**rror of the **m**ean*. The **bold** type should give you a hint about the name of the method to compute the standard error. To do this, you'll need to combine the `groupby()` and `agg()` methods!"
   ]
  },
  {
   "cell_type": "code",
   "execution_count": null,
   "id": "fbee2fd9",
   "metadata": {},
   "outputs": [],
   "source": []
  },
  {
   "cell_type": "markdown",
   "id": "25cb3aad",
   "metadata": {},
   "source": [
    "What does this tell you about gender roles when the RMS Titanic was sunk?"
   ]
  },
  {
   "cell_type": "markdown",
   "id": "9c5ed7e4",
   "metadata": {},
   "source": []
  },
  {
   "cell_type": "markdown",
   "id": "860c9b58",
   "metadata": {},
   "source": [
    "Compute the proportion of survivors by cabin class and their standard error."
   ]
  },
  {
   "cell_type": "code",
   "execution_count": null,
   "id": "c9233160",
   "metadata": {},
   "outputs": [],
   "source": []
  },
  {
   "cell_type": "markdown",
   "id": "e37b2a40",
   "metadata": {},
   "source": [
    "What does this tell you about socio-economic status when the RMS Titanic was sunk?"
   ]
  },
  {
   "cell_type": "markdown",
   "id": "9dae5959",
   "metadata": {},
   "source": []
  }
 ],
 "metadata": {
  "kernelspec": {
   "display_name": "Python 3 (ipykernel)",
   "language": "python",
   "name": "python3"
  },
  "language_info": {
   "codemirror_mode": {
    "name": "ipython",
    "version": 3
   },
   "file_extension": ".py",
   "mimetype": "text/x-python",
   "name": "python",
   "nbconvert_exporter": "python",
   "pygments_lexer": "ipython3",
   "version": "3.8.13"
  }
 },
 "nbformat": 4,
 "nbformat_minor": 5
}
