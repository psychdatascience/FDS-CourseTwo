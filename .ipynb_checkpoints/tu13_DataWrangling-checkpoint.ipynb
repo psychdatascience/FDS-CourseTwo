{
 "cells": [
  {
   "cell_type": "markdown",
   "id": "dce81b46-5074-470b-ba38-a0dbe7610863",
   "metadata": {},
   "source": [
    "# Data Wrangling "
   ]
  },
  {
   "cell_type": "code",
   "execution_count": 1,
   "id": "30d130e4-34c2-474d-8f8b-020b8f162c12",
   "metadata": {},
   "outputs": [],
   "source": [
    "import pandas as pd"
   ]
  },
  {
   "cell_type": "markdown",
   "id": "e989857b-9797-4674-8a98-53673bd84bf2",
   "metadata": {},
   "source": [
    "## Loading"
   ]
  },
  {
   "cell_type": "code",
   "execution_count": 127,
   "id": "eafb8a59-e66e-4ac0-8c37-a145723690e8",
   "metadata": {},
   "outputs": [
    {
     "data": {
      "text/html": [
       "<div>\n",
       "<style scoped>\n",
       "    .dataframe tbody tr th:only-of-type {\n",
       "        vertical-align: middle;\n",
       "    }\n",
       "\n",
       "    .dataframe tbody tr th {\n",
       "        vertical-align: top;\n",
       "    }\n",
       "\n",
       "    .dataframe thead th {\n",
       "        text-align: right;\n",
       "    }\n",
       "</style>\n",
       "<table border=\"1\" class=\"dataframe\">\n",
       "  <thead>\n",
       "    <tr style=\"text-align: right;\">\n",
       "      <th></th>\n",
       "      <th>patient_id</th>\n",
       "      <th>clump_thickness</th>\n",
       "      <th>cell_size_uniformity</th>\n",
       "      <th>cell_shape_uniformity</th>\n",
       "      <th>marginal_adhesion</th>\n",
       "      <th>single_ep_cell_size</th>\n",
       "      <th>bare_nuclei</th>\n",
       "      <th>bland_chromatin</th>\n",
       "      <th>normal_nucleoli</th>\n",
       "      <th>mitoses</th>\n",
       "      <th>class</th>\n",
       "      <th>doctor_name</th>\n",
       "    </tr>\n",
       "  </thead>\n",
       "  <tbody>\n",
       "    <tr>\n",
       "      <th>0</th>\n",
       "      <td>1000025</td>\n",
       "      <td>5.0</td>\n",
       "      <td>1.0</td>\n",
       "      <td>1</td>\n",
       "      <td>1</td>\n",
       "      <td>2</td>\n",
       "      <td>1</td>\n",
       "      <td>3.0</td>\n",
       "      <td>1.0</td>\n",
       "      <td>1</td>\n",
       "      <td>benign</td>\n",
       "      <td>Dr. Doe</td>\n",
       "    </tr>\n",
       "    <tr>\n",
       "      <th>1</th>\n",
       "      <td>1002945</td>\n",
       "      <td>5.0</td>\n",
       "      <td>4.0</td>\n",
       "      <td>4</td>\n",
       "      <td>5</td>\n",
       "      <td>7</td>\n",
       "      <td>10</td>\n",
       "      <td>3.0</td>\n",
       "      <td>2.0</td>\n",
       "      <td>1</td>\n",
       "      <td>benign</td>\n",
       "      <td>Dr. Smith</td>\n",
       "    </tr>\n",
       "    <tr>\n",
       "      <th>2</th>\n",
       "      <td>1015425</td>\n",
       "      <td>3.0</td>\n",
       "      <td>1.0</td>\n",
       "      <td>1</td>\n",
       "      <td>1</td>\n",
       "      <td>2</td>\n",
       "      <td>2</td>\n",
       "      <td>3.0</td>\n",
       "      <td>1.0</td>\n",
       "      <td>1</td>\n",
       "      <td>benign</td>\n",
       "      <td>Dr. Lee</td>\n",
       "    </tr>\n",
       "    <tr>\n",
       "      <th>3</th>\n",
       "      <td>1016277</td>\n",
       "      <td>6.0</td>\n",
       "      <td>8.0</td>\n",
       "      <td>8</td>\n",
       "      <td>1</td>\n",
       "      <td>3</td>\n",
       "      <td>4</td>\n",
       "      <td>3.0</td>\n",
       "      <td>7.0</td>\n",
       "      <td>1</td>\n",
       "      <td>benign</td>\n",
       "      <td>Dr. Smith</td>\n",
       "    </tr>\n",
       "    <tr>\n",
       "      <th>4</th>\n",
       "      <td>1017023</td>\n",
       "      <td>4.0</td>\n",
       "      <td>1.0</td>\n",
       "      <td>1</td>\n",
       "      <td>3</td>\n",
       "      <td>2</td>\n",
       "      <td>1</td>\n",
       "      <td>3.0</td>\n",
       "      <td>1.0</td>\n",
       "      <td>1</td>\n",
       "      <td>benign</td>\n",
       "      <td>Dr. Wong</td>\n",
       "    </tr>\n",
       "    <tr>\n",
       "      <th>...</th>\n",
       "      <td>...</td>\n",
       "      <td>...</td>\n",
       "      <td>...</td>\n",
       "      <td>...</td>\n",
       "      <td>...</td>\n",
       "      <td>...</td>\n",
       "      <td>...</td>\n",
       "      <td>...</td>\n",
       "      <td>...</td>\n",
       "      <td>...</td>\n",
       "      <td>...</td>\n",
       "      <td>...</td>\n",
       "    </tr>\n",
       "    <tr>\n",
       "      <th>694</th>\n",
       "      <td>776715</td>\n",
       "      <td>3.0</td>\n",
       "      <td>1.0</td>\n",
       "      <td>1</td>\n",
       "      <td>1</td>\n",
       "      <td>3</td>\n",
       "      <td>2</td>\n",
       "      <td>1.0</td>\n",
       "      <td>1.0</td>\n",
       "      <td>1</td>\n",
       "      <td>benign</td>\n",
       "      <td>Dr. Lee</td>\n",
       "    </tr>\n",
       "    <tr>\n",
       "      <th>695</th>\n",
       "      <td>841769</td>\n",
       "      <td>2.0</td>\n",
       "      <td>1.0</td>\n",
       "      <td>1</td>\n",
       "      <td>1</td>\n",
       "      <td>2</td>\n",
       "      <td>1</td>\n",
       "      <td>1.0</td>\n",
       "      <td>1.0</td>\n",
       "      <td>1</td>\n",
       "      <td>benign</td>\n",
       "      <td>Dr. Smith</td>\n",
       "    </tr>\n",
       "    <tr>\n",
       "      <th>696</th>\n",
       "      <td>888820</td>\n",
       "      <td>5.0</td>\n",
       "      <td>10.0</td>\n",
       "      <td>10</td>\n",
       "      <td>3</td>\n",
       "      <td>7</td>\n",
       "      <td>3</td>\n",
       "      <td>8.0</td>\n",
       "      <td>10.0</td>\n",
       "      <td>2</td>\n",
       "      <td>malignant</td>\n",
       "      <td>Dr. Lee</td>\n",
       "    </tr>\n",
       "    <tr>\n",
       "      <th>697</th>\n",
       "      <td>897471</td>\n",
       "      <td>4.0</td>\n",
       "      <td>8.0</td>\n",
       "      <td>6</td>\n",
       "      <td>4</td>\n",
       "      <td>3</td>\n",
       "      <td>4</td>\n",
       "      <td>10.0</td>\n",
       "      <td>6.0</td>\n",
       "      <td>1</td>\n",
       "      <td>malignant</td>\n",
       "      <td>Dr. Lee</td>\n",
       "    </tr>\n",
       "    <tr>\n",
       "      <th>698</th>\n",
       "      <td>897471</td>\n",
       "      <td>4.0</td>\n",
       "      <td>8.0</td>\n",
       "      <td>8</td>\n",
       "      <td>5</td>\n",
       "      <td>4</td>\n",
       "      <td>5</td>\n",
       "      <td>10.0</td>\n",
       "      <td>4.0</td>\n",
       "      <td>1</td>\n",
       "      <td>malignant</td>\n",
       "      <td>Dr. Wong</td>\n",
       "    </tr>\n",
       "  </tbody>\n",
       "</table>\n",
       "<p>699 rows × 12 columns</p>\n",
       "</div>"
      ],
      "text/plain": [
       "     patient_id  clump_thickness  cell_size_uniformity  cell_shape_uniformity  \\\n",
       "0       1000025              5.0                   1.0                      1   \n",
       "1       1002945              5.0                   4.0                      4   \n",
       "2       1015425              3.0                   1.0                      1   \n",
       "3       1016277              6.0                   8.0                      8   \n",
       "4       1017023              4.0                   1.0                      1   \n",
       "..          ...              ...                   ...                    ...   \n",
       "694      776715              3.0                   1.0                      1   \n",
       "695      841769              2.0                   1.0                      1   \n",
       "696      888820              5.0                  10.0                     10   \n",
       "697      897471              4.0                   8.0                      6   \n",
       "698      897471              4.0                   8.0                      8   \n",
       "\n",
       "     marginal_adhesion  single_ep_cell_size bare_nuclei  bland_chromatin  \\\n",
       "0                    1                    2           1              3.0   \n",
       "1                    5                    7          10              3.0   \n",
       "2                    1                    2           2              3.0   \n",
       "3                    1                    3           4              3.0   \n",
       "4                    3                    2           1              3.0   \n",
       "..                 ...                  ...         ...              ...   \n",
       "694                  1                    3           2              1.0   \n",
       "695                  1                    2           1              1.0   \n",
       "696                  3                    7           3              8.0   \n",
       "697                  4                    3           4             10.0   \n",
       "698                  5                    4           5             10.0   \n",
       "\n",
       "     normal_nucleoli  mitoses      class doctor_name  \n",
       "0                1.0        1     benign     Dr. Doe  \n",
       "1                2.0        1     benign   Dr. Smith  \n",
       "2                1.0        1     benign     Dr. Lee  \n",
       "3                7.0        1     benign   Dr. Smith  \n",
       "4                1.0        1     benign    Dr. Wong  \n",
       "..               ...      ...        ...         ...  \n",
       "694              1.0        1     benign     Dr. Lee  \n",
       "695              1.0        1     benign   Dr. Smith  \n",
       "696             10.0        2  malignant     Dr. Lee  \n",
       "697              6.0        1  malignant     Dr. Lee  \n",
       "698              4.0        1  malignant    Dr. Wong  \n",
       "\n",
       "[699 rows x 12 columns]"
      ]
     },
     "execution_count": 127,
     "metadata": {},
     "output_type": "execute_result"
    }
   ],
   "source": [
    "bcd = pd.read_csv('./data/breast_cancer_data.csv')\n",
    "bcd"
   ]
  },
  {
   "cell_type": "markdown",
   "id": "0a1f4e61-57bb-4a98-a096-89a407cea6f2",
   "metadata": {},
   "source": [
    "## Exploring the Data Frame"
   ]
  },
  {
   "cell_type": "code",
   "execution_count": 64,
   "id": "55c26b54-fd65-49f7-b152-0d668ddb02aa",
   "metadata": {
    "tags": []
   },
   "outputs": [
    {
     "data": {
      "text/html": [
       "<div>\n",
       "<style scoped>\n",
       "    .dataframe tbody tr th:only-of-type {\n",
       "        vertical-align: middle;\n",
       "    }\n",
       "\n",
       "    .dataframe tbody tr th {\n",
       "        vertical-align: top;\n",
       "    }\n",
       "\n",
       "    .dataframe thead th {\n",
       "        text-align: right;\n",
       "    }\n",
       "</style>\n",
       "<table border=\"1\" class=\"dataframe\">\n",
       "  <thead>\n",
       "    <tr style=\"text-align: right;\">\n",
       "      <th></th>\n",
       "      <th>patient_id</th>\n",
       "      <th>clump_thickness</th>\n",
       "      <th>cell_size_uniformity</th>\n",
       "      <th>cell_shape_uniformity</th>\n",
       "      <th>marginal_adhesion</th>\n",
       "      <th>single_ep_cell_size</th>\n",
       "      <th>bland_chromatin</th>\n",
       "      <th>normal_nucleoli</th>\n",
       "      <th>mitoses</th>\n",
       "    </tr>\n",
       "  </thead>\n",
       "  <tbody>\n",
       "    <tr>\n",
       "      <th>count</th>\n",
       "      <td>6.990000e+02</td>\n",
       "      <td>698.000000</td>\n",
       "      <td>698.000000</td>\n",
       "      <td>699.000000</td>\n",
       "      <td>699.000000</td>\n",
       "      <td>699.000000</td>\n",
       "      <td>695.000000</td>\n",
       "      <td>698.000000</td>\n",
       "      <td>699.000000</td>\n",
       "    </tr>\n",
       "    <tr>\n",
       "      <th>mean</th>\n",
       "      <td>1.071704e+06</td>\n",
       "      <td>4.416905</td>\n",
       "      <td>3.137536</td>\n",
       "      <td>3.207439</td>\n",
       "      <td>2.793991</td>\n",
       "      <td>3.216023</td>\n",
       "      <td>3.447482</td>\n",
       "      <td>2.868195</td>\n",
       "      <td>1.589413</td>\n",
       "    </tr>\n",
       "    <tr>\n",
       "      <th>std</th>\n",
       "      <td>6.170957e+05</td>\n",
       "      <td>2.817673</td>\n",
       "      <td>3.052575</td>\n",
       "      <td>2.971913</td>\n",
       "      <td>2.843163</td>\n",
       "      <td>2.214300</td>\n",
       "      <td>2.441191</td>\n",
       "      <td>3.055647</td>\n",
       "      <td>1.715078</td>\n",
       "    </tr>\n",
       "    <tr>\n",
       "      <th>min</th>\n",
       "      <td>6.163400e+04</td>\n",
       "      <td>1.000000</td>\n",
       "      <td>1.000000</td>\n",
       "      <td>1.000000</td>\n",
       "      <td>1.000000</td>\n",
       "      <td>1.000000</td>\n",
       "      <td>1.000000</td>\n",
       "      <td>1.000000</td>\n",
       "      <td>1.000000</td>\n",
       "    </tr>\n",
       "    <tr>\n",
       "      <th>25%</th>\n",
       "      <td>8.706885e+05</td>\n",
       "      <td>2.000000</td>\n",
       "      <td>1.000000</td>\n",
       "      <td>1.000000</td>\n",
       "      <td>1.000000</td>\n",
       "      <td>2.000000</td>\n",
       "      <td>2.000000</td>\n",
       "      <td>1.000000</td>\n",
       "      <td>1.000000</td>\n",
       "    </tr>\n",
       "    <tr>\n",
       "      <th>50%</th>\n",
       "      <td>1.171710e+06</td>\n",
       "      <td>4.000000</td>\n",
       "      <td>1.000000</td>\n",
       "      <td>1.000000</td>\n",
       "      <td>1.000000</td>\n",
       "      <td>2.000000</td>\n",
       "      <td>3.000000</td>\n",
       "      <td>1.000000</td>\n",
       "      <td>1.000000</td>\n",
       "    </tr>\n",
       "    <tr>\n",
       "      <th>75%</th>\n",
       "      <td>1.238298e+06</td>\n",
       "      <td>6.000000</td>\n",
       "      <td>5.000000</td>\n",
       "      <td>5.000000</td>\n",
       "      <td>3.500000</td>\n",
       "      <td>4.000000</td>\n",
       "      <td>5.000000</td>\n",
       "      <td>4.000000</td>\n",
       "      <td>1.000000</td>\n",
       "    </tr>\n",
       "    <tr>\n",
       "      <th>max</th>\n",
       "      <td>1.345435e+07</td>\n",
       "      <td>10.000000</td>\n",
       "      <td>10.000000</td>\n",
       "      <td>10.000000</td>\n",
       "      <td>10.000000</td>\n",
       "      <td>10.000000</td>\n",
       "      <td>10.000000</td>\n",
       "      <td>10.000000</td>\n",
       "      <td>10.000000</td>\n",
       "    </tr>\n",
       "  </tbody>\n",
       "</table>\n",
       "</div>"
      ],
      "text/plain": [
       "         patient_id  clump_thickness  cell_size_uniformity  \\\n",
       "count  6.990000e+02       698.000000            698.000000   \n",
       "mean   1.071704e+06         4.416905              3.137536   \n",
       "std    6.170957e+05         2.817673              3.052575   \n",
       "min    6.163400e+04         1.000000              1.000000   \n",
       "25%    8.706885e+05         2.000000              1.000000   \n",
       "50%    1.171710e+06         4.000000              1.000000   \n",
       "75%    1.238298e+06         6.000000              5.000000   \n",
       "max    1.345435e+07        10.000000             10.000000   \n",
       "\n",
       "       cell_shape_uniformity  marginal_adhesion  single_ep_cell_size  \\\n",
       "count             699.000000         699.000000           699.000000   \n",
       "mean                3.207439           2.793991             3.216023   \n",
       "std                 2.971913           2.843163             2.214300   \n",
       "min                 1.000000           1.000000             1.000000   \n",
       "25%                 1.000000           1.000000             2.000000   \n",
       "50%                 1.000000           1.000000             2.000000   \n",
       "75%                 5.000000           3.500000             4.000000   \n",
       "max                10.000000          10.000000            10.000000   \n",
       "\n",
       "       bland_chromatin  normal_nucleoli     mitoses  \n",
       "count       695.000000       698.000000  699.000000  \n",
       "mean          3.447482         2.868195    1.589413  \n",
       "std           2.441191         3.055647    1.715078  \n",
       "min           1.000000         1.000000    1.000000  \n",
       "25%           2.000000         1.000000    1.000000  \n",
       "50%           3.000000         1.000000    1.000000  \n",
       "75%           5.000000         4.000000    1.000000  \n",
       "max          10.000000        10.000000   10.000000  "
      ]
     },
     "execution_count": 64,
     "metadata": {},
     "output_type": "execute_result"
    }
   ],
   "source": [
    "bcd.describe()"
   ]
  },
  {
   "cell_type": "code",
   "execution_count": 65,
   "id": "a7a44481-085b-471b-b2a6-620cb4d89b3e",
   "metadata": {},
   "outputs": [
    {
     "data": {
      "text/plain": [
       "(699, 12)"
      ]
     },
     "execution_count": 65,
     "metadata": {},
     "output_type": "execute_result"
    }
   ],
   "source": [
    "bcd.shape"
   ]
  },
  {
   "cell_type": "code",
   "execution_count": 66,
   "id": "8330ce10-0856-43ae-b213-ecd13f88cdb2",
   "metadata": {},
   "outputs": [
    {
     "data": {
      "text/plain": [
       "patient_id                 int64\n",
       "clump_thickness          float64\n",
       "cell_size_uniformity     float64\n",
       "cell_shape_uniformity      int64\n",
       "marginal_adhesion          int64\n",
       "single_ep_cell_size        int64\n",
       "bare_nuclei               object\n",
       "bland_chromatin          float64\n",
       "normal_nucleoli          float64\n",
       "mitoses                    int64\n",
       "class                     object\n",
       "doctor_name               object\n",
       "dtype: object"
      ]
     },
     "execution_count": 66,
     "metadata": {},
     "output_type": "execute_result"
    }
   ],
   "source": [
    "bcd.dtypes"
   ]
  },
  {
   "cell_type": "code",
   "execution_count": 67,
   "id": "2e0b2d2c-0e6d-48a3-8ae0-49e2a9d6e236",
   "metadata": {},
   "outputs": [
    {
     "data": {
      "text/plain": [
       "patient_id               645\n",
       "clump_thickness           10\n",
       "cell_size_uniformity      10\n",
       "cell_shape_uniformity     10\n",
       "marginal_adhesion         10\n",
       "single_ep_cell_size       10\n",
       "bare_nuclei               11\n",
       "bland_chromatin           10\n",
       "normal_nucleoli           10\n",
       "mitoses                    9\n",
       "class                      2\n",
       "doctor_name                4\n",
       "dtype: int64"
      ]
     },
     "execution_count": 67,
     "metadata": {},
     "output_type": "execute_result"
    }
   ],
   "source": [
    "bcd.nunique()"
   ]
  },
  {
   "cell_type": "code",
   "execution_count": 68,
   "id": "8c5121b5-70ca-4a3d-a6f8-b07108040d03",
   "metadata": {},
   "outputs": [
    {
     "data": {
      "text/plain": [
       "Index(['patient_id', 'clump_thickness', 'cell_size_uniformity',\n",
       "       'cell_shape_uniformity', 'marginal_adhesion', 'single_ep_cell_size',\n",
       "       'bare_nuclei', 'bland_chromatin', 'normal_nucleoli', 'mitoses', 'class',\n",
       "       'doctor_name'],\n",
       "      dtype='object')"
      ]
     },
     "execution_count": 68,
     "metadata": {},
     "output_type": "execute_result"
    }
   ],
   "source": [
    "bcd.columns"
   ]
  },
  {
   "cell_type": "markdown",
   "id": "b63ccb44-5162-4358-ab62-544579877584",
   "metadata": {},
   "source": [
    "## Modifying a text column"
   ]
  },
  {
   "cell_type": "markdown",
   "id": "21836f17-de4f-4af5-8933-9105a72f82b0",
   "metadata": {},
   "source": [
    "Let's look at the column for the doctors' names:"
   ]
  },
  {
   "cell_type": "code",
   "execution_count": 99,
   "id": "7df9df58-61f7-4d19-8bd6-1767fb592e62",
   "metadata": {},
   "outputs": [
    {
     "data": {
      "text/plain": [
       "0        Dr. Doe\n",
       "1      Dr. Smith\n",
       "2        Dr. Lee\n",
       "3      Dr. Smith\n",
       "4       Dr. Wong\n",
       "         ...    \n",
       "694      Dr. Lee\n",
       "695    Dr. Smith\n",
       "696      Dr. Lee\n",
       "697      Dr. Lee\n",
       "698     Dr. Wong\n",
       "Name: doctor_name, Length: 699, dtype: object"
      ]
     },
     "execution_count": 99,
     "metadata": {},
     "output_type": "execute_result"
    }
   ],
   "source": [
    "bcd['doctor_name']"
   ]
  },
  {
   "cell_type": "markdown",
   "id": "e88d3fda-163b-4e78-a898-38de8062374f",
   "metadata": {},
   "source": [
    "The doctors' name data are redundant; each one has a \"Dr. \" in front of the actual name, but we already know these are doctors by the column name. And the entries have white space in them, which is just annoying. So let's modify this column so it only contains the actual surnames of the doctors."
   ]
  },
  {
   "cell_type": "markdown",
   "id": "c86246d5-3092-48bc-a37e-bfbf1a72de13",
   "metadata": {},
   "source": [
    "One great thing about pandas is that it has versions of many of Python's string methods that operate element-wise on column of strings. We want to separate the \"Dr. \" from the actual name, which is exactly what Python's `str.split()` function does. So chances are, pandas has a version of this function that operates element-wise on data frames."
   ]
  },
  {
   "cell_type": "markdown",
   "id": "3f5778c1-e7bd-4f05-ae53-30337556e05a",
   "metadata": {},
   "source": [
    "---"
   ]
  },
  {
   "cell_type": "markdown",
   "id": "f33f10d9-efb4-413d-a659-72526993f052",
   "metadata": {},
   "source": [
    "#### String Splitting Review:"
   ]
  },
  {
   "cell_type": "markdown",
   "id": "44175e12-1395-461e-9a80-09642db4a190",
   "metadata": {},
   "source": [
    "Let's briefly remind ourselves of splitting up Python strings and extracting bits of them."
   ]
  },
  {
   "cell_type": "code",
   "execution_count": 70,
   "id": "5b890c45-6df6-4b07-98c2-ae8c6acb04c3",
   "metadata": {},
   "outputs": [
    {
     "name": "stdout",
     "output_type": "stream",
     "text": [
      "SirString, A.\n"
     ]
    }
   ],
   "source": [
    "# Here's a string of the form: surname, first initial.\n",
    "myStr = 'SirString, A.'\n",
    "print(myStr)"
   ]
  },
  {
   "cell_type": "markdown",
   "id": "46d79476-2a1e-47a6-aa8d-763c6adf7fa5",
   "metadata": {},
   "source": [
    "Let's say we wanted to get the surname. We could split this string into a list at the white space like this:"
   ]
  },
  {
   "cell_type": "code",
   "execution_count": 71,
   "id": "eb51a5cc-03a6-4740-bfa7-ecd50fcff2cc",
   "metadata": {},
   "outputs": [
    {
     "name": "stdout",
     "output_type": "stream",
     "text": [
      "['SirString,', 'A.']\n"
     ]
    }
   ],
   "source": [
    "spltStr = myStr.split()\n",
    "print(spltStr)"
   ]
  },
  {
   "cell_type": "markdown",
   "id": "4f98b3b6-eccc-48c1-9ff8-6a69a932e899",
   "metadata": {},
   "source": [
    "We now have a list in which the items contain the text on either side of the split. This is close: the first entry in the list has the surname, but it also has an unwanted comma. \n",
    "\n",
    "Let's split the string at the comma instead:"
   ]
  },
  {
   "cell_type": "code",
   "execution_count": 72,
   "id": "92097baa-1bea-40fc-a479-97f1ad558920",
   "metadata": {},
   "outputs": [
    {
     "name": "stdout",
     "output_type": "stream",
     "text": [
      "['SirString', ' A.']\n"
     ]
    }
   ],
   "source": [
    "spltStr = myStr.split(',')   # tell Python to split at commas\n",
    "print(spltStr)"
   ]
  },
  {
   "cell_type": "markdown",
   "id": "bd38842c-f2d7-4db6-9eeb-5dc2c2579eca",
   "metadata": {},
   "source": [
    "And now we can get the surname by indexing:"
   ]
  },
  {
   "cell_type": "code",
   "execution_count": 73,
   "id": "bb6c55a2-9714-4ef0-8ffa-b4c43c861bb3",
   "metadata": {},
   "outputs": [
    {
     "name": "stdout",
     "output_type": "stream",
     "text": [
      "SirString\n"
     ]
    }
   ],
   "source": [
    "surname = spltStr[0]\n",
    "print(surname)"
   ]
  },
  {
   "cell_type": "markdown",
   "id": "9d281d1f-0939-430c-a2f5-63cf9d74e08b",
   "metadata": {},
   "source": [
    "---"
   ]
  },
  {
   "cell_type": "markdown",
   "id": "f127ac99-c2e7-442a-8576-1e7fef859336",
   "metadata": {},
   "source": [
    "See if you can extract the surname from `myStr` in one line of code:"
   ]
  },
  {
   "cell_type": "code",
   "execution_count": 74,
   "id": "94ec378a-ca0d-4772-b197-06653d503bb0",
   "metadata": {},
   "outputs": [
    {
     "name": "stdout",
     "output_type": "stream",
     "text": [
      "SirString\n"
     ]
    }
   ],
   "source": [
    "surname = myStr.split(',')[0]\n",
    "print(surname)"
   ]
  },
  {
   "cell_type": "markdown",
   "id": "63f6b393-4151-4cab-abb0-df2258fbff96",
   "metadata": {},
   "source": [
    "---"
   ]
  },
  {
   "cell_type": "markdown",
   "id": "9502f9d3-0a30-4fb0-b924-48aeb0fa955b",
   "metadata": {},
   "source": [
    "Alright, time to replace the `bcd[doctor_name]` column values with just the doctors' surnames. \n",
    "\n",
    "We could do this in one step, but let's break it out for clarity. First, let's copy the name column out into a new series."
   ]
  },
  {
   "cell_type": "code",
   "execution_count": 128,
   "id": "caaafffc-83b6-4431-9154-12a730eda973",
   "metadata": {},
   "outputs": [
    {
     "data": {
      "text/plain": [
       "0        Dr. Doe\n",
       "1      Dr. Smith\n",
       "2        Dr. Lee\n",
       "3      Dr. Smith\n",
       "4       Dr. Wong\n",
       "         ...    \n",
       "694      Dr. Lee\n",
       "695    Dr. Smith\n",
       "696      Dr. Lee\n",
       "697      Dr. Lee\n",
       "698     Dr. Wong\n",
       "Name: doctor_name, Length: 699, dtype: object"
      ]
     },
     "execution_count": 128,
     "metadata": {},
     "output_type": "execute_result"
    }
   ],
   "source": [
    "dr_names = bcd['doctor_name']\n",
    "dr_names"
   ]
  },
  {
   "cell_type": "markdown",
   "id": "91f85870-e63f-461e-9e38-a0d9c1dc2ef4",
   "metadata": {},
   "source": [
    "Now let's split all the names in the `doctor_name` column at the whitespace by using pandas `DataFrame.str.split()` function."
   ]
  },
  {
   "cell_type": "code",
   "execution_count": 129,
   "id": "1f6cf57c-d41f-446c-9943-c078584e2725",
   "metadata": {},
   "outputs": [
    {
     "data": {
      "text/plain": [
       "0        [Dr., Doe]\n",
       "1      [Dr., Smith]\n",
       "2        [Dr., Lee]\n",
       "3      [Dr., Smith]\n",
       "4       [Dr., Wong]\n",
       "           ...     \n",
       "694      [Dr., Lee]\n",
       "695    [Dr., Smith]\n",
       "696      [Dr., Lee]\n",
       "697      [Dr., Lee]\n",
       "698     [Dr., Wong]\n",
       "Name: doctor_name, Length: 699, dtype: object"
      ]
     },
     "execution_count": 129,
     "metadata": {},
     "output_type": "execute_result"
    }
   ],
   "source": [
    "split_dr_names = dr_names.str.split()\n",
    "split_dr_names"
   ]
  },
  {
   "cell_type": "markdown",
   "id": "e6271c00-8800-49df-9a4f-94860fb68ea7",
   "metadata": {
    "tags": []
   },
   "source": [
    "Now we have a column of lists, each with two elements. The first element of each list is the \"Dr. \" bit, and the second consists of the surnames we want. \n",
    "\n",
    "We can get these by using pandas string indexing, `Series.str[index]`. "
   ]
  },
  {
   "cell_type": "code",
   "execution_count": 130,
   "id": "36149555-560c-4d50-873a-8972aa931bab",
   "metadata": {},
   "outputs": [
    {
     "data": {
      "text/plain": [
       "0      hello\n",
       "1      Smith\n",
       "2        Lee\n",
       "3      Smith\n",
       "4       Wong\n",
       "       ...  \n",
       "694      Lee\n",
       "695    Smith\n",
       "696      Lee\n",
       "697      Lee\n",
       "698     Wong\n",
       "Name: doctor_name, Length: 699, dtype: object"
      ]
     },
     "execution_count": 130,
     "metadata": {},
     "output_type": "execute_result"
    }
   ],
   "source": [
    "surnames = split_dr_names.str[1]\n",
    "surnames[0] = 'hello'\n",
    "surnames"
   ]
  },
  {
   "cell_type": "code",
   "execution_count": 131,
   "id": "5ecb1934-5c05-46ab-ad23-e6433b0c3260",
   "metadata": {},
   "outputs": [],
   "source": [
    "bcd['doctor_name'] = surnames"
   ]
  },
  {
   "cell_type": "code",
   "execution_count": 132,
   "id": "b716f1bb-c600-4523-acda-5edbcd08f810",
   "metadata": {},
   "outputs": [
    {
     "data": {
      "text/plain": [
       "0      hello\n",
       "1      Smith\n",
       "2        Lee\n",
       "3      Smith\n",
       "4       Wong\n",
       "       ...  \n",
       "694      Lee\n",
       "695    Smith\n",
       "696      Lee\n",
       "697      Lee\n",
       "698     Wong\n",
       "Name: doctor_name, Length: 699, dtype: object"
      ]
     },
     "execution_count": 132,
     "metadata": {},
     "output_type": "execute_result"
    }
   ],
   "source": [
    "bcd['doctor_name']"
   ]
  },
  {
   "cell_type": "markdown",
   "id": "d5951905-3c19-4662-b718-575095a575d8",
   "metadata": {},
   "source": [
    "Success!"
   ]
  },
  {
   "cell_type": "markdown",
   "id": "456112ba-9c0e-48e8-a7ba-1c61a50e6331",
   "metadata": {},
   "source": [
    "## Dealing with missing data"
   ]
  },
  {
   "cell_type": "markdown",
   "id": "ed62fcfe-57b6-4bff-b905-989a75557963",
   "metadata": {},
   "source": [
    "### Finding missing values"
   ]
  },
  {
   "cell_type": "markdown",
   "id": "5a8b9519-8cae-4b3a-a43a-2087bd3d74ad",
   "metadata": {},
   "source": [
    "Even though this data set isn't all that large:"
   ]
  },
  {
   "cell_type": "code",
   "execution_count": 133,
   "id": "fd2db256-6b4e-46df-a303-3b6ab093db6d",
   "metadata": {},
   "outputs": [
    {
     "data": {
      "text/plain": [
       "(699, 12)"
      ]
     },
     "execution_count": 133,
     "metadata": {},
     "output_type": "execute_result"
    }
   ],
   "source": [
    "bcd.shape"
   ]
  },
  {
   "cell_type": "markdown",
   "id": "3f861b2b-2b62-4d46-9e62-3a64cdf95079",
   "metadata": {},
   "source": [
    "699 rows is lot to look through in order to find missing values by hand. "
   ]
  },
  {
   "cell_type": "markdown",
   "id": "3bf946db-5f5a-4b66-acef-4c1d6dd71b16",
   "metadata": {},
   "source": [
    "We can test for missing values using the `DataFrame.isna()` method. "
   ]
  },
  {
   "cell_type": "code",
   "execution_count": 134,
   "id": "1a3e78f1-9525-427b-b80b-e19732bd4f2e",
   "metadata": {},
   "outputs": [
    {
     "data": {
      "text/html": [
       "<div>\n",
       "<style scoped>\n",
       "    .dataframe tbody tr th:only-of-type {\n",
       "        vertical-align: middle;\n",
       "    }\n",
       "\n",
       "    .dataframe tbody tr th {\n",
       "        vertical-align: top;\n",
       "    }\n",
       "\n",
       "    .dataframe thead th {\n",
       "        text-align: right;\n",
       "    }\n",
       "</style>\n",
       "<table border=\"1\" class=\"dataframe\">\n",
       "  <thead>\n",
       "    <tr style=\"text-align: right;\">\n",
       "      <th></th>\n",
       "      <th>patient_id</th>\n",
       "      <th>clump_thickness</th>\n",
       "      <th>cell_size_uniformity</th>\n",
       "      <th>cell_shape_uniformity</th>\n",
       "      <th>marginal_adhesion</th>\n",
       "      <th>single_ep_cell_size</th>\n",
       "      <th>bare_nuclei</th>\n",
       "      <th>bland_chromatin</th>\n",
       "      <th>normal_nucleoli</th>\n",
       "      <th>mitoses</th>\n",
       "      <th>class</th>\n",
       "      <th>doctor_name</th>\n",
       "    </tr>\n",
       "  </thead>\n",
       "  <tbody>\n",
       "    <tr>\n",
       "      <th>0</th>\n",
       "      <td>False</td>\n",
       "      <td>False</td>\n",
       "      <td>False</td>\n",
       "      <td>False</td>\n",
       "      <td>False</td>\n",
       "      <td>False</td>\n",
       "      <td>False</td>\n",
       "      <td>False</td>\n",
       "      <td>False</td>\n",
       "      <td>False</td>\n",
       "      <td>False</td>\n",
       "      <td>False</td>\n",
       "    </tr>\n",
       "    <tr>\n",
       "      <th>1</th>\n",
       "      <td>False</td>\n",
       "      <td>False</td>\n",
       "      <td>False</td>\n",
       "      <td>False</td>\n",
       "      <td>False</td>\n",
       "      <td>False</td>\n",
       "      <td>False</td>\n",
       "      <td>False</td>\n",
       "      <td>False</td>\n",
       "      <td>False</td>\n",
       "      <td>False</td>\n",
       "      <td>False</td>\n",
       "    </tr>\n",
       "    <tr>\n",
       "      <th>2</th>\n",
       "      <td>False</td>\n",
       "      <td>False</td>\n",
       "      <td>False</td>\n",
       "      <td>False</td>\n",
       "      <td>False</td>\n",
       "      <td>False</td>\n",
       "      <td>False</td>\n",
       "      <td>False</td>\n",
       "      <td>False</td>\n",
       "      <td>False</td>\n",
       "      <td>False</td>\n",
       "      <td>False</td>\n",
       "    </tr>\n",
       "    <tr>\n",
       "      <th>3</th>\n",
       "      <td>False</td>\n",
       "      <td>False</td>\n",
       "      <td>False</td>\n",
       "      <td>False</td>\n",
       "      <td>False</td>\n",
       "      <td>False</td>\n",
       "      <td>False</td>\n",
       "      <td>False</td>\n",
       "      <td>False</td>\n",
       "      <td>False</td>\n",
       "      <td>False</td>\n",
       "      <td>False</td>\n",
       "    </tr>\n",
       "    <tr>\n",
       "      <th>4</th>\n",
       "      <td>False</td>\n",
       "      <td>False</td>\n",
       "      <td>False</td>\n",
       "      <td>False</td>\n",
       "      <td>False</td>\n",
       "      <td>False</td>\n",
       "      <td>False</td>\n",
       "      <td>False</td>\n",
       "      <td>False</td>\n",
       "      <td>False</td>\n",
       "      <td>False</td>\n",
       "      <td>False</td>\n",
       "    </tr>\n",
       "    <tr>\n",
       "      <th>...</th>\n",
       "      <td>...</td>\n",
       "      <td>...</td>\n",
       "      <td>...</td>\n",
       "      <td>...</td>\n",
       "      <td>...</td>\n",
       "      <td>...</td>\n",
       "      <td>...</td>\n",
       "      <td>...</td>\n",
       "      <td>...</td>\n",
       "      <td>...</td>\n",
       "      <td>...</td>\n",
       "      <td>...</td>\n",
       "    </tr>\n",
       "    <tr>\n",
       "      <th>694</th>\n",
       "      <td>False</td>\n",
       "      <td>False</td>\n",
       "      <td>False</td>\n",
       "      <td>False</td>\n",
       "      <td>False</td>\n",
       "      <td>False</td>\n",
       "      <td>False</td>\n",
       "      <td>False</td>\n",
       "      <td>False</td>\n",
       "      <td>False</td>\n",
       "      <td>False</td>\n",
       "      <td>False</td>\n",
       "    </tr>\n",
       "    <tr>\n",
       "      <th>695</th>\n",
       "      <td>False</td>\n",
       "      <td>False</td>\n",
       "      <td>False</td>\n",
       "      <td>False</td>\n",
       "      <td>False</td>\n",
       "      <td>False</td>\n",
       "      <td>False</td>\n",
       "      <td>False</td>\n",
       "      <td>False</td>\n",
       "      <td>False</td>\n",
       "      <td>False</td>\n",
       "      <td>False</td>\n",
       "    </tr>\n",
       "    <tr>\n",
       "      <th>696</th>\n",
       "      <td>False</td>\n",
       "      <td>False</td>\n",
       "      <td>False</td>\n",
       "      <td>False</td>\n",
       "      <td>False</td>\n",
       "      <td>False</td>\n",
       "      <td>False</td>\n",
       "      <td>False</td>\n",
       "      <td>False</td>\n",
       "      <td>False</td>\n",
       "      <td>False</td>\n",
       "      <td>False</td>\n",
       "    </tr>\n",
       "    <tr>\n",
       "      <th>697</th>\n",
       "      <td>False</td>\n",
       "      <td>False</td>\n",
       "      <td>False</td>\n",
       "      <td>False</td>\n",
       "      <td>False</td>\n",
       "      <td>False</td>\n",
       "      <td>False</td>\n",
       "      <td>False</td>\n",
       "      <td>False</td>\n",
       "      <td>False</td>\n",
       "      <td>False</td>\n",
       "      <td>False</td>\n",
       "    </tr>\n",
       "    <tr>\n",
       "      <th>698</th>\n",
       "      <td>False</td>\n",
       "      <td>False</td>\n",
       "      <td>False</td>\n",
       "      <td>False</td>\n",
       "      <td>False</td>\n",
       "      <td>False</td>\n",
       "      <td>False</td>\n",
       "      <td>False</td>\n",
       "      <td>False</td>\n",
       "      <td>False</td>\n",
       "      <td>False</td>\n",
       "      <td>False</td>\n",
       "    </tr>\n",
       "  </tbody>\n",
       "</table>\n",
       "<p>699 rows × 12 columns</p>\n",
       "</div>"
      ],
      "text/plain": [
       "     patient_id  clump_thickness  cell_size_uniformity  cell_shape_uniformity  \\\n",
       "0         False            False                 False                  False   \n",
       "1         False            False                 False                  False   \n",
       "2         False            False                 False                  False   \n",
       "3         False            False                 False                  False   \n",
       "4         False            False                 False                  False   \n",
       "..          ...              ...                   ...                    ...   \n",
       "694       False            False                 False                  False   \n",
       "695       False            False                 False                  False   \n",
       "696       False            False                 False                  False   \n",
       "697       False            False                 False                  False   \n",
       "698       False            False                 False                  False   \n",
       "\n",
       "     marginal_adhesion  single_ep_cell_size  bare_nuclei  bland_chromatin  \\\n",
       "0                False                False        False            False   \n",
       "1                False                False        False            False   \n",
       "2                False                False        False            False   \n",
       "3                False                False        False            False   \n",
       "4                False                False        False            False   \n",
       "..                 ...                  ...          ...              ...   \n",
       "694              False                False        False            False   \n",
       "695              False                False        False            False   \n",
       "696              False                False        False            False   \n",
       "697              False                False        False            False   \n",
       "698              False                False        False            False   \n",
       "\n",
       "     normal_nucleoli  mitoses  class  doctor_name  \n",
       "0              False    False  False        False  \n",
       "1              False    False  False        False  \n",
       "2              False    False  False        False  \n",
       "3              False    False  False        False  \n",
       "4              False    False  False        False  \n",
       "..               ...      ...    ...          ...  \n",
       "694            False    False  False        False  \n",
       "695            False    False  False        False  \n",
       "696            False    False  False        False  \n",
       "697            False    False  False        False  \n",
       "698            False    False  False        False  \n",
       "\n",
       "[699 rows x 12 columns]"
      ]
     },
     "execution_count": 134,
     "metadata": {},
     "output_type": "execute_result"
    }
   ],
   "source": [
    "bcd.isna()"
   ]
  },
  {
   "cell_type": "markdown",
   "id": "3552fad4-7bae-43fa-b570-9fd907dded99",
   "metadata": {},
   "source": [
    "By itself, that doesn't help us much. But if we combine it with summation (remember that `True` values count as 1 and `False` counts as zero):"
   ]
  },
  {
   "cell_type": "code",
   "execution_count": 135,
   "id": "90cb8212-0cd9-4f64-aa30-58401ab7578c",
   "metadata": {},
   "outputs": [
    {
     "data": {
      "text/plain": [
       "patient_id               0\n",
       "clump_thickness          1\n",
       "cell_size_uniformity     1\n",
       "cell_shape_uniformity    0\n",
       "marginal_adhesion        0\n",
       "single_ep_cell_size      0\n",
       "bare_nuclei              2\n",
       "bland_chromatin          4\n",
       "normal_nucleoli          1\n",
       "mitoses                  0\n",
       "class                    0\n",
       "doctor_name              0\n",
       "dtype: int64"
      ]
     },
     "execution_count": 135,
     "metadata": {},
     "output_type": "execute_result"
    }
   ],
   "source": [
    "bcd.isna().sum()"
   ]
  },
  {
   "cell_type": "markdown",
   "id": "286b7ce1-afe9-45d7-90a3-12df5d4114cb",
   "metadata": {},
   "source": [
    "Now we have the counts by variable, and can easly see that there are missing values for a few of the variables."
   ]
  },
  {
   "cell_type": "markdown",
   "id": "4cb6b246-6c10-4d01-a83b-3d287503ab47",
   "metadata": {},
   "source": [
    "The bland chromatin variable has the most missing values. Let's check these and make sure everything else looks normal."
   ]
  },
  {
   "cell_type": "code",
   "execution_count": 148,
   "id": "2e36591e-8545-46d2-8181-9e27778317e6",
   "metadata": {},
   "outputs": [
    {
     "data": {
      "text/html": [
       "<div>\n",
       "<style scoped>\n",
       "    .dataframe tbody tr th:only-of-type {\n",
       "        vertical-align: middle;\n",
       "    }\n",
       "\n",
       "    .dataframe tbody tr th {\n",
       "        vertical-align: top;\n",
       "    }\n",
       "\n",
       "    .dataframe thead th {\n",
       "        text-align: right;\n",
       "    }\n",
       "</style>\n",
       "<table border=\"1\" class=\"dataframe\">\n",
       "  <thead>\n",
       "    <tr style=\"text-align: right;\">\n",
       "      <th></th>\n",
       "      <th>patient_id</th>\n",
       "      <th>clump_thickness</th>\n",
       "      <th>cell_size_uniformity</th>\n",
       "      <th>cell_shape_uniformity</th>\n",
       "      <th>marginal_adhesion</th>\n",
       "      <th>single_ep_cell_size</th>\n",
       "      <th>bare_nuclei</th>\n",
       "      <th>bland_chromatin</th>\n",
       "      <th>normal_nucleoli</th>\n",
       "      <th>mitoses</th>\n",
       "      <th>class</th>\n",
       "      <th>doctor_name</th>\n",
       "    </tr>\n",
       "  </thead>\n",
       "  <tbody>\n",
       "    <tr>\n",
       "      <th>342</th>\n",
       "      <td>814265</td>\n",
       "      <td>2.0</td>\n",
       "      <td>1.0</td>\n",
       "      <td>1</td>\n",
       "      <td>1</td>\n",
       "      <td>2</td>\n",
       "      <td>1</td>\n",
       "      <td>NaN</td>\n",
       "      <td>1.0</td>\n",
       "      <td>1</td>\n",
       "      <td>benign</td>\n",
       "      <td>Lee</td>\n",
       "    </tr>\n",
       "    <tr>\n",
       "      <th>343</th>\n",
       "      <td>814911</td>\n",
       "      <td>1.0</td>\n",
       "      <td>1.0</td>\n",
       "      <td>1</td>\n",
       "      <td>1</td>\n",
       "      <td>2</td>\n",
       "      <td>1</td>\n",
       "      <td>NaN</td>\n",
       "      <td>1.0</td>\n",
       "      <td>1</td>\n",
       "      <td>benign</td>\n",
       "      <td>Doe</td>\n",
       "    </tr>\n",
       "    <tr>\n",
       "      <th>359</th>\n",
       "      <td>873549</td>\n",
       "      <td>10.0</td>\n",
       "      <td>3.0</td>\n",
       "      <td>5</td>\n",
       "      <td>4</td>\n",
       "      <td>3</td>\n",
       "      <td>7</td>\n",
       "      <td>NaN</td>\n",
       "      <td>5.0</td>\n",
       "      <td>3</td>\n",
       "      <td>malignant</td>\n",
       "      <td>Doe</td>\n",
       "    </tr>\n",
       "    <tr>\n",
       "      <th>365</th>\n",
       "      <td>897172</td>\n",
       "      <td>2.0</td>\n",
       "      <td>1.0</td>\n",
       "      <td>1</td>\n",
       "      <td>1</td>\n",
       "      <td>2</td>\n",
       "      <td>1</td>\n",
       "      <td>NaN</td>\n",
       "      <td>1.0</td>\n",
       "      <td>1</td>\n",
       "      <td>benign</td>\n",
       "      <td>Lee</td>\n",
       "    </tr>\n",
       "  </tbody>\n",
       "</table>\n",
       "</div>"
      ],
      "text/plain": [
       "    patient_id  clump_thickness  cell_size_uniformity  cell_shape_uniformity  \\\n",
       "342     814265              2.0                   1.0                      1   \n",
       "343     814911              1.0                   1.0                      1   \n",
       "359     873549             10.0                   3.0                      5   \n",
       "365     897172              2.0                   1.0                      1   \n",
       "\n",
       "     marginal_adhesion  single_ep_cell_size bare_nuclei  bland_chromatin  \\\n",
       "342                  1                    2           1              NaN   \n",
       "343                  1                    2           1              NaN   \n",
       "359                  4                    3           7              NaN   \n",
       "365                  1                    2           1              NaN   \n",
       "\n",
       "     normal_nucleoli  mitoses      class doctor_name  \n",
       "342              1.0        1     benign         Lee  \n",
       "343              1.0        1     benign         Doe  \n",
       "359              5.0        3  malignant         Doe  \n",
       "365              1.0        1     benign         Lee  "
      ]
     },
     "execution_count": 148,
     "metadata": {},
     "output_type": "execute_result"
    }
   ],
   "source": [
    "bcd[bcd['bland_chromatin'].isna()]"
   ]
  },
  {
   "cell_type": "markdown",
   "id": "1fdc9727-80f0-46d2-835c-211e1a9a7235",
   "metadata": {},
   "source": [
    "---"
   ]
  },
  {
   "cell_type": "markdown",
   "id": "640a0e96-17fa-49e5-ac98-1ebd68aa3ea9",
   "metadata": {},
   "source": [
    "In the cell below, check the rows that have missing bare nuclei values."
   ]
  },
  {
   "cell_type": "code",
   "execution_count": null,
   "id": "2d0b3fd0-2014-4218-a4ed-5c64e848109b",
   "metadata": {},
   "outputs": [],
   "source": []
  },
  {
   "cell_type": "markdown",
   "id": "66d8f26b-4979-4d61-ad95-2a47f24951dc",
   "metadata": {},
   "source": [
    "---"
   ]
  },
  {
   "cell_type": "code",
   "execution_count": 153,
   "id": "7733aa89-e924-4627-9450-a7d362689bde",
   "metadata": {
    "tags": []
   },
   "outputs": [
    {
     "data": {
      "text/plain": [
       "0      0\n",
       "462    0\n",
       "463    0\n",
       "464    0\n",
       "465    0\n",
       "      ..\n",
       "6      1\n",
       "12     1\n",
       "365    1\n",
       "342    1\n",
       "359    1\n",
       "Length: 699, dtype: int64"
      ]
     },
     "execution_count": 153,
     "metadata": {},
     "output_type": "execute_result"
    }
   ],
   "source": [
    "bcd.isna().sum(axis = 1).sort_values()"
   ]
  },
  {
   "cell_type": "code",
   "execution_count": 156,
   "id": "2bc0a305-47f2-4c59-af87-73452ab8d3c9",
   "metadata": {},
   "outputs": [
    {
     "data": {
      "text/plain": [
       "1"
      ]
     },
     "execution_count": 156,
     "metadata": {},
     "output_type": "execute_result"
    }
   ],
   "source": [
    "bcd.isna().sum(axis = 1).max()"
   ]
  },
  {
   "cell_type": "markdown",
   "id": "cecf947c-3e51-4779-9aa8-a40befee7540",
   "metadata": {},
   "source": [
    "### Dealing with missing values"
   ]
  },
  {
   "cell_type": "markdown",
   "id": "e59a0d98-eae4-4c1b-abbc-7d86bef73b06",
   "metadata": {},
   "source": [
    "Now that we have determined that there are missing values, we have to determine how to deal with them. "
   ]
  },
  {
   "cell_type": "markdown",
   "id": "40da19ec-42f6-49df-8305-aa2c1ed2e51f",
   "metadata": {},
   "source": [
    "#### Ignoring missing values elementwise"
   ]
  },
  {
   "cell_type": "markdown",
   "id": "2e6f267b-8338-49ca-ad48-39b1b03b750d",
   "metadata": {},
   "source": [
    "One way to handle missing values is just to ignore them. Most of the standard math and statisitical functions will do that by default."
   ]
  },
  {
   "cell_type": "code",
   "execution_count": 144,
   "id": "c81f5eec-11d2-4040-ab41-530ec04b5a9e",
   "metadata": {},
   "outputs": [
    {
     "data": {
      "text/plain": [
       "clump_thickness          4.416905\n",
       "cell_size_uniformity     3.137536\n",
       "cell_shape_uniformity    3.207439\n",
       "marginal_adhesion        2.793991\n",
       "single_ep_cell_size      3.216023\n",
       "bland_chromatin          3.447482\n",
       "normal_nucleoli          2.868195\n",
       "mitoses                  1.589413\n",
       "dtype: float64"
      ]
     },
     "execution_count": 144,
     "metadata": {},
     "output_type": "execute_result"
    }
   ],
   "source": [
    "bcd.mean(numeric_only = True)  # the numeric_only refers to columns, not missing values"
   ]
  },
  {
   "cell_type": "markdown",
   "id": "b6f0f8cc-8b41-459b-ad62-995171c4d70d",
   "metadata": {},
   "source": [
    "That worked, but the output is a little awkward because the patient ID is being treated as a numeric variable. We can change that:"
   ]
  },
  {
   "cell_type": "code",
   "execution_count": 143,
   "id": "943e1d78-6df6-4f7c-ac22-43c1d65371bc",
   "metadata": {},
   "outputs": [],
   "source": [
    "bcd['patient_id'] = bcd['patient_id'].astype('string')"
   ]
  },
  {
   "cell_type": "code",
   "execution_count": 158,
   "id": "cfd5b79c-f9d0-4e43-841a-be6030f50544",
   "metadata": {},
   "outputs": [
    {
     "data": {
      "text/plain": [
       "clump_thickness          4.416905\n",
       "cell_size_uniformity     3.137536\n",
       "cell_shape_uniformity    3.207439\n",
       "marginal_adhesion        2.793991\n",
       "single_ep_cell_size      3.216023\n",
       "bland_chromatin          3.447482\n",
       "normal_nucleoli          2.868195\n",
       "mitoses                  1.589413\n",
       "dtype: float64"
      ]
     },
     "execution_count": 158,
     "metadata": {},
     "output_type": "execute_result"
    }
   ],
   "source": [
    "bcd.mean(numeric_only = True)"
   ]
  },
  {
   "cell_type": "markdown",
   "id": "9b571cdb-8f35-4cb0-9118-60772e15d7d6",
   "metadata": {
    "tags": []
   },
   "source": [
    "#### Removing missing values"
   ]
  },
  {
   "cell_type": "markdown",
   "id": "b4ab879c-fea3-41eb-9fd7-570553afd3e8",
   "metadata": {},
   "source": [
    "Before we start messing around too much with the values in our data frame, let's make sure we can easily hit the reset button and get back to a nice starting point. To do this, we'll want to\n",
    "\n",
    "- reload the data\n",
    "- modify the column of Dr. names\n",
    "- set the patient ID to type str \n",
    "\n",
    "A perfect job for a function!\n"
   ]
  },
  {
   "cell_type": "code",
   "execution_count": 173,
   "id": "8d7c9c4b-07fa-4025-b37a-a88afc3657ed",
   "metadata": {},
   "outputs": [],
   "source": [
    "def hit_reset():\n",
    "    bcd = pd.read_csv('./data/breast_cancer_data.csv')\n",
    "    bcd['patient_id'] = bcd['patient_id'].astype('string')\n",
    "    bcd['doctor_name'] = bcd['doctor_name'].str.split().str[1]\n",
    "    \n",
    "    return bcd"
   ]
  },
  {
   "cell_type": "markdown",
   "id": "813ff535-3149-4bd7-8b78-fd2a3d7aef2a",
   "metadata": {
    "tags": []
   },
   "source": [
    "##### Removing rows with missing values"
   ]
  },
  {
   "cell_type": "markdown",
   "id": "d4cab3a0-b292-4dea-9edd-723cb7fddf81",
   "metadata": {},
   "source": [
    "Obviously, rows in which all values are missing won't do us any good, so we can drop them with:"
   ]
  },
  {
   "cell_type": "code",
   "execution_count": 145,
   "id": "1493c21d-b3e0-4639-a899-138b6db0eaf9",
   "metadata": {},
   "outputs": [],
   "source": [
    "bcd = bcd.dropna(how = 'all')"
   ]
  },
  {
   "cell_type": "markdown",
   "id": "dc41a254-90b6-4bce-b66c-87fa078d2105",
   "metadata": {},
   "source": [
    "This will drop rows in which *all* of the values are missing."
   ]
  },
  {
   "cell_type": "markdown",
   "id": "7b9346a5-8d30-4817-9984-8e9863cd2bc3",
   "metadata": {},
   "source": [
    "Sometimes a case can be made for throwing out all observations (rows) that are incomplete, that is, if they contain *any* missing values."
   ]
  },
  {
   "cell_type": "code",
   "execution_count": 174,
   "id": "77dc1bf1-cd21-4b15-ae9a-7ab5cfebf161",
   "metadata": {},
   "outputs": [],
   "source": [
    "bcd = bcd.dropna(how = 'any')"
   ]
  },
  {
   "cell_type": "markdown",
   "id": "cca5f34a-af52-40d7-9d59-40d0786e6414",
   "metadata": {},
   "source": [
    "---"
   ]
  },
  {
   "cell_type": "markdown",
   "id": "1644562b-eaa8-48c0-9ef0-684b39331705",
   "metadata": {},
   "source": [
    "In the cell below, check the (new) shape of `bcd`."
   ]
  },
  {
   "cell_type": "code",
   "execution_count": 175,
   "id": "178298ec-20ef-47cd-aee5-e06023b2ca56",
   "metadata": {},
   "outputs": [
    {
     "data": {
      "text/plain": [
       "(690, 12)"
      ]
     },
     "execution_count": 175,
     "metadata": {},
     "output_type": "execute_result"
    }
   ],
   "source": [
    "bcd.shape"
   ]
  },
  {
   "cell_type": "markdown",
   "id": "fb4ee441-89ca-4bb4-bafb-0945d1f041ca",
   "metadata": {},
   "source": [
    "It should have 9 fewer rows now."
   ]
  },
  {
   "cell_type": "markdown",
   "id": "26911666-bfa2-4d08-a983-1fa1d6026c63",
   "metadata": {},
   "source": [
    "---"
   ]
  },
  {
   "cell_type": "markdown",
   "id": "fef5fbbd-e188-44a5-b58b-c39b72d46238",
   "metadata": {},
   "source": [
    "And now is a perfect time to test our function! In the cell below, hit the reset button on bcd."
   ]
  },
  {
   "cell_type": "code",
   "execution_count": 179,
   "id": "7d300b45-251f-4047-b030-a8fda1910dde",
   "metadata": {},
   "outputs": [],
   "source": [
    "bcd = hit_reset()  # reset bcd data frame"
   ]
  },
  {
   "cell_type": "markdown",
   "id": "8e170786-0c81-46ac-963a-8f454928c2e6",
   "metadata": {},
   "source": [
    "Check the shape."
   ]
  },
  {
   "cell_type": "code",
   "execution_count": 180,
   "id": "0700b9ad-4227-4fdc-bb72-ee160faf029e",
   "metadata": {},
   "outputs": [
    {
     "data": {
      "text/plain": [
       "(699, 12)"
      ]
     },
     "execution_count": 180,
     "metadata": {},
     "output_type": "execute_result"
    }
   ],
   "source": [
    "bcd.shape"
   ]
  },
  {
   "cell_type": "markdown",
   "id": "6363e8de-d7e4-4544-a337-f1a8dc5519c9",
   "metadata": {},
   "source": [
    "Check the type of the id column."
   ]
  },
  {
   "cell_type": "code",
   "execution_count": 181,
   "id": "6e49526f-5c6b-4cf7-9823-b3f2c76b4a90",
   "metadata": {},
   "outputs": [
    {
     "data": {
      "text/plain": [
       "patient_id                string\n",
       "clump_thickness          float64\n",
       "cell_size_uniformity     float64\n",
       "cell_shape_uniformity      int64\n",
       "marginal_adhesion          int64\n",
       "single_ep_cell_size        int64\n",
       "bare_nuclei               object\n",
       "bland_chromatin          float64\n",
       "normal_nucleoli          float64\n",
       "mitoses                    int64\n",
       "class                     object\n",
       "doctor_name               object\n",
       "dtype: object"
      ]
     },
     "execution_count": 181,
     "metadata": {},
     "output_type": "execute_result"
    }
   ],
   "source": [
    "bcd.dtypes"
   ]
  },
  {
   "cell_type": "markdown",
   "id": "2eb32fde-73ae-47ee-9d8a-ddff5f6be7f9",
   "metadata": {},
   "source": [
    "Check the doctor name column."
   ]
  },
  {
   "cell_type": "code",
   "execution_count": 182,
   "id": "4831e33e-50c8-4cbb-b005-8868108dcf64",
   "metadata": {},
   "outputs": [
    {
     "data": {
      "text/plain": [
       "0        Doe\n",
       "1      Smith\n",
       "2        Lee\n",
       "3      Smith\n",
       "4       Wong\n",
       "       ...  \n",
       "694      Lee\n",
       "695    Smith\n",
       "696      Lee\n",
       "697      Lee\n",
       "698     Wong\n",
       "Name: doctor_name, Length: 699, dtype: object"
      ]
     },
     "execution_count": 182,
     "metadata": {},
     "output_type": "execute_result"
    }
   ],
   "source": [
    "bcd['doctor_name']"
   ]
  },
  {
   "cell_type": "markdown",
   "id": "8571a7a5-d44c-4101-b9a5-4ed1f1bb7320",
   "metadata": {},
   "source": [
    "---"
   ]
  },
  {
   "cell_type": "markdown",
   "id": "0c61f92f-9dfd-4912-83d6-dbb2d03c48a9",
   "metadata": {},
   "source": [
    "##### Removing columns with missing values"
   ]
  },
  {
   "cell_type": "markdown",
   "id": "b1727ea9-d205-4b81-ad57-e4ad80db98b1",
   "metadata": {},
   "source": [
    "And we could do the same for columns if we wished, though this is less frequently done."
   ]
  },
  {
   "cell_type": "code",
   "execution_count": 146,
   "id": "30df660b-a2e5-49a4-80f8-93121491a8ab",
   "metadata": {},
   "outputs": [],
   "source": [
    "# bcd = bcd.dropna(axis = 1, how = 'any')\n",
    "# bcd = bcd.dropna(axis = 1, how = 'all')"
   ]
  },
  {
   "cell_type": "markdown",
   "id": "2ebe7ca9-7c73-4334-879f-76f3be75dec0",
   "metadata": {},
   "source": [
    "#### Filling in missing values"
   ]
  },
  {
   "cell_type": "code",
   "execution_count": null,
   "id": "d3da77ff-bdeb-4c90-b81a-fa9c911108c6",
   "metadata": {},
   "outputs": [],
   "source": []
  }
 ],
 "metadata": {
  "kernelspec": {
   "display_name": "Python 3 (ipykernel)",
   "language": "python",
   "name": "python3"
  },
  "language_info": {
   "codemirror_mode": {
    "name": "ipython",
    "version": 3
   },
   "file_extension": ".py",
   "mimetype": "text/x-python",
   "name": "python",
   "nbconvert_exporter": "python",
   "pygments_lexer": "ipython3",
   "version": "3.8.13"
  }
 },
 "nbformat": 4,
 "nbformat_minor": 5
}
