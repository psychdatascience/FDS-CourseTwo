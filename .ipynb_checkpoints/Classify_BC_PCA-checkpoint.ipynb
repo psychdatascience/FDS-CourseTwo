{
 "cells": [
  {
   "cell_type": "markdown",
   "id": "38b08b33-e123-42d0-83bb-ed3c0f13f67d",
   "metadata": {},
   "source": [
    "# Classify BC tumors based upon PCA components"
   ]
  },
  {
   "cell_type": "markdown",
   "id": "e56a70a0-f0df-4468-8424-f015cfb5331f",
   "metadata": {},
   "source": [
    "## Import libraries"
   ]
  },
  {
   "cell_type": "code",
   "execution_count": null,
   "id": "9e846fd3-0220-4620-9a96-c7e8e92d2d1e",
   "metadata": {},
   "outputs": [],
   "source": []
  }
 ],
 "metadata": {
  "kernelspec": {
   "display_name": "Python 3 (ipykernel)",
   "language": "python",
   "name": "python3"
  },
  "language_info": {
   "codemirror_mode": {
    "name": "ipython",
    "version": 3
   },
   "file_extension": ".py",
   "mimetype": "text/x-python",
   "name": "python",
   "nbconvert_exporter": "python",
   "pygments_lexer": "ipython3",
   "version": "3.8.13"
  }
 },
 "nbformat": 4,
 "nbformat_minor": 5
}
