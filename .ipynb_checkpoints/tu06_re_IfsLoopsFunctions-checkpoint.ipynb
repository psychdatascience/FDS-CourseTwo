{
 "cells": [
  {
   "cell_type": "markdown",
   "id": "85397ef6",
   "metadata": {},
   "source": [
    "# Ifs, loops, and functions review"
   ]
  },
  {
   "cell_type": "markdown",
   "id": "6f2b1256",
   "metadata": {},
   "source": [
    "Last time, we reviewed the basic nouns of Python - objects and their types.\n",
    "\n",
    "Here, we will review dome of the basic verbs (program structures and operators) that operate on the objects. Together, these things make our programs interesting and useful."
   ]
  },
  {
   "cell_type": "markdown",
   "id": "4d775cba",
   "metadata": {},
   "source": [
    "## Conditional execution"
   ]
  },
  {
   "cell_type": "markdown",
   "id": "3952b734",
   "metadata": {},
   "source": [
    "One of the key things that makes computer programs really useful is the ability to do different things under different conditions. This is also referred to as control flow (you control the flow of your program rather than it running strictly line-by-line) or branching (your program can \"branch off\" to different code depending on conditions - *this does not refer to git branching*)\n",
    "\n",
    "As we are talking about computers here, note that all decisions are ultimately going to depend on a Boolean value; if the value is `True`, we do something, if the value is `False`, we do something else."
   ]
  },
  {
   "cell_type": "markdown",
   "id": "f4d44fbe",
   "metadata": {},
   "source": [
    "### Choosing with `if`"
   ]
  },
  {
   "cell_type": "markdown",
   "id": "5b37332e",
   "metadata": {},
   "source": [
    "The absolute workhorse for control flow in Python is the `if()` statement. Let's remind ourselves what a simple program using an `if` looks like."
   ]
  },
  {
   "cell_type": "code",
   "execution_count": null,
   "id": "6974dada",
   "metadata": {},
   "outputs": [],
   "source": [
    "nm = input(\"What's your name?\")\n",
    "\n",
    "if len(nm) < 4 :\n",
    "    print(f'Hi {nm}! That is a short name!')\n",
    "else : \n",
    "    print(f'Hi {nm}!')"
   ]
  },
  {
   "cell_type": "markdown",
   "id": "8a166c80",
   "metadata": {},
   "source": [
    "Here there is one test, the `len(nm)` following `if`. If it's `True`, we run the code beneath. If it's `False`, then we run the code beneath `else`, the ever-loyal companion to `if`."
   ]
  },
  {
   "cell_type": "markdown",
   "id": "5c2c1859",
   "metadata": {},
   "source": [
    "An `if` doesn't always need an `else`. For example, if you wanted to use rounded numbers (integers) only in a calculation, you could round the number to and `int` if you were given a `float`, but otherwise do nothing. In the cell below, write code to do just this using a lonely `if`"
   ]
  },
  {
   "cell_type": "code",
   "execution_count": null,
   "id": "0140562f",
   "metadata": {},
   "outputs": [],
   "source": [
    "a_num = 1.45 # change this to test your code\n",
    "\n",
    "# your code here\n",
    "\n",
    "num_type = type(a_num)\n",
    "print(f'The final number is {a_num} of type {num_type}')"
   ]
  },
  {
   "cell_type": "markdown",
   "id": "9aa36746",
   "metadata": {},
   "source": [
    "Another companion to `if` is `elif`, a Middle Earth contraction of 'else if'. It's used identically to `if`, except that it always follows an `if` or another `elif`. \n",
    "\n",
    "In the cell below, add an `elif` between the `if` and the `else` to modify the code so that it separately greets those with long names!"
   ]
  },
  {
   "cell_type": "code",
   "execution_count": null,
   "id": "b9ced273",
   "metadata": {},
   "outputs": [],
   "source": [
    "nm = input(\"What's your name?\")\n",
    "\n",
    "if len(nm) < 4 :\n",
    "    print(f'Hi {nm}! That is a short name!')\n",
    "else : \n",
    "    print(f'Hi {nm}!')"
   ]
  },
  {
   "cell_type": "markdown",
   "id": "28565af9",
   "metadata": {},
   "source": [
    "### trying with `try`"
   ]
  },
  {
   "cell_type": "markdown",
   "id": "4b583398",
   "metadata": {},
   "source": [
    "Because Python is a very Zen language, you might think that it has a lot in common with the Jedi ways of Yoda. Perhaps. In Python, however, there ***is*** a `try`.\n",
    "\n",
    "The `try` is used to run code that might fail. You could argue that \"code that might fail\" is the same as \"all code\", and you would have a very good point! In fact, some people write virtually all their code using a `try` (or its equivalent in other languages) at the very top. So their code looks like\n",
    "\n",
    "```\n",
    "try :\n",
    "    the entire computer program\n",
    "except:\n",
    "    print errors\n",
    "    print values of variables\n",
    "    close any open files\n",
    "    etc.\n",
    "```\n",
    "\n",
    "Normally, when Python encounters an error, it exits your code unceremoniously and prints the error with some angry red text.\n",
    "\n",
    "In the cell below, try dividing some number by 0."
   ]
  },
  {
   "cell_type": "code",
   "execution_count": null,
   "id": "0927a2fe",
   "metadata": {},
   "outputs": [],
   "source": [
    "3/0"
   ]
  },
  {
   "cell_type": "markdown",
   "id": "a8f4b241",
   "metadata": {},
   "source": [
    "In this case, we do get a clear diagnostic error – wish that were always the case! – but we get yelled at with red text and kicked out of Python. Who needs that kind of blow to their self-esteem?\n",
    "\n",
    "We can use `try` to handle the error (or \"exception\") within our code so Python doesn't kick us out, and to give the user more polite and descriptive error messages."
   ]
  },
  {
   "cell_type": "markdown",
   "id": "1b96eecf",
   "metadata": {},
   "source": [
    "Here's an example. Run it and enter a non-zero value, and then re-run it entering zero (\"0\" not \"zero\")."
   ]
  },
  {
   "cell_type": "code",
   "execution_count": null,
   "id": "4c2d01d1",
   "metadata": {},
   "outputs": [],
   "source": [
    "denom = input('Please enter a denominator to divide into 3')\n",
    "denom = float(denom)\n",
    "\n",
    "try :\n",
    "    answer = 3/denom\n",
    "    print(f'3 divided by {denom} is {answer}!')\n",
    "except :\n",
    "    print('Oops, sorry, something went wrong - did you enter a zero?')"
   ]
  },
  {
   "cell_type": "markdown",
   "id": "a5360018",
   "metadata": {},
   "source": [
    "Note that, in this case, Python didn't actually kick us out. You can prove this by printing something below the `try`&`except` blocks. Like `print('See? Still running!')` or whatever. Use the cell below to try this."
   ]
  },
  {
   "cell_type": "code",
   "execution_count": null,
   "id": "78fb6980",
   "metadata": {},
   "outputs": [],
   "source": [
    "denom = input('Please enter a denominator to divide into 3')\n",
    "denom = float(denom)\n",
    "\n",
    "try :\n",
    "    answer = 3/denom\n",
    "    print(f'3 divided by {denom} is {answer}!')\n",
    "except :\n",
    "    print('Oops, sorry, something went wrong - did you enter a zero?')\n",
    "    \n",
    "# print something here"
   ]
  },
  {
   "cell_type": "markdown",
   "id": "f835eb88",
   "metadata": {},
   "source": [
    "Now try actually entering \"zero\" in the above. What happens? Why?"
   ]
  },
  {
   "cell_type": "markdown",
   "id": "10a75f5b",
   "metadata": {},
   "source": [
    "(enter your answer here)"
   ]
  },
  {
   "cell_type": "markdown",
   "id": "99ec7068",
   "metadata": {},
   "source": [
    "You can also catch specific types of exceptions to help out even more. Here's an example:"
   ]
  },
  {
   "cell_type": "code",
   "execution_count": null,
   "id": "f8098a5a",
   "metadata": {},
   "outputs": [],
   "source": [
    "an_index = input(f'Pick a number from 1 to 4!')\n",
    "an_index = int(an_index) - 1 # turn people index to Python index\n",
    "\n",
    "denom_list = [3, 6, 0, 1]\n",
    "\n",
    "try :\n",
    "    divisor = denom_list[an_index]\n",
    "    answer = 3/divisor\n",
    "    print(f'3 divided by {divisor} is {answer}!')\n",
    "except ZeroDivisionError as divzero_err :\n",
    "    print('Oops, sorry, something went wrong - did you enter a zero?', divzero_err)\n",
    "except IndexError as ind_err :\n",
    "    print('Mmm, looks like your number wasn\\'n 1-4.', ind_err)\n",
    "except :\n",
    "    print('Oops, sorry, something went wrong and I\\'m not sure what.')"
   ]
  },
  {
   "cell_type": "markdown",
   "id": "f2d8eb00",
   "metadata": {},
   "source": [
    "Try (ha) this with some in-bounds and out-of-bounds numbers to verify it's working!"
   ]
  },
  {
   "cell_type": "markdown",
   "id": "0d5739ff",
   "metadata": {},
   "source": [
    "A few useful exceptions are:\n",
    "\n",
    "    * `IndexError` - an index is out of bounds.\n",
    "    * `KeyError` - an undefined dictionary key was used\n",
    "    * `NameError` - an undefined variable name was used\n",
    "    * `TypeError` - an operation was tried on an inappropriate type\n",
    "    "
   ]
  },
  {
   "cell_type": "markdown",
   "id": "99a56975",
   "metadata": {},
   "source": [
    "In the cell below, write a little program that catches either a name or type error (or both)."
   ]
  },
  {
   "cell_type": "code",
   "execution_count": null,
   "id": "dbf2648d",
   "metadata": {},
   "outputs": [],
   "source": []
  },
  {
   "cell_type": "markdown",
   "id": "601b4b50",
   "metadata": {},
   "source": [
    "## Repeated execution"
   ]
  },
  {
   "cell_type": "markdown",
   "id": "2c043b0e",
   "metadata": {},
   "source": [
    "Repeating a calculation, or \"looping\" (with different input of course) is absolutely fundamental to computing. In fact, the very first \"modern\" computer was built to simulate atomic explosions with different initial conditions in order to build the first atomic bombs. In this case, and in general, it is more practical and less time consuming to try things, whether by trial-and-error or a systematic search, with computer simulations than it is in real life.\n",
    "\n",
    "Repeated execution can be more mundane but useful nevertheless. For example, you might have data file from each of 2000 participants in an online experiment, and you need to extract some data from each file, compute the mean and get the age for each person, and then plot the means by age. Would you rather \n",
    "\n",
    "* manually open each file, getting the age and the data, and computing the mean\n",
    "\n",
    "or\n",
    "\n",
    "* have some code automatically chew through the files, compute each mean, and store the means and ages?\n",
    "\n",
    "If you know how to write a little code then this is, as they say, the easiest decision in the history of decisions."
   ]
  },
  {
   "cell_type": "markdown",
   "id": "3b1774f0",
   "metadata": {},
   "source": [
    "The looping functions in Python are `for` and `while`. A `for` loop executes code *for* a specific number of times, whereas `while` executes code *while* some condition is `True`."
   ]
  },
  {
   "cell_type": "markdown",
   "id": "a8df85a0",
   "metadata": {},
   "source": [
    "### Repeating a number of times with `for`"
   ]
  },
  {
   "cell_type": "markdown",
   "id": "fa2ca1df",
   "metadata": {},
   "source": [
    "We use a `for` loop under two circumstances:\n",
    "\n",
    "* we know how many times we need to do something\n",
    "* we have an *iterable* that we need to go through"
   ]
  },
  {
   "cell_type": "markdown",
   "id": "6977b0e8",
   "metadata": {},
   "source": [
    "#### Looping over a range of values"
   ]
  },
  {
   "cell_type": "markdown",
   "id": "cac06e25",
   "metadata": {},
   "source": [
    "In the first case, we'll most often use the `range` function to provide us with the indexes for our loop. Like this."
   ]
  },
  {
   "cell_type": "code",
   "execution_count": null,
   "id": "97ac3514",
   "metadata": {},
   "outputs": [],
   "source": [
    "for i in range(5) :\n",
    "    print(i)"
   ]
  },
  {
   "cell_type": "markdown",
   "id": "32863f65",
   "metadata": {},
   "source": [
    "You can also give range two arguments, which become the starting and stopping points, or three, where the third is the step."
   ]
  },
  {
   "cell_type": "code",
   "execution_count": null,
   "id": "6483bbfc",
   "metadata": {},
   "outputs": [],
   "source": [
    "for i in range(1, 11, 3) :\n",
    "    print(i)"
   ]
  },
  {
   "cell_type": "markdown",
   "id": "2cbe5998",
   "metadata": {},
   "source": [
    "In the cell below, write a `for` loop that prints the even numbers from 2 to 10."
   ]
  },
  {
   "cell_type": "code",
   "execution_count": null,
   "id": "3f613a74",
   "metadata": {},
   "outputs": [],
   "source": []
  },
  {
   "cell_type": "markdown",
   "id": "0d40d204",
   "metadata": {},
   "source": [
    "We can put it in reverse and go backwards as well! Run the code below!"
   ]
  },
  {
   "cell_type": "code",
   "execution_count": null,
   "id": "f268a1b2",
   "metadata": {},
   "outputs": [],
   "source": [
    "# countdown!\n",
    "for i in reversed(range(1,11)) :\n",
    "    print(f't minus {i} iterations to lift off!')\n",
    "\n",
    "print('')\n",
    "print('    |')\n",
    "print('   / \\\\')\n",
    "print('   | |')\n",
    "print('   | |    LIFTOFF!')\n",
    "print('   | |')\n",
    "print('  / | \\\\')      \n",
    "print('')"
   ]
  },
  {
   "cell_type": "markdown",
   "id": "c1583fe5",
   "metadata": {},
   "source": [
    "The little rocket above is an example of a \"BUAG\" or Butt Ugly ASCII Graphic. ASCII is \"American Standard Code for Information Interchange\" and is, basically, the symbols you can make with your keyboard. When a terminal was all we had, this was the only way to make pictures!"
   ]
  },
  {
   "cell_type": "markdown",
   "id": "595dc1b0",
   "metadata": {},
   "source": [
    "*Quick Quiz!* : Why does the right side of the rocket above have double backslashes in two of the `print()` statements?"
   ]
  },
  {
   "cell_type": "markdown",
   "id": "9ab62d17",
   "metadata": {},
   "source": [
    "---"
   ]
  },
  {
   "cell_type": "markdown",
   "id": "54d726b3",
   "metadata": {},
   "source": [
    "Each ASCII character has a code, and each code refers to one and only one character. The `ord()` function tells us the code for a symbol, and the `chr()` function goes the other way. Play around with the code below to see some characters and their codes."
   ]
  },
  {
   "cell_type": "code",
   "execution_count": null,
   "id": "9031b850",
   "metadata": {},
   "outputs": [],
   "source": [
    "print(ord('A'))\n",
    "print(chr(97))\n",
    "print(ord('$'))"
   ]
  },
  {
   "cell_type": "markdown",
   "id": "a68ecb5a",
   "metadata": {},
   "source": [
    "Hey, now we can use 36 as slang for \"money\"!"
   ]
  },
  {
   "cell_type": "markdown",
   "id": "36323e4a",
   "metadata": {},
   "source": [
    "---"
   ]
  },
  {
   "cell_type": "markdown",
   "id": "92d9c29a",
   "metadata": {},
   "source": [
    "When you are using a loop, it's often handy to use the `.append()` method to store things computed within the loop. As an example, let's compute and store the first 10 values of the binary sequence."
   ]
  },
  {
   "cell_type": "code",
   "execution_count": null,
   "id": "3c74f658",
   "metadata": {},
   "outputs": [],
   "source": [
    "bin_seq = [] # make an empty list\n",
    "\n",
    "for i in range(1, 11) :\n",
    "    bin_seq.append(2**i)\n",
    "\n",
    "bin_seq"
   ]
  },
  {
   "cell_type": "markdown",
   "id": "ffa76096",
   "metadata": {},
   "source": [
    "(The binary sequence tells us that 1 bit can store 2 values, 2 bits can store 4 values, etc.)"
   ]
  },
  {
   "cell_type": "markdown",
   "id": "1b262691",
   "metadata": {},
   "source": [
    "#### Looping over an iterable"
   ]
  },
  {
   "cell_type": "markdown",
   "id": "acab92c2",
   "metadata": {},
   "source": [
    "One of the fantastic things about Python is that all the multi-element data types, like lists, are capable of providing their values one-at-a-time to a `for` loop. Like this – run the code below:"
   ]
  },
  {
   "cell_type": "code",
   "execution_count": null,
   "id": "8de39425",
   "metadata": {},
   "outputs": [],
   "source": [
    "a_list = ['a', 'b', 'c']\n",
    "\n",
    "for i in a_list :\n",
    "    print(i)"
   ]
  },
  {
   "cell_type": "markdown",
   "id": "ec470a20",
   "metadata": {},
   "source": [
    "You can also iterate over a `tuple` or even a `string`. So we could have written the above code like this (run it to confirm):"
   ]
  },
  {
   "cell_type": "code",
   "execution_count": null,
   "id": "3eb6aa53",
   "metadata": {},
   "outputs": [],
   "source": [
    "a_str = 'abc'\n",
    "\n",
    "for i in a_str :\n",
    "    print(i)"
   ]
  },
  {
   "cell_type": "markdown",
   "id": "467db974",
   "metadata": {},
   "source": [
    "Let's see if we can take the alphabet and flip it backwards using a `for` loop. To do this, we'll use the `reversed()` function and a `for` loop to create a list with the elements (letters) of the alphabet in reversed order, and then, we'll use the `join` method to convert our list to a string. "
   ]
  },
  {
   "cell_type": "markdown",
   "id": "3de7e172",
   "metadata": {},
   "source": [
    "Take look through this code line-by-line. Then run it and see if it works!"
   ]
  },
  {
   "cell_type": "code",
   "execution_count": null,
   "id": "91078869",
   "metadata": {},
   "outputs": [],
   "source": [
    "alpha = 'abcdefghijklmnopqrstuvwxyz' # now I know my abc's...\n",
    "separator = '' # the string (empty in this case) to separate our list elements when using join\n",
    "backwards_alpha = [] # empty list to hold our reversed letters\n",
    "\n",
    "for i in reversed(alpha) :    # loop through the alpha string backwards\n",
    "    backwards_alpha.append(i) # add each letter to our list in turn\n",
    "\n",
    "backwards_alpha = separator.join(backwards_alpha) # make a string from our list elements\n",
    "\n",
    "print(backwards_alpha) # show off our work"
   ]
  },
  {
   "cell_type": "markdown",
   "id": "c65dee44",
   "metadata": {},
   "source": [
    "Memorize this, and you'll be able to pass the \"say the alphabet backwards\" test if you ever get pulled over by the police for impaired driving!"
   ]
  },
  {
   "cell_type": "markdown",
   "id": "3a607d9c",
   "metadata": {},
   "source": [
    "In the cell below, write a loop to find the lowercase letters in our alphabet that have an ascii code that is divisible by 3. Useful tools:\n",
    "\n",
    "* `ord()` – returns the ascii code of a character\n",
    "* `chr()` – goes the other direction; returns the character of an ascii code\n",
    "* `%` (modulo) –  returns the remainder after division.\n",
    "\n",
    "There's some partial code to get you started."
   ]
  },
  {
   "cell_type": "code",
   "execution_count": null,
   "id": "2bfbd343",
   "metadata": {},
   "outputs": [],
   "source": [
    "alpha = 'abcdefghijklmnopqrstuvwxyz'\n",
    "div_x_3_str = ''\n",
    "\n",
    "# loop through the alphabet\n",
    "for i in alpha :\n",
    "    a_code = ...                  # convert letter to ascii code\n",
    "    if (a_code ... :              # test for divisibility (is that a word?)\n",
    "        div_x_3_str = ...         # add (or not) the letter\n",
    "                      \n",
    " \n",
    "print(div_x_3_str)\n"
   ]
  },
  {
   "cell_type": "markdown",
   "id": "8b2d5495",
   "metadata": {},
   "source": [
    "I can't tell if that's a new prescription drug or a cleaning product!"
   ]
  },
  {
   "cell_type": "markdown",
   "id": "99ed4572",
   "metadata": {},
   "source": [
    "### Repeating until a condition is `True` with `while`"
   ]
  },
  {
   "cell_type": "markdown",
   "id": "e98ddb7e",
   "metadata": {},
   "source": [
    "a `while` loop runs until its test evaluates to false. Like this."
   ]
  },
  {
   "cell_type": "code",
   "execution_count": null,
   "id": "0407047c",
   "metadata": {},
   "outputs": [],
   "source": [
    "test = 1\n",
    "\n",
    "while test < 5 :\n",
    "    print(f'test value = {test}')\n",
    "    test += 1"
   ]
  },
  {
   "cell_type": "markdown",
   "id": "e5935def",
   "metadata": {},
   "source": [
    "Notice the increment operator `+=`.\n",
    "\n",
    "`*variable* += *value*` is shorthand for `*variable* = *variable* + *value*`"
   ]
  },
  {
   "cell_type": "markdown",
   "id": "47a88d85",
   "metadata": {},
   "source": [
    "A `while` loop is a bit dangerous because, if you mess up the test, it test may never evaluate to `False`, in which case the loop will run forever. This is an \"infinite loop\", and has been the bane of programmers ever since `while` loops were invented.\n",
    "\n",
    "*Useless trivia*: The street address of Apple's headquarters in Cupertino CA is \"One Infinite Loop\"."
   ]
  },
  {
   "cell_type": "markdown",
   "id": "2a8bddb7",
   "metadata": {},
   "source": [
    "We could use a while loop to keep prompting a user until they get something right."
   ]
  },
  {
   "cell_type": "code",
   "execution_count": null,
   "id": "32b452cd",
   "metadata": {},
   "outputs": [],
   "source": [
    "name = input('Please type your name.')\n",
    "pswd = '' \n",
    "\n",
    "while len(pswd) < 12 :\n",
    "    pswd = input('Please enter your new password.')\n",
    "    if len(pswd) < 12 :\n",
    "        print('Sorry, the password must be at least 12 characters')\n",
    "        \n",
    "print(f'Hey, World! {name}\\'s password is {pswd}!!!')"
   ]
  },
  {
   "cell_type": "markdown",
   "id": "6f524cf7",
   "metadata": {},
   "source": [
    "We can also add a `break` statement to exit the while loop immediately. The `break` command takes no arguments - when a `break` is encountered, the program exits the loop immediately. \n",
    "\n",
    "In the cell below, see if you can modify our little password program above to exit if the user enters a 'q'. Make sure it also says something sensible when the user quits."
   ]
  },
  {
   "cell_type": "code",
   "execution_count": null,
   "id": "5f958181",
   "metadata": {},
   "outputs": [],
   "source": [
    "name = input('Please type your name [q to quit].')\n"
   ]
  },
  {
   "cell_type": "markdown",
   "id": "c151e127",
   "metadata": {},
   "source": [
    "## Compartmentalizing and reusing code with `functions`"
   ]
  },
  {
   "cell_type": "markdown",
   "id": "b1caf100",
   "metadata": {},
   "source": [
    "In any programming language, functions are ***great***. They are the greatest thing to be invented in programming since programming itself.\n",
    "\n",
    "As you know, we use functions all the time. In this notebook, we've already used `input()`, `len()`, `print()`, `float()`, etc.\n",
    "\n",
    "Functions wrap their code in a box so you don't have to worry about it; you just have to call the function and get/use/savor the result. Consider `len()` for example. How does it count the items? How does it know how to handle lists *and* strings? My theory involves elves but, the point is, `len()` is useful, and we don't need to dig into its underlying code unless we're curious.\n",
    "\n",
    "The really great thing about functions is, as you also know, *we can write our own*.  If you know that you are going to have do the same basic thing many times over, write a function! In fact, all of us that have been \"in the biz\" for a while have large collections of functions that we have developed over the years. "
   ]
  },
  {
   "cell_type": "markdown",
   "id": "421257c6",
   "metadata": {},
   "source": [
    "Let's just remind ourselves what a function looks like:"
   ]
  },
  {
   "cell_type": "code",
   "execution_count": null,
   "id": "ee735869",
   "metadata": {},
   "outputs": [],
   "source": [
    "def foo(the_arg) :\n",
    "    print(f'The argument was {the_arg}')"
   ]
  },
  {
   "cell_type": "markdown",
   "id": "dd1b3439",
   "metadata": {},
   "source": [
    "We start with the `def` (**def**ine) keyword followed by the name of our function with any *arguments* to the function enclosed in parentheses (the parentheses are required both in defining and calling the functions, even if their are no arguments)."
   ]
  },
  {
   "cell_type": "markdown",
   "id": "105d60e0",
   "metadata": {},
   "source": [
    "Now we can call the function - just like it was any function in Python! Run the cells below to see our function in action!"
   ]
  },
  {
   "cell_type": "code",
   "execution_count": null,
   "id": "ba19c920",
   "metadata": {},
   "outputs": [],
   "source": [
    "foo('Hello! I\\'m a useless function!')"
   ]
  },
  {
   "cell_type": "code",
   "execution_count": null,
   "id": "207fadeb",
   "metadata": {},
   "outputs": [],
   "source": [
    "foo(22/7)"
   ]
  },
  {
   "cell_type": "markdown",
   "id": "fb901849",
   "metadata": {},
   "source": [
    "Hm, looks like we overshot $\\pi$ by a little!"
   ]
  },
  {
   "cell_type": "markdown",
   "id": "4b9748f4",
   "metadata": {},
   "source": [
    "Since our little function only calls `print()`, it can handle anything print can handle."
   ]
  },
  {
   "cell_type": "code",
   "execution_count": null,
   "id": "da9012cd",
   "metadata": {},
   "outputs": [],
   "source": [
    "foo(['a', 'list'])"
   ]
  },
  {
   "cell_type": "markdown",
   "id": "a7e294a3",
   "metadata": {},
   "source": [
    "Some functions, like `print()` and `foo()` are just verbs. They do something and that's it. Many functions, however, are useful in that they *return* an object. `len()`, for example, *returns* the length of the object passed to it as an argument.\n",
    "\n",
    "We return a value using the `return` keyword."
   ]
  },
  {
   "cell_type": "markdown",
   "id": "bc649868",
   "metadata": {},
   "source": [
    "Let's write a little function to compute the number needed to make the input number to it 11. Because everything should know how to go to 11!"
   ]
  },
  {
   "cell_type": "code",
   "execution_count": null,
   "id": "b0bfe7be",
   "metadata": {},
   "outputs": [],
   "source": [
    "def goToEleven(notEleven) :\n",
    "    x = 11 - notEleven\n",
    "    return x"
   ]
  },
  {
   "cell_type": "markdown",
   "id": "7e9c9093",
   "metadata": {},
   "source": [
    "Now test our function in the cell below!"
   ]
  },
  {
   "cell_type": "code",
   "execution_count": null,
   "id": "01d7c393",
   "metadata": {},
   "outputs": [],
   "source": []
  },
  {
   "cell_type": "markdown",
   "id": "6744c54b",
   "metadata": {},
   "source": [
    "Okay, let's play! Write a function `getpswd()` to get a password. It doesn't need any arguments; it should just be called and return the password after it's done its thing. So it should be called like this: `a_password = getpswd()`."
   ]
  },
  {
   "cell_type": "code",
   "execution_count": null,
   "id": "8f0107be",
   "metadata": {},
   "outputs": [],
   "source": []
  },
  {
   "cell_type": "code",
   "execution_count": null,
   "id": "04c7d98c",
   "metadata": {},
   "outputs": [],
   "source": [
    "# test your function here\n"
   ]
  }
 ],
 "metadata": {
  "kernelspec": {
   "display_name": "Python 3 (ipykernel)",
   "language": "python",
   "name": "python3"
  },
  "language_info": {
   "codemirror_mode": {
    "name": "ipython",
    "version": 3
   },
   "file_extension": ".py",
   "mimetype": "text/x-python",
   "name": "python",
   "nbconvert_exporter": "python",
   "pygments_lexer": "ipython3",
   "version": "3.8.13"
  }
 },
 "nbformat": 4,
 "nbformat_minor": 5
}
