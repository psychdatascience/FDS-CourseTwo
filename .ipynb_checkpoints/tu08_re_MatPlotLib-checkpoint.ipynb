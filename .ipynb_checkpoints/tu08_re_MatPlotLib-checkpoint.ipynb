{
 "cells": [
  {
   "cell_type": "markdown",
   "id": "975e4408",
   "metadata": {},
   "source": [
    "# Numpy and MatPlotLib"
   ]
  },
  {
   "cell_type": "markdown",
   "id": "b86d2800",
   "metadata": {},
   "source": [
    "Data really come alive when plotted. Visualizing data allows us see trends in data that would otherwise be hard to uncover. While Numpy is a great package for storing and manipulating data, it has no plotting functionality. There is a second package, MatPlotLib, that was specifically written to plot Numpy data. (This separation of functions – data storage and manipulation on the one hand and data vizualization on the other – is intentional and is good programming practice.)"
   ]
  },
  {
   "cell_type": "markdown",
   "id": "3c6dd41a",
   "metadata": {},
   "source": [
    "The first thing we'll do is import numpy and the main module of matplotlib, pyplot.\n",
    "\n",
    "Just as numpy is conventionally imported as \"np\", matplotlib.pyplot is conventionally imported as \"plt\"."
   ]
  },
  {
   "cell_type": "code",
   "execution_count": null,
   "id": "90f905eb",
   "metadata": {},
   "outputs": [],
   "source": [
    "import numpy as np\n",
    "import matplotlib.pyplot as plt"
   ]
  },
  {
   "cell_type": "markdown",
   "id": "81448013",
   "metadata": {},
   "source": [
    "## Making a basic matplotlib plot"
   ]
  },
  {
   "cell_type": "markdown",
   "id": "f379dc23",
   "metadata": {},
   "source": [
    "Let's plot a single cycle of a sine wave. We'll first make an x-axis from 0 to 2\\*pi using `np.linspace()` (Somewhat ironically, **Py**thon does not have **pi**, but numpy does!)"
   ]
  },
  {
   "cell_type": "code",
   "execution_count": null,
   "id": "3405b068",
   "metadata": {},
   "outputs": [],
   "source": [
    "x = np.linspace(0, 2*np.pi, 100)"
   ]
  },
  {
   "cell_type": "markdown",
   "id": "d2d58fe1",
   "metadata": {},
   "source": [
    "And then we'll compute the sine of x (numpy, being a numerical computing package, comes with all the goodies you would expect, such as trigonometry functions)."
   ]
  },
  {
   "cell_type": "code",
   "execution_count": null,
   "id": "a88aeee4",
   "metadata": {},
   "outputs": [],
   "source": [
    "y = np.sin(x)"
   ]
  },
  {
   "cell_type": "markdown",
   "id": "a07c8434",
   "metadata": {},
   "source": [
    "Now we can plot this with `plt.plot()`."
   ]
  },
  {
   "cell_type": "code",
   "execution_count": null,
   "id": "0b85d785",
   "metadata": {},
   "outputs": [],
   "source": [
    "plt.plot(x, y) # run me!"
   ]
  },
  {
   "cell_type": "markdown",
   "id": "9cc7de92",
   "metadata": {},
   "source": [
    "(Some people say \"pea el tea\" for `plt` but we pronounce it \"plit\" so it rhymes with \"it\" – so we can pronounce the whole thing as either \"plit plot\" or \"plit dot plot\" – we'll be saying these a lot!)."
   ]
  },
  {
   "cell_type": "markdown",
   "id": "2b062482",
   "metadata": {},
   "source": [
    "---"
   ]
  },
  {
   "cell_type": "markdown",
   "id": "f8822e24",
   "metadata": {},
   "source": [
    "Use the code cell below to plot the cosine of x."
   ]
  },
  {
   "cell_type": "code",
   "execution_count": null,
   "id": "8c6a322d",
   "metadata": {},
   "outputs": [],
   "source": []
  },
  {
   "cell_type": "markdown",
   "id": "9ca0875f",
   "metadata": {},
   "source": [
    "---"
   ]
  },
  {
   "cell_type": "markdown",
   "id": "b037fa95",
   "metadata": {},
   "source": [
    "Even though we're just playing with plotting, we should get in the habit of adding some important things. Any plot that is ever going to have eyeballs on it that don't belong to present-you needs to have, at a minimum, axis labels. These are easy to add with `plt.xlabel()`, and `plt.ylabel()`."
   ]
  },
  {
   "cell_type": "code",
   "execution_count": null,
   "id": "bec92a15",
   "metadata": {
    "scrolled": true
   },
   "outputs": [],
   "source": [
    "plt.xlabel('x (radians)')"
   ]
  },
  {
   "cell_type": "markdown",
   "id": "2e2b04b3",
   "metadata": {},
   "source": [
    "Uh oh. What happened there?\n",
    "\n",
    "In Jupyter notebooks, all plotting happens in the current code cell. So when we asked `plt` to give us an x label, `plt` shrugged and thought \"Um, okay, I guess you know what you are doing...\" Since there was no plot already created on which to put an x label, `plt` went ahead and created one for us (how nice!).\n",
    "\n",
    "Notice that `plt.plot` did the same thing above. When we requested a graph of the sine or cosine, it went ahead and created a plotting area with an x and y axis for us (an `axes` in matplotlib lingo) and then graphed our function onto it.\n",
    "\n",
    "So what we need to do is just recycle our code from above and put everything into one code cell."
   ]
  },
  {
   "cell_type": "code",
   "execution_count": null,
   "id": "b2f01dad",
   "metadata": {},
   "outputs": [],
   "source": [
    "plt.plot(x, y)\n",
    "plt.xlabel('x (radians)')"
   ]
  },
  {
   "cell_type": "markdown",
   "id": "3579864f",
   "metadata": {},
   "source": [
    "---"
   ]
  },
  {
   "cell_type": "markdown",
   "id": "446bf9a4",
   "metadata": {},
   "source": [
    "In the cell below, make the same plot with the addition of a y label and a title. \n",
    "\n",
    "(If we add an x label with `plt.xlabel()`, we'd add a title with... what?)"
   ]
  },
  {
   "cell_type": "code",
   "execution_count": null,
   "id": "e1b11fe9",
   "metadata": {},
   "outputs": [],
   "source": []
  },
  {
   "cell_type": "markdown",
   "id": "afdc5db7",
   "metadata": {},
   "source": [
    "---"
   ]
  },
  {
   "cell_type": "markdown",
   "id": "b201618d",
   "metadata": {},
   "source": [
    "We can graph more that one thing at a time just by calling `plt.plot()` multiple times. Let's put the code for everything in one cell (which is what we'll be generally doing to make \"real\" figures)."
   ]
  },
  {
   "cell_type": "code",
   "execution_count": null,
   "id": "0509fe70",
   "metadata": {},
   "outputs": [],
   "source": [
    "# plot the sine and cosine together\n",
    "\n",
    "# make the x axis\n",
    "x = np.linspace(0, 2*np.pi, 100) \n",
    "\n",
    "# compute the sin and cosine\n",
    "y = np.sin(x)\n",
    "y2 = np.cos(x)\n",
    "\n",
    "# make the plots\n",
    "plt.plot(x, y)\n",
    "plt.plot(x,y2)\n",
    "\n",
    "# annotate\n",
    "plt.xlabel('x (radians)')\n",
    "plt.ylabel('y values')\n",
    "plt.title('Trig functions!')"
   ]
  },
  {
   "cell_type": "markdown",
   "id": "fc416f7b",
   "metadata": {},
   "source": [
    "Great! Now, there is only one thing missing from this figure to make it complete. Can you figure out what one other annotation we should really have here?\n",
    "\n",
    "If you use trig a lot (like we do), you can tell at a glance which graph is the sine and which is the cosine but, if you don't, you probably can't. So, whenever we graph more than one function or more plot more than one set of data, we consider having a *legend*.\n",
    "\n",
    "Copy the code from above and paste it in the code cell below, then add a `plt.legend()` at the very bottom (note that, strictly speaking, we only needed to copy the code starting at `# make the plots` to make new plots, but we might as well keep everything together as a tidy little program).\n",
    "\n",
    "Run your code."
   ]
  },
  {
   "cell_type": "code",
   "execution_count": null,
   "id": "3c880aa0",
   "metadata": {},
   "outputs": [],
   "source": []
  },
  {
   "cell_type": "markdown",
   "id": "effd952a",
   "metadata": {},
   "source": [
    "What happened? Some complaint about \"artists\"..."
   ]
  },
  {
   "cell_type": "markdown",
   "id": "00cc25b4",
   "metadata": {},
   "source": [
    "In matplotlib, everything is ultimately an \"artist\", which just means \"a thing that knows how to draw itself\". Here, `legend()` is complaining that the artists created by `plt.plot()` don't have labels, so it doesn't know how to make a legend. Yes, the error message could have been helpful...\n",
    "\n",
    "But we can fix this by giving our sine and cosine \"artists\" labels for their work:"
   ]
  },
  {
   "cell_type": "code",
   "execution_count": null,
   "id": "9d47a48a",
   "metadata": {},
   "outputs": [],
   "source": [
    "# plot the sine and cosine together\n",
    "\n",
    "# make the x axis\n",
    "x = np.linspace(0, 2*np.pi, 100) \n",
    "\n",
    "# compute the sin and cosine\n",
    "y = np.sin(x)\n",
    "y2 = np.cos(x)\n",
    "\n",
    "# make the plots\n",
    "plt.plot(x, y, label = 'sine')\n",
    "plt.plot(x,y2, label = 'cosine')\n",
    "\n",
    "# annotate\n",
    "plt.xlabel('x (radians)')\n",
    "plt.ylabel('y values')\n",
    "plt.title('Trig functions!')\n",
    "plt.legend()"
   ]
  },
  {
   "cell_type": "markdown",
   "id": "9796cd95",
   "metadata": {},
   "source": [
    "And a legend is born."
   ]
  },
  {
   "cell_type": "markdown",
   "id": "2fd65ecb",
   "metadata": {},
   "source": [
    "Now we have a figure that checks all the boxes in that it has\n",
    "\n",
    "* x and y axis labels\n",
    "* a title\n",
    "* a legend so we can tell what is what"
   ]
  },
  {
   "cell_type": "markdown",
   "id": "42df898a",
   "metadata": {},
   "source": [
    "---"
   ]
  },
  {
   "cell_type": "markdown",
   "id": "5d3f0b51",
   "metadata": {},
   "source": [
    "## Modifying line and point appearance."
   ]
  },
  {
   "cell_type": "markdown",
   "id": "2ad69061",
   "metadata": {},
   "source": [
    "The matplotlib package makes it fairly easy to alter the appearance of lines and points."
   ]
  },
  {
   "cell_type": "markdown",
   "id": "68780f2f",
   "metadata": {},
   "source": [
    "First, let's make a basic figure with some simulated data and a candidate function for the data."
   ]
  },
  {
   "cell_type": "code",
   "execution_count": 110,
   "id": "dd38994e",
   "metadata": {},
   "outputs": [],
   "source": [
    "# make some simulated data\n",
    "dat_x = [0, 1, 2, 3, 4, 5, 6]\n",
    "dat_y = np.sin(dat_x) + 0.25*np.random.randn(len(dat_x))\n",
    "\n",
    "# make the fitting function\n",
    "x = np.linspace(0, 2*np.pi, 100) \n",
    "# compute the sine\n",
    "y = np.sin(x)"
   ]
  },
  {
   "cell_type": "markdown",
   "id": "054fc323",
   "metadata": {},
   "source": [
    "Now let's plot these letting matplotlib pick the default appearance."
   ]
  },
  {
   "cell_type": "code",
   "execution_count": null,
   "id": "e3b4f789",
   "metadata": {},
   "outputs": [],
   "source": [
    "plt.plot(dat_x, dat_y)\n",
    "plt.plot(x, y)"
   ]
  },
  {
   "cell_type": "markdown",
   "id": "6ddfd8e3",
   "metadata": {},
   "source": [
    "---"
   ]
  },
  {
   "cell_type": "markdown",
   "id": "3970cd87",
   "metadata": {},
   "source": [
    "There are some key elements that this figure are missing, as covered above, so use the code cell below to make a figure with those added."
   ]
  },
  {
   "cell_type": "code",
   "execution_count": null,
   "id": "b29028ee",
   "metadata": {},
   "outputs": [],
   "source": []
  },
  {
   "cell_type": "markdown",
   "id": "69e33040",
   "metadata": {},
   "source": [
    "---"
   ]
  },
  {
   "cell_type": "markdown",
   "id": "31e47313",
   "metadata": {},
   "source": [
    "So far so good, but we can do better. The data are sparse – they're only 7 points or so – and they are a bit noisy. So let's let them be points, and make them blue. \n",
    "\n",
    "Just run the code and we can worry about labels and such in a bit."
   ]
  },
  {
   "cell_type": "code",
   "execution_count": null,
   "id": "d9561a66",
   "metadata": {},
   "outputs": [],
   "source": [
    "plt.plot(dat_x, dat_y, 'bo')\n",
    "plt.plot(x, y)"
   ]
  },
  {
   "cell_type": "markdown",
   "id": "82169195",
   "metadata": {},
   "source": [
    "This is much better. We have individual data points that almost say out loud \"Here's a small sample of data\" and a continuous line that says \"Here's a smooth function that might describe the data pretty well.\""
   ]
  },
  {
   "cell_type": "markdown",
   "id": "7eb95288",
   "metadata": {},
   "source": [
    "The 'ob' in quotes is a *format string* for plots. This one says \"I want my data plotted as blue (the 'b') circles (the 'o').\n",
    "\n",
    "The general format for these format strings is `[color][marker][line]` but any can be omitted. Here are some common ones:\n",
    "\n",
    "* colors: `b`, `g`, `r`, `c`, `m`, `y`, `k`\n",
    "* markers: `.` , `o`, `+`, `x`, `*`, `D`\n",
    "* lines: `-` , `--` , `-.` , `:`"
   ]
  },
  {
   "cell_type": "markdown",
   "id": "23c354fe",
   "metadata": {},
   "source": [
    "Here's a secret: you can generally put the elements of the format string in any order you want. One less thing to remember!"
   ]
  },
  {
   "cell_type": "markdown",
   "id": "59f8a4c4",
   "metadata": {},
   "source": [
    "You can also play around with things like the size of the markers, width of the lines, and transparency (\"alpha\" in computer graphics lingo)."
   ]
  },
  {
   "cell_type": "code",
   "execution_count": null,
   "id": "2cf6e94c",
   "metadata": {},
   "outputs": [],
   "source": [
    "plt.plot(dat_x, dat_y, 'bo', markersize = 10)\n",
    "plt.plot(x, y, linewidth = 5, alpha = 0.3)"
   ]
  },
  {
   "cell_type": "markdown",
   "id": "452269f9",
   "metadata": {},
   "source": [
    "You can find more information on what markers, lines, and colors are available and other tips and tricks [here](https://matplotlib.org/stable/api/_as_gen/matplotlib.pyplot.plot.html)."
   ]
  },
  {
   "cell_type": "markdown",
   "id": "48ce00e6",
   "metadata": {},
   "source": [
    "---"
   ]
  },
  {
   "cell_type": "markdown",
   "id": "db5255a4",
   "metadata": {},
   "source": [
    "Use the code cells below to make three plots with different markers, lines, etc. Make sure to add axis labels and legends."
   ]
  },
  {
   "cell_type": "code",
   "execution_count": null,
   "id": "024ddfee",
   "metadata": {},
   "outputs": [],
   "source": []
  },
  {
   "cell_type": "code",
   "execution_count": null,
   "id": "9b722451",
   "metadata": {},
   "outputs": [],
   "source": []
  },
  {
   "cell_type": "code",
   "execution_count": null,
   "id": "6a76e2be",
   "metadata": {},
   "outputs": [],
   "source": []
  },
  {
   "cell_type": "markdown",
   "id": "6597049d",
   "metadata": {},
   "source": [
    "---"
   ]
  },
  {
   "cell_type": "markdown",
   "id": "6dd8e3f0",
   "metadata": {},
   "source": [
    "## Some basic plot types"
   ]
  },
  {
   "cell_type": "markdown",
   "id": "93104872",
   "metadata": {},
   "source": [
    "Some basic plot types in matplotlib are \n",
    "\n",
    "* *histograms* – the distributions of a single variable\n",
    "* *line plots* – two variables with the x axis in numerical order\n",
    "* *scatterplots* – two variables with potentially more mapped to color and or size"
   ]
  },
  {
   "cell_type": "markdown",
   "id": "9b8cd422",
   "metadata": {},
   "source": [
    "### histograms "
   ]
  },
  {
   "cell_type": "markdown",
   "id": "dcb134f9",
   "metadata": {},
   "source": [
    "Here's an example of plotting a histogram."
   ]
  },
  {
   "cell_type": "code",
   "execution_count": null,
   "id": "13ddd2d1",
   "metadata": {},
   "outputs": [],
   "source": [
    "data = np.random.randn(128)\n",
    "plt.hist(data, bins = 16, color = 'r', edgecolor = 'k', alpha = 0.2)"
   ]
  },
  {
   "cell_type": "markdown",
   "id": "94bbb556",
   "metadata": {},
   "source": [
    "Sometimes, a plot command outputs some annoying text on top of our plot. We can suppress it with a semicolon at the end of the command. Go back up to the above cell and re-run it with the semicolon after the `plt.hist()` command.\n",
    "\n",
    "Ah! So much better!"
   ]
  },
  {
   "cell_type": "markdown",
   "id": "e2fdbc30",
   "metadata": {},
   "source": [
    "---"
   ]
  },
  {
   "cell_type": "markdown",
   "id": "bb1e935e",
   "metadata": {},
   "source": [
    "Play around with the `bins` parameter for the above plot. Use the cells below to make histograms that you think have 1) to few bins, 2) to many bins and, 3) a Goldilocks number of bins."
   ]
  },
  {
   "cell_type": "code",
   "execution_count": null,
   "id": "884d650b",
   "metadata": {},
   "outputs": [],
   "source": []
  },
  {
   "cell_type": "code",
   "execution_count": null,
   "id": "ad65ce52",
   "metadata": {},
   "outputs": [],
   "source": []
  },
  {
   "cell_type": "code",
   "execution_count": null,
   "id": "da700a90",
   "metadata": {},
   "outputs": [],
   "source": []
  },
  {
   "cell_type": "markdown",
   "id": "21da5c88",
   "metadata": {},
   "source": [
    "---"
   ]
  },
  {
   "cell_type": "markdown",
   "id": "3b2f72ba",
   "metadata": {},
   "source": [
    "### \"plots\" (line plots)"
   ]
  },
  {
   "cell_type": "markdown",
   "id": "935c5c25",
   "metadata": {},
   "source": [
    "We've already played with line plots a bit – these are generated by `plt.plot()`."
   ]
  },
  {
   "cell_type": "markdown",
   "id": "c1886d93",
   "metadata": {},
   "source": [
    "The plot below (after you run the code cell) is technically a \"line plot\". It's so named because, even if they're not, the data points *could* be connected with an interpolating line."
   ]
  },
  {
   "cell_type": "code",
   "execution_count": null,
   "id": "f09265c4",
   "metadata": {},
   "outputs": [],
   "source": [
    "plt.plot(dat_x, dat_y, 'ro')"
   ]
  },
  {
   "cell_type": "markdown",
   "id": "fc7d7833",
   "metadata": {},
   "source": [
    "Like this."
   ]
  },
  {
   "cell_type": "code",
   "execution_count": null,
   "id": "cb6e61d3",
   "metadata": {
    "scrolled": true
   },
   "outputs": [],
   "source": [
    "dat_x = [0, 1, 2, 3, 4, 5, 6] # same as above\n",
    "dat_y = np.sin(dat_x) + 0.25*np.random.randn(len(dat_x))\n",
    "\n",
    "plt.plot(dat_x, dat_y, 'bo--', markersize = 10);"
   ]
  },
  {
   "cell_type": "markdown",
   "id": "d56d4c19",
   "metadata": {},
   "source": [
    "But now let's see what happens when the x values are not ordered."
   ]
  },
  {
   "cell_type": "code",
   "execution_count": null,
   "id": "df5453ec",
   "metadata": {},
   "outputs": [],
   "source": [
    "dat_x = [0, 3, 2, 1, 4, 6, 5]\n",
    "dat_y = np.sin(dat_x) + 0.25*np.random.randn(len(dat_x))\n",
    "\n",
    "plt.plot(dat_x, dat_y, 'bo--', markersize = 10);"
   ]
  },
  {
   "cell_type": "markdown",
   "id": "f8431a62",
   "metadata": {},
   "source": [
    "Hm. Yea, not good. Let's re-plot with the code below."
   ]
  },
  {
   "cell_type": "code",
   "execution_count": null,
   "id": "cfc12f9d",
   "metadata": {
    "scrolled": true
   },
   "outputs": [],
   "source": [
    "plt.plot(dat_x, dat_y, 'bo', markersize = 10);\n",
    "plt.plot(x, y, linewidth = 5, alpha = 0.3)"
   ]
  },
  {
   "cell_type": "markdown",
   "id": "da341082",
   "metadata": {},
   "source": [
    "We can see that a sine is still a pretty good description of the data, but the line connecting the data points in the plot before it was very misleading because it connected the dots in the order that the data were listed."
   ]
  },
  {
   "cell_type": "markdown",
   "id": "f892cef5",
   "metadata": {},
   "source": [
    "### scatterplots"
   ]
  },
  {
   "cell_type": "markdown",
   "id": "7967706c",
   "metadata": {},
   "source": [
    "Scatter plots are like line plots in that they plot one variable on the y axis against another variable on the x axis. They don't offer an option to connect the points with a line. But, unlike line plots, *scatterplots allow you to map other variables onto the size or color of the points*."
   ]
  },
  {
   "cell_type": "markdown",
   "id": "fe7a66d7",
   "metadata": {},
   "source": [
    "Here's a scatterplot of totally random data showing how variables can be used to change color and size. Inside the `plt.scatter()` function, the `s` and `c` parameters are used to set the sizes and colors of the data points."
   ]
  },
  {
   "cell_type": "code",
   "execution_count": null,
   "id": "5d31d764",
   "metadata": {
    "scrolled": true
   },
   "outputs": [],
   "source": [
    "my_x = np.random.randn(50) # normally distributed x\n",
    "my_y = np.random.randn(50) # and y\n",
    "my_sizes = 500 * np.random.rand(50) # random sizes\n",
    "my_colors = np.random.rand(50) #  colormap numbers 0 to 1\n",
    "\n",
    "plt.scatter(my_x, my_y, s = my_sizes, c = my_colors, alpha = 0.2)"
   ]
  },
  {
   "cell_type": "markdown",
   "id": "411529bb",
   "metadata": {},
   "source": [
    "You can use different colormaps to map the data to various colors using the `cmap` parameter."
   ]
  },
  {
   "cell_type": "code",
   "execution_count": null,
   "id": "786d9189",
   "metadata": {
    "scrolled": true
   },
   "outputs": [],
   "source": [
    "my_x = np.random.randn(50) # normally distributed x\n",
    "my_y = np.random.randn(50) # and y\n",
    "my_sizes = 500 * np.random.rand(50) # random sizes\n",
    "my_colors = np.random.rand(50) #  colormap numbers 0 to 1\n",
    "\n",
    "plt.scatter(my_x, my_y, s = my_sizes, c = my_colors, alpha = 0.2, cmap = 'copper')"
   ]
  },
  {
   "cell_type": "markdown",
   "id": "65bd1d53",
   "metadata": {},
   "source": [
    "You can check out the different built-in colormaps [here](https://matplotlib.org/stable/tutorials/colors/colormaps.html)."
   ]
  },
  {
   "cell_type": "markdown",
   "id": "ec0c8f70",
   "metadata": {},
   "source": [
    "---"
   ]
  },
  {
   "cell_type": "markdown",
   "id": "89d68b95",
   "metadata": {},
   "source": [
    "Play around with some different colormaps and show us a scatterplot using your favorite."
   ]
  },
  {
   "cell_type": "code",
   "execution_count": null,
   "id": "c7128801",
   "metadata": {},
   "outputs": [],
   "source": []
  },
  {
   "cell_type": "markdown",
   "id": "45757e94",
   "metadata": {},
   "source": [
    "---"
   ]
  },
  {
   "cell_type": "markdown",
   "id": "0ef4ada5",
   "metadata": {},
   "source": [
    "As another little example, here are some toy data on the leg length of 9 dogs, the body length of the same dogs, and a third variable coding the breed."
   ]
  },
  {
   "cell_type": "code",
   "execution_count": null,
   "id": "ffcd5db7",
   "metadata": {},
   "outputs": [],
   "source": [
    "leg_len = np.array([15, 13, 17, 20, 25, 28, 14, 12, 16])\n",
    "body_len = np.array([29, 27, 32, 35, 41, 44, 40, 33, 45])\n",
    "breed = np.array([0, 0, 0, 1, 1, 1, 2, 2, 2])"
   ]
  },
  {
   "cell_type": "code",
   "execution_count": null,
   "id": "7996efc0",
   "metadata": {},
   "outputs": [],
   "source": [
    "plt.plot(body_len, leg_len)"
   ]
  },
  {
   "cell_type": "markdown",
   "id": "54809f8a",
   "metadata": {},
   "source": [
    "Hm, well, that's not very useful. \n",
    "\n",
    "Let's give it another go with a scatter plot, mapping the breed variable to data point color."
   ]
  },
  {
   "cell_type": "code",
   "execution_count": null,
   "id": "781f0251",
   "metadata": {},
   "outputs": [],
   "source": [
    "plt.scatter(body_len, leg_len, c = breed/2, s = 80, cmap = 'jet')\n",
    "plt.xlabel('body length (cm)')\n",
    "plt.ylabel('leg length (cm)')\n",
    "plt.title('Spot the Dachshunds!')"
   ]
  },
  {
   "cell_type": "markdown",
   "id": "b4f15f2e",
   "metadata": {},
   "source": [
    "Okay, now it seems pretty clear that two of the breeds fall on a single trend line relating leg length to body length, whereas another breed is on a different line altogether.\n",
    "\n",
    "We can make this more clear by adding a diagonal reference line to the plot."
   ]
  },
  {
   "cell_type": "code",
   "execution_count": null,
   "id": "47554c37",
   "metadata": {
    "scrolled": true
   },
   "outputs": [],
   "source": [
    "plt.scatter(body_len, leg_len, c = breed/2, s = 80, cmap = 'jet')\n",
    "\n",
    "# add a reference line\n",
    "x_ref_line = np.linspace(27, 45) # x value endpoints\n",
    "y_ref_line = x_ref_line/1.2 - 9  # y calculated using \"by-hand\" slope and y-int estimates\n",
    "plt.plot(x_ref_line, y_ref_line)\n",
    "plt.xlabel('body length (cm)')\n",
    "plt.ylabel('leg length (cm)')\n",
    "plt.title('Spot the Dachshunds!')"
   ]
  },
  {
   "cell_type": "markdown",
   "id": "7ac18ebe",
   "metadata": {},
   "source": [
    "---"
   ]
  },
  {
   "cell_type": "markdown",
   "id": "dc3c3635",
   "metadata": {},
   "source": [
    "In the cell below, see if you can add a second reference line to the doggy plot to capture the Dachshund data."
   ]
  },
  {
   "cell_type": "code",
   "execution_count": null,
   "id": "e6f1e3fc",
   "metadata": {},
   "outputs": [],
   "source": []
  },
  {
   "cell_type": "markdown",
   "id": "2454e266",
   "metadata": {},
   "source": [
    "---"
   ]
  },
  {
   "cell_type": "markdown",
   "id": "076c30d5",
   "metadata": {},
   "source": [
    "## Anatomy of a plot"
   ]
  },
  {
   "cell_type": "markdown",
   "id": "bfe5c490",
   "metadata": {},
   "source": [
    "Trust us, understanding how matplotlib creates figures will save you a lot of time and aggravation in the long run! The basic anatomy of a matplotlib plot is shown in the first figure."
   ]
  },
  {
   "cell_type": "markdown",
   "id": "eab9ad17",
   "metadata": {},
   "source": [
    "![matplotlib anatomy](images/matplotlibFigAnatomy.png)"
   ]
  },
  {
   "cell_type": "markdown",
   "id": "e10e03ec",
   "metadata": {},
   "source": [
    "As we mentioned above, everything is an \"artist\". Some artists are \"containers\" because they contain other things, and some are \"primitives\" that draw themselves inside containers. "
   ]
  },
  {
   "cell_type": "markdown",
   "id": "5641558d",
   "metadata": {},
   "source": [
    "The containers are \n",
    "\n",
    "* **figures** - figures contain 1 or more axes\n",
    "* **axes** - axes contain an x axis, a y axis, and your curves, data points, etc.\n",
    "* **axis** - an axis contains tick labels and tick marks"
   ]
  },
  {
   "cell_type": "markdown",
   "id": "c5ce9e6a",
   "metadata": {},
   "source": [
    "The \"primitives\" here are the \n",
    "\n",
    "* **Line2D** - the line plotting the sine wave (inside an axes)\n",
    "* **annotations** - x and y axis labels and title (inside an axes)"
   ]
  },
  {
   "cell_type": "markdown",
   "id": "dbddd33d",
   "metadata": {},
   "source": [
    "Let's make a few of these things "
   ]
  },
  {
   "cell_type": "code",
   "execution_count": null,
   "id": "58b94858",
   "metadata": {
    "scrolled": true
   },
   "outputs": [],
   "source": [
    "my_fig = plt.figure()"
   ]
  },
  {
   "cell_type": "markdown",
   "id": "456223a2",
   "metadata": {},
   "source": [
    "Well, that wasn't very exciting. It seems a figure was created in memory, but nothing is being displayed. This is actually just an oddity of Jupyter notebooks. If you do this in iPython at the terminal or in IDLE and do a plt.show(), a blank figure will appear.\n",
    "\n",
    "Let's add an axes inside of it. Even though we don't usually do it this way, figures know how to make and draw axes inside of themselves. Don't worry about the arguments to `subplot()` just yet."
   ]
  },
  {
   "cell_type": "code",
   "execution_count": null,
   "id": "7584bd23",
   "metadata": {
    "scrolled": true
   },
   "outputs": [],
   "source": [
    "my_fig = plt.figure()\n",
    "my_ax = my_fig.add_subplot(1,1,1)"
   ]
  },
  {
   "cell_type": "markdown",
   "id": "61efb762",
   "metadata": {},
   "source": [
    "Once we have an axes, we can plot stuff in it:"
   ]
  },
  {
   "cell_type": "code",
   "execution_count": null,
   "id": "66ad0699",
   "metadata": {},
   "outputs": [],
   "source": [
    "my_fig = plt.figure()\n",
    "my_ax = my_fig.add_subplot(1,1,1)\n",
    "my_ax.plot(x, y, label = 'sine')"
   ]
  },
  {
   "cell_type": "markdown",
   "id": "49f1cf1d",
   "metadata": {},
   "source": [
    "---"
   ]
  },
  {
   "cell_type": "markdown",
   "id": "2fa7e8ce",
   "metadata": {},
   "source": [
    "In this markdown cell, list the \"artists\" in this thing we just created above."
   ]
  },
  {
   "cell_type": "markdown",
   "id": "3aec022e",
   "metadata": {},
   "source": [
    "---"
   ]
  },
  {
   "cell_type": "markdown",
   "id": "d80cbb51",
   "metadata": {},
   "source": [
    "## Multi-panel figures"
   ]
  },
  {
   "cell_type": "markdown",
   "id": "ffdfdb6d",
   "metadata": {},
   "source": [
    "We often want to display more than on graphic (or 'axes' in matplotlib terms) in a single figure. In general, these are referred to as \"multi-panel figures\" and the panels are referred to as \"subplots\"."
   ]
  },
  {
   "cell_type": "markdown",
   "id": "d3d71555",
   "metadata": {},
   "source": [
    "In the section above, we created a figure, made the figure create an axes inside of itself, and then made the axes plot the graph to illustrate the hierarchy. Alternatively, we make `plt` handle the figure and axes creation for us with its `subplot()` method."
   ]
  },
  {
   "cell_type": "code",
   "execution_count": null,
   "id": "c70e20e3",
   "metadata": {},
   "outputs": [],
   "source": [
    "plt.subplot(2,2,1)\n",
    "plt.plot(x, y, label = 'sine')\n",
    "plt.subplot(2,2,4)\n",
    "plt.plot(x, y2, label = 'cosine')"
   ]
  },
  {
   "cell_type": "markdown",
   "id": "1567c62d",
   "metadata": {},
   "source": [
    "---"
   ]
  },
  {
   "cell_type": "markdown",
   "id": "ec30d5d4",
   "metadata": {},
   "source": [
    "In the cell below, recreate the figure above with the sum and difference of the sine and cosine in the remaining two cells, and put a title on each panel (i.e. subplot, i.e. \"axes\")."
   ]
  },
  {
   "cell_type": "code",
   "execution_count": null,
   "id": "f31ccb16",
   "metadata": {},
   "outputs": [],
   "source": []
  },
  {
   "cell_type": "markdown",
   "id": "7ca12316",
   "metadata": {},
   "source": [
    "---"
   ]
  },
  {
   "cell_type": "markdown",
   "id": "3b29bd15",
   "metadata": {},
   "source": [
    "Fancier arrangements are possible, but we'll leave it here for now."
   ]
  },
  {
   "cell_type": "code",
   "execution_count": null,
   "id": "515194d9",
   "metadata": {},
   "outputs": [],
   "source": []
  }
 ],
 "metadata": {
  "kernelspec": {
   "display_name": "Python 3 (ipykernel)",
   "language": "python",
   "name": "python3"
  },
  "language_info": {
   "codemirror_mode": {
    "name": "ipython",
    "version": 3
   },
   "file_extension": ".py",
   "mimetype": "text/x-python",
   "name": "python",
   "nbconvert_exporter": "python",
   "pygments_lexer": "ipython3",
   "version": "3.8.13"
  }
 },
 "nbformat": 4,
 "nbformat_minor": 5
}
