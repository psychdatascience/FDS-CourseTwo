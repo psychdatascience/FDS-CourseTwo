{
 "cells": [
  {
   "cell_type": "code",
   "execution_count": null,
   "id": "16d99e60-98ff-4299-a55b-23a65a1c0f79",
   "metadata": {},
   "outputs": [],
   "source": []
  },
  {
   "cell_type": "markdown",
   "id": "5b31c0f8-0601-430e-967e-cc592d02e0cd",
   "metadata": {},
   "source": [
    "### Duplicate entries"
   ]
  },
  {
   "cell_type": "code",
   "execution_count": null,
   "id": "1d3b4c32-d019-47c6-a0d3-24468f4e2d39",
   "metadata": {},
   "outputs": [],
   "source": [
    "bcd.nunique()"
   ]
  },
  {
   "cell_type": "markdown",
   "id": "917763ac-a3d8-4dac-9b66-1dc8598891bb",
   "metadata": {},
   "source": [
    "### Combining multiple files"
   ]
  },
  {
   "cell_type": "code",
   "execution_count": null,
   "id": "068bfdf2-d17a-410b-af51-dd2c3c9aa284",
   "metadata": {},
   "outputs": [],
   "source": []
  }
 ],
 "metadata": {
  "kernelspec": {
   "display_name": "Python 3 (ipykernel)",
   "language": "python",
   "name": "python3"
  },
  "language_info": {
   "codemirror_mode": {
    "name": "ipython",
    "version": 3
   },
   "file_extension": ".py",
   "mimetype": "text/x-python",
   "name": "python",
   "nbconvert_exporter": "python",
   "pygments_lexer": "ipython3",
   "version": "3.8.12"
  }
 },
 "nbformat": 4,
 "nbformat_minor": 5
}
