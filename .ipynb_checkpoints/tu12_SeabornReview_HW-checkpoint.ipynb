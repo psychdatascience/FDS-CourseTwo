{
 "cells": [
  {
   "cell_type": "markdown",
   "id": "35629604",
   "metadata": {},
   "source": [
    "Write a function that uses `seaborn` to visualize data as we need it!\n",
    "\n",
    "To flex both our plotting and function writing muscles, let's write a function to do some plotting! Your function should:\n",
    "\n",
    "* take as input a data frame as produced by the function above\n",
    "* allow the user to choose between a strip, violin, or box plot\n",
    "* set one of the above three be the default\n",
    "* have a docstr so users can get help() on it\n",
    "* produce the plot requested by the user (of course!)\n",
    "* provide a meanignful help"
   ]
  },
  {
   "cell_type": "markdown",
   "id": "0050f247",
   "metadata": {},
   "source": [
    "Write function"
   ]
  },
  {
   "cell_type": "code",
   "execution_count": null,
   "id": "787191bb",
   "metadata": {},
   "outputs": [],
   "source": []
  },
  {
   "cell_type": "markdown",
   "id": "60df2b45",
   "metadata": {},
   "source": [
    "Get help on function"
   ]
  },
  {
   "cell_type": "code",
   "execution_count": null,
   "id": "c7e9ad3d",
   "metadata": {},
   "outputs": [],
   "source": []
  },
  {
   "cell_type": "markdown",
   "id": "40068c63",
   "metadata": {},
   "source": [
    "run function"
   ]
  },
  {
   "cell_type": "code",
   "execution_count": null,
   "id": "57d3bdb7",
   "metadata": {},
   "outputs": [],
   "source": []
  }
 ],
 "metadata": {
  "kernelspec": {
   "display_name": "Python 3 (ipykernel)",
   "language": "python",
   "name": "python3"
  },
  "language_info": {
   "codemirror_mode": {
    "name": "ipython",
    "version": 3
   },
   "file_extension": ".py",
   "mimetype": "text/x-python",
   "name": "python",
   "nbconvert_exporter": "python",
   "pygments_lexer": "ipython3",
   "version": "3.8.13"
  }
 },
 "nbformat": 4,
 "nbformat_minor": 5
}
