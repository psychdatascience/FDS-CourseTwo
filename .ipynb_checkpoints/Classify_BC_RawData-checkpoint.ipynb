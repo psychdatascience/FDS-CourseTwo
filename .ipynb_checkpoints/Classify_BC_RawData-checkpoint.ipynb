{
 "cells": [
  {
   "cell_type": "markdown",
   "id": "cd82d2d5-08e9-47ca-be33-2459b20f352a",
   "metadata": {},
   "source": [
    "# Classify BC tumors based upon measured variables"
   ]
  },
  {
   "cell_type": "markdown",
   "id": "f2d39f7e-0a56-42e2-a625-c6f96b337c90",
   "metadata": {},
   "source": [
    "## Import libraries"
   ]
  },
  {
   "cell_type": "code",
   "execution_count": null,
   "id": "37ba39e3-5084-4971-a2d3-254792610178",
   "metadata": {},
   "outputs": [],
   "source": []
  }
 ],
 "metadata": {
  "kernelspec": {
   "display_name": "Python 3 (ipykernel)",
   "language": "python",
   "name": "python3"
  },
  "language_info": {
   "codemirror_mode": {
    "name": "ipython",
    "version": 3
   },
   "file_extension": ".py",
   "mimetype": "text/x-python",
   "name": "python",
   "nbconvert_exporter": "python",
   "pygments_lexer": "ipython3",
   "version": "3.8.13"
  }
 },
 "nbformat": 4,
 "nbformat_minor": 5
}
