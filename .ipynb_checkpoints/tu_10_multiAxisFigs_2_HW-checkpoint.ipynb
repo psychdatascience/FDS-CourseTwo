{
 "cells": [
  {
   "cell_type": "markdown",
   "id": "0d4c9924",
   "metadata": {},
   "source": [
    "# Tutorial 10 homework"
   ]
  },
  {
   "cell_type": "markdown",
   "id": "ef8efe47",
   "metadata": {},
   "source": [
    "In this homework, you'll make a figure containing a scatter plot with marginal histograms similar to what we made earlier. Now, however, we have a few more tools at our disposal so we can probably make a better figure."
   ]
  },
  {
   "cell_type": "markdown",
   "id": "57b325f0",
   "metadata": {},
   "source": [
    "Here is some code to make a simulated data consisting of the scores on two tests (A and B) taken by 100 people."
   ]
  },
  {
   "cell_type": "code",
   "execution_count": null,
   "id": "161f7f28",
   "metadata": {},
   "outputs": [],
   "source": [
    "import numpy as np\n",
    "\n",
    "my_rng = np.random.default_rng(seed = 42)\n",
    "test_a = my_rng.normal(100, 15, (100,1))\n",
    "test_b = test_a + my_rng.normal(0, 10, test_a.shape)"
   ]
  },
  {
   "cell_type": "markdown",
   "id": "0d734269",
   "metadata": {},
   "source": [
    "Let's make a figure featuring a scatter plot of the scores against one another, along with two supporting panels showing the histograms of the two test scores."
   ]
  },
  {
   "cell_type": "markdown",
   "id": "8fe69efb",
   "metadata": {},
   "source": [
    "An example figure would look something like this:\n",
    "\n",
    "![hw example figure](images/hw10example.png)\n",
    "\n",
    "But your goal isn't to make a figure that looks exactly like this; your goal is to make a figure that looks better than this!"
   ]
  },
  {
   "cell_type": "code",
   "execution_count": null,
   "id": "31c7ff1e",
   "metadata": {},
   "outputs": [],
   "source": []
  }
 ],
 "metadata": {
  "kernelspec": {
   "display_name": "Python 3 (ipykernel)",
   "language": "python",
   "name": "python3"
  },
  "language_info": {
   "codemirror_mode": {
    "name": "ipython",
    "version": 3
   },
   "file_extension": ".py",
   "mimetype": "text/x-python",
   "name": "python",
   "nbconvert_exporter": "python",
   "pygments_lexer": "ipython3",
   "version": "3.8.13"
  }
 },
 "nbformat": 4,
 "nbformat_minor": 5
}
