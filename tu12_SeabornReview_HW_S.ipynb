{
 "cells": [
  {
   "cell_type": "markdown",
   "id": "35629604",
   "metadata": {},
   "source": [
    "Write a function that uses `seaborn` to visualize data as we need it!\n",
    "We'll work on the penguins dataset and plot the numeric variables *except for* body mass."
   ]
  },
  {
   "cell_type": "code",
   "execution_count": 1,
   "id": "0697f0a8",
   "metadata": {},
   "outputs": [
    {
     "name": "stdout",
     "output_type": "stream",
     "text": [
      "Intel MKL WARNING: Support of Intel(R) Streaming SIMD Extensions 4.2 (Intel(R) SSE4.2) enabled only processors has been deprecated. Intel oneAPI Math Kernel Library 2025.0 will require Intel(R) Advanced Vector Extensions (Intel(R) AVX) instructions.\n",
      "Intel MKL WARNING: Support of Intel(R) Streaming SIMD Extensions 4.2 (Intel(R) SSE4.2) enabled only processors has been deprecated. Intel oneAPI Math Kernel Library 2025.0 will require Intel(R) Advanced Vector Extensions (Intel(R) AVX) instructions.\n"
     ]
    }
   ],
   "source": [
    "import seaborn as sns\n",
    "penguins = sns.load_dataset(\"penguins\")"
   ]
  },
  {
   "cell_type": "markdown",
   "id": "e78064f9",
   "metadata": {},
   "source": [
    "\n",
    "To flex both our plotting and function writing muscles, let's write a function to do some plotting! Your function should:\n",
    "\n",
    "* take as input the penguins  data frame\n",
    "* allow the user to choose between a strip, violin, or box plot\n",
    "* set one of the above three be the default\n",
    "* have a docstr so users can get help() on it\n",
    "* produce the plot requested by the user (of course!)\n",
    "* provide a meanignful help"
   ]
  },
  {
   "cell_type": "markdown",
   "id": "0050f247",
   "metadata": {},
   "source": [
    "Write function"
   ]
  },
  {
   "cell_type": "code",
   "execution_count": 4,
   "id": "787191bb",
   "metadata": {},
   "outputs": [],
   "source": [
    "def pengPlot(data, style = 'white', kind='box'):\n",
    "'''\n",
    "Enter three arguments:\n",
    "- data file\n",
    "- style of plot (white, whitegrid, ticks, darkgrid, dark), default = white\n",
    "- kind of plot (violin, strip, box), default = box\n",
    "Enter theme/kind as string\n",
    "'''\n",
    "sns.set_style(style)\n",
    "sns.catplot(data = data, kind = kind)\n"
   ]
  },
  {
   "cell_type": "markdown",
   "id": "60df2b45",
   "metadata": {},
   "source": [
    "Get help on function"
   ]
  },
  {
   "cell_type": "code",
   "execution_count": 5,
   "id": "c7e9ad3d",
   "metadata": {},
   "outputs": [
    {
     "name": "stdout",
     "output_type": "stream",
     "text": [
      "Help on function foo in module __main__:\n",
      "\n",
      "foo()\n",
      "    I'm the help!\n",
      "\n"
     ]
    }
   ],
   "source": [
    "help(pengPlot)"
   ]
  },
  {
   "cell_type": "markdown",
   "id": "40068c63",
   "metadata": {},
   "source": [
    "run function"
   ]
  },
  {
   "cell_type": "code",
   "execution_count": null,
   "id": "57d3bdb7",
   "metadata": {},
   "outputs": [],
   "source": []
  }
 ],
 "metadata": {
  "kernelspec": {
   "display_name": "Python 3 (ipykernel)",
   "language": "python",
   "name": "python3"
  },
  "language_info": {
   "codemirror_mode": {
    "name": "ipython",
    "version": 3
   },
   "file_extension": ".py",
   "mimetype": "text/x-python",
   "name": "python",
   "nbconvert_exporter": "python",
   "pygments_lexer": "ipython3",
   "version": "3.11.5"
  }
 },
 "nbformat": 4,
 "nbformat_minor": 5
}
