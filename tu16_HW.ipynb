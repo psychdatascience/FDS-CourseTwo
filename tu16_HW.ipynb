{
 "cells": [
  {
   "cell_type": "markdown",
   "id": "1e738885-ca06-452d-8d0b-5e2721e22c7a",
   "metadata": {},
   "source": [
    "# Simulations Homework"
   ]
  },
  {
   "cell_type": "code",
   "execution_count": null,
   "id": "f34a5b63-af93-4e46-98c1-2dce26f8ca4d",
   "metadata": {},
   "outputs": [],
   "source": [
    "import numpy as np\n",
    "import seaborn as sns\n",
    "%matplotlib inline"
   ]
  },
  {
   "cell_type": "markdown",
   "id": "3b23da61-41c3-4d6a-a744-ff9a626069c1",
   "metadata": {},
   "source": [
    "---"
   ]
  },
  {
   "cell_type": "markdown",
   "id": "d97e5217-ce6d-4587-ba83-ba02e31f8a13",
   "metadata": {},
   "source": [
    "### Reset Generator Function"
   ]
  },
  {
   "cell_type": "markdown",
   "id": "597841fb-db36-4bee-a549-53b1e1dc63cc",
   "metadata": {},
   "source": [
    "If you didn't do so in class, write a function to reseed the numpy random number generator. It should default to setting the seed to 42, but be able to set it to whatever you want."
   ]
  },
  {
   "cell_type": "code",
   "execution_count": null,
   "id": "b7ac98fe-a4f2-4594-ad1a-f444b7514d7f",
   "metadata": {},
   "outputs": [],
   "source": []
  },
  {
   "cell_type": "markdown",
   "id": "69cb00c5-c61d-4871-ba06-6a51c8ccf98d",
   "metadata": {},
   "source": [
    "Reset the generator using your function."
   ]
  },
  {
   "cell_type": "code",
   "execution_count": null,
   "id": "a8041c65-1035-4e5e-9cea-bfcad437c4d1",
   "metadata": {},
   "outputs": [],
   "source": []
  },
  {
   "cell_type": "markdown",
   "id": "5a764d17-940a-47f6-8828-1cc680dc2af3",
   "metadata": {},
   "source": [
    "---"
   ]
  },
  {
   "cell_type": "markdown",
   "id": "5b3a92e1-43f0-4338-b3e0-637e7bb38123",
   "metadata": {},
   "source": [
    "### \"Accept Cookies\" Simulation"
   ]
  },
  {
   "cell_type": "markdown",
   "id": "8572a0ea-0590-4ec8-83fd-98b015e603cd",
   "metadata": {},
   "source": [
    "Assuming the base rate for hitting the \"Accept Cookies\" button when landing on a website is 85%, do a set of 10,000 simulations of 20 people visiting a given website and accepting cookies. "
   ]
  },
  {
   "cell_type": "code",
   "execution_count": null,
   "id": "8f6760b8-3475-4cb7-999a-497ca14ac78b",
   "metadata": {},
   "outputs": [],
   "source": []
  },
  {
   "cell_type": "markdown",
   "id": "28f2cf31-7b22-4ee8-ba3f-c9b7ae70c14a",
   "metadata": {},
   "source": [
    "Based on your simulation, what is the probability of getting exactly 15 accepts? "
   ]
  },
  {
   "cell_type": "code",
   "execution_count": null,
   "id": "e54d2b90-dc11-4a96-b7b0-3acc02671f53",
   "metadata": {},
   "outputs": [],
   "source": []
  },
  {
   "cell_type": "markdown",
   "id": "8db36c23-6ebe-4eea-8dd6-1730b5b35273",
   "metadata": {},
   "source": [
    "What is the probability of getting *at least* 15 accepts?"
   ]
  },
  {
   "cell_type": "code",
   "execution_count": null,
   "id": "55375983-9ec5-4bfe-b132-63369da6c8e2",
   "metadata": {},
   "outputs": [],
   "source": []
  },
  {
   "cell_type": "markdown",
   "id": "f166851b-b73a-44a4-9617-f5af25c13755",
   "metadata": {},
   "source": [
    "What is the probability of getting fewer than 15 accepts?"
   ]
  },
  {
   "cell_type": "code",
   "execution_count": null,
   "id": "1d68f209-89a0-467d-938c-14ccc50cae71",
   "metadata": {
    "tags": []
   },
   "outputs": [],
   "source": []
  },
  {
   "cell_type": "markdown",
   "id": "1cdb003d-5339-4bd9-a1ab-8de3e18ba06a",
   "metadata": {},
   "source": [
    "Confirm that the last two probabilities computed sum to 1.0."
   ]
  },
  {
   "cell_type": "code",
   "execution_count": null,
   "id": "d3612c17-535b-4c81-92c4-f770c2d8a20e",
   "metadata": {},
   "outputs": [],
   "source": []
  },
  {
   "cell_type": "markdown",
   "id": "4df13455-708a-4d87-8f5a-208e6decc580",
   "metadata": {},
   "source": [
    "---"
   ]
  },
  {
   "cell_type": "markdown",
   "id": "c3403027-73a8-49e0-a56b-22b6f8bdcbda",
   "metadata": {},
   "source": [
    "### What Is and Isn't Binomial?"
   ]
  },
  {
   "cell_type": "markdown",
   "id": "fc87017c-ffbf-408f-ae02-21ed695307de",
   "metadata": {},
   "source": [
    "Check the binomial approximation for the election simulations from the in-class notebook for the cases in which we did and didn't account for the poll-to-poll variability arising from a single poll."
   ]
  },
  {
   "cell_type": "markdown",
   "id": "edd9efc5-ebdb-4265-b30a-fa0b1888a90b",
   "metadata": {},
   "source": [
    "What is the expected standard deviation for our distribution of election outcomes based on the normal approximation?"
   ]
  },
  {
   "cell_type": "code",
   "execution_count": null,
   "id": "97620e0c-8b48-4f41-a531-65b4ba96180b",
   "metadata": {},
   "outputs": [],
   "source": []
  },
  {
   "cell_type": "markdown",
   "id": "39783e34-4418-4e5a-b7da-3439e13aac48",
   "metadata": {},
   "source": [
    "What was the empirical standard deviation of the distribution of election outcomes when we only used a single probability? (\"*single poll, many elections*\")\n",
    "\n",
    "(You can just copy and paste the code from the in-class notebook to regenerate the simulated election outcomes.)"
   ]
  },
  {
   "cell_type": "code",
   "execution_count": null,
   "id": "71f95652-b207-4517-8e2f-e7ac0bd12d90",
   "metadata": {},
   "outputs": [],
   "source": []
  },
  {
   "cell_type": "code",
   "execution_count": null,
   "id": "ee8985d6-c5f6-4dd4-802d-ab7de57971c5",
   "metadata": {},
   "outputs": [],
   "source": []
  },
  {
   "cell_type": "markdown",
   "id": "c3d5fa8e-2c95-401c-adfa-e3e584f41e03",
   "metadata": {},
   "source": [
    "What was the empirical standard deviation of the distribution of election outcomes when we accounted for random variation in poll outcomes in our simulation? (\"*simulate poll -> simulate election*\")"
   ]
  },
  {
   "cell_type": "code",
   "execution_count": null,
   "id": "8174afa5-5d22-434c-bea5-696cb46c0e44",
   "metadata": {},
   "outputs": [],
   "source": []
  },
  {
   "cell_type": "code",
   "execution_count": null,
   "id": "eca69a9b-1023-4b27-b87e-2991175a1c0f",
   "metadata": {},
   "outputs": [],
   "source": []
  },
  {
   "cell_type": "markdown",
   "id": "51ecbf00-1175-4fee-ae75-76441e3d28d7",
   "metadata": {},
   "source": [
    "---"
   ]
  },
  {
   "cell_type": "markdown",
   "id": "e230bf1e-821f-4343-a0f4-127c7c32d90b",
   "metadata": {},
   "source": [
    "### Effect of Poll Sample Size"
   ]
  },
  {
   "cell_type": "markdown",
   "id": "7ddf5ef1-1547-4116-ab9c-6dd37ff2e8f5",
   "metadata": {},
   "source": [
    "As you have probably realized, these distributions of outcomes from many experiments we've been generating are, by definition, ***sampling distributions***! One firm law about sampling distributions is that their width depends strongly on sample size. As such, we would expect our simulated election outcomes to be affected by the size of the poll on which they are based."
   ]
  },
  {
   "cell_type": "markdown",
   "id": "f188922e-6f5f-44cd-b380-e2e6d63598a8",
   "metadata": {},
   "source": [
    "In the cell below, run the *simulate poll -> simulate elections* code for poll sample sizes of 50, 100, 500, 1000, 2000 and 5000. For each sample size, record the obtained standard deviation of the distribution of outcomes. (pro tip: make a new code cell below and put them in a Python list)"
   ]
  },
  {
   "cell_type": "code",
   "execution_count": null,
   "id": "d18e55ff-b729-4076-940b-b4080544aa47",
   "metadata": {},
   "outputs": [],
   "source": [
    " # reset generator"
   ]
  },
  {
   "cell_type": "code",
   "execution_count": null,
   "id": "494cbe17-6eca-4d86-ae2d-6893da1490a2",
   "metadata": {
    "tags": []
   },
   "outputs": [],
   "source": [
    " # simulate"
   ]
  },
  {
   "cell_type": "code",
   "execution_count": 61,
   "id": "d8219bf3-54bf-4987-ad93-f1d0e522e891",
   "metadata": {},
   "outputs": [],
   "source": [
    " # plot\n",
    " # compute std"
   ]
  },
  {
   "cell_type": "markdown",
   "id": "e82dfe93-8f72-4d8d-a46d-191c01726957",
   "metadata": {},
   "source": [
    "Make a plot of standard deviation of outcomes (y-axis) vs. poll sample size (x-axis)."
   ]
  },
  {
   "cell_type": "code",
   "execution_count": null,
   "id": "9a643a19-523b-4e52-8222-002efb96e5c9",
   "metadata": {},
   "outputs": [],
   "source": []
  },
  {
   "cell_type": "markdown",
   "id": "f2a59a35-6a2b-4277-9e5b-eb89e2f18fe7",
   "metadata": {},
   "source": [
    "Based on this plot, why do you think almost all polls sample around 2000 people?"
   ]
  },
  {
   "cell_type": "markdown",
   "id": "c9d363de-8270-4736-b9f9-628494ce5ccb",
   "metadata": {},
   "source": []
  },
  {
   "cell_type": "markdown",
   "id": "8227f5e6-c746-4ef8-b817-28cf4870a58e",
   "metadata": {},
   "source": [
    "---"
   ]
  },
  {
   "cell_type": "markdown",
   "id": "e0c9647c-d50d-43a8-93f4-dd332fadb3fb",
   "metadata": {},
   "source": [
    "### Re-Write the Multi-Poll Code "
   ]
  },
  {
   "cell_type": "markdown",
   "id": "836aece6-18f9-4210-82e0-b0c9b77eaea5",
   "metadata": {},
   "source": [
    "The code for combining three polls using a weighted average works, but it is awkward. Changing it to handle a different number of polls would involve lots of copying and pasting and mistake-prone editing.\n",
    "\n",
    "Make the code \"Pythonic\" so that all you have to do is provide a list (or tuple) of poll results and another for poll weights, and your code will do the rest. \n",
    "\n",
    "Your code can be just code in a code cell. But if you're feeling spicy, you could make it a function!"
   ]
  },
  {
   "cell_type": "code",
   "execution_count": null,
   "id": "94d56328-e667-4389-989c-fc35688c7bda",
   "metadata": {},
   "outputs": [],
   "source": []
  },
  {
   "cell_type": "markdown",
   "id": "9ec6a4ce-eb9c-46d0-bbaa-b62b7c431ce9",
   "metadata": {},
   "source": [
    "---"
   ]
  },
  {
   "cell_type": "markdown",
   "id": "89d80d36-5741-4534-89ca-e5c01480efb0",
   "metadata": {},
   "source": [
    "### Weight polls by sample size"
   ]
  },
  {
   "cell_type": "markdown",
   "id": "2edd7fa0-48ff-44bd-bdc5-1a0ca9e1b660",
   "metadata": {},
   "source": [
    "Use your new code to compute predicted election outcomes based on 5 polls weighted by the sample sizes of the polls (or their square root, if you prefer – wink wink, nudge nudge). The polls are as follows:\n",
    "\n",
    "`poll_ests = [.51, .55, .53, .49, 0.50]`\n",
    "\n",
    "`poll_samp_szs = [2000, 1000, 1500, 1200, 1142]`"
   ]
  },
  {
   "cell_type": "code",
   "execution_count": null,
   "id": "19cad17b-ca5c-45c8-9e40-a4f68674abaf",
   "metadata": {},
   "outputs": [],
   "source": []
  },
  {
   "cell_type": "markdown",
   "id": "2e70676f-b6ef-42c3-9b25-10243fc14de0",
   "metadata": {},
   "source": [
    "Make a plot of the distribution of simulated outcomes, with the area representing the underdog winning highlighted."
   ]
  },
  {
   "cell_type": "code",
   "execution_count": null,
   "id": "45e95290-3af2-486d-bfac-00d3f577e477",
   "metadata": {},
   "outputs": [],
   "source": []
  },
  {
   "cell_type": "markdown",
   "id": "9d5a64db-35c5-42a8-ab25-568ad6cf4318",
   "metadata": {},
   "source": [
    "---"
   ]
  },
  {
   "cell_type": "markdown",
   "id": "95047b80-a313-440c-bc6f-f0ccceac32d4",
   "metadata": {},
   "source": [
    "Bonus (totally optional): \n",
    "Write your own function, `my_binom()` that does the same thing as `rng.binomial()`. The function should use `rng.random()` internally. To the user, it should behave just like `rng.binomial()`!"
   ]
  },
  {
   "cell_type": "code",
   "execution_count": null,
   "id": "fd677a89-c4ba-49dc-a74d-5220b2eeed1e",
   "metadata": {},
   "outputs": [],
   "source": []
  },
  {
   "cell_type": "markdown",
   "id": "60c3f997-f252-4acd-a847-37e726660abf",
   "metadata": {},
   "source": [
    "---"
   ]
  }
 ],
 "metadata": {
  "kernelspec": {
   "display_name": "Python 3 (ipykernel)",
   "language": "python",
   "name": "python3"
  },
  "language_info": {
   "codemirror_mode": {
    "name": "ipython",
    "version": 3
   },
   "file_extension": ".py",
   "mimetype": "text/x-python",
   "name": "python",
   "nbconvert_exporter": "python",
   "pygments_lexer": "ipython3",
   "version": "3.8.13"
  }
 },
 "nbformat": 4,
 "nbformat_minor": 5
}
