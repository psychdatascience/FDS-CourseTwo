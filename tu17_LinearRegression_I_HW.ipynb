{
 "cells": [
  {
   "cell_type": "code",
   "execution_count": null,
   "id": "d3c13bcf",
   "metadata": {},
   "outputs": [],
   "source": [
    "GENERATE NEW quadratic dataset\n",
    "\n",
    "Fit is with line compute SSE\n",
    "Fit with parabola compute SSE\n",
    "Fit with third order polynomial SSE\n",
    "\n",
    "\n",
    "For homework: \n",
    "\n",
    "Q1:\n",
    "    -- give them quadratic data have rage (0-x) them fit a quadratic and a then a third order polinomial\n",
    "    -- Have let's now use the ,doels to predict data **out here** what happens? Have them fit the two models -2*x to 2*x show how the quadratci model looks like the original data but the polinomial does not\n",
    "\n",
    "\n",
    "Q2:\n",
    "   -- Give them data with 10 data points\n",
    "   -- Ask them to fit the data with model "
   ]
  }
 ],
 "metadata": {
  "kernelspec": {
   "display_name": "Python 3 (ipykernel)",
   "language": "python",
   "name": "python3"
  },
  "language_info": {
   "codemirror_mode": {
    "name": "ipython",
    "version": 3
   },
   "file_extension": ".py",
   "mimetype": "text/x-python",
   "name": "python",
   "nbconvert_exporter": "python",
   "pygments_lexer": "ipython3",
   "version": "3.9.7"
  }
 },
 "nbformat": 4,
 "nbformat_minor": 5
}
