{
 "cells": [
  {
   "cell_type": "markdown",
   "id": "9a3f78d5",
   "metadata": {},
   "source": [
    "# Numpy Review"
   ]
  },
  {
   "cell_type": "markdown",
   "id": "07ab5d76",
   "metadata": {},
   "source": [
    "In this review, we are going to refresh our memories about the Numpy package. Numpy (numerical Python) is the basic engine that turns Python into a tool for data analysis. Anything \"data sciency\" that you do in Python will rely on Numpy at some point, either explicitly (when calling Numpy fuctions directly), or implicitly (when, e.g., using Pandas).\n",
    "\n",
    "The point of Numpy is do make working with data in Python easier and faster. Here, we going to remind ourselves of basic Numpy functionality."
   ]
  },
  {
   "cell_type": "markdown",
   "id": "a6aa8bf0",
   "metadata": {},
   "source": [
    "## Python lists"
   ]
  },
  {
   "cell_type": "markdown",
   "id": "cafd3de1",
   "metadata": {},
   "source": [
    "First, let's look at a basic Python list:"
   ]
  },
  {
   "cell_type": "code",
   "execution_count": 32,
   "id": "607bf690",
   "metadata": {},
   "outputs": [],
   "source": [
    "a_list = [2, 4, 6, 8]"
   ]
  },
  {
   "cell_type": "markdown",
   "id": "7aeb9ded",
   "metadata": {},
   "source": [
    "Just to warm up, let's get some items from our list via *indexing*:"
   ]
  },
  {
   "cell_type": "markdown",
   "id": "a7169b03",
   "metadata": {},
   "source": [
    "Get the first number from the list (the \"zeroith\" number in Pythonese):"
   ]
  },
  {
   "cell_type": "code",
   "execution_count": null,
   "id": "6c92fcaf",
   "metadata": {},
   "outputs": [],
   "source": []
  },
  {
   "cell_type": "markdown",
   "id": "ef7c856d",
   "metadata": {},
   "source": [
    "Get the last two numbers:"
   ]
  },
  {
   "cell_type": "code",
   "execution_count": null,
   "id": "89b8ba75",
   "metadata": {},
   "outputs": [],
   "source": []
  },
  {
   "cell_type": "markdown",
   "id": "1fec9e59",
   "metadata": {},
   "source": [
    "Now let's make a *nested* Python list:"
   ]
  },
  {
   "cell_type": "code",
   "execution_count": 43,
   "id": "ca6a0fc4",
   "metadata": {},
   "outputs": [],
   "source": [
    "a_nested_list = [[2, 4], [3, -1], [-2, 1]]"
   ]
  },
  {
   "cell_type": "markdown",
   "id": "8afbe19f",
   "metadata": {},
   "source": [
    "Remember that a Python list can hold data of different types, lengths, etc., but this list is special; it is a *list of lists* all of the same length.\n",
    "\n",
    "Let's have a look:"
   ]
  },
  {
   "cell_type": "code",
   "execution_count": 39,
   "id": "802ff5fa",
   "metadata": {},
   "outputs": [
    {
     "name": "stdout",
     "output_type": "stream",
     "text": [
      "[[2, 4], [3, -1], [-2, 1]]\n"
     ]
    }
   ],
   "source": [
    "print(a_nested_list)"
   ]
  },
  {
   "cell_type": "markdown",
   "id": "89b8c8d5",
   "metadata": {},
   "source": [
    "How would we get the first entry in the second list? \n",
    "\n",
    "We could do it in two steps... first, get the second list:"
   ]
  },
  {
   "cell_type": "code",
   "execution_count": 40,
   "id": "96288af8",
   "metadata": {},
   "outputs": [],
   "source": [
    "sec_list = a_nested_list[1]"
   ]
  },
  {
   "cell_type": "markdown",
   "id": "29134279",
   "metadata": {},
   "source": [
    "And then get the first entry:"
   ]
  },
  {
   "cell_type": "code",
   "execution_count": 41,
   "id": "3c6ac8de",
   "metadata": {},
   "outputs": [
    {
     "name": "stdout",
     "output_type": "stream",
     "text": [
      "3\n"
     ]
    }
   ],
   "source": [
    "my_num = sec_list[0]\n",
    "print(my_num)"
   ]
  },
  {
   "cell_type": "markdown",
   "id": "be82f83b",
   "metadata": {},
   "source": [
    "Conveniently, we can just do this in one go:"
   ]
  },
  {
   "cell_type": "code",
   "execution_count": 42,
   "id": "5f07c9fb",
   "metadata": {},
   "outputs": [
    {
     "name": "stdout",
     "output_type": "stream",
     "text": [
      "3\n"
     ]
    }
   ],
   "source": [
    "my_num = a_nested_list[1][0]\n",
    "print(my_num)"
   ]
  },
  {
   "cell_type": "markdown",
   "id": "d846ba0b",
   "metadata": {},
   "source": [
    "This does the same thing without having to invoke the intermediate variable `sec_list`. \n",
    "\n",
    "While this list-of-lists construct might seem a little abstract, there is actually a nice what to wrap our heads around it, which is to think of it as a *matrix*."
   ]
  },
  {
   "cell_type": "markdown",
   "id": "924cc6e5",
   "metadata": {},
   "source": [
    "> Unfortunately, no one can be told what the Matrix is. You have to see it for yourself. *- Morpheus*"
   ]
  },
  {
   "cell_type": "markdown",
   "id": "9964045a",
   "metadata": {},
   "source": [
    "Here is an example of a matrix:\n",
    "\n",
    "![A matrix](./images/mailboxes.png)"
   ]
  },
  {
   "cell_type": "markdown",
   "id": "5022675f",
   "metadata": {},
   "source": [
    "A ***matrix*** is a 2 dimensional (2D) arrangement of things and, for our purposes, the things are data of one form or another (numbers, strings, timestamps, etc.).\n",
    "\n",
    "These mailboxes are numbered sequentially, because there are other mailboxes in other matrices and that's just how the USPS rolls. But, notice that, for *this* matrix of mailboxes, there is another way in which we could uniquely refer to each mailbox. Specifically, we could uniquely specify each mailbox by the *row* it is in and the *column* it is in.\n",
    "\n",
    "For example, the open mailbox with the key in the door is in the 2nd row and the 4th column or, in terms of Python indexes, the mailbox is at location [1, 3]. "
   ]
  },
  {
   "cell_type": "markdown",
   "id": "c54e1507",
   "metadata": {},
   "source": [
    "So, we can think of matrix as an arrangement of data that has a built in ***spatial coordinate system*** used to refer to the items of data."
   ]
  },
  {
   "cell_type": "markdown",
   "id": "7862c985",
   "metadata": {},
   "source": [
    "Here's another Python list of lists:"
   ]
  },
  {
   "cell_type": "code",
   "execution_count": 46,
   "id": "560e4268",
   "metadata": {},
   "outputs": [],
   "source": [
    "another_nested_list = [[3.3, 2.3, 2.2], [1.2, 7.8, 8.7], [4.8, 2.2, 6.5],\n",
    "                       [1.5, 7.5, 9.5], [5.9, 1.6, 7.7]]"
   ]
  },
  {
   "cell_type": "markdown",
   "id": "68bfdd86",
   "metadata": {},
   "source": [
    "As far as Python is concerned, this is just a list that happens to contain 5 lists, each of length 3:"
   ]
  },
  {
   "cell_type": "code",
   "execution_count": 48,
   "id": "af64f2fc",
   "metadata": {},
   "outputs": [
    {
     "name": "stdout",
     "output_type": "stream",
     "text": [
      "Another nested Python list: [[3.3, 2.3, 2.2], [1.2, 7.8, 8.7], [4.8, 2.2, 6.5], [1.5, 7.5, 9.5], [5.9, 1.6, 7.7]]\n"
     ]
    }
   ],
   "source": [
    "print(f'Another nested Python list: {another_nested_list}')"
   ]
  },
  {
   "cell_type": "markdown",
   "id": "53b2083f",
   "metadata": {},
   "source": [
    "But it makes sense for our human brains to think about it as a 2D arrangement of data, like this: "
   ]
  },
  {
   "cell_type": "markdown",
   "id": "0d94c993",
   "metadata": {},
   "source": [
    "| row # | Col # | | | | |\n",
    "| ---- | ---- | ---- | ---- | ---- | ---- |\n",
    "|   | 0 | 1 | 2 | 3 |  4 | 5 |\n",
    "| 0 | 3.3 | 1.2 | 4.8 | 1.5 |  5.9 | 9.0 |\n",
    "| 1 | 2.3 | 7.8 | 2.2 | 7.5 |  1.6 | 8.1 |\n",
    "| 2 | 2.2 | 8.7 | 6.5 | 9.5 |  7.7 | 5.2 |"
   ]
  },
  {
   "cell_type": "markdown",
   "id": "16ac4c1b",
   "metadata": {},
   "source": [
    "Now we can think of the Python indexes used to access the data as spatial ***row*** and ***column*** coordinates. For example:"
   ]
  },
  {
   "cell_type": "code",
   "execution_count": 49,
   "id": "3f515aaa",
   "metadata": {},
   "outputs": [
    {
     "data": {
      "text/plain": [
       "2.2"
      ]
     },
     "execution_count": 49,
     "metadata": {},
     "output_type": "execute_result"
    }
   ],
   "source": [
    "another_nested_list[2][1]"
   ]
  },
  {
   "cell_type": "markdown",
   "id": "057ef2a9",
   "metadata": {},
   "source": [
    "fetches the data value in the second row (row index 1) and the third column (column index 2). \n",
    "\n",
    "Even though, in Python terms, `another_nested_list` is just a list of lists that all happen to be of the same length, it's very helpful for our human brains to map data like this onto a matrix and think of the indexes as coordinates."
   ]
  },
  {
   "cell_type": "markdown",
   "id": "06dd3148",
   "metadata": {},
   "source": [
    "## Numpy"
   ]
  },
  {
   "cell_type": "markdown",
   "id": "082ab4ab",
   "metadata": {},
   "source": [
    "Numpy is a big and powerful package, but you can think of it's most basic function as making this matrix-like way of thinking about data explicit, as opposed to just a cute way of thinking about lists of lists."
   ]
  },
  {
   "cell_type": "markdown",
   "id": "22c95d0c",
   "metadata": {},
   "source": [
    "To use numpy, we first import it. Traditionally, it is imported under the name \"`np`\"."
   ]
  },
  {
   "cell_type": "code",
   "execution_count": 6,
   "id": "29600946",
   "metadata": {},
   "outputs": [],
   "source": [
    "import numpy as np"
   ]
  },
  {
   "cell_type": "markdown",
   "id": "f0285f64",
   "metadata": {},
   "source": []
  },
  {
   "cell_type": "code",
   "execution_count": null,
   "id": "67be9bbf",
   "metadata": {},
   "outputs": [],
   "source": []
  },
  {
   "cell_type": "markdown",
   "id": "3fd8ee8b",
   "metadata": {},
   "source": [
    "### Numpy arrays "
   ]
  },
  {
   "cell_type": "markdown",
   "id": "f76cfc67",
   "metadata": {},
   "source": []
  },
  {
   "cell_type": "code",
   "execution_count": null,
   "id": "5340e6ff",
   "metadata": {},
   "outputs": [],
   "source": []
  },
  {
   "cell_type": "code",
   "execution_count": null,
   "id": "fb7baedb",
   "metadata": {},
   "outputs": [],
   "source": []
  },
  {
   "cell_type": "markdown",
   "id": "95dff95c",
   "metadata": {},
   "source": [
    "#### Making numpy arrays "
   ]
  },
  {
   "cell_type": "markdown",
   "id": "acbc5241",
   "metadata": {},
   "source": []
  },
  {
   "cell_type": "code",
   "execution_count": 17,
   "id": "842d48a4",
   "metadata": {},
   "outputs": [
    {
     "name": "stdout",
     "output_type": "stream",
     "text": [
      "A python list: [2, 4, 6, 8]\n",
      "A numpy thing: [2 4 6 8]\n"
     ]
    }
   ],
   "source": [
    "print(f'A python list: {a_list}')\n",
    "\n",
    "a_numpy_thing = np.array((a_list))\n",
    "\n",
    "print(f'A numpy thing: {a_numpy_thing}')"
   ]
  },
  {
   "cell_type": "code",
   "execution_count": 25,
   "id": "85959620",
   "metadata": {
    "scrolled": true
   },
   "outputs": [
    {
     "data": {
      "text/plain": [
       "array([[1, 2, 3],\n",
       "       [4, 5, 6]])"
      ]
     },
     "execution_count": 25,
     "metadata": {},
     "output_type": "execute_result"
    }
   ],
   "source": [
    "a = np.array([[1, 2, 3], [4, 5, 6]])\n",
    "a"
   ]
  },
  {
   "cell_type": "code",
   "execution_count": null,
   "id": "4c0f6ffe",
   "metadata": {},
   "outputs": [],
   "source": []
  },
  {
   "cell_type": "code",
   "execution_count": 21,
   "id": "37cb06e4",
   "metadata": {},
   "outputs": [
    {
     "data": {
      "text/plain": [
       "array([[1.],\n",
       "       [1.]])"
      ]
     },
     "execution_count": 21,
     "metadata": {},
     "output_type": "execute_result"
    }
   ],
   "source": [
    "a_vec = np.ones((2,1))\n",
    "\n",
    "a_vec"
   ]
  },
  {
   "cell_type": "code",
   "execution_count": 23,
   "id": "6874c2ed",
   "metadata": {},
   "outputs": [
    {
     "data": {
      "text/plain": [
       "(2, 1)"
      ]
     },
     "execution_count": 23,
     "metadata": {},
     "output_type": "execute_result"
    }
   ],
   "source": [
    "a_vec.shape"
   ]
  },
  {
   "cell_type": "code",
   "execution_count": 31,
   "id": "2c86bdcb",
   "metadata": {},
   "outputs": [
    {
     "data": {
      "text/plain": [
       "(3,)"
      ]
     },
     "execution_count": 31,
     "metadata": {},
     "output_type": "execute_result"
    }
   ],
   "source": [
    "a_vec = np.array([1, 3, 5])\n",
    "a_vec.shape"
   ]
  },
  {
   "cell_type": "code",
   "execution_count": 29,
   "id": "4aa80676",
   "metadata": {},
   "outputs": [
    {
     "data": {
      "text/plain": [
       "array([[1],\n",
       "       [3],\n",
       "       [5]])"
      ]
     },
     "execution_count": 29,
     "metadata": {},
     "output_type": "execute_result"
    }
   ],
   "source": [
    "a_vec = a_vec[:, np.newaxis]\n",
    "a_vec"
   ]
  },
  {
   "cell_type": "markdown",
   "id": "368971f4",
   "metadata": {},
   "source": [
    "#### \"vectorized\" operations "
   ]
  },
  {
   "cell_type": "code",
   "execution_count": null,
   "id": "16fb2a1c",
   "metadata": {},
   "outputs": [],
   "source": []
  },
  {
   "cell_type": "markdown",
   "id": "908b9216",
   "metadata": {},
   "source": [
    "#### Indexing cells "
   ]
  },
  {
   "cell_type": "code",
   "execution_count": null,
   "id": "70fa01d1",
   "metadata": {},
   "outputs": [],
   "source": []
  },
  {
   "cell_type": "markdown",
   "id": "74518c74",
   "metadata": {},
   "source": [
    "#### Indexing rows and columns"
   ]
  },
  {
   "cell_type": "code",
   "execution_count": null,
   "id": "4d3ff37d",
   "metadata": {},
   "outputs": [],
   "source": []
  },
  {
   "cell_type": "markdown",
   "id": "cee6f562",
   "metadata": {},
   "source": [
    "#### Indexing subsets (\"slicing\")"
   ]
  },
  {
   "cell_type": "code",
   "execution_count": null,
   "id": "35e06980",
   "metadata": {},
   "outputs": [],
   "source": []
  }
 ],
 "metadata": {
  "kernelspec": {
   "display_name": "Python 3 (ipykernel)",
   "language": "python",
   "name": "python3"
  },
  "language_info": {
   "codemirror_mode": {
    "name": "ipython",
    "version": 3
   },
   "file_extension": ".py",
   "mimetype": "text/x-python",
   "name": "python",
   "nbconvert_exporter": "python",
   "pygments_lexer": "ipython3",
   "version": "3.8.13"
  }
 },
 "nbformat": 4,
 "nbformat_minor": 5
}
