{
 "cells": [
  {
   "cell_type": "markdown",
   "id": "477c5606",
   "metadata": {},
   "source": [
    "# Numpy Review"
   ]
  },
  {
   "cell_type": "markdown",
   "id": "5bf86de7",
   "metadata": {},
   "source": [
    "In this review, we are going to refresh our memories about the Numpy package. Numpy (numerical Python) is the basic engine that turns Python into a tool for data analysis. Anything \"data sciency\" that you do in Python will rely on Numpy at some point, either explicitly (when calling Numpy fuctions directly), or implicitly (when, e.g., using Pandas).\n",
    "\n",
    "The point of Numpy is do make working with data in Python easier and faster. Here, we going to remind ourselves of basic Numpy functionality."
   ]
  },
  {
   "cell_type": "markdown",
   "id": "9213cc25",
   "metadata": {},
   "source": [
    "## Python lists"
   ]
  },
  {
   "cell_type": "markdown",
   "id": "12c015ef",
   "metadata": {},
   "source": [
    "First, let's look at a basic Python list:"
   ]
  },
  {
   "cell_type": "code",
   "execution_count": 32,
   "id": "82954719",
   "metadata": {},
   "outputs": [],
   "source": [
    "a_list = [2, 4, 6, 8]"
   ]
  },
  {
   "cell_type": "markdown",
   "id": "df1df725",
   "metadata": {},
   "source": [
    "Just to warm up, let's get some items from our list via *indexing*:"
   ]
  },
  {
   "cell_type": "markdown",
   "id": "193cd42e",
   "metadata": {},
   "source": [
    "Get the first number from the list (the \"zeroith\" number in Pythonese):"
   ]
  },
  {
   "cell_type": "code",
   "execution_count": null,
   "id": "c141ffb9",
   "metadata": {},
   "outputs": [],
   "source": []
  },
  {
   "cell_type": "markdown",
   "id": "9455c528",
   "metadata": {},
   "source": [
    "Get the last two numbers:"
   ]
  },
  {
   "cell_type": "code",
   "execution_count": null,
   "id": "d985a21e",
   "metadata": {},
   "outputs": [],
   "source": []
  },
  {
   "cell_type": "markdown",
   "id": "21b49bab",
   "metadata": {},
   "source": [
    "Now let's make a *nested* Python list:"
   ]
  },
  {
   "cell_type": "code",
   "execution_count": 19,
   "id": "d6575477",
   "metadata": {},
   "outputs": [],
   "source": [
    "a_nested_list = [[2, 4], [3, -1], [-2, 1]]"
   ]
  },
  {
   "cell_type": "markdown",
   "id": "eaf6ea69",
   "metadata": {},
   "source": [
    "Remember that a Python list can hold data of different types, but this list is special; it is a *list of lists all of the same length."
   ]
  },
  {
   "cell_type": "code",
   "execution_count": 39,
   "id": "5b5ade4e",
   "metadata": {},
   "outputs": [
    {
     "name": "stdout",
     "output_type": "stream",
     "text": [
      "[[2, 4], [3, -1], [-2, 1]]\n"
     ]
    }
   ],
   "source": [
    "print(a_nested_list)"
   ]
  },
  {
   "cell_type": "markdown",
   "id": "45230e3c",
   "metadata": {},
   "source": [
    "How would we get the first entry in the second list? We could first get the second list:"
   ]
  },
  {
   "cell_type": "code",
   "execution_count": 40,
   "id": "fef1ffbf",
   "metadata": {},
   "outputs": [],
   "source": [
    "sec_list = a_nested_list[1]"
   ]
  },
  {
   "cell_type": "markdown",
   "id": "5f1ee84b",
   "metadata": {},
   "source": [
    "And then get the first entry:"
   ]
  },
  {
   "cell_type": "code",
   "execution_count": 41,
   "id": "904dd5fa",
   "metadata": {},
   "outputs": [
    {
     "name": "stdout",
     "output_type": "stream",
     "text": [
      "3\n"
     ]
    }
   ],
   "source": [
    "my_num = sec_list[0]\n",
    "print(my_num)"
   ]
  },
  {
   "cell_type": "markdown",
   "id": "8359acc9",
   "metadata": {},
   "source": [
    "Conveniently, we can just do this in one go:"
   ]
  },
  {
   "cell_type": "code",
   "execution_count": 42,
   "id": "6c623b48",
   "metadata": {},
   "outputs": [
    {
     "name": "stdout",
     "output_type": "stream",
     "text": [
      "3\n"
     ]
    }
   ],
   "source": [
    "my_num = a_nested_list[1][0]\n",
    "print(my_num)"
   ]
  },
  {
   "cell_type": "markdown",
   "id": "4487f8d2",
   "metadata": {},
   "source": [
    "This does the same thing without having to invoke the intermediate variable `sec_list`. \n",
    "\n",
    "While this list-of-lists construct might seem a little abstract, there is actually a nice what to wrap our heads around it, which is to think of it as a *matrix*."
   ]
  },
  {
   "cell_type": "markdown",
   "id": "be9a231e",
   "metadata": {},
   "source": [
    "> Unfortunately, no one can be told what the Matrix is. You have to see it for yourself. *- Morpheus*"
   ]
  },
  {
   "cell_type": "markdown",
   "id": "bddaab1c",
   "metadata": {},
   "source": []
  },
  {
   "cell_type": "markdown",
   "id": "5ce8e4d8",
   "metadata": {},
   "source": [
    "## Numpy"
   ]
  },
  {
   "cell_type": "code",
   "execution_count": null,
   "id": "e89db25e",
   "metadata": {},
   "outputs": [],
   "source": []
  },
  {
   "cell_type": "code",
   "execution_count": 6,
   "id": "eb4f26f5",
   "metadata": {},
   "outputs": [],
   "source": [
    "import numpy as np\n"
   ]
  },
  {
   "cell_type": "code",
   "execution_count": null,
   "id": "d24a57d4",
   "metadata": {},
   "outputs": [],
   "source": []
  },
  {
   "cell_type": "markdown",
   "id": "eb971542",
   "metadata": {},
   "source": [
    "### Numpy arrays "
   ]
  },
  {
   "cell_type": "markdown",
   "id": "adf3e752",
   "metadata": {},
   "source": []
  },
  {
   "cell_type": "code",
   "execution_count": null,
   "id": "71113a60",
   "metadata": {},
   "outputs": [],
   "source": []
  },
  {
   "cell_type": "code",
   "execution_count": null,
   "id": "85b572f2",
   "metadata": {},
   "outputs": [],
   "source": []
  },
  {
   "cell_type": "markdown",
   "id": "d7050a56",
   "metadata": {},
   "source": [
    "#### Making numpy arrays "
   ]
  },
  {
   "cell_type": "markdown",
   "id": "eda7b39f",
   "metadata": {},
   "source": []
  },
  {
   "cell_type": "code",
   "execution_count": 17,
   "id": "4617966d",
   "metadata": {},
   "outputs": [
    {
     "name": "stdout",
     "output_type": "stream",
     "text": [
      "A python list: [2, 4, 6, 8]\n",
      "A numpy thing: [2 4 6 8]\n"
     ]
    }
   ],
   "source": [
    "print(f'A python list: {a_list}')\n",
    "\n",
    "a_numpy_thing = np.array((a_list))\n",
    "\n",
    "print(f'A numpy thing: {a_numpy_thing}')"
   ]
  },
  {
   "cell_type": "code",
   "execution_count": 25,
   "id": "0ce28f24",
   "metadata": {},
   "outputs": [
    {
     "data": {
      "text/plain": [
       "array([[1, 2, 3],\n",
       "       [4, 5, 6]])"
      ]
     },
     "execution_count": 25,
     "metadata": {},
     "output_type": "execute_result"
    }
   ],
   "source": [
    "a = np.array([[1, 2, 3], [4, 5, 6]])\n",
    "a"
   ]
  },
  {
   "cell_type": "code",
   "execution_count": 21,
   "id": "688c1bbe",
   "metadata": {},
   "outputs": [
    {
     "data": {
      "text/plain": [
       "array([[1.],\n",
       "       [1.]])"
      ]
     },
     "execution_count": 21,
     "metadata": {},
     "output_type": "execute_result"
    }
   ],
   "source": [
    "a_vec = np.ones((2,1))\n",
    "\n",
    "a_vec"
   ]
  },
  {
   "cell_type": "code",
   "execution_count": 23,
   "id": "bae17c9f",
   "metadata": {},
   "outputs": [
    {
     "data": {
      "text/plain": [
       "(2, 1)"
      ]
     },
     "execution_count": 23,
     "metadata": {},
     "output_type": "execute_result"
    }
   ],
   "source": [
    "a_vec.shape"
   ]
  },
  {
   "cell_type": "code",
   "execution_count": 31,
   "id": "038dd56a",
   "metadata": {},
   "outputs": [
    {
     "data": {
      "text/plain": [
       "(3,)"
      ]
     },
     "execution_count": 31,
     "metadata": {},
     "output_type": "execute_result"
    }
   ],
   "source": [
    "a_vec = np.array([1, 3, 5])\n",
    "a_vec.shape"
   ]
  },
  {
   "cell_type": "code",
   "execution_count": 29,
   "id": "44b014d2",
   "metadata": {},
   "outputs": [
    {
     "data": {
      "text/plain": [
       "array([[1],\n",
       "       [3],\n",
       "       [5]])"
      ]
     },
     "execution_count": 29,
     "metadata": {},
     "output_type": "execute_result"
    }
   ],
   "source": [
    "a_vec = a_vec[:, np.newaxis]\n",
    "a_vec"
   ]
  },
  {
   "cell_type": "markdown",
   "id": "146cd7ee",
   "metadata": {},
   "source": [
    "#### \"vectorized\" operations "
   ]
  },
  {
   "cell_type": "code",
   "execution_count": null,
   "id": "e1d00e73",
   "metadata": {},
   "outputs": [],
   "source": []
  },
  {
   "cell_type": "markdown",
   "id": "fd44534c",
   "metadata": {},
   "source": [
    "#### Indexing cells "
   ]
  },
  {
   "cell_type": "code",
   "execution_count": null,
   "id": "088dfbe2",
   "metadata": {},
   "outputs": [],
   "source": []
  },
  {
   "cell_type": "markdown",
   "id": "a55708c7",
   "metadata": {},
   "source": [
    "#### Indexing rows and columns"
   ]
  },
  {
   "cell_type": "code",
   "execution_count": null,
   "id": "2454060b",
   "metadata": {},
   "outputs": [],
   "source": []
  },
  {
   "cell_type": "markdown",
   "id": "da519096",
   "metadata": {},
   "source": [
    "#### Indexing subsets (\"slicing\")"
   ]
  },
  {
   "cell_type": "code",
   "execution_count": null,
   "id": "c141ae08",
   "metadata": {},
   "outputs": [],
   "source": []
  }
 ],
 "metadata": {
  "kernelspec": {
   "display_name": "Python 3 (ipykernel)",
   "language": "python",
   "name": "python3"
  },
  "language_info": {
   "codemirror_mode": {
    "name": "ipython",
    "version": 3
   },
   "file_extension": ".py",
   "mimetype": "text/x-python",
   "name": "python",
   "nbconvert_exporter": "python",
   "pygments_lexer": "ipython3",
   "version": "3.8.13"
  }
 },
 "nbformat": 4,
 "nbformat_minor": 5
}
