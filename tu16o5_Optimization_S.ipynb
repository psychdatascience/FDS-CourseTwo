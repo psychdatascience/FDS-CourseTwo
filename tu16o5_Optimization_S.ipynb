{
 "cells": [
  {
   "cell_type": "markdown",
   "id": "e04cf861",
   "metadata": {},
   "source": [
    "## Solution for Assigment: Find the Minimum of a Quadratic Function\n",
    "\n",
    "Consider the quadratic function:\n",
    "\n",
    "𝑓(𝑥)=𝑎𝑥2+𝑏𝑥+𝑐\n",
    "\n",
    "Your task is to write a Python program that finds the value of 𝑥 that minimizes 𝑓(𝑥) using a brute-force approach (by evaluating different values of 𝑥 and selecting the smallest function value).\n",
    "\n",
    "### Instructions:\n",
    "Define a quadratic function 𝑓(𝑥) where 𝑎=1, 𝑏=−3, 𝑐=2.\n",
    "\n",
    "Search for the minimum value of 𝑓(𝑥) over a range of 𝑥 values (e.g., between -10 and 10). Store and update the lowest function value found and the corresponding 𝑥. Print the optimal 𝑥 and the minimum function value.\n",
    "\n",
    "#### Hints:\n",
    "Use numpy.linspace() to generate a list of candidate 𝑥 values.\n",
    "Iterate over these values and compute 𝑓(𝑥)\n",
    "Keep track of the smallest 𝑓(𝑥) value you encounter."
   ]
  },
  {
   "cell_type": "code",
   "execution_count": null,
   "id": "07e63b9f",
   "metadata": {},
   "outputs": [],
   "source": [
    "import numpy as np\n",
    "\n",
    "# Define the quadratic function\n",
    "def quadratic_function(x, a=1, b=-3, c=2):\n",
    "    return a * x**2 + b * x + c\n",
    "\n",
    "# Generate a range of x values\n",
    "x_values = np.linspace(-10, 10, 1000)  # 1000 evenly spaced points from -10 to 10\n",
    "\n",
    "# Initialize variables to store the minimum value found\n",
    "min_x = None\n",
    "min_f_x = float('inf')  # Start with a very large number\n",
    "\n",
    "# Iterate through x values to find the minimum function value\n",
    "for x in x_values:\n",
    "    f_x = quadratic_function(x)\n",
    "    if f_x < min_f_x:  # Update if a lower function value is found\n",
    "        min_f_x = f_x\n",
    "        min_x = x\n",
    "\n",
    "# Print the optimal x and corresponding function value\n",
    "print(f\"Optimal x: {min_x:.4f}, Minimum f(x): {min_f_x:.4f}\")"
   ]
  },
  {
   "cell_type": "markdown",
   "id": "c3ec1de1",
   "metadata": {},
   "source": [
    "Answers to the Follow-Up Questions\n",
    "1. What happens if you change the values of 𝑎, 𝑏, and 𝑐?\n",
    "- Changing 𝑎 affects the curvature of the quadratic function (larger values make the parabola steeper, and if 𝑎 is negative, the parabola flips downward).\n",
    "- Changing 𝑏 shifts the location of the minimum left or right, as it affects the linear term in the equation.\n",
    "- Changing 𝑐 moves the entire curve up or down without changing its shape.\n",
    "\n",
    "2. Can you modify your code to find the maximum instead of the minimum?\n",
    "If 𝑎 is negative, the quadratic function forms a downward-facing parabola and has a maximum instead of a minimum.\n",
    "The same brute-force approach works: instead of tracking the smallest function value, we track the largest function value."
   ]
  },
  {
   "cell_type": "code",
   "execution_count": null,
   "id": "1ca552ea",
   "metadata": {},
   "outputs": [],
   "source": [
    "max_x = None\n",
    "max_f_x = float('-inf')  # Start with a very small number\n",
    "\n",
    "for x in x_values:\n",
    "    f_x = quadratic_function(x)\n",
    "    if f_x > max_f_x:  # Update if a higher function value is found\n",
    "        max_f_x = f_x\n",
    "        max_x = x\n",
    "\n",
    "print(f\"Optimal x: {max_x:.4f}, Maximum f(x): {max_f_x:.4f}\")"
   ]
  },
  {
   "cell_type": "markdown",
   "id": "792cb960",
   "metadata": {},
   "source": [
    "4. If you had a very large range of 𝑥, would brute force still be efficient? How could you improve it?\n",
    "Brute force is inefficient if the range of 𝑥 is large or if we require very high precision.\n",
    "Instead, we can use gradient descent, which iteratively moves toward the minimum using derivatives.\n",
    "Another efficient approach is solving for 𝑥=−𝑏/2𝑎 directly using calculus, which finds the optimal point instantly."
   ]
  },
  {
   "cell_type": "code",
   "execution_count": null,
   "id": "d67f804d",
   "metadata": {},
   "outputs": [],
   "source": []
  }
 ],
 "metadata": {
  "kernelspec": {
   "display_name": "Python 3 (ipykernel)",
   "language": "python",
   "name": "python3"
  },
  "language_info": {
   "codemirror_mode": {
    "name": "ipython",
    "version": 3
   },
   "file_extension": ".py",
   "mimetype": "text/x-python",
   "name": "python",
   "nbconvert_exporter": "python",
   "pygments_lexer": "ipython3",
   "version": "3.9.7"
  }
 },
 "nbformat": 4,
 "nbformat_minor": 5
}
